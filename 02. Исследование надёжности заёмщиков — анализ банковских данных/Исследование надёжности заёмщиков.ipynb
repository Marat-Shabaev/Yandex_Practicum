{
 "cells": [
  {
   "cell_type": "markdown",
   "metadata": {
    "toc": true
   },
   "source": [
    "<h1>Содержание<span class=\"tocSkip\"></span></h1>\n",
    "<div class=\"toc\"><ul class=\"toc-item\"><li><span><a href=\"#Общая-информация\" data-toc-modified-id=\"Общая-информация-1\"><span class=\"toc-item-num\">1&nbsp;&nbsp;</span>Общая информация</a></span></li><li><span><a href=\"#Предобработка-данных\" data-toc-modified-id=\"Предобработка-данных-2\"><span class=\"toc-item-num\">2&nbsp;&nbsp;</span>Предобработка данных</a></span><ul class=\"toc-item\"><li><span><a href=\"#Обработка-пропусков\" data-toc-modified-id=\"Обработка-пропусков-2.1\"><span class=\"toc-item-num\">2.1&nbsp;&nbsp;</span>Обработка пропусков</a></span></li><li><span><a href=\"#Замена-типа-данных\" data-toc-modified-id=\"Замена-типа-данных-2.2\"><span class=\"toc-item-num\">2.2&nbsp;&nbsp;</span>Замена типа данных</a></span></li><li><span><a href=\"#Обработка-дубликатов\" data-toc-modified-id=\"Обработка-дубликатов-2.3\"><span class=\"toc-item-num\">2.3&nbsp;&nbsp;</span>Обработка дубликатов</a></span></li><li><span><a href=\"#Лемматизация\" data-toc-modified-id=\"Лемматизация-2.4\"><span class=\"toc-item-num\">2.4&nbsp;&nbsp;</span>Лемматизация</a></span></li><li><span><a href=\"#Категоризация-данных\" data-toc-modified-id=\"Категоризация-данных-2.5\"><span class=\"toc-item-num\">2.5&nbsp;&nbsp;</span>Категоризация данных</a></span></li></ul></li><li><span><a href=\"#Ответим-на-вопросы\" data-toc-modified-id=\"Ответим-на-вопросы-3\"><span class=\"toc-item-num\">3&nbsp;&nbsp;</span>Ответим на вопросы</a></span><ul class=\"toc-item\"><li><span><a href=\"#Есть-ли-зависимость-между-наличием-детей-и-возвратом-кредита-в-срок?\" data-toc-modified-id=\"Есть-ли-зависимость-между-наличием-детей-и-возвратом-кредита-в-срок?-3.1\"><span class=\"toc-item-num\">3.1&nbsp;&nbsp;</span>Есть ли зависимость между наличием детей и возвратом кредита в срок?</a></span></li><li><span><a href=\"#Есть-ли-зависимость-между-семейным-положением-и-возвратом-кредита-в-срок?\" data-toc-modified-id=\"Есть-ли-зависимость-между-семейным-положением-и-возвратом-кредита-в-срок?-3.2\"><span class=\"toc-item-num\">3.2&nbsp;&nbsp;</span>Есть ли зависимость между семейным положением и возвратом кредита в срок?</a></span></li><li><span><a href=\"#Есть-ли-зависимость-между-уровнем-дохода-и-возвратом-кредита-в-срок?\" data-toc-modified-id=\"Есть-ли-зависимость-между-уровнем-дохода-и-возвратом-кредита-в-срок?-3.3\"><span class=\"toc-item-num\">3.3&nbsp;&nbsp;</span>Есть ли зависимость между уровнем дохода и возвратом кредита в срок?</a></span></li><li><span><a href=\"#Как-разные-цели-кредита-влияют-на-его-возврат-в-срок?\" data-toc-modified-id=\"Как-разные-цели-кредита-влияют-на-его-возврат-в-срок?-3.4\"><span class=\"toc-item-num\">3.4&nbsp;&nbsp;</span>Как разные цели кредита влияют на его возврат в срок?</a></span></li></ul></li><li><span><a href=\"#Общий-вывод\" data-toc-modified-id=\"Общий-вывод-4\"><span class=\"toc-item-num\">4&nbsp;&nbsp;</span>Общий вывод</a></span></li></ul></div>"
   ]
  },
  {
   "cell_type": "markdown",
   "metadata": {},
   "source": [
    "# Исследование надёжности заёмщиков\n",
    "\n",
    "Заказчик — кредитный отдел банка. Входные данные от банка — статистика о платёжеспособности клиентов.\n",
    "\n",
    "Цель исследования пронализировать входные данные от банка и определить как определенные характеристики клиентов влияют на степень их надёжности. А именно ответить на вопросы:\n",
    "* `\"Есть ли зависимость между наличием детей и возвратом кредита в срок?\";`\n",
    "* `\"Есть ли зависимость между семейным положением и возвратом кредита в срок?\";`\n",
    "* `\"Есть ли зависимость между уровнем дохода и возвратом кредита в срок?\";`\n",
    "* `\"Как разные цели кредита влияют на его возврат в срок?\";`\n",
    "\n",
    "А также распределить заемщиков на группы по надежности. Результаты исследования будут учтены при построении модели кредитного скоринга — специальной системы, которая оценивает способность потенциального заёмщика вернуть кредит банку.\n",
    "\n",
    "**Описание данных:**\n",
    "\n",
    "* `children` — количество детей в семье\n",
    "* `days_employed` — общий трудовой стаж в днях\n",
    "* `dob_years` — возраст клиента в годах\n",
    "* `education` — уровень образования клиента\n",
    "* `education_id` — идентификатор уровня образования\n",
    "* `family_status` — семейное положение\n",
    "* `family_status_id` — идентификатор семейного положения\n",
    "* `gender` — пол клиента\n",
    "* `income_type` — тип занятости\n",
    "* `debt` — имел ли задолженность по возврату кредитов\n",
    "* `total_income` — ежемесячный доход\n",
    "* `purpose` — цель получения кредита"
   ]
  },
  {
   "cell_type": "markdown",
   "metadata": {},
   "source": [
    "## Общая информация"
   ]
  },
  {
   "cell_type": "code",
   "execution_count": 1,
   "metadata": {},
   "outputs": [
    {
     "data": {
      "text/html": [
       "<div>\n",
       "<style scoped>\n",
       "    .dataframe tbody tr th:only-of-type {\n",
       "        vertical-align: middle;\n",
       "    }\n",
       "\n",
       "    .dataframe tbody tr th {\n",
       "        vertical-align: top;\n",
       "    }\n",
       "\n",
       "    .dataframe thead th {\n",
       "        text-align: right;\n",
       "    }\n",
       "</style>\n",
       "<table border=\"1\" class=\"dataframe\">\n",
       "  <thead>\n",
       "    <tr style=\"text-align: right;\">\n",
       "      <th></th>\n",
       "      <th>children</th>\n",
       "      <th>days_employed</th>\n",
       "      <th>dob_years</th>\n",
       "      <th>education</th>\n",
       "      <th>education_id</th>\n",
       "      <th>family_status</th>\n",
       "      <th>family_status_id</th>\n",
       "      <th>gender</th>\n",
       "      <th>income_type</th>\n",
       "      <th>debt</th>\n",
       "      <th>total_income</th>\n",
       "      <th>purpose</th>\n",
       "    </tr>\n",
       "  </thead>\n",
       "  <tbody>\n",
       "    <tr>\n",
       "      <th>0</th>\n",
       "      <td>1</td>\n",
       "      <td>-8,437.67</td>\n",
       "      <td>42</td>\n",
       "      <td>высшее</td>\n",
       "      <td>0</td>\n",
       "      <td>женат / замужем</td>\n",
       "      <td>0</td>\n",
       "      <td>F</td>\n",
       "      <td>сотрудник</td>\n",
       "      <td>0</td>\n",
       "      <td>253,875.64</td>\n",
       "      <td>покупка жилья</td>\n",
       "    </tr>\n",
       "    <tr>\n",
       "      <th>1</th>\n",
       "      <td>1</td>\n",
       "      <td>-4,024.80</td>\n",
       "      <td>36</td>\n",
       "      <td>среднее</td>\n",
       "      <td>1</td>\n",
       "      <td>женат / замужем</td>\n",
       "      <td>0</td>\n",
       "      <td>F</td>\n",
       "      <td>сотрудник</td>\n",
       "      <td>0</td>\n",
       "      <td>112,080.01</td>\n",
       "      <td>приобретение автомобиля</td>\n",
       "    </tr>\n",
       "    <tr>\n",
       "      <th>2</th>\n",
       "      <td>0</td>\n",
       "      <td>-5,623.42</td>\n",
       "      <td>33</td>\n",
       "      <td>Среднее</td>\n",
       "      <td>1</td>\n",
       "      <td>женат / замужем</td>\n",
       "      <td>0</td>\n",
       "      <td>M</td>\n",
       "      <td>сотрудник</td>\n",
       "      <td>0</td>\n",
       "      <td>145,885.95</td>\n",
       "      <td>покупка жилья</td>\n",
       "    </tr>\n",
       "    <tr>\n",
       "      <th>3</th>\n",
       "      <td>3</td>\n",
       "      <td>-4,124.75</td>\n",
       "      <td>32</td>\n",
       "      <td>среднее</td>\n",
       "      <td>1</td>\n",
       "      <td>женат / замужем</td>\n",
       "      <td>0</td>\n",
       "      <td>M</td>\n",
       "      <td>сотрудник</td>\n",
       "      <td>0</td>\n",
       "      <td>267,628.55</td>\n",
       "      <td>дополнительное образование</td>\n",
       "    </tr>\n",
       "    <tr>\n",
       "      <th>4</th>\n",
       "      <td>0</td>\n",
       "      <td>340,266.07</td>\n",
       "      <td>53</td>\n",
       "      <td>среднее</td>\n",
       "      <td>1</td>\n",
       "      <td>гражданский брак</td>\n",
       "      <td>1</td>\n",
       "      <td>F</td>\n",
       "      <td>пенсионер</td>\n",
       "      <td>0</td>\n",
       "      <td>158,616.08</td>\n",
       "      <td>сыграть свадьбу</td>\n",
       "    </tr>\n",
       "    <tr>\n",
       "      <th>5</th>\n",
       "      <td>0</td>\n",
       "      <td>-926.19</td>\n",
       "      <td>27</td>\n",
       "      <td>высшее</td>\n",
       "      <td>0</td>\n",
       "      <td>гражданский брак</td>\n",
       "      <td>1</td>\n",
       "      <td>M</td>\n",
       "      <td>компаньон</td>\n",
       "      <td>0</td>\n",
       "      <td>255,763.57</td>\n",
       "      <td>покупка жилья</td>\n",
       "    </tr>\n",
       "    <tr>\n",
       "      <th>6</th>\n",
       "      <td>0</td>\n",
       "      <td>-2,879.20</td>\n",
       "      <td>43</td>\n",
       "      <td>высшее</td>\n",
       "      <td>0</td>\n",
       "      <td>женат / замужем</td>\n",
       "      <td>0</td>\n",
       "      <td>F</td>\n",
       "      <td>компаньон</td>\n",
       "      <td>0</td>\n",
       "      <td>240,525.97</td>\n",
       "      <td>операции с жильем</td>\n",
       "    </tr>\n",
       "    <tr>\n",
       "      <th>7</th>\n",
       "      <td>0</td>\n",
       "      <td>-152.78</td>\n",
       "      <td>50</td>\n",
       "      <td>СРЕДНЕЕ</td>\n",
       "      <td>1</td>\n",
       "      <td>женат / замужем</td>\n",
       "      <td>0</td>\n",
       "      <td>M</td>\n",
       "      <td>сотрудник</td>\n",
       "      <td>0</td>\n",
       "      <td>135,823.93</td>\n",
       "      <td>образование</td>\n",
       "    </tr>\n",
       "    <tr>\n",
       "      <th>8</th>\n",
       "      <td>2</td>\n",
       "      <td>-6,929.87</td>\n",
       "      <td>35</td>\n",
       "      <td>ВЫСШЕЕ</td>\n",
       "      <td>0</td>\n",
       "      <td>гражданский брак</td>\n",
       "      <td>1</td>\n",
       "      <td>F</td>\n",
       "      <td>сотрудник</td>\n",
       "      <td>0</td>\n",
       "      <td>95,856.83</td>\n",
       "      <td>на проведение свадьбы</td>\n",
       "    </tr>\n",
       "    <tr>\n",
       "      <th>9</th>\n",
       "      <td>0</td>\n",
       "      <td>-2,188.76</td>\n",
       "      <td>41</td>\n",
       "      <td>среднее</td>\n",
       "      <td>1</td>\n",
       "      <td>женат / замужем</td>\n",
       "      <td>0</td>\n",
       "      <td>M</td>\n",
       "      <td>сотрудник</td>\n",
       "      <td>0</td>\n",
       "      <td>144,425.94</td>\n",
       "      <td>покупка жилья для семьи</td>\n",
       "    </tr>\n",
       "  </tbody>\n",
       "</table>\n",
       "</div>"
      ],
      "text/plain": [
       "   children  days_employed  dob_years education  education_id  \\\n",
       "0         1      -8,437.67         42    высшее             0   \n",
       "1         1      -4,024.80         36   среднее             1   \n",
       "2         0      -5,623.42         33   Среднее             1   \n",
       "3         3      -4,124.75         32   среднее             1   \n",
       "4         0     340,266.07         53   среднее             1   \n",
       "5         0        -926.19         27    высшее             0   \n",
       "6         0      -2,879.20         43    высшее             0   \n",
       "7         0        -152.78         50   СРЕДНЕЕ             1   \n",
       "8         2      -6,929.87         35    ВЫСШЕЕ             0   \n",
       "9         0      -2,188.76         41   среднее             1   \n",
       "\n",
       "      family_status  family_status_id gender income_type  debt  total_income  \\\n",
       "0   женат / замужем                 0      F   сотрудник     0    253,875.64   \n",
       "1   женат / замужем                 0      F   сотрудник     0    112,080.01   \n",
       "2   женат / замужем                 0      M   сотрудник     0    145,885.95   \n",
       "3   женат / замужем                 0      M   сотрудник     0    267,628.55   \n",
       "4  гражданский брак                 1      F   пенсионер     0    158,616.08   \n",
       "5  гражданский брак                 1      M   компаньон     0    255,763.57   \n",
       "6   женат / замужем                 0      F   компаньон     0    240,525.97   \n",
       "7   женат / замужем                 0      M   сотрудник     0    135,823.93   \n",
       "8  гражданский брак                 1      F   сотрудник     0     95,856.83   \n",
       "9   женат / замужем                 0      M   сотрудник     0    144,425.94   \n",
       "\n",
       "                      purpose  \n",
       "0               покупка жилья  \n",
       "1     приобретение автомобиля  \n",
       "2               покупка жилья  \n",
       "3  дополнительное образование  \n",
       "4             сыграть свадьбу  \n",
       "5               покупка жилья  \n",
       "6           операции с жильем  \n",
       "7                 образование  \n",
       "8       на проведение свадьбы  \n",
       "9     покупка жилья для семьи  "
      ]
     },
     "execution_count": 1,
     "metadata": {},
     "output_type": "execute_result"
    }
   ],
   "source": [
    "import pandas as pd\n",
    "from pymystem3 import Mystem\n",
    "from collections import Counter\n",
    "import seaborn\n",
    "df = pd.read_csv('/datasets/data.csv')\n",
    "pd.set_option('display.float_format', '{:,.2f}'.format)\n",
    "df.head(10)# получение первых 10 строк таблицы df"
   ]
  },
  {
   "cell_type": "code",
   "execution_count": 2,
   "metadata": {},
   "outputs": [
    {
     "name": "stdout",
     "output_type": "stream",
     "text": [
      "<class 'pandas.core.frame.DataFrame'>\n",
      "RangeIndex: 21525 entries, 0 to 21524\n",
      "Data columns (total 12 columns):\n",
      " #   Column            Non-Null Count  Dtype  \n",
      "---  ------            --------------  -----  \n",
      " 0   children          21525 non-null  int64  \n",
      " 1   days_employed     19351 non-null  float64\n",
      " 2   dob_years         21525 non-null  int64  \n",
      " 3   education         21525 non-null  object \n",
      " 4   education_id      21525 non-null  int64  \n",
      " 5   family_status     21525 non-null  object \n",
      " 6   family_status_id  21525 non-null  int64  \n",
      " 7   gender            21525 non-null  object \n",
      " 8   income_type       21525 non-null  object \n",
      " 9   debt              21525 non-null  int64  \n",
      " 10  total_income      19351 non-null  float64\n",
      " 11  purpose           21525 non-null  object \n",
      "dtypes: float64(2), int64(5), object(5)\n",
      "memory usage: 2.0+ MB\n"
     ]
    }
   ],
   "source": [
    "df.info()# получение общей информации о данных в таблице df"
   ]
  },
  {
   "cell_type": "markdown",
   "metadata": {},
   "source": [
    "В таблице 21471 строк и 12 столбцов: \n",
    "Типы данных в столбцах таблицы: строки - 5, целые числа - 5, вещественные числа - 2. В данных есть пропущенные значения."
   ]
  },
  {
   "cell_type": "code",
   "execution_count": 3,
   "metadata": {},
   "outputs": [
    {
     "data": {
      "text/plain": [
       "children               0\n",
       "days_employed       2174\n",
       "dob_years              0\n",
       "education              0\n",
       "education_id           0\n",
       "family_status          0\n",
       "family_status_id       0\n",
       "gender                 0\n",
       "income_type            0\n",
       "debt                   0\n",
       "total_income        2174\n",
       "purpose                0\n",
       "dtype: int64"
      ]
     },
     "execution_count": 3,
     "metadata": {},
     "output_type": "execute_result"
    }
   ],
   "source": [
    "df.isna().sum()# подсчёт пропусков"
   ]
  },
  {
   "cell_type": "markdown",
   "metadata": {},
   "source": [
    "В столбцах `days_employed` (общий трудовой стаж в днях) и `total_income`(ежемесячный доход) отсутствуют по 2174 значений соотвественно."
   ]
  },
  {
   "cell_type": "markdown",
   "metadata": {},
   "source": [
    "**Вывод**\n",
    "\n",
    "Для ответов на поставленные вопросы:\n",
    "* `1.\"Есть ли зависимость между наличием детей и возвратом кредита в срок?\";`\n",
    "* `2.\"Есть ли зависимость между семейным положением и возвратом кредита в срок?\";`\n",
    "* `3.\"Есть ли зависимость между уровнем дохода и возвратом кредита в срок?\";`\n",
    "* `4.\"Как разные цели кредита влияют на его возврат в срок?\";`\n",
    "\n",
    "понадобяться данные из колонок `children`, `family_status`, `family_status_id`, `total_income`, `purpose` и `debt`. \n",
    "\n",
    "В колонке `total_income`(ежемесячный доход) отсутсвуют 2120 значений, что является около 10% от всех полученных данных. Игнорирование такого объема данных снизить точность исследования в третьем вопросе(`\"Есть ли зависимость между уровнем дохода и возвратом кредита в срок?\"`). Кроме того значения в данной колонке(ежемесячный доход) занчения указаны в долях копейки и имеют  тип данных float64, следует их округлить до рубля, привести к целочисленному типу данных int64. Также следует леммитизировать и категоризировать данные в  колонках `purpose` и `total_income` для упрощения и повышения точности анализа, при ответе на 3 и 4 вопросы."
   ]
  },
  {
   "cell_type": "markdown",
   "metadata": {},
   "source": [
    "##  Предобработка данных"
   ]
  },
  {
   "cell_type": "markdown",
   "metadata": {},
   "source": [
    "### Обработка пропусков"
   ]
  },
  {
   "cell_type": "code",
   "execution_count": 4,
   "metadata": {},
   "outputs": [
    {
     "data": {
      "text/html": [
       "<div>\n",
       "<style scoped>\n",
       "    .dataframe tbody tr th:only-of-type {\n",
       "        vertical-align: middle;\n",
       "    }\n",
       "\n",
       "    .dataframe tbody tr th {\n",
       "        vertical-align: top;\n",
       "    }\n",
       "\n",
       "    .dataframe thead th {\n",
       "        text-align: right;\n",
       "    }\n",
       "</style>\n",
       "<table border=\"1\" class=\"dataframe\">\n",
       "  <thead>\n",
       "    <tr style=\"text-align: right;\">\n",
       "      <th></th>\n",
       "      <th>children</th>\n",
       "      <th>days_employed</th>\n",
       "      <th>dob_years</th>\n",
       "      <th>education_id</th>\n",
       "      <th>family_status_id</th>\n",
       "      <th>debt</th>\n",
       "      <th>total_income</th>\n",
       "    </tr>\n",
       "  </thead>\n",
       "  <tbody>\n",
       "    <tr>\n",
       "      <th>count</th>\n",
       "      <td>21,525.00</td>\n",
       "      <td>19,351.00</td>\n",
       "      <td>21,525.00</td>\n",
       "      <td>21,525.00</td>\n",
       "      <td>21,525.00</td>\n",
       "      <td>21,525.00</td>\n",
       "      <td>19,351.00</td>\n",
       "    </tr>\n",
       "    <tr>\n",
       "      <th>mean</th>\n",
       "      <td>0.54</td>\n",
       "      <td>63,046.50</td>\n",
       "      <td>43.29</td>\n",
       "      <td>0.82</td>\n",
       "      <td>0.97</td>\n",
       "      <td>0.08</td>\n",
       "      <td>167,422.30</td>\n",
       "    </tr>\n",
       "    <tr>\n",
       "      <th>std</th>\n",
       "      <td>1.38</td>\n",
       "      <td>140,827.31</td>\n",
       "      <td>12.57</td>\n",
       "      <td>0.55</td>\n",
       "      <td>1.42</td>\n",
       "      <td>0.27</td>\n",
       "      <td>102,971.57</td>\n",
       "    </tr>\n",
       "    <tr>\n",
       "      <th>min</th>\n",
       "      <td>-1.00</td>\n",
       "      <td>-18,388.95</td>\n",
       "      <td>0.00</td>\n",
       "      <td>0.00</td>\n",
       "      <td>0.00</td>\n",
       "      <td>0.00</td>\n",
       "      <td>20,667.26</td>\n",
       "    </tr>\n",
       "    <tr>\n",
       "      <th>25%</th>\n",
       "      <td>0.00</td>\n",
       "      <td>-2,747.42</td>\n",
       "      <td>33.00</td>\n",
       "      <td>1.00</td>\n",
       "      <td>0.00</td>\n",
       "      <td>0.00</td>\n",
       "      <td>103,053.15</td>\n",
       "    </tr>\n",
       "    <tr>\n",
       "      <th>50%</th>\n",
       "      <td>0.00</td>\n",
       "      <td>-1,203.37</td>\n",
       "      <td>42.00</td>\n",
       "      <td>1.00</td>\n",
       "      <td>0.00</td>\n",
       "      <td>0.00</td>\n",
       "      <td>145,017.94</td>\n",
       "    </tr>\n",
       "    <tr>\n",
       "      <th>75%</th>\n",
       "      <td>1.00</td>\n",
       "      <td>-291.10</td>\n",
       "      <td>53.00</td>\n",
       "      <td>1.00</td>\n",
       "      <td>1.00</td>\n",
       "      <td>0.00</td>\n",
       "      <td>203,435.07</td>\n",
       "    </tr>\n",
       "    <tr>\n",
       "      <th>max</th>\n",
       "      <td>20.00</td>\n",
       "      <td>401,755.40</td>\n",
       "      <td>75.00</td>\n",
       "      <td>4.00</td>\n",
       "      <td>4.00</td>\n",
       "      <td>1.00</td>\n",
       "      <td>2,265,604.03</td>\n",
       "    </tr>\n",
       "  </tbody>\n",
       "</table>\n",
       "</div>"
      ],
      "text/plain": [
       "       children  days_employed  dob_years  education_id  family_status_id  \\\n",
       "count 21,525.00      19,351.00  21,525.00     21,525.00         21,525.00   \n",
       "mean       0.54      63,046.50      43.29          0.82              0.97   \n",
       "std        1.38     140,827.31      12.57          0.55              1.42   \n",
       "min       -1.00     -18,388.95       0.00          0.00              0.00   \n",
       "25%        0.00      -2,747.42      33.00          1.00              0.00   \n",
       "50%        0.00      -1,203.37      42.00          1.00              0.00   \n",
       "75%        1.00        -291.10      53.00          1.00              1.00   \n",
       "max       20.00     401,755.40      75.00          4.00              4.00   \n",
       "\n",
       "           debt  total_income  \n",
       "count 21,525.00     19,351.00  \n",
       "mean       0.08    167,422.30  \n",
       "std        0.27    102,971.57  \n",
       "min        0.00     20,667.26  \n",
       "25%        0.00    103,053.15  \n",
       "50%        0.00    145,017.94  \n",
       "75%        0.00    203,435.07  \n",
       "max        1.00  2,265,604.03  "
      ]
     },
     "execution_count": 4,
     "metadata": {},
     "output_type": "execute_result"
    }
   ],
   "source": [
    "df.describe()"
   ]
  },
  {
   "cell_type": "markdown",
   "metadata": {},
   "source": [
    "В столбце days_employed есть отрицательные значения и аномально большие значения"
   ]
  },
  {
   "cell_type": "code",
   "execution_count": 5,
   "metadata": {},
   "outputs": [],
   "source": [
    "df['days_employed'] = df['days_employed'].abs()# модуль по столбцу"
   ]
  },
  {
   "cell_type": "code",
   "execution_count": 6,
   "metadata": {},
   "outputs": [
    {
     "data": {
      "text/plain": [
       "count    19,351.00\n",
       "mean     66,914.73\n",
       "std     139,030.88\n",
       "min          24.14\n",
       "25%         927.01\n",
       "50%       2,194.22\n",
       "75%       5,537.88\n",
       "max     401,755.40\n",
       "Name: days_employed, dtype: float64"
      ]
     },
     "execution_count": 6,
     "metadata": {},
     "output_type": "execute_result"
    }
   ],
   "source": [
    "df['days_employed'].describe()"
   ]
  },
  {
   "cell_type": "markdown",
   "metadata": {},
   "source": [
    "Найдем возможный максимальный стаж работы самого возрастного клиента, при условии, что он работал с 16 лет"
   ]
  },
  {
   "cell_type": "code",
   "execution_count": 7,
   "metadata": {},
   "outputs": [
    {
     "data": {
      "text/plain": [
       "21535"
      ]
     },
     "execution_count": 7,
     "metadata": {},
     "output_type": "execute_result"
    }
   ],
   "source": [
    "max_days_of_employment = (df['dob_years'].max() - 16) * 365\n",
    "max_days_of_employment"
   ]
  },
  {
   "cell_type": "code",
   "execution_count": 8,
   "metadata": {},
   "outputs": [
    {
     "data": {
      "text/plain": [
       "3445"
      ]
     },
     "execution_count": 8,
     "metadata": {},
     "output_type": "execute_result"
    }
   ],
   "source": [
    "df[df['days_employed'] > 21535]['days_employed'].count()"
   ]
  },
  {
   "cell_type": "markdown",
   "metadata": {},
   "source": [
    "3445 значений работавших более 60 лет. Это значения не в днях, а в часах. Переведем в дни."
   ]
  },
  {
   "cell_type": "code",
   "execution_count": 9,
   "metadata": {},
   "outputs": [],
   "source": [
    "def days(days):     \n",
    "    if days > 21535:\n",
    "        return days / 24\n",
    "    return days    \n",
    "df['days_employed'] = df['days_employed'].apply(days)"
   ]
  },
  {
   "cell_type": "code",
   "execution_count": 10,
   "metadata": {},
   "outputs": [
    {
     "data": {
      "text/html": [
       "<div>\n",
       "<style scoped>\n",
       "    .dataframe tbody tr th:only-of-type {\n",
       "        vertical-align: middle;\n",
       "    }\n",
       "\n",
       "    .dataframe tbody tr th {\n",
       "        vertical-align: top;\n",
       "    }\n",
       "\n",
       "    .dataframe thead th {\n",
       "        text-align: right;\n",
       "    }\n",
       "</style>\n",
       "<table border=\"1\" class=\"dataframe\">\n",
       "  <thead>\n",
       "    <tr style=\"text-align: right;\">\n",
       "      <th></th>\n",
       "      <th>days_employed</th>\n",
       "    </tr>\n",
       "    <tr>\n",
       "      <th>income_type</th>\n",
       "      <th></th>\n",
       "    </tr>\n",
       "  </thead>\n",
       "  <tbody>\n",
       "    <tr>\n",
       "      <th>безработный</th>\n",
       "      <td>15,267.24</td>\n",
       "    </tr>\n",
       "    <tr>\n",
       "      <th>в декрете</th>\n",
       "      <td>3,296.76</td>\n",
       "    </tr>\n",
       "    <tr>\n",
       "      <th>госслужащий</th>\n",
       "      <td>3,399.90</td>\n",
       "    </tr>\n",
       "    <tr>\n",
       "      <th>компаньон</th>\n",
       "      <td>2,111.52</td>\n",
       "    </tr>\n",
       "    <tr>\n",
       "      <th>пенсионер</th>\n",
       "      <td>15,208.48</td>\n",
       "    </tr>\n",
       "    <tr>\n",
       "      <th>предприниматель</th>\n",
       "      <td>520.85</td>\n",
       "    </tr>\n",
       "    <tr>\n",
       "      <th>сотрудник</th>\n",
       "      <td>2,326.50</td>\n",
       "    </tr>\n",
       "    <tr>\n",
       "      <th>студент</th>\n",
       "      <td>578.75</td>\n",
       "    </tr>\n",
       "  </tbody>\n",
       "</table>\n",
       "</div>"
      ],
      "text/plain": [
       "                 days_employed\n",
       "income_type                   \n",
       "безработный          15,267.24\n",
       "в декрете             3,296.76\n",
       "госслужащий           3,399.90\n",
       "компаньон             2,111.52\n",
       "пенсионер            15,208.48\n",
       "предприниматель         520.85\n",
       "сотрудник             2,326.50\n",
       "студент                 578.75"
      ]
     },
     "execution_count": 10,
     "metadata": {},
     "output_type": "execute_result"
    }
   ],
   "source": [
    "days_income_pivot = df.pivot_table(index='income_type', values='days_employed', aggfunc='mean')\n",
    "days_income_pivot"
   ]
  },
  {
   "cell_type": "code",
   "execution_count": 11,
   "metadata": {
    "scrolled": true
   },
   "outputs": [
    {
     "data": {
      "text/html": [
       "<div>\n",
       "<style scoped>\n",
       "    .dataframe tbody tr th:only-of-type {\n",
       "        vertical-align: middle;\n",
       "    }\n",
       "\n",
       "    .dataframe tbody tr th {\n",
       "        vertical-align: top;\n",
       "    }\n",
       "\n",
       "    .dataframe thead th {\n",
       "        text-align: right;\n",
       "    }\n",
       "</style>\n",
       "<table border=\"1\" class=\"dataframe\">\n",
       "  <thead>\n",
       "    <tr style=\"text-align: right;\">\n",
       "      <th></th>\n",
       "      <th>children</th>\n",
       "      <th>days_employed</th>\n",
       "      <th>dob_years</th>\n",
       "      <th>education</th>\n",
       "      <th>education_id</th>\n",
       "      <th>family_status</th>\n",
       "      <th>family_status_id</th>\n",
       "      <th>gender</th>\n",
       "      <th>income_type</th>\n",
       "      <th>debt</th>\n",
       "      <th>total_income</th>\n",
       "      <th>purpose</th>\n",
       "    </tr>\n",
       "  </thead>\n",
       "  <tbody>\n",
       "    <tr>\n",
       "      <th>3133</th>\n",
       "      <td>1</td>\n",
       "      <td>14,063.52</td>\n",
       "      <td>31</td>\n",
       "      <td>среднее</td>\n",
       "      <td>1</td>\n",
       "      <td>женат / замужем</td>\n",
       "      <td>0</td>\n",
       "      <td>M</td>\n",
       "      <td>безработный</td>\n",
       "      <td>1</td>\n",
       "      <td>59,956.99</td>\n",
       "      <td>покупка жилья для сдачи</td>\n",
       "    </tr>\n",
       "    <tr>\n",
       "      <th>14798</th>\n",
       "      <td>0</td>\n",
       "      <td>16,470.95</td>\n",
       "      <td>45</td>\n",
       "      <td>Высшее</td>\n",
       "      <td>0</td>\n",
       "      <td>гражданский брак</td>\n",
       "      <td>1</td>\n",
       "      <td>F</td>\n",
       "      <td>безработный</td>\n",
       "      <td>0</td>\n",
       "      <td>202,722.51</td>\n",
       "      <td>ремонт жилью</td>\n",
       "    </tr>\n",
       "  </tbody>\n",
       "</table>\n",
       "</div>"
      ],
      "text/plain": [
       "       children  days_employed  dob_years education  education_id  \\\n",
       "3133          1      14,063.52         31   среднее             1   \n",
       "14798         0      16,470.95         45    Высшее             0   \n",
       "\n",
       "          family_status  family_status_id gender  income_type  debt  \\\n",
       "3133    женат / замужем                 0      M  безработный     1   \n",
       "14798  гражданский брак                 1      F  безработный     0   \n",
       "\n",
       "       total_income                  purpose  \n",
       "3133      59,956.99  покупка жилья для сдачи  \n",
       "14798    202,722.51             ремонт жилью  "
      ]
     },
     "execution_count": 11,
     "metadata": {},
     "output_type": "execute_result"
    }
   ],
   "source": [
    "df.loc[df.loc[:,'income_type'] == 'безработный']"
   ]
  },
  {
   "cell_type": "markdown",
   "metadata": {},
   "source": [
    "Многие работают дольше чем живут. Проверим сколько таких."
   ]
  },
  {
   "cell_type": "code",
   "execution_count": 12,
   "metadata": {},
   "outputs": [
    {
     "data": {
      "text/plain": [
       "days_employed    145\n",
       "dtype: int64"
      ]
     },
     "execution_count": 12,
     "metadata": {},
     "output_type": "execute_result"
    }
   ],
   "source": [
    "df[(df['dob_years']*365 - df['days_employed']) < 0][['days_employed']].count()"
   ]
  },
  {
   "cell_type": "markdown",
   "metadata": {},
   "source": [
    "Менее одного процента. Не дожно повлять на данные, к тому же столбец не используется. Значения стажа безработных заменим на нули. Пропуски заменим медианой в соответствии с типом занятости."
   ]
  },
  {
   "cell_type": "code",
   "execution_count": 13,
   "metadata": {},
   "outputs": [],
   "source": [
    "df.loc[3133, 'days_employed'] = 0\n",
    "df.loc[14798, 'days_employed'] = 0"
   ]
  },
  {
   "cell_type": "code",
   "execution_count": 14,
   "metadata": {},
   "outputs": [
    {
     "data": {
      "text/plain": [
       "income_type\n",
       "безработный            0.00\n",
       "в декрете          3,296.76\n",
       "госслужащий        2,689.37\n",
       "компаньон          1,547.38\n",
       "пенсионер         15,217.22\n",
       "предприниматель      520.85\n",
       "сотрудник          1,574.20\n",
       "студент              578.75\n",
       "Name: days_employed, dtype: float64"
      ]
     },
     "execution_count": 14,
     "metadata": {},
     "output_type": "execute_result"
    }
   ],
   "source": [
    "med_days=df.groupby('income_type')['days_employed'].median()\n",
    "med_days"
   ]
  },
  {
   "cell_type": "code",
   "execution_count": 15,
   "metadata": {},
   "outputs": [],
   "source": [
    "for income_type in med_days.index:\n",
    "    df.loc[(df['days_employed'].isna()) & (df['income_type'] == income_type), 'days_employed'] = med_days.loc[income_type]"
   ]
  },
  {
   "cell_type": "markdown",
   "metadata": {},
   "source": [
    "Также заменими пропуски в столбце дохода, медианой в соответствии с типом занятости."
   ]
  },
  {
   "cell_type": "code",
   "execution_count": 16,
   "metadata": {},
   "outputs": [
    {
     "data": {
      "text/plain": [
       "income_type\n",
       "безработный       131,339.75\n",
       "в декрете          53,829.13\n",
       "госслужащий       150,447.94\n",
       "компаньон         172,357.95\n",
       "пенсионер         118,514.49\n",
       "предприниматель   499,163.14\n",
       "сотрудник         142,594.40\n",
       "студент            98,201.63\n",
       "Name: total_income, dtype: float64"
      ]
     },
     "execution_count": 16,
     "metadata": {},
     "output_type": "execute_result"
    }
   ],
   "source": [
    "med_income=df.groupby('income_type')['total_income'].median()\n",
    "med_income"
   ]
  },
  {
   "cell_type": "code",
   "execution_count": 17,
   "metadata": {},
   "outputs": [],
   "source": [
    "for income_type in med_income.index:\n",
    "    df.loc[(df['total_income'].isna()) & (df['income_type'] == income_type), 'total_income'] = med_income.loc[income_type]"
   ]
  },
  {
   "cell_type": "code",
   "execution_count": 18,
   "metadata": {},
   "outputs": [
    {
     "name": "stdout",
     "output_type": "stream",
     "text": [
      "<class 'pandas.core.frame.DataFrame'>\n",
      "RangeIndex: 21525 entries, 0 to 21524\n",
      "Data columns (total 12 columns):\n",
      " #   Column            Non-Null Count  Dtype  \n",
      "---  ------            --------------  -----  \n",
      " 0   children          21525 non-null  int64  \n",
      " 1   days_employed     21525 non-null  float64\n",
      " 2   dob_years         21525 non-null  int64  \n",
      " 3   education         21525 non-null  object \n",
      " 4   education_id      21525 non-null  int64  \n",
      " 5   family_status     21525 non-null  object \n",
      " 6   family_status_id  21525 non-null  int64  \n",
      " 7   gender            21525 non-null  object \n",
      " 8   income_type       21525 non-null  object \n",
      " 9   debt              21525 non-null  int64  \n",
      " 10  total_income      21525 non-null  float64\n",
      " 11  purpose           21525 non-null  object \n",
      "dtypes: float64(2), int64(5), object(5)\n",
      "memory usage: 2.0+ MB\n"
     ]
    }
   ],
   "source": [
    "df.info()"
   ]
  },
  {
   "cell_type": "markdown",
   "metadata": {},
   "source": [
    "**Вывод**\n",
    "\n",
    "Обнаружили и скорректировали отрицательные и аномальные значения в столбце days_employed. Заполнили пропуски медианными значениями по типу занятости. Пропущенные данные скорее всего появились вследствие ошибки выгрузки, или какой-либо другой технической ошибки."
   ]
  },
  {
   "cell_type": "markdown",
   "metadata": {},
   "source": [
    "### Замена типа данных"
   ]
  },
  {
   "cell_type": "code",
   "execution_count": 19,
   "metadata": {},
   "outputs": [],
   "source": [
    "df['total_income'] = df['total_income'].astype('int')#замена типа данных на целочисленный\n",
    "df['days_employed'] = df['days_employed'].astype('int')#замена типа данных на целочисленный"
   ]
  },
  {
   "cell_type": "code",
   "execution_count": 20,
   "metadata": {},
   "outputs": [
    {
     "name": "stdout",
     "output_type": "stream",
     "text": [
      "<class 'pandas.core.frame.DataFrame'>\n",
      "RangeIndex: 21525 entries, 0 to 21524\n",
      "Data columns (total 12 columns):\n",
      " #   Column            Non-Null Count  Dtype \n",
      "---  ------            --------------  ----- \n",
      " 0   children          21525 non-null  int64 \n",
      " 1   days_employed     21525 non-null  int64 \n",
      " 2   dob_years         21525 non-null  int64 \n",
      " 3   education         21525 non-null  object\n",
      " 4   education_id      21525 non-null  int64 \n",
      " 5   family_status     21525 non-null  object\n",
      " 6   family_status_id  21525 non-null  int64 \n",
      " 7   gender            21525 non-null  object\n",
      " 8   income_type       21525 non-null  object\n",
      " 9   debt              21525 non-null  int64 \n",
      " 10  total_income      21525 non-null  int64 \n",
      " 11  purpose           21525 non-null  object\n",
      "dtypes: int64(7), object(5)\n",
      "memory usage: 2.0+ MB\n"
     ]
    }
   ],
   "source": [
    "df.info() #проверка, тип данных заменен"
   ]
  },
  {
   "cell_type": "markdown",
   "metadata": {},
   "source": [
    "**Вывод**\n",
    "Тип данных был заменен на целочисленный универсальным методом astype(), т.к. все значения NaN заменены, можно использовать этот метод. "
   ]
  },
  {
   "cell_type": "markdown",
   "metadata": {},
   "source": [
    "### Обработка дубликатов"
   ]
  },
  {
   "cell_type": "code",
   "execution_count": 21,
   "metadata": {},
   "outputs": [
    {
     "data": {
      "text/plain": [
       "среднее                13750\n",
       "высшее                  4718\n",
       "СРЕДНЕЕ                  772\n",
       "Среднее                  711\n",
       "неоконченное высшее      668\n",
       "ВЫСШЕЕ                   274\n",
       "Высшее                   268\n",
       "начальное                250\n",
       "Неоконченное высшее       47\n",
       "НЕОКОНЧЕННОЕ ВЫСШЕЕ       29\n",
       "НАЧАЛЬНОЕ                 17\n",
       "Начальное                 15\n",
       "ученая степень             4\n",
       "Ученая степень             1\n",
       "УЧЕНАЯ СТЕПЕНЬ             1\n",
       "Name: education, dtype: int64"
      ]
     },
     "execution_count": 21,
     "metadata": {},
     "output_type": "execute_result"
    }
   ],
   "source": [
    "df['education'].value_counts()"
   ]
  },
  {
   "cell_type": "markdown",
   "metadata": {},
   "source": [
    "В столбце образование разный регистр"
   ]
  },
  {
   "cell_type": "code",
   "execution_count": 22,
   "metadata": {},
   "outputs": [],
   "source": [
    "df['education'] = df['education'].str.lower()# приведем к нижнему регистру"
   ]
  },
  {
   "cell_type": "code",
   "execution_count": 23,
   "metadata": {},
   "outputs": [
    {
     "data": {
      "text/plain": [
       "71"
      ]
     },
     "execution_count": 23,
     "metadata": {},
     "output_type": "execute_result"
    }
   ],
   "source": [
    "df.duplicated().sum() # подсчёт явных дубликатов"
   ]
  },
  {
   "cell_type": "code",
   "execution_count": 24,
   "metadata": {},
   "outputs": [],
   "source": [
    "df = df.drop_duplicates().reset_index(drop=True)# удаление явных дубликатов (с удалением старых индексов и формированием новых)"
   ]
  },
  {
   "cell_type": "code",
   "execution_count": 25,
   "metadata": {},
   "outputs": [
    {
     "data": {
      "text/plain": [
       "0"
      ]
     },
     "execution_count": 25,
     "metadata": {},
     "output_type": "execute_result"
    }
   ],
   "source": [
    "df.duplicated().sum()#проверка"
   ]
  },
  {
   "cell_type": "code",
   "execution_count": 26,
   "metadata": {},
   "outputs": [
    {
     "data": {
      "text/plain": [
       "['Не женат / не замужем',\n",
       " 'в разводе',\n",
       " 'вдовец / вдова',\n",
       " 'гражданский брак',\n",
       " 'женат / замужем']"
      ]
     },
     "execution_count": 26,
     "metadata": {},
     "output_type": "execute_result"
    }
   ],
   "source": [
    "sorted(df['family_status'].unique()) # Просмотр уникальных значений в столбце 'семейное положение'"
   ]
  },
  {
   "cell_type": "markdown",
   "metadata": {},
   "source": [
    "Значения в столбце 'семейное положение' категоризированы с юридической точки зрения"
   ]
  },
  {
   "cell_type": "code",
   "execution_count": 27,
   "metadata": {},
   "outputs": [
    {
     "data": {
      "text/plain": [
       "[-1, 0, 1, 2, 3, 4, 5, 20]"
      ]
     },
     "execution_count": 27,
     "metadata": {},
     "output_type": "execute_result"
    }
   ],
   "source": [
    "sorted(df['children'].unique()) # Просмотр уникальных значений в столбце 'количество детей в семье'"
   ]
  },
  {
   "cell_type": "markdown",
   "metadata": {},
   "source": [
    "В данном ряду выделяются два значения: отрицательное количество детей - (-1) и большое значение - (20). "
   ]
  },
  {
   "cell_type": "code",
   "execution_count": 28,
   "metadata": {},
   "outputs": [
    {
     "name": "stdout",
     "output_type": "stream",
     "text": [
      " 0     14091\n",
      " 1      4808\n",
      " 2      2052\n",
      " 3       330\n",
      " 20       76\n",
      "-1        47\n",
      " 4        41\n",
      " 5         9\n",
      "Name: children, dtype: int64\n"
     ]
    }
   ],
   "source": [
    "print(df['children'].value_counts()) #Подсчет уникальных значений"
   ]
  },
  {
   "cell_type": "markdown",
   "metadata": {},
   "source": [
    "Появление отрицательного значения детей однозначно является технической ошибкой, ошибкой ввода данных и т.п. Заменим значение на положительное. В РФ существует одна семья с двадцатью детьми, внесенная в Реестр рекордов России как самая многодетная, также есть несколько семей растящие большое количество приемных детей. В общем это тоже ошибка в данных, исходное значение 2 или 0. Будем считать что 2."
   ]
  },
  {
   "cell_type": "code",
   "execution_count": 29,
   "metadata": {},
   "outputs": [],
   "source": [
    "df['children'] = df['children'].replace(20, 2)# Замена некорректных значений"
   ]
  },
  {
   "cell_type": "code",
   "execution_count": 30,
   "metadata": {},
   "outputs": [],
   "source": [
    "df['children'] = df['children'].replace(-1, 1)# Замена некорректных значений"
   ]
  },
  {
   "cell_type": "code",
   "execution_count": 31,
   "metadata": {},
   "outputs": [
    {
     "name": "stdout",
     "output_type": "stream",
     "text": [
      "0    14091\n",
      "1     4855\n",
      "2     2128\n",
      "3      330\n",
      "4       41\n",
      "5        9\n",
      "Name: children, dtype: int64\n"
     ]
    }
   ],
   "source": [
    "print(df['children'].value_counts()) #проверка"
   ]
  },
  {
   "cell_type": "code",
   "execution_count": 32,
   "metadata": {},
   "outputs": [
    {
     "data": {
      "text/plain": [
       "[0, 1, 2, 3, 4]"
      ]
     },
     "execution_count": 32,
     "metadata": {},
     "output_type": "execute_result"
    }
   ],
   "source": [
    "sorted(df['family_status_id'].unique())# Просмотр уникальных значений в столбце 'идентификатор семейного положения'"
   ]
  },
  {
   "cell_type": "code",
   "execution_count": 33,
   "metadata": {
    "scrolled": false
   },
   "outputs": [
    {
     "data": {
      "text/plain": [
       "['автомобили',\n",
       " 'автомобиль',\n",
       " 'высшее образование',\n",
       " 'дополнительное образование',\n",
       " 'жилье',\n",
       " 'заняться высшим образованием',\n",
       " 'заняться образованием',\n",
       " 'на покупку автомобиля',\n",
       " 'на покупку подержанного автомобиля',\n",
       " 'на покупку своего автомобиля',\n",
       " 'на проведение свадьбы',\n",
       " 'недвижимость',\n",
       " 'образование',\n",
       " 'операции с жильем',\n",
       " 'операции с коммерческой недвижимостью',\n",
       " 'операции с недвижимостью',\n",
       " 'операции со своей недвижимостью',\n",
       " 'покупка жилой недвижимости',\n",
       " 'покупка жилья',\n",
       " 'покупка жилья для сдачи',\n",
       " 'покупка жилья для семьи',\n",
       " 'покупка коммерческой недвижимости',\n",
       " 'покупка недвижимости',\n",
       " 'покупка своего жилья',\n",
       " 'получение высшего образования',\n",
       " 'получение дополнительного образования',\n",
       " 'получение образования',\n",
       " 'приобретение автомобиля',\n",
       " 'профильное образование',\n",
       " 'ремонт жилью',\n",
       " 'свадьба',\n",
       " 'свой автомобиль',\n",
       " 'сделка с автомобилем',\n",
       " 'сделка с подержанным автомобилем',\n",
       " 'строительство жилой недвижимости',\n",
       " 'строительство недвижимости',\n",
       " 'строительство собственной недвижимости',\n",
       " 'сыграть свадьбу']"
      ]
     },
     "execution_count": 33,
     "metadata": {},
     "output_type": "execute_result"
    }
   ],
   "source": [
    "sorted(df['purpose'].unique())# Просмотр уникальных значений в столбце 'цель получения кредита'"
   ]
  },
  {
   "cell_type": "markdown",
   "metadata": {},
   "source": [
    "**Вывод**\n",
    "В даном разделе были выявлены и удалены явные дубликаты, а также некорректные значения, вызванные техническими ошибками. В столбце 'purpose' присутствует много уникальных значений, имеющих одну и ту же категорию цели получения кредита. Следует провести лемматизацию в значениях столбца и сгруппировать данные в более конкретные категории. "
   ]
  },
  {
   "cell_type": "markdown",
   "metadata": {},
   "source": [
    "### Лемматизация"
   ]
  },
  {
   "cell_type": "code",
   "execution_count": 34,
   "metadata": {
    "scrolled": true
   },
   "outputs": [
    {
     "name": "stdout",
     "output_type": "stream",
     "text": [
      "['автомобиль', ' ', 'автомобиль', ' ', 'высокий', ' ', 'образование', ' ', 'дополнительный', ' ', 'образование', ' ', 'жилье', ' ', 'заниматься', ' ', 'высокий', ' ', 'образование', ' ', 'заниматься', ' ', 'образование', ' ', 'на', ' ', 'покупка', ' ', 'автомобиль', ' ', 'на', ' ', 'покупка', ' ', 'подержать', ' ', 'автомобиль', ' ', 'на', ' ', 'покупка', ' ', 'свой', ' ', 'автомобиль', ' ', 'на', ' ', 'проведение', ' ', 'свадьба', ' ', 'недвижимость', ' ', 'образование', ' ', 'операция', ' ', 'с', ' ', 'жилье', ' ', 'операция', ' ', 'с', ' ', 'коммерческий', ' ', 'недвижимость', ' ', 'операция', ' ', 'с', ' ', 'недвижимость', ' ', 'операция', ' ', 'со', ' ', 'свой', ' ', 'недвижимость', ' ', 'покупка', ' ', 'жилой', ' ', 'недвижимость', ' ', 'покупка', ' ', 'жилье', ' ', 'покупка', ' ', 'жилье', ' ', 'для', ' ', 'сдача', ' ', 'покупка', ' ', 'жилье', ' ', 'для', ' ', 'семья', ' ', 'покупка', ' ', 'коммерческий', ' ', 'недвижимость', ' ', 'покупка', ' ', 'недвижимость', ' ', 'покупка', ' ', 'свой', ' ', 'жилье', ' ', 'получение', ' ', 'высокий', ' ', 'образование', ' ', 'получение', ' ', 'дополнительный', ' ', 'образование', ' ', 'получение', ' ', 'образование', ' ', 'приобретение', ' ', 'автомобиль', ' ', 'профильный', ' ', 'образование', ' ', 'ремонт', ' ', 'жилье', ' ', 'свадьба', ' ', 'свой', ' ', 'автомобиль', ' ', 'сделка', ' ', 'с', ' ', 'автомобиль', ' ', 'сделка', ' ', 'с', ' ', 'подержать', ' ', 'автомобиль', ' ', 'строительство', ' ', 'жилой', ' ', 'недвижимость', ' ', 'строительство', ' ', 'недвижимость', ' ', 'строительство', ' ', 'собственный', ' ', 'недвижимость', ' ', 'сыграть', ' ', 'свадьба', '\\n']\n"
     ]
    }
   ],
   "source": [
    "m = Mystem()\n",
    "text = ' '.join(sorted(df['purpose'].unique()))\n",
    "lemmas = m.lemmatize(text)\n",
    "print(lemmas) #Вывод лемм столбца 'цель получения кредита'"
   ]
  },
  {
   "cell_type": "code",
   "execution_count": 35,
   "metadata": {},
   "outputs": [
    {
     "name": "stdout",
     "output_type": "stream",
     "text": [
      "Counter({' ': 96, 'покупка': 10, 'недвижимость': 10, 'автомобиль': 9, 'образование': 9, 'жилье': 7, 'с': 5, 'на': 4, 'свой': 4, 'операция': 4, 'высокий': 3, 'свадьба': 3, 'получение': 3, 'строительство': 3, 'дополнительный': 2, 'заниматься': 2, 'подержать': 2, 'коммерческий': 2, 'жилой': 2, 'для': 2, 'сделка': 2, 'проведение': 1, 'со': 1, 'сдача': 1, 'семья': 1, 'приобретение': 1, 'профильный': 1, 'ремонт': 1, 'собственный': 1, 'сыграть': 1, '\\n': 1})\n"
     ]
    }
   ],
   "source": [
    "from collections import Counter\n",
    "print(Counter(lemmas)) #подсчёт числа лемм."
   ]
  },
  {
   "cell_type": "markdown",
   "metadata": {},
   "source": [
    "**Вывод**\n",
    "Для выделения лемм отбросим все глаголы, прилагательные и предлоги. Выделим основные категории получения кредита. Полученные леммы: недвижимость автомобиль образование свадьба жилье."
   ]
  },
  {
   "cell_type": "markdown",
   "metadata": {},
   "source": [
    "### Категоризация данных"
   ]
  },
  {
   "cell_type": "markdown",
   "metadata": {},
   "source": [
    "Категоризируем столбец 'purpose' используя выделенные ранее леммы:"
   ]
  },
  {
   "cell_type": "code",
   "execution_count": 36,
   "metadata": {},
   "outputs": [
    {
     "name": "stdout",
     "output_type": "stream",
     "text": [
      "<class 'pandas.core.frame.DataFrame'>\n",
      "RangeIndex: 21454 entries, 0 to 21453\n",
      "Data columns (total 13 columns):\n",
      " #   Column            Non-Null Count  Dtype \n",
      "---  ------            --------------  ----- \n",
      " 0   children          21454 non-null  int64 \n",
      " 1   days_employed     21454 non-null  int64 \n",
      " 2   dob_years         21454 non-null  int64 \n",
      " 3   education         21454 non-null  object\n",
      " 4   education_id      21454 non-null  int64 \n",
      " 5   family_status     21454 non-null  object\n",
      " 6   family_status_id  21454 non-null  int64 \n",
      " 7   gender            21454 non-null  object\n",
      " 8   income_type       21454 non-null  object\n",
      " 9   debt              21454 non-null  int64 \n",
      " 10  total_income      21454 non-null  int64 \n",
      " 11  purpose           21454 non-null  object\n",
      " 12  purpose_cat       21454 non-null  object\n",
      "dtypes: int64(7), object(6)\n",
      "memory usage: 2.1+ MB\n"
     ]
    }
   ],
   "source": [
    "final_category = ['недвижимость', 'автомобиль', 'образование', 'свадьба', 'жилье']\n",
    "def purp_cat(purpose): #функция для лемматизации столбца 'purpose'\n",
    "    lemmas = m.lemmatize(purpose)\n",
    "    for category in final_category:\n",
    "        if category in lemmas:\n",
    "            return category# возвращает категорию из final_category, принятую из значений  столбца 'purpose'\n",
    "    return Nonе\n",
    "df['purpose_cat'] = df['purpose'].apply(purp_cat) #Добавляем столбец с категориями к датафрейму\n",
    "df.info()"
   ]
  },
  {
   "cell_type": "markdown",
   "metadata": {},
   "source": [
    "Жилье и недвижимость это одна и таже категория. Объединим их в одну."
   ]
  },
  {
   "cell_type": "code",
   "execution_count": 37,
   "metadata": {},
   "outputs": [],
   "source": [
    "df['purpose_cat'] = df['purpose_cat'].replace('жилье', 'недвижимость')#замена 'жилье' на 'недвижимость'"
   ]
  },
  {
   "cell_type": "code",
   "execution_count": 38,
   "metadata": {},
   "outputs": [
    {
     "data": {
      "text/html": [
       "<div>\n",
       "<style scoped>\n",
       "    .dataframe tbody tr th:only-of-type {\n",
       "        vertical-align: middle;\n",
       "    }\n",
       "\n",
       "    .dataframe tbody tr th {\n",
       "        vertical-align: top;\n",
       "    }\n",
       "\n",
       "    .dataframe thead th {\n",
       "        text-align: right;\n",
       "    }\n",
       "</style>\n",
       "<table border=\"1\" class=\"dataframe\">\n",
       "  <thead>\n",
       "    <tr style=\"text-align: right;\">\n",
       "      <th></th>\n",
       "      <th>children</th>\n",
       "      <th>days_employed</th>\n",
       "      <th>dob_years</th>\n",
       "      <th>education</th>\n",
       "      <th>education_id</th>\n",
       "      <th>family_status</th>\n",
       "      <th>family_status_id</th>\n",
       "      <th>gender</th>\n",
       "      <th>income_type</th>\n",
       "      <th>debt</th>\n",
       "      <th>total_income</th>\n",
       "      <th>purpose</th>\n",
       "      <th>purpose_cat</th>\n",
       "    </tr>\n",
       "  </thead>\n",
       "  <tbody>\n",
       "    <tr>\n",
       "      <th>0</th>\n",
       "      <td>1</td>\n",
       "      <td>8437</td>\n",
       "      <td>42</td>\n",
       "      <td>высшее</td>\n",
       "      <td>0</td>\n",
       "      <td>женат / замужем</td>\n",
       "      <td>0</td>\n",
       "      <td>F</td>\n",
       "      <td>сотрудник</td>\n",
       "      <td>0</td>\n",
       "      <td>253875</td>\n",
       "      <td>покупка жилья</td>\n",
       "      <td>недвижимость</td>\n",
       "    </tr>\n",
       "    <tr>\n",
       "      <th>1</th>\n",
       "      <td>1</td>\n",
       "      <td>4024</td>\n",
       "      <td>36</td>\n",
       "      <td>среднее</td>\n",
       "      <td>1</td>\n",
       "      <td>женат / замужем</td>\n",
       "      <td>0</td>\n",
       "      <td>F</td>\n",
       "      <td>сотрудник</td>\n",
       "      <td>0</td>\n",
       "      <td>112080</td>\n",
       "      <td>приобретение автомобиля</td>\n",
       "      <td>автомобиль</td>\n",
       "    </tr>\n",
       "    <tr>\n",
       "      <th>2</th>\n",
       "      <td>0</td>\n",
       "      <td>5623</td>\n",
       "      <td>33</td>\n",
       "      <td>среднее</td>\n",
       "      <td>1</td>\n",
       "      <td>женат / замужем</td>\n",
       "      <td>0</td>\n",
       "      <td>M</td>\n",
       "      <td>сотрудник</td>\n",
       "      <td>0</td>\n",
       "      <td>145885</td>\n",
       "      <td>покупка жилья</td>\n",
       "      <td>недвижимость</td>\n",
       "    </tr>\n",
       "    <tr>\n",
       "      <th>3</th>\n",
       "      <td>3</td>\n",
       "      <td>4124</td>\n",
       "      <td>32</td>\n",
       "      <td>среднее</td>\n",
       "      <td>1</td>\n",
       "      <td>женат / замужем</td>\n",
       "      <td>0</td>\n",
       "      <td>M</td>\n",
       "      <td>сотрудник</td>\n",
       "      <td>0</td>\n",
       "      <td>267628</td>\n",
       "      <td>дополнительное образование</td>\n",
       "      <td>образование</td>\n",
       "    </tr>\n",
       "    <tr>\n",
       "      <th>4</th>\n",
       "      <td>0</td>\n",
       "      <td>14177</td>\n",
       "      <td>53</td>\n",
       "      <td>среднее</td>\n",
       "      <td>1</td>\n",
       "      <td>гражданский брак</td>\n",
       "      <td>1</td>\n",
       "      <td>F</td>\n",
       "      <td>пенсионер</td>\n",
       "      <td>0</td>\n",
       "      <td>158616</td>\n",
       "      <td>сыграть свадьбу</td>\n",
       "      <td>свадьба</td>\n",
       "    </tr>\n",
       "    <tr>\n",
       "      <th>5</th>\n",
       "      <td>0</td>\n",
       "      <td>926</td>\n",
       "      <td>27</td>\n",
       "      <td>высшее</td>\n",
       "      <td>0</td>\n",
       "      <td>гражданский брак</td>\n",
       "      <td>1</td>\n",
       "      <td>M</td>\n",
       "      <td>компаньон</td>\n",
       "      <td>0</td>\n",
       "      <td>255763</td>\n",
       "      <td>покупка жилья</td>\n",
       "      <td>недвижимость</td>\n",
       "    </tr>\n",
       "    <tr>\n",
       "      <th>6</th>\n",
       "      <td>0</td>\n",
       "      <td>2879</td>\n",
       "      <td>43</td>\n",
       "      <td>высшее</td>\n",
       "      <td>0</td>\n",
       "      <td>женат / замужем</td>\n",
       "      <td>0</td>\n",
       "      <td>F</td>\n",
       "      <td>компаньон</td>\n",
       "      <td>0</td>\n",
       "      <td>240525</td>\n",
       "      <td>операции с жильем</td>\n",
       "      <td>недвижимость</td>\n",
       "    </tr>\n",
       "    <tr>\n",
       "      <th>7</th>\n",
       "      <td>0</td>\n",
       "      <td>152</td>\n",
       "      <td>50</td>\n",
       "      <td>среднее</td>\n",
       "      <td>1</td>\n",
       "      <td>женат / замужем</td>\n",
       "      <td>0</td>\n",
       "      <td>M</td>\n",
       "      <td>сотрудник</td>\n",
       "      <td>0</td>\n",
       "      <td>135823</td>\n",
       "      <td>образование</td>\n",
       "      <td>образование</td>\n",
       "    </tr>\n",
       "    <tr>\n",
       "      <th>8</th>\n",
       "      <td>2</td>\n",
       "      <td>6929</td>\n",
       "      <td>35</td>\n",
       "      <td>высшее</td>\n",
       "      <td>0</td>\n",
       "      <td>гражданский брак</td>\n",
       "      <td>1</td>\n",
       "      <td>F</td>\n",
       "      <td>сотрудник</td>\n",
       "      <td>0</td>\n",
       "      <td>95856</td>\n",
       "      <td>на проведение свадьбы</td>\n",
       "      <td>свадьба</td>\n",
       "    </tr>\n",
       "    <tr>\n",
       "      <th>9</th>\n",
       "      <td>0</td>\n",
       "      <td>2188</td>\n",
       "      <td>41</td>\n",
       "      <td>среднее</td>\n",
       "      <td>1</td>\n",
       "      <td>женат / замужем</td>\n",
       "      <td>0</td>\n",
       "      <td>M</td>\n",
       "      <td>сотрудник</td>\n",
       "      <td>0</td>\n",
       "      <td>144425</td>\n",
       "      <td>покупка жилья для семьи</td>\n",
       "      <td>недвижимость</td>\n",
       "    </tr>\n",
       "  </tbody>\n",
       "</table>\n",
       "</div>"
      ],
      "text/plain": [
       "   children  days_employed  dob_years education  education_id  \\\n",
       "0         1           8437         42    высшее             0   \n",
       "1         1           4024         36   среднее             1   \n",
       "2         0           5623         33   среднее             1   \n",
       "3         3           4124         32   среднее             1   \n",
       "4         0          14177         53   среднее             1   \n",
       "5         0            926         27    высшее             0   \n",
       "6         0           2879         43    высшее             0   \n",
       "7         0            152         50   среднее             1   \n",
       "8         2           6929         35    высшее             0   \n",
       "9         0           2188         41   среднее             1   \n",
       "\n",
       "      family_status  family_status_id gender income_type  debt  total_income  \\\n",
       "0   женат / замужем                 0      F   сотрудник     0        253875   \n",
       "1   женат / замужем                 0      F   сотрудник     0        112080   \n",
       "2   женат / замужем                 0      M   сотрудник     0        145885   \n",
       "3   женат / замужем                 0      M   сотрудник     0        267628   \n",
       "4  гражданский брак                 1      F   пенсионер     0        158616   \n",
       "5  гражданский брак                 1      M   компаньон     0        255763   \n",
       "6   женат / замужем                 0      F   компаньон     0        240525   \n",
       "7   женат / замужем                 0      M   сотрудник     0        135823   \n",
       "8  гражданский брак                 1      F   сотрудник     0         95856   \n",
       "9   женат / замужем                 0      M   сотрудник     0        144425   \n",
       "\n",
       "                      purpose   purpose_cat  \n",
       "0               покупка жилья  недвижимость  \n",
       "1     приобретение автомобиля    автомобиль  \n",
       "2               покупка жилья  недвижимость  \n",
       "3  дополнительное образование   образование  \n",
       "4             сыграть свадьбу       свадьба  \n",
       "5               покупка жилья  недвижимость  \n",
       "6           операции с жильем  недвижимость  \n",
       "7                 образование   образование  \n",
       "8       на проведение свадьбы       свадьба  \n",
       "9     покупка жилья для семьи  недвижимость  "
      ]
     },
     "execution_count": 38,
     "metadata": {},
     "output_type": "execute_result"
    }
   ],
   "source": [
    "df.head(10)"
   ]
  },
  {
   "cell_type": "markdown",
   "metadata": {},
   "source": [
    "Категоризируем total_income по уровню дохода. Уровнень дохода обычно определяется как общий доход всех членов семьи, разделенный на количество членов семьи, в том числе несовершеннолетних детей и лиц находящихся на иждевении. Т.к. в данных отстутствуют сведения о количестве несовершеннолетних детей будем считать 'total_income' общим уровнем дохода. Определим три категории дохода низший, средний, высший класс, без деления классов  на подкатегории. Будем ориентироваться на исследование аналитического кредитного рейтингового агентства(АКРА),  «Основные мАКРАтренды: рост региональной дифференциации в России», согласно которому, для принадлежности к среднему классу, в Москве нужно иметь уровень дохода от 121 тыс. рублей, для регионов - минимум  60 тыс. рублей соответсвенно. Высокий доход определим, как доход более чем вдвое превышаеший средний показатель. "
   ]
  },
  {
   "cell_type": "code",
   "execution_count": 39,
   "metadata": {},
   "outputs": [],
   "source": [
    "def income_group(income): #функция для категоризации столбца 'total_income' по уровню дохода     \n",
    "    if income <= 60000:\n",
    "        return 'низкий доход'\n",
    "    if income <= 121000:\n",
    "        return 'средний доход'\n",
    "    return 'высокий доход' \n",
    "df['total_income_cat'] = df['total_income'].apply(income_group)#Добавляем столбец с категориями к датафрейму"
   ]
  },
  {
   "cell_type": "code",
   "execution_count": 40,
   "metadata": {},
   "outputs": [
    {
     "data": {
      "text/html": [
       "<div>\n",
       "<style scoped>\n",
       "    .dataframe tbody tr th:only-of-type {\n",
       "        vertical-align: middle;\n",
       "    }\n",
       "\n",
       "    .dataframe tbody tr th {\n",
       "        vertical-align: top;\n",
       "    }\n",
       "\n",
       "    .dataframe thead th {\n",
       "        text-align: right;\n",
       "    }\n",
       "</style>\n",
       "<table border=\"1\" class=\"dataframe\">\n",
       "  <thead>\n",
       "    <tr style=\"text-align: right;\">\n",
       "      <th></th>\n",
       "      <th>children</th>\n",
       "      <th>days_employed</th>\n",
       "      <th>dob_years</th>\n",
       "      <th>education</th>\n",
       "      <th>education_id</th>\n",
       "      <th>family_status</th>\n",
       "      <th>family_status_id</th>\n",
       "      <th>gender</th>\n",
       "      <th>income_type</th>\n",
       "      <th>debt</th>\n",
       "      <th>total_income</th>\n",
       "      <th>purpose</th>\n",
       "      <th>purpose_cat</th>\n",
       "      <th>total_income_cat</th>\n",
       "    </tr>\n",
       "  </thead>\n",
       "  <tbody>\n",
       "    <tr>\n",
       "      <th>0</th>\n",
       "      <td>1</td>\n",
       "      <td>8437</td>\n",
       "      <td>42</td>\n",
       "      <td>высшее</td>\n",
       "      <td>0</td>\n",
       "      <td>женат / замужем</td>\n",
       "      <td>0</td>\n",
       "      <td>F</td>\n",
       "      <td>сотрудник</td>\n",
       "      <td>0</td>\n",
       "      <td>253875</td>\n",
       "      <td>покупка жилья</td>\n",
       "      <td>недвижимость</td>\n",
       "      <td>высокий доход</td>\n",
       "    </tr>\n",
       "    <tr>\n",
       "      <th>1</th>\n",
       "      <td>1</td>\n",
       "      <td>4024</td>\n",
       "      <td>36</td>\n",
       "      <td>среднее</td>\n",
       "      <td>1</td>\n",
       "      <td>женат / замужем</td>\n",
       "      <td>0</td>\n",
       "      <td>F</td>\n",
       "      <td>сотрудник</td>\n",
       "      <td>0</td>\n",
       "      <td>112080</td>\n",
       "      <td>приобретение автомобиля</td>\n",
       "      <td>автомобиль</td>\n",
       "      <td>средний доход</td>\n",
       "    </tr>\n",
       "    <tr>\n",
       "      <th>2</th>\n",
       "      <td>0</td>\n",
       "      <td>5623</td>\n",
       "      <td>33</td>\n",
       "      <td>среднее</td>\n",
       "      <td>1</td>\n",
       "      <td>женат / замужем</td>\n",
       "      <td>0</td>\n",
       "      <td>M</td>\n",
       "      <td>сотрудник</td>\n",
       "      <td>0</td>\n",
       "      <td>145885</td>\n",
       "      <td>покупка жилья</td>\n",
       "      <td>недвижимость</td>\n",
       "      <td>высокий доход</td>\n",
       "    </tr>\n",
       "    <tr>\n",
       "      <th>3</th>\n",
       "      <td>3</td>\n",
       "      <td>4124</td>\n",
       "      <td>32</td>\n",
       "      <td>среднее</td>\n",
       "      <td>1</td>\n",
       "      <td>женат / замужем</td>\n",
       "      <td>0</td>\n",
       "      <td>M</td>\n",
       "      <td>сотрудник</td>\n",
       "      <td>0</td>\n",
       "      <td>267628</td>\n",
       "      <td>дополнительное образование</td>\n",
       "      <td>образование</td>\n",
       "      <td>высокий доход</td>\n",
       "    </tr>\n",
       "    <tr>\n",
       "      <th>4</th>\n",
       "      <td>0</td>\n",
       "      <td>14177</td>\n",
       "      <td>53</td>\n",
       "      <td>среднее</td>\n",
       "      <td>1</td>\n",
       "      <td>гражданский брак</td>\n",
       "      <td>1</td>\n",
       "      <td>F</td>\n",
       "      <td>пенсионер</td>\n",
       "      <td>0</td>\n",
       "      <td>158616</td>\n",
       "      <td>сыграть свадьбу</td>\n",
       "      <td>свадьба</td>\n",
       "      <td>высокий доход</td>\n",
       "    </tr>\n",
       "    <tr>\n",
       "      <th>5</th>\n",
       "      <td>0</td>\n",
       "      <td>926</td>\n",
       "      <td>27</td>\n",
       "      <td>высшее</td>\n",
       "      <td>0</td>\n",
       "      <td>гражданский брак</td>\n",
       "      <td>1</td>\n",
       "      <td>M</td>\n",
       "      <td>компаньон</td>\n",
       "      <td>0</td>\n",
       "      <td>255763</td>\n",
       "      <td>покупка жилья</td>\n",
       "      <td>недвижимость</td>\n",
       "      <td>высокий доход</td>\n",
       "    </tr>\n",
       "    <tr>\n",
       "      <th>6</th>\n",
       "      <td>0</td>\n",
       "      <td>2879</td>\n",
       "      <td>43</td>\n",
       "      <td>высшее</td>\n",
       "      <td>0</td>\n",
       "      <td>женат / замужем</td>\n",
       "      <td>0</td>\n",
       "      <td>F</td>\n",
       "      <td>компаньон</td>\n",
       "      <td>0</td>\n",
       "      <td>240525</td>\n",
       "      <td>операции с жильем</td>\n",
       "      <td>недвижимость</td>\n",
       "      <td>высокий доход</td>\n",
       "    </tr>\n",
       "    <tr>\n",
       "      <th>7</th>\n",
       "      <td>0</td>\n",
       "      <td>152</td>\n",
       "      <td>50</td>\n",
       "      <td>среднее</td>\n",
       "      <td>1</td>\n",
       "      <td>женат / замужем</td>\n",
       "      <td>0</td>\n",
       "      <td>M</td>\n",
       "      <td>сотрудник</td>\n",
       "      <td>0</td>\n",
       "      <td>135823</td>\n",
       "      <td>образование</td>\n",
       "      <td>образование</td>\n",
       "      <td>высокий доход</td>\n",
       "    </tr>\n",
       "    <tr>\n",
       "      <th>8</th>\n",
       "      <td>2</td>\n",
       "      <td>6929</td>\n",
       "      <td>35</td>\n",
       "      <td>высшее</td>\n",
       "      <td>0</td>\n",
       "      <td>гражданский брак</td>\n",
       "      <td>1</td>\n",
       "      <td>F</td>\n",
       "      <td>сотрудник</td>\n",
       "      <td>0</td>\n",
       "      <td>95856</td>\n",
       "      <td>на проведение свадьбы</td>\n",
       "      <td>свадьба</td>\n",
       "      <td>средний доход</td>\n",
       "    </tr>\n",
       "    <tr>\n",
       "      <th>9</th>\n",
       "      <td>0</td>\n",
       "      <td>2188</td>\n",
       "      <td>41</td>\n",
       "      <td>среднее</td>\n",
       "      <td>1</td>\n",
       "      <td>женат / замужем</td>\n",
       "      <td>0</td>\n",
       "      <td>M</td>\n",
       "      <td>сотрудник</td>\n",
       "      <td>0</td>\n",
       "      <td>144425</td>\n",
       "      <td>покупка жилья для семьи</td>\n",
       "      <td>недвижимость</td>\n",
       "      <td>высокий доход</td>\n",
       "    </tr>\n",
       "  </tbody>\n",
       "</table>\n",
       "</div>"
      ],
      "text/plain": [
       "   children  days_employed  dob_years education  education_id  \\\n",
       "0         1           8437         42    высшее             0   \n",
       "1         1           4024         36   среднее             1   \n",
       "2         0           5623         33   среднее             1   \n",
       "3         3           4124         32   среднее             1   \n",
       "4         0          14177         53   среднее             1   \n",
       "5         0            926         27    высшее             0   \n",
       "6         0           2879         43    высшее             0   \n",
       "7         0            152         50   среднее             1   \n",
       "8         2           6929         35    высшее             0   \n",
       "9         0           2188         41   среднее             1   \n",
       "\n",
       "      family_status  family_status_id gender income_type  debt  total_income  \\\n",
       "0   женат / замужем                 0      F   сотрудник     0        253875   \n",
       "1   женат / замужем                 0      F   сотрудник     0        112080   \n",
       "2   женат / замужем                 0      M   сотрудник     0        145885   \n",
       "3   женат / замужем                 0      M   сотрудник     0        267628   \n",
       "4  гражданский брак                 1      F   пенсионер     0        158616   \n",
       "5  гражданский брак                 1      M   компаньон     0        255763   \n",
       "6   женат / замужем                 0      F   компаньон     0        240525   \n",
       "7   женат / замужем                 0      M   сотрудник     0        135823   \n",
       "8  гражданский брак                 1      F   сотрудник     0         95856   \n",
       "9   женат / замужем                 0      M   сотрудник     0        144425   \n",
       "\n",
       "                      purpose   purpose_cat total_income_cat  \n",
       "0               покупка жилья  недвижимость    высокий доход  \n",
       "1     приобретение автомобиля    автомобиль    средний доход  \n",
       "2               покупка жилья  недвижимость    высокий доход  \n",
       "3  дополнительное образование   образование    высокий доход  \n",
       "4             сыграть свадьбу       свадьба    высокий доход  \n",
       "5               покупка жилья  недвижимость    высокий доход  \n",
       "6           операции с жильем  недвижимость    высокий доход  \n",
       "7                 образование   образование    высокий доход  \n",
       "8       на проведение свадьбы       свадьба    средний доход  \n",
       "9     покупка жилья для семьи  недвижимость    высокий доход  "
      ]
     },
     "execution_count": 40,
     "metadata": {},
     "output_type": "execute_result"
    }
   ],
   "source": [
    "df.head(10)#проверка"
   ]
  },
  {
   "cell_type": "code",
   "execution_count": 41,
   "metadata": {},
   "outputs": [
    {
     "data": {
      "text/plain": [
       "высокий доход    14121\n",
       "средний доход     6527\n",
       "низкий доход       806\n",
       "Name: total_income_cat, dtype: int64"
      ]
     },
     "execution_count": 41,
     "metadata": {},
     "output_type": "execute_result"
    }
   ],
   "source": [
    "df['total_income_cat'].value_counts()#Подсчет значений"
   ]
  },
  {
   "cell_type": "markdown",
   "metadata": {},
   "source": [
    "Категоризирум столбец 'children' — количество детей в семье, по категориям принятым в РФ. Многодетной семьей считается семья с количеством несовершеннолетних детей больше двух. При категоризации данного столбца будем считать всех детей несовершеннолетними."
   ]
  },
  {
   "cell_type": "code",
   "execution_count": 42,
   "metadata": {},
   "outputs": [],
   "source": [
    "def children_cat(children):     \n",
    "    if children >= 2:\n",
    "        return 'многодетная'\n",
    "    if children > 0:\n",
    "        return 'малодетная'\n",
    "    return 'нет детей' \n",
    "df['children_cat'] = df['children'].apply(children_cat)"
   ]
  },
  {
   "cell_type": "code",
   "execution_count": 43,
   "metadata": {},
   "outputs": [
    {
     "data": {
      "text/html": [
       "<div>\n",
       "<style scoped>\n",
       "    .dataframe tbody tr th:only-of-type {\n",
       "        vertical-align: middle;\n",
       "    }\n",
       "\n",
       "    .dataframe tbody tr th {\n",
       "        vertical-align: top;\n",
       "    }\n",
       "\n",
       "    .dataframe thead th {\n",
       "        text-align: right;\n",
       "    }\n",
       "</style>\n",
       "<table border=\"1\" class=\"dataframe\">\n",
       "  <thead>\n",
       "    <tr style=\"text-align: right;\">\n",
       "      <th></th>\n",
       "      <th>children</th>\n",
       "      <th>days_employed</th>\n",
       "      <th>dob_years</th>\n",
       "      <th>education</th>\n",
       "      <th>education_id</th>\n",
       "      <th>family_status</th>\n",
       "      <th>family_status_id</th>\n",
       "      <th>gender</th>\n",
       "      <th>income_type</th>\n",
       "      <th>debt</th>\n",
       "      <th>total_income</th>\n",
       "      <th>purpose</th>\n",
       "      <th>purpose_cat</th>\n",
       "      <th>total_income_cat</th>\n",
       "      <th>children_cat</th>\n",
       "    </tr>\n",
       "  </thead>\n",
       "  <tbody>\n",
       "    <tr>\n",
       "      <th>0</th>\n",
       "      <td>1</td>\n",
       "      <td>8437</td>\n",
       "      <td>42</td>\n",
       "      <td>высшее</td>\n",
       "      <td>0</td>\n",
       "      <td>женат / замужем</td>\n",
       "      <td>0</td>\n",
       "      <td>F</td>\n",
       "      <td>сотрудник</td>\n",
       "      <td>0</td>\n",
       "      <td>253875</td>\n",
       "      <td>покупка жилья</td>\n",
       "      <td>недвижимость</td>\n",
       "      <td>высокий доход</td>\n",
       "      <td>малодетная</td>\n",
       "    </tr>\n",
       "    <tr>\n",
       "      <th>1</th>\n",
       "      <td>1</td>\n",
       "      <td>4024</td>\n",
       "      <td>36</td>\n",
       "      <td>среднее</td>\n",
       "      <td>1</td>\n",
       "      <td>женат / замужем</td>\n",
       "      <td>0</td>\n",
       "      <td>F</td>\n",
       "      <td>сотрудник</td>\n",
       "      <td>0</td>\n",
       "      <td>112080</td>\n",
       "      <td>приобретение автомобиля</td>\n",
       "      <td>автомобиль</td>\n",
       "      <td>средний доход</td>\n",
       "      <td>малодетная</td>\n",
       "    </tr>\n",
       "    <tr>\n",
       "      <th>2</th>\n",
       "      <td>0</td>\n",
       "      <td>5623</td>\n",
       "      <td>33</td>\n",
       "      <td>среднее</td>\n",
       "      <td>1</td>\n",
       "      <td>женат / замужем</td>\n",
       "      <td>0</td>\n",
       "      <td>M</td>\n",
       "      <td>сотрудник</td>\n",
       "      <td>0</td>\n",
       "      <td>145885</td>\n",
       "      <td>покупка жилья</td>\n",
       "      <td>недвижимость</td>\n",
       "      <td>высокий доход</td>\n",
       "      <td>нет детей</td>\n",
       "    </tr>\n",
       "    <tr>\n",
       "      <th>3</th>\n",
       "      <td>3</td>\n",
       "      <td>4124</td>\n",
       "      <td>32</td>\n",
       "      <td>среднее</td>\n",
       "      <td>1</td>\n",
       "      <td>женат / замужем</td>\n",
       "      <td>0</td>\n",
       "      <td>M</td>\n",
       "      <td>сотрудник</td>\n",
       "      <td>0</td>\n",
       "      <td>267628</td>\n",
       "      <td>дополнительное образование</td>\n",
       "      <td>образование</td>\n",
       "      <td>высокий доход</td>\n",
       "      <td>многодетная</td>\n",
       "    </tr>\n",
       "    <tr>\n",
       "      <th>4</th>\n",
       "      <td>0</td>\n",
       "      <td>14177</td>\n",
       "      <td>53</td>\n",
       "      <td>среднее</td>\n",
       "      <td>1</td>\n",
       "      <td>гражданский брак</td>\n",
       "      <td>1</td>\n",
       "      <td>F</td>\n",
       "      <td>пенсионер</td>\n",
       "      <td>0</td>\n",
       "      <td>158616</td>\n",
       "      <td>сыграть свадьбу</td>\n",
       "      <td>свадьба</td>\n",
       "      <td>высокий доход</td>\n",
       "      <td>нет детей</td>\n",
       "    </tr>\n",
       "    <tr>\n",
       "      <th>5</th>\n",
       "      <td>0</td>\n",
       "      <td>926</td>\n",
       "      <td>27</td>\n",
       "      <td>высшее</td>\n",
       "      <td>0</td>\n",
       "      <td>гражданский брак</td>\n",
       "      <td>1</td>\n",
       "      <td>M</td>\n",
       "      <td>компаньон</td>\n",
       "      <td>0</td>\n",
       "      <td>255763</td>\n",
       "      <td>покупка жилья</td>\n",
       "      <td>недвижимость</td>\n",
       "      <td>высокий доход</td>\n",
       "      <td>нет детей</td>\n",
       "    </tr>\n",
       "    <tr>\n",
       "      <th>6</th>\n",
       "      <td>0</td>\n",
       "      <td>2879</td>\n",
       "      <td>43</td>\n",
       "      <td>высшее</td>\n",
       "      <td>0</td>\n",
       "      <td>женат / замужем</td>\n",
       "      <td>0</td>\n",
       "      <td>F</td>\n",
       "      <td>компаньон</td>\n",
       "      <td>0</td>\n",
       "      <td>240525</td>\n",
       "      <td>операции с жильем</td>\n",
       "      <td>недвижимость</td>\n",
       "      <td>высокий доход</td>\n",
       "      <td>нет детей</td>\n",
       "    </tr>\n",
       "    <tr>\n",
       "      <th>7</th>\n",
       "      <td>0</td>\n",
       "      <td>152</td>\n",
       "      <td>50</td>\n",
       "      <td>среднее</td>\n",
       "      <td>1</td>\n",
       "      <td>женат / замужем</td>\n",
       "      <td>0</td>\n",
       "      <td>M</td>\n",
       "      <td>сотрудник</td>\n",
       "      <td>0</td>\n",
       "      <td>135823</td>\n",
       "      <td>образование</td>\n",
       "      <td>образование</td>\n",
       "      <td>высокий доход</td>\n",
       "      <td>нет детей</td>\n",
       "    </tr>\n",
       "    <tr>\n",
       "      <th>8</th>\n",
       "      <td>2</td>\n",
       "      <td>6929</td>\n",
       "      <td>35</td>\n",
       "      <td>высшее</td>\n",
       "      <td>0</td>\n",
       "      <td>гражданский брак</td>\n",
       "      <td>1</td>\n",
       "      <td>F</td>\n",
       "      <td>сотрудник</td>\n",
       "      <td>0</td>\n",
       "      <td>95856</td>\n",
       "      <td>на проведение свадьбы</td>\n",
       "      <td>свадьба</td>\n",
       "      <td>средний доход</td>\n",
       "      <td>многодетная</td>\n",
       "    </tr>\n",
       "    <tr>\n",
       "      <th>9</th>\n",
       "      <td>0</td>\n",
       "      <td>2188</td>\n",
       "      <td>41</td>\n",
       "      <td>среднее</td>\n",
       "      <td>1</td>\n",
       "      <td>женат / замужем</td>\n",
       "      <td>0</td>\n",
       "      <td>M</td>\n",
       "      <td>сотрудник</td>\n",
       "      <td>0</td>\n",
       "      <td>144425</td>\n",
       "      <td>покупка жилья для семьи</td>\n",
       "      <td>недвижимость</td>\n",
       "      <td>высокий доход</td>\n",
       "      <td>нет детей</td>\n",
       "    </tr>\n",
       "  </tbody>\n",
       "</table>\n",
       "</div>"
      ],
      "text/plain": [
       "   children  days_employed  dob_years education  education_id  \\\n",
       "0         1           8437         42    высшее             0   \n",
       "1         1           4024         36   среднее             1   \n",
       "2         0           5623         33   среднее             1   \n",
       "3         3           4124         32   среднее             1   \n",
       "4         0          14177         53   среднее             1   \n",
       "5         0            926         27    высшее             0   \n",
       "6         0           2879         43    высшее             0   \n",
       "7         0            152         50   среднее             1   \n",
       "8         2           6929         35    высшее             0   \n",
       "9         0           2188         41   среднее             1   \n",
       "\n",
       "      family_status  family_status_id gender income_type  debt  total_income  \\\n",
       "0   женат / замужем                 0      F   сотрудник     0        253875   \n",
       "1   женат / замужем                 0      F   сотрудник     0        112080   \n",
       "2   женат / замужем                 0      M   сотрудник     0        145885   \n",
       "3   женат / замужем                 0      M   сотрудник     0        267628   \n",
       "4  гражданский брак                 1      F   пенсионер     0        158616   \n",
       "5  гражданский брак                 1      M   компаньон     0        255763   \n",
       "6   женат / замужем                 0      F   компаньон     0        240525   \n",
       "7   женат / замужем                 0      M   сотрудник     0        135823   \n",
       "8  гражданский брак                 1      F   сотрудник     0         95856   \n",
       "9   женат / замужем                 0      M   сотрудник     0        144425   \n",
       "\n",
       "                      purpose   purpose_cat total_income_cat children_cat  \n",
       "0               покупка жилья  недвижимость    высокий доход   малодетная  \n",
       "1     приобретение автомобиля    автомобиль    средний доход   малодетная  \n",
       "2               покупка жилья  недвижимость    высокий доход    нет детей  \n",
       "3  дополнительное образование   образование    высокий доход  многодетная  \n",
       "4             сыграть свадьбу       свадьба    высокий доход    нет детей  \n",
       "5               покупка жилья  недвижимость    высокий доход    нет детей  \n",
       "6           операции с жильем  недвижимость    высокий доход    нет детей  \n",
       "7                 образование   образование    высокий доход    нет детей  \n",
       "8       на проведение свадьбы       свадьба    средний доход  многодетная  \n",
       "9     покупка жилья для семьи  недвижимость    высокий доход    нет детей  "
      ]
     },
     "execution_count": 43,
     "metadata": {},
     "output_type": "execute_result"
    }
   ],
   "source": [
    "df.head(10)#проверка"
   ]
  },
  {
   "cell_type": "code",
   "execution_count": 44,
   "metadata": {},
   "outputs": [
    {
     "data": {
      "text/plain": [
       "нет детей      14091\n",
       "малодетная      4855\n",
       "многодетная     2508\n",
       "Name: children_cat, dtype: int64"
      ]
     },
     "execution_count": 44,
     "metadata": {},
     "output_type": "execute_result"
    }
   ],
   "source": [
    "df['children_cat'].value_counts()#Подсчет значений"
   ]
  },
  {
   "cell_type": "markdown",
   "metadata": {},
   "source": [
    "**Вывод**\n",
    "\n",
    "В данном разделе категоризированы столбцы уровня дохода, количества детей, а также цели кредита. Для более точного анализа, необходимы данные о количестве несовершеннолетних детей и регионе где собиралась информация."
   ]
  },
  {
   "cell_type": "markdown",
   "metadata": {},
   "source": [
    "##  Ответим на вопросы"
   ]
  },
  {
   "cell_type": "markdown",
   "metadata": {},
   "source": [
    "Ось Х - категория\n",
    "\n",
    "Ось Y - отношение наличия или отсутвия задолженности в %"
   ]
  },
  {
   "cell_type": "markdown",
   "metadata": {},
   "source": [
    "### Есть ли зависимость между наличием детей и возвратом кредита в срок?"
   ]
  },
  {
   "cell_type": "code",
   "execution_count": 45,
   "metadata": {},
   "outputs": [
    {
     "data": {
      "text/html": [
       "<div>\n",
       "<style scoped>\n",
       "    .dataframe tbody tr th:only-of-type {\n",
       "        vertical-align: middle;\n",
       "    }\n",
       "\n",
       "    .dataframe tbody tr th {\n",
       "        vertical-align: top;\n",
       "    }\n",
       "\n",
       "    .dataframe thead th {\n",
       "        text-align: right;\n",
       "    }\n",
       "</style>\n",
       "<table border=\"1\" class=\"dataframe\">\n",
       "  <thead>\n",
       "    <tr style=\"text-align: right;\">\n",
       "      <th>debt</th>\n",
       "      <th>0</th>\n",
       "      <th>1</th>\n",
       "      <th>ratio</th>\n",
       "    </tr>\n",
       "    <tr>\n",
       "      <th>children_cat</th>\n",
       "      <th></th>\n",
       "      <th></th>\n",
       "      <th></th>\n",
       "    </tr>\n",
       "  </thead>\n",
       "  <tbody>\n",
       "    <tr>\n",
       "      <th>малодетная</th>\n",
       "      <td>4410</td>\n",
       "      <td>445</td>\n",
       "      <td>0.09</td>\n",
       "    </tr>\n",
       "    <tr>\n",
       "      <th>многодетная</th>\n",
       "      <td>2275</td>\n",
       "      <td>233</td>\n",
       "      <td>0.09</td>\n",
       "    </tr>\n",
       "    <tr>\n",
       "      <th>нет детей</th>\n",
       "      <td>13028</td>\n",
       "      <td>1063</td>\n",
       "      <td>0.08</td>\n",
       "    </tr>\n",
       "  </tbody>\n",
       "</table>\n",
       "</div>"
      ],
      "text/plain": [
       "debt              0     1  ratio\n",
       "children_cat                    \n",
       "малодетная     4410   445   0.09\n",
       "многодетная    2275   233   0.09\n",
       "нет детей     13028  1063   0.08"
      ]
     },
     "execution_count": 45,
     "metadata": {},
     "output_type": "execute_result"
    }
   ],
   "source": [
    "children_pivot = df.pivot_table(index=['children_cat'], columns='debt', values='children', aggfunc='count')# создаем сводную таблицу\n",
    "children_pivot['ratio'] = children_pivot[1] / (children_pivot[0]+children_pivot[1])# вычисляем соотношение\n",
    "children_pivot"
   ]
  },
  {
   "cell_type": "code",
   "execution_count": 46,
   "metadata": {},
   "outputs": [
    {
     "data": {
      "text/plain": [
       "<AxesSubplot:>"
      ]
     },
     "execution_count": 46,
     "metadata": {},
     "output_type": "execute_result"
    },
    {
     "data": {
      "image/png": "[encoded data removed]",
      "text/plain": [
       "<Figure size 432x288 with 1 Axes>"
      ]
     },
     "metadata": {
      "needs_background": "light"
     },
     "output_type": "display_data"
    }
   ],
   "source": [
    "column_ch = ['малодетная', 'многодетная', 'нет детей']\n",
    "ratio_ch = [9.1658, 9.2903, 7.5438]\n",
    "seaborn.barplot(x=ratio_ch, y=column_ch)"
   ]
  },
  {
   "cell_type": "markdown",
   "metadata": {},
   "source": [
    "**Вывод**\n",
    "\n",
    "Клиенты без детей более надежные заемщики."
   ]
  },
  {
   "cell_type": "markdown",
   "metadata": {},
   "source": [
    "### Есть ли зависимость между семейным положением и возвратом кредита в срок?"
   ]
  },
  {
   "cell_type": "code",
   "execution_count": 47,
   "metadata": {},
   "outputs": [
    {
     "data": {
      "text/html": [
       "<div>\n",
       "<style scoped>\n",
       "    .dataframe tbody tr th:only-of-type {\n",
       "        vertical-align: middle;\n",
       "    }\n",
       "\n",
       "    .dataframe tbody tr th {\n",
       "        vertical-align: top;\n",
       "    }\n",
       "\n",
       "    .dataframe thead th {\n",
       "        text-align: right;\n",
       "    }\n",
       "</style>\n",
       "<table border=\"1\" class=\"dataframe\">\n",
       "  <thead>\n",
       "    <tr style=\"text-align: right;\">\n",
       "      <th>debt</th>\n",
       "      <th>0</th>\n",
       "      <th>1</th>\n",
       "      <th>ratio</th>\n",
       "    </tr>\n",
       "    <tr>\n",
       "      <th>family_status</th>\n",
       "      <th></th>\n",
       "      <th></th>\n",
       "      <th></th>\n",
       "    </tr>\n",
       "  </thead>\n",
       "  <tbody>\n",
       "    <tr>\n",
       "      <th>Не женат / не замужем</th>\n",
       "      <td>2536</td>\n",
       "      <td>274</td>\n",
       "      <td>0.10</td>\n",
       "    </tr>\n",
       "    <tr>\n",
       "      <th>в разводе</th>\n",
       "      <td>1110</td>\n",
       "      <td>85</td>\n",
       "      <td>0.07</td>\n",
       "    </tr>\n",
       "    <tr>\n",
       "      <th>вдовец / вдова</th>\n",
       "      <td>896</td>\n",
       "      <td>63</td>\n",
       "      <td>0.07</td>\n",
       "    </tr>\n",
       "    <tr>\n",
       "      <th>гражданский брак</th>\n",
       "      <td>3763</td>\n",
       "      <td>388</td>\n",
       "      <td>0.09</td>\n",
       "    </tr>\n",
       "    <tr>\n",
       "      <th>женат / замужем</th>\n",
       "      <td>11408</td>\n",
       "      <td>931</td>\n",
       "      <td>0.08</td>\n",
       "    </tr>\n",
       "  </tbody>\n",
       "</table>\n",
       "</div>"
      ],
      "text/plain": [
       "debt                       0    1  ratio\n",
       "family_status                           \n",
       "Не женат / не замужем   2536  274   0.10\n",
       "в разводе               1110   85   0.07\n",
       "вдовец / вдова           896   63   0.07\n",
       "гражданский брак        3763  388   0.09\n",
       "женат / замужем        11408  931   0.08"
      ]
     },
     "execution_count": 47,
     "metadata": {},
     "output_type": "execute_result"
    }
   ],
   "source": [
    "family_pivot = df.pivot_table(index=['family_status'], columns='debt', values='family_status_id', aggfunc='count')\n",
    "family_pivot['ratio'] = family_pivot[1] / (family_pivot[0]+family_pivot[1])\n",
    "family_pivot"
   ]
  },
  {
   "cell_type": "code",
   "execution_count": 48,
   "metadata": {},
   "outputs": [
    {
     "data": {
      "text/plain": [
       "<AxesSubplot:>"
      ]
     },
     "execution_count": 48,
     "metadata": {},
     "output_type": "execute_result"
    },
    {
     "data": {
      "image/png": "[encoded data removed]",
      "text/plain": [
       "<Figure size 432x288 with 1 Axes>"
      ]
     },
     "metadata": {
      "needs_background": "light"
     },
     "output_type": "display_data"
    }
   ],
   "source": [
    "column_fam = ['Не женат / не замужем', 'в разводе', 'вдовец / вдова', 'гражданский брак', 'женат / замужем' ]\n",
    "ratio_fam = [9.7509, 7.1130, 6.5693, 9.3471, 7.5452]\n",
    "seaborn.barplot(x=ratio_fam, y=column_fam)"
   ]
  },
  {
   "cell_type": "markdown",
   "metadata": {},
   "source": [
    "Не женатые и проживающие в гражданском браке допускали больше всего просрочек по кредитам. "
   ]
  },
  {
   "cell_type": "markdown",
   "metadata": {},
   "source": [
    "**Вывод** \n",
    "\n",
    "`Не женатые и проживающие в гражданском браке` допускали больше всего просрочек по кредитам. Наиболее надежный заёмщик по категории 'семейный статус' - `вдовец / вдова`\t"
   ]
  },
  {
   "cell_type": "markdown",
   "metadata": {},
   "source": [
    "### Есть ли зависимость между уровнем дохода и возвратом кредита в срок?"
   ]
  },
  {
   "cell_type": "code",
   "execution_count": 49,
   "metadata": {},
   "outputs": [
    {
     "data": {
      "text/html": [
       "<div>\n",
       "<style scoped>\n",
       "    .dataframe tbody tr th:only-of-type {\n",
       "        vertical-align: middle;\n",
       "    }\n",
       "\n",
       "    .dataframe tbody tr th {\n",
       "        vertical-align: top;\n",
       "    }\n",
       "\n",
       "    .dataframe thead th {\n",
       "        text-align: right;\n",
       "    }\n",
       "</style>\n",
       "<table border=\"1\" class=\"dataframe\">\n",
       "  <thead>\n",
       "    <tr style=\"text-align: right;\">\n",
       "      <th>debt</th>\n",
       "      <th>0</th>\n",
       "      <th>1</th>\n",
       "      <th>ratio</th>\n",
       "    </tr>\n",
       "    <tr>\n",
       "      <th>total_income_cat</th>\n",
       "      <th></th>\n",
       "      <th></th>\n",
       "      <th></th>\n",
       "    </tr>\n",
       "  </thead>\n",
       "  <tbody>\n",
       "    <tr>\n",
       "      <th>высокий доход</th>\n",
       "      <td>12978</td>\n",
       "      <td>1143</td>\n",
       "      <td>0.08</td>\n",
       "    </tr>\n",
       "    <tr>\n",
       "      <th>низкий доход</th>\n",
       "      <td>757</td>\n",
       "      <td>49</td>\n",
       "      <td>0.06</td>\n",
       "    </tr>\n",
       "    <tr>\n",
       "      <th>средний доход</th>\n",
       "      <td>5978</td>\n",
       "      <td>549</td>\n",
       "      <td>0.08</td>\n",
       "    </tr>\n",
       "  </tbody>\n",
       "</table>\n",
       "</div>"
      ],
      "text/plain": [
       "debt                  0     1  ratio\n",
       "total_income_cat                    \n",
       "высокий доход     12978  1143   0.08\n",
       "низкий доход        757    49   0.06\n",
       "средний доход      5978   549   0.08"
      ]
     },
     "execution_count": 49,
     "metadata": {},
     "output_type": "execute_result"
    }
   ],
   "source": [
    "income_pivot = df.pivot_table(index=['total_income_cat'], columns='debt', values='total_income', aggfunc='count')\n",
    "income_pivot['ratio'] = income_pivot[1] / (income_pivot[0]+income_pivot[1])\n",
    "income_pivot"
   ]
  },
  {
   "cell_type": "code",
   "execution_count": 50,
   "metadata": {},
   "outputs": [
    {
     "data": {
      "text/plain": [
       "<AxesSubplot:>"
      ]
     },
     "execution_count": 50,
     "metadata": {},
     "output_type": "execute_result"
    },
    {
     "data": {
      "image/png": "[encoded data removed]",
      "text/plain": [
       "<Figure size 432x288 with 1 Axes>"
      ]
     },
     "metadata": {
      "needs_background": "light"
     },
     "output_type": "display_data"
    }
   ],
   "source": [
    "column_inc = ['высокий доход', 'низкий доход', 'средний доход']\n",
    "ratio_inc = [8.0943, 6.0794, 8.4112]\n",
    "seaborn.barplot(x=ratio_inc, y=column_inc)"
   ]
  },
  {
   "cell_type": "markdown",
   "metadata": {},
   "source": [
    "**Вывод**\n",
    "\n",
    "Наиболее надежный заемщик - заемщик с низким доходом"
   ]
  },
  {
   "cell_type": "markdown",
   "metadata": {},
   "source": [
    "### Как разные цели кредита влияют на его возврат в срок?"
   ]
  },
  {
   "cell_type": "code",
   "execution_count": 51,
   "metadata": {},
   "outputs": [
    {
     "data": {
      "text/html": [
       "<div>\n",
       "<style scoped>\n",
       "    .dataframe tbody tr th:only-of-type {\n",
       "        vertical-align: middle;\n",
       "    }\n",
       "\n",
       "    .dataframe tbody tr th {\n",
       "        vertical-align: top;\n",
       "    }\n",
       "\n",
       "    .dataframe thead th {\n",
       "        text-align: right;\n",
       "    }\n",
       "</style>\n",
       "<table border=\"1\" class=\"dataframe\">\n",
       "  <thead>\n",
       "    <tr style=\"text-align: right;\">\n",
       "      <th>debt</th>\n",
       "      <th>0</th>\n",
       "      <th>1</th>\n",
       "      <th>ratio</th>\n",
       "    </tr>\n",
       "    <tr>\n",
       "      <th>purpose_cat</th>\n",
       "      <th></th>\n",
       "      <th></th>\n",
       "      <th></th>\n",
       "    </tr>\n",
       "  </thead>\n",
       "  <tbody>\n",
       "    <tr>\n",
       "      <th>автомобиль</th>\n",
       "      <td>3903</td>\n",
       "      <td>403</td>\n",
       "      <td>0.09</td>\n",
       "    </tr>\n",
       "    <tr>\n",
       "      <th>недвижимость</th>\n",
       "      <td>10029</td>\n",
       "      <td>782</td>\n",
       "      <td>0.07</td>\n",
       "    </tr>\n",
       "    <tr>\n",
       "      <th>образование</th>\n",
       "      <td>3643</td>\n",
       "      <td>370</td>\n",
       "      <td>0.09</td>\n",
       "    </tr>\n",
       "    <tr>\n",
       "      <th>свадьба</th>\n",
       "      <td>2138</td>\n",
       "      <td>186</td>\n",
       "      <td>0.08</td>\n",
       "    </tr>\n",
       "  </tbody>\n",
       "</table>\n",
       "</div>"
      ],
      "text/plain": [
       "debt              0    1  ratio\n",
       "purpose_cat                    \n",
       "автомобиль     3903  403   0.09\n",
       "недвижимость  10029  782   0.07\n",
       "образование    3643  370   0.09\n",
       "свадьба        2138  186   0.08"
      ]
     },
     "execution_count": 51,
     "metadata": {},
     "output_type": "execute_result"
    }
   ],
   "source": [
    "purpose_pivot = df.pivot_table(index=['purpose_cat'], columns='debt', values='purpose', aggfunc='count')\n",
    "purpose_pivot['ratio'] = purpose_pivot[1] / (purpose_pivot[0]+purpose_pivot[1])\n",
    "purpose_pivot"
   ]
  },
  {
   "cell_type": "code",
   "execution_count": 52,
   "metadata": {},
   "outputs": [
    {
     "data": {
      "text/plain": [
       "<AxesSubplot:>"
      ]
     },
     "execution_count": 52,
     "metadata": {},
     "output_type": "execute_result"
    },
    {
     "data": {
      "image/png": "[encoded data removed]",
      "text/plain": [
       "<Figure size 432x288 with 1 Axes>"
      ]
     },
     "metadata": {
      "needs_background": "light"
     },
     "output_type": "display_data"
    }
   ],
   "source": [
    "column_pur = ['автомобиль', 'недвижимость', 'образование', 'свадьба']\n",
    "ratio_pur = [9.3590, 7.2334, 9.2200, 8.0034]\n",
    "seaborn.barplot(x=ratio_pur, y=column_pur)"
   ]
  },
  {
   "cell_type": "markdown",
   "metadata": {},
   "source": [
    "**Вывод**\n",
    "\n",
    "Ипотека и кредит на свадьбу - самый надежный!"
   ]
  },
  {
   "cell_type": "markdown",
   "metadata": {},
   "source": [
    "## Общий вывод"
   ]
  },
  {
   "cell_type": "markdown",
   "metadata": {},
   "source": [
    "Ответим на вопросы - цели исследования:\n",
    "* `\"Есть ли зависимость между наличием детей и возвратом кредита в срок?\";` - Отсутствие детей положительно влияет на вероятность возврата кредита в срок\n",
    "* `\"Есть ли зависимость между семейным положением и возвратом кредита в срок?\";` - Граждане находящиеся и бывшие в официальном браке(разведенные или овдовевшие) более надежные заёмщики, чем лица не находившиеся в официальных отношениях или одинокие(гражданский брак, не женат / не замужем).\n",
    "* `\"Есть ли зависимость между уровнем дохода и возвратом кредита в срок?\";`  - Как показали данные, наиболее надежный заемщик это заемщик с невысоким доходом.\n",
    "* `\"Как разные цели кредита влияют на его возврат в срок?\";` - Самый низкий процент просрочек, это кредит на недвижимость - ипотека.\n",
    "\n",
    "Идеальный портрет заемщика по проанализированным зависимостям это: \"Бездетный вдовец/вдова с небольшим уровнем дохода, беруший(ая) ипотеку\"\n"
   ]
  }
 ],
 "metadata": {
  "ExecuteTimeLog": [
   {
    "duration": 724,
    "start_time": "2021-11-06T08:08:22.025Z"
   },
   {
    "duration": 94,
    "start_time": "2021-11-06T08:09:10.951Z"
   },
   {
    "duration": 63,
    "start_time": "2021-11-06T08:09:21.623Z"
   },
   {
    "duration": 58,
    "start_time": "2021-11-06T08:09:24.371Z"
   },
   {
    "duration": 61,
    "start_time": "2021-11-06T08:09:57.399Z"
   },
   {
    "duration": 60,
    "start_time": "2021-11-06T08:10:26.055Z"
   },
   {
    "duration": 61,
    "start_time": "2021-11-06T08:12:41.358Z"
   },
   {
    "duration": 59,
    "start_time": "2021-11-06T08:14:22.428Z"
   },
   {
    "duration": 98,
    "start_time": "2021-11-06T08:14:34.922Z"
   },
   {
    "duration": 436,
    "start_time": "2021-11-06T08:14:53.338Z"
   },
   {
    "duration": 74,
    "start_time": "2021-11-06T08:15:01.313Z"
   },
   {
    "duration": 85,
    "start_time": "2021-11-06T08:15:08.569Z"
   },
   {
    "duration": 75,
    "start_time": "2021-11-06T08:18:12.121Z"
   },
   {
    "duration": 698,
    "start_time": "2021-11-06T08:18:19.823Z"
   },
   {
    "duration": 75,
    "start_time": "2021-11-06T08:22:37.372Z"
   },
   {
    "duration": 19,
    "start_time": "2021-11-06T08:30:10.302Z"
   },
   {
    "duration": 5,
    "start_time": "2021-11-06T08:32:40.771Z"
   },
   {
    "duration": 297,
    "start_time": "2021-11-06T08:33:17.811Z"
   },
   {
    "duration": 7,
    "start_time": "2021-11-06T08:33:30.443Z"
   },
   {
    "duration": 15,
    "start_time": "2021-11-06T08:34:28.338Z"
   },
   {
    "duration": 272,
    "start_time": "2021-11-06T08:39:26.669Z"
   },
   {
    "duration": 310,
    "start_time": "2021-11-06T08:39:42.590Z"
   },
   {
    "duration": 6,
    "start_time": "2021-11-06T08:40:31.197Z"
   },
   {
    "duration": 339,
    "start_time": "2021-11-06T08:41:03.452Z"
   },
   {
    "duration": 340,
    "start_time": "2021-11-06T08:41:08.636Z"
   },
   {
    "duration": 7,
    "start_time": "2021-11-06T08:41:19.428Z"
   },
   {
    "duration": 15,
    "start_time": "2021-11-06T08:53:03.124Z"
   },
   {
    "duration": 13,
    "start_time": "2021-11-06T08:54:00.219Z"
   },
   {
    "duration": 25,
    "start_time": "2021-11-06T09:08:31.759Z"
   },
   {
    "duration": 23,
    "start_time": "2021-11-06T09:08:47.798Z"
   },
   {
    "duration": 30,
    "start_time": "2021-11-06T09:11:13.324Z"
   },
   {
    "duration": 23,
    "start_time": "2021-11-06T09:11:16.731Z"
   },
   {
    "duration": 14,
    "start_time": "2021-11-06T11:46:40.431Z"
   },
   {
    "duration": 27,
    "start_time": "2021-11-06T11:47:45.303Z"
   },
   {
    "duration": 13,
    "start_time": "2021-11-06T11:48:12.823Z"
   },
   {
    "duration": 127,
    "start_time": "2021-11-06T11:52:50.931Z"
   },
   {
    "duration": 332,
    "start_time": "2021-11-06T13:10:05.755Z"
   },
   {
    "duration": 6,
    "start_time": "2021-11-06T13:10:14.903Z"
   },
   {
    "duration": 7,
    "start_time": "2021-11-06T13:17:14.299Z"
   },
   {
    "duration": 6,
    "start_time": "2021-11-06T13:17:19.099Z"
   },
   {
    "duration": 8,
    "start_time": "2021-11-06T13:17:23.898Z"
   },
   {
    "duration": 7,
    "start_time": "2021-11-06T13:18:07.537Z"
   },
   {
    "duration": 275,
    "start_time": "2021-11-06T13:18:17.818Z"
   },
   {
    "duration": 275,
    "start_time": "2021-11-06T13:18:46.105Z"
   },
   {
    "duration": 287,
    "start_time": "2021-11-06T13:18:54.041Z"
   },
   {
    "duration": 341,
    "start_time": "2021-11-06T13:18:58.001Z"
   },
   {
    "duration": 297,
    "start_time": "2021-11-06T13:19:02.576Z"
   },
   {
    "duration": 76,
    "start_time": "2021-11-06T13:19:11.802Z"
   },
   {
    "duration": 16,
    "start_time": "2021-11-06T13:19:14.304Z"
   },
   {
    "duration": 14,
    "start_time": "2021-11-06T13:19:17.488Z"
   },
   {
    "duration": 13,
    "start_time": "2021-11-06T13:19:22.928Z"
   },
   {
    "duration": 7,
    "start_time": "2021-11-06T13:19:24.960Z"
   },
   {
    "duration": 6,
    "start_time": "2021-11-06T13:20:52.526Z"
   },
   {
    "duration": 4,
    "start_time": "2021-11-06T13:21:19.079Z"
   },
   {
    "duration": 6,
    "start_time": "2021-11-06T13:21:19.887Z"
   },
   {
    "duration": 6,
    "start_time": "2021-11-06T13:21:25.023Z"
   },
   {
    "duration": 7,
    "start_time": "2021-11-06T13:21:35.127Z"
   },
   {
    "duration": 4090,
    "start_time": "2021-11-06T13:21:48.190Z"
   },
   {
    "duration": 795,
    "start_time": "2021-11-06T13:21:51.488Z"
   },
   {
    "duration": 75,
    "start_time": "2021-11-06T13:21:56.079Z"
   },
   {
    "duration": 15,
    "start_time": "2021-11-06T13:22:05.211Z"
   },
   {
    "duration": 74,
    "start_time": "2021-11-06T13:22:08.229Z"
   },
   {
    "duration": 8,
    "start_time": "2021-11-06T13:22:12.670Z"
   },
   {
    "duration": 12,
    "start_time": "2021-11-06T13:22:22.215Z"
   },
   {
    "duration": 33,
    "start_time": "2021-11-06T13:22:26.646Z"
   },
   {
    "duration": 8,
    "start_time": "2021-11-06T13:22:55.257Z"
   },
   {
    "duration": 13,
    "start_time": "2021-11-06T13:22:57.197Z"
   },
   {
    "duration": 5,
    "start_time": "2021-11-06T13:22:59.581Z"
   },
   {
    "duration": 8,
    "start_time": "2021-11-06T13:23:01.438Z"
   },
   {
    "duration": 12,
    "start_time": "2021-11-06T13:23:07.157Z"
   },
   {
    "duration": 13,
    "start_time": "2021-11-06T13:27:10.074Z"
   },
   {
    "duration": 362,
    "start_time": "2021-11-06T13:29:30.515Z"
   },
   {
    "duration": 6,
    "start_time": "2021-11-06T13:29:43.927Z"
   },
   {
    "duration": 113,
    "start_time": "2021-11-06T13:29:50.857Z"
   },
   {
    "duration": 23,
    "start_time": "2021-11-06T13:29:50.982Z"
   },
   {
    "duration": 20,
    "start_time": "2021-11-06T13:29:51.009Z"
   },
   {
    "duration": 6,
    "start_time": "2021-11-06T13:29:51.033Z"
   },
   {
    "duration": 6,
    "start_time": "2021-11-06T13:29:59.374Z"
   },
   {
    "duration": 380,
    "start_time": "2021-11-06T13:30:07.016Z"
   },
   {
    "duration": 4,
    "start_time": "2021-11-06T13:30:13.072Z"
   },
   {
    "duration": 6,
    "start_time": "2021-11-06T13:30:14.631Z"
   },
   {
    "duration": 6,
    "start_time": "2021-11-06T13:30:17.450Z"
   },
   {
    "duration": 3,
    "start_time": "2021-11-06T13:30:38.623Z"
   },
   {
    "duration": 6,
    "start_time": "2021-11-06T13:30:39.238Z"
   },
   {
    "duration": 79,
    "start_time": "2021-11-06T13:30:43.796Z"
   },
   {
    "duration": 17,
    "start_time": "2021-11-06T13:30:43.879Z"
   },
   {
    "duration": 14,
    "start_time": "2021-11-06T13:30:43.899Z"
   },
   {
    "duration": 6,
    "start_time": "2021-11-06T13:30:43.916Z"
   },
   {
    "duration": 57,
    "start_time": "2021-11-06T13:30:43.925Z"
   },
   {
    "duration": 14,
    "start_time": "2021-11-06T13:30:43.985Z"
   },
   {
    "duration": 28,
    "start_time": "2021-11-06T13:31:08.991Z"
   },
   {
    "duration": 17,
    "start_time": "2021-11-06T13:31:10.031Z"
   },
   {
    "duration": 77,
    "start_time": "2021-11-06T13:31:13.013Z"
   },
   {
    "duration": 17,
    "start_time": "2021-11-06T13:31:13.093Z"
   },
   {
    "duration": 11,
    "start_time": "2021-11-06T13:31:13.113Z"
   },
   {
    "duration": 4,
    "start_time": "2021-11-06T13:31:13.127Z"
   },
   {
    "duration": 62,
    "start_time": "2021-11-06T13:31:13.134Z"
   },
   {
    "duration": 16,
    "start_time": "2021-11-06T13:31:13.198Z"
   },
   {
    "duration": 85,
    "start_time": "2021-11-06T13:32:02.373Z"
   },
   {
    "duration": 27,
    "start_time": "2021-11-06T13:32:02.460Z"
   },
   {
    "duration": 19,
    "start_time": "2021-11-06T13:32:02.490Z"
   },
   {
    "duration": 35,
    "start_time": "2021-11-06T13:32:31.277Z"
   },
   {
    "duration": 23,
    "start_time": "2021-11-06T13:34:18.300Z"
   },
   {
    "duration": 312,
    "start_time": "2021-11-06T13:38:25.449Z"
   },
   {
    "duration": 359,
    "start_time": "2021-11-06T13:43:18.861Z"
   },
   {
    "duration": 300,
    "start_time": "2021-11-06T13:44:33.701Z"
   },
   {
    "duration": 525,
    "start_time": "2021-11-06T13:44:36.548Z"
   },
   {
    "duration": 77,
    "start_time": "2021-11-06T13:44:39.939Z"
   },
   {
    "duration": 16,
    "start_time": "2021-11-06T13:44:40.020Z"
   },
   {
    "duration": 12,
    "start_time": "2021-11-06T13:44:40.041Z"
   },
   {
    "duration": 53,
    "start_time": "2021-11-06T13:44:40.055Z"
   },
   {
    "duration": 17,
    "start_time": "2021-11-06T13:44:40.111Z"
   },
   {
    "duration": 6,
    "start_time": "2021-11-06T13:44:40.130Z"
   },
   {
    "duration": 6,
    "start_time": "2021-11-06T13:44:44.779Z"
   },
   {
    "duration": 18,
    "start_time": "2021-11-06T13:45:04.459Z"
   },
   {
    "duration": 300,
    "start_time": "2021-11-06T13:45:26.260Z"
   },
   {
    "duration": 1188,
    "start_time": "2021-11-06T13:45:39.187Z"
   },
   {
    "duration": 14,
    "start_time": "2021-11-06T13:45:47.363Z"
   },
   {
    "duration": 20,
    "start_time": "2021-11-06T13:46:12.530Z"
   },
   {
    "duration": 75,
    "start_time": "2021-11-06T13:46:32.803Z"
   },
   {
    "duration": 19,
    "start_time": "2021-11-06T13:46:40.778Z"
   },
   {
    "duration": 305,
    "start_time": "2021-11-06T13:46:43.314Z"
   },
   {
    "duration": 19,
    "start_time": "2021-11-06T13:46:47.130Z"
   },
   {
    "duration": 311,
    "start_time": "2021-11-06T13:46:50.658Z"
   },
   {
    "duration": 441,
    "start_time": "2021-11-06T13:48:36.417Z"
   },
   {
    "duration": 30,
    "start_time": "2021-11-06T13:49:12.256Z"
   },
   {
    "duration": 18,
    "start_time": "2021-11-06T13:49:12.967Z"
   },
   {
    "duration": 6,
    "start_time": "2021-11-06T13:49:16.080Z"
   },
   {
    "duration": 18,
    "start_time": "2021-11-06T13:49:17.776Z"
   },
   {
    "duration": 76,
    "start_time": "2021-11-06T13:49:44.327Z"
   },
   {
    "duration": 14,
    "start_time": "2021-11-06T13:49:44.405Z"
   },
   {
    "duration": 15,
    "start_time": "2021-11-06T13:49:44.423Z"
   },
   {
    "duration": 63,
    "start_time": "2021-11-06T13:49:44.441Z"
   },
   {
    "duration": 20,
    "start_time": "2021-11-06T13:49:44.506Z"
   },
   {
    "duration": 19,
    "start_time": "2021-11-06T13:50:00.921Z"
   },
   {
    "duration": 80,
    "start_time": "2021-11-06T13:50:06.294Z"
   },
   {
    "duration": 15,
    "start_time": "2021-11-06T13:50:06.377Z"
   },
   {
    "duration": 20,
    "start_time": "2021-11-06T13:50:06.395Z"
   },
   {
    "duration": 32,
    "start_time": "2021-11-06T13:50:06.418Z"
   },
   {
    "duration": 40,
    "start_time": "2021-11-06T13:50:06.453Z"
   },
   {
    "duration": 20,
    "start_time": "2021-11-06T13:50:06.495Z"
   },
   {
    "duration": 20,
    "start_time": "2021-11-06T13:50:12.820Z"
   },
   {
    "duration": 8,
    "start_time": "2021-11-06T13:50:12.842Z"
   },
   {
    "duration": 18,
    "start_time": "2021-11-06T13:50:12.853Z"
   },
   {
    "duration": 23,
    "start_time": "2021-11-06T13:50:12.874Z"
   },
   {
    "duration": 75,
    "start_time": "2021-11-06T13:50:18.310Z"
   },
   {
    "duration": 14,
    "start_time": "2021-11-06T13:50:18.388Z"
   },
   {
    "duration": 11,
    "start_time": "2021-11-06T13:50:18.405Z"
   },
   {
    "duration": 28,
    "start_time": "2021-11-06T13:50:18.419Z"
   },
   {
    "duration": 47,
    "start_time": "2021-11-06T13:50:18.449Z"
   },
   {
    "duration": 19,
    "start_time": "2021-11-06T13:50:18.498Z"
   },
   {
    "duration": 10,
    "start_time": "2021-11-06T13:50:18.520Z"
   },
   {
    "duration": 52,
    "start_time": "2021-11-06T13:50:18.533Z"
   },
   {
    "duration": 25,
    "start_time": "2021-11-06T13:50:18.588Z"
   },
   {
    "duration": 78,
    "start_time": "2021-11-06T13:50:42.459Z"
   },
   {
    "duration": 15,
    "start_time": "2021-11-06T13:50:42.540Z"
   },
   {
    "duration": 32,
    "start_time": "2021-11-06T13:50:42.558Z"
   },
   {
    "duration": 28,
    "start_time": "2021-11-06T13:50:42.593Z"
   },
   {
    "duration": 18,
    "start_time": "2021-11-06T13:50:42.623Z"
   },
   {
    "duration": 48,
    "start_time": "2021-11-06T13:50:42.643Z"
   },
   {
    "duration": 76,
    "start_time": "2021-11-06T13:50:53.367Z"
   },
   {
    "duration": 494,
    "start_time": "2021-11-06T13:51:09.694Z"
   },
   {
    "duration": 15,
    "start_time": "2021-11-06T13:51:13.134Z"
   },
   {
    "duration": 16,
    "start_time": "2021-11-06T13:51:16.629Z"
   },
   {
    "duration": 30,
    "start_time": "2021-11-06T13:51:30.878Z"
   },
   {
    "duration": 20,
    "start_time": "2021-11-06T13:51:35.182Z"
   },
   {
    "duration": 80,
    "start_time": "2021-11-06T13:51:56.332Z"
   },
   {
    "duration": 16,
    "start_time": "2021-11-06T13:51:56.415Z"
   },
   {
    "duration": 22,
    "start_time": "2021-11-06T13:51:56.435Z"
   },
   {
    "duration": 42,
    "start_time": "2021-11-06T13:51:56.483Z"
   },
   {
    "duration": 20,
    "start_time": "2021-11-06T13:52:05.486Z"
   },
   {
    "duration": 95,
    "start_time": "2021-11-06T13:52:15.764Z"
   },
   {
    "duration": 25,
    "start_time": "2021-11-06T13:52:15.861Z"
   },
   {
    "duration": 20,
    "start_time": "2021-11-06T13:52:15.889Z"
   },
   {
    "duration": 21,
    "start_time": "2021-11-06T13:52:15.911Z"
   },
   {
    "duration": 12,
    "start_time": "2021-11-06T13:52:21.381Z"
   },
   {
    "duration": 18,
    "start_time": "2021-11-06T13:52:56.229Z"
   },
   {
    "duration": 12,
    "start_time": "2021-11-06T13:52:58.284Z"
   },
   {
    "duration": 18,
    "start_time": "2021-11-06T13:53:08.692Z"
   },
   {
    "duration": 32,
    "start_time": "2021-11-06T13:53:18.708Z"
   },
   {
    "duration": 34,
    "start_time": "2021-11-06T13:53:21.308Z"
   },
   {
    "duration": 854,
    "start_time": "2021-11-06T13:54:45.515Z"
   },
   {
    "duration": 835,
    "start_time": "2021-11-06T13:54:56.085Z"
   },
   {
    "duration": 834,
    "start_time": "2021-11-06T13:54:56.088Z"
   },
   {
    "duration": 36,
    "start_time": "2021-11-06T13:54:57.818Z"
   },
   {
    "duration": 4,
    "start_time": "2021-11-06T13:59:42.910Z"
   },
   {
    "duration": 7,
    "start_time": "2021-11-06T13:59:46.934Z"
   },
   {
    "duration": 7,
    "start_time": "2021-11-06T14:00:11.374Z"
   },
   {
    "duration": 6,
    "start_time": "2021-11-06T14:00:58.606Z"
   },
   {
    "duration": 6,
    "start_time": "2021-11-06T14:01:13.558Z"
   },
   {
    "duration": 8,
    "start_time": "2021-11-06T14:01:18.726Z"
   },
   {
    "duration": 5,
    "start_time": "2021-11-06T14:01:21.085Z"
   },
   {
    "duration": 5,
    "start_time": "2021-11-06T14:01:25.086Z"
   },
   {
    "duration": 5,
    "start_time": "2021-11-06T14:02:45.973Z"
   },
   {
    "duration": 18,
    "start_time": "2021-11-06T14:03:00.836Z"
   },
   {
    "duration": 13,
    "start_time": "2021-11-06T14:03:09.164Z"
   },
   {
    "duration": 12,
    "start_time": "2021-11-06T14:03:18.885Z"
   },
   {
    "duration": 5,
    "start_time": "2021-11-06T14:03:20.996Z"
   },
   {
    "duration": 5,
    "start_time": "2021-11-06T14:03:21.964Z"
   },
   {
    "duration": 13,
    "start_time": "2021-11-06T14:03:22.460Z"
   },
   {
    "duration": 7300,
    "start_time": "2021-11-06T14:04:18.188Z"
   },
   {
    "duration": 838,
    "start_time": "2021-11-06T14:04:24.653Z"
   },
   {
    "duration": 539,
    "start_time": "2021-11-06T14:04:52.501Z"
   },
   {
    "duration": 290,
    "start_time": "2021-11-06T14:04:55.083Z"
   },
   {
    "duration": 76,
    "start_time": "2021-11-06T14:05:17.181Z"
   },
   {
    "duration": 22,
    "start_time": "2021-11-06T14:05:17.260Z"
   },
   {
    "duration": 12,
    "start_time": "2021-11-06T14:05:17.285Z"
   },
   {
    "duration": 4,
    "start_time": "2021-11-06T14:05:17.299Z"
   },
   {
    "duration": 11,
    "start_time": "2021-11-06T14:05:17.306Z"
   },
   {
    "duration": 17,
    "start_time": "2021-11-06T14:05:17.319Z"
   },
   {
    "duration": 306,
    "start_time": "2021-11-06T14:05:31.378Z"
   },
   {
    "duration": 96,
    "start_time": "2021-11-06T14:08:01.185Z"
   },
   {
    "duration": 96,
    "start_time": "2021-11-06T14:08:07.417Z"
   },
   {
    "duration": 4,
    "start_time": "2021-11-06T14:08:13.488Z"
   },
   {
    "duration": 5,
    "start_time": "2021-11-06T14:09:22.576Z"
   },
   {
    "duration": 607,
    "start_time": "2021-11-06T14:09:51.710Z"
   },
   {
    "duration": 844,
    "start_time": "2021-11-06T14:10:02.686Z"
   },
   {
    "duration": 606,
    "start_time": "2021-11-06T14:10:06.850Z"
   },
   {
    "duration": 617,
    "start_time": "2021-11-06T14:10:12.278Z"
   },
   {
    "duration": 5,
    "start_time": "2021-11-06T14:10:29.246Z"
   },
   {
    "duration": 4,
    "start_time": "2021-11-06T14:10:38.351Z"
   },
   {
    "duration": 4,
    "start_time": "2021-11-06T14:10:46.917Z"
   },
   {
    "duration": 298,
    "start_time": "2021-11-06T14:12:46.380Z"
   },
   {
    "duration": 6,
    "start_time": "2021-11-06T14:13:24.395Z"
   },
   {
    "duration": 303,
    "start_time": "2021-11-06T14:14:49.226Z"
   },
   {
    "duration": 7,
    "start_time": "2021-11-06T14:15:59.453Z"
   },
   {
    "duration": 9,
    "start_time": "2021-11-06T14:17:23.201Z"
   },
   {
    "duration": 9,
    "start_time": "2021-11-06T14:17:28.593Z"
   },
   {
    "duration": 102,
    "start_time": "2021-11-06T14:17:35.743Z"
   },
   {
    "duration": 8,
    "start_time": "2021-11-06T14:17:39.431Z"
   },
   {
    "duration": 91,
    "start_time": "2021-11-06T14:19:36.430Z"
   },
   {
    "duration": 107,
    "start_time": "2021-11-06T14:19:50.094Z"
   },
   {
    "duration": 103,
    "start_time": "2021-11-06T14:19:56.205Z"
   },
   {
    "duration": 5,
    "start_time": "2021-11-06T14:20:09.613Z"
   },
   {
    "duration": 7,
    "start_time": "2021-11-06T14:20:20.445Z"
   },
   {
    "duration": 8,
    "start_time": "2021-11-06T14:20:29.533Z"
   },
   {
    "duration": 7,
    "start_time": "2021-11-06T14:20:33.692Z"
   },
   {
    "duration": 27,
    "start_time": "2021-11-06T14:20:41.669Z"
   },
   {
    "duration": 15,
    "start_time": "2021-11-06T14:20:47.316Z"
   },
   {
    "duration": 5,
    "start_time": "2021-11-06T14:20:53.405Z"
   },
   {
    "duration": 14,
    "start_time": "2021-11-06T14:20:55.365Z"
   },
   {
    "duration": 1322,
    "start_time": "2021-11-06T14:21:18.140Z"
   },
   {
    "duration": 349,
    "start_time": "2021-11-06T14:23:49.515Z"
   },
   {
    "duration": 81,
    "start_time": "2021-11-06T14:25:26.857Z"
   },
   {
    "duration": 16,
    "start_time": "2021-11-06T14:25:26.940Z"
   },
   {
    "duration": 30,
    "start_time": "2021-11-06T14:25:26.959Z"
   },
   {
    "duration": 6,
    "start_time": "2021-11-06T14:25:26.991Z"
   },
   {
    "duration": 4,
    "start_time": "2021-11-06T14:25:26.999Z"
   },
   {
    "duration": 16,
    "start_time": "2021-11-06T14:25:27.006Z"
   },
   {
    "duration": 417,
    "start_time": "2021-11-06T14:25:41.089Z"
   },
   {
    "duration": 304,
    "start_time": "2021-11-06T14:25:56.480Z"
   },
   {
    "duration": 76,
    "start_time": "2021-11-06T14:26:03.127Z"
   },
   {
    "duration": 14,
    "start_time": "2021-11-06T14:26:03.206Z"
   },
   {
    "duration": 20,
    "start_time": "2021-11-06T14:26:03.223Z"
   },
   {
    "duration": 307,
    "start_time": "2021-11-06T14:26:03.245Z"
   },
   {
    "duration": 7,
    "start_time": "2021-11-06T14:26:21.816Z"
   },
   {
    "duration": 289,
    "start_time": "2021-11-06T14:26:42.112Z"
   },
   {
    "duration": 299,
    "start_time": "2021-11-06T14:26:45.728Z"
   },
   {
    "duration": 13,
    "start_time": "2021-11-06T14:27:26.303Z"
   },
   {
    "duration": 5,
    "start_time": "2021-11-06T14:27:29.007Z"
   },
   {
    "duration": 5,
    "start_time": "2021-11-06T14:27:29.607Z"
   },
   {
    "duration": 14,
    "start_time": "2021-11-06T14:27:30.039Z"
   },
   {
    "duration": 15,
    "start_time": "2021-11-06T14:28:27.439Z"
   },
   {
    "duration": 17,
    "start_time": "2021-11-06T14:29:53.230Z"
   },
   {
    "duration": 16,
    "start_time": "2021-11-06T14:29:56.358Z"
   },
   {
    "duration": 1146,
    "start_time": "2021-11-06T14:31:42.899Z"
   },
   {
    "duration": 16,
    "start_time": "2021-11-06T14:33:14.105Z"
   },
   {
    "duration": 17,
    "start_time": "2021-11-06T14:33:16.147Z"
   },
   {
    "duration": 17,
    "start_time": "2021-11-06T14:33:18.914Z"
   },
   {
    "duration": 699,
    "start_time": "2021-11-06T14:33:22.411Z"
   },
   {
    "duration": 132,
    "start_time": "2021-11-06T14:33:23.114Z"
   },
   {
    "duration": 13,
    "start_time": "2021-11-06T14:33:23.249Z"
   },
   {
    "duration": 15,
    "start_time": "2021-11-06T14:33:23.265Z"
   },
   {
    "duration": 1581,
    "start_time": "2021-11-06T14:35:16.921Z"
   },
   {
    "duration": 1483,
    "start_time": "2021-11-06T14:35:21.073Z"
   },
   {
    "duration": 1773,
    "start_time": "2021-11-06T14:35:40.569Z"
   },
   {
    "duration": 1443,
    "start_time": "2021-11-06T14:36:10.225Z"
   },
   {
    "duration": 5,
    "start_time": "2021-11-06T14:36:22.926Z"
   },
   {
    "duration": 4,
    "start_time": "2021-11-06T14:36:25.597Z"
   },
   {
    "duration": 4,
    "start_time": "2021-11-06T14:36:29.766Z"
   },
   {
    "duration": 5,
    "start_time": "2021-11-06T14:36:31.772Z"
   },
   {
    "duration": 6,
    "start_time": "2021-11-06T14:36:38.757Z"
   },
   {
    "duration": 6,
    "start_time": "2021-11-06T14:36:41.221Z"
   },
   {
    "duration": 6,
    "start_time": "2021-11-06T14:37:26.045Z"
   },
   {
    "duration": 7,
    "start_time": "2021-11-06T14:37:30.740Z"
   },
   {
    "duration": 6,
    "start_time": "2021-11-06T14:37:37.132Z"
   },
   {
    "duration": 20,
    "start_time": "2021-11-06T14:37:44.380Z"
   },
   {
    "duration": 15,
    "start_time": "2021-11-06T14:37:47.828Z"
   },
   {
    "duration": 4,
    "start_time": "2021-11-06T14:38:10.174Z"
   },
   {
    "duration": 4,
    "start_time": "2021-11-06T14:38:11.860Z"
   },
   {
    "duration": 14,
    "start_time": "2021-11-06T14:38:12.754Z"
   },
   {
    "duration": 104,
    "start_time": "2021-11-06T14:40:56.427Z"
   },
   {
    "duration": 107,
    "start_time": "2021-11-06T14:41:13.562Z"
   },
   {
    "duration": 93,
    "start_time": "2021-11-06T14:41:21.353Z"
   },
   {
    "duration": 102,
    "start_time": "2021-11-06T14:41:28.562Z"
   },
   {
    "duration": 97,
    "start_time": "2021-11-06T14:41:36.521Z"
   },
   {
    "duration": 5,
    "start_time": "2021-11-06T14:41:45.217Z"
   },
   {
    "duration": 6,
    "start_time": "2021-11-06T14:41:46.953Z"
   },
   {
    "duration": 14,
    "start_time": "2021-11-06T14:41:47.969Z"
   },
   {
    "duration": 12,
    "start_time": "2021-11-06T14:42:07.841Z"
   },
   {
    "duration": 9,
    "start_time": "2021-11-06T14:42:14.441Z"
   },
   {
    "duration": 7,
    "start_time": "2021-11-06T14:42:18.178Z"
   },
   {
    "duration": 8,
    "start_time": "2021-11-06T14:42:26.103Z"
   },
   {
    "duration": 14,
    "start_time": "2021-11-06T14:42:27.823Z"
   },
   {
    "duration": 18,
    "start_time": "2021-11-06T14:56:16.095Z"
   },
   {
    "duration": 16,
    "start_time": "2021-11-06T14:56:23.069Z"
   },
   {
    "duration": 15,
    "start_time": "2021-11-06T14:56:28.973Z"
   },
   {
    "duration": 15,
    "start_time": "2021-11-06T14:56:31.893Z"
   },
   {
    "duration": 76,
    "start_time": "2021-11-06T14:56:35.573Z"
   },
   {
    "duration": 15,
    "start_time": "2021-11-06T14:56:35.651Z"
   },
   {
    "duration": 15,
    "start_time": "2021-11-06T14:56:35.682Z"
   },
   {
    "duration": 16,
    "start_time": "2021-11-06T14:56:35.700Z"
   },
   {
    "duration": 16,
    "start_time": "2021-11-06T14:56:53.461Z"
   },
   {
    "duration": 16,
    "start_time": "2021-11-06T14:56:55.477Z"
   },
   {
    "duration": 79,
    "start_time": "2021-11-06T14:56:58.347Z"
   },
   {
    "duration": 14,
    "start_time": "2021-11-06T14:56:58.428Z"
   },
   {
    "duration": 37,
    "start_time": "2021-11-06T14:56:58.445Z"
   },
   {
    "duration": 16,
    "start_time": "2021-11-06T14:56:58.484Z"
   },
   {
    "duration": 18,
    "start_time": "2021-11-06T14:58:27.280Z"
   },
   {
    "duration": 17,
    "start_time": "2021-11-06T14:58:41.391Z"
   },
   {
    "duration": 13,
    "start_time": "2021-11-06T14:58:49.447Z"
   },
   {
    "duration": 15,
    "start_time": "2021-11-06T14:58:53.070Z"
   },
   {
    "duration": 78,
    "start_time": "2021-11-06T14:58:57.144Z"
   },
   {
    "duration": 14,
    "start_time": "2021-11-06T14:59:00.928Z"
   },
   {
    "duration": 16,
    "start_time": "2021-11-06T14:59:04.623Z"
   },
   {
    "duration": 17,
    "start_time": "2021-11-06T15:00:03.455Z"
   },
   {
    "duration": 14,
    "start_time": "2021-11-06T15:04:42.010Z"
   },
   {
    "duration": 7,
    "start_time": "2021-11-06T15:05:41.938Z"
   },
   {
    "duration": 5,
    "start_time": "2021-11-06T15:10:55.708Z"
   },
   {
    "duration": 6,
    "start_time": "2021-11-06T15:10:58.269Z"
   },
   {
    "duration": 5,
    "start_time": "2021-11-06T15:11:04.036Z"
   },
   {
    "duration": 17,
    "start_time": "2021-11-06T15:11:12.004Z"
   },
   {
    "duration": 21,
    "start_time": "2021-11-06T15:11:52.092Z"
   },
   {
    "duration": 22,
    "start_time": "2021-11-06T15:15:06.904Z"
   },
   {
    "duration": 27,
    "start_time": "2021-11-06T15:15:16.009Z"
   },
   {
    "duration": 52,
    "start_time": "2021-11-06T15:15:33.616Z"
   },
   {
    "duration": 29,
    "start_time": "2021-11-06T15:17:27.887Z"
   },
   {
    "duration": 23,
    "start_time": "2021-11-06T15:17:34.582Z"
   },
   {
    "duration": 413,
    "start_time": "2021-11-08T14:45:05.810Z"
   },
   {
    "duration": 351,
    "start_time": "2021-11-08T14:45:06.464Z"
   },
   {
    "duration": 836,
    "start_time": "2021-11-08T14:45:10.928Z"
   },
   {
    "duration": 24,
    "start_time": "2021-11-08T14:45:11.767Z"
   },
   {
    "duration": 27,
    "start_time": "2021-11-08T14:45:11.795Z"
   },
   {
    "duration": 16,
    "start_time": "2021-11-08T14:45:11.825Z"
   },
   {
    "duration": 13,
    "start_time": "2021-11-08T14:45:11.844Z"
   },
   {
    "duration": 35,
    "start_time": "2021-11-08T14:45:11.859Z"
   },
   {
    "duration": 22,
    "start_time": "2021-11-08T14:45:11.896Z"
   },
   {
    "duration": 61,
    "start_time": "2021-11-08T14:45:11.921Z"
   },
   {
    "duration": 23,
    "start_time": "2021-11-08T14:45:11.985Z"
   },
   {
    "duration": 8,
    "start_time": "2021-11-08T14:50:07.084Z"
   },
   {
    "duration": 6,
    "start_time": "2021-11-08T14:52:14.690Z"
   },
   {
    "duration": 9,
    "start_time": "2021-11-08T14:53:07.593Z"
   },
   {
    "duration": 8,
    "start_time": "2021-11-08T14:53:55.505Z"
   },
   {
    "duration": 9,
    "start_time": "2021-11-08T15:02:40.882Z"
   },
   {
    "duration": 357,
    "start_time": "2021-11-08T15:06:22.695Z"
   },
   {
    "duration": 348,
    "start_time": "2021-11-08T15:06:42.391Z"
   },
   {
    "duration": 376,
    "start_time": "2021-11-08T15:08:06.662Z"
   },
   {
    "duration": 147,
    "start_time": "2021-11-08T15:09:11.989Z"
   },
   {
    "duration": 300,
    "start_time": "2021-11-08T15:09:14.891Z"
   },
   {
    "duration": 145,
    "start_time": "2021-11-08T15:12:25.185Z"
   },
   {
    "duration": 344,
    "start_time": "2021-11-08T15:12:30.657Z"
   },
   {
    "duration": 353,
    "start_time": "2021-11-08T15:13:20.736Z"
   },
   {
    "duration": 329,
    "start_time": "2021-11-08T15:13:36.905Z"
   },
   {
    "duration": 7,
    "start_time": "2021-11-08T15:14:11.967Z"
   },
   {
    "duration": 320,
    "start_time": "2021-11-08T15:14:30.807Z"
   },
   {
    "duration": 8,
    "start_time": "2021-11-08T15:14:38.678Z"
   },
   {
    "duration": 325,
    "start_time": "2021-11-08T15:14:56.143Z"
   },
   {
    "duration": 407,
    "start_time": "2021-11-08T15:15:09.214Z"
   },
   {
    "duration": 8,
    "start_time": "2021-11-08T15:15:11.758Z"
   },
   {
    "duration": 347,
    "start_time": "2021-11-08T15:15:39.726Z"
   },
   {
    "duration": 307,
    "start_time": "2021-11-08T15:17:35.076Z"
   },
   {
    "duration": 97,
    "start_time": "2021-11-08T15:20:35.585Z"
   },
   {
    "duration": 105,
    "start_time": "2021-11-08T15:20:43.601Z"
   },
   {
    "duration": 106,
    "start_time": "2021-11-08T15:20:53.002Z"
   },
   {
    "duration": 296,
    "start_time": "2021-11-08T15:21:10.081Z"
   },
   {
    "duration": 107,
    "start_time": "2021-11-08T15:22:15.865Z"
   },
   {
    "duration": 9,
    "start_time": "2021-11-08T15:25:51.004Z"
   },
   {
    "duration": 382,
    "start_time": "2021-11-08T15:25:55.630Z"
   },
   {
    "duration": 300,
    "start_time": "2021-11-08T15:26:09.740Z"
   },
   {
    "duration": 302,
    "start_time": "2021-11-08T15:27:04.267Z"
   },
   {
    "duration": 8,
    "start_time": "2021-11-08T15:27:27.595Z"
   },
   {
    "duration": 6,
    "start_time": "2021-11-08T15:36:14.795Z"
   },
   {
    "duration": 7,
    "start_time": "2021-11-08T15:36:23.419Z"
   },
   {
    "duration": 6,
    "start_time": "2021-11-08T15:41:54.479Z"
   },
   {
    "duration": 298,
    "start_time": "2021-11-08T15:44:11.749Z"
   },
   {
    "duration": 8,
    "start_time": "2021-11-08T15:44:16.278Z"
   },
   {
    "duration": 329,
    "start_time": "2021-11-09T12:09:23.663Z"
   },
   {
    "duration": 820,
    "start_time": "2021-11-09T12:09:32.227Z"
   },
   {
    "duration": 15,
    "start_time": "2021-11-09T12:09:33.049Z"
   },
   {
    "duration": 37,
    "start_time": "2021-11-09T12:09:33.067Z"
   },
   {
    "duration": 27,
    "start_time": "2021-11-09T12:09:33.107Z"
   },
   {
    "duration": 14,
    "start_time": "2021-11-09T12:09:33.137Z"
   },
   {
    "duration": 40,
    "start_time": "2021-11-09T12:09:33.154Z"
   },
   {
    "duration": 36,
    "start_time": "2021-11-09T12:09:33.197Z"
   },
   {
    "duration": 27,
    "start_time": "2021-11-09T12:09:33.236Z"
   },
   {
    "duration": 25,
    "start_time": "2021-11-09T12:09:33.265Z"
   },
   {
    "duration": 37,
    "start_time": "2021-11-09T12:09:33.292Z"
   },
   {
    "duration": 6,
    "start_time": "2021-11-09T12:09:33.331Z"
   },
   {
    "duration": 26,
    "start_time": "2021-11-09T12:09:33.339Z"
   },
   {
    "duration": 11,
    "start_time": "2021-11-09T12:12:55.209Z"
   },
   {
    "duration": 7,
    "start_time": "2021-11-09T12:13:25.631Z"
   },
   {
    "duration": 17,
    "start_time": "2021-11-09T12:13:27.984Z"
   },
   {
    "duration": 5,
    "start_time": "2021-11-09T12:13:28.704Z"
   },
   {
    "duration": 10,
    "start_time": "2021-11-09T12:13:35.359Z"
   },
   {
    "duration": 11,
    "start_time": "2021-11-09T12:13:36.432Z"
   },
   {
    "duration": 8,
    "start_time": "2021-11-09T12:13:36.735Z"
   },
   {
    "duration": 116,
    "start_time": "2021-11-09T12:13:43.520Z"
   },
   {
    "duration": 19,
    "start_time": "2021-11-09T12:13:43.639Z"
   },
   {
    "duration": 14,
    "start_time": "2021-11-09T12:13:43.662Z"
   },
   {
    "duration": 56,
    "start_time": "2021-11-09T12:13:43.679Z"
   },
   {
    "duration": 7,
    "start_time": "2021-11-09T12:13:43.738Z"
   },
   {
    "duration": 27,
    "start_time": "2021-11-09T12:13:43.748Z"
   },
   {
    "duration": 55,
    "start_time": "2021-11-09T12:13:43.778Z"
   },
   {
    "duration": 26,
    "start_time": "2021-11-09T12:13:43.836Z"
   },
   {
    "duration": 21,
    "start_time": "2021-11-09T12:13:43.865Z"
   },
   {
    "duration": 39,
    "start_time": "2021-11-09T12:13:43.889Z"
   },
   {
    "duration": 7,
    "start_time": "2021-11-09T12:13:43.932Z"
   },
   {
    "duration": 9,
    "start_time": "2021-11-09T12:13:43.942Z"
   },
   {
    "duration": 11,
    "start_time": "2021-11-09T12:13:43.954Z"
   },
   {
    "duration": 16,
    "start_time": "2021-11-09T12:13:43.968Z"
   },
   {
    "duration": 51,
    "start_time": "2021-11-09T12:13:43.986Z"
   },
   {
    "duration": 5,
    "start_time": "2021-11-09T12:14:04.343Z"
   },
   {
    "duration": 5,
    "start_time": "2021-11-09T12:14:04.982Z"
   },
   {
    "duration": 7,
    "start_time": "2021-11-09T12:14:05.382Z"
   },
   {
    "duration": 8,
    "start_time": "2021-11-09T12:15:13.254Z"
   },
   {
    "duration": 7,
    "start_time": "2021-11-09T12:15:29.502Z"
   },
   {
    "duration": 314,
    "start_time": "2021-11-09T12:34:53.009Z"
   },
   {
    "duration": 128,
    "start_time": "2021-11-09T15:04:07.926Z"
   },
   {
    "duration": 128,
    "start_time": "2021-11-09T15:04:13.484Z"
   },
   {
    "duration": 470,
    "start_time": "2021-11-09T15:04:19.789Z"
   },
   {
    "duration": 889,
    "start_time": "2021-11-09T15:04:25.531Z"
   },
   {
    "duration": 15,
    "start_time": "2021-11-09T15:04:26.422Z"
   },
   {
    "duration": 23,
    "start_time": "2021-11-09T15:04:26.439Z"
   },
   {
    "duration": 26,
    "start_time": "2021-11-09T15:04:26.465Z"
   },
   {
    "duration": 8,
    "start_time": "2021-11-09T15:04:26.493Z"
   },
   {
    "duration": 22,
    "start_time": "2021-11-09T15:04:26.503Z"
   },
   {
    "duration": 38,
    "start_time": "2021-11-09T15:04:26.528Z"
   },
   {
    "duration": 25,
    "start_time": "2021-11-09T15:04:26.571Z"
   },
   {
    "duration": 23,
    "start_time": "2021-11-09T15:04:26.599Z"
   },
   {
    "duration": 38,
    "start_time": "2021-11-09T15:04:26.625Z"
   },
   {
    "duration": 18,
    "start_time": "2021-11-09T15:04:26.666Z"
   },
   {
    "duration": 20,
    "start_time": "2021-11-09T15:04:26.687Z"
   },
   {
    "duration": 22,
    "start_time": "2021-11-09T15:04:26.711Z"
   },
   {
    "duration": 22,
    "start_time": "2021-11-09T15:04:26.735Z"
   },
   {
    "duration": 18,
    "start_time": "2021-11-09T15:04:26.760Z"
   },
   {
    "duration": 14,
    "start_time": "2021-11-09T15:04:26.782Z"
   },
   {
    "duration": 20,
    "start_time": "2021-11-09T15:04:26.798Z"
   },
   {
    "duration": 67,
    "start_time": "2021-11-09T15:04:26.821Z"
   },
   {
    "duration": 153,
    "start_time": "2021-11-09T15:04:54.940Z"
   },
   {
    "duration": 20,
    "start_time": "2021-11-09T15:04:59.020Z"
   },
   {
    "duration": 6,
    "start_time": "2021-11-09T15:08:39.650Z"
   },
   {
    "duration": 137,
    "start_time": "2021-11-09T15:08:47.761Z"
   },
   {
    "duration": 6,
    "start_time": "2021-11-09T15:08:53.769Z"
   },
   {
    "duration": 137,
    "start_time": "2021-11-09T15:14:06.317Z"
   },
   {
    "duration": 532,
    "start_time": "2021-11-09T15:14:21.574Z"
   },
   {
    "duration": 128,
    "start_time": "2021-11-09T15:17:22.347Z"
   },
   {
    "duration": 36,
    "start_time": "2021-11-09T15:17:26.306Z"
   },
   {
    "duration": 27,
    "start_time": "2021-11-09T15:17:54.049Z"
   },
   {
    "duration": 131,
    "start_time": "2021-11-09T15:18:39.793Z"
   },
   {
    "duration": 154,
    "start_time": "2021-11-09T15:20:07.519Z"
   },
   {
    "duration": 490,
    "start_time": "2021-11-09T15:20:24.936Z"
   },
   {
    "duration": 7,
    "start_time": "2021-11-09T15:22:12.078Z"
   },
   {
    "duration": 9,
    "start_time": "2021-11-09T15:22:16.741Z"
   },
   {
    "duration": 905,
    "start_time": "2021-11-09T15:22:51.678Z"
   },
   {
    "duration": 927,
    "start_time": "2021-11-09T15:23:36.245Z"
   },
   {
    "duration": 957,
    "start_time": "2021-11-09T15:24:10.924Z"
   },
   {
    "duration": 932,
    "start_time": "2021-11-09T15:24:39.837Z"
   },
   {
    "duration": 961,
    "start_time": "2021-11-09T15:24:48.093Z"
   },
   {
    "duration": 92,
    "start_time": "2021-11-09T15:25:10.924Z"
   },
   {
    "duration": 20,
    "start_time": "2021-11-09T15:25:11.019Z"
   },
   {
    "duration": 26,
    "start_time": "2021-11-09T15:25:11.045Z"
   },
   {
    "duration": 26,
    "start_time": "2021-11-09T15:25:11.076Z"
   },
   {
    "duration": 9,
    "start_time": "2021-11-09T15:25:11.105Z"
   },
   {
    "duration": 61,
    "start_time": "2021-11-09T15:25:11.117Z"
   },
   {
    "duration": 21,
    "start_time": "2021-11-09T15:25:11.181Z"
   },
   {
    "duration": 67,
    "start_time": "2021-11-09T15:25:11.207Z"
   },
   {
    "duration": 33,
    "start_time": "2021-11-09T15:25:11.278Z"
   },
   {
    "duration": 7,
    "start_time": "2021-11-09T15:25:11.314Z"
   },
   {
    "duration": 36,
    "start_time": "2021-11-09T15:25:11.324Z"
   },
   {
    "duration": 7,
    "start_time": "2021-11-09T15:25:11.363Z"
   },
   {
    "duration": 10,
    "start_time": "2021-11-09T15:25:11.372Z"
   },
   {
    "duration": 9,
    "start_time": "2021-11-09T15:25:11.384Z"
   },
   {
    "duration": 12,
    "start_time": "2021-11-09T15:25:11.397Z"
   },
   {
    "duration": 9,
    "start_time": "2021-11-09T15:25:11.413Z"
   },
   {
    "duration": 11,
    "start_time": "2021-11-09T15:25:11.461Z"
   },
   {
    "duration": 949,
    "start_time": "2021-11-09T15:25:11.476Z"
   },
   {
    "duration": 6,
    "start_time": "2021-11-09T15:25:27.499Z"
   },
   {
    "duration": 1419,
    "start_time": "2021-11-09T15:25:53.499Z"
   },
   {
    "duration": 1006,
    "start_time": "2021-11-09T15:25:57.874Z"
   },
   {
    "duration": 4,
    "start_time": "2021-11-09T15:26:07.212Z"
   },
   {
    "duration": 12,
    "start_time": "2021-11-09T15:44:38.578Z"
   },
   {
    "duration": 6,
    "start_time": "2021-11-09T15:56:10.810Z"
   },
   {
    "duration": 10382,
    "start_time": "2021-11-09T16:01:06.560Z"
   },
   {
    "duration": 10,
    "start_time": "2021-11-09T16:02:08.182Z"
   },
   {
    "duration": 8,
    "start_time": "2021-11-09T16:02:12.653Z"
   },
   {
    "duration": 6,
    "start_time": "2021-11-09T16:02:34.852Z"
   },
   {
    "duration": 11,
    "start_time": "2021-11-09T16:54:59.777Z"
   },
   {
    "duration": 148,
    "start_time": "2021-11-09T17:45:27.294Z"
   },
   {
    "duration": 144,
    "start_time": "2021-11-09T17:46:39.813Z"
   },
   {
    "duration": 128,
    "start_time": "2021-11-09T17:49:33.442Z"
   },
   {
    "duration": 401,
    "start_time": "2021-11-09T17:50:02.402Z"
   },
   {
    "duration": 389,
    "start_time": "2021-11-09T17:50:15.585Z"
   },
   {
    "duration": 387,
    "start_time": "2021-11-09T17:50:38.522Z"
   },
   {
    "duration": 1023,
    "start_time": "2021-11-09T18:04:02.021Z"
   },
   {
    "duration": 16,
    "start_time": "2021-11-09T18:04:03.048Z"
   },
   {
    "duration": 17,
    "start_time": "2021-11-09T18:04:03.067Z"
   },
   {
    "duration": 30,
    "start_time": "2021-11-09T18:04:03.087Z"
   },
   {
    "duration": 8,
    "start_time": "2021-11-09T18:04:03.119Z"
   },
   {
    "duration": 30,
    "start_time": "2021-11-09T18:04:03.130Z"
   },
   {
    "duration": 21,
    "start_time": "2021-11-09T18:04:03.163Z"
   },
   {
    "duration": 23,
    "start_time": "2021-11-09T18:04:03.188Z"
   },
   {
    "duration": 50,
    "start_time": "2021-11-09T18:04:03.215Z"
   },
   {
    "duration": 6,
    "start_time": "2021-11-09T18:04:03.267Z"
   },
   {
    "duration": 8,
    "start_time": "2021-11-09T18:04:03.276Z"
   },
   {
    "duration": 12,
    "start_time": "2021-11-09T18:04:03.286Z"
   },
   {
    "duration": 6,
    "start_time": "2021-11-09T18:04:03.300Z"
   },
   {
    "duration": 8,
    "start_time": "2021-11-09T18:04:03.308Z"
   },
   {
    "duration": 42,
    "start_time": "2021-11-09T18:04:03.319Z"
   },
   {
    "duration": 5,
    "start_time": "2021-11-09T18:04:03.364Z"
   },
   {
    "duration": 14,
    "start_time": "2021-11-09T18:04:03.371Z"
   },
   {
    "duration": 1011,
    "start_time": "2021-11-09T18:04:03.387Z"
   },
   {
    "duration": 4,
    "start_time": "2021-11-09T18:04:04.400Z"
   },
   {
    "duration": 126,
    "start_time": "2021-11-09T18:04:04.407Z"
   },
   {
    "duration": 414,
    "start_time": "2021-11-09T18:04:04.122Z"
   },
   {
    "duration": 412,
    "start_time": "2021-11-09T18:04:04.125Z"
   },
   {
    "duration": 131,
    "start_time": "2021-11-09T18:04:23.838Z"
   },
   {
    "duration": 132,
    "start_time": "2021-11-09T18:05:02.365Z"
   },
   {
    "duration": 162,
    "start_time": "2021-11-09T18:07:15.716Z"
   },
   {
    "duration": 3690,
    "start_time": "2021-11-09T18:07:25.182Z"
   },
   {
    "duration": 8,
    "start_time": "2021-11-09T18:07:28.874Z"
   },
   {
    "duration": 941,
    "start_time": "2021-11-09T18:07:30.444Z"
   },
   {
    "duration": 3989,
    "start_time": "2021-11-09T18:07:32.862Z"
   },
   {
    "duration": 4019,
    "start_time": "2021-11-09T18:07:37.282Z"
   },
   {
    "duration": 3733,
    "start_time": "2021-11-09T18:08:35.834Z"
   },
   {
    "duration": 8,
    "start_time": "2021-11-09T18:08:39.569Z"
   },
   {
    "duration": 3653,
    "start_time": "2021-11-09T18:10:57.144Z"
   },
   {
    "duration": 7,
    "start_time": "2021-11-09T18:11:00.799Z"
   },
   {
    "duration": 4299,
    "start_time": "2021-11-09T18:13:45.295Z"
   },
   {
    "duration": 5,
    "start_time": "2021-11-09T18:13:49.773Z"
   },
   {
    "duration": 4589,
    "start_time": "2021-11-09T18:16:56.010Z"
   },
   {
    "duration": 5,
    "start_time": "2021-11-09T18:17:00.601Z"
   },
   {
    "duration": 137,
    "start_time": "2021-11-09T18:22:42.454Z"
   },
   {
    "duration": 385,
    "start_time": "2021-11-10T10:06:39.738Z"
   },
   {
    "duration": 864,
    "start_time": "2021-11-10T10:07:06.744Z"
   },
   {
    "duration": 16,
    "start_time": "2021-11-10T10:07:07.611Z"
   },
   {
    "duration": 12,
    "start_time": "2021-11-10T10:07:07.629Z"
   },
   {
    "duration": 55,
    "start_time": "2021-11-10T10:07:07.643Z"
   },
   {
    "duration": 7,
    "start_time": "2021-11-10T10:07:07.703Z"
   },
   {
    "duration": 16,
    "start_time": "2021-11-10T10:07:07.713Z"
   },
   {
    "duration": 23,
    "start_time": "2021-11-10T10:07:07.731Z"
   },
   {
    "duration": 29,
    "start_time": "2021-11-10T10:07:07.785Z"
   },
   {
    "duration": 22,
    "start_time": "2021-11-10T10:07:07.816Z"
   },
   {
    "duration": 7,
    "start_time": "2021-11-10T10:07:07.840Z"
   },
   {
    "duration": 37,
    "start_time": "2021-11-10T10:07:07.849Z"
   },
   {
    "duration": 15,
    "start_time": "2021-11-10T10:07:07.888Z"
   },
   {
    "duration": 7,
    "start_time": "2021-11-10T10:07:07.905Z"
   },
   {
    "duration": 6,
    "start_time": "2021-11-10T10:07:07.914Z"
   },
   {
    "duration": 7,
    "start_time": "2021-11-10T10:07:07.923Z"
   },
   {
    "duration": 10,
    "start_time": "2021-11-10T10:07:07.932Z"
   },
   {
    "duration": 49,
    "start_time": "2021-11-10T10:07:07.944Z"
   },
   {
    "duration": 957,
    "start_time": "2021-11-10T10:07:07.996Z"
   },
   {
    "duration": 5,
    "start_time": "2021-11-10T10:07:08.956Z"
   },
   {
    "duration": 3906,
    "start_time": "2021-11-10T10:07:08.963Z"
   },
   {
    "duration": 8,
    "start_time": "2021-11-10T10:08:22.676Z"
   },
   {
    "duration": 19,
    "start_time": "2021-11-10T10:09:15.758Z"
   },
   {
    "duration": 1808,
    "start_time": "2021-11-10T10:10:03.376Z"
   },
   {
    "duration": 18,
    "start_time": "2021-11-10T10:10:05.187Z"
   },
   {
    "duration": 749,
    "start_time": "2021-11-10T13:45:51.775Z"
   },
   {
    "duration": 13,
    "start_time": "2021-11-10T13:45:52.526Z"
   },
   {
    "duration": 12,
    "start_time": "2021-11-10T13:45:52.542Z"
   },
   {
    "duration": 12,
    "start_time": "2021-11-10T13:45:52.557Z"
   },
   {
    "duration": 11,
    "start_time": "2021-11-10T13:45:52.571Z"
   },
   {
    "duration": 31,
    "start_time": "2021-11-10T13:45:52.583Z"
   },
   {
    "duration": 16,
    "start_time": "2021-11-10T13:45:52.616Z"
   },
   {
    "duration": 23,
    "start_time": "2021-11-10T13:45:52.635Z"
   },
   {
    "duration": 18,
    "start_time": "2021-11-10T13:45:52.660Z"
   },
   {
    "duration": 30,
    "start_time": "2021-11-10T13:45:52.680Z"
   },
   {
    "duration": 17,
    "start_time": "2021-11-10T13:45:52.712Z"
   },
   {
    "duration": 15,
    "start_time": "2021-11-10T13:45:52.731Z"
   },
   {
    "duration": 13,
    "start_time": "2021-11-10T13:45:52.748Z"
   },
   {
    "duration": 15,
    "start_time": "2021-11-10T13:45:52.763Z"
   },
   {
    "duration": 12,
    "start_time": "2021-11-10T13:45:52.780Z"
   },
   {
    "duration": 20,
    "start_time": "2021-11-10T13:45:52.794Z"
   },
   {
    "duration": 23,
    "start_time": "2021-11-10T13:45:52.815Z"
   },
   {
    "duration": 671,
    "start_time": "2021-11-10T13:45:52.839Z"
   },
   {
    "duration": 5,
    "start_time": "2021-11-10T13:45:53.512Z"
   },
   {
    "duration": 2996,
    "start_time": "2021-11-10T13:45:57.251Z"
   },
   {
    "duration": 60,
    "start_time": "2021-11-10T13:46:12.988Z"
   },
   {
    "duration": 11,
    "start_time": "2021-11-10T13:46:13.050Z"
   },
   {
    "duration": 17,
    "start_time": "2021-11-10T13:46:13.063Z"
   },
   {
    "duration": 34,
    "start_time": "2021-11-10T13:46:13.082Z"
   },
   {
    "duration": 12,
    "start_time": "2021-11-10T13:46:13.118Z"
   },
   {
    "duration": 16,
    "start_time": "2021-11-10T13:46:13.132Z"
   },
   {
    "duration": 17,
    "start_time": "2021-11-10T13:46:13.150Z"
   },
   {
    "duration": 40,
    "start_time": "2021-11-10T13:46:13.169Z"
   },
   {
    "duration": 16,
    "start_time": "2021-11-10T13:46:13.212Z"
   },
   {
    "duration": 9,
    "start_time": "2021-11-10T13:46:13.230Z"
   },
   {
    "duration": 33,
    "start_time": "2021-11-10T13:46:13.241Z"
   },
   {
    "duration": 10,
    "start_time": "2021-11-10T13:46:13.276Z"
   },
   {
    "duration": 6,
    "start_time": "2021-11-10T13:46:13.288Z"
   },
   {
    "duration": 28,
    "start_time": "2021-11-10T13:46:13.296Z"
   },
   {
    "duration": 8,
    "start_time": "2021-11-10T13:46:13.326Z"
   },
   {
    "duration": 5,
    "start_time": "2021-11-10T13:46:13.336Z"
   },
   {
    "duration": 27,
    "start_time": "2021-11-10T13:46:13.343Z"
   },
   {
    "duration": 722,
    "start_time": "2021-11-10T13:46:13.371Z"
   },
   {
    "duration": 13,
    "start_time": "2021-11-10T13:46:14.095Z"
   },
   {
    "duration": 3183,
    "start_time": "2021-11-10T13:46:14.110Z"
   },
   {
    "duration": 15,
    "start_time": "2021-11-10T13:46:34.387Z"
   },
   {
    "duration": 14,
    "start_time": "2021-11-10T14:22:25.860Z"
   },
   {
    "duration": 1974,
    "start_time": "2021-11-10T14:22:27.436Z"
   },
   {
    "duration": 1887,
    "start_time": "2021-11-10T14:22:31.830Z"
   },
   {
    "duration": 3410,
    "start_time": "2021-11-10T14:23:06.364Z"
   },
   {
    "duration": 61,
    "start_time": "2021-11-10T14:23:13.085Z"
   },
   {
    "duration": 10,
    "start_time": "2021-11-10T14:23:13.148Z"
   },
   {
    "duration": 13,
    "start_time": "2021-11-10T14:23:13.160Z"
   },
   {
    "duration": 42,
    "start_time": "2021-11-10T14:23:13.175Z"
   },
   {
    "duration": 5,
    "start_time": "2021-11-10T14:23:13.218Z"
   },
   {
    "duration": 15,
    "start_time": "2021-11-10T14:23:13.224Z"
   },
   {
    "duration": 15,
    "start_time": "2021-11-10T14:23:13.241Z"
   },
   {
    "duration": 50,
    "start_time": "2021-11-10T14:23:13.259Z"
   },
   {
    "duration": 17,
    "start_time": "2021-11-10T14:23:13.311Z"
   },
   {
    "duration": 5,
    "start_time": "2021-11-10T14:23:13.329Z"
   },
   {
    "duration": 9,
    "start_time": "2021-11-10T14:23:13.336Z"
   },
   {
    "duration": 7,
    "start_time": "2021-11-10T14:23:13.347Z"
   },
   {
    "duration": 5,
    "start_time": "2021-11-10T14:23:13.356Z"
   },
   {
    "duration": 44,
    "start_time": "2021-11-10T14:23:13.363Z"
   },
   {
    "duration": 6,
    "start_time": "2021-11-10T14:23:13.409Z"
   },
   {
    "duration": 9,
    "start_time": "2021-11-10T14:23:13.417Z"
   },
   {
    "duration": 9,
    "start_time": "2021-11-10T14:23:13.428Z"
   },
   {
    "duration": 844,
    "start_time": "2021-11-10T14:23:13.439Z"
   },
   {
    "duration": 4,
    "start_time": "2021-11-10T14:23:14.285Z"
   },
   {
    "duration": 3539,
    "start_time": "2021-11-10T14:23:14.291Z"
   },
   {
    "duration": 2354,
    "start_time": "2021-11-10T14:24:02.324Z"
   },
   {
    "duration": 13,
    "start_time": "2021-11-10T14:24:04.891Z"
   },
   {
    "duration": 1731,
    "start_time": "2021-11-10T14:24:07.434Z"
   },
   {
    "duration": 10,
    "start_time": "2021-11-10T14:24:33.362Z"
   },
   {
    "duration": 9,
    "start_time": "2021-11-10T14:24:35.658Z"
   },
   {
    "duration": 14,
    "start_time": "2021-11-10T14:24:37.291Z"
   },
   {
    "duration": 7,
    "start_time": "2021-11-10T14:25:54.560Z"
   },
   {
    "duration": 9,
    "start_time": "2021-11-10T14:27:56.407Z"
   },
   {
    "duration": 10,
    "start_time": "2021-11-10T14:27:59.359Z"
   },
   {
    "duration": 9,
    "start_time": "2021-11-10T14:28:12.624Z"
   },
   {
    "duration": 8,
    "start_time": "2021-11-10T14:28:15.614Z"
   },
   {
    "duration": 9,
    "start_time": "2021-11-10T14:28:30.047Z"
   },
   {
    "duration": 8,
    "start_time": "2021-11-10T14:28:32.551Z"
   },
   {
    "duration": 9,
    "start_time": "2021-11-10T14:28:52.342Z"
   },
   {
    "duration": 7,
    "start_time": "2021-11-10T14:28:55.006Z"
   },
   {
    "duration": 11,
    "start_time": "2021-11-10T14:28:59.821Z"
   },
   {
    "duration": 9,
    "start_time": "2021-11-10T14:29:05.038Z"
   },
   {
    "duration": 9,
    "start_time": "2021-11-10T14:29:07.734Z"
   },
   {
    "duration": 8,
    "start_time": "2021-11-10T14:29:24.070Z"
   },
   {
    "duration": 7,
    "start_time": "2021-11-10T14:29:27.230Z"
   },
   {
    "duration": 9,
    "start_time": "2021-11-10T14:32:54.172Z"
   },
   {
    "duration": 15,
    "start_time": "2021-11-10T14:32:56.030Z"
   },
   {
    "duration": 7,
    "start_time": "2021-11-10T14:32:59.154Z"
   },
   {
    "duration": 15,
    "start_time": "2021-11-10T14:41:14.268Z"
   },
   {
    "duration": 118,
    "start_time": "2021-11-10T14:41:26.287Z"
   },
   {
    "duration": 13,
    "start_time": "2021-11-10T14:41:26.709Z"
   },
   {
    "duration": 145,
    "start_time": "2021-11-10T14:41:53.052Z"
   },
   {
    "duration": 2137,
    "start_time": "2021-11-10T14:42:09.396Z"
   },
   {
    "duration": -417,
    "start_time": "2021-11-10T14:42:11.951Z"
   },
   {
    "duration": 8,
    "start_time": "2021-11-10T14:42:18.268Z"
   },
   {
    "duration": 15,
    "start_time": "2021-11-10T14:42:19.131Z"
   },
   {
    "duration": 8,
    "start_time": "2021-11-10T14:42:45.058Z"
   },
   {
    "duration": 14,
    "start_time": "2021-11-10T14:42:46.372Z"
   },
   {
    "duration": 9,
    "start_time": "2021-11-10T14:44:19.353Z"
   },
   {
    "duration": 15,
    "start_time": "2021-11-10T14:44:19.970Z"
   },
   {
    "duration": 8,
    "start_time": "2021-11-10T15:36:34.254Z"
   },
   {
    "duration": 15,
    "start_time": "2021-11-10T15:36:34.879Z"
   },
   {
    "duration": 10,
    "start_time": "2021-11-10T15:37:33.141Z"
   },
   {
    "duration": 22,
    "start_time": "2021-11-10T15:37:38.237Z"
   },
   {
    "duration": 10,
    "start_time": "2021-11-10T15:38:11.300Z"
   },
   {
    "duration": 8,
    "start_time": "2021-11-10T15:40:08.908Z"
   },
   {
    "duration": 21,
    "start_time": "2021-11-10T15:40:14.851Z"
   },
   {
    "duration": 8,
    "start_time": "2021-11-10T15:40:46.411Z"
   },
   {
    "duration": 5,
    "start_time": "2021-11-10T15:56:25.005Z"
   },
   {
    "duration": 6,
    "start_time": "2021-11-10T15:56:29.653Z"
   },
   {
    "duration": 124,
    "start_time": "2021-11-10T15:58:24.580Z"
   },
   {
    "duration": 7,
    "start_time": "2021-11-10T15:58:28.783Z"
   },
   {
    "duration": 8,
    "start_time": "2021-11-10T15:58:55.244Z"
   },
   {
    "duration": 134,
    "start_time": "2021-11-10T16:40:51.672Z"
   },
   {
    "duration": 403,
    "start_time": "2021-11-10T16:41:04.080Z"
   },
   {
    "duration": 118,
    "start_time": "2021-11-10T16:42:11.384Z"
   },
   {
    "duration": 384,
    "start_time": "2021-11-10T16:44:56.093Z"
   },
   {
    "duration": 20,
    "start_time": "2021-11-10T16:49:59.577Z"
   },
   {
    "duration": 18,
    "start_time": "2021-11-10T16:50:01.937Z"
   },
   {
    "duration": 6,
    "start_time": "2021-11-10T16:50:04.608Z"
   },
   {
    "duration": 8,
    "start_time": "2021-11-10T16:50:06.863Z"
   },
   {
    "duration": 6,
    "start_time": "2021-11-10T16:50:08.480Z"
   },
   {
    "duration": 20,
    "start_time": "2021-11-10T16:50:09.520Z"
   },
   {
    "duration": 18,
    "start_time": "2021-11-10T16:50:18.887Z"
   },
   {
    "duration": 16,
    "start_time": "2021-11-10T16:53:12.141Z"
   },
   {
    "duration": 16,
    "start_time": "2021-11-10T16:53:15.108Z"
   },
   {
    "duration": 18,
    "start_time": "2021-11-10T16:53:20.388Z"
   },
   {
    "duration": 19,
    "start_time": "2021-11-10T16:53:56.454Z"
   },
   {
    "duration": 7,
    "start_time": "2021-11-10T16:53:58.307Z"
   },
   {
    "duration": 8,
    "start_time": "2021-11-10T16:54:02.620Z"
   },
   {
    "duration": 19,
    "start_time": "2021-11-10T16:54:22.236Z"
   },
   {
    "duration": 8,
    "start_time": "2021-11-10T16:54:24.788Z"
   },
   {
    "duration": 41,
    "start_time": "2021-11-10T16:54:26.644Z"
   },
   {
    "duration": 20,
    "start_time": "2021-11-10T16:54:55.964Z"
   },
   {
    "duration": 8,
    "start_time": "2021-11-10T16:55:03.747Z"
   },
   {
    "duration": 8,
    "start_time": "2021-11-10T16:55:06.419Z"
   },
   {
    "duration": 6,
    "start_time": "2021-11-10T16:55:07.116Z"
   },
   {
    "duration": 20,
    "start_time": "2021-11-10T16:55:07.643Z"
   },
   {
    "duration": 20,
    "start_time": "2021-11-10T16:55:26.015Z"
   },
   {
    "duration": 377,
    "start_time": "2021-11-10T16:56:22.323Z"
   },
   {
    "duration": 20,
    "start_time": "2021-11-10T16:57:08.531Z"
   },
   {
    "duration": 146,
    "start_time": "2021-11-10T16:57:51.674Z"
   },
   {
    "duration": 386,
    "start_time": "2021-11-10T16:58:12.977Z"
   },
   {
    "duration": 20,
    "start_time": "2021-11-10T16:58:19.264Z"
   },
   {
    "duration": 350,
    "start_time": "2021-11-10T16:58:31.513Z"
   },
   {
    "duration": 19,
    "start_time": "2021-11-10T16:59:24.824Z"
   },
   {
    "duration": 18,
    "start_time": "2021-11-10T16:59:48.488Z"
   },
   {
    "duration": 23,
    "start_time": "2021-11-10T17:01:03.983Z"
   },
   {
    "duration": 19,
    "start_time": "2021-11-10T17:01:10.280Z"
   },
   {
    "duration": 19,
    "start_time": "2021-11-10T17:27:13.632Z"
   },
   {
    "duration": 21,
    "start_time": "2021-11-10T17:27:44.121Z"
   },
   {
    "duration": 20,
    "start_time": "2021-11-10T17:27:56.697Z"
   },
   {
    "duration": 19,
    "start_time": "2021-11-10T17:34:14.811Z"
   },
   {
    "duration": 21,
    "start_time": "2021-11-10T17:34:18.018Z"
   },
   {
    "duration": 21,
    "start_time": "2021-11-10T17:38:28.247Z"
   },
   {
    "duration": 20,
    "start_time": "2021-11-10T17:38:29.142Z"
   },
   {
    "duration": 430,
    "start_time": "2021-11-10T17:43:37.339Z"
   },
   {
    "duration": 27,
    "start_time": "2021-11-10T17:43:46.187Z"
   },
   {
    "duration": 18,
    "start_time": "2021-11-10T17:44:21.604Z"
   },
   {
    "duration": 21,
    "start_time": "2021-11-10T17:44:40.833Z"
   },
   {
    "duration": 18,
    "start_time": "2021-11-10T17:45:15.522Z"
   },
   {
    "duration": 20,
    "start_time": "2021-11-10T17:45:44.865Z"
   },
   {
    "duration": 19,
    "start_time": "2021-11-10T17:45:52.553Z"
   },
   {
    "duration": 365,
    "start_time": "2021-11-10T18:00:49.164Z"
   },
   {
    "duration": 21,
    "start_time": "2021-11-10T18:01:11.949Z"
   },
   {
    "duration": 375,
    "start_time": "2021-11-10T18:03:24.387Z"
   },
   {
    "duration": 23,
    "start_time": "2021-11-10T18:03:30.226Z"
   },
   {
    "duration": 453,
    "start_time": "2021-11-10T18:05:17.225Z"
   },
   {
    "duration": 22,
    "start_time": "2021-11-10T18:05:23.209Z"
   },
   {
    "duration": 9807,
    "start_time": "2021-11-10T18:08:37.574Z"
   },
   {
    "duration": 9274,
    "start_time": "2021-11-10T18:08:47.500Z"
   },
   {
    "duration": 119,
    "start_time": "2021-11-10T18:09:00.857Z"
   },
   {
    "duration": 121,
    "start_time": "2021-11-10T18:09:07.429Z"
   },
   {
    "duration": 9506,
    "start_time": "2021-11-10T18:09:12.861Z"
   },
   {
    "duration": 149,
    "start_time": "2021-11-10T18:09:41.630Z"
   },
   {
    "duration": 124,
    "start_time": "2021-11-11T13:29:05.361Z"
   },
   {
    "duration": 426,
    "start_time": "2021-11-11T14:17:41.811Z"
   },
   {
    "duration": 909,
    "start_time": "2021-11-11T14:17:49.825Z"
   },
   {
    "duration": 24,
    "start_time": "2021-11-11T14:17:50.737Z"
   },
   {
    "duration": 13,
    "start_time": "2021-11-11T14:17:50.763Z"
   },
   {
    "duration": 17,
    "start_time": "2021-11-11T14:17:50.779Z"
   },
   {
    "duration": 6,
    "start_time": "2021-11-11T14:17:50.798Z"
   },
   {
    "duration": 55,
    "start_time": "2021-11-11T14:17:50.806Z"
   },
   {
    "duration": 24,
    "start_time": "2021-11-11T14:17:50.863Z"
   },
   {
    "duration": 26,
    "start_time": "2021-11-11T14:17:50.890Z"
   },
   {
    "duration": 50,
    "start_time": "2021-11-11T14:17:50.919Z"
   },
   {
    "duration": 7,
    "start_time": "2021-11-11T14:17:50.971Z"
   },
   {
    "duration": 133,
    "start_time": "2021-11-11T14:17:50.980Z"
   },
   {
    "duration": 798,
    "start_time": "2021-11-11T14:17:50.319Z"
   },
   {
    "duration": 796,
    "start_time": "2021-11-11T14:17:50.323Z"
   },
   {
    "duration": 795,
    "start_time": "2021-11-11T14:17:50.326Z"
   },
   {
    "duration": 775,
    "start_time": "2021-11-11T14:17:50.349Z"
   },
   {
    "duration": 771,
    "start_time": "2021-11-11T14:17:50.355Z"
   },
   {
    "duration": 764,
    "start_time": "2021-11-11T14:17:50.364Z"
   },
   {
    "duration": 762,
    "start_time": "2021-11-11T14:17:50.368Z"
   },
   {
    "duration": 761,
    "start_time": "2021-11-11T14:17:50.372Z"
   },
   {
    "duration": 760,
    "start_time": "2021-11-11T14:17:50.375Z"
   },
   {
    "duration": 759,
    "start_time": "2021-11-11T14:17:50.378Z"
   },
   {
    "duration": 757,
    "start_time": "2021-11-11T14:17:50.381Z"
   },
   {
    "duration": 755,
    "start_time": "2021-11-11T14:17:50.384Z"
   },
   {
    "duration": 9321,
    "start_time": "2021-11-11T14:17:59.710Z"
   },
   {
    "duration": 721,
    "start_time": "2021-11-11T14:18:08.313Z"
   },
   {
    "duration": 781,
    "start_time": "2021-11-11T14:26:12.841Z"
   },
   {
    "duration": 779,
    "start_time": "2021-11-11T14:26:12.844Z"
   },
   {
    "duration": 13,
    "start_time": "2021-11-11T14:26:13.766Z"
   },
   {
    "duration": 19,
    "start_time": "2021-11-11T14:26:17.537Z"
   },
   {
    "duration": 76,
    "start_time": "2021-11-11T14:26:38.538Z"
   },
   {
    "duration": 14,
    "start_time": "2021-11-11T14:26:38.616Z"
   },
   {
    "duration": 38,
    "start_time": "2021-11-11T14:26:38.633Z"
   },
   {
    "duration": 16,
    "start_time": "2021-11-11T14:26:38.673Z"
   },
   {
    "duration": 6,
    "start_time": "2021-11-11T14:26:38.692Z"
   },
   {
    "duration": 19,
    "start_time": "2021-11-11T14:26:38.700Z"
   },
   {
    "duration": 56,
    "start_time": "2021-11-11T14:26:38.721Z"
   },
   {
    "duration": 24,
    "start_time": "2021-11-11T14:26:38.781Z"
   },
   {
    "duration": 21,
    "start_time": "2021-11-11T14:26:38.807Z"
   },
   {
    "duration": 36,
    "start_time": "2021-11-11T14:26:38.830Z"
   },
   {
    "duration": 6,
    "start_time": "2021-11-11T14:26:38.868Z"
   },
   {
    "duration": 119,
    "start_time": "2021-11-11T14:26:38.876Z"
   },
   {
    "duration": 789,
    "start_time": "2021-11-11T14:26:38.209Z"
   },
   {
    "duration": 768,
    "start_time": "2021-11-11T14:26:38.231Z"
   },
   {
    "duration": 763,
    "start_time": "2021-11-11T14:26:38.237Z"
   },
   {
    "duration": 762,
    "start_time": "2021-11-11T14:26:38.240Z"
   },
   {
    "duration": 760,
    "start_time": "2021-11-11T14:26:38.243Z"
   },
   {
    "duration": 758,
    "start_time": "2021-11-11T14:26:38.246Z"
   },
   {
    "duration": 754,
    "start_time": "2021-11-11T14:26:38.252Z"
   },
   {
    "duration": 753,
    "start_time": "2021-11-11T14:26:38.255Z"
   },
   {
    "duration": 2395,
    "start_time": "2021-11-11T14:26:41.134Z"
   },
   {
    "duration": 771,
    "start_time": "2021-11-11T14:26:42.760Z"
   },
   {
    "duration": 768,
    "start_time": "2021-11-11T14:26:42.764Z"
   },
   {
    "duration": 1944,
    "start_time": "2021-11-11T14:26:53.647Z"
   },
   {
    "duration": 925,
    "start_time": "2021-11-11T14:27:01.774Z"
   },
   {
    "duration": 4,
    "start_time": "2021-11-11T14:27:02.702Z"
   },
   {
    "duration": 77,
    "start_time": "2021-11-11T14:27:07.624Z"
   },
   {
    "duration": 14,
    "start_time": "2021-11-11T14:27:07.704Z"
   },
   {
    "duration": 39,
    "start_time": "2021-11-11T14:27:07.721Z"
   },
   {
    "duration": 15,
    "start_time": "2021-11-11T14:27:07.763Z"
   },
   {
    "duration": 6,
    "start_time": "2021-11-11T14:27:07.780Z"
   },
   {
    "duration": 18,
    "start_time": "2021-11-11T14:27:07.788Z"
   },
   {
    "duration": 53,
    "start_time": "2021-11-11T14:27:07.808Z"
   },
   {
    "duration": 24,
    "start_time": "2021-11-11T14:27:07.865Z"
   },
   {
    "duration": 21,
    "start_time": "2021-11-11T14:27:07.891Z"
   },
   {
    "duration": 6,
    "start_time": "2021-11-11T14:27:07.915Z"
   },
   {
    "duration": 39,
    "start_time": "2021-11-11T14:27:07.924Z"
   },
   {
    "duration": 129,
    "start_time": "2021-11-11T14:27:07.965Z"
   },
   {
    "duration": 795,
    "start_time": "2021-11-11T14:27:07.301Z"
   },
   {
    "duration": 790,
    "start_time": "2021-11-11T14:27:07.308Z"
   },
   {
    "duration": 788,
    "start_time": "2021-11-11T14:27:07.312Z"
   },
   {
    "duration": 778,
    "start_time": "2021-11-11T14:27:07.323Z"
   },
   {
    "duration": 777,
    "start_time": "2021-11-11T14:27:07.326Z"
   },
   {
    "duration": 777,
    "start_time": "2021-11-11T14:27:07.328Z"
   },
   {
    "duration": 773,
    "start_time": "2021-11-11T14:27:07.333Z"
   },
   {
    "duration": 772,
    "start_time": "2021-11-11T14:27:07.336Z"
   },
   {
    "duration": 935,
    "start_time": "2021-11-11T14:27:39.389Z"
   },
   {
    "duration": 5,
    "start_time": "2021-11-11T14:27:40.328Z"
   },
   {
    "duration": 4789,
    "start_time": "2021-11-11T14:27:55.145Z"
   },
   {
    "duration": 22,
    "start_time": "2021-11-11T14:27:59.937Z"
   },
   {
    "duration": 24,
    "start_time": "2021-11-11T14:27:59.961Z"
   },
   {
    "duration": 14,
    "start_time": "2021-11-11T14:50:08.908Z"
   },
   {
    "duration": 21,
    "start_time": "2021-11-11T14:50:09.916Z"
   },
   {
    "duration": 10,
    "start_time": "2021-11-11T14:50:14.363Z"
   },
   {
    "duration": 18,
    "start_time": "2021-11-11T14:54:16.864Z"
   },
   {
    "duration": 29,
    "start_time": "2021-11-11T14:54:18.025Z"
   },
   {
    "duration": 14,
    "start_time": "2021-11-11T14:54:22.799Z"
   },
   {
    "duration": 53,
    "start_time": "2021-11-11T14:54:46.456Z"
   },
   {
    "duration": 9,
    "start_time": "2021-11-11T15:29:59.754Z"
   },
   {
    "duration": 14,
    "start_time": "2021-11-11T15:30:01.202Z"
   },
   {
    "duration": 21,
    "start_time": "2021-11-11T15:30:02.180Z"
   },
   {
    "duration": 36,
    "start_time": "2021-11-11T15:50:32.601Z"
   },
   {
    "duration": 29,
    "start_time": "2021-11-11T15:50:52.496Z"
   },
   {
    "duration": 28,
    "start_time": "2021-11-11T15:50:54.320Z"
   },
   {
    "duration": 893,
    "start_time": "2021-11-11T16:18:27.768Z"
   },
   {
    "duration": 205,
    "start_time": "2021-11-11T16:18:54.102Z"
   },
   {
    "duration": 214,
    "start_time": "2021-11-11T16:21:29.547Z"
   },
   {
    "duration": 120,
    "start_time": "2021-11-11T16:29:45.068Z"
   },
   {
    "duration": 6,
    "start_time": "2021-11-11T16:29:54.557Z"
   },
   {
    "duration": 5,
    "start_time": "2021-11-11T16:30:00.699Z"
   },
   {
    "duration": 12,
    "start_time": "2021-11-11T16:32:06.378Z"
   },
   {
    "duration": 6,
    "start_time": "2021-11-11T16:33:00.091Z"
   },
   {
    "duration": 940,
    "start_time": "2021-11-11T16:35:32.123Z"
   },
   {
    "duration": 937,
    "start_time": "2021-11-11T16:35:32.128Z"
   },
   {
    "duration": 962,
    "start_time": "2021-11-11T16:35:49.669Z"
   },
   {
    "duration": 956,
    "start_time": "2021-11-11T16:35:49.677Z"
   },
   {
    "duration": 9958,
    "start_time": "2021-11-11T16:36:09.150Z"
   },
   {
    "duration": 946,
    "start_time": "2021-11-11T16:36:30.112Z"
   },
   {
    "duration": 29,
    "start_time": "2021-11-11T16:36:35.909Z"
   },
   {
    "duration": 6,
    "start_time": "2021-11-11T16:36:43.478Z"
   },
   {
    "duration": 246,
    "start_time": "2021-11-11T16:38:45.124Z"
   },
   {
    "duration": 196,
    "start_time": "2021-11-11T17:35:55.285Z"
   },
   {
    "duration": 206,
    "start_time": "2021-11-11T17:36:44.116Z"
   },
   {
    "duration": 83,
    "start_time": "2021-11-11T17:37:29.727Z"
   },
   {
    "duration": 19,
    "start_time": "2021-11-11T17:37:29.813Z"
   },
   {
    "duration": 16,
    "start_time": "2021-11-11T17:37:29.860Z"
   },
   {
    "duration": 17,
    "start_time": "2021-11-11T17:37:29.880Z"
   },
   {
    "duration": 6,
    "start_time": "2021-11-11T17:37:29.900Z"
   },
   {
    "duration": 62,
    "start_time": "2021-11-11T17:37:29.909Z"
   },
   {
    "duration": 21,
    "start_time": "2021-11-11T17:37:29.974Z"
   },
   {
    "duration": 128,
    "start_time": "2021-11-11T17:37:29.999Z"
   },
   {
    "duration": 44,
    "start_time": "2021-11-11T17:37:30.131Z"
   },
   {
    "duration": 7,
    "start_time": "2021-11-11T17:37:30.178Z"
   },
   {
    "duration": 12,
    "start_time": "2021-11-11T17:37:30.187Z"
   },
   {
    "duration": 39,
    "start_time": "2021-11-11T17:37:30.202Z"
   },
   {
    "duration": 35,
    "start_time": "2021-11-11T17:37:30.243Z"
   },
   {
    "duration": 32,
    "start_time": "2021-11-11T17:37:30.280Z"
   },
   {
    "duration": 33,
    "start_time": "2021-11-11T17:37:30.314Z"
   },
   {
    "duration": 23,
    "start_time": "2021-11-11T17:37:30.349Z"
   },
   {
    "duration": 21,
    "start_time": "2021-11-11T17:37:30.375Z"
   },
   {
    "duration": 1047,
    "start_time": "2021-11-11T17:37:30.399Z"
   },
   {
    "duration": 14,
    "start_time": "2021-11-11T17:37:31.450Z"
   },
   {
    "duration": 5108,
    "start_time": "2021-11-11T17:37:31.467Z"
   },
   {
    "duration": 6,
    "start_time": "2021-11-11T17:37:36.578Z"
   },
   {
    "duration": 26,
    "start_time": "2021-11-11T17:37:36.587Z"
   },
   {
    "duration": 12,
    "start_time": "2021-11-11T17:37:36.618Z"
   },
   {
    "duration": 44,
    "start_time": "2021-11-11T17:37:36.633Z"
   },
   {
    "duration": 12,
    "start_time": "2021-11-11T17:37:36.679Z"
   },
   {
    "duration": 13,
    "start_time": "2021-11-11T17:37:36.694Z"
   },
   {
    "duration": 50,
    "start_time": "2021-11-11T17:37:36.709Z"
   },
   {
    "duration": 10,
    "start_time": "2021-11-11T17:37:36.762Z"
   },
   {
    "duration": 41,
    "start_time": "2021-11-11T17:37:36.774Z"
   },
   {
    "duration": 247,
    "start_time": "2021-11-11T17:37:36.818Z"
   },
   {
    "duration": 30,
    "start_time": "2021-11-11T17:37:37.067Z"
   },
   {
    "duration": 278,
    "start_time": "2021-11-11T17:37:37.099Z"
   },
   {
    "duration": 28,
    "start_time": "2021-11-11T17:37:37.380Z"
   },
   {
    "duration": 54,
    "start_time": "2021-11-11T17:37:37.411Z"
   },
   {
    "duration": 234,
    "start_time": "2021-11-11T17:37:37.468Z"
   },
   {
    "duration": 40,
    "start_time": "2021-11-11T17:40:03.451Z"
   },
   {
    "duration": 235,
    "start_time": "2021-11-11T17:41:23.617Z"
   },
   {
    "duration": 80,
    "start_time": "2021-11-11T19:42:40.436Z"
   },
   {
    "duration": 42,
    "start_time": "2021-11-11T19:42:40.518Z"
   },
   {
    "duration": 13,
    "start_time": "2021-11-11T19:42:40.562Z"
   },
   {
    "duration": 16,
    "start_time": "2021-11-11T19:42:40.577Z"
   },
   {
    "duration": 6,
    "start_time": "2021-11-11T19:42:40.595Z"
   },
   {
    "duration": 58,
    "start_time": "2021-11-11T19:42:40.603Z"
   },
   {
    "duration": 21,
    "start_time": "2021-11-11T19:42:40.663Z"
   },
   {
    "duration": 24,
    "start_time": "2021-11-11T19:42:40.687Z"
   },
   {
    "duration": 51,
    "start_time": "2021-11-11T19:42:40.714Z"
   },
   {
    "duration": 7,
    "start_time": "2021-11-11T19:42:40.767Z"
   },
   {
    "duration": 10,
    "start_time": "2021-11-11T19:42:40.776Z"
   },
   {
    "duration": 11,
    "start_time": "2021-11-11T19:42:40.788Z"
   },
   {
    "duration": 9,
    "start_time": "2021-11-11T19:42:40.801Z"
   },
   {
    "duration": 10,
    "start_time": "2021-11-11T19:42:40.812Z"
   },
   {
    "duration": 37,
    "start_time": "2021-11-11T19:42:40.824Z"
   },
   {
    "duration": 6,
    "start_time": "2021-11-11T19:42:40.863Z"
   },
   {
    "duration": 10,
    "start_time": "2021-11-11T19:42:40.872Z"
   },
   {
    "duration": 987,
    "start_time": "2021-11-11T19:42:40.884Z"
   },
   {
    "duration": 5,
    "start_time": "2021-11-11T19:42:41.873Z"
   },
   {
    "duration": 4879,
    "start_time": "2021-11-11T19:42:41.880Z"
   },
   {
    "duration": 6,
    "start_time": "2021-11-11T19:42:46.762Z"
   },
   {
    "duration": 23,
    "start_time": "2021-11-11T19:42:46.770Z"
   },
   {
    "duration": 13,
    "start_time": "2021-11-11T19:42:46.799Z"
   },
   {
    "duration": 50,
    "start_time": "2021-11-11T19:42:46.815Z"
   },
   {
    "duration": 10,
    "start_time": "2021-11-11T19:42:46.867Z"
   },
   {
    "duration": 12,
    "start_time": "2021-11-11T19:42:46.880Z"
   },
   {
    "duration": 24,
    "start_time": "2021-11-11T19:42:46.894Z"
   },
   {
    "duration": 44,
    "start_time": "2021-11-11T19:42:46.920Z"
   },
   {
    "duration": 35,
    "start_time": "2021-11-11T19:42:46.966Z"
   },
   {
    "duration": 232,
    "start_time": "2021-11-11T19:42:47.003Z"
   },
   {
    "duration": 45,
    "start_time": "2021-11-11T19:42:47.237Z"
   },
   {
    "duration": 255,
    "start_time": "2021-11-11T19:42:47.284Z"
   },
   {
    "duration": 39,
    "start_time": "2021-11-11T19:42:47.542Z"
   },
   {
    "duration": 29,
    "start_time": "2021-11-11T19:42:47.583Z"
   },
   {
    "duration": 227,
    "start_time": "2021-11-11T19:42:47.614Z"
   },
   {
    "duration": 37,
    "start_time": "2021-11-11T19:42:47.844Z"
   },
   {
    "duration": 239,
    "start_time": "2021-11-11T19:42:47.883Z"
   },
   {
    "duration": 851,
    "start_time": "2021-11-12T05:28:58.688Z"
   },
   {
    "duration": 14,
    "start_time": "2021-11-12T05:28:59.542Z"
   },
   {
    "duration": 28,
    "start_time": "2021-11-12T05:28:59.559Z"
   },
   {
    "duration": 15,
    "start_time": "2021-11-12T05:28:59.590Z"
   },
   {
    "duration": 5,
    "start_time": "2021-11-12T05:28:59.608Z"
   },
   {
    "duration": 17,
    "start_time": "2021-11-12T05:28:59.615Z"
   },
   {
    "duration": 61,
    "start_time": "2021-11-12T05:28:59.634Z"
   },
   {
    "duration": 25,
    "start_time": "2021-11-12T05:28:59.699Z"
   },
   {
    "duration": 20,
    "start_time": "2021-11-12T05:28:59.728Z"
   },
   {
    "duration": 32,
    "start_time": "2021-11-12T05:28:59.751Z"
   },
   {
    "duration": 5,
    "start_time": "2021-11-12T05:28:59.786Z"
   },
   {
    "duration": 11,
    "start_time": "2021-11-12T05:28:59.794Z"
   },
   {
    "duration": 6,
    "start_time": "2021-11-12T05:28:59.807Z"
   },
   {
    "duration": 6,
    "start_time": "2021-11-12T05:28:59.815Z"
   },
   {
    "duration": 7,
    "start_time": "2021-11-12T05:28:59.823Z"
   },
   {
    "duration": 6,
    "start_time": "2021-11-12T05:28:59.832Z"
   },
   {
    "duration": 8,
    "start_time": "2021-11-12T05:28:59.883Z"
   },
   {
    "duration": 957,
    "start_time": "2021-11-12T05:28:59.893Z"
   },
   {
    "duration": 6,
    "start_time": "2021-11-12T05:29:00.853Z"
   },
   {
    "duration": 4406,
    "start_time": "2021-11-12T05:29:00.862Z"
   },
   {
    "duration": 6,
    "start_time": "2021-11-12T05:29:05.282Z"
   },
   {
    "duration": 25,
    "start_time": "2021-11-12T05:29:05.291Z"
   },
   {
    "duration": 14,
    "start_time": "2021-11-12T05:29:05.322Z"
   },
   {
    "duration": 44,
    "start_time": "2021-11-12T05:29:05.339Z"
   },
   {
    "duration": 13,
    "start_time": "2021-11-12T05:29:05.387Z"
   },
   {
    "duration": 19,
    "start_time": "2021-11-12T05:29:05.403Z"
   },
   {
    "duration": 21,
    "start_time": "2021-11-12T05:29:05.424Z"
   },
   {
    "duration": 40,
    "start_time": "2021-11-12T05:29:05.448Z"
   },
   {
    "duration": 42,
    "start_time": "2021-11-12T05:29:05.491Z"
   },
   {
    "duration": 924,
    "start_time": "2021-11-12T05:29:05.535Z"
   },
   {
    "duration": 40,
    "start_time": "2021-11-12T05:29:06.461Z"
   },
   {
    "duration": 252,
    "start_time": "2021-11-12T05:29:06.503Z"
   },
   {
    "duration": 40,
    "start_time": "2021-11-12T05:29:06.758Z"
   },
   {
    "duration": 28,
    "start_time": "2021-11-12T05:29:06.801Z"
   },
   {
    "duration": 239,
    "start_time": "2021-11-12T05:29:06.832Z"
   },
   {
    "duration": 34,
    "start_time": "2021-11-12T05:29:07.073Z"
   },
   {
    "duration": 253,
    "start_time": "2021-11-12T05:29:07.109Z"
   },
   {
    "duration": 465,
    "start_time": "2021-11-12T10:08:01.678Z"
   },
   {
    "duration": 928,
    "start_time": "2021-11-12T10:08:12.844Z"
   },
   {
    "duration": 16,
    "start_time": "2021-11-12T10:08:13.774Z"
   },
   {
    "duration": 12,
    "start_time": "2021-11-12T10:08:13.802Z"
   },
   {
    "duration": 19,
    "start_time": "2021-11-12T10:08:13.817Z"
   },
   {
    "duration": 7,
    "start_time": "2021-11-12T10:08:13.838Z"
   },
   {
    "duration": 21,
    "start_time": "2021-11-12T10:08:13.847Z"
   },
   {
    "duration": 21,
    "start_time": "2021-11-12T10:08:13.902Z"
   },
   {
    "duration": 25,
    "start_time": "2021-11-12T10:08:13.928Z"
   },
   {
    "duration": 51,
    "start_time": "2021-11-12T10:08:13.956Z"
   },
   {
    "duration": 6,
    "start_time": "2021-11-12T10:08:14.010Z"
   },
   {
    "duration": 7,
    "start_time": "2021-11-12T10:08:14.019Z"
   },
   {
    "duration": 12,
    "start_time": "2021-11-12T10:08:14.028Z"
   },
   {
    "duration": 8,
    "start_time": "2021-11-12T10:08:14.043Z"
   },
   {
    "duration": 48,
    "start_time": "2021-11-12T10:08:14.053Z"
   },
   {
    "duration": 7,
    "start_time": "2021-11-12T10:08:14.104Z"
   },
   {
    "duration": 10,
    "start_time": "2021-11-12T10:08:14.114Z"
   },
   {
    "duration": 9,
    "start_time": "2021-11-12T10:08:14.127Z"
   },
   {
    "duration": 971,
    "start_time": "2021-11-12T10:08:14.139Z"
   },
   {
    "duration": 6,
    "start_time": "2021-11-12T10:08:15.114Z"
   },
   {
    "duration": 4607,
    "start_time": "2021-11-12T10:08:15.123Z"
   },
   {
    "duration": 6,
    "start_time": "2021-11-12T10:08:19.733Z"
   },
   {
    "duration": 27,
    "start_time": "2021-11-12T10:08:19.742Z"
   },
   {
    "duration": 35,
    "start_time": "2021-11-12T10:08:19.775Z"
   },
   {
    "duration": 27,
    "start_time": "2021-11-12T10:08:19.813Z"
   },
   {
    "duration": 12,
    "start_time": "2021-11-12T10:08:19.843Z"
   },
   {
    "duration": 52,
    "start_time": "2021-11-12T10:08:19.858Z"
   },
   {
    "duration": 27,
    "start_time": "2021-11-12T10:08:19.913Z"
   },
   {
    "duration": 11,
    "start_time": "2021-11-12T10:08:19.943Z"
   },
   {
    "duration": 29,
    "start_time": "2021-11-12T10:08:20.024Z"
   },
   {
    "duration": 37,
    "start_time": "2021-11-12T10:08:34.164Z"
   },
   {
    "duration": 907,
    "start_time": "2021-11-12T10:09:13.995Z"
   },
   {
    "duration": 31,
    "start_time": "2021-11-12T10:09:40.443Z"
   },
   {
    "duration": 238,
    "start_time": "2021-11-12T10:10:27.226Z"
   },
   {
    "duration": 261,
    "start_time": "2021-11-12T10:10:30.461Z"
   },
   {
    "duration": 124,
    "start_time": "2021-11-12T10:10:35.762Z"
   },
   {
    "duration": 259,
    "start_time": "2021-11-12T10:10:40.785Z"
   },
   {
    "duration": 33,
    "start_time": "2021-11-12T10:11:09.393Z"
   },
   {
    "duration": 229,
    "start_time": "2021-11-12T10:11:33.114Z"
   },
   {
    "duration": 31,
    "start_time": "2021-11-12T10:11:49.129Z"
   },
   {
    "duration": 30,
    "start_time": "2021-11-12T10:11:56.169Z"
   },
   {
    "duration": 221,
    "start_time": "2021-11-12T10:12:33.640Z"
   },
   {
    "duration": 221,
    "start_time": "2021-11-12T10:12:49.920Z"
   },
   {
    "duration": 48,
    "start_time": "2021-11-12T10:18:03.437Z"
   },
   {
    "duration": 475,
    "start_time": "2021-11-12T10:18:41.165Z"
   },
   {
    "duration": 445,
    "start_time": "2021-11-12T10:18:50.388Z"
   },
   {
    "duration": 118,
    "start_time": "2021-11-12T10:18:58.419Z"
   },
   {
    "duration": 11,
    "start_time": "2021-11-12T10:19:16.628Z"
   },
   {
    "duration": 414,
    "start_time": "2021-11-12T10:45:18.920Z"
   },
   {
    "duration": 45,
    "start_time": "2021-11-12T10:45:22.332Z"
   },
   {
    "duration": 942,
    "start_time": "2021-11-12T11:07:34.479Z"
   },
   {
    "duration": 18,
    "start_time": "2021-11-12T11:07:35.424Z"
   },
   {
    "duration": 14,
    "start_time": "2021-11-12T11:07:35.446Z"
   },
   {
    "duration": 84,
    "start_time": "2021-11-12T11:07:35.462Z"
   },
   {
    "duration": 17,
    "start_time": "2021-11-12T11:07:35.549Z"
   },
   {
    "duration": 33,
    "start_time": "2021-11-12T11:07:35.569Z"
   },
   {
    "duration": 6,
    "start_time": "2021-11-12T11:07:35.605Z"
   },
   {
    "duration": 19,
    "start_time": "2021-11-12T11:07:35.615Z"
   },
   {
    "duration": 22,
    "start_time": "2021-11-12T11:07:35.637Z"
   },
   {
    "duration": 58,
    "start_time": "2021-11-12T11:07:35.661Z"
   },
   {
    "duration": 22,
    "start_time": "2021-11-12T11:07:35.721Z"
   },
   {
    "duration": 6,
    "start_time": "2021-11-12T11:07:35.746Z"
   },
   {
    "duration": 9,
    "start_time": "2021-11-12T11:07:35.755Z"
   },
   {
    "duration": 9,
    "start_time": "2021-11-12T11:07:35.802Z"
   },
   {
    "duration": 7,
    "start_time": "2021-11-12T11:07:35.814Z"
   },
   {
    "duration": 6,
    "start_time": "2021-11-12T11:07:35.823Z"
   },
   {
    "duration": 9,
    "start_time": "2021-11-12T11:07:35.832Z"
   },
   {
    "duration": 6,
    "start_time": "2021-11-12T11:07:35.844Z"
   },
   {
    "duration": 59,
    "start_time": "2021-11-12T11:07:35.852Z"
   },
   {
    "duration": 984,
    "start_time": "2021-11-12T11:07:35.914Z"
   },
   {
    "duration": 5,
    "start_time": "2021-11-12T11:07:36.902Z"
   },
   {
    "duration": 4520,
    "start_time": "2021-11-12T11:07:36.910Z"
   },
   {
    "duration": 6,
    "start_time": "2021-11-12T11:07:41.436Z"
   },
   {
    "duration": 24,
    "start_time": "2021-11-12T11:07:41.444Z"
   },
   {
    "duration": 34,
    "start_time": "2021-11-12T11:07:41.470Z"
   },
   {
    "duration": 22,
    "start_time": "2021-11-12T11:07:41.506Z"
   },
   {
    "duration": 13,
    "start_time": "2021-11-12T11:07:41.530Z"
   },
   {
    "duration": 12,
    "start_time": "2021-11-12T11:07:41.546Z"
   },
   {
    "duration": 53,
    "start_time": "2021-11-12T11:07:41.561Z"
   },
   {
    "duration": 15,
    "start_time": "2021-11-12T11:07:41.617Z"
   },
   {
    "duration": 65,
    "start_time": "2021-11-12T11:07:41.635Z"
   },
   {
    "duration": 953,
    "start_time": "2021-11-12T11:07:41.703Z"
   },
   {
    "duration": 33,
    "start_time": "2021-11-12T11:07:42.660Z"
   },
   {
    "duration": 253,
    "start_time": "2021-11-12T11:07:42.696Z"
   },
   {
    "duration": 49,
    "start_time": "2021-11-12T11:07:42.952Z"
   },
   {
    "duration": 32,
    "start_time": "2021-11-12T11:07:43.004Z"
   },
   {
    "duration": 263,
    "start_time": "2021-11-12T11:07:43.039Z"
   },
   {
    "duration": 35,
    "start_time": "2021-11-12T11:07:43.305Z"
   },
   {
    "duration": 257,
    "start_time": "2021-11-12T11:07:43.342Z"
   },
   {
    "duration": 8,
    "start_time": "2021-11-12T11:10:22.729Z"
   },
   {
    "duration": 7,
    "start_time": "2021-11-12T11:13:53.165Z"
   },
   {
    "duration": 8,
    "start_time": "2021-11-12T11:14:04.573Z"
   },
   {
    "duration": 18,
    "start_time": "2021-11-12T11:16:26.108Z"
   },
   {
    "duration": 10,
    "start_time": "2021-11-12T11:16:35.116Z"
   },
   {
    "duration": 31,
    "start_time": "2021-11-12T11:16:43.346Z"
   },
   {
    "duration": 38,
    "start_time": "2021-11-12T11:16:49.386Z"
   },
   {
    "duration": 31,
    "start_time": "2021-11-12T11:17:36.506Z"
   },
   {
    "duration": 79,
    "start_time": "2021-11-12T11:17:53.786Z"
   },
   {
    "duration": 14,
    "start_time": "2021-11-12T11:17:53.867Z"
   },
   {
    "duration": 19,
    "start_time": "2021-11-12T11:17:53.902Z"
   },
   {
    "duration": 123,
    "start_time": "2021-11-12T11:17:53.925Z"
   },
   {
    "duration": 893,
    "start_time": "2021-11-12T11:17:53.158Z"
   },
   {
    "duration": 890,
    "start_time": "2021-11-12T11:17:53.162Z"
   },
   {
    "duration": 887,
    "start_time": "2021-11-12T11:17:53.166Z"
   },
   {
    "duration": 886,
    "start_time": "2021-11-12T11:17:53.169Z"
   },
   {
    "duration": 883,
    "start_time": "2021-11-12T11:17:53.173Z"
   },
   {
    "duration": 878,
    "start_time": "2021-11-12T11:17:53.179Z"
   },
   {
    "duration": 876,
    "start_time": "2021-11-12T11:17:53.183Z"
   },
   {
    "duration": 875,
    "start_time": "2021-11-12T11:17:53.186Z"
   },
   {
    "duration": 76,
    "start_time": "2021-11-12T11:18:05.937Z"
   },
   {
    "duration": 14,
    "start_time": "2021-11-12T11:18:06.016Z"
   },
   {
    "duration": 16,
    "start_time": "2021-11-12T11:18:06.035Z"
   },
   {
    "duration": 139,
    "start_time": "2021-11-12T11:18:06.054Z"
   },
   {
    "duration": 897,
    "start_time": "2021-11-12T11:18:05.299Z"
   },
   {
    "duration": 893,
    "start_time": "2021-11-12T11:18:05.304Z"
   },
   {
    "duration": 890,
    "start_time": "2021-11-12T11:18:05.308Z"
   },
   {
    "duration": 890,
    "start_time": "2021-11-12T11:18:05.310Z"
   },
   {
    "duration": 8,
    "start_time": "2021-11-12T11:21:50.813Z"
   },
   {
    "duration": 15,
    "start_time": "2021-11-12T11:21:52.796Z"
   },
   {
    "duration": 9,
    "start_time": "2021-11-12T11:21:53.700Z"
   },
   {
    "duration": 7,
    "start_time": "2021-11-12T11:21:54.476Z"
   },
   {
    "duration": 6,
    "start_time": "2021-11-12T11:21:59.547Z"
   },
   {
    "duration": 16,
    "start_time": "2021-11-12T11:21:59.946Z"
   },
   {
    "duration": 17,
    "start_time": "2021-11-12T11:22:05.843Z"
   },
   {
    "duration": 11,
    "start_time": "2021-11-12T11:22:06.707Z"
   },
   {
    "duration": 6,
    "start_time": "2021-11-12T11:22:37.388Z"
   },
   {
    "duration": 18,
    "start_time": "2021-11-12T11:22:37.746Z"
   },
   {
    "duration": 8,
    "start_time": "2021-11-12T11:22:39.265Z"
   },
   {
    "duration": 18,
    "start_time": "2021-11-12T11:22:40.001Z"
   },
   {
    "duration": 9,
    "start_time": "2021-11-12T11:22:40.770Z"
   },
   {
    "duration": 24,
    "start_time": "2021-11-12T11:22:44.394Z"
   },
   {
    "duration": 27,
    "start_time": "2021-11-12T11:22:46.522Z"
   },
   {
    "duration": 29,
    "start_time": "2021-11-12T11:22:47.962Z"
   },
   {
    "duration": 3,
    "start_time": "2021-11-12T11:25:02.064Z"
   },
   {
    "duration": 45,
    "start_time": "2021-11-12T11:26:48.760Z"
   },
   {
    "duration": 45,
    "start_time": "2021-11-12T11:29:53.029Z"
   },
   {
    "duration": 83,
    "start_time": "2021-11-12T11:30:07.732Z"
   },
   {
    "duration": 14,
    "start_time": "2021-11-12T11:30:07.818Z"
   },
   {
    "duration": 12,
    "start_time": "2021-11-12T11:30:07.835Z"
   },
   {
    "duration": 4,
    "start_time": "2021-11-12T11:30:07.850Z"
   },
   {
    "duration": 84,
    "start_time": "2021-11-12T11:30:07.856Z"
   },
   {
    "duration": 545,
    "start_time": "2021-11-12T11:30:07.943Z"
   },
   {
    "duration": 850,
    "start_time": "2021-11-12T11:30:07.642Z"
   },
   {
    "duration": 848,
    "start_time": "2021-11-12T11:30:07.645Z"
   },
   {
    "duration": 847,
    "start_time": "2021-11-12T11:30:07.648Z"
   },
   {
    "duration": 843,
    "start_time": "2021-11-12T11:30:07.653Z"
   },
   {
    "duration": 841,
    "start_time": "2021-11-12T11:30:07.656Z"
   },
   {
    "duration": 839,
    "start_time": "2021-11-12T11:30:07.660Z"
   },
   {
    "duration": 836,
    "start_time": "2021-11-12T11:30:07.664Z"
   },
   {
    "duration": 834,
    "start_time": "2021-11-12T11:30:07.668Z"
   },
   {
    "duration": 831,
    "start_time": "2021-11-12T11:30:07.672Z"
   },
   {
    "duration": 829,
    "start_time": "2021-11-12T11:30:07.676Z"
   },
   {
    "duration": 827,
    "start_time": "2021-11-12T11:30:07.679Z"
   },
   {
    "duration": 826,
    "start_time": "2021-11-12T11:30:07.682Z"
   },
   {
    "duration": 823,
    "start_time": "2021-11-12T11:30:07.686Z"
   },
   {
    "duration": 817,
    "start_time": "2021-11-12T11:30:07.693Z"
   },
   {
    "duration": 815,
    "start_time": "2021-11-12T11:30:07.697Z"
   },
   {
    "duration": 812,
    "start_time": "2021-11-12T11:30:07.701Z"
   },
   {
    "duration": 809,
    "start_time": "2021-11-12T11:30:07.705Z"
   },
   {
    "duration": 807,
    "start_time": "2021-11-12T11:30:07.709Z"
   },
   {
    "duration": 805,
    "start_time": "2021-11-12T11:30:07.712Z"
   },
   {
    "duration": 802,
    "start_time": "2021-11-12T11:30:07.716Z"
   },
   {
    "duration": 801,
    "start_time": "2021-11-12T11:30:07.719Z"
   },
   {
    "duration": 798,
    "start_time": "2021-11-12T11:30:07.723Z"
   },
   {
    "duration": 789,
    "start_time": "2021-11-12T11:30:07.733Z"
   },
   {
    "duration": 786,
    "start_time": "2021-11-12T11:30:07.737Z"
   },
   {
    "duration": 784,
    "start_time": "2021-11-12T11:30:07.740Z"
   },
   {
    "duration": 782,
    "start_time": "2021-11-12T11:30:07.744Z"
   },
   {
    "duration": 780,
    "start_time": "2021-11-12T11:30:07.747Z"
   },
   {
    "duration": 778,
    "start_time": "2021-11-12T11:30:07.750Z"
   },
   {
    "duration": 775,
    "start_time": "2021-11-12T11:30:07.754Z"
   },
   {
    "duration": 773,
    "start_time": "2021-11-12T11:30:07.757Z"
   },
   {
    "duration": 772,
    "start_time": "2021-11-12T11:30:07.760Z"
   },
   {
    "duration": 770,
    "start_time": "2021-11-12T11:30:07.763Z"
   },
   {
    "duration": 768,
    "start_time": "2021-11-12T11:30:07.766Z"
   },
   {
    "duration": 766,
    "start_time": "2021-11-12T11:30:07.769Z"
   },
   {
    "duration": 765,
    "start_time": "2021-11-12T11:30:07.772Z"
   },
   {
    "duration": 763,
    "start_time": "2021-11-12T11:30:07.775Z"
   },
   {
    "duration": 348,
    "start_time": "2021-11-12T11:40:56.396Z"
   },
   {
    "duration": 46,
    "start_time": "2021-11-12T11:41:00.028Z"
   },
   {
    "duration": 21,
    "start_time": "2021-11-12T12:54:30.255Z"
   },
   {
    "duration": 47,
    "start_time": "2021-11-12T12:54:37.190Z"
   },
   {
    "duration": 129,
    "start_time": "2021-11-12T12:59:11.267Z"
   },
   {
    "duration": 5,
    "start_time": "2021-11-12T13:02:28.632Z"
   },
   {
    "duration": 47,
    "start_time": "2021-11-12T13:03:28.535Z"
   },
   {
    "duration": 47,
    "start_time": "2021-11-12T13:04:43.493Z"
   },
   {
    "duration": 307,
    "start_time": "2021-11-12T16:47:33.556Z"
   },
   {
    "duration": 845,
    "start_time": "2021-11-12T16:47:39.199Z"
   },
   {
    "duration": 23,
    "start_time": "2021-11-12T16:47:40.047Z"
   },
   {
    "duration": 15,
    "start_time": "2021-11-12T16:47:40.073Z"
   },
   {
    "duration": 3,
    "start_time": "2021-11-12T16:47:40.091Z"
   },
   {
    "duration": 77,
    "start_time": "2021-11-12T16:47:40.096Z"
   },
   {
    "duration": 4,
    "start_time": "2021-11-12T16:47:40.176Z"
   },
   {
    "duration": 26,
    "start_time": "2021-11-12T16:47:40.182Z"
   },
   {
    "duration": 334,
    "start_time": "2021-11-12T16:47:40.212Z"
   },
   {
    "duration": 1361,
    "start_time": "2021-11-12T16:47:39.188Z"
   },
   {
    "duration": 1358,
    "start_time": "2021-11-12T16:47:39.193Z"
   },
   {
    "duration": 1355,
    "start_time": "2021-11-12T16:47:39.197Z"
   },
   {
    "duration": 1353,
    "start_time": "2021-11-12T16:47:39.201Z"
   },
   {
    "duration": 1347,
    "start_time": "2021-11-12T16:47:39.208Z"
   },
   {
    "duration": 1344,
    "start_time": "2021-11-12T16:47:39.213Z"
   },
   {
    "duration": 1340,
    "start_time": "2021-11-12T16:47:39.218Z"
   },
   {
    "duration": 1337,
    "start_time": "2021-11-12T16:47:39.223Z"
   },
   {
    "duration": 1334,
    "start_time": "2021-11-12T16:47:39.227Z"
   },
   {
    "duration": 1332,
    "start_time": "2021-11-12T16:47:39.231Z"
   },
   {
    "duration": 1330,
    "start_time": "2021-11-12T16:47:39.234Z"
   },
   {
    "duration": 1327,
    "start_time": "2021-11-12T16:47:39.238Z"
   },
   {
    "duration": 1326,
    "start_time": "2021-11-12T16:47:39.241Z"
   },
   {
    "duration": 1323,
    "start_time": "2021-11-12T16:47:39.245Z"
   },
   {
    "duration": 1321,
    "start_time": "2021-11-12T16:47:39.249Z"
   },
   {
    "duration": 1319,
    "start_time": "2021-11-12T16:47:39.252Z"
   },
   {
    "duration": 1316,
    "start_time": "2021-11-12T16:47:39.256Z"
   },
   {
    "duration": 1315,
    "start_time": "2021-11-12T16:47:39.259Z"
   },
   {
    "duration": 1312,
    "start_time": "2021-11-12T16:47:39.263Z"
   },
   {
    "duration": 1311,
    "start_time": "2021-11-12T16:47:39.266Z"
   },
   {
    "duration": 1309,
    "start_time": "2021-11-12T16:47:39.270Z"
   },
   {
    "duration": 1296,
    "start_time": "2021-11-12T16:47:39.284Z"
   },
   {
    "duration": 1293,
    "start_time": "2021-11-12T16:47:39.288Z"
   },
   {
    "duration": 1291,
    "start_time": "2021-11-12T16:47:39.292Z"
   },
   {
    "duration": 1288,
    "start_time": "2021-11-12T16:47:39.296Z"
   },
   {
    "duration": 1286,
    "start_time": "2021-11-12T16:47:39.299Z"
   },
   {
    "duration": 1284,
    "start_time": "2021-11-12T16:47:39.303Z"
   },
   {
    "duration": 1282,
    "start_time": "2021-11-12T16:47:39.306Z"
   },
   {
    "duration": 1280,
    "start_time": "2021-11-12T16:47:39.309Z"
   },
   {
    "duration": 1278,
    "start_time": "2021-11-12T16:47:39.313Z"
   },
   {
    "duration": 1275,
    "start_time": "2021-11-12T16:47:39.317Z"
   },
   {
    "duration": 1273,
    "start_time": "2021-11-12T16:47:39.321Z"
   },
   {
    "duration": 1267,
    "start_time": "2021-11-12T16:47:39.328Z"
   },
   {
    "duration": 1264,
    "start_time": "2021-11-12T16:47:39.332Z"
   },
   {
    "duration": 1261,
    "start_time": "2021-11-12T16:47:39.337Z"
   },
   {
    "duration": 1255,
    "start_time": "2021-11-12T16:47:39.344Z"
   },
   {
    "duration": 37,
    "start_time": "2021-11-12T16:47:53.740Z"
   },
   {
    "duration": 17,
    "start_time": "2021-11-12T16:49:17.504Z"
   },
   {
    "duration": 43,
    "start_time": "2021-11-12T16:49:20.175Z"
   },
   {
    "duration": 20,
    "start_time": "2021-11-12T16:50:38.424Z"
   },
   {
    "duration": 97,
    "start_time": "2021-11-12T16:57:38.688Z"
   },
   {
    "duration": 16,
    "start_time": "2021-11-12T16:57:47.136Z"
   },
   {
    "duration": 79,
    "start_time": "2021-11-12T16:58:04.326Z"
   },
   {
    "duration": 14,
    "start_time": "2021-11-12T16:58:04.407Z"
   },
   {
    "duration": 16,
    "start_time": "2021-11-12T16:58:04.424Z"
   },
   {
    "duration": 25,
    "start_time": "2021-11-12T16:58:04.443Z"
   },
   {
    "duration": 72,
    "start_time": "2021-11-12T16:58:04.470Z"
   },
   {
    "duration": 10,
    "start_time": "2021-11-12T16:58:04.544Z"
   },
   {
    "duration": 2154,
    "start_time": "2021-11-12T16:59:47.949Z"
   },
   {
    "duration": 261,
    "start_time": "2021-11-12T17:00:05.743Z"
   },
   {
    "duration": 7,
    "start_time": "2021-11-12T17:00:26.905Z"
   },
   {
    "duration": 11,
    "start_time": "2021-11-12T17:01:10.909Z"
   },
   {
    "duration": 104,
    "start_time": "2021-11-12T17:01:33.132Z"
   },
   {
    "duration": 13,
    "start_time": "2021-11-12T17:01:42.485Z"
   },
   {
    "duration": 9,
    "start_time": "2021-11-12T17:03:32.739Z"
   },
   {
    "duration": 9,
    "start_time": "2021-11-12T17:03:39.923Z"
   },
   {
    "duration": 9,
    "start_time": "2021-11-12T17:03:43.339Z"
   },
   {
    "duration": 9,
    "start_time": "2021-11-12T17:03:49.770Z"
   },
   {
    "duration": 9,
    "start_time": "2021-11-12T17:03:54.330Z"
   },
   {
    "duration": 5,
    "start_time": "2021-11-12T17:04:13.618Z"
   },
   {
    "duration": 16,
    "start_time": "2021-11-12T17:04:14.341Z"
   },
   {
    "duration": 9,
    "start_time": "2021-11-12T17:04:14.730Z"
   },
   {
    "duration": 10,
    "start_time": "2021-11-12T17:04:20.266Z"
   },
   {
    "duration": 4,
    "start_time": "2021-11-12T17:04:25.498Z"
   },
   {
    "duration": 21,
    "start_time": "2021-11-12T17:04:25.850Z"
   },
   {
    "duration": 10,
    "start_time": "2021-11-12T17:04:26.177Z"
   },
   {
    "duration": 103,
    "start_time": "2021-11-12T17:05:41.136Z"
   },
   {
    "duration": 282,
    "start_time": "2021-11-12T17:05:52.905Z"
   },
   {
    "duration": 85,
    "start_time": "2021-11-12T17:06:06.993Z"
   },
   {
    "duration": 87,
    "start_time": "2021-11-12T17:06:21.072Z"
   },
   {
    "duration": 99,
    "start_time": "2021-11-12T17:06:26.098Z"
   },
   {
    "duration": 10,
    "start_time": "2021-11-12T17:06:36.952Z"
   },
   {
    "duration": 11,
    "start_time": "2021-11-12T17:07:25.800Z"
   },
   {
    "duration": 8,
    "start_time": "2021-11-12T17:07:30.367Z"
   },
   {
    "duration": 10,
    "start_time": "2021-11-12T17:07:34.471Z"
   },
   {
    "duration": 8,
    "start_time": "2021-11-12T17:07:50.959Z"
   },
   {
    "duration": 5,
    "start_time": "2021-11-12T17:09:00.966Z"
   },
   {
    "duration": 18,
    "start_time": "2021-11-12T17:09:01.326Z"
   },
   {
    "duration": 9,
    "start_time": "2021-11-12T17:09:02.142Z"
   },
   {
    "duration": 324,
    "start_time": "2021-11-12T19:44:13.648Z"
   },
   {
    "duration": 807,
    "start_time": "2021-11-12T19:44:18.309Z"
   },
   {
    "duration": 16,
    "start_time": "2021-11-12T19:44:19.119Z"
   },
   {
    "duration": 29,
    "start_time": "2021-11-12T19:44:19.139Z"
   },
   {
    "duration": 3,
    "start_time": "2021-11-12T19:44:19.171Z"
   },
   {
    "duration": 55,
    "start_time": "2021-11-12T19:44:19.176Z"
   },
   {
    "duration": 33,
    "start_time": "2021-11-12T19:44:19.234Z"
   },
   {
    "duration": 307,
    "start_time": "2021-11-12T19:44:19.269Z"
   },
   {
    "duration": 35,
    "start_time": "2021-11-12T19:44:41.829Z"
   },
   {
    "duration": 99,
    "start_time": "2021-11-12T19:44:58.457Z"
   },
   {
    "duration": 81,
    "start_time": "2021-11-12T19:45:05.477Z"
   },
   {
    "duration": 34,
    "start_time": "2021-11-12T19:45:10.068Z"
   },
   {
    "duration": 102,
    "start_time": "2021-11-12T19:45:39.645Z"
   },
   {
    "duration": 578,
    "start_time": "2021-11-12T19:45:44.940Z"
   },
   {
    "duration": 348,
    "start_time": "2021-11-12T19:45:51.340Z"
   },
   {
    "duration": 95,
    "start_time": "2021-11-12T19:46:34.949Z"
   },
   {
    "duration": 92,
    "start_time": "2021-11-12T19:46:49.620Z"
   },
   {
    "duration": 29,
    "start_time": "2021-11-12T19:47:47.843Z"
   },
   {
    "duration": 287,
    "start_time": "2021-11-13T10:05:32.875Z"
   },
   {
    "duration": 683,
    "start_time": "2021-11-13T10:05:36.921Z"
   },
   {
    "duration": 10,
    "start_time": "2021-11-13T10:05:37.605Z"
   },
   {
    "duration": 9,
    "start_time": "2021-11-13T10:05:37.617Z"
   },
   {
    "duration": 4,
    "start_time": "2021-11-13T10:05:37.628Z"
   },
   {
    "duration": 39,
    "start_time": "2021-11-13T10:05:37.634Z"
   },
   {
    "duration": 7,
    "start_time": "2021-11-13T10:05:37.674Z"
   },
   {
    "duration": 21,
    "start_time": "2021-11-13T10:05:37.682Z"
   },
   {
    "duration": 3,
    "start_time": "2021-11-13T10:05:37.705Z"
   },
   {
    "duration": 37,
    "start_time": "2021-11-13T10:05:37.710Z"
   },
   {
    "duration": 7,
    "start_time": "2021-11-13T10:05:37.749Z"
   },
   {
    "duration": 6,
    "start_time": "2021-11-13T10:09:48.086Z"
   },
   {
    "duration": 6,
    "start_time": "2021-11-13T10:09:55.711Z"
   },
   {
    "duration": 6,
    "start_time": "2021-11-13T10:10:05.358Z"
   },
   {
    "duration": 7,
    "start_time": "2021-11-13T10:10:27.133Z"
   },
   {
    "duration": 6,
    "start_time": "2021-11-13T10:10:54.429Z"
   },
   {
    "duration": 12,
    "start_time": "2021-11-13T10:14:02.691Z"
   },
   {
    "duration": 8,
    "start_time": "2021-11-13T10:15:41.505Z"
   },
   {
    "duration": -52,
    "start_time": "2021-11-13T10:16:11.211Z"
   },
   {
    "duration": 8086,
    "start_time": "2021-11-13T10:16:15.744Z"
   },
   {
    "duration": 6,
    "start_time": "2021-11-13T10:16:50.625Z"
   },
   {
    "duration": 8,
    "start_time": "2021-11-13T10:17:10.624Z"
   },
   {
    "duration": 21,
    "start_time": "2021-11-13T10:18:24.783Z"
   },
   {
    "duration": 114,
    "start_time": "2021-11-13T10:41:06.212Z"
   },
   {
    "duration": 7,
    "start_time": "2021-11-13T10:45:10.225Z"
   },
   {
    "duration": 6,
    "start_time": "2021-11-13T10:45:47.280Z"
   },
   {
    "duration": 7,
    "start_time": "2021-11-13T10:48:19.174Z"
   },
   {
    "duration": 6,
    "start_time": "2021-11-13T10:48:26.117Z"
   },
   {
    "duration": 19,
    "start_time": "2021-11-13T10:48:38.101Z"
   },
   {
    "duration": 7,
    "start_time": "2021-11-13T10:57:01.911Z"
   },
   {
    "duration": 11,
    "start_time": "2021-11-13T11:00:40.259Z"
   },
   {
    "duration": 11,
    "start_time": "2021-11-13T11:00:43.155Z"
   },
   {
    "duration": 9,
    "start_time": "2021-11-13T11:00:58.972Z"
   },
   {
    "duration": 9,
    "start_time": "2021-11-13T11:01:14.553Z"
   },
   {
    "duration": 8,
    "start_time": "2021-11-13T11:01:31.563Z"
   },
   {
    "duration": 10,
    "start_time": "2021-11-13T11:02:05.866Z"
   },
   {
    "duration": 7,
    "start_time": "2021-11-13T11:03:09.289Z"
   },
   {
    "duration": 11,
    "start_time": "2021-11-13T11:03:18.810Z"
   },
   {
    "duration": 11,
    "start_time": "2021-11-13T11:04:35.672Z"
   },
   {
    "duration": 11,
    "start_time": "2021-11-13T11:04:43.791Z"
   },
   {
    "duration": 10,
    "start_time": "2021-11-13T11:04:48.959Z"
   },
   {
    "duration": 10,
    "start_time": "2021-11-13T11:04:55.903Z"
   },
   {
    "duration": 10,
    "start_time": "2021-11-13T11:05:04.592Z"
   },
   {
    "duration": 11,
    "start_time": "2021-11-13T11:05:10.711Z"
   },
   {
    "duration": 9,
    "start_time": "2021-11-13T11:05:32.960Z"
   },
   {
    "duration": 7,
    "start_time": "2021-11-13T11:05:41.887Z"
   },
   {
    "duration": 3761,
    "start_time": "2021-11-13T11:06:15.511Z"
   },
   {
    "duration": 28,
    "start_time": "2021-11-13T11:06:33.877Z"
   },
   {
    "duration": 3633,
    "start_time": "2021-11-13T11:08:07.461Z"
   },
   {
    "duration": 3502,
    "start_time": "2021-11-13T11:08:17.494Z"
   },
   {
    "duration": 11,
    "start_time": "2021-11-13T11:08:29.397Z"
   },
   {
    "duration": 22,
    "start_time": "2021-11-13T11:08:45.285Z"
   },
   {
    "duration": 96,
    "start_time": "2021-11-13T11:09:24.260Z"
   },
   {
    "duration": 97,
    "start_time": "2021-11-13T11:09:35.771Z"
   },
   {
    "duration": 87,
    "start_time": "2021-11-13T11:09:40.475Z"
   },
   {
    "duration": 9,
    "start_time": "2021-11-13T11:09:52.262Z"
   },
   {
    "duration": 3674,
    "start_time": "2021-11-13T11:10:02.300Z"
   },
   {
    "duration": 4191,
    "start_time": "2021-11-13T11:10:56.323Z"
   },
   {
    "duration": 10,
    "start_time": "2021-11-13T11:11:15.163Z"
   },
   {
    "duration": 9,
    "start_time": "2021-11-13T11:11:40.513Z"
   },
   {
    "duration": 276,
    "start_time": "2021-11-13T11:11:58.921Z"
   },
   {
    "duration": 100,
    "start_time": "2021-11-13T11:12:26.019Z"
   },
   {
    "duration": 108,
    "start_time": "2021-11-13T11:12:33.521Z"
   },
   {
    "duration": 1032,
    "start_time": "2021-11-13T11:12:46.537Z"
   },
   {
    "duration": 1228,
    "start_time": "2021-11-13T11:13:04.857Z"
   },
   {
    "duration": 1031,
    "start_time": "2021-11-13T11:13:21.241Z"
   },
   {
    "duration": 9,
    "start_time": "2021-11-13T11:14:32.705Z"
   },
   {
    "duration": 7,
    "start_time": "2021-11-13T11:17:37.965Z"
   },
   {
    "duration": 6,
    "start_time": "2021-11-13T11:18:11.348Z"
   },
   {
    "duration": 9,
    "start_time": "2021-11-13T11:18:18.436Z"
   },
   {
    "duration": 56,
    "start_time": "2021-11-13T11:19:10.739Z"
   },
   {
    "duration": 27,
    "start_time": "2021-11-13T11:19:14.699Z"
   },
   {
    "duration": 86,
    "start_time": "2021-11-13T11:20:16.851Z"
   },
   {
    "duration": 9,
    "start_time": "2021-11-13T11:20:28.018Z"
   },
   {
    "duration": 7,
    "start_time": "2021-11-13T11:24:07.832Z"
   },
   {
    "duration": 9,
    "start_time": "2021-11-13T11:24:10.543Z"
   },
   {
    "duration": 7,
    "start_time": "2021-11-13T11:25:15.582Z"
   },
   {
    "duration": 9,
    "start_time": "2021-11-13T11:25:19.981Z"
   },
   {
    "duration": 8,
    "start_time": "2021-11-13T11:25:26.405Z"
   },
   {
    "duration": 8,
    "start_time": "2021-11-13T11:25:35.901Z"
   },
   {
    "duration": 9,
    "start_time": "2021-11-13T11:25:38.998Z"
   },
   {
    "duration": 9,
    "start_time": "2021-11-13T11:26:44.320Z"
   },
   {
    "duration": 8,
    "start_time": "2021-11-13T11:27:13.028Z"
   },
   {
    "duration": 41,
    "start_time": "2021-11-13T11:28:29.916Z"
   },
   {
    "duration": 5483,
    "start_time": "2021-11-13T11:29:39.769Z"
   },
   {
    "duration": 10,
    "start_time": "2021-11-13T11:30:04.250Z"
   },
   {
    "duration": 3,
    "start_time": "2021-11-13T11:30:19.234Z"
   },
   {
    "duration": 10,
    "start_time": "2021-11-13T11:30:37.977Z"
   },
   {
    "duration": 9,
    "start_time": "2021-11-13T11:31:06.920Z"
   },
   {
    "duration": 15,
    "start_time": "2021-11-13T11:32:07.184Z"
   },
   {
    "duration": 9,
    "start_time": "2021-11-13T11:33:01.832Z"
   },
   {
    "duration": 265,
    "start_time": "2021-11-13T11:33:09.511Z"
   },
   {
    "duration": 9,
    "start_time": "2021-11-13T11:33:24.400Z"
   },
   {
    "duration": 7,
    "start_time": "2021-11-13T11:33:45.534Z"
   },
   {
    "duration": 8,
    "start_time": "2021-11-13T11:35:35.813Z"
   },
   {
    "duration": 10,
    "start_time": "2021-11-13T11:35:42.937Z"
   },
   {
    "duration": 9,
    "start_time": "2021-11-13T11:38:09.620Z"
   },
   {
    "duration": 10,
    "start_time": "2021-11-13T11:38:15.932Z"
   },
   {
    "duration": 8,
    "start_time": "2021-11-13T11:40:48.249Z"
   },
   {
    "duration": 262,
    "start_time": "2021-11-13T11:40:58.329Z"
   },
   {
    "duration": 9,
    "start_time": "2021-11-13T11:41:18.736Z"
   },
   {
    "duration": 9,
    "start_time": "2021-11-13T11:41:25.832Z"
   },
   {
    "duration": 10,
    "start_time": "2021-11-13T11:41:43.912Z"
   },
   {
    "duration": 9,
    "start_time": "2021-11-13T11:41:50.703Z"
   },
   {
    "duration": 556,
    "start_time": "2021-11-13T11:42:34.440Z"
   },
   {
    "duration": 7,
    "start_time": "2021-11-13T11:43:06.013Z"
   },
   {
    "duration": 10,
    "start_time": "2021-11-13T11:43:10.113Z"
   },
   {
    "duration": 9,
    "start_time": "2021-11-13T11:44:01.962Z"
   },
   {
    "duration": 11,
    "start_time": "2021-11-13T11:44:11.768Z"
   },
   {
    "duration": 11,
    "start_time": "2021-11-13T11:44:29.345Z"
   },
   {
    "duration": 11,
    "start_time": "2021-11-13T11:44:35.703Z"
   },
   {
    "duration": 9,
    "start_time": "2021-11-13T11:46:48.380Z"
   },
   {
    "duration": 9,
    "start_time": "2021-11-13T11:46:53.366Z"
   },
   {
    "duration": 9,
    "start_time": "2021-11-13T12:11:07.552Z"
   },
   {
    "duration": 7,
    "start_time": "2021-11-13T12:13:32.504Z"
   },
   {
    "duration": 10,
    "start_time": "2021-11-13T12:13:36.277Z"
   },
   {
    "duration": 7,
    "start_time": "2021-11-13T12:13:56.462Z"
   },
   {
    "duration": 10,
    "start_time": "2021-11-13T12:13:59.989Z"
   },
   {
    "duration": 91,
    "start_time": "2021-11-13T12:15:59.894Z"
   },
   {
    "duration": 386,
    "start_time": "2021-11-13T12:16:11.236Z"
   },
   {
    "duration": 297,
    "start_time": "2021-11-13T12:16:15.756Z"
   },
   {
    "duration": 270,
    "start_time": "2021-11-13T12:17:34.138Z"
   },
   {
    "duration": 259,
    "start_time": "2021-11-13T12:17:41.894Z"
   },
   {
    "duration": 335,
    "start_time": "2021-11-13T12:19:37.594Z"
   },
   {
    "duration": 613,
    "start_time": "2021-11-13T12:19:44.648Z"
   },
   {
    "duration": 99,
    "start_time": "2021-11-13T12:20:21.969Z"
   },
   {
    "duration": 96,
    "start_time": "2021-11-13T12:20:53.391Z"
   },
   {
    "duration": 84,
    "start_time": "2021-11-13T12:21:07.359Z"
   },
   {
    "duration": 93,
    "start_time": "2021-11-13T12:21:13.575Z"
   },
   {
    "duration": 86,
    "start_time": "2021-11-13T12:21:40.729Z"
   },
   {
    "duration": 87,
    "start_time": "2021-11-13T12:23:12.014Z"
   },
   {
    "duration": 286,
    "start_time": "2021-11-13T12:23:42.246Z"
   },
   {
    "duration": 8,
    "start_time": "2021-11-13T12:23:52.902Z"
   },
   {
    "duration": 23,
    "start_time": "2021-11-13T12:24:01.165Z"
   },
   {
    "duration": 9,
    "start_time": "2021-11-13T12:24:26.086Z"
   },
   {
    "duration": 27,
    "start_time": "2021-11-13T12:24:31.892Z"
   },
   {
    "duration": 119,
    "start_time": "2021-11-13T12:55:27.917Z"
   },
   {
    "duration": 284,
    "start_time": "2021-11-13T12:56:26.910Z"
   },
   {
    "duration": 14,
    "start_time": "2021-11-13T12:56:56.954Z"
   },
   {
    "duration": 284,
    "start_time": "2021-11-13T12:57:24.600Z"
   },
   {
    "duration": 12,
    "start_time": "2021-11-13T12:57:33.065Z"
   },
   {
    "duration": 15,
    "start_time": "2021-11-13T12:57:37.802Z"
   },
   {
    "duration": 15,
    "start_time": "2021-11-13T12:57:46.896Z"
   },
   {
    "duration": 15,
    "start_time": "2021-11-13T12:57:49.945Z"
   },
   {
    "duration": 14,
    "start_time": "2021-11-13T12:58:03.081Z"
   },
   {
    "duration": 16,
    "start_time": "2021-11-13T12:58:17.720Z"
   },
   {
    "duration": 47,
    "start_time": "2021-11-13T12:58:25.651Z"
   },
   {
    "duration": 30,
    "start_time": "2021-11-13T12:58:39.521Z"
   },
   {
    "duration": 10,
    "start_time": "2021-11-13T12:58:52.474Z"
   },
   {
    "duration": 14,
    "start_time": "2021-11-13T12:58:56.535Z"
   },
   {
    "duration": 15,
    "start_time": "2021-11-13T12:59:13.319Z"
   },
   {
    "duration": 26,
    "start_time": "2021-11-13T12:59:17.872Z"
   },
   {
    "duration": 27,
    "start_time": "2021-11-13T12:59:36.257Z"
   },
   {
    "duration": 15,
    "start_time": "2021-11-13T12:59:58.936Z"
   },
   {
    "duration": 15,
    "start_time": "2021-11-13T13:00:09.887Z"
   },
   {
    "duration": 27,
    "start_time": "2021-11-13T13:00:13.577Z"
   },
   {
    "duration": 28,
    "start_time": "2021-11-13T13:00:31.265Z"
   },
   {
    "duration": 15,
    "start_time": "2021-11-13T13:00:40.232Z"
   },
   {
    "duration": 26,
    "start_time": "2021-11-13T13:00:43.704Z"
   },
   {
    "duration": 51,
    "start_time": "2021-11-13T13:01:20.718Z"
   },
   {
    "duration": 20,
    "start_time": "2021-11-13T13:01:35.486Z"
   },
   {
    "duration": 92,
    "start_time": "2021-11-13T13:13:39.739Z"
   },
   {
    "duration": 28,
    "start_time": "2021-11-13T13:13:43.515Z"
   },
   {
    "duration": 16,
    "start_time": "2021-11-13T13:13:52.267Z"
   },
   {
    "duration": 26,
    "start_time": "2021-11-13T13:13:57.683Z"
   },
   {
    "duration": 22,
    "start_time": "2021-11-13T13:14:12.027Z"
   },
   {
    "duration": 25,
    "start_time": "2021-11-13T13:14:20.373Z"
   },
   {
    "duration": 11,
    "start_time": "2021-11-13T13:14:50.148Z"
   },
   {
    "duration": 962,
    "start_time": "2021-11-13T13:15:26.066Z"
   },
   {
    "duration": 282,
    "start_time": "2021-11-13T13:15:34.138Z"
   },
   {
    "duration": 502,
    "start_time": "2021-11-13T13:15:44.514Z"
   },
   {
    "duration": 101,
    "start_time": "2021-11-13T13:15:52.817Z"
   },
   {
    "duration": 12,
    "start_time": "2021-11-13T13:15:58.945Z"
   },
   {
    "duration": 49,
    "start_time": "2021-11-13T13:25:32.849Z"
   },
   {
    "duration": 20,
    "start_time": "2021-11-13T13:25:58.802Z"
   },
   {
    "duration": 19,
    "start_time": "2021-11-13T13:26:16.189Z"
   },
   {
    "duration": 11,
    "start_time": "2021-11-13T13:27:39.637Z"
   },
   {
    "duration": 12,
    "start_time": "2021-11-13T13:28:22.207Z"
   },
   {
    "duration": 14,
    "start_time": "2021-11-13T13:28:28.720Z"
   },
   {
    "duration": 14,
    "start_time": "2021-11-13T13:28:35.884Z"
   },
   {
    "duration": 28,
    "start_time": "2021-11-13T13:28:42.820Z"
   },
   {
    "duration": 16,
    "start_time": "2021-11-13T13:29:21.902Z"
   },
   {
    "duration": 14,
    "start_time": "2021-11-13T13:29:29.050Z"
   },
   {
    "duration": 91,
    "start_time": "2021-11-13T13:29:34.482Z"
   },
   {
    "duration": 91,
    "start_time": "2021-11-13T13:29:40.088Z"
   },
   {
    "duration": 20,
    "start_time": "2021-11-13T13:29:47.209Z"
   },
   {
    "duration": 87,
    "start_time": "2021-11-13T13:29:58.821Z"
   },
   {
    "duration": 100,
    "start_time": "2021-11-13T13:30:04.176Z"
   },
   {
    "duration": 93,
    "start_time": "2021-11-13T13:30:09.929Z"
   },
   {
    "duration": 94,
    "start_time": "2021-11-13T13:30:17.696Z"
   },
   {
    "duration": 88,
    "start_time": "2021-11-13T13:30:21.236Z"
   },
   {
    "duration": 6,
    "start_time": "2021-11-13T13:40:21.388Z"
   },
   {
    "duration": 7,
    "start_time": "2021-11-13T13:40:27.500Z"
   },
   {
    "duration": 8,
    "start_time": "2021-11-13T13:44:57.824Z"
   },
   {
    "duration": 7,
    "start_time": "2021-11-13T13:45:07.607Z"
   },
   {
    "duration": 6,
    "start_time": "2021-11-13T13:45:23.944Z"
   },
   {
    "duration": 7,
    "start_time": "2021-11-13T13:45:42.439Z"
   },
   {
    "duration": 7,
    "start_time": "2021-11-13T13:48:25.589Z"
   },
   {
    "duration": 8,
    "start_time": "2021-11-13T13:48:29.510Z"
   },
   {
    "duration": 22,
    "start_time": "2021-11-13T13:48:48.005Z"
   },
   {
    "duration": 6,
    "start_time": "2021-11-13T13:49:01.917Z"
   },
   {
    "duration": 23,
    "start_time": "2021-11-13T13:49:12.411Z"
   },
   {
    "duration": 9,
    "start_time": "2021-11-13T13:49:54.469Z"
   },
   {
    "duration": 26,
    "start_time": "2021-11-13T13:49:59.395Z"
   },
   {
    "duration": 13,
    "start_time": "2021-11-13T13:50:31.172Z"
   },
   {
    "duration": 26,
    "start_time": "2021-11-13T13:50:41.531Z"
   },
   {
    "duration": 13,
    "start_time": "2021-11-13T13:51:08.607Z"
   },
   {
    "duration": 12,
    "start_time": "2021-11-13T13:51:12.363Z"
   },
   {
    "duration": 23,
    "start_time": "2021-11-13T13:51:49.538Z"
   },
   {
    "duration": 21,
    "start_time": "2021-11-13T13:51:55.042Z"
   },
   {
    "duration": 101,
    "start_time": "2021-11-13T13:52:48.195Z"
   },
   {
    "duration": 93,
    "start_time": "2021-11-13T13:52:58.009Z"
   },
   {
    "duration": 96,
    "start_time": "2021-11-13T13:53:02.593Z"
   },
   {
    "duration": 108,
    "start_time": "2021-11-13T13:53:13.193Z"
   },
   {
    "duration": 23,
    "start_time": "2021-11-13T13:53:22.561Z"
   },
   {
    "duration": 451,
    "start_time": "2021-11-13T15:57:21.157Z"
   },
   {
    "duration": 863,
    "start_time": "2021-11-13T15:57:26.237Z"
   },
   {
    "duration": 15,
    "start_time": "2021-11-13T15:57:27.103Z"
   },
   {
    "duration": 12,
    "start_time": "2021-11-13T15:57:27.121Z"
   },
   {
    "duration": 3,
    "start_time": "2021-11-13T15:57:27.136Z"
   },
   {
    "duration": 82,
    "start_time": "2021-11-13T15:57:27.141Z"
   },
   {
    "duration": 9,
    "start_time": "2021-11-13T15:57:27.225Z"
   },
   {
    "duration": 7,
    "start_time": "2021-11-13T15:57:27.237Z"
   },
   {
    "duration": 16,
    "start_time": "2021-11-13T15:57:27.247Z"
   },
   {
    "duration": 42,
    "start_time": "2021-11-13T15:57:27.265Z"
   },
   {
    "duration": 5,
    "start_time": "2021-11-13T15:57:27.309Z"
   },
   {
    "duration": 11,
    "start_time": "2021-11-13T15:57:27.316Z"
   },
   {
    "duration": 29,
    "start_time": "2021-11-13T15:57:27.330Z"
   },
   {
    "duration": 67,
    "start_time": "2021-11-13T15:57:27.362Z"
   },
   {
    "duration": 2,
    "start_time": "2021-11-13T15:57:27.432Z"
   },
   {
    "duration": 26,
    "start_time": "2021-11-13T15:57:27.437Z"
   },
   {
    "duration": 256,
    "start_time": "2021-11-13T16:14:22.101Z"
   },
   {
    "duration": 7,
    "start_time": "2021-11-13T16:14:38.821Z"
   },
   {
    "duration": 129,
    "start_time": "2021-11-13T16:14:48.524Z"
   },
   {
    "duration": 125,
    "start_time": "2021-11-13T16:14:51.411Z"
   },
   {
    "duration": 4970,
    "start_time": "2021-11-13T16:14:57.617Z"
   },
   {
    "duration": 5593,
    "start_time": "2021-11-13T16:15:29.716Z"
   },
   {
    "duration": 437,
    "start_time": "2021-11-13T16:28:17.898Z"
   },
   {
    "duration": 127,
    "start_time": "2021-11-13T16:28:57.987Z"
   },
   {
    "duration": 373,
    "start_time": "2021-11-13T16:29:14.161Z"
   },
   {
    "duration": 382,
    "start_time": "2021-11-13T16:29:22.388Z"
   },
   {
    "duration": 444,
    "start_time": "2021-11-13T16:29:24.688Z"
   },
   {
    "duration": 9626,
    "start_time": "2021-11-13T16:29:31.368Z"
   },
   {
    "duration": 15,
    "start_time": "2021-11-13T16:30:57.968Z"
   },
   {
    "duration": 16,
    "start_time": "2021-11-13T16:31:00.079Z"
   },
   {
    "duration": 21,
    "start_time": "2021-11-13T16:31:00.502Z"
   },
   {
    "duration": 17,
    "start_time": "2021-11-13T16:31:02.169Z"
   },
   {
    "duration": 21,
    "start_time": "2021-11-13T16:31:02.414Z"
   },
   {
    "duration": 22,
    "start_time": "2021-11-13T16:31:06.504Z"
   },
   {
    "duration": 377,
    "start_time": "2021-11-13T16:31:48.465Z"
   },
   {
    "duration": 21,
    "start_time": "2021-11-13T16:31:52.494Z"
   },
   {
    "duration": 21,
    "start_time": "2021-11-13T16:32:05.208Z"
   },
   {
    "duration": 37,
    "start_time": "2021-11-13T16:33:24.468Z"
   },
   {
    "duration": 31,
    "start_time": "2021-11-13T16:33:44.828Z"
   },
   {
    "duration": 20,
    "start_time": "2021-11-13T16:34:46.099Z"
   },
   {
    "duration": 33,
    "start_time": "2021-11-13T16:35:14.083Z"
   },
   {
    "duration": 131,
    "start_time": "2021-11-13T16:38:59.360Z"
   },
   {
    "duration": 136,
    "start_time": "2021-11-13T16:39:02.663Z"
   },
   {
    "duration": 138,
    "start_time": "2021-11-13T16:39:09.775Z"
   },
   {
    "duration": 10,
    "start_time": "2021-11-13T16:39:23.743Z"
   },
   {
    "duration": 9,
    "start_time": "2021-11-13T16:41:33.038Z"
   },
   {
    "duration": 15,
    "start_time": "2021-11-13T16:47:22.402Z"
   },
   {
    "duration": 296,
    "start_time": "2021-11-13T16:48:18.335Z"
   },
   {
    "duration": 9971,
    "start_time": "2021-11-13T16:48:25.761Z"
   },
   {
    "duration": 131,
    "start_time": "2021-11-13T16:49:26.602Z"
   },
   {
    "duration": 1927,
    "start_time": "2021-11-13T16:49:41.991Z"
   },
   {
    "duration": 128,
    "start_time": "2021-11-13T16:50:35.646Z"
   },
   {
    "duration": 166,
    "start_time": "2021-11-13T16:50:55.822Z"
   },
   {
    "duration": 130,
    "start_time": "2021-11-13T17:09:04.678Z"
   },
   {
    "duration": 15,
    "start_time": "2021-11-13T17:09:15.115Z"
   },
   {
    "duration": 392,
    "start_time": "2021-11-13T17:09:46.092Z"
   },
   {
    "duration": 368,
    "start_time": "2021-11-13T17:09:53.559Z"
   },
   {
    "duration": 139,
    "start_time": "2021-11-13T17:10:12.235Z"
   },
   {
    "duration": 375,
    "start_time": "2021-11-13T17:10:17.298Z"
   },
   {
    "duration": 375,
    "start_time": "2021-11-13T17:10:30.562Z"
   },
   {
    "duration": 328,
    "start_time": "2021-11-14T07:05:26.348Z"
   },
   {
    "duration": 271,
    "start_time": "2021-11-14T07:07:02.553Z"
   },
   {
    "duration": 668,
    "start_time": "2021-11-14T07:07:06.457Z"
   },
   {
    "duration": 14,
    "start_time": "2021-11-14T07:07:07.128Z"
   },
   {
    "duration": 12,
    "start_time": "2021-11-14T07:07:07.144Z"
   },
   {
    "duration": 2,
    "start_time": "2021-11-14T07:07:07.158Z"
   },
   {
    "duration": 41,
    "start_time": "2021-11-14T07:07:07.161Z"
   },
   {
    "duration": 7,
    "start_time": "2021-11-14T07:07:07.203Z"
   },
   {
    "duration": 4,
    "start_time": "2021-11-14T07:07:07.211Z"
   },
   {
    "duration": 13,
    "start_time": "2021-11-14T07:07:07.217Z"
   },
   {
    "duration": 9,
    "start_time": "2021-11-14T07:07:07.244Z"
   },
   {
    "duration": 4,
    "start_time": "2021-11-14T07:07:07.254Z"
   },
   {
    "duration": 7,
    "start_time": "2021-11-14T07:07:07.260Z"
   },
   {
    "duration": 494,
    "start_time": "2021-11-14T07:07:07.269Z"
   },
   {
    "duration": 511,
    "start_time": "2021-11-14T07:07:23.289Z"
   },
   {
    "duration": 5,
    "start_time": "2021-11-14T07:14:53.953Z"
   },
   {
    "duration": 87,
    "start_time": "2021-11-14T07:24:16.186Z"
   },
   {
    "duration": 93,
    "start_time": "2021-11-14T07:24:23.050Z"
   },
   {
    "duration": 22,
    "start_time": "2021-11-14T07:25:55.038Z"
   },
   {
    "duration": 20,
    "start_time": "2021-11-14T07:26:12.856Z"
   },
   {
    "duration": 14,
    "start_time": "2021-11-14T07:26:29.248Z"
   },
   {
    "duration": 19,
    "start_time": "2021-11-14T07:26:54.391Z"
   },
   {
    "duration": 11,
    "start_time": "2021-11-14T07:26:55.913Z"
   },
   {
    "duration": 105,
    "start_time": "2021-11-14T07:27:24.598Z"
   },
   {
    "duration": 8,
    "start_time": "2021-11-14T07:31:34.924Z"
   },
   {
    "duration": 60,
    "start_time": "2021-11-14T07:31:51.639Z"
   },
   {
    "duration": 11,
    "start_time": "2021-11-14T07:31:51.701Z"
   },
   {
    "duration": 9,
    "start_time": "2021-11-14T07:31:51.714Z"
   },
   {
    "duration": 19,
    "start_time": "2021-11-14T07:31:51.725Z"
   },
   {
    "duration": 35,
    "start_time": "2021-11-14T07:31:51.746Z"
   },
   {
    "duration": 6,
    "start_time": "2021-11-14T07:31:51.783Z"
   },
   {
    "duration": 5,
    "start_time": "2021-11-14T07:31:51.791Z"
   },
   {
    "duration": 14,
    "start_time": "2021-11-14T07:31:51.798Z"
   },
   {
    "duration": 31,
    "start_time": "2021-11-14T07:31:51.814Z"
   },
   {
    "duration": 4,
    "start_time": "2021-11-14T07:31:51.847Z"
   },
   {
    "duration": 14,
    "start_time": "2021-11-14T07:31:51.853Z"
   },
   {
    "duration": 22,
    "start_time": "2021-11-14T07:31:51.868Z"
   },
   {
    "duration": 12,
    "start_time": "2021-11-14T07:31:55.283Z"
   },
   {
    "duration": 6,
    "start_time": "2021-11-14T07:44:35.808Z"
   },
   {
    "duration": 10,
    "start_time": "2021-11-14T07:44:37.136Z"
   },
   {
    "duration": 4,
    "start_time": "2021-11-14T07:44:41.401Z"
   },
   {
    "duration": 8,
    "start_time": "2021-11-14T07:44:43.488Z"
   },
   {
    "duration": 275,
    "start_time": "2021-11-14T07:46:43.580Z"
   },
   {
    "duration": 14,
    "start_time": "2021-11-14T07:46:59.455Z"
   },
   {
    "duration": 13,
    "start_time": "2021-11-14T07:47:03.095Z"
   },
   {
    "duration": 15,
    "start_time": "2021-11-14T07:47:09.182Z"
   },
   {
    "duration": 279,
    "start_time": "2021-11-14T07:47:31.374Z"
   },
   {
    "duration": 284,
    "start_time": "2021-11-14T07:48:20.309Z"
   },
   {
    "duration": 464,
    "start_time": "2021-11-14T07:50:44.868Z"
   },
   {
    "duration": 468,
    "start_time": "2021-11-14T07:50:56.499Z"
   },
   {
    "duration": 497,
    "start_time": "2021-11-14T07:51:39.316Z"
   },
   {
    "duration": 477,
    "start_time": "2021-11-14T07:56:44.616Z"
   },
   {
    "duration": 465,
    "start_time": "2021-11-14T07:58:03.736Z"
   },
   {
    "duration": 461,
    "start_time": "2021-11-14T07:58:13.878Z"
   },
   {
    "duration": 281,
    "start_time": "2021-11-14T07:59:00.045Z"
   },
   {
    "duration": 15,
    "start_time": "2021-11-14T07:59:23.869Z"
   },
   {
    "duration": 1282,
    "start_time": "2021-11-14T08:00:52.348Z"
   },
   {
    "duration": 99,
    "start_time": "2021-11-14T08:01:20.531Z"
   },
   {
    "duration": 1284,
    "start_time": "2021-11-14T08:01:23.450Z"
   },
   {
    "duration": 1292,
    "start_time": "2021-11-14T08:01:28.868Z"
   },
   {
    "duration": 1240,
    "start_time": "2021-11-14T08:02:17.314Z"
   },
   {
    "duration": 8,
    "start_time": "2021-11-14T08:02:23.458Z"
   },
   {
    "duration": 1225,
    "start_time": "2021-11-14T08:05:33.670Z"
   },
   {
    "duration": 7,
    "start_time": "2021-11-14T08:05:48.848Z"
   },
   {
    "duration": 13,
    "start_time": "2021-11-14T08:05:53.761Z"
   },
   {
    "duration": 17,
    "start_time": "2021-11-14T08:06:32.879Z"
   },
   {
    "duration": 2120,
    "start_time": "2021-11-14T08:06:48.894Z"
   },
   {
    "duration": 59,
    "start_time": "2021-11-14T08:07:16.151Z"
   },
   {
    "duration": 8,
    "start_time": "2021-11-14T08:07:25.528Z"
   },
   {
    "duration": 12,
    "start_time": "2021-11-14T08:07:38.469Z"
   },
   {
    "duration": 57,
    "start_time": "2021-11-14T08:07:53.678Z"
   },
   {
    "duration": 10,
    "start_time": "2021-11-14T08:07:53.737Z"
   },
   {
    "duration": 10,
    "start_time": "2021-11-14T08:07:53.749Z"
   },
   {
    "duration": 2,
    "start_time": "2021-11-14T08:07:53.761Z"
   },
   {
    "duration": 34,
    "start_time": "2021-11-14T08:07:53.765Z"
   },
   {
    "duration": 6,
    "start_time": "2021-11-14T08:07:53.801Z"
   },
   {
    "duration": 5,
    "start_time": "2021-11-14T08:07:53.809Z"
   },
   {
    "duration": 37,
    "start_time": "2021-11-14T08:07:53.816Z"
   },
   {
    "duration": 6,
    "start_time": "2021-11-14T08:07:53.855Z"
   },
   {
    "duration": 12,
    "start_time": "2021-11-14T08:07:53.862Z"
   },
   {
    "duration": 4,
    "start_time": "2021-11-14T08:07:53.875Z"
   },
   {
    "duration": 7,
    "start_time": "2021-11-14T08:07:53.880Z"
   },
   {
    "duration": 11,
    "start_time": "2021-11-14T08:07:53.889Z"
   },
   {
    "duration": 3,
    "start_time": "2021-11-14T08:08:04.198Z"
   },
   {
    "duration": 12,
    "start_time": "2021-11-14T08:08:04.661Z"
   },
   {
    "duration": 4,
    "start_time": "2021-11-14T08:08:05.189Z"
   },
   {
    "duration": 8,
    "start_time": "2021-11-14T08:08:05.853Z"
   },
   {
    "duration": 5,
    "start_time": "2021-11-14T08:08:09.198Z"
   },
   {
    "duration": 8,
    "start_time": "2021-11-14T08:08:09.204Z"
   },
   {
    "duration": 11,
    "start_time": "2021-11-14T08:08:11.030Z"
   },
   {
    "duration": 8,
    "start_time": "2021-11-14T08:08:17.381Z"
   },
   {
    "duration": 15,
    "start_time": "2021-11-14T08:08:21.574Z"
   },
   {
    "duration": 11,
    "start_time": "2021-11-14T08:08:32.248Z"
   },
   {
    "duration": 31,
    "start_time": "2021-11-14T08:11:05.370Z"
   },
   {
    "duration": 8,
    "start_time": "2021-11-14T08:11:17.603Z"
   },
   {
    "duration": 61,
    "start_time": "2021-11-14T08:12:07.796Z"
   },
   {
    "duration": 10,
    "start_time": "2021-11-14T08:12:07.860Z"
   },
   {
    "duration": 8,
    "start_time": "2021-11-14T08:12:07.872Z"
   },
   {
    "duration": 2,
    "start_time": "2021-11-14T08:12:07.882Z"
   },
   {
    "duration": 37,
    "start_time": "2021-11-14T08:12:07.885Z"
   },
   {
    "duration": 7,
    "start_time": "2021-11-14T08:12:07.944Z"
   },
   {
    "duration": 6,
    "start_time": "2021-11-14T08:12:07.952Z"
   },
   {
    "duration": 11,
    "start_time": "2021-11-14T08:12:07.960Z"
   },
   {
    "duration": 59,
    "start_time": "2021-11-14T08:12:19.922Z"
   },
   {
    "duration": 12,
    "start_time": "2021-11-14T08:12:25.145Z"
   },
   {
    "duration": 11,
    "start_time": "2021-11-14T08:12:28.505Z"
   },
   {
    "duration": 30,
    "start_time": "2021-11-14T08:12:32.785Z"
   },
   {
    "duration": 7,
    "start_time": "2021-11-14T08:12:33.519Z"
   },
   {
    "duration": 4,
    "start_time": "2021-11-14T08:12:37.217Z"
   },
   {
    "duration": 12,
    "start_time": "2021-11-14T08:12:37.633Z"
   },
   {
    "duration": 10,
    "start_time": "2021-11-14T08:12:38.497Z"
   },
   {
    "duration": 5,
    "start_time": "2021-11-14T08:12:43.154Z"
   },
   {
    "duration": 7,
    "start_time": "2021-11-14T08:12:43.585Z"
   },
   {
    "duration": 11,
    "start_time": "2021-11-14T08:12:44.865Z"
   },
   {
    "duration": 9,
    "start_time": "2021-11-14T08:12:45.346Z"
   },
   {
    "duration": 9,
    "start_time": "2021-11-14T08:12:48.537Z"
   },
   {
    "duration": 12,
    "start_time": "2021-11-14T08:13:06.897Z"
   },
   {
    "duration": 11,
    "start_time": "2021-11-14T08:14:31.137Z"
   },
   {
    "duration": 25,
    "start_time": "2021-11-14T08:17:17.349Z"
   },
   {
    "duration": 47,
    "start_time": "2021-11-14T08:18:49.397Z"
   },
   {
    "duration": 13,
    "start_time": "2021-11-14T08:19:13.749Z"
   },
   {
    "duration": 14,
    "start_time": "2021-11-14T08:19:36.101Z"
   },
   {
    "duration": 13,
    "start_time": "2021-11-14T08:20:52.532Z"
   },
   {
    "duration": 14,
    "start_time": "2021-11-14T08:21:09.868Z"
   },
   {
    "duration": 6882,
    "start_time": "2021-11-14T08:23:03.545Z"
   },
   {
    "duration": 5138,
    "start_time": "2021-11-14T08:25:57.424Z"
   },
   {
    "duration": 9,
    "start_time": "2021-11-14T08:34:08.299Z"
   },
   {
    "duration": 8,
    "start_time": "2021-11-14T08:34:16.215Z"
   },
   {
    "duration": 8,
    "start_time": "2021-11-14T08:34:22.473Z"
   },
   {
    "duration": 8,
    "start_time": "2021-11-14T08:34:26.105Z"
   },
   {
    "duration": 91,
    "start_time": "2021-11-14T08:34:30.903Z"
   },
   {
    "duration": 2314,
    "start_time": "2021-11-14T08:34:37.479Z"
   },
   {
    "duration": 5,
    "start_time": "2021-11-14T08:35:37.935Z"
   },
   {
    "duration": -59,
    "start_time": "2021-11-14T08:36:24.095Z"
   },
   {
    "duration": 5179,
    "start_time": "2021-11-14T08:36:26.084Z"
   },
   {
    "duration": 103,
    "start_time": "2021-11-14T08:37:50.935Z"
   },
   {
    "duration": 87,
    "start_time": "2021-11-14T08:38:11.324Z"
   },
   {
    "duration": 5,
    "start_time": "2021-11-14T08:39:32.546Z"
   },
   {
    "duration": 6,
    "start_time": "2021-11-14T08:39:39.523Z"
   },
   {
    "duration": 6,
    "start_time": "2021-11-14T08:39:44.050Z"
   },
   {
    "duration": 5,
    "start_time": "2021-11-14T08:39:47.491Z"
   },
   {
    "duration": 87,
    "start_time": "2021-11-14T08:40:15.819Z"
   },
   {
    "duration": 5058,
    "start_time": "2021-11-14T08:40:51.345Z"
   },
   {
    "duration": 5107,
    "start_time": "2021-11-14T08:41:25.179Z"
   },
   {
    "duration": 13,
    "start_time": "2021-11-14T08:43:16.121Z"
   },
   {
    "duration": 8,
    "start_time": "2021-11-14T08:50:12.369Z"
   },
   {
    "duration": 13,
    "start_time": "2021-11-14T09:02:37.150Z"
   },
   {
    "duration": 11,
    "start_time": "2021-11-14T09:02:48.198Z"
   },
   {
    "duration": 13,
    "start_time": "2021-11-14T09:02:52.963Z"
   },
   {
    "duration": 13,
    "start_time": "2021-11-14T09:03:23.106Z"
   },
   {
    "duration": 12,
    "start_time": "2021-11-14T09:04:00.363Z"
   },
   {
    "duration": 93,
    "start_time": "2021-11-14T09:04:22.762Z"
   },
   {
    "duration": 91,
    "start_time": "2021-11-14T09:04:39.354Z"
   },
   {
    "duration": 1042,
    "start_time": "2021-11-14T09:05:02.433Z"
   },
   {
    "duration": 293,
    "start_time": "2021-11-14T09:07:51.640Z"
   },
   {
    "duration": 169,
    "start_time": "2021-11-14T09:08:40.415Z"
   },
   {
    "duration": 30,
    "start_time": "2021-11-14T09:09:13.879Z"
   },
   {
    "duration": 32,
    "start_time": "2021-11-14T09:09:30.009Z"
   },
   {
    "duration": 368,
    "start_time": "2021-11-14T09:11:00.110Z"
   },
   {
    "duration": 15,
    "start_time": "2021-11-14T09:11:05.206Z"
   },
   {
    "duration": 275,
    "start_time": "2021-11-14T09:11:33.853Z"
   },
   {
    "duration": 311,
    "start_time": "2021-11-14T09:11:37.679Z"
   },
   {
    "duration": 47,
    "start_time": "2021-11-14T09:11:55.254Z"
   },
   {
    "duration": 304,
    "start_time": "2021-11-14T09:12:56.332Z"
   },
   {
    "duration": 13,
    "start_time": "2021-11-14T09:13:07.316Z"
   },
   {
    "duration": 280,
    "start_time": "2021-11-14T09:21:33.727Z"
   },
   {
    "duration": 11,
    "start_time": "2021-11-14T09:22:21.829Z"
   },
   {
    "duration": 10,
    "start_time": "2021-11-14T09:22:25.012Z"
   },
   {
    "duration": 14,
    "start_time": "2021-11-14T09:22:29.210Z"
   },
   {
    "duration": 11,
    "start_time": "2021-11-14T09:22:44.275Z"
   },
   {
    "duration": -3,
    "start_time": "2021-11-14T09:30:48.849Z"
   },
   {
    "duration": 14,
    "start_time": "2021-11-14T09:30:51.100Z"
   },
   {
    "duration": 9,
    "start_time": "2021-11-14T09:30:57.445Z"
   },
   {
    "duration": 12,
    "start_time": "2021-11-14T09:31:11.108Z"
   },
   {
    "duration": 580,
    "start_time": "2021-11-14T09:36:46.690Z"
   },
   {
    "duration": 8,
    "start_time": "2021-11-14T09:36:52.928Z"
   },
   {
    "duration": 9,
    "start_time": "2021-11-14T09:37:10.528Z"
   },
   {
    "duration": 7,
    "start_time": "2021-11-14T09:38:58.077Z"
   },
   {
    "duration": 6,
    "start_time": "2021-11-14T09:39:02.192Z"
   },
   {
    "duration": 59,
    "start_time": "2021-11-14T09:39:08.773Z"
   },
   {
    "duration": 11,
    "start_time": "2021-11-14T09:39:08.834Z"
   },
   {
    "duration": 15,
    "start_time": "2021-11-14T09:39:08.848Z"
   },
   {
    "duration": 2,
    "start_time": "2021-11-14T09:39:08.865Z"
   },
   {
    "duration": 33,
    "start_time": "2021-11-14T09:39:08.869Z"
   },
   {
    "duration": 7,
    "start_time": "2021-11-14T09:39:08.904Z"
   },
   {
    "duration": 6,
    "start_time": "2021-11-14T09:39:08.912Z"
   },
   {
    "duration": 16,
    "start_time": "2021-11-14T09:39:08.946Z"
   },
   {
    "duration": 9,
    "start_time": "2021-11-14T09:39:08.965Z"
   },
   {
    "duration": 5,
    "start_time": "2021-11-14T09:39:08.976Z"
   },
   {
    "duration": 9,
    "start_time": "2021-11-14T09:39:08.982Z"
   },
   {
    "duration": 6,
    "start_time": "2021-11-14T09:40:44.788Z"
   },
   {
    "duration": 6,
    "start_time": "2021-11-14T09:40:50.720Z"
   },
   {
    "duration": 5,
    "start_time": "2021-11-14T09:44:08.978Z"
   },
   {
    "duration": 5,
    "start_time": "2021-11-14T09:44:33.728Z"
   },
   {
    "duration": 13,
    "start_time": "2021-11-14T09:44:47.595Z"
   },
   {
    "duration": 4,
    "start_time": "2021-11-14T09:44:51.665Z"
   },
   {
    "duration": 4,
    "start_time": "2021-11-14T09:45:13.280Z"
   },
   {
    "duration": 511,
    "start_time": "2021-11-14T09:45:22.729Z"
   },
   {
    "duration": 3,
    "start_time": "2021-11-14T09:45:23.239Z"
   },
   {
    "duration": 9,
    "start_time": "2021-11-14T09:47:15.976Z"
   },
   {
    "duration": 1316,
    "start_time": "2021-11-14T09:47:44.134Z"
   },
   {
    "duration": 9,
    "start_time": "2021-11-14T09:48:01.867Z"
   },
   {
    "duration": 13,
    "start_time": "2021-11-14T09:48:07.286Z"
   },
   {
    "duration": 12,
    "start_time": "2021-11-14T09:49:05.510Z"
   },
   {
    "duration": 13,
    "start_time": "2021-11-14T09:49:08.821Z"
   },
   {
    "duration": 11,
    "start_time": "2021-11-14T09:49:32.022Z"
   },
   {
    "duration": 13,
    "start_time": "2021-11-14T09:49:36.462Z"
   },
   {
    "duration": 21,
    "start_time": "2021-11-14T09:49:41.037Z"
   },
   {
    "duration": 10,
    "start_time": "2021-11-14T09:50:05.148Z"
   },
   {
    "duration": 4,
    "start_time": "2021-11-14T09:50:08.639Z"
   },
   {
    "duration": 13,
    "start_time": "2021-11-14T09:50:11.166Z"
   },
   {
    "duration": 682,
    "start_time": "2021-11-14T09:50:27.120Z"
   },
   {
    "duration": 11,
    "start_time": "2021-11-14T09:50:27.803Z"
   },
   {
    "duration": 8,
    "start_time": "2021-11-14T09:50:27.816Z"
   },
   {
    "duration": 2,
    "start_time": "2021-11-14T09:50:27.826Z"
   },
   {
    "duration": 48,
    "start_time": "2021-11-14T09:50:27.829Z"
   },
   {
    "duration": 7,
    "start_time": "2021-11-14T09:50:27.878Z"
   },
   {
    "duration": 4,
    "start_time": "2021-11-14T09:50:27.887Z"
   },
   {
    "duration": 12,
    "start_time": "2021-11-14T09:50:27.893Z"
   },
   {
    "duration": 11,
    "start_time": "2021-11-14T09:50:27.907Z"
   },
   {
    "duration": 30,
    "start_time": "2021-11-14T09:50:27.919Z"
   },
   {
    "duration": 9,
    "start_time": "2021-11-14T09:50:27.951Z"
   },
   {
    "duration": 10,
    "start_time": "2021-11-14T09:50:27.962Z"
   },
   {
    "duration": 14,
    "start_time": "2021-11-14T09:50:27.973Z"
   },
   {
    "duration": 14,
    "start_time": "2021-11-14T09:50:27.989Z"
   },
   {
    "duration": 52,
    "start_time": "2021-11-14T09:50:28.005Z"
   },
   {
    "duration": 12,
    "start_time": "2021-11-14T09:50:28.060Z"
   },
   {
    "duration": 4,
    "start_time": "2021-11-14T09:50:28.074Z"
   },
   {
    "duration": 16,
    "start_time": "2021-11-14T09:50:28.080Z"
   },
   {
    "duration": 12,
    "start_time": "2021-11-14T09:50:28.098Z"
   },
   {
    "duration": 52,
    "start_time": "2021-11-14T09:50:28.112Z"
   },
   {
    "duration": 398,
    "start_time": "2021-11-14T09:50:28.166Z"
   },
   {
    "duration": -109,
    "start_time": "2021-11-14T09:50:28.676Z"
   },
   {
    "duration": -112,
    "start_time": "2021-11-14T09:50:28.680Z"
   },
   {
    "duration": -115,
    "start_time": "2021-11-14T09:50:28.684Z"
   },
   {
    "duration": -212,
    "start_time": "2021-11-14T09:50:28.782Z"
   },
   {
    "duration": -228,
    "start_time": "2021-11-14T09:50:28.799Z"
   },
   {
    "duration": -239,
    "start_time": "2021-11-14T09:50:28.811Z"
   },
   {
    "duration": -244,
    "start_time": "2021-11-14T09:50:28.817Z"
   },
   {
    "duration": -255,
    "start_time": "2021-11-14T09:50:28.829Z"
   },
   {
    "duration": -275,
    "start_time": "2021-11-14T09:50:28.850Z"
   },
   {
    "duration": -291,
    "start_time": "2021-11-14T09:50:28.867Z"
   },
   {
    "duration": -310,
    "start_time": "2021-11-14T09:50:28.887Z"
   },
   {
    "duration": -314,
    "start_time": "2021-11-14T09:50:28.892Z"
   },
   {
    "duration": -319,
    "start_time": "2021-11-14T09:50:28.898Z"
   },
   {
    "duration": -323,
    "start_time": "2021-11-14T09:50:28.903Z"
   },
   {
    "duration": -329,
    "start_time": "2021-11-14T09:50:28.910Z"
   },
   {
    "duration": -333,
    "start_time": "2021-11-14T09:50:28.915Z"
   },
   {
    "duration": -336,
    "start_time": "2021-11-14T09:50:28.920Z"
   },
   {
    "duration": -340,
    "start_time": "2021-11-14T09:50:28.924Z"
   },
   {
    "duration": -344,
    "start_time": "2021-11-14T09:50:28.929Z"
   },
   {
    "duration": -347,
    "start_time": "2021-11-14T09:50:28.934Z"
   },
   {
    "duration": -353,
    "start_time": "2021-11-14T09:50:28.940Z"
   },
   {
    "duration": -359,
    "start_time": "2021-11-14T09:50:28.947Z"
   },
   {
    "duration": -362,
    "start_time": "2021-11-14T09:50:28.951Z"
   },
   {
    "duration": -365,
    "start_time": "2021-11-14T09:50:28.955Z"
   },
   {
    "duration": -368,
    "start_time": "2021-11-14T09:50:28.959Z"
   },
   {
    "duration": -371,
    "start_time": "2021-11-14T09:50:28.964Z"
   },
   {
    "duration": -374,
    "start_time": "2021-11-14T09:50:28.968Z"
   },
   {
    "duration": -376,
    "start_time": "2021-11-14T09:50:28.971Z"
   },
   {
    "duration": -382,
    "start_time": "2021-11-14T09:50:28.977Z"
   },
   {
    "duration": -399,
    "start_time": "2021-11-14T09:50:28.995Z"
   },
   {
    "duration": -405,
    "start_time": "2021-11-14T09:50:29.002Z"
   },
   {
    "duration": -408,
    "start_time": "2021-11-14T09:50:29.006Z"
   },
   {
    "duration": 13,
    "start_time": "2021-11-14T09:51:03.424Z"
   },
   {
    "duration": 17,
    "start_time": "2021-11-14T09:53:39.117Z"
   },
   {
    "duration": 21,
    "start_time": "2021-11-14T09:53:49.349Z"
   },
   {
    "duration": 16,
    "start_time": "2021-11-14T09:54:01.333Z"
   },
   {
    "duration": 14,
    "start_time": "2021-11-14T09:54:07.181Z"
   },
   {
    "duration": 18,
    "start_time": "2021-11-14T09:56:20.708Z"
   },
   {
    "duration": 348,
    "start_time": "2021-11-14T09:57:07.515Z"
   },
   {
    "duration": 9,
    "start_time": "2021-11-14T09:57:32.122Z"
   },
   {
    "duration": 27,
    "start_time": "2021-11-14T10:07:00.043Z"
   },
   {
    "duration": 18,
    "start_time": "2021-11-14T10:07:08.506Z"
   },
   {
    "duration": 23,
    "start_time": "2021-11-14T10:07:18.737Z"
   },
   {
    "duration": 13,
    "start_time": "2021-11-14T10:07:21.307Z"
   },
   {
    "duration": 676,
    "start_time": "2021-11-14T10:07:36.765Z"
   },
   {
    "duration": 16,
    "start_time": "2021-11-14T10:07:37.443Z"
   },
   {
    "duration": 27,
    "start_time": "2021-11-14T10:07:37.462Z"
   },
   {
    "duration": 19,
    "start_time": "2021-11-14T10:07:37.490Z"
   },
   {
    "duration": 58,
    "start_time": "2021-11-14T10:07:37.511Z"
   },
   {
    "duration": 7,
    "start_time": "2021-11-14T10:07:37.571Z"
   },
   {
    "duration": 10,
    "start_time": "2021-11-14T10:07:37.580Z"
   },
   {
    "duration": 28,
    "start_time": "2021-11-14T10:07:37.593Z"
   },
   {
    "duration": 35,
    "start_time": "2021-11-14T10:07:37.623Z"
   },
   {
    "duration": 12,
    "start_time": "2021-11-14T10:07:37.660Z"
   },
   {
    "duration": 7,
    "start_time": "2021-11-14T10:07:37.673Z"
   },
   {
    "duration": 20,
    "start_time": "2021-11-14T10:07:37.682Z"
   },
   {
    "duration": 14,
    "start_time": "2021-11-14T10:07:37.704Z"
   },
   {
    "duration": 38,
    "start_time": "2021-11-14T10:07:37.719Z"
   },
   {
    "duration": 11,
    "start_time": "2021-11-14T10:07:37.759Z"
   },
   {
    "duration": 22,
    "start_time": "2021-11-14T10:07:37.772Z"
   },
   {
    "duration": 4,
    "start_time": "2021-11-14T10:07:37.796Z"
   },
   {
    "duration": 21,
    "start_time": "2021-11-14T10:07:37.802Z"
   },
   {
    "duration": 36,
    "start_time": "2021-11-14T10:07:37.825Z"
   },
   {
    "duration": 14,
    "start_time": "2021-11-14T10:07:37.862Z"
   },
   {
    "duration": 19,
    "start_time": "2021-11-14T10:07:37.878Z"
   },
   {
    "duration": 9,
    "start_time": "2021-11-14T10:07:37.898Z"
   },
   {
    "duration": 440,
    "start_time": "2021-11-14T10:07:37.910Z"
   },
   {
    "duration": -177,
    "start_time": "2021-11-14T10:07:38.533Z"
   },
   {
    "duration": -188,
    "start_time": "2021-11-14T10:07:38.545Z"
   },
   {
    "duration": -205,
    "start_time": "2021-11-14T10:07:38.563Z"
   },
   {
    "duration": -217,
    "start_time": "2021-11-14T10:07:38.576Z"
   },
   {
    "duration": -222,
    "start_time": "2021-11-14T10:07:38.582Z"
   },
   {
    "duration": -233,
    "start_time": "2021-11-14T10:07:38.594Z"
   },
   {
    "duration": -237,
    "start_time": "2021-11-14T10:07:38.599Z"
   },
   {
    "duration": -248,
    "start_time": "2021-11-14T10:07:38.611Z"
   },
   {
    "duration": -253,
    "start_time": "2021-11-14T10:07:38.617Z"
   },
   {
    "duration": -257,
    "start_time": "2021-11-14T10:07:38.621Z"
   },
   {
    "duration": -260,
    "start_time": "2021-11-14T10:07:38.625Z"
   },
   {
    "duration": -263,
    "start_time": "2021-11-14T10:07:38.629Z"
   },
   {
    "duration": -266,
    "start_time": "2021-11-14T10:07:38.633Z"
   },
   {
    "duration": -269,
    "start_time": "2021-11-14T10:07:38.637Z"
   },
   {
    "duration": -292,
    "start_time": "2021-11-14T10:07:38.661Z"
   },
   {
    "duration": -296,
    "start_time": "2021-11-14T10:07:38.667Z"
   },
   {
    "duration": -310,
    "start_time": "2021-11-14T10:07:38.682Z"
   },
   {
    "duration": -322,
    "start_time": "2021-11-14T10:07:38.695Z"
   },
   {
    "duration": -335,
    "start_time": "2021-11-14T10:07:38.709Z"
   },
   {
    "duration": -342,
    "start_time": "2021-11-14T10:07:38.717Z"
   },
   {
    "duration": -353,
    "start_time": "2021-11-14T10:07:38.729Z"
   },
   {
    "duration": -374,
    "start_time": "2021-11-14T10:07:38.750Z"
   },
   {
    "duration": -385,
    "start_time": "2021-11-14T10:07:38.762Z"
   },
   {
    "duration": -399,
    "start_time": "2021-11-14T10:07:38.777Z"
   },
   {
    "duration": -404,
    "start_time": "2021-11-14T10:07:38.783Z"
   },
   {
    "duration": -414,
    "start_time": "2021-11-14T10:07:38.794Z"
   },
   {
    "duration": -419,
    "start_time": "2021-11-14T10:07:38.800Z"
   },
   {
    "duration": -431,
    "start_time": "2021-11-14T10:07:38.812Z"
   },
   {
    "duration": -442,
    "start_time": "2021-11-14T10:07:38.824Z"
   },
   {
    "duration": -447,
    "start_time": "2021-11-14T10:07:38.830Z"
   },
   {
    "duration": -458,
    "start_time": "2021-11-14T10:07:38.842Z"
   },
   {
    "duration": -462,
    "start_time": "2021-11-14T10:07:38.847Z"
   },
   {
    "duration": 23,
    "start_time": "2021-11-14T10:07:53.763Z"
   },
   {
    "duration": 5,
    "start_time": "2021-11-14T10:56:48.545Z"
   },
   {
    "duration": 7,
    "start_time": "2021-11-14T10:56:53.048Z"
   },
   {
    "duration": 26,
    "start_time": "2021-11-14T11:34:39.433Z"
   },
   {
    "duration": 9,
    "start_time": "2021-11-14T11:34:45.897Z"
   },
   {
    "duration": 7,
    "start_time": "2021-11-14T11:36:14.887Z"
   },
   {
    "duration": 7,
    "start_time": "2021-11-14T11:37:47.686Z"
   },
   {
    "duration": 7,
    "start_time": "2021-11-14T11:38:06.310Z"
   },
   {
    "duration": 7,
    "start_time": "2021-11-14T11:38:09.214Z"
   },
   {
    "duration": 7,
    "start_time": "2021-11-14T11:38:11.909Z"
   },
   {
    "duration": 7,
    "start_time": "2021-11-14T11:38:17.493Z"
   },
   {
    "duration": 7,
    "start_time": "2021-11-14T11:38:25.709Z"
   },
   {
    "duration": 7,
    "start_time": "2021-11-14T11:38:28.278Z"
   },
   {
    "duration": 7,
    "start_time": "2021-11-14T11:38:44.525Z"
   },
   {
    "duration": 7,
    "start_time": "2021-11-14T11:38:46.861Z"
   },
   {
    "duration": 8,
    "start_time": "2021-11-14T11:38:53.525Z"
   },
   {
    "duration": 7,
    "start_time": "2021-11-14T11:39:00.318Z"
   },
   {
    "duration": 7,
    "start_time": "2021-11-14T11:39:07.173Z"
   },
   {
    "duration": 7,
    "start_time": "2021-11-14T11:39:09.414Z"
   },
   {
    "duration": 57,
    "start_time": "2021-11-14T11:39:12.062Z"
   },
   {
    "duration": 10,
    "start_time": "2021-11-14T11:39:12.120Z"
   },
   {
    "duration": 9,
    "start_time": "2021-11-14T11:39:12.132Z"
   },
   {
    "duration": 4,
    "start_time": "2021-11-14T11:39:12.143Z"
   },
   {
    "duration": 30,
    "start_time": "2021-11-14T11:39:12.148Z"
   },
   {
    "duration": 7,
    "start_time": "2021-11-14T11:39:12.179Z"
   },
   {
    "duration": 6,
    "start_time": "2021-11-14T11:39:12.187Z"
   },
   {
    "duration": 11,
    "start_time": "2021-11-14T11:39:12.195Z"
   },
   {
    "duration": 10,
    "start_time": "2021-11-14T11:39:12.208Z"
   },
   {
    "duration": 25,
    "start_time": "2021-11-14T11:39:12.220Z"
   },
   {
    "duration": 6,
    "start_time": "2021-11-14T11:39:12.247Z"
   },
   {
    "duration": 8,
    "start_time": "2021-11-14T11:39:12.255Z"
   },
   {
    "duration": 13,
    "start_time": "2021-11-14T11:39:12.265Z"
   },
   {
    "duration": 16,
    "start_time": "2021-11-14T11:39:12.280Z"
   },
   {
    "duration": 11,
    "start_time": "2021-11-14T11:39:12.298Z"
   },
   {
    "duration": 39,
    "start_time": "2021-11-14T11:39:12.310Z"
   },
   {
    "duration": 3,
    "start_time": "2021-11-14T11:39:12.351Z"
   },
   {
    "duration": 12,
    "start_time": "2021-11-14T11:39:12.356Z"
   },
   {
    "duration": 8,
    "start_time": "2021-11-14T11:39:12.370Z"
   },
   {
    "duration": 12,
    "start_time": "2021-11-14T11:39:12.380Z"
   },
   {
    "duration": 7,
    "start_time": "2021-11-14T11:39:16.888Z"
   },
   {
    "duration": 29,
    "start_time": "2021-11-14T11:39:40.397Z"
   },
   {
    "duration": 13,
    "start_time": "2021-11-14T11:42:15.275Z"
   },
   {
    "duration": 15,
    "start_time": "2021-11-14T11:42:19.546Z"
   },
   {
    "duration": 14,
    "start_time": "2021-11-14T11:42:23.738Z"
   },
   {
    "duration": 7,
    "start_time": "2021-11-14T11:42:45.562Z"
   },
   {
    "duration": 7,
    "start_time": "2021-11-14T11:42:50.281Z"
   },
   {
    "duration": 8,
    "start_time": "2021-11-14T11:42:56.193Z"
   },
   {
    "duration": 7,
    "start_time": "2021-11-14T11:43:09.779Z"
   },
   {
    "duration": 7,
    "start_time": "2021-11-14T11:43:39.969Z"
   },
   {
    "duration": 8,
    "start_time": "2021-11-14T11:43:48.960Z"
   },
   {
    "duration": 6935,
    "start_time": "2021-11-14T11:44:41.064Z"
   },
   {
    "duration": 28,
    "start_time": "2021-11-14T11:48:06.704Z"
   },
   {
    "duration": 13,
    "start_time": "2021-11-14T11:58:00.298Z"
   },
   {
    "duration": 7,
    "start_time": "2021-11-14T11:58:19.461Z"
   },
   {
    "duration": 27,
    "start_time": "2021-11-14T11:58:20.692Z"
   },
   {
    "duration": 9,
    "start_time": "2021-11-14T11:58:23.117Z"
   },
   {
    "duration": 30,
    "start_time": "2021-11-14T11:58:38.533Z"
   },
   {
    "duration": 9,
    "start_time": "2021-11-14T11:58:40.340Z"
   },
   {
    "duration": 25,
    "start_time": "2021-11-14T11:58:53.957Z"
   },
   {
    "duration": 9,
    "start_time": "2021-11-14T11:58:55.116Z"
   },
   {
    "duration": 8,
    "start_time": "2021-11-14T11:59:01.749Z"
   },
   {
    "duration": 27,
    "start_time": "2021-11-14T11:59:12.813Z"
   },
   {
    "duration": 9,
    "start_time": "2021-11-14T11:59:21.476Z"
   },
   {
    "duration": 25,
    "start_time": "2021-11-14T11:59:48.412Z"
   },
   {
    "duration": 10,
    "start_time": "2021-11-14T11:59:52.396Z"
   },
   {
    "duration": 5,
    "start_time": "2021-11-14T12:00:05.556Z"
   },
   {
    "duration": 12,
    "start_time": "2021-11-14T12:00:13.539Z"
   },
   {
    "duration": 700,
    "start_time": "2021-11-14T12:00:24.536Z"
   },
   {
    "duration": 10,
    "start_time": "2021-11-14T12:00:25.239Z"
   },
   {
    "duration": 10,
    "start_time": "2021-11-14T12:00:25.251Z"
   },
   {
    "duration": 8,
    "start_time": "2021-11-14T12:00:25.263Z"
   },
   {
    "duration": 30,
    "start_time": "2021-11-14T12:00:25.273Z"
   },
   {
    "duration": 6,
    "start_time": "2021-11-14T12:00:25.305Z"
   },
   {
    "duration": 6,
    "start_time": "2021-11-14T12:00:25.313Z"
   },
   {
    "duration": 33,
    "start_time": "2021-11-14T12:00:25.321Z"
   },
   {
    "duration": 16,
    "start_time": "2021-11-14T12:00:25.356Z"
   },
   {
    "duration": 11,
    "start_time": "2021-11-14T12:00:25.373Z"
   },
   {
    "duration": 15,
    "start_time": "2021-11-14T12:00:25.386Z"
   },
   {
    "duration": 16,
    "start_time": "2021-11-14T12:00:25.402Z"
   },
   {
    "duration": 10,
    "start_time": "2021-11-14T12:00:25.420Z"
   },
   {
    "duration": 24,
    "start_time": "2021-11-14T12:00:25.432Z"
   },
   {
    "duration": 11,
    "start_time": "2021-11-14T12:00:25.458Z"
   },
   {
    "duration": 13,
    "start_time": "2021-11-14T12:00:25.470Z"
   },
   {
    "duration": 12,
    "start_time": "2021-11-14T12:00:25.485Z"
   },
   {
    "duration": 18,
    "start_time": "2021-11-14T12:00:25.499Z"
   },
   {
    "duration": 6,
    "start_time": "2021-11-14T12:00:25.519Z"
   },
   {
    "duration": 32,
    "start_time": "2021-11-14T12:00:25.527Z"
   },
   {
    "duration": 6,
    "start_time": "2021-11-14T12:00:25.561Z"
   },
   {
    "duration": 30,
    "start_time": "2021-11-14T12:00:25.568Z"
   },
   {
    "duration": 8,
    "start_time": "2021-11-14T12:00:25.601Z"
   },
   {
    "duration": 8,
    "start_time": "2021-11-14T12:00:25.612Z"
   },
   {
    "duration": 28,
    "start_time": "2021-11-14T12:00:25.622Z"
   },
   {
    "duration": 18,
    "start_time": "2021-11-14T12:00:25.652Z"
   },
   {
    "duration": 18,
    "start_time": "2021-11-14T12:00:25.672Z"
   },
   {
    "duration": 16,
    "start_time": "2021-11-14T12:00:25.691Z"
   },
   {
    "duration": 38,
    "start_time": "2021-11-14T12:00:25.709Z"
   },
   {
    "duration": 5,
    "start_time": "2021-11-14T12:00:25.749Z"
   },
   {
    "duration": 12,
    "start_time": "2021-11-14T12:00:25.756Z"
   },
   {
    "duration": 6,
    "start_time": "2021-11-14T12:00:25.770Z"
   },
   {
    "duration": 6,
    "start_time": "2021-11-14T12:00:25.777Z"
   },
   {
    "duration": 8,
    "start_time": "2021-11-14T12:00:25.785Z"
   },
   {
    "duration": 5,
    "start_time": "2021-11-14T12:00:25.795Z"
   },
   {
    "duration": 7,
    "start_time": "2021-11-14T12:00:25.802Z"
   },
   {
    "duration": 634,
    "start_time": "2021-11-14T12:00:25.810Z"
   },
   {
    "duration": 5,
    "start_time": "2021-11-14T12:00:26.446Z"
   },
   {
    "duration": 3378,
    "start_time": "2021-11-14T12:00:26.453Z"
   },
   {
    "duration": 15,
    "start_time": "2021-11-14T12:00:29.833Z"
   },
   {
    "duration": 16,
    "start_time": "2021-11-14T12:00:29.850Z"
   },
   {
    "duration": 10,
    "start_time": "2021-11-14T12:00:29.867Z"
   },
   {
    "duration": 20,
    "start_time": "2021-11-14T12:00:29.879Z"
   },
   {
    "duration": 13,
    "start_time": "2021-11-14T12:00:29.901Z"
   },
   {
    "duration": 8,
    "start_time": "2021-11-14T12:00:29.916Z"
   },
   {
    "duration": 30,
    "start_time": "2021-11-14T12:00:29.926Z"
   },
   {
    "duration": 8,
    "start_time": "2021-11-14T12:00:29.958Z"
   },
   {
    "duration": 26,
    "start_time": "2021-11-14T12:00:29.967Z"
   },
   {
    "duration": 689,
    "start_time": "2021-11-14T12:00:29.994Z"
   },
   {
    "duration": 20,
    "start_time": "2021-11-14T12:00:30.685Z"
   },
   {
    "duration": 155,
    "start_time": "2021-11-14T12:00:30.706Z"
   },
   {
    "duration": 21,
    "start_time": "2021-11-14T12:00:30.862Z"
   },
   {
    "duration": 21,
    "start_time": "2021-11-14T12:00:30.884Z"
   },
   {
    "duration": 161,
    "start_time": "2021-11-14T12:00:30.906Z"
   },
   {
    "duration": 19,
    "start_time": "2021-11-14T12:00:31.068Z"
   },
   {
    "duration": 141,
    "start_time": "2021-11-14T12:00:31.088Z"
   },
   {
    "duration": 137,
    "start_time": "2021-11-14T12:02:56.187Z"
   },
   {
    "duration": 14,
    "start_time": "2021-11-14T12:12:55.082Z"
   },
   {
    "duration": 668,
    "start_time": "2021-11-14T12:13:30.756Z"
   },
   {
    "duration": 10,
    "start_time": "2021-11-14T12:13:31.426Z"
   },
   {
    "duration": 11,
    "start_time": "2021-11-14T12:13:31.438Z"
   },
   {
    "duration": 16,
    "start_time": "2021-11-14T12:13:31.451Z"
   },
   {
    "duration": 37,
    "start_time": "2021-11-14T12:13:31.469Z"
   },
   {
    "duration": 9,
    "start_time": "2021-11-14T12:13:31.508Z"
   },
   {
    "duration": 11,
    "start_time": "2021-11-14T12:13:31.518Z"
   },
   {
    "duration": 21,
    "start_time": "2021-11-14T12:13:31.532Z"
   },
   {
    "duration": 17,
    "start_time": "2021-11-14T12:13:31.555Z"
   },
   {
    "duration": 3,
    "start_time": "2021-11-14T12:13:31.574Z"
   },
   {
    "duration": 10,
    "start_time": "2021-11-14T12:13:31.579Z"
   },
   {
    "duration": 10,
    "start_time": "2021-11-14T12:13:31.590Z"
   },
   {
    "duration": 21,
    "start_time": "2021-11-14T12:13:31.601Z"
   },
   {
    "duration": 13,
    "start_time": "2021-11-14T12:13:31.624Z"
   },
   {
    "duration": 11,
    "start_time": "2021-11-14T12:13:31.644Z"
   },
   {
    "duration": 6,
    "start_time": "2021-11-14T12:13:31.656Z"
   },
   {
    "duration": 14,
    "start_time": "2021-11-14T12:13:31.664Z"
   },
   {
    "duration": 11,
    "start_time": "2021-11-14T12:13:31.679Z"
   },
   {
    "duration": 26,
    "start_time": "2021-11-14T12:13:31.692Z"
   },
   {
    "duration": 27,
    "start_time": "2021-11-14T12:13:31.720Z"
   },
   {
    "duration": 24,
    "start_time": "2021-11-14T12:13:31.749Z"
   },
   {
    "duration": 9,
    "start_time": "2021-11-14T12:13:31.775Z"
   },
   {
    "duration": 4,
    "start_time": "2021-11-14T12:13:31.788Z"
   },
   {
    "duration": 15,
    "start_time": "2021-11-14T12:13:31.794Z"
   },
   {
    "duration": 41,
    "start_time": "2021-11-14T12:13:31.811Z"
   },
   {
    "duration": 18,
    "start_time": "2021-11-14T12:13:31.854Z"
   },
   {
    "duration": 14,
    "start_time": "2021-11-14T12:13:31.874Z"
   },
   {
    "duration": 5,
    "start_time": "2021-11-14T12:13:31.890Z"
   },
   {
    "duration": 5,
    "start_time": "2021-11-14T12:13:31.897Z"
   },
   {
    "duration": 7,
    "start_time": "2021-11-14T12:13:31.904Z"
   },
   {
    "duration": 31,
    "start_time": "2021-11-14T12:13:31.913Z"
   },
   {
    "duration": 4,
    "start_time": "2021-11-14T12:13:31.946Z"
   },
   {
    "duration": 7,
    "start_time": "2021-11-14T12:13:31.952Z"
   },
   {
    "duration": 5,
    "start_time": "2021-11-14T12:13:31.960Z"
   },
   {
    "duration": 8,
    "start_time": "2021-11-14T12:13:31.966Z"
   },
   {
    "duration": 677,
    "start_time": "2021-11-14T12:13:31.976Z"
   },
   {
    "duration": 4,
    "start_time": "2021-11-14T12:13:32.655Z"
   },
   {
    "duration": 3501,
    "start_time": "2021-11-14T12:13:32.660Z"
   },
   {
    "duration": 5,
    "start_time": "2021-11-14T12:13:36.163Z"
   },
   {
    "duration": 20,
    "start_time": "2021-11-14T12:13:36.170Z"
   },
   {
    "duration": 11,
    "start_time": "2021-11-14T12:13:36.192Z"
   },
   {
    "duration": 19,
    "start_time": "2021-11-14T12:13:36.205Z"
   },
   {
    "duration": 21,
    "start_time": "2021-11-14T12:13:36.226Z"
   },
   {
    "duration": 8,
    "start_time": "2021-11-14T12:13:36.249Z"
   },
   {
    "duration": 15,
    "start_time": "2021-11-14T12:13:36.259Z"
   },
   {
    "duration": 8,
    "start_time": "2021-11-14T12:13:36.276Z"
   },
   {
    "duration": 25,
    "start_time": "2021-11-14T12:13:36.285Z"
   },
   {
    "duration": 671,
    "start_time": "2021-11-14T12:13:36.312Z"
   },
   {
    "duration": 20,
    "start_time": "2021-11-14T12:13:36.984Z"
   },
   {
    "duration": 166,
    "start_time": "2021-11-14T12:13:37.005Z"
   },
   {
    "duration": 20,
    "start_time": "2021-11-14T12:13:37.172Z"
   },
   {
    "duration": 155,
    "start_time": "2021-11-14T12:13:37.193Z"
   },
   {
    "duration": 21,
    "start_time": "2021-11-14T12:13:37.350Z"
   },
   {
    "duration": 149,
    "start_time": "2021-11-14T12:13:37.373Z"
   },
   {
    "duration": 7,
    "start_time": "2021-11-14T12:32:23.281Z"
   },
   {
    "duration": 7,
    "start_time": "2021-11-14T12:32:45.461Z"
   },
   {
    "duration": 7,
    "start_time": "2021-11-14T12:32:50.627Z"
   },
   {
    "duration": 9,
    "start_time": "2021-11-14T12:33:03.596Z"
   },
   {
    "duration": 7,
    "start_time": "2021-11-14T12:41:47.909Z"
   },
   {
    "duration": 6,
    "start_time": "2021-11-14T12:42:01.310Z"
   },
   {
    "duration": 8,
    "start_time": "2021-11-14T12:42:06.741Z"
   },
   {
    "duration": 28,
    "start_time": "2021-11-14T12:42:38.557Z"
   },
   {
    "duration": 736,
    "start_time": "2021-11-14T12:43:01.333Z"
   },
   {
    "duration": 11,
    "start_time": "2021-11-14T12:43:02.071Z"
   },
   {
    "duration": 20,
    "start_time": "2021-11-14T12:43:02.084Z"
   },
   {
    "duration": 16,
    "start_time": "2021-11-14T12:43:02.106Z"
   },
   {
    "duration": 41,
    "start_time": "2021-11-14T12:43:02.124Z"
   },
   {
    "duration": 7,
    "start_time": "2021-11-14T12:43:02.167Z"
   },
   {
    "duration": 16,
    "start_time": "2021-11-14T12:43:02.176Z"
   },
   {
    "duration": 38,
    "start_time": "2021-11-14T12:43:02.195Z"
   },
   {
    "duration": 30,
    "start_time": "2021-11-14T12:43:02.236Z"
   },
   {
    "duration": 27,
    "start_time": "2021-11-14T12:43:02.267Z"
   },
   {
    "duration": 7,
    "start_time": "2021-11-14T12:43:02.296Z"
   },
   {
    "duration": 19,
    "start_time": "2021-11-14T12:43:02.305Z"
   },
   {
    "duration": 19,
    "start_time": "2021-11-14T12:43:02.326Z"
   },
   {
    "duration": 13,
    "start_time": "2021-11-14T12:43:02.346Z"
   },
   {
    "duration": 25,
    "start_time": "2021-11-14T12:43:02.361Z"
   },
   {
    "duration": 5,
    "start_time": "2021-11-14T12:43:02.388Z"
   },
   {
    "duration": 19,
    "start_time": "2021-11-14T12:43:02.395Z"
   },
   {
    "duration": 10,
    "start_time": "2021-11-14T12:43:02.416Z"
   },
   {
    "duration": 31,
    "start_time": "2021-11-14T12:43:02.428Z"
   },
   {
    "duration": 7,
    "start_time": "2021-11-14T12:43:02.460Z"
   },
   {
    "duration": 27,
    "start_time": "2021-11-14T12:43:02.469Z"
   },
   {
    "duration": 9,
    "start_time": "2021-11-14T12:43:02.498Z"
   },
   {
    "duration": 10,
    "start_time": "2021-11-14T12:43:02.511Z"
   },
   {
    "duration": 28,
    "start_time": "2021-11-14T12:43:02.523Z"
   },
   {
    "duration": 16,
    "start_time": "2021-11-14T12:43:02.553Z"
   },
   {
    "duration": 16,
    "start_time": "2021-11-14T12:43:02.570Z"
   },
   {
    "duration": 15,
    "start_time": "2021-11-14T12:43:02.588Z"
   },
   {
    "duration": 5,
    "start_time": "2021-11-14T12:43:02.604Z"
   },
   {
    "duration": 36,
    "start_time": "2021-11-14T12:43:02.611Z"
   },
   {
    "duration": 15,
    "start_time": "2021-11-14T12:43:02.649Z"
   },
   {
    "duration": 10,
    "start_time": "2021-11-14T12:43:02.665Z"
   },
   {
    "duration": 6,
    "start_time": "2021-11-14T12:43:02.677Z"
   },
   {
    "duration": 6,
    "start_time": "2021-11-14T12:43:02.685Z"
   },
   {
    "duration": 15,
    "start_time": "2021-11-14T12:43:02.693Z"
   },
   {
    "duration": 11,
    "start_time": "2021-11-14T12:43:02.709Z"
   },
   {
    "duration": 651,
    "start_time": "2021-11-14T12:43:02.722Z"
   },
   {
    "duration": 3,
    "start_time": "2021-11-14T12:43:03.375Z"
   },
   {
    "duration": 3683,
    "start_time": "2021-11-14T12:43:03.380Z"
   },
   {
    "duration": 4,
    "start_time": "2021-11-14T12:43:07.065Z"
   },
   {
    "duration": 23,
    "start_time": "2021-11-14T12:43:07.072Z"
   },
   {
    "duration": 13,
    "start_time": "2021-11-14T12:43:07.097Z"
   },
   {
    "duration": 34,
    "start_time": "2021-11-14T12:43:07.112Z"
   },
   {
    "duration": 12,
    "start_time": "2021-11-14T12:43:07.148Z"
   },
   {
    "duration": 10,
    "start_time": "2021-11-14T12:43:07.161Z"
   },
   {
    "duration": 15,
    "start_time": "2021-11-14T12:43:07.173Z"
   },
   {
    "duration": 8,
    "start_time": "2021-11-14T12:43:07.190Z"
   },
   {
    "duration": 27,
    "start_time": "2021-11-14T12:43:07.199Z"
   },
   {
    "duration": 648,
    "start_time": "2021-11-14T12:43:07.245Z"
   },
   {
    "duration": 20,
    "start_time": "2021-11-14T12:43:07.895Z"
   },
   {
    "duration": 165,
    "start_time": "2021-11-14T12:43:07.917Z"
   },
   {
    "duration": 20,
    "start_time": "2021-11-14T12:43:08.083Z"
   },
   {
    "duration": 151,
    "start_time": "2021-11-14T12:43:08.104Z"
   },
   {
    "duration": 20,
    "start_time": "2021-11-14T12:43:08.257Z"
   },
   {
    "duration": 145,
    "start_time": "2021-11-14T12:43:08.278Z"
   },
   {
    "duration": 5,
    "start_time": "2021-11-14T12:50:16.943Z"
   },
   {
    "duration": 7,
    "start_time": "2021-11-14T12:50:38.471Z"
   },
   {
    "duration": 7,
    "start_time": "2021-11-14T12:54:35.891Z"
   },
   {
    "duration": 8,
    "start_time": "2021-11-14T12:56:37.609Z"
   },
   {
    "duration": 36,
    "start_time": "2021-11-14T12:58:17.172Z"
   },
   {
    "duration": 7,
    "start_time": "2021-11-14T12:58:20.032Z"
   },
   {
    "duration": 8,
    "start_time": "2021-11-14T12:59:56.918Z"
   },
   {
    "duration": 32,
    "start_time": "2021-11-14T13:00:04.326Z"
   },
   {
    "duration": 13,
    "start_time": "2021-11-14T13:00:06.454Z"
   },
   {
    "duration": 9,
    "start_time": "2021-11-14T13:02:09.725Z"
   },
   {
    "duration": 9,
    "start_time": "2021-11-14T13:04:28.484Z"
   },
   {
    "duration": 8,
    "start_time": "2021-11-14T13:05:27.898Z"
   },
   {
    "duration": 721,
    "start_time": "2021-11-14T13:06:01.221Z"
   },
   {
    "duration": 12,
    "start_time": "2021-11-14T13:06:01.944Z"
   },
   {
    "duration": 20,
    "start_time": "2021-11-14T13:06:01.958Z"
   },
   {
    "duration": 46,
    "start_time": "2021-11-14T13:06:01.981Z"
   },
   {
    "duration": 4,
    "start_time": "2021-11-14T13:06:02.029Z"
   },
   {
    "duration": 28,
    "start_time": "2021-11-14T13:06:02.035Z"
   },
   {
    "duration": 7,
    "start_time": "2021-11-14T13:06:02.065Z"
   },
   {
    "duration": 20,
    "start_time": "2021-11-14T13:06:02.075Z"
   },
   {
    "duration": 9,
    "start_time": "2021-11-14T13:06:02.097Z"
   },
   {
    "duration": 16,
    "start_time": "2021-11-14T13:06:02.107Z"
   },
   {
    "duration": 24,
    "start_time": "2021-11-14T13:06:02.126Z"
   },
   {
    "duration": 17,
    "start_time": "2021-11-14T13:06:02.152Z"
   },
   {
    "duration": 4,
    "start_time": "2021-11-14T13:06:02.171Z"
   },
   {
    "duration": 10,
    "start_time": "2021-11-14T13:06:02.177Z"
   },
   {
    "duration": 65,
    "start_time": "2021-11-14T13:06:02.189Z"
   },
   {
    "duration": 9,
    "start_time": "2021-11-14T13:06:02.256Z"
   },
   {
    "duration": 58,
    "start_time": "2021-11-14T13:06:02.267Z"
   },
   {
    "duration": 9,
    "start_time": "2021-11-14T13:06:02.327Z"
   },
   {
    "duration": 4,
    "start_time": "2021-11-14T13:06:02.344Z"
   },
   {
    "duration": 16,
    "start_time": "2021-11-14T13:06:02.350Z"
   },
   {
    "duration": 7,
    "start_time": "2021-11-14T13:06:02.368Z"
   },
   {
    "duration": 14,
    "start_time": "2021-11-14T13:06:02.377Z"
   },
   {
    "duration": 23,
    "start_time": "2021-11-14T13:06:02.395Z"
   },
   {
    "duration": 40,
    "start_time": "2021-11-14T13:06:02.420Z"
   },
   {
    "duration": 15,
    "start_time": "2021-11-14T13:06:02.461Z"
   },
   {
    "duration": 5,
    "start_time": "2021-11-14T13:06:02.477Z"
   },
   {
    "duration": 16,
    "start_time": "2021-11-14T13:06:02.483Z"
   },
   {
    "duration": 9,
    "start_time": "2021-11-14T13:06:02.501Z"
   },
   {
    "duration": 10,
    "start_time": "2021-11-14T13:06:02.512Z"
   },
   {
    "duration": 21,
    "start_time": "2021-11-14T13:06:02.524Z"
   },
   {
    "duration": 5,
    "start_time": "2021-11-14T13:06:02.546Z"
   },
   {
    "duration": 16,
    "start_time": "2021-11-14T13:06:02.553Z"
   },
   {
    "duration": 14,
    "start_time": "2021-11-14T13:06:02.571Z"
   },
   {
    "duration": 853,
    "start_time": "2021-11-14T13:06:02.587Z"
   },
   {
    "duration": 3,
    "start_time": "2021-11-14T13:06:03.445Z"
   },
   {
    "duration": 3494,
    "start_time": "2021-11-14T13:06:03.450Z"
   },
   {
    "duration": 4,
    "start_time": "2021-11-14T13:06:06.946Z"
   },
   {
    "duration": 15,
    "start_time": "2021-11-14T13:06:06.952Z"
   },
   {
    "duration": 11,
    "start_time": "2021-11-14T13:06:06.968Z"
   },
   {
    "duration": 15,
    "start_time": "2021-11-14T13:06:06.980Z"
   },
   {
    "duration": 8,
    "start_time": "2021-11-14T13:06:06.996Z"
   },
   {
    "duration": 8,
    "start_time": "2021-11-14T13:06:07.005Z"
   },
   {
    "duration": 39,
    "start_time": "2021-11-14T13:06:07.015Z"
   },
   {
    "duration": 6,
    "start_time": "2021-11-14T13:06:07.056Z"
   },
   {
    "duration": 25,
    "start_time": "2021-11-14T13:06:07.064Z"
   },
   {
    "duration": 686,
    "start_time": "2021-11-14T13:06:07.091Z"
   },
   {
    "duration": 20,
    "start_time": "2021-11-14T13:06:07.779Z"
   },
   {
    "duration": 162,
    "start_time": "2021-11-14T13:06:07.801Z"
   },
   {
    "duration": 19,
    "start_time": "2021-11-14T13:06:07.964Z"
   },
   {
    "duration": 146,
    "start_time": "2021-11-14T13:06:07.985Z"
   },
   {
    "duration": 28,
    "start_time": "2021-11-14T13:06:08.133Z"
   },
   {
    "duration": 144,
    "start_time": "2021-11-14T13:06:08.162Z"
   },
   {
    "duration": 126,
    "start_time": "2021-11-14T13:07:37.719Z"
   },
   {
    "duration": 13,
    "start_time": "2021-11-14T13:09:46.014Z"
   },
   {
    "duration": 693,
    "start_time": "2021-11-14T13:17:29.376Z"
   },
   {
    "duration": 17,
    "start_time": "2021-11-14T13:17:30.071Z"
   },
   {
    "duration": 13,
    "start_time": "2021-11-14T13:17:30.090Z"
   },
   {
    "duration": 60,
    "start_time": "2021-11-14T13:17:30.106Z"
   },
   {
    "duration": 4,
    "start_time": "2021-11-14T13:17:30.168Z"
   },
   {
    "duration": 13,
    "start_time": "2021-11-14T13:17:30.174Z"
   },
   {
    "duration": 5,
    "start_time": "2021-11-14T13:17:30.189Z"
   },
   {
    "duration": 11,
    "start_time": "2021-11-14T13:17:30.197Z"
   },
   {
    "duration": 39,
    "start_time": "2021-11-14T13:17:30.210Z"
   },
   {
    "duration": 15,
    "start_time": "2021-11-14T13:17:30.251Z"
   },
   {
    "duration": 20,
    "start_time": "2021-11-14T13:17:30.268Z"
   },
   {
    "duration": 16,
    "start_time": "2021-11-14T13:17:30.290Z"
   },
   {
    "duration": 7,
    "start_time": "2021-11-14T13:17:30.308Z"
   },
   {
    "duration": 17,
    "start_time": "2021-11-14T13:17:30.317Z"
   },
   {
    "duration": 33,
    "start_time": "2021-11-14T13:17:30.335Z"
   },
   {
    "duration": 8,
    "start_time": "2021-11-14T13:17:30.369Z"
   },
   {
    "duration": 30,
    "start_time": "2021-11-14T13:17:30.378Z"
   },
   {
    "duration": 17,
    "start_time": "2021-11-14T13:17:30.410Z"
   },
   {
    "duration": 5,
    "start_time": "2021-11-14T13:17:30.444Z"
   },
   {
    "duration": 27,
    "start_time": "2021-11-14T13:17:30.451Z"
   },
   {
    "duration": 9,
    "start_time": "2021-11-14T13:17:30.480Z"
   },
   {
    "duration": 16,
    "start_time": "2021-11-14T13:17:30.491Z"
   },
   {
    "duration": 33,
    "start_time": "2021-11-14T13:17:30.511Z"
   },
   {
    "duration": 18,
    "start_time": "2021-11-14T13:17:30.546Z"
   },
   {
    "duration": 15,
    "start_time": "2021-11-14T13:17:30.566Z"
   },
   {
    "duration": 12,
    "start_time": "2021-11-14T13:17:30.583Z"
   },
   {
    "duration": 13,
    "start_time": "2021-11-14T13:17:30.597Z"
   },
   {
    "duration": 23,
    "start_time": "2021-11-14T13:17:30.612Z"
   },
   {
    "duration": 10,
    "start_time": "2021-11-14T13:17:30.636Z"
   },
   {
    "duration": 10,
    "start_time": "2021-11-14T13:17:30.648Z"
   },
   {
    "duration": 25,
    "start_time": "2021-11-14T13:17:30.659Z"
   },
   {
    "duration": 18,
    "start_time": "2021-11-14T13:17:30.686Z"
   },
   {
    "duration": 25,
    "start_time": "2021-11-14T13:17:30.706Z"
   },
   {
    "duration": 662,
    "start_time": "2021-11-14T13:17:30.733Z"
   },
   {
    "duration": 4,
    "start_time": "2021-11-14T13:17:31.398Z"
   },
   {
    "duration": 3491,
    "start_time": "2021-11-14T13:17:31.404Z"
   },
   {
    "duration": 4,
    "start_time": "2021-11-14T13:17:34.897Z"
   },
   {
    "duration": 33,
    "start_time": "2021-11-14T13:17:34.902Z"
   },
   {
    "duration": 24,
    "start_time": "2021-11-14T13:17:34.937Z"
   },
   {
    "duration": 27,
    "start_time": "2021-11-14T13:17:34.963Z"
   },
   {
    "duration": 24,
    "start_time": "2021-11-14T13:17:34.991Z"
   },
   {
    "duration": 19,
    "start_time": "2021-11-14T13:17:35.016Z"
   },
   {
    "duration": 25,
    "start_time": "2021-11-14T13:17:35.036Z"
   },
   {
    "duration": 23,
    "start_time": "2021-11-14T13:17:35.063Z"
   },
   {
    "duration": 34,
    "start_time": "2021-11-14T13:17:35.087Z"
   },
   {
    "duration": 683,
    "start_time": "2021-11-14T13:17:35.123Z"
   },
   {
    "duration": 19,
    "start_time": "2021-11-14T13:17:35.808Z"
   },
   {
    "duration": 163,
    "start_time": "2021-11-14T13:17:35.828Z"
   },
   {
    "duration": 19,
    "start_time": "2021-11-14T13:17:35.992Z"
   },
   {
    "duration": 167,
    "start_time": "2021-11-14T13:17:36.013Z"
   },
   {
    "duration": 24,
    "start_time": "2021-11-14T13:17:36.182Z"
   },
   {
    "duration": 145,
    "start_time": "2021-11-14T13:17:36.207Z"
   },
   {
    "duration": 713,
    "start_time": "2021-11-14T13:25:59.462Z"
   },
   {
    "duration": 12,
    "start_time": "2021-11-14T13:26:00.177Z"
   },
   {
    "duration": 18,
    "start_time": "2021-11-14T13:26:00.191Z"
   },
   {
    "duration": 44,
    "start_time": "2021-11-14T13:26:00.210Z"
   },
   {
    "duration": 3,
    "start_time": "2021-11-14T13:26:00.256Z"
   },
   {
    "duration": 23,
    "start_time": "2021-11-14T13:26:00.261Z"
   },
   {
    "duration": 4,
    "start_time": "2021-11-14T13:26:00.285Z"
   },
   {
    "duration": 16,
    "start_time": "2021-11-14T13:26:00.292Z"
   },
   {
    "duration": 18,
    "start_time": "2021-11-14T13:26:00.311Z"
   },
   {
    "duration": 23,
    "start_time": "2021-11-14T13:26:00.331Z"
   },
   {
    "duration": 22,
    "start_time": "2021-11-14T13:26:00.355Z"
   },
   {
    "duration": 20,
    "start_time": "2021-11-14T13:26:00.378Z"
   },
   {
    "duration": 15,
    "start_time": "2021-11-14T13:26:00.399Z"
   },
   {
    "duration": 10,
    "start_time": "2021-11-14T13:26:00.415Z"
   },
   {
    "duration": 26,
    "start_time": "2021-11-14T13:26:00.426Z"
   },
   {
    "duration": 6,
    "start_time": "2021-11-14T13:26:00.454Z"
   },
   {
    "duration": 29,
    "start_time": "2021-11-14T13:26:00.462Z"
   },
   {
    "duration": 9,
    "start_time": "2021-11-14T13:26:00.493Z"
   },
   {
    "duration": 13,
    "start_time": "2021-11-14T13:26:00.504Z"
   },
   {
    "duration": 19,
    "start_time": "2021-11-14T13:26:00.519Z"
   },
   {
    "duration": 7,
    "start_time": "2021-11-14T13:26:00.540Z"
   },
   {
    "duration": 22,
    "start_time": "2021-11-14T13:26:00.549Z"
   },
   {
    "duration": 21,
    "start_time": "2021-11-14T13:26:00.575Z"
   },
   {
    "duration": 17,
    "start_time": "2021-11-14T13:26:00.598Z"
   },
   {
    "duration": 28,
    "start_time": "2021-11-14T13:26:00.616Z"
   },
   {
    "duration": 5,
    "start_time": "2021-11-14T13:26:00.646Z"
   },
   {
    "duration": 9,
    "start_time": "2021-11-14T13:26:00.652Z"
   },
   {
    "duration": 6,
    "start_time": "2021-11-14T13:26:00.663Z"
   },
   {
    "duration": 5,
    "start_time": "2021-11-14T13:26:00.671Z"
   },
   {
    "duration": 8,
    "start_time": "2021-11-14T13:26:00.678Z"
   },
   {
    "duration": 8,
    "start_time": "2021-11-14T13:26:00.688Z"
   },
   {
    "duration": 12,
    "start_time": "2021-11-14T13:26:00.697Z"
   },
   {
    "duration": 15,
    "start_time": "2021-11-14T13:26:00.710Z"
   },
   {
    "duration": 668,
    "start_time": "2021-11-14T13:26:00.726Z"
   },
   {
    "duration": 4,
    "start_time": "2021-11-14T13:26:01.396Z"
   },
   {
    "duration": 3422,
    "start_time": "2021-11-14T13:26:01.402Z"
   },
   {
    "duration": 4,
    "start_time": "2021-11-14T13:26:04.826Z"
   },
   {
    "duration": 11,
    "start_time": "2021-11-14T13:26:04.844Z"
   },
   {
    "duration": 10,
    "start_time": "2021-11-14T13:26:04.856Z"
   },
   {
    "duration": 16,
    "start_time": "2021-11-14T13:26:04.868Z"
   },
   {
    "duration": 7,
    "start_time": "2021-11-14T13:26:04.886Z"
   },
   {
    "duration": 9,
    "start_time": "2021-11-14T13:26:04.895Z"
   },
   {
    "duration": 17,
    "start_time": "2021-11-14T13:26:04.905Z"
   },
   {
    "duration": 28,
    "start_time": "2021-11-14T13:26:04.923Z"
   },
   {
    "duration": 25,
    "start_time": "2021-11-14T13:26:04.952Z"
   },
   {
    "duration": 694,
    "start_time": "2021-11-14T13:26:04.978Z"
   },
   {
    "duration": 20,
    "start_time": "2021-11-14T13:26:05.674Z"
   },
   {
    "duration": 165,
    "start_time": "2021-11-14T13:26:05.696Z"
   },
   {
    "duration": 20,
    "start_time": "2021-11-14T13:26:05.863Z"
   },
   {
    "duration": 153,
    "start_time": "2021-11-14T13:26:05.884Z"
   },
   {
    "duration": 23,
    "start_time": "2021-11-14T13:26:06.039Z"
   },
   {
    "duration": 148,
    "start_time": "2021-11-14T13:26:06.063Z"
   },
   {
    "duration": 506,
    "start_time": "2021-11-14T15:58:26.220Z"
   },
   {
    "duration": 876,
    "start_time": "2021-11-14T15:58:30.181Z"
   },
   {
    "duration": 21,
    "start_time": "2021-11-14T15:58:31.061Z"
   },
   {
    "duration": 17,
    "start_time": "2021-11-14T15:58:31.086Z"
   },
   {
    "duration": 97,
    "start_time": "2021-11-14T15:58:31.107Z"
   },
   {
    "duration": 6,
    "start_time": "2021-11-14T15:58:31.207Z"
   },
   {
    "duration": 18,
    "start_time": "2021-11-14T15:58:31.216Z"
   },
   {
    "duration": 28,
    "start_time": "2021-11-14T15:58:31.237Z"
   },
   {
    "duration": 17,
    "start_time": "2021-11-14T15:58:31.271Z"
   },
   {
    "duration": 12,
    "start_time": "2021-11-14T15:58:31.291Z"
   },
   {
    "duration": 20,
    "start_time": "2021-11-14T15:58:31.306Z"
   },
   {
    "duration": 48,
    "start_time": "2021-11-14T15:58:31.329Z"
   },
   {
    "duration": 21,
    "start_time": "2021-11-14T15:58:31.380Z"
   },
   {
    "duration": 6,
    "start_time": "2021-11-14T15:58:31.403Z"
   },
   {
    "duration": 26,
    "start_time": "2021-11-14T15:58:31.411Z"
   },
   {
    "duration": 53,
    "start_time": "2021-11-14T15:58:31.440Z"
   },
   {
    "duration": 10,
    "start_time": "2021-11-14T15:58:31.495Z"
   },
   {
    "duration": 60,
    "start_time": "2021-11-14T15:58:31.507Z"
   },
   {
    "duration": 13,
    "start_time": "2021-11-14T15:58:31.570Z"
   },
   {
    "duration": 15,
    "start_time": "2021-11-14T15:58:31.585Z"
   },
   {
    "duration": 18,
    "start_time": "2021-11-14T15:58:31.603Z"
   },
   {
    "duration": 14,
    "start_time": "2021-11-14T15:58:31.624Z"
   },
   {
    "duration": 16,
    "start_time": "2021-11-14T15:58:31.659Z"
   },
   {
    "duration": 42,
    "start_time": "2021-11-14T15:58:31.681Z"
   },
   {
    "duration": 33,
    "start_time": "2021-11-14T15:58:31.726Z"
   },
   {
    "duration": 22,
    "start_time": "2021-11-14T15:58:31.762Z"
   },
   {
    "duration": 7,
    "start_time": "2021-11-14T15:58:31.787Z"
   },
   {
    "duration": 17,
    "start_time": "2021-11-14T15:58:31.796Z"
   },
   {
    "duration": 7,
    "start_time": "2021-11-14T15:58:31.816Z"
   },
   {
    "duration": 35,
    "start_time": "2021-11-14T15:58:31.826Z"
   },
   {
    "duration": 8,
    "start_time": "2021-11-14T15:58:31.863Z"
   },
   {
    "duration": 9,
    "start_time": "2021-11-14T15:58:31.873Z"
   },
   {
    "duration": 7,
    "start_time": "2021-11-14T15:58:31.884Z"
   },
   {
    "duration": 10,
    "start_time": "2021-11-14T15:58:31.893Z"
   },
   {
    "duration": 1030,
    "start_time": "2021-11-14T15:58:31.906Z"
   },
   {
    "duration": 5,
    "start_time": "2021-11-14T15:58:32.939Z"
   },
   {
    "duration": 602,
    "start_time": "2021-11-14T15:58:39.365Z"
   },
   {
    "duration": 596,
    "start_time": "2021-11-14T15:58:39.373Z"
   },
   {
    "duration": 594,
    "start_time": "2021-11-14T15:58:39.378Z"
   },
   {
    "duration": 592,
    "start_time": "2021-11-14T15:58:39.382Z"
   },
   {
    "duration": 591,
    "start_time": "2021-11-14T15:58:39.386Z"
   },
   {
    "duration": 589,
    "start_time": "2021-11-14T15:58:39.390Z"
   },
   {
    "duration": 588,
    "start_time": "2021-11-14T15:58:39.393Z"
   },
   {
    "duration": 586,
    "start_time": "2021-11-14T15:58:39.397Z"
   },
   {
    "duration": 584,
    "start_time": "2021-11-14T15:58:39.401Z"
   },
   {
    "duration": 576,
    "start_time": "2021-11-14T15:58:39.411Z"
   },
   {
    "duration": 558,
    "start_time": "2021-11-14T15:58:39.432Z"
   },
   {
    "duration": 556,
    "start_time": "2021-11-14T15:58:39.436Z"
   },
   {
    "duration": 553,
    "start_time": "2021-11-14T15:58:39.441Z"
   },
   {
    "duration": 552,
    "start_time": "2021-11-14T15:58:39.445Z"
   },
   {
    "duration": 544,
    "start_time": "2021-11-14T15:58:39.455Z"
   },
   {
    "duration": 540,
    "start_time": "2021-11-14T15:58:39.461Z"
   },
   {
    "duration": 539,
    "start_time": "2021-11-14T15:58:39.465Z"
   },
   {
    "duration": 591,
    "start_time": "2021-11-14T15:58:39.469Z"
   },
   {
    "duration": 584,
    "start_time": "2021-11-14T15:58:39.478Z"
   },
   {
    "duration": 582,
    "start_time": "2021-11-14T15:58:39.482Z"
   },
   {
    "duration": 581,
    "start_time": "2021-11-14T15:58:39.485Z"
   },
   {
    "duration": 561,
    "start_time": "2021-11-14T15:58:39.507Z"
   },
   {
    "duration": 389,
    "start_time": "2021-11-14T15:58:39.681Z"
   },
   {
    "duration": 109,
    "start_time": "2021-11-14T15:58:39.963Z"
   },
   {
    "duration": 109,
    "start_time": "2021-11-14T15:58:39.966Z"
   },
   {
    "duration": 107,
    "start_time": "2021-11-14T15:58:39.970Z"
   },
   {
    "duration": 105,
    "start_time": "2021-11-14T15:58:39.974Z"
   },
   {
    "duration": 103,
    "start_time": "2021-11-14T15:58:39.978Z"
   },
   {
    "duration": 102,
    "start_time": "2021-11-14T15:58:39.981Z"
   },
   {
    "duration": 100,
    "start_time": "2021-11-14T15:58:39.985Z"
   },
   {
    "duration": 98,
    "start_time": "2021-11-14T15:58:39.989Z"
   },
   {
    "duration": 96,
    "start_time": "2021-11-14T15:58:39.993Z"
   },
   {
    "duration": 94,
    "start_time": "2021-11-14T15:58:39.997Z"
   },
   {
    "duration": 93,
    "start_time": "2021-11-14T15:58:40.000Z"
   },
   {
    "duration": 91,
    "start_time": "2021-11-14T15:58:40.004Z"
   },
   {
    "duration": 89,
    "start_time": "2021-11-14T15:58:40.008Z"
   },
   {
    "duration": 74,
    "start_time": "2021-11-14T15:58:40.025Z"
   },
   {
    "duration": 66,
    "start_time": "2021-11-14T15:58:40.035Z"
   },
   {
    "duration": 120,
    "start_time": "2021-11-14T15:58:40.039Z"
   },
   {
    "duration": 117,
    "start_time": "2021-11-14T15:58:40.044Z"
   },
   {
    "duration": 116,
    "start_time": "2021-11-14T15:58:40.047Z"
   },
   {
    "duration": 114,
    "start_time": "2021-11-14T15:58:40.051Z"
   },
   {
    "duration": 113,
    "start_time": "2021-11-14T15:58:40.054Z"
   },
   {
    "duration": 110,
    "start_time": "2021-11-14T15:58:40.059Z"
   },
   {
    "duration": 109,
    "start_time": "2021-11-14T15:58:40.062Z"
   },
   {
    "duration": 108,
    "start_time": "2021-11-14T15:58:40.066Z"
   },
   {
    "duration": 107,
    "start_time": "2021-11-14T15:58:40.069Z"
   },
   {
    "duration": 104,
    "start_time": "2021-11-14T15:58:40.074Z"
   },
   {
    "duration": 105,
    "start_time": "2021-11-14T15:58:40.077Z"
   },
   {
    "duration": 103,
    "start_time": "2021-11-14T15:58:40.081Z"
   },
   {
    "duration": 103,
    "start_time": "2021-11-14T15:58:40.084Z"
   },
   {
    "duration": 100,
    "start_time": "2021-11-14T15:58:40.089Z"
   },
   {
    "duration": 99,
    "start_time": "2021-11-14T15:58:40.092Z"
   },
   {
    "duration": 86,
    "start_time": "2021-11-14T15:58:48.940Z"
   },
   {
    "duration": 45,
    "start_time": "2021-11-14T15:58:49.029Z"
   },
   {
    "duration": 14,
    "start_time": "2021-11-14T15:58:49.078Z"
   },
   {
    "duration": 88,
    "start_time": "2021-11-14T15:58:49.095Z"
   },
   {
    "duration": 5,
    "start_time": "2021-11-14T15:58:49.187Z"
   },
   {
    "duration": 18,
    "start_time": "2021-11-14T15:58:49.195Z"
   },
   {
    "duration": 7,
    "start_time": "2021-11-14T15:58:49.216Z"
   },
   {
    "duration": 10,
    "start_time": "2021-11-14T15:58:49.262Z"
   },
   {
    "duration": 14,
    "start_time": "2021-11-14T15:58:49.276Z"
   },
   {
    "duration": 21,
    "start_time": "2021-11-14T15:58:49.293Z"
   },
   {
    "duration": 52,
    "start_time": "2021-11-14T15:58:49.317Z"
   },
   {
    "duration": 13,
    "start_time": "2021-11-14T15:58:49.371Z"
   },
   {
    "duration": 6,
    "start_time": "2021-11-14T15:58:49.386Z"
   },
   {
    "duration": 14,
    "start_time": "2021-11-14T15:58:49.394Z"
   },
   {
    "duration": 79,
    "start_time": "2021-11-14T15:58:49.411Z"
   },
   {
    "duration": 11,
    "start_time": "2021-11-14T15:58:49.492Z"
   },
   {
    "duration": 62,
    "start_time": "2021-11-14T15:58:49.506Z"
   },
   {
    "duration": 14,
    "start_time": "2021-11-14T15:58:49.570Z"
   },
   {
    "duration": 6,
    "start_time": "2021-11-14T15:58:49.586Z"
   },
   {
    "duration": 22,
    "start_time": "2021-11-14T15:58:49.594Z"
   },
   {
    "duration": 10,
    "start_time": "2021-11-14T15:58:49.618Z"
   },
   {
    "duration": 17,
    "start_time": "2021-11-14T15:58:49.660Z"
   },
   {
    "duration": 32,
    "start_time": "2021-11-14T15:58:49.681Z"
   },
   {
    "duration": 47,
    "start_time": "2021-11-14T15:58:49.716Z"
   },
   {
    "duration": 24,
    "start_time": "2021-11-14T15:58:49.765Z"
   },
   {
    "duration": 9,
    "start_time": "2021-11-14T15:58:49.792Z"
   },
   {
    "duration": 6,
    "start_time": "2021-11-14T15:58:49.804Z"
   },
   {
    "duration": 48,
    "start_time": "2021-11-14T15:58:49.813Z"
   },
   {
    "duration": 6,
    "start_time": "2021-11-14T15:58:49.863Z"
   },
   {
    "duration": 9,
    "start_time": "2021-11-14T15:58:49.871Z"
   },
   {
    "duration": 8,
    "start_time": "2021-11-14T15:58:49.882Z"
   },
   {
    "duration": 6,
    "start_time": "2021-11-14T15:58:49.893Z"
   },
   {
    "duration": 9,
    "start_time": "2021-11-14T15:58:49.902Z"
   },
   {
    "duration": 964,
    "start_time": "2021-11-14T15:58:49.914Z"
   },
   {
    "duration": 858,
    "start_time": "2021-11-14T15:59:17.060Z"
   },
   {
    "duration": 15,
    "start_time": "2021-11-14T15:59:17.921Z"
   },
   {
    "duration": 25,
    "start_time": "2021-11-14T15:59:17.939Z"
   },
   {
    "duration": 47,
    "start_time": "2021-11-14T15:59:17.967Z"
   },
   {
    "duration": 5,
    "start_time": "2021-11-14T15:59:18.016Z"
   },
   {
    "duration": 37,
    "start_time": "2021-11-14T15:59:18.023Z"
   },
   {
    "duration": 6,
    "start_time": "2021-11-14T15:59:18.063Z"
   },
   {
    "duration": 24,
    "start_time": "2021-11-14T15:59:18.072Z"
   },
   {
    "duration": 28,
    "start_time": "2021-11-14T15:59:18.099Z"
   },
   {
    "duration": 32,
    "start_time": "2021-11-14T15:59:18.129Z"
   },
   {
    "duration": 21,
    "start_time": "2021-11-14T15:59:18.163Z"
   },
   {
    "duration": 26,
    "start_time": "2021-11-14T15:59:18.187Z"
   },
   {
    "duration": 5,
    "start_time": "2021-11-14T15:59:18.216Z"
   },
   {
    "duration": 16,
    "start_time": "2021-11-14T15:59:18.223Z"
   },
   {
    "duration": 53,
    "start_time": "2021-11-14T15:59:18.241Z"
   },
   {
    "duration": 10,
    "start_time": "2021-11-14T15:59:18.296Z"
   },
   {
    "duration": 62,
    "start_time": "2021-11-14T15:59:18.308Z"
   },
   {
    "duration": 15,
    "start_time": "2021-11-14T15:59:18.372Z"
   },
   {
    "duration": 11,
    "start_time": "2021-11-14T15:59:18.390Z"
   },
   {
    "duration": 34,
    "start_time": "2021-11-14T15:59:18.404Z"
   },
   {
    "duration": 24,
    "start_time": "2021-11-14T15:59:18.441Z"
   },
   {
    "duration": 31,
    "start_time": "2021-11-14T15:59:18.468Z"
   },
   {
    "duration": 33,
    "start_time": "2021-11-14T15:59:18.507Z"
   },
   {
    "duration": 33,
    "start_time": "2021-11-14T15:59:18.544Z"
   },
   {
    "duration": 22,
    "start_time": "2021-11-14T15:59:18.579Z"
   },
   {
    "duration": 22,
    "start_time": "2021-11-14T15:59:18.604Z"
   },
   {
    "duration": 31,
    "start_time": "2021-11-14T15:59:18.629Z"
   },
   {
    "duration": 9,
    "start_time": "2021-11-14T15:59:18.663Z"
   },
   {
    "duration": 10,
    "start_time": "2021-11-14T15:59:18.675Z"
   },
   {
    "duration": 10,
    "start_time": "2021-11-14T15:59:18.688Z"
   },
   {
    "duration": 22,
    "start_time": "2021-11-14T15:59:18.700Z"
   },
   {
    "duration": 10,
    "start_time": "2021-11-14T15:59:18.725Z"
   },
   {
    "duration": 30,
    "start_time": "2021-11-14T15:59:18.737Z"
   },
   {
    "duration": 974,
    "start_time": "2021-11-14T15:59:18.769Z"
   },
   {
    "duration": 14,
    "start_time": "2021-11-14T15:59:19.747Z"
   },
   {
    "duration": 4914,
    "start_time": "2021-11-14T15:59:19.764Z"
   },
   {
    "duration": 7,
    "start_time": "2021-11-14T15:59:24.681Z"
   },
   {
    "duration": 23,
    "start_time": "2021-11-14T15:59:24.690Z"
   },
   {
    "duration": 17,
    "start_time": "2021-11-14T15:59:24.715Z"
   },
   {
    "duration": 52,
    "start_time": "2021-11-14T15:59:24.735Z"
   },
   {
    "duration": 14,
    "start_time": "2021-11-14T15:59:24.790Z"
   },
   {
    "duration": 17,
    "start_time": "2021-11-14T15:59:24.807Z"
   },
   {
    "duration": 25,
    "start_time": "2021-11-14T15:59:24.859Z"
   },
   {
    "duration": 21,
    "start_time": "2021-11-14T15:59:24.886Z"
   },
   {
    "duration": 54,
    "start_time": "2021-11-14T15:59:24.909Z"
   },
   {
    "duration": 877,
    "start_time": "2021-11-14T15:59:24.965Z"
   },
   {
    "duration": 35,
    "start_time": "2021-11-14T15:59:25.844Z"
   },
   {
    "duration": 275,
    "start_time": "2021-11-14T15:59:25.882Z"
   },
   {
    "duration": 31,
    "start_time": "2021-11-14T15:59:26.159Z"
   },
   {
    "duration": 258,
    "start_time": "2021-11-14T15:59:26.192Z"
   },
   {
    "duration": 503,
    "start_time": "2021-11-14T15:59:26.459Z"
   },
   {
    "duration": 590,
    "start_time": "2021-11-14T15:59:26.375Z"
   },
   {
    "duration": 564,
    "start_time": "2021-11-14T15:59:26.402Z"
   },
   {
    "duration": 371,
    "start_time": "2021-11-14T16:00:04.273Z"
   },
   {
    "duration": 81,
    "start_time": "2021-11-14T16:00:43.099Z"
   },
   {
    "duration": 14,
    "start_time": "2021-11-14T16:00:43.183Z"
   },
   {
    "duration": 13,
    "start_time": "2021-11-14T16:00:43.200Z"
   },
   {
    "duration": 84,
    "start_time": "2021-11-14T16:00:43.216Z"
   },
   {
    "duration": 6,
    "start_time": "2021-11-14T16:00:43.303Z"
   },
   {
    "duration": 56,
    "start_time": "2021-11-14T16:00:43.312Z"
   },
   {
    "duration": 7,
    "start_time": "2021-11-14T16:00:43.371Z"
   },
   {
    "duration": 17,
    "start_time": "2021-11-14T16:00:43.384Z"
   },
   {
    "duration": 14,
    "start_time": "2021-11-14T16:00:43.404Z"
   },
   {
    "duration": 56,
    "start_time": "2021-11-14T16:00:43.420Z"
   },
   {
    "duration": 19,
    "start_time": "2021-11-14T16:00:43.478Z"
   },
   {
    "duration": 12,
    "start_time": "2021-11-14T16:00:43.500Z"
   },
   {
    "duration": 46,
    "start_time": "2021-11-14T16:00:43.514Z"
   },
   {
    "duration": 15,
    "start_time": "2021-11-14T16:00:43.563Z"
   },
   {
    "duration": 40,
    "start_time": "2021-11-14T16:00:43.580Z"
   },
   {
    "duration": 38,
    "start_time": "2021-11-14T16:00:43.623Z"
   },
   {
    "duration": 63,
    "start_time": "2021-11-14T16:00:43.664Z"
   },
   {
    "duration": 40,
    "start_time": "2021-11-14T16:00:43.730Z"
   },
   {
    "duration": 16,
    "start_time": "2021-11-14T16:00:43.772Z"
   },
   {
    "duration": 25,
    "start_time": "2021-11-14T16:00:43.791Z"
   },
   {
    "duration": 10,
    "start_time": "2021-11-14T16:00:43.819Z"
   },
   {
    "duration": 46,
    "start_time": "2021-11-14T16:00:43.831Z"
   },
   {
    "duration": 29,
    "start_time": "2021-11-14T16:00:43.883Z"
   },
   {
    "duration": 44,
    "start_time": "2021-11-14T16:00:43.915Z"
   },
   {
    "duration": 35,
    "start_time": "2021-11-14T16:00:43.962Z"
   },
   {
    "duration": 10,
    "start_time": "2021-11-14T16:00:44.001Z"
   },
   {
    "duration": 15,
    "start_time": "2021-11-14T16:00:44.014Z"
   },
   {
    "duration": 9,
    "start_time": "2021-11-14T16:00:44.060Z"
   },
   {
    "duration": 12,
    "start_time": "2021-11-14T16:00:44.072Z"
   },
   {
    "duration": 18,
    "start_time": "2021-11-14T16:00:44.087Z"
   },
   {
    "duration": 16,
    "start_time": "2021-11-14T16:00:44.108Z"
   },
   {
    "duration": 13,
    "start_time": "2021-11-14T16:00:44.127Z"
   },
   {
    "duration": 9,
    "start_time": "2021-11-14T16:00:44.159Z"
   },
   {
    "duration": 1019,
    "start_time": "2021-11-14T16:00:44.171Z"
   },
   {
    "duration": 5,
    "start_time": "2021-11-14T16:00:45.194Z"
   },
   {
    "duration": 5271,
    "start_time": "2021-11-14T16:00:45.203Z"
   },
   {
    "duration": 9,
    "start_time": "2021-11-14T16:00:50.478Z"
   },
   {
    "duration": 30,
    "start_time": "2021-11-14T16:00:50.490Z"
   },
   {
    "duration": 36,
    "start_time": "2021-11-14T16:00:50.523Z"
   },
   {
    "duration": 23,
    "start_time": "2021-11-14T16:00:50.562Z"
   },
   {
    "duration": 21,
    "start_time": "2021-11-14T16:00:50.588Z"
   },
   {
    "duration": 23,
    "start_time": "2021-11-14T16:00:50.612Z"
   },
   {
    "duration": 43,
    "start_time": "2021-11-14T16:00:50.638Z"
   },
   {
    "duration": 12,
    "start_time": "2021-11-14T16:00:50.684Z"
   },
   {
    "duration": 55,
    "start_time": "2021-11-14T16:00:50.699Z"
   },
   {
    "duration": 235,
    "start_time": "2021-11-14T16:00:50.760Z"
   },
   {
    "duration": 31,
    "start_time": "2021-11-14T16:00:50.999Z"
   },
   {
    "duration": 282,
    "start_time": "2021-11-14T16:00:51.033Z"
   },
   {
    "duration": 44,
    "start_time": "2021-11-14T16:00:51.317Z"
   },
   {
    "duration": 246,
    "start_time": "2021-11-14T16:00:51.364Z"
   },
   {
    "duration": 47,
    "start_time": "2021-11-14T16:00:51.612Z"
   },
   {
    "duration": 334,
    "start_time": "2021-11-14T16:00:51.661Z"
   },
   {
    "duration": 909,
    "start_time": "2021-11-14T18:07:39.643Z"
   },
   {
    "duration": 45,
    "start_time": "2021-11-14T18:07:47.583Z"
   },
   {
    "duration": 835,
    "start_time": "2021-11-19T11:14:58.207Z"
   },
   {
    "duration": 15,
    "start_time": "2021-11-19T11:14:59.044Z"
   },
   {
    "duration": 20,
    "start_time": "2021-11-19T11:14:59.063Z"
   },
   {
    "duration": 45,
    "start_time": "2021-11-19T11:14:59.085Z"
   },
   {
    "duration": 5,
    "start_time": "2021-11-19T11:14:59.132Z"
   },
   {
    "duration": 47,
    "start_time": "2021-11-19T11:14:59.139Z"
   },
   {
    "duration": 6,
    "start_time": "2021-11-19T11:14:59.188Z"
   },
   {
    "duration": 8,
    "start_time": "2021-11-19T11:14:59.198Z"
   },
   {
    "duration": 12,
    "start_time": "2021-11-19T11:14:59.210Z"
   },
   {
    "duration": 68,
    "start_time": "2021-11-19T11:14:59.225Z"
   },
   {
    "duration": 19,
    "start_time": "2021-11-19T11:14:59.295Z"
   },
   {
    "duration": 18,
    "start_time": "2021-11-19T11:14:59.317Z"
   },
   {
    "duration": 6,
    "start_time": "2021-11-19T11:14:59.337Z"
   },
   {
    "duration": 45,
    "start_time": "2021-11-19T11:14:59.345Z"
   },
   {
    "duration": 41,
    "start_time": "2021-11-19T11:14:59.393Z"
   },
   {
    "duration": 10,
    "start_time": "2021-11-19T11:14:59.436Z"
   },
   {
    "duration": 73,
    "start_time": "2021-11-19T11:14:59.448Z"
   },
   {
    "duration": 14,
    "start_time": "2021-11-19T11:14:59.523Z"
   },
   {
    "duration": 7,
    "start_time": "2021-11-19T11:14:59.540Z"
   },
   {
    "duration": 47,
    "start_time": "2021-11-19T11:14:59.549Z"
   },
   {
    "duration": 11,
    "start_time": "2021-11-19T11:14:59.598Z"
   },
   {
    "duration": 17,
    "start_time": "2021-11-19T11:14:59.611Z"
   },
   {
    "duration": 57,
    "start_time": "2021-11-19T11:14:59.632Z"
   },
   {
    "duration": 25,
    "start_time": "2021-11-19T11:14:59.692Z"
   },
   {
    "duration": 22,
    "start_time": "2021-11-19T11:14:59.719Z"
   },
   {
    "duration": 6,
    "start_time": "2021-11-19T11:14:59.743Z"
   },
   {
    "duration": 5,
    "start_time": "2021-11-19T11:14:59.783Z"
   },
   {
    "duration": 7,
    "start_time": "2021-11-19T11:14:59.791Z"
   },
   {
    "duration": 6,
    "start_time": "2021-11-19T11:14:59.800Z"
   },
   {
    "duration": 6,
    "start_time": "2021-11-19T11:14:59.808Z"
   },
   {
    "duration": 8,
    "start_time": "2021-11-19T11:14:59.816Z"
   },
   {
    "duration": 6,
    "start_time": "2021-11-19T11:14:59.827Z"
   },
   {
    "duration": 53,
    "start_time": "2021-11-19T11:14:59.835Z"
   },
   {
    "duration": 929,
    "start_time": "2021-11-19T11:14:59.891Z"
   },
   {
    "duration": 5,
    "start_time": "2021-11-19T11:15:00.823Z"
   },
   {
    "duration": 5067,
    "start_time": "2021-11-19T11:15:00.831Z"
   },
   {
    "duration": 7,
    "start_time": "2021-11-19T11:15:05.901Z"
   },
   {
    "duration": 23,
    "start_time": "2021-11-19T11:15:05.910Z"
   },
   {
    "duration": 15,
    "start_time": "2021-11-19T11:15:05.936Z"
   },
   {
    "duration": 42,
    "start_time": "2021-11-19T11:15:05.954Z"
   },
   {
    "duration": 28,
    "start_time": "2021-11-19T11:15:05.999Z"
   },
   {
    "duration": 25,
    "start_time": "2021-11-19T11:15:06.029Z"
   },
   {
    "duration": 26,
    "start_time": "2021-11-19T11:15:06.056Z"
   },
   {
    "duration": 18,
    "start_time": "2021-11-19T11:15:06.084Z"
   },
   {
    "duration": 53,
    "start_time": "2021-11-19T11:15:06.106Z"
   },
   {
    "duration": 960,
    "start_time": "2021-11-19T11:15:06.162Z"
   },
   {
    "duration": 93,
    "start_time": "2021-11-19T11:15:07.125Z"
   },
   {
    "duration": 511,
    "start_time": "2021-11-19T11:15:07.221Z"
   },
   {
    "duration": 31,
    "start_time": "2021-11-19T11:15:07.734Z"
   },
   {
    "duration": 552,
    "start_time": "2021-11-19T11:15:07.768Z"
   },
   {
    "duration": 29,
    "start_time": "2021-11-19T11:15:08.322Z"
   },
   {
    "duration": 259,
    "start_time": "2021-11-19T11:15:08.354Z"
   },
   {
    "duration": 656,
    "start_time": "2022-05-05T09:42:10.649Z"
   },
   {
    "duration": 26,
    "start_time": "2022-05-05T09:42:11.308Z"
   },
   {
    "duration": 13,
    "start_time": "2022-05-05T09:42:11.337Z"
   },
   {
    "duration": 73,
    "start_time": "2022-05-05T09:42:11.353Z"
   },
   {
    "duration": 5,
    "start_time": "2022-05-05T09:42:11.429Z"
   },
   {
    "duration": 16,
    "start_time": "2022-05-05T09:42:11.436Z"
   },
   {
    "duration": 6,
    "start_time": "2022-05-05T09:42:11.454Z"
   },
   {
    "duration": 54,
    "start_time": "2022-05-05T09:42:11.462Z"
   },
   {
    "duration": 23,
    "start_time": "2022-05-05T09:42:11.518Z"
   },
   {
    "duration": 19,
    "start_time": "2022-05-05T09:42:11.549Z"
   },
   {
    "duration": 26,
    "start_time": "2022-05-05T09:42:11.570Z"
   },
   {
    "duration": 18,
    "start_time": "2022-05-05T09:42:11.604Z"
   },
   {
    "duration": 11,
    "start_time": "2022-05-05T09:42:11.626Z"
   },
   {
    "duration": 14,
    "start_time": "2022-05-05T09:42:11.639Z"
   },
   {
    "duration": 59,
    "start_time": "2022-05-05T09:42:11.656Z"
   },
   {
    "duration": 14,
    "start_time": "2022-05-05T09:42:11.721Z"
   },
   {
    "duration": 41,
    "start_time": "2022-05-05T09:42:11.737Z"
   },
   {
    "duration": 42,
    "start_time": "2022-05-05T09:42:11.781Z"
   },
   {
    "duration": 10,
    "start_time": "2022-05-05T09:42:11.825Z"
   },
   {
    "duration": 24,
    "start_time": "2022-05-05T09:42:11.837Z"
   },
   {
    "duration": 42,
    "start_time": "2022-05-05T09:42:11.863Z"
   },
   {
    "duration": 37,
    "start_time": "2022-05-05T09:42:11.907Z"
   },
   {
    "duration": 52,
    "start_time": "2022-05-05T09:42:11.948Z"
   },
   {
    "duration": 43,
    "start_time": "2022-05-05T09:42:12.003Z"
   },
   {
    "duration": 47,
    "start_time": "2022-05-05T09:42:12.049Z"
   },
   {
    "duration": 13,
    "start_time": "2022-05-05T09:42:12.099Z"
   },
   {
    "duration": 26,
    "start_time": "2022-05-05T09:42:12.114Z"
   },
   {
    "duration": 7,
    "start_time": "2022-05-05T09:42:12.145Z"
   },
   {
    "duration": 7,
    "start_time": "2022-05-05T09:42:12.154Z"
   },
   {
    "duration": 12,
    "start_time": "2022-05-05T09:42:12.164Z"
   },
   {
    "duration": 9,
    "start_time": "2022-05-05T09:42:12.192Z"
   },
   {
    "duration": 24,
    "start_time": "2022-05-05T09:42:12.208Z"
   },
   {
    "duration": 14,
    "start_time": "2022-05-05T09:42:12.234Z"
   },
   {
    "duration": 1015,
    "start_time": "2022-05-05T09:42:12.250Z"
   },
   {
    "duration": 5,
    "start_time": "2022-05-05T09:42:13.267Z"
   },
   {
    "duration": 5694,
    "start_time": "2022-05-05T09:42:13.274Z"
   },
   {
    "duration": 8,
    "start_time": "2022-05-05T09:42:18.971Z"
   },
   {
    "duration": 48,
    "start_time": "2022-05-05T09:42:18.982Z"
   },
   {
    "duration": 20,
    "start_time": "2022-05-05T09:42:19.033Z"
   },
   {
    "duration": 41,
    "start_time": "2022-05-05T09:42:19.056Z"
   },
   {
    "duration": 14,
    "start_time": "2022-05-05T09:42:19.105Z"
   },
   {
    "duration": 24,
    "start_time": "2022-05-05T09:42:19.124Z"
   },
   {
    "duration": 25,
    "start_time": "2022-05-05T09:42:19.151Z"
   },
   {
    "duration": 28,
    "start_time": "2022-05-05T09:42:19.178Z"
   },
   {
    "duration": 51,
    "start_time": "2022-05-05T09:42:19.210Z"
   },
   {
    "duration": 1653,
    "start_time": "2022-05-05T09:42:19.263Z"
   },
   {
    "duration": 31,
    "start_time": "2022-05-05T09:42:20.919Z"
   },
   {
    "duration": 224,
    "start_time": "2022-05-05T09:42:20.952Z"
   },
   {
    "duration": 45,
    "start_time": "2022-05-05T09:42:21.178Z"
   },
   {
    "duration": 195,
    "start_time": "2022-05-05T09:42:21.228Z"
   },
   {
    "duration": 31,
    "start_time": "2022-05-05T09:42:21.426Z"
   },
   {
    "duration": 207,
    "start_time": "2022-05-05T09:42:21.459Z"
   }
  ],
  "kernelspec": {
   "display_name": "Python 3 (ipykernel)",
   "language": "python",
   "name": "python3"
  },
  "language_info": {
   "codemirror_mode": {
    "name": "ipython",
    "version": 3
   },
   "file_extension": ".py",
   "mimetype": "text/x-python",
   "name": "python",
   "nbconvert_exporter": "python",
   "pygments_lexer": "ipython3",
   "version": "3.9.7"
  },
  "toc": {
   "base_numbering": 1,
   "nav_menu": {},
   "number_sections": true,
   "sideBar": true,
   "skip_h1_title": true,
   "title_cell": "Содержание",
   "title_sidebar": "Contents",
   "toc_cell": true,
   "toc_position": {
    "height": "calc(100% - 180px)",
    "left": "10px",
    "top": "150px",
    "width": "384px"
   },
   "toc_section_display": true,
   "toc_window_display": false
  }
 },
 "nbformat": 4,
 "nbformat_minor": 2
}
