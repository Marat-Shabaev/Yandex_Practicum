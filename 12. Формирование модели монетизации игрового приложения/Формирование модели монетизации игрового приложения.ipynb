{
 "cells": [
  {
   "cell_type": "markdown",
   "metadata": {},
   "source": [
    "# Материалы\n",
    "\n",
    "* [Дашборд](https://public.tableau.com/app/profile/marsh6594/viz/game_16509785875430/Dashboard1?publish=yes)\n",
    "* [Презентация](https://drive.google.com/file/d/17DLZ9kioYZV3KMTlZ2CnuJup_jq8vAqK/view?usp=sharing)"
   ]
  },
  {
   "cell_type": "markdown",
   "metadata": {
    "toc": true
   },
   "source": [
    "<h1>Содержание<span class=\"tocSkip\"></span></h1>\n",
    "<div class=\"toc\"><ul class=\"toc-item\"><li><span><a href=\"#Загрузим-данные\" data-toc-modified-id=\"Загрузим-данные-1\"><span class=\"toc-item-num\">1&nbsp;&nbsp;</span>Загрузим данные</a></span></li><li><span><a href=\"#Исследовательский-анализ-данных\" data-toc-modified-id=\"Исследовательский-анализ-данных-2\"><span class=\"toc-item-num\">2&nbsp;&nbsp;</span>Исследовательский анализ данных</a></span></li><li><span><a href=\"#Сформируем-модель-монетизации\" data-toc-modified-id=\"Сформируем-модель-монетизации-3\"><span class=\"toc-item-num\">3&nbsp;&nbsp;</span>Сформируем модель монетизации</a></span></li><li><span><a href=\"#Проанализируем-влияние-событий-на-совершение-целевого-события\" data-toc-modified-id=\"Проанализируем-влияние-событий-на-совершение-целевого-события-4\"><span class=\"toc-item-num\">4&nbsp;&nbsp;</span>Проанализируем влияние событий на совершение целевого события</a></span></li><li><span><a href=\"#Проверим-статистические-гипотезы\" data-toc-modified-id=\"Проверим-статистические-гипотезы-5\"><span class=\"toc-item-num\">5&nbsp;&nbsp;</span>Проверим статистические гипотезы</a></span><ul class=\"toc-item\"><li><span><a href=\"#Подготовим-данные\" data-toc-modified-id=\"Подготовим-данные-5.1\"><span class=\"toc-item-num\">5.1&nbsp;&nbsp;</span>Подготовим данные</a></span></li><li><span><a href=\"#Проверим-гипотезу:-'Среднее-время-прохождения-уровня-между-PVE-и-PVP-пользователями-не-различается&quot;\" data-toc-modified-id=\"Проверим-гипотезу:-'Среднее-время-прохождения-уровня-между-PVE-и-PVP-пользователями-не-различается&quot;-5.2\"><span class=\"toc-item-num\">5.2&nbsp;&nbsp;</span>Проверим гипотезу: 'Среднее время прохождения уровня между PVE и PVP пользователями не различается\"</a></span></li><li><span><a href=\"#Проверим-гипотезу:-'Среднее-количество-построенных-зданий-пользователями,-привлеченных-из-каналов-yandex_direct-и-youtube_channel_reklama,-не-различается&quot;\" data-toc-modified-id=\"Проверим-гипотезу:-'Среднее-количество-построенных-зданий-пользователями,-привлеченных-из-каналов-yandex_direct-и-youtube_channel_reklama,-не-различается&quot;-5.3\"><span class=\"toc-item-num\">5.3&nbsp;&nbsp;</span>Проверим гипотезу: 'Среднее количество построенных зданий пользователями, привлеченных из каналов yandex_direct и youtube_channel_reklama, не различается\"</a></span></li></ul></li><li><span><a href=\"#Вывод\" data-toc-modified-id=\"Вывод-6\"><span class=\"toc-item-num\">6&nbsp;&nbsp;</span>Вывод</a></span></li></ul></div>"
   ]
  },
  {
   "cell_type": "markdown",
   "metadata": {},
   "source": [
    "# Игры — Формирование модели монетизации"
   ]
  },
  {
   "cell_type": "markdown",
   "metadata": {},
   "source": [
    "Задача: Сформировать модель монетизации игрового приложения. \n",
    "1. Провести исследовательский анализ данных\n",
    "\n",
    "2. Проанализивать влияние событий на совершение целевого события\n",
    "\n",
    "3. Проверить статистические гипотезы\n",
    "\n",
    "*Проверьте гипотезу различия времени прохождения уровня между пользователями, которые заканчивают уровень через реализацию проекта, и пользователями, которые заканчивают уровень победой над другим игроком.*\n",
    "\n",
    "*Сформулируйте и проверьте статистическую гипотезу относительно представленных данных*\n",
    "\n",
    "Основная монетизация игры — только планируется. Но предполагается, что в приложении будет происходить показ рекламы на экране с выбором типа объекта для постройки. В датасете представлены данные по игре пользователей на первом уровне. Завершение первого уровня требует от игрока выполнения одного из двух условий:\n",
    "\n",
    "- Победа над первым врагом\n",
    "- Реализация проекта - разработка орбитальной сборки спутников\n",
    "\n",
    "В датасете содержатся данные первых пользователей приложения — когорты пользователей, которые начали пользоваться приложением в период с 4 по 10 мая включительно\n",
    "\n",
    "**Описание данных:**\n",
    "\n",
    "Датасет *game_actions.csv*:\n",
    "\n",
    "- `event_datetime` — время события;\n",
    "- `event` — одно из трёх событий:\n",
    "    1. `building` — объект построен,\n",
    "    2. `finished_stage_1` — первый уровень завершён,\n",
    "    3. `project` — проект завершён;\n",
    "- `building_type` — один из трёх типов здания:\n",
    "    1. `assembly_shop` — сборочный цех,\n",
    "    2. `spaceport` — космопорт,\n",
    "    3. `research_center` — исследовательский центр;\n",
    "- `user_id` — идентификатор пользователя;\n",
    "- `project_type` — тип реализованного проекта;\n",
    "\n",
    "Помимо основного датасета есть два датасета с информацией о рекламных активностях.\n",
    "\n",
    "Датасет *ad_cost.csv*:\n",
    "\n",
    "- `day` - день, в который был совершен клик по объявлению\n",
    "- `source` - источник трафика\n",
    "- `cost` - стоимость кликов\n",
    "\n",
    "Датасет *user_source.csv*:\n",
    "\n",
    "- `user_id` - идентификатор пользователя\n",
    "- `source` - источников, с которого пришёл пользователь, установивший приложение\n"
   ]
  },
  {
   "cell_type": "markdown",
   "metadata": {},
   "source": [
    "## Загрузим данные"
   ]
  },
  {
   "cell_type": "code",
   "execution_count": 1,
   "metadata": {},
   "outputs": [],
   "source": [
    "import pandas as pd\n",
    "import numpy as np\n",
    "import seaborn as sns\n",
    "import matplotlib.pyplot as plt\n",
    "from scipy import stats as st\n",
    "from datetime import datetime, timedelta\n",
    "import warnings\n",
    "warnings.filterwarnings('ignore')"
   ]
  },
  {
   "cell_type": "code",
   "execution_count": 2,
   "metadata": {},
   "outputs": [],
   "source": [
    "pd.set_option('display.float_format', '{:,.2f}'.format)\n",
    "try:\n",
    "    game_actions = pd.read_csv(r'C:/Users/Home/datasets/game_actions.csv')\n",
    "    ad_costs = pd.read_csv(r'C:/Users/Home/datasets/ad_costs.csv')\n",
    "    user_source = pd.read_csv(r'C:/Users/Home/datasets/user_source.csv')\n",
    "except:\n",
    "    game_actions = pd.read_csv('/datasets/game_actions.csv')\n",
    "    ad_costs = pd.read_csv('/datasets/ad_costs.csv')\n",
    "    user_source = pd.read_csv('/datasets/user_source.csv')"
   ]
  },
  {
   "cell_type": "code",
   "execution_count": 3,
   "metadata": {
    "scrolled": true
   },
   "outputs": [
    {
     "data": {
      "text/html": [
       "<div>\n",
       "<style scoped>\n",
       "    .dataframe tbody tr th:only-of-type {\n",
       "        vertical-align: middle;\n",
       "    }\n",
       "\n",
       "    .dataframe tbody tr th {\n",
       "        vertical-align: top;\n",
       "    }\n",
       "\n",
       "    .dataframe thead th {\n",
       "        text-align: right;\n",
       "    }\n",
       "</style>\n",
       "<table border=\"1\" class=\"dataframe\">\n",
       "  <thead>\n",
       "    <tr style=\"text-align: right;\">\n",
       "      <th></th>\n",
       "      <th>Unnamed: 0</th>\n",
       "      <th>event_datetime</th>\n",
       "      <th>event</th>\n",
       "      <th>building_type</th>\n",
       "      <th>user_id</th>\n",
       "      <th>project_type</th>\n",
       "      <th>completion_mark</th>\n",
       "    </tr>\n",
       "  </thead>\n",
       "  <tbody>\n",
       "    <tr>\n",
       "      <th>0</th>\n",
       "      <td>0</td>\n",
       "      <td>2020-05-04 00:00:01</td>\n",
       "      <td>building</td>\n",
       "      <td>assembly_shop</td>\n",
       "      <td>55e92310-cb8e-4754-b622-597e124b03de</td>\n",
       "      <td>NaN</td>\n",
       "      <td>outflow</td>\n",
       "    </tr>\n",
       "    <tr>\n",
       "      <th>1</th>\n",
       "      <td>1</td>\n",
       "      <td>2020-05-04 00:00:03</td>\n",
       "      <td>building</td>\n",
       "      <td>assembly_shop</td>\n",
       "      <td>c07b1c10-f477-44dc-81dc-ec82254b1347</td>\n",
       "      <td>NaN</td>\n",
       "      <td>level_complete</td>\n",
       "    </tr>\n",
       "    <tr>\n",
       "      <th>2</th>\n",
       "      <td>2</td>\n",
       "      <td>2020-05-04 00:00:16</td>\n",
       "      <td>building</td>\n",
       "      <td>assembly_shop</td>\n",
       "      <td>6edd42cc-e753-4ff6-a947-2107cd560710</td>\n",
       "      <td>NaN</td>\n",
       "      <td>level_complete</td>\n",
       "    </tr>\n",
       "    <tr>\n",
       "      <th>3</th>\n",
       "      <td>3</td>\n",
       "      <td>2020-05-04 00:00:16</td>\n",
       "      <td>building</td>\n",
       "      <td>assembly_shop</td>\n",
       "      <td>92c69003-d60a-444a-827f-8cc51bf6bf4c</td>\n",
       "      <td>NaN</td>\n",
       "      <td>outflow</td>\n",
       "    </tr>\n",
       "    <tr>\n",
       "      <th>4</th>\n",
       "      <td>4</td>\n",
       "      <td>2020-05-04 00:00:35</td>\n",
       "      <td>building</td>\n",
       "      <td>assembly_shop</td>\n",
       "      <td>cdc6bb92-0ccb-4490-9866-ef142f09139d</td>\n",
       "      <td>NaN</td>\n",
       "      <td>level_complete</td>\n",
       "    </tr>\n",
       "  </tbody>\n",
       "</table>\n",
       "</div>"
      ],
      "text/plain": [
       "   Unnamed: 0       event_datetime     event  building_type  \\\n",
       "0           0  2020-05-04 00:00:01  building  assembly_shop   \n",
       "1           1  2020-05-04 00:00:03  building  assembly_shop   \n",
       "2           2  2020-05-04 00:00:16  building  assembly_shop   \n",
       "3           3  2020-05-04 00:00:16  building  assembly_shop   \n",
       "4           4  2020-05-04 00:00:35  building  assembly_shop   \n",
       "\n",
       "                                user_id project_type completion_mark  \n",
       "0  55e92310-cb8e-4754-b622-597e124b03de          NaN         outflow  \n",
       "1  c07b1c10-f477-44dc-81dc-ec82254b1347          NaN  level_complete  \n",
       "2  6edd42cc-e753-4ff6-a947-2107cd560710          NaN  level_complete  \n",
       "3  92c69003-d60a-444a-827f-8cc51bf6bf4c          NaN         outflow  \n",
       "4  cdc6bb92-0ccb-4490-9866-ef142f09139d          NaN  level_complete  "
      ]
     },
     "metadata": {},
     "output_type": "display_data"
    },
    {
     "name": "stdout",
     "output_type": "stream",
     "text": [
      "<class 'pandas.core.frame.DataFrame'>\n",
      "RangeIndex: 135640 entries, 0 to 135639\n",
      "Data columns (total 7 columns):\n",
      " #   Column           Non-Null Count   Dtype \n",
      "---  ------           --------------   ----- \n",
      " 0   Unnamed: 0       135640 non-null  int64 \n",
      " 1   event_datetime   135640 non-null  object\n",
      " 2   event            135640 non-null  object\n",
      " 3   building_type    127957 non-null  object\n",
      " 4   user_id          135640 non-null  object\n",
      " 5   project_type     1866 non-null    object\n",
      " 6   completion_mark  135640 non-null  object\n",
      "dtypes: int64(1), object(6)\n",
      "memory usage: 7.2+ MB\n"
     ]
    },
    {
     "data": {
      "text/plain": [
       "Unnamed: 0              0\n",
       "event_datetime          0\n",
       "event                   0\n",
       "building_type        7683\n",
       "user_id                 0\n",
       "project_type       133774\n",
       "completion_mark         0\n",
       "dtype: int64"
      ]
     },
     "metadata": {},
     "output_type": "display_data"
    },
    {
     "name": "stdout",
     "output_type": "stream",
     "text": [
      "**************************************************\n"
     ]
    },
    {
     "data": {
      "text/html": [
       "<div>\n",
       "<style scoped>\n",
       "    .dataframe tbody tr th:only-of-type {\n",
       "        vertical-align: middle;\n",
       "    }\n",
       "\n",
       "    .dataframe tbody tr th {\n",
       "        vertical-align: top;\n",
       "    }\n",
       "\n",
       "    .dataframe thead th {\n",
       "        text-align: right;\n",
       "    }\n",
       "</style>\n",
       "<table border=\"1\" class=\"dataframe\">\n",
       "  <thead>\n",
       "    <tr style=\"text-align: right;\">\n",
       "      <th></th>\n",
       "      <th>source</th>\n",
       "      <th>day</th>\n",
       "      <th>cost</th>\n",
       "    </tr>\n",
       "  </thead>\n",
       "  <tbody>\n",
       "    <tr>\n",
       "      <th>0</th>\n",
       "      <td>facebook_ads</td>\n",
       "      <td>2020-05-03</td>\n",
       "      <td>935.88</td>\n",
       "    </tr>\n",
       "    <tr>\n",
       "      <th>1</th>\n",
       "      <td>facebook_ads</td>\n",
       "      <td>2020-05-04</td>\n",
       "      <td>548.35</td>\n",
       "    </tr>\n",
       "    <tr>\n",
       "      <th>2</th>\n",
       "      <td>facebook_ads</td>\n",
       "      <td>2020-05-05</td>\n",
       "      <td>260.19</td>\n",
       "    </tr>\n",
       "    <tr>\n",
       "      <th>3</th>\n",
       "      <td>facebook_ads</td>\n",
       "      <td>2020-05-06</td>\n",
       "      <td>177.98</td>\n",
       "    </tr>\n",
       "    <tr>\n",
       "      <th>4</th>\n",
       "      <td>facebook_ads</td>\n",
       "      <td>2020-05-07</td>\n",
       "      <td>111.77</td>\n",
       "    </tr>\n",
       "  </tbody>\n",
       "</table>\n",
       "</div>"
      ],
      "text/plain": [
       "         source         day   cost\n",
       "0  facebook_ads  2020-05-03 935.88\n",
       "1  facebook_ads  2020-05-04 548.35\n",
       "2  facebook_ads  2020-05-05 260.19\n",
       "3  facebook_ads  2020-05-06 177.98\n",
       "4  facebook_ads  2020-05-07 111.77"
      ]
     },
     "metadata": {},
     "output_type": "display_data"
    },
    {
     "name": "stdout",
     "output_type": "stream",
     "text": [
      "<class 'pandas.core.frame.DataFrame'>\n",
      "RangeIndex: 28 entries, 0 to 27\n",
      "Data columns (total 3 columns):\n",
      " #   Column  Non-Null Count  Dtype  \n",
      "---  ------  --------------  -----  \n",
      " 0   source  28 non-null     object \n",
      " 1   day     28 non-null     object \n",
      " 2   cost    28 non-null     float64\n",
      "dtypes: float64(1), object(2)\n",
      "memory usage: 800.0+ bytes\n"
     ]
    },
    {
     "data": {
      "text/plain": [
       "source    0\n",
       "day       0\n",
       "cost      0\n",
       "dtype: int64"
      ]
     },
     "metadata": {},
     "output_type": "display_data"
    },
    {
     "name": "stdout",
     "output_type": "stream",
     "text": [
      "**************************************************\n"
     ]
    },
    {
     "data": {
      "text/html": [
       "<div>\n",
       "<style scoped>\n",
       "    .dataframe tbody tr th:only-of-type {\n",
       "        vertical-align: middle;\n",
       "    }\n",
       "\n",
       "    .dataframe tbody tr th {\n",
       "        vertical-align: top;\n",
       "    }\n",
       "\n",
       "    .dataframe thead th {\n",
       "        text-align: right;\n",
       "    }\n",
       "</style>\n",
       "<table border=\"1\" class=\"dataframe\">\n",
       "  <thead>\n",
       "    <tr style=\"text-align: right;\">\n",
       "      <th></th>\n",
       "      <th>user_id</th>\n",
       "      <th>source</th>\n",
       "    </tr>\n",
       "  </thead>\n",
       "  <tbody>\n",
       "    <tr>\n",
       "      <th>0</th>\n",
       "      <td>0001f83c-c6ac-4621-b7f0-8a28b283ac30</td>\n",
       "      <td>facebook_ads</td>\n",
       "    </tr>\n",
       "    <tr>\n",
       "      <th>1</th>\n",
       "      <td>00151b4f-ba38-44a8-a650-d7cf130a0105</td>\n",
       "      <td>yandex_direct</td>\n",
       "    </tr>\n",
       "    <tr>\n",
       "      <th>2</th>\n",
       "      <td>001aaea6-3d14-43f1-8ca8-7f48820f17aa</td>\n",
       "      <td>youtube_channel_reklama</td>\n",
       "    </tr>\n",
       "    <tr>\n",
       "      <th>3</th>\n",
       "      <td>001d39dc-366c-4021-9604-6a3b9ff01e25</td>\n",
       "      <td>instagram_new_adverts</td>\n",
       "    </tr>\n",
       "    <tr>\n",
       "      <th>4</th>\n",
       "      <td>002f508f-67b6-479f-814b-b05f00d4e995</td>\n",
       "      <td>facebook_ads</td>\n",
       "    </tr>\n",
       "  </tbody>\n",
       "</table>\n",
       "</div>"
      ],
      "text/plain": [
       "                                user_id                   source\n",
       "0  0001f83c-c6ac-4621-b7f0-8a28b283ac30             facebook_ads\n",
       "1  00151b4f-ba38-44a8-a650-d7cf130a0105            yandex_direct\n",
       "2  001aaea6-3d14-43f1-8ca8-7f48820f17aa  youtube_channel_reklama\n",
       "3  001d39dc-366c-4021-9604-6a3b9ff01e25    instagram_new_adverts\n",
       "4  002f508f-67b6-479f-814b-b05f00d4e995             facebook_ads"
      ]
     },
     "metadata": {},
     "output_type": "display_data"
    },
    {
     "name": "stdout",
     "output_type": "stream",
     "text": [
      "<class 'pandas.core.frame.DataFrame'>\n",
      "RangeIndex: 13576 entries, 0 to 13575\n",
      "Data columns (total 2 columns):\n",
      " #   Column   Non-Null Count  Dtype \n",
      "---  ------   --------------  ----- \n",
      " 0   user_id  13576 non-null  object\n",
      " 1   source   13576 non-null  object\n",
      "dtypes: object(2)\n",
      "memory usage: 212.2+ KB\n"
     ]
    },
    {
     "data": {
      "text/plain": [
       "user_id    0\n",
       "source     0\n",
       "dtype: int64"
      ]
     },
     "metadata": {},
     "output_type": "display_data"
    },
    {
     "name": "stdout",
     "output_type": "stream",
     "text": [
      "**************************************************\n"
     ]
    }
   ],
   "source": [
    "df_list = game_actions, ad_costs, user_source\n",
    "for df in df_list:\n",
    "    df.duplicated().sum()\n",
    "    display(df.head())\n",
    "    df.info()\n",
    "    display(df.isna().sum())\n",
    "    print(50* '*')#Посмотрим на данные"
   ]
  },
  {
   "cell_type": "code",
   "execution_count": 4,
   "metadata": {},
   "outputs": [
    {
     "data": {
      "text/html": [
       "<div>\n",
       "<style scoped>\n",
       "    .dataframe tbody tr th:only-of-type {\n",
       "        vertical-align: middle;\n",
       "    }\n",
       "\n",
       "    .dataframe tbody tr th {\n",
       "        vertical-align: top;\n",
       "    }\n",
       "\n",
       "    .dataframe thead th {\n",
       "        text-align: right;\n",
       "    }\n",
       "</style>\n",
       "<table border=\"1\" class=\"dataframe\">\n",
       "  <thead>\n",
       "    <tr style=\"text-align: right;\">\n",
       "      <th></th>\n",
       "      <th>Unnamed: 0</th>\n",
       "    </tr>\n",
       "  </thead>\n",
       "  <tbody>\n",
       "    <tr>\n",
       "      <th>count</th>\n",
       "      <td>135,640.00</td>\n",
       "    </tr>\n",
       "    <tr>\n",
       "      <th>mean</th>\n",
       "      <td>67,819.50</td>\n",
       "    </tr>\n",
       "    <tr>\n",
       "      <th>std</th>\n",
       "      <td>39,156.04</td>\n",
       "    </tr>\n",
       "    <tr>\n",
       "      <th>min</th>\n",
       "      <td>0.00</td>\n",
       "    </tr>\n",
       "    <tr>\n",
       "      <th>25%</th>\n",
       "      <td>33,909.75</td>\n",
       "    </tr>\n",
       "    <tr>\n",
       "      <th>50%</th>\n",
       "      <td>67,819.50</td>\n",
       "    </tr>\n",
       "    <tr>\n",
       "      <th>75%</th>\n",
       "      <td>101,729.25</td>\n",
       "    </tr>\n",
       "    <tr>\n",
       "      <th>max</th>\n",
       "      <td>135,639.00</td>\n",
       "    </tr>\n",
       "  </tbody>\n",
       "</table>\n",
       "</div>"
      ],
      "text/plain": [
       "       Unnamed: 0\n",
       "count  135,640.00\n",
       "mean    67,819.50\n",
       "std     39,156.04\n",
       "min          0.00\n",
       "25%     33,909.75\n",
       "50%     67,819.50\n",
       "75%    101,729.25\n",
       "max    135,639.00"
      ]
     },
     "execution_count": 4,
     "metadata": {},
     "output_type": "execute_result"
    }
   ],
   "source": [
    "game_actions.describe()"
   ]
  },
  {
   "cell_type": "code",
   "execution_count": 5,
   "metadata": {},
   "outputs": [
    {
     "data": {
      "text/plain": [
       "(0, 0, 0)"
      ]
     },
     "execution_count": 5,
     "metadata": {},
     "output_type": "execute_result"
    }
   ],
   "source": [
    "game_actions.duplicated().sum(), ad_costs.duplicated().sum(), user_source.duplicated().sum()#посчитаем дубликаты"
   ]
  },
  {
   "cell_type": "code",
   "execution_count": 6,
   "metadata": {},
   "outputs": [],
   "source": [
    "game_actions = game_actions.drop_duplicates()#удалим дубликаты"
   ]
  },
  {
   "cell_type": "markdown",
   "metadata": {},
   "source": [
    "Обнаружено 7683 пропуска в колонке building_type и 133774 пропуска в колонке project_type. Обработаем эти пропуски."
   ]
  },
  {
   "cell_type": "code",
   "execution_count": 7,
   "metadata": {},
   "outputs": [
    {
     "data": {
      "text/plain": [
       "array([nan, 'satellite_orbital_assembly'], dtype=object)"
      ]
     },
     "execution_count": 7,
     "metadata": {},
     "output_type": "execute_result"
    }
   ],
   "source": [
    "game_actions['project_type'].unique()"
   ]
  },
  {
   "cell_type": "code",
   "execution_count": 8,
   "metadata": {},
   "outputs": [
    {
     "data": {
      "text/plain": [
       "array(['building', 'finished_stage_1', 'project'], dtype=object)"
      ]
     },
     "execution_count": 8,
     "metadata": {},
     "output_type": "execute_result"
    }
   ],
   "source": [
    "game_actions['event'].unique()"
   ]
  },
  {
   "cell_type": "code",
   "execution_count": 9,
   "metadata": {
    "scrolled": false
   },
   "outputs": [
    {
     "data": {
      "text/plain": [
       "7683"
      ]
     },
     "execution_count": 9,
     "metadata": {},
     "output_type": "execute_result"
    }
   ],
   "source": [
    "(len(game_actions.loc[:, ['building_type', 'event']].query('event == \"finished_stage_1\"')) \n",
    "+ len(game_actions.loc[:, ['building_type', 'event']].query('event == \"project\"')))"
   ]
  },
  {
   "cell_type": "markdown",
   "metadata": {},
   "source": [
    "События finished_stage_1 и project не являются зданиями, т.е. не отображаются в building_type, количество пропусков в building_type соответвует сумме событий finished_stage_1 и project. Пропуски не требуют заполнения."
   ]
  },
  {
   "cell_type": "code",
   "execution_count": 10,
   "metadata": {},
   "outputs": [],
   "source": [
    "game_actions['date'] = pd.to_datetime(game_actions['event_datetime']).dt.date\n",
    "ad_costs['day'] = pd.to_datetime(ad_costs['day'])"
   ]
  },
  {
   "cell_type": "markdown",
   "metadata": {},
   "source": [
    "`В основном датасете game_actions 5 колонок, 133774 строк. Обнаружен и удален один дубликат. Пропуски в датасете объясняются разным типом событий в колонках и не требуют заполнения. В датасетах ad_costs и user_source пропуски и дубликаты отсутствуют. В user_id количество уникальных пользователей соответствует количеству уникальных пользователей в game_actions.`"
   ]
  },
  {
   "cell_type": "markdown",
   "metadata": {},
   "source": [
    "##  Исследовательский анализ данных"
   ]
  },
  {
   "cell_type": "code",
   "execution_count": 11,
   "metadata": {},
   "outputs": [
    {
     "data": {
      "text/plain": [
       "'2020-05-04 00:00:01'"
      ]
     },
     "execution_count": 11,
     "metadata": {},
     "output_type": "execute_result"
    }
   ],
   "source": [
    "game_actions['event_datetime'].min()#первое событие"
   ]
  },
  {
   "cell_type": "code",
   "execution_count": 12,
   "metadata": {},
   "outputs": [
    {
     "data": {
      "text/plain": [
       "'2020-06-05 12:32:49'"
      ]
     },
     "execution_count": 12,
     "metadata": {},
     "output_type": "execute_result"
    }
   ],
   "source": [
    "game_actions['event_datetime'].max()#последнее событие"
   ]
  },
  {
   "cell_type": "code",
   "execution_count": 13,
   "metadata": {},
   "outputs": [
    {
     "data": {
      "text/plain": [
       "13576"
      ]
     },
     "execution_count": 13,
     "metadata": {},
     "output_type": "execute_result"
    }
   ],
   "source": [
    "df['user_id'].nunique()#количесвто уникальных юзеров"
   ]
  },
  {
   "cell_type": "code",
   "execution_count": 14,
   "metadata": {},
   "outputs": [
    {
     "data": {
      "image/png": "[encoded data removed]",
      "text/plain": [
       "<Figure size 864x432 with 1 Axes>"
      ]
     },
     "metadata": {
      "needs_background": "light"
     },
     "output_type": "display_data"
    }
   ],
   "source": [
    "game_actions.groupby('date').agg({'user_id': 'nunique'}).plot(figsize = (12, 6))\n",
    "plt.ylabel('Количество уникальных игроков в день')\n",
    "plt.xlabel('Дата')\n",
    "plt.title('DAU')\n",
    "plt.grid()\n",
    "plt.show();"
   ]
  },
  {
   "cell_type": "markdown",
   "metadata": {},
   "source": [
    "За неделю рекламной кампании привлечено 13576 игроков, после окончания рекламной кампании уникальных игроков падает, до конца месяца юзеры либо уходят в отток, либо переходят на следующий уровень."
   ]
  },
  {
   "cell_type": "code",
   "execution_count": 15,
   "metadata": {},
   "outputs": [
    {
     "data": {
      "text/html": [
       "<div>\n",
       "<style scoped>\n",
       "    .dataframe tbody tr th:only-of-type {\n",
       "        vertical-align: middle;\n",
       "    }\n",
       "\n",
       "    .dataframe tbody tr th {\n",
       "        vertical-align: top;\n",
       "    }\n",
       "\n",
       "    .dataframe thead th {\n",
       "        text-align: right;\n",
       "    }\n",
       "</style>\n",
       "<table border=\"1\" class=\"dataframe\">\n",
       "  <thead>\n",
       "    <tr style=\"text-align: right;\">\n",
       "      <th></th>\n",
       "      <th>event_datetime</th>\n",
       "    </tr>\n",
       "  </thead>\n",
       "  <tbody>\n",
       "    <tr>\n",
       "      <th>count</th>\n",
       "      <td>13,576.00</td>\n",
       "    </tr>\n",
       "    <tr>\n",
       "      <th>mean</th>\n",
       "      <td>9.99</td>\n",
       "    </tr>\n",
       "    <tr>\n",
       "      <th>std</th>\n",
       "      <td>4.15</td>\n",
       "    </tr>\n",
       "    <tr>\n",
       "      <th>min</th>\n",
       "      <td>1.00</td>\n",
       "    </tr>\n",
       "    <tr>\n",
       "      <th>25%</th>\n",
       "      <td>6.00</td>\n",
       "    </tr>\n",
       "    <tr>\n",
       "      <th>50%</th>\n",
       "      <td>10.00</td>\n",
       "    </tr>\n",
       "    <tr>\n",
       "      <th>75%</th>\n",
       "      <td>13.00</td>\n",
       "    </tr>\n",
       "    <tr>\n",
       "      <th>max</th>\n",
       "      <td>22.00</td>\n",
       "    </tr>\n",
       "  </tbody>\n",
       "</table>\n",
       "</div>"
      ],
      "text/plain": [
       "       event_datetime\n",
       "count       13,576.00\n",
       "mean             9.99\n",
       "std              4.15\n",
       "min              1.00\n",
       "25%              6.00\n",
       "50%             10.00\n",
       "75%             13.00\n",
       "max             22.00"
      ]
     },
     "execution_count": 15,
     "metadata": {},
     "output_type": "execute_result"
    }
   ],
   "source": [
    "game_actions.groupby('user_id').agg({'event_datetime': 'count'}).describe()"
   ]
  },
  {
   "cell_type": "code",
   "execution_count": 16,
   "metadata": {},
   "outputs": [
    {
     "data": {
      "image/png": "[encoded data removed]",
      "text/plain": [
       "<Figure size 576x288 with 1 Axes>"
      ]
     },
     "metadata": {
      "needs_background": "light"
     },
     "output_type": "display_data"
    }
   ],
   "source": [
    "game_actions.groupby('event').agg({'event' : 'count'}).plot(kind= 'bar', figsize = (8, 4))\n",
    "plt.xlabel(\"Тип события\")\n",
    "plt.ylabel(\"Количество событий\")\n",
    "plt.title('Столбчатая диаграмма по количеству возможных событий')\n",
    "plt.show();"
   ]
  },
  {
   "cell_type": "code",
   "execution_count": 17,
   "metadata": {},
   "outputs": [
    {
     "data": {
      "text/html": [
       "<div>\n",
       "<style scoped>\n",
       "    .dataframe tbody tr th:only-of-type {\n",
       "        vertical-align: middle;\n",
       "    }\n",
       "\n",
       "    .dataframe tbody tr th {\n",
       "        vertical-align: top;\n",
       "    }\n",
       "\n",
       "    .dataframe thead th {\n",
       "        text-align: right;\n",
       "    }\n",
       "</style>\n",
       "<table border=\"1\" class=\"dataframe\">\n",
       "  <thead>\n",
       "    <tr style=\"text-align: right;\">\n",
       "      <th></th>\n",
       "      <th>event</th>\n",
       "    </tr>\n",
       "    <tr>\n",
       "      <th>event</th>\n",
       "      <th></th>\n",
       "    </tr>\n",
       "  </thead>\n",
       "  <tbody>\n",
       "    <tr>\n",
       "      <th>building</th>\n",
       "      <td>127957</td>\n",
       "    </tr>\n",
       "    <tr>\n",
       "      <th>finished_stage_1</th>\n",
       "      <td>5817</td>\n",
       "    </tr>\n",
       "    <tr>\n",
       "      <th>project</th>\n",
       "      <td>1866</td>\n",
       "    </tr>\n",
       "  </tbody>\n",
       "</table>\n",
       "</div>"
      ],
      "text/plain": [
       "                   event\n",
       "event                   \n",
       "building          127957\n",
       "finished_stage_1    5817\n",
       "project             1866"
      ]
     },
     "execution_count": 17,
     "metadata": {},
     "output_type": "execute_result"
    }
   ],
   "source": [
    "game_actions.groupby('event').agg({'event' : 'count'})"
   ]
  },
  {
   "cell_type": "code",
   "execution_count": 18,
   "metadata": {},
   "outputs": [
    {
     "data": {
      "image/png": "[encoded data removed]",
      "text/plain": [
       "<Figure size 1080x360 with 1 Axes>"
      ]
     },
     "metadata": {
      "needs_background": "light"
     },
     "output_type": "display_data"
    }
   ],
   "source": [
    "game_actions.groupby('date').agg({'event' : 'count'}).plot(kind= 'bar', figsize = (15, 5))\n",
    "plt.xlabel(\"Дата\")\n",
    "plt.ylabel(\"Количество событый\")\n",
    "plt.title('Столбчатая диаграмма по дате и количеству событий')\n",
    "plt.show();"
   ]
  },
  {
   "cell_type": "markdown",
   "metadata": {},
   "source": [
    "За месяц построенно 127956 зданий, в среднем каждый игрок строит 10 зданий. Всего перешли на следующий уровень 5817 игроков из них 1866 выполнением проекта satellite_orbital_assembly. Также можно наблюдать падение активности юзеров после 10 мая."
   ]
  },
  {
   "cell_type": "code",
   "execution_count": 19,
   "metadata": {
    "scrolled": false
   },
   "outputs": [
    {
     "data": {
      "image/png": "[encoded data removed]",
      "text/plain": [
       "<Figure size 648x360 with 1 Axes>"
      ]
     },
     "metadata": {
      "needs_background": "light"
     },
     "output_type": "display_data"
    }
   ],
   "source": [
    "game_actions.groupby('building_type').agg({'event' : 'count'}).reset_index().sort_values(by='event', ascending=False).plot(x='building_type', y='event',kind= 'bar', figsize = (9, 5))\n",
    "plt.xlabel(\"Тип здания\")\n",
    "plt.ylabel(\"Количество событый\")\n",
    "plt.title('Столбчатая диаграмма по типам зданий')\n",
    "plt.show();"
   ]
  },
  {
   "cell_type": "code",
   "execution_count": 20,
   "metadata": {},
   "outputs": [
    {
     "data": {
      "text/html": [
       "<div>\n",
       "<style scoped>\n",
       "    .dataframe tbody tr th:only-of-type {\n",
       "        vertical-align: middle;\n",
       "    }\n",
       "\n",
       "    .dataframe tbody tr th {\n",
       "        vertical-align: top;\n",
       "    }\n",
       "\n",
       "    .dataframe thead th {\n",
       "        text-align: right;\n",
       "    }\n",
       "</style>\n",
       "<table border=\"1\" class=\"dataframe\">\n",
       "  <thead>\n",
       "    <tr style=\"text-align: right;\">\n",
       "      <th></th>\n",
       "      <th>building_type</th>\n",
       "      <th>event</th>\n",
       "    </tr>\n",
       "  </thead>\n",
       "  <tbody>\n",
       "    <tr>\n",
       "      <th>0</th>\n",
       "      <td>assembly_shop</td>\n",
       "      <td>54494</td>\n",
       "    </tr>\n",
       "    <tr>\n",
       "      <th>1</th>\n",
       "      <td>research_center</td>\n",
       "      <td>14138</td>\n",
       "    </tr>\n",
       "    <tr>\n",
       "      <th>2</th>\n",
       "      <td>spaceport</td>\n",
       "      <td>59325</td>\n",
       "    </tr>\n",
       "  </tbody>\n",
       "</table>\n",
       "</div>"
      ],
      "text/plain": [
       "     building_type  event\n",
       "0    assembly_shop  54494\n",
       "1  research_center  14138\n",
       "2        spaceport  59325"
      ]
     },
     "execution_count": 20,
     "metadata": {},
     "output_type": "execute_result"
    }
   ],
   "source": [
    "game_actions.groupby('building_type').agg({'event' : 'count'}).reset_index()"
   ]
  },
  {
   "cell_type": "markdown",
   "metadata": {},
   "source": [
    "Меньше всего строят здание research_center. Assembly_shop и spaceport строят примерно одинакого"
   ]
  },
  {
   "cell_type": "markdown",
   "metadata": {},
   "source": [
    "`42,84% пользователей завершили первый уровень. За месяц построено 127956 зданий, в среднем каждый игрок строит 10 зданий`"
   ]
  },
  {
   "cell_type": "markdown",
   "metadata": {},
   "source": [
    "## Сформируем модель монетизации"
   ]
  },
  {
   "cell_type": "markdown",
   "metadata": {},
   "source": [
    "Заказчик платит за рекламу авансом, т.е. проводя платеж 3 мая, получает рекламную кампанию 4 мая. Сдвинем даты на +1 день."
   ]
  },
  {
   "cell_type": "code",
   "execution_count": 21,
   "metadata": {},
   "outputs": [],
   "source": [
    "ad_costs['day'] = ad_costs['day'].astype('datetime64')\n",
    "game_actions['event_datetime'] = game_actions['event_datetime'].astype('datetime64')"
   ]
  },
  {
   "cell_type": "code",
   "execution_count": 22,
   "metadata": {},
   "outputs": [],
   "source": [
    "ad_costs['day'] = ad_costs['day'] + timedelta(days=1)"
   ]
  },
  {
   "cell_type": "code",
   "execution_count": 23,
   "metadata": {},
   "outputs": [],
   "source": [
    "channels = game_actions.merge(user_source, on='user_id', how='left')\n",
    "#соеденим основную таблицу с таблицей источников откуда пришел пользователь"
   ]
  },
  {
   "cell_type": "markdown",
   "metadata": {},
   "source": [
    "Посчитаем количество привлеченных пользователей, игроков завершивших уровень один и САС, с разбивкой по рекламным каналам:"
   ]
  },
  {
   "cell_type": "code",
   "execution_count": 24,
   "metadata": {},
   "outputs": [],
   "source": [
    "source = (ad_costs.groupby(['source'])\n",
    "          .agg({'cost' : 'sum'})\n",
    "          .reset_index().merge(channels.groupby('source').agg({'user_id' : 'nunique'}).reset_index(),on='source')\n",
    "          .rename(columns={'user_id': 'players'}))\n",
    "source = (source\n",
    "          .merge(channels.query('event == \"finished_stage_1\"')\n",
    "          .groupby('source').agg({'user_id' : 'nunique'}).reset_index())\n",
    "          .rename(columns={'user_id': 'finsished_lev1'}))\n",
    "source['CAC'] = source['cost'] / source['players']"
   ]
  },
  {
   "cell_type": "code",
   "execution_count": 25,
   "metadata": {},
   "outputs": [
    {
     "data": {
      "text/html": [
       "<div>\n",
       "<style scoped>\n",
       "    .dataframe tbody tr th:only-of-type {\n",
       "        vertical-align: middle;\n",
       "    }\n",
       "\n",
       "    .dataframe tbody tr th {\n",
       "        vertical-align: top;\n",
       "    }\n",
       "\n",
       "    .dataframe thead th {\n",
       "        text-align: right;\n",
       "    }\n",
       "</style>\n",
       "<table border=\"1\" class=\"dataframe\">\n",
       "  <thead>\n",
       "    <tr style=\"text-align: right;\">\n",
       "      <th></th>\n",
       "      <th>day</th>\n",
       "      <th>cost</th>\n",
       "    </tr>\n",
       "  </thead>\n",
       "  <tbody>\n",
       "    <tr>\n",
       "      <th>0</th>\n",
       "      <td>2020-05-04</td>\n",
       "      <td>3,302.45</td>\n",
       "    </tr>\n",
       "    <tr>\n",
       "      <th>1</th>\n",
       "      <td>2020-05-05</td>\n",
       "      <td>1,865.00</td>\n",
       "    </tr>\n",
       "    <tr>\n",
       "      <th>2</th>\n",
       "      <td>2020-05-06</td>\n",
       "      <td>1,029.43</td>\n",
       "    </tr>\n",
       "    <tr>\n",
       "      <th>3</th>\n",
       "      <td>2020-05-07</td>\n",
       "      <td>620.48</td>\n",
       "    </tr>\n",
       "    <tr>\n",
       "      <th>4</th>\n",
       "      <td>2020-05-08</td>\n",
       "      <td>391.85</td>\n",
       "    </tr>\n",
       "    <tr>\n",
       "      <th>5</th>\n",
       "      <td>2020-05-09</td>\n",
       "      <td>242.77</td>\n",
       "    </tr>\n",
       "    <tr>\n",
       "      <th>6</th>\n",
       "      <td>2020-05-10</td>\n",
       "      <td>151.59</td>\n",
       "    </tr>\n",
       "  </tbody>\n",
       "</table>\n",
       "</div>"
      ],
      "text/plain": [
       "         day     cost\n",
       "0 2020-05-04 3,302.45\n",
       "1 2020-05-05 1,865.00\n",
       "2 2020-05-06 1,029.43\n",
       "3 2020-05-07   620.48\n",
       "4 2020-05-08   391.85\n",
       "5 2020-05-09   242.77\n",
       "6 2020-05-10   151.59"
      ]
     },
     "execution_count": 25,
     "metadata": {},
     "output_type": "execute_result"
    }
   ],
   "source": [
    "ad_costs.groupby(['day']).agg({'cost' : 'sum'}).reset_index()# Расходы на рекламу с разбивкой по дням"
   ]
  },
  {
   "cell_type": "code",
   "execution_count": 26,
   "metadata": {},
   "outputs": [],
   "source": [
    "channels['revenue'] = np.where(channels['event'] == 'building', 0.07, 0)#добавим столбец с ценой за каждый показ рекламы"
   ]
  },
  {
   "cell_type": "code",
   "execution_count": 27,
   "metadata": {},
   "outputs": [],
   "source": [
    "source = source.merge(channels.groupby('source').agg({'revenue' : 'sum', }).reset_index())\n",
    "source['ROMI (%)'] = (source['revenue'] / source['cost']) *100 #посчитаем ROMI"
   ]
  },
  {
   "cell_type": "code",
   "execution_count": 28,
   "metadata": {},
   "outputs": [],
   "source": [
    "source.loc[len(source.index)] = ['Общая сумма значений, средние значения САС и ROMI', source['cost'].sum(), source['players'].sum(), source['finsished_lev1'].sum(), source['CAC'].mean(), source['revenue'].sum(), source['ROMI (%)'].mean()]"
   ]
  },
  {
   "cell_type": "code",
   "execution_count": 29,
   "metadata": {},
   "outputs": [],
   "source": [
    "source['profit'] = source['revenue'] - source['cost']#вычислим теоретическую прибыль"
   ]
  },
  {
   "cell_type": "code",
   "execution_count": 30,
   "metadata": {},
   "outputs": [
    {
     "data": {
      "text/html": [
       "<div>\n",
       "<style scoped>\n",
       "    .dataframe tbody tr th:only-of-type {\n",
       "        vertical-align: middle;\n",
       "    }\n",
       "\n",
       "    .dataframe tbody tr th {\n",
       "        vertical-align: top;\n",
       "    }\n",
       "\n",
       "    .dataframe thead th {\n",
       "        text-align: right;\n",
       "    }\n",
       "</style>\n",
       "<table border=\"1\" class=\"dataframe\">\n",
       "  <thead>\n",
       "    <tr style=\"text-align: right;\">\n",
       "      <th></th>\n",
       "      <th>source</th>\n",
       "      <th>cost</th>\n",
       "      <th>players</th>\n",
       "      <th>finsished_lev1</th>\n",
       "      <th>CAC</th>\n",
       "      <th>revenue</th>\n",
       "      <th>ROMI (%)</th>\n",
       "      <th>profit</th>\n",
       "    </tr>\n",
       "  </thead>\n",
       "  <tbody>\n",
       "    <tr>\n",
       "      <th>0</th>\n",
       "      <td>facebook_ads</td>\n",
       "      <td>2,140.90</td>\n",
       "      <td>2726</td>\n",
       "      <td>1150</td>\n",
       "      <td>0.79</td>\n",
       "      <td>1,829.17</td>\n",
       "      <td>85.44</td>\n",
       "      <td>-311.73</td>\n",
       "    </tr>\n",
       "    <tr>\n",
       "      <th>1</th>\n",
       "      <td>instagram_new_adverts</td>\n",
       "      <td>2,161.44</td>\n",
       "      <td>3347</td>\n",
       "      <td>1466</td>\n",
       "      <td>0.65</td>\n",
       "      <td>2,227.05</td>\n",
       "      <td>103.04</td>\n",
       "      <td>65.61</td>\n",
       "    </tr>\n",
       "    <tr>\n",
       "      <th>2</th>\n",
       "      <td>yandex_direct</td>\n",
       "      <td>2,233.11</td>\n",
       "      <td>4817</td>\n",
       "      <td>2042</td>\n",
       "      <td>0.46</td>\n",
       "      <td>3,152.24</td>\n",
       "      <td>141.16</td>\n",
       "      <td>919.13</td>\n",
       "    </tr>\n",
       "    <tr>\n",
       "      <th>3</th>\n",
       "      <td>youtube_channel_reklama</td>\n",
       "      <td>1,068.12</td>\n",
       "      <td>2686</td>\n",
       "      <td>1159</td>\n",
       "      <td>0.40</td>\n",
       "      <td>1,748.53</td>\n",
       "      <td>163.70</td>\n",
       "      <td>680.41</td>\n",
       "    </tr>\n",
       "    <tr>\n",
       "      <th>4</th>\n",
       "      <td>Общая сумма значений, средние значения САС и ROMI</td>\n",
       "      <td>7,603.58</td>\n",
       "      <td>13576</td>\n",
       "      <td>5817</td>\n",
       "      <td>0.57</td>\n",
       "      <td>8,956.99</td>\n",
       "      <td>123.33</td>\n",
       "      <td>1,353.41</td>\n",
       "    </tr>\n",
       "  </tbody>\n",
       "</table>\n",
       "</div>"
      ],
      "text/plain": [
       "                                              source     cost  players  \\\n",
       "0                                       facebook_ads 2,140.90     2726   \n",
       "1                              instagram_new_adverts 2,161.44     3347   \n",
       "2                                      yandex_direct 2,233.11     4817   \n",
       "3                            youtube_channel_reklama 1,068.12     2686   \n",
       "4  Общая сумма значений, средние значения САС и ROMI 7,603.58    13576   \n",
       "\n",
       "   finsished_lev1  CAC  revenue  ROMI (%)   profit  \n",
       "0            1150 0.79 1,829.17     85.44  -311.73  \n",
       "1            1466 0.65 2,227.05    103.04    65.61  \n",
       "2            2042 0.46 3,152.24    141.16   919.13  \n",
       "3            1159 0.40 1,748.53    163.70   680.41  \n",
       "4            5817 0.57 8,956.99    123.33 1,353.41  "
      ]
     },
     "execution_count": 30,
     "metadata": {},
     "output_type": "execute_result"
    }
   ],
   "source": [
    "source"
   ]
  },
  {
   "cell_type": "code",
   "execution_count": 31,
   "metadata": {
    "scrolled": false
   },
   "outputs": [
    {
     "data": {
      "image/png": "[encoded data removed]",
      "text/plain": [
       "<Figure size 864x432 with 1 Axes>"
      ]
     },
     "metadata": {
      "needs_background": "light"
     },
     "output_type": "display_data"
    }
   ],
   "source": [
    "source.loc[4, 'source'] = 'Общая выручка'\n",
    "fig = plt.subplots(figsize=[12,6])\n",
    "sns.barplot(x='source', y='revenue', data=source.sort_values(by='revenue', ascending=False))\n",
    "plt.xlabel('Источник',fontsize=12)\n",
    "plt.ylabel('Выручка (у.е.)',fontsize=12)\n",
    "plt.title('Условная выручка модели при показе рекламы на экране с выбором типа объекта для постройки');"
   ]
  },
  {
   "cell_type": "markdown",
   "metadata": {},
   "source": [
    "`Общие расходы на рекламную кампанию состоваляют 7,603.58 у.е. При модели предложенной заказчиком и CPM 70, прибыль составит 1,353.34 у.е. При этом, платформа facebook_ads показывает ROMI ниже 100% и потери в сумее 311.73 у.е, что требует корректировки стратегии продвижения для данной платформы. К сожалению при столь агрессивном подходе к показе рекламы неизбежно увеличение оттока пользователей, поэтому мы предлагаем ненамного уменьшить количество показов, демонстрируя рекламу только при строительстве \"assembly_shop\" и \"spaceport\":`"
   ]
  },
  {
   "cell_type": "code",
   "execution_count": 32,
   "metadata": {},
   "outputs": [
    {
     "data": {
      "image/png": "[encoded data removed]",
      "text/plain": [
       "<Figure size 576x720 with 1 Axes>"
      ]
     },
     "metadata": {
      "needs_background": "light"
     },
     "output_type": "display_data"
    }
   ],
   "source": [
    "x = ['Модель № 1', 'Модель №2']\n",
    "y = [8956.92, 7967.33]\n",
    "plt.subplots(figsize=[8,10])\n",
    "plt.title('Сравнение выручки моделей монетизации')\n",
    "plt.ylabel('Выручка (у.е.)',fontsize=12)\n",
    "sns.barplot(x, y);"
   ]
  },
  {
   "cell_type": "code",
   "execution_count": 33,
   "metadata": {},
   "outputs": [
    {
     "data": {
      "text/plain": [
       "7967.330000000001"
      ]
     },
     "execution_count": 33,
     "metadata": {},
     "output_type": "execute_result"
    }
   ],
   "source": [
    "game_actions.query(\"building_type == 'assembly_shop' or building_type == 'spaceport'\")['building_type'].count() * 0.07\n",
    "#Выручка при показе рекламы при стрительстве \"assembly_shop\" и \"spaceport\":"
   ]
  },
  {
   "cell_type": "code",
   "execution_count": 34,
   "metadata": {},
   "outputs": [
    {
     "data": {
      "text/plain": [
       "363.7530132119782"
      ]
     },
     "execution_count": 34,
     "metadata": {},
     "output_type": "execute_result"
    }
   ],
   "source": [
    "game_actions.query(\"building_type == 'assembly_shop' or building_type == 'spaceport'\")['building_type'].count() * 0.07 - source.loc[4,'cost']\n",
    "#Прибыль при показе рекламы при строительстве \"assembly_shop\" и \"spaceport\", без учета оттока игроков из-за показов рекламы"
   ]
  },
  {
   "cell_type": "markdown",
   "metadata": {},
   "source": [
    "`Данная модель показывет условную прибыль уже на этапе первого уровня игры и позволяет минимизировать отток игроков из-за показов рекламы`"
   ]
  },
  {
   "cell_type": "markdown",
   "metadata": {},
   "source": [
    "## Проанализируем влияние событий на совершение целевого события"
   ]
  },
  {
   "cell_type": "code",
   "execution_count": 35,
   "metadata": {},
   "outputs": [],
   "source": [
    "mtrx = game_actions[['user_id','event','building_type','project_type', 'date']]"
   ]
  },
  {
   "cell_type": "code",
   "execution_count": 36,
   "metadata": {},
   "outputs": [],
   "source": [
    "finished_users = game_actions.query('event == \"finished_stage_1\"')['user_id'].unique()\n",
    "project_users = game_actions.query('project_type == \"satellite_orbital_assembly\"')['user_id'].unique()"
   ]
  },
  {
   "cell_type": "code",
   "execution_count": 37,
   "metadata": {},
   "outputs": [],
   "source": [
    "level_complete=[]\n",
    "for i in mtrx['user_id']:\n",
    "    if i in finished_users:\n",
    "        level_complete.append(1)\n",
    "    else:\n",
    "        level_complete.append(0)"
   ]
  },
  {
   "cell_type": "code",
   "execution_count": 38,
   "metadata": {},
   "outputs": [],
   "source": [
    "project_complete=[]\n",
    "for i in mtrx['user_id']:\n",
    "    if i in project_users:\n",
    "        project_complete.append(1)\n",
    "    else:\n",
    "        project_complete.append(0)"
   ]
  },
  {
   "cell_type": "code",
   "execution_count": 39,
   "metadata": {},
   "outputs": [],
   "source": [
    "mtrx['level_complete'] = level_complete\n",
    "mtrx['project_complete'] = project_complete"
   ]
  },
  {
   "cell_type": "code",
   "execution_count": 40,
   "metadata": {},
   "outputs": [],
   "source": [
    "mtrx['research_center'] = np.where(mtrx['building_type'] == 'research_center', 1, 0)\n",
    "mtrx['assembly_shop'] = np.where(mtrx['building_type'] == 'assembly_shop', 1, 0)\n",
    "mtrx['spaceport'] = np.where(mtrx['building_type'] == 'spaceport', 1, 0)"
   ]
  },
  {
   "cell_type": "code",
   "execution_count": 41,
   "metadata": {
    "scrolled": false
   },
   "outputs": [
    {
     "data": {
      "image/png": "[encoded data removed]",
      "text/plain": [
       "<Figure size 576x576 with 2 Axes>"
      ]
     },
     "metadata": {
      "needs_background": "light"
     },
     "output_type": "display_data"
    },
    {
     "data": {
      "text/html": [
       "<div>\n",
       "<style scoped>\n",
       "    .dataframe tbody tr th:only-of-type {\n",
       "        vertical-align: middle;\n",
       "    }\n",
       "\n",
       "    .dataframe tbody tr th {\n",
       "        vertical-align: top;\n",
       "    }\n",
       "\n",
       "    .dataframe thead th {\n",
       "        text-align: right;\n",
       "    }\n",
       "</style>\n",
       "<table border=\"1\" class=\"dataframe\">\n",
       "  <thead>\n",
       "    <tr style=\"text-align: right;\">\n",
       "      <th></th>\n",
       "      <th>level_complete</th>\n",
       "      <th>project_complete</th>\n",
       "      <th>research_center</th>\n",
       "      <th>assembly_shop</th>\n",
       "      <th>spaceport</th>\n",
       "    </tr>\n",
       "  </thead>\n",
       "  <tbody>\n",
       "    <tr>\n",
       "      <th>level_complete</th>\n",
       "      <td>1.00</td>\n",
       "      <td>0.50</td>\n",
       "      <td>0.02</td>\n",
       "      <td>-0.06</td>\n",
       "      <td>-0.06</td>\n",
       "    </tr>\n",
       "    <tr>\n",
       "      <th>project_complete</th>\n",
       "      <td>0.50</td>\n",
       "      <td>1.00</td>\n",
       "      <td>0.05</td>\n",
       "      <td>-0.07</td>\n",
       "      <td>-0.04</td>\n",
       "    </tr>\n",
       "    <tr>\n",
       "      <th>research_center</th>\n",
       "      <td>0.02</td>\n",
       "      <td>0.05</td>\n",
       "      <td>1.00</td>\n",
       "      <td>-0.28</td>\n",
       "      <td>-0.30</td>\n",
       "    </tr>\n",
       "    <tr>\n",
       "      <th>assembly_shop</th>\n",
       "      <td>-0.06</td>\n",
       "      <td>-0.07</td>\n",
       "      <td>-0.28</td>\n",
       "      <td>1.00</td>\n",
       "      <td>-0.72</td>\n",
       "    </tr>\n",
       "    <tr>\n",
       "      <th>spaceport</th>\n",
       "      <td>-0.06</td>\n",
       "      <td>-0.04</td>\n",
       "      <td>-0.30</td>\n",
       "      <td>-0.72</td>\n",
       "      <td>1.00</td>\n",
       "    </tr>\n",
       "  </tbody>\n",
       "</table>\n",
       "</div>"
      ],
      "text/plain": [
       "                  level_complete  project_complete  research_center  \\\n",
       "level_complete              1.00              0.50             0.02   \n",
       "project_complete            0.50              1.00             0.05   \n",
       "research_center             0.02              0.05             1.00   \n",
       "assembly_shop              -0.06             -0.07            -0.28   \n",
       "spaceport                  -0.06             -0.04            -0.30   \n",
       "\n",
       "                  assembly_shop  spaceport  \n",
       "level_complete            -0.06      -0.06  \n",
       "project_complete          -0.07      -0.04  \n",
       "research_center           -0.28      -0.30  \n",
       "assembly_shop              1.00      -0.72  \n",
       "spaceport                 -0.72       1.00  "
      ]
     },
     "execution_count": 41,
     "metadata": {},
     "output_type": "execute_result"
    }
   ],
   "source": [
    "plt.subplots(figsize=[8,8])\n",
    "sns.heatmap(mtrx.corr(), annot=True, square=True)\n",
    "plt.show()\n",
    "mtrx.corr()"
   ]
  },
  {
   "cell_type": "markdown",
   "metadata": {},
   "source": [
    "Какие либо события практически не влияют на совершения целевого события. Есть сильная обратная взаимосвязь между событиями строительство \"assembly_shop\" и строительство \"spaceport\", что говорит в пользу версии модели с показами рекламы только на  двух этих событиях."
   ]
  },
  {
   "cell_type": "markdown",
   "metadata": {},
   "source": [
    "##  Проверим статистические гипотезы"
   ]
  },
  {
   "cell_type": "markdown",
   "metadata": {},
   "source": [
    "### Подготовим данные"
   ]
  },
  {
   "cell_type": "code",
   "execution_count": 42,
   "metadata": {},
   "outputs": [],
   "source": [
    "time_f = (game_actions.groupby('user_id')\n",
    "        .agg({'event_datetime': 'first',})\n",
    "        .rename(columns={'event_datetime': 'first_ts'})\n",
    "        .reset_index())\n",
    "time_l = (game_actions.groupby('user_id')\n",
    "        .agg({'event_datetime': 'last',})\n",
    "        .rename(columns={'event_datetime': 'last_ts'})\n",
    "        .reset_index())\n",
    "time = time_f.merge(time_l)# найдем первое первого входа в игру и время заверешения уровня"
   ]
  },
  {
   "cell_type": "code",
   "execution_count": 43,
   "metadata": {},
   "outputs": [],
   "source": [
    "fs = (game_actions.query('event == \"finished_stage_1\"')\n",
    "    .merge(game_actions.query('project_type == \"satellite_orbital_assembly\"'), on = 'user_id', how = 'left'))\n",
    "# Сделаем таблицу с  PVE и PVP игроками завершивших первый уровень"
   ]
  },
  {
   "cell_type": "code",
   "execution_count": 44,
   "metadata": {},
   "outputs": [],
   "source": [
    "fs = fs.merge(time, on = 'user_id', how = 'left')#добавим таблицу с временем"
   ]
  },
  {
   "cell_type": "code",
   "execution_count": 45,
   "metadata": {},
   "outputs": [],
   "source": [
    "fs = fs[['user_id','event_x','project_type_y', 'first_ts', 'last_ts']]\n",
    "fs.rename(columns = {'event_x' : 'event', 'project_type_y' : 'pve'}, inplace = True)"
   ]
  },
  {
   "cell_type": "code",
   "execution_count": 46,
   "metadata": {},
   "outputs": [],
   "source": [
    "fs['spent_time'] = fs['last_ts'] - fs['first_ts']# время затраченное на прохождение первого уровня\n",
    "fs['spent_time'] = fs['spent_time'].dt.total_seconds()# переведем в секунды"
   ]
  },
  {
   "cell_type": "code",
   "execution_count": 47,
   "metadata": {},
   "outputs": [
    {
     "data": {
      "text/html": [
       "<div>\n",
       "<style scoped>\n",
       "    .dataframe tbody tr th:only-of-type {\n",
       "        vertical-align: middle;\n",
       "    }\n",
       "\n",
       "    .dataframe tbody tr th {\n",
       "        vertical-align: top;\n",
       "    }\n",
       "\n",
       "    .dataframe thead th {\n",
       "        text-align: right;\n",
       "    }\n",
       "</style>\n",
       "<table border=\"1\" class=\"dataframe\">\n",
       "  <thead>\n",
       "    <tr style=\"text-align: right;\">\n",
       "      <th></th>\n",
       "      <th>user_id</th>\n",
       "      <th>event</th>\n",
       "      <th>pve</th>\n",
       "      <th>first_ts</th>\n",
       "      <th>last_ts</th>\n",
       "      <th>spent_time</th>\n",
       "    </tr>\n",
       "  </thead>\n",
       "  <tbody>\n",
       "    <tr>\n",
       "      <th>5812</th>\n",
       "      <td>22cce310-fe10-41a2-941b-9c3d63327fea</td>\n",
       "      <td>finished_stage_1</td>\n",
       "      <td>NaN</td>\n",
       "      <td>2020-05-04 18:38:25</td>\n",
       "      <td>2020-06-04 15:50:38</td>\n",
       "      <td>2,668,333.00</td>\n",
       "    </tr>\n",
       "    <tr>\n",
       "      <th>5813</th>\n",
       "      <td>d477dde8-7c22-4f23-9c4f-4ec31a1aa4c8</td>\n",
       "      <td>finished_stage_1</td>\n",
       "      <td>satellite_orbital_assembly</td>\n",
       "      <td>2020-05-07 02:18:19</td>\n",
       "      <td>2020-06-04 17:56:14</td>\n",
       "      <td>2,475,475.00</td>\n",
       "    </tr>\n",
       "    <tr>\n",
       "      <th>5814</th>\n",
       "      <td>515c1952-99aa-4bca-a7ea-d0449eb5385a</td>\n",
       "      <td>finished_stage_1</td>\n",
       "      <td>NaN</td>\n",
       "      <td>2020-05-07 07:28:50</td>\n",
       "      <td>2020-06-05 02:25:12</td>\n",
       "      <td>2,487,382.00</td>\n",
       "    </tr>\n",
       "    <tr>\n",
       "      <th>5815</th>\n",
       "      <td>32572adb-900f-4b5d-a453-1eb1e6d88d8b</td>\n",
       "      <td>finished_stage_1</td>\n",
       "      <td>NaN</td>\n",
       "      <td>2020-05-07 05:43:45</td>\n",
       "      <td>2020-06-05 12:12:27</td>\n",
       "      <td>2,528,922.00</td>\n",
       "    </tr>\n",
       "    <tr>\n",
       "      <th>5816</th>\n",
       "      <td>f21d179f-1c4b-437e-b9c6-ab1976907195</td>\n",
       "      <td>finished_stage_1</td>\n",
       "      <td>NaN</td>\n",
       "      <td>2020-05-06 02:56:25</td>\n",
       "      <td>2020-06-05 12:32:49</td>\n",
       "      <td>2,626,584.00</td>\n",
       "    </tr>\n",
       "  </tbody>\n",
       "</table>\n",
       "</div>"
      ],
      "text/plain": [
       "                                   user_id             event  \\\n",
       "5812  22cce310-fe10-41a2-941b-9c3d63327fea  finished_stage_1   \n",
       "5813  d477dde8-7c22-4f23-9c4f-4ec31a1aa4c8  finished_stage_1   \n",
       "5814  515c1952-99aa-4bca-a7ea-d0449eb5385a  finished_stage_1   \n",
       "5815  32572adb-900f-4b5d-a453-1eb1e6d88d8b  finished_stage_1   \n",
       "5816  f21d179f-1c4b-437e-b9c6-ab1976907195  finished_stage_1   \n",
       "\n",
       "                             pve            first_ts             last_ts  \\\n",
       "5812                         NaN 2020-05-04 18:38:25 2020-06-04 15:50:38   \n",
       "5813  satellite_orbital_assembly 2020-05-07 02:18:19 2020-06-04 17:56:14   \n",
       "5814                         NaN 2020-05-07 07:28:50 2020-06-05 02:25:12   \n",
       "5815                         NaN 2020-05-07 05:43:45 2020-06-05 12:12:27   \n",
       "5816                         NaN 2020-05-06 02:56:25 2020-06-05 12:32:49   \n",
       "\n",
       "       spent_time  \n",
       "5812 2,668,333.00  \n",
       "5813 2,475,475.00  \n",
       "5814 2,487,382.00  \n",
       "5815 2,528,922.00  \n",
       "5816 2,626,584.00  "
      ]
     },
     "execution_count": 47,
     "metadata": {},
     "output_type": "execute_result"
    }
   ],
   "source": [
    "fs.tail()"
   ]
  },
  {
   "cell_type": "markdown",
   "metadata": {},
   "source": [
    "### Проверим гипотезу: 'Среднее время прохождения уровня между PVE и PVP пользователями не различается\""
   ]
  },
  {
   "cell_type": "markdown",
   "metadata": {},
   "source": [
    "* H0: Среднее время прохождения уровня между пользователями, которые заканчивают уровень через реализацию проекта, и пользователями, которые заканчивают уровень победой над другим игроком не различается\n",
    "* H1: Среднее время прохождения уровня между пользователями, которые заканчивают уровень через реализацию проекта, и пользователями, которые заканчивают уровень победой над другим игроком различается"
   ]
  },
  {
   "cell_type": "code",
   "execution_count": 48,
   "metadata": {},
   "outputs": [
    {
     "name": "stdout",
     "output_type": "stream",
     "text": [
      "p-значение: 7.256845329495443e-98\n",
      "Отвергаем нулевую гипотезу\n",
      "\n"
     ]
    }
   ],
   "source": [
    "alpha = 0.05\n",
    "results = st.ttest_ind(fs.query(\"pve != 'satellite_orbital_assembly'\")['spent_time'], fs.query(\"pve == 'satellite_orbital_assembly'\")['spent_time'])\n",
    "\n",
    "print('p-значение:', results.pvalue)\n",
    "\n",
    "if (results.pvalue < alpha):\n",
    "    print(\"Отвергаем нулевую гипотезу\")\n",
    "else:\n",
    "    print(\"Не получилось отвергнуть нулевую гипотезу\")\n",
    "    \n",
    "print()    "
   ]
  },
  {
   "cell_type": "markdown",
   "metadata": {},
   "source": [
    "Время прохождения уровня между PVE и PVP пользователями различается. В среднем PVE игроки завершают уровень дольше чем PVP игроки."
   ]
  },
  {
   "cell_type": "markdown",
   "metadata": {},
   "source": [
    "### Проверим гипотезу: 'Среднее количество построенных зданий пользователями, привлеченных из каналов yandex_direct и youtube_channel_reklama, не различается\""
   ]
  },
  {
   "cell_type": "markdown",
   "metadata": {},
   "source": [
    "* H0: Среднее количество построенных зданий пользователями, привлеченных из каналов yandex_direct и youtube_channel_reklama не различается\n",
    "* H1: Среднее количество построенных зданий пользователями, привлеченных из каналов yandex_direct и youtube_channel_reklama различается"
   ]
  },
  {
   "cell_type": "code",
   "execution_count": 49,
   "metadata": {},
   "outputs": [],
   "source": [
    "yt=channels.query('source == \"youtube_channel_reklama\"').groupby('user_id').agg({'building_type': 'count'}).reset_index()['building_type']\n",
    "yd=channels.query('source == \"yandex_direct\"').groupby('user_id').agg({'building_type': 'count'}).reset_index()['building_type']"
   ]
  },
  {
   "cell_type": "code",
   "execution_count": 50,
   "metadata": {},
   "outputs": [
    {
     "name": "stdout",
     "output_type": "stream",
     "text": [
      "p-значение: 0.6000717646422973\n",
      "Не получилось отвергнуть нулевую гипотезу\n",
      "\n"
     ]
    }
   ],
   "source": [
    "alpha = 0.05\n",
    "results = st.ttest_ind(yt, yd)\n",
    "\n",
    "print('p-значение:', results.pvalue)\n",
    "\n",
    "if (results.pvalue < alpha):\n",
    "    print(\"Отвергаем нулевую гипотезу\")\n",
    "else:\n",
    "    print(\"Не получилось отвергнуть нулевую гипотезу\")\n",
    "    \n",
    "print()    "
   ]
  },
  {
   "cell_type": "markdown",
   "metadata": {},
   "source": [
    "Среднее количество построенных зданий пользователями, привлеченных из каналов yandex_direct и youtube_channel_reklama не различается. Пользователи привлеченные из этих каналов ведеут себя одинакого."
   ]
  },
  {
   "cell_type": "markdown",
   "metadata": {},
   "source": [
    "## Вывод"
   ]
  },
  {
   "cell_type": "markdown",
   "metadata": {},
   "source": [
    "`Модель предложенная заказчиком, имеет теоритическую прибыль прибыль в 1,353.34 у.е. и общую окупаемость рекламной кампании, при условии отсутствия оттока пользователей из-за показов рекламы. При этом был обнаружен убыток в размере 311.73 у.е. от источника facebook_ads.`\n",
    "\n",
    "\n",
    "`Для минимизации оттока юзеров рекомендуем использовать модель монетизации с показом рекламы только на событиях: \"постройка assembly_shop\" и \"постройка spaceport\". Отрицательная взаимосвязь между этими событиями(чем больше строят одно тем меньше другое) снизит частоту показа рекламы игрокам и позволит снизить отток юзеров, при этом данная модель остается прибыльной и позволит в какой-то мере снизить раздражение игроков по поводу слишком частого показа рекламы.`\n",
    "\n",
    "`Независимо от выбора модели монетизации рекомендуется скорректирововть стратегию продвижения продукта для платформы facebook_ads.`\n",
    "\n",
    "\n",
    "\n"
   ]
  }
 ],
 "metadata": {
  "ExecuteTimeLog": [
   {
    "duration": 1912,
    "start_time": "2022-04-19T17:01:54.086Z"
   },
   {
    "duration": 3509,
    "start_time": "2022-04-19T17:04:02.903Z"
   },
   {
    "duration": 25,
    "start_time": "2022-04-19T17:09:49.367Z"
   },
   {
    "duration": 19,
    "start_time": "2022-04-19T17:09:53.564Z"
   },
   {
    "duration": 112,
    "start_time": "2022-04-19T17:12:55.679Z"
   },
   {
    "duration": 7,
    "start_time": "2022-04-19T17:13:33.185Z"
   },
   {
    "duration": 642,
    "start_time": "2022-04-19T17:13:37.048Z"
   },
   {
    "duration": 17,
    "start_time": "2022-04-19T17:13:42.721Z"
   },
   {
    "duration": 387,
    "start_time": "2022-04-19T17:14:00.576Z"
   },
   {
    "duration": 285,
    "start_time": "2022-04-19T17:14:48.774Z"
   },
   {
    "duration": 12,
    "start_time": "2022-04-19T17:32:58.824Z"
   },
   {
    "duration": 17,
    "start_time": "2022-04-19T17:33:08.344Z"
   },
   {
    "duration": 12,
    "start_time": "2022-04-19T17:33:49.094Z"
   },
   {
    "duration": 354,
    "start_time": "2022-04-19T17:33:52.957Z"
   },
   {
    "duration": 255,
    "start_time": "2022-04-19T17:33:53.463Z"
   },
   {
    "duration": 11,
    "start_time": "2022-04-19T17:33:57.519Z"
   },
   {
    "duration": 57,
    "start_time": "2022-04-19T17:34:00.743Z"
   },
   {
    "duration": 14,
    "start_time": "2022-04-19T17:34:05.997Z"
   },
   {
    "duration": 54,
    "start_time": "2022-04-19T17:34:11.925Z"
   },
   {
    "duration": 112,
    "start_time": "2022-04-19T17:34:48.123Z"
   },
   {
    "duration": 101,
    "start_time": "2022-04-19T17:34:54.014Z"
   },
   {
    "duration": 122,
    "start_time": "2022-04-19T17:35:47.565Z"
   },
   {
    "duration": 126,
    "start_time": "2022-04-19T17:35:56.693Z"
   },
   {
    "duration": 116,
    "start_time": "2022-04-19T17:36:16.324Z"
   },
   {
    "duration": 109,
    "start_time": "2022-04-19T17:36:22.612Z"
   },
   {
    "duration": 121,
    "start_time": "2022-04-19T17:36:24.843Z"
   },
   {
    "duration": 1444,
    "start_time": "2022-04-19T17:36:45.351Z"
   },
   {
    "duration": 346,
    "start_time": "2022-04-19T17:36:46.798Z"
   },
   {
    "duration": 270,
    "start_time": "2022-04-19T17:36:47.147Z"
   },
   {
    "duration": 160,
    "start_time": "2022-04-19T17:36:47.420Z"
   },
   {
    "duration": 137,
    "start_time": "2022-04-19T17:36:47.582Z"
   },
   {
    "duration": 19,
    "start_time": "2022-04-19T17:51:46.826Z"
   },
   {
    "duration": 30,
    "start_time": "2022-04-19T17:51:56.362Z"
   },
   {
    "duration": 17,
    "start_time": "2022-04-19T17:52:13.354Z"
   },
   {
    "duration": 15,
    "start_time": "2022-04-19T17:52:56.514Z"
   },
   {
    "duration": 15,
    "start_time": "2022-04-19T17:57:29.110Z"
   },
   {
    "duration": 16,
    "start_time": "2022-04-19T17:58:11.055Z"
   },
   {
    "duration": 26,
    "start_time": "2022-04-19T17:58:42.166Z"
   },
   {
    "duration": 25,
    "start_time": "2022-04-19T17:58:49.942Z"
   },
   {
    "duration": 26,
    "start_time": "2022-04-19T17:58:58.046Z"
   },
   {
    "duration": 22,
    "start_time": "2022-04-19T18:03:33.937Z"
   },
   {
    "duration": 22,
    "start_time": "2022-04-19T18:03:45.011Z"
   },
   {
    "duration": 23,
    "start_time": "2022-04-19T18:03:56.186Z"
   },
   {
    "duration": 15,
    "start_time": "2022-04-19T18:04:15.655Z"
   },
   {
    "duration": 23,
    "start_time": "2022-04-19T18:04:38.010Z"
   },
   {
    "duration": 22,
    "start_time": "2022-04-19T18:05:04.953Z"
   },
   {
    "duration": 17,
    "start_time": "2022-04-19T18:05:28.320Z"
   },
   {
    "duration": 174,
    "start_time": "2022-04-19T18:22:39.746Z"
   },
   {
    "duration": 25,
    "start_time": "2022-04-19T18:22:51.298Z"
   },
   {
    "duration": 46,
    "start_time": "2022-04-19T18:24:10.585Z"
   },
   {
    "duration": 91,
    "start_time": "2022-04-19T18:24:12.928Z"
   },
   {
    "duration": 7,
    "start_time": "2022-04-19T18:25:47.072Z"
   },
   {
    "duration": 378,
    "start_time": "2022-04-19T18:25:54.136Z"
   },
   {
    "duration": 9,
    "start_time": "2022-04-19T18:25:57.496Z"
   },
   {
    "duration": 102,
    "start_time": "2022-04-19T18:26:07.375Z"
   },
   {
    "duration": 9,
    "start_time": "2022-04-19T18:26:07.959Z"
   },
   {
    "duration": 32,
    "start_time": "2022-04-19T18:26:19.902Z"
   },
   {
    "duration": 148,
    "start_time": "2022-04-19T18:27:53.357Z"
   },
   {
    "duration": 49,
    "start_time": "2022-04-19T18:28:27.503Z"
   },
   {
    "duration": 7,
    "start_time": "2022-04-19T18:28:35.286Z"
   },
   {
    "duration": 19,
    "start_time": "2022-04-19T18:28:40.685Z"
   },
   {
    "duration": 7,
    "start_time": "2022-04-19T18:28:41.054Z"
   },
   {
    "duration": 344,
    "start_time": "2022-04-19T18:28:49.118Z"
   },
   {
    "duration": 64,
    "start_time": "2022-04-19T18:28:53.743Z"
   },
   {
    "duration": 7,
    "start_time": "2022-04-19T18:28:54.013Z"
   },
   {
    "duration": 73,
    "start_time": "2022-04-19T18:31:18.268Z"
   },
   {
    "duration": 10,
    "start_time": "2022-04-19T18:31:19.060Z"
   },
   {
    "duration": 15,
    "start_time": "2022-04-19T18:31:31.387Z"
   },
   {
    "duration": 48,
    "start_time": "2022-04-19T18:31:36.174Z"
   },
   {
    "duration": 88,
    "start_time": "2022-04-19T18:31:38.931Z"
   },
   {
    "duration": 56,
    "start_time": "2022-04-19T18:31:39.570Z"
   },
   {
    "duration": 56,
    "start_time": "2022-04-19T18:32:49.299Z"
   },
   {
    "duration": 72,
    "start_time": "2022-04-19T18:33:08.529Z"
   },
   {
    "duration": 15,
    "start_time": "2022-04-19T18:33:21.188Z"
   },
   {
    "duration": 7,
    "start_time": "2022-04-19T18:33:26.483Z"
   },
   {
    "duration": 359,
    "start_time": "2022-04-19T18:33:30.626Z"
   },
   {
    "duration": 8,
    "start_time": "2022-04-19T18:33:35.297Z"
   },
   {
    "duration": 3,
    "start_time": "2022-04-19T18:34:09.273Z"
   },
   {
    "duration": 1461,
    "start_time": "2022-04-20T12:21:10.561Z"
   },
   {
    "duration": 3594,
    "start_time": "2022-04-20T12:21:12.025Z"
   },
   {
    "duration": 231,
    "start_time": "2022-04-20T12:21:15.622Z"
   },
   {
    "duration": 115,
    "start_time": "2022-04-20T12:21:15.855Z"
   },
   {
    "duration": 110,
    "start_time": "2022-04-20T12:21:15.972Z"
   },
   {
    "duration": 12,
    "start_time": "2022-04-20T12:21:16.084Z"
   },
   {
    "duration": 28,
    "start_time": "2022-04-20T12:21:16.098Z"
   },
   {
    "duration": 38,
    "start_time": "2022-04-20T12:21:16.128Z"
   },
   {
    "duration": 50,
    "start_time": "2022-04-20T12:21:16.169Z"
   },
   {
    "duration": 18,
    "start_time": "2022-04-20T12:28:12.128Z"
   },
   {
    "duration": 10,
    "start_time": "2022-04-20T12:28:19.415Z"
   },
   {
    "duration": 7,
    "start_time": "2022-04-20T12:28:23.967Z"
   },
   {
    "duration": 6,
    "start_time": "2022-04-20T12:28:29.655Z"
   },
   {
    "duration": 7,
    "start_time": "2022-04-20T12:28:36.990Z"
   },
   {
    "duration": 9,
    "start_time": "2022-04-20T12:28:55.478Z"
   },
   {
    "duration": 371,
    "start_time": "2022-04-20T12:29:04.318Z"
   },
   {
    "duration": 192,
    "start_time": "2022-04-20T12:29:05.177Z"
   },
   {
    "duration": 85,
    "start_time": "2022-04-20T12:29:08.166Z"
   },
   {
    "duration": 81,
    "start_time": "2022-04-20T12:29:08.446Z"
   },
   {
    "duration": 11,
    "start_time": "2022-04-20T12:29:09.406Z"
   },
   {
    "duration": 11,
    "start_time": "2022-04-20T12:29:09.870Z"
   },
   {
    "duration": 18,
    "start_time": "2022-04-20T12:29:10.511Z"
   },
   {
    "duration": 12,
    "start_time": "2022-04-20T12:29:13.271Z"
   },
   {
    "duration": 8,
    "start_time": "2022-04-20T12:29:15.303Z"
   },
   {
    "duration": 6,
    "start_time": "2022-04-20T12:29:19.286Z"
   },
   {
    "duration": 6,
    "start_time": "2022-04-20T12:29:27.998Z"
   },
   {
    "duration": 6,
    "start_time": "2022-04-20T12:29:33.686Z"
   },
   {
    "duration": 53,
    "start_time": "2022-04-20T12:29:40.710Z"
   },
   {
    "duration": 55,
    "start_time": "2022-04-20T12:29:49.526Z"
   },
   {
    "duration": 53,
    "start_time": "2022-04-21T09:09:03.149Z"
   },
   {
    "duration": 2326,
    "start_time": "2022-04-21T09:09:08.951Z"
   },
   {
    "duration": 410,
    "start_time": "2022-04-21T09:09:11.280Z"
   },
   {
    "duration": 246,
    "start_time": "2022-04-21T09:09:11.692Z"
   },
   {
    "duration": 129,
    "start_time": "2022-04-21T09:09:11.941Z"
   },
   {
    "duration": 120,
    "start_time": "2022-04-21T09:09:12.072Z"
   },
   {
    "duration": 89,
    "start_time": "2022-04-21T09:09:17.057Z"
   },
   {
    "duration": 7565,
    "start_time": "2022-04-21T09:09:24.178Z"
   },
   {
    "duration": 231,
    "start_time": "2022-04-21T09:10:31.920Z"
   },
   {
    "duration": 151,
    "start_time": "2022-04-21T09:10:48.761Z"
   },
   {
    "duration": 117,
    "start_time": "2022-04-21T09:12:42.183Z"
   },
   {
    "duration": 7664,
    "start_time": "2022-04-21T09:12:58.158Z"
   },
   {
    "duration": 49,
    "start_time": "2022-04-21T09:13:46.621Z"
   },
   {
    "duration": 7768,
    "start_time": "2022-04-21T09:13:49.909Z"
   },
   {
    "duration": 17,
    "start_time": "2022-04-21T09:14:04.500Z"
   },
   {
    "duration": 6,
    "start_time": "2022-04-21T09:14:14.526Z"
   },
   {
    "duration": 8236,
    "start_time": "2022-04-21T09:14:16.605Z"
   },
   {
    "duration": 7977,
    "start_time": "2022-04-21T09:14:47.756Z"
   },
   {
    "duration": 7694,
    "start_time": "2022-04-21T09:15:13.550Z"
   },
   {
    "duration": 10,
    "start_time": "2022-04-21T09:15:51.650Z"
   },
   {
    "duration": 4,
    "start_time": "2022-04-21T09:16:21.708Z"
   },
   {
    "duration": 4,
    "start_time": "2022-04-21T09:16:27.061Z"
   },
   {
    "duration": 10,
    "start_time": "2022-04-21T09:16:36.995Z"
   },
   {
    "duration": 2851,
    "start_time": "2022-04-21T09:16:40.900Z"
   },
   {
    "duration": 4,
    "start_time": "2022-04-21T09:16:51.707Z"
   },
   {
    "duration": 209,
    "start_time": "2022-04-21T09:17:07.747Z"
   },
   {
    "duration": 4,
    "start_time": "2022-04-21T09:17:14.291Z"
   },
   {
    "duration": 1521,
    "start_time": "2022-04-21T09:17:20.090Z"
   },
   {
    "duration": 10,
    "start_time": "2022-04-21T09:17:24.036Z"
   },
   {
    "duration": 226,
    "start_time": "2022-04-21T09:20:53.191Z"
   },
   {
    "duration": 4,
    "start_time": "2022-04-21T09:21:15.560Z"
   },
   {
    "duration": 4,
    "start_time": "2022-04-21T09:21:19.656Z"
   },
   {
    "duration": 4,
    "start_time": "2022-04-21T09:21:39.671Z"
   },
   {
    "duration": 9,
    "start_time": "2022-04-21T09:22:09.702Z"
   },
   {
    "duration": 8,
    "start_time": "2022-04-21T09:22:16.814Z"
   },
   {
    "duration": 4,
    "start_time": "2022-04-21T09:22:21.383Z"
   },
   {
    "duration": 13,
    "start_time": "2022-04-21T09:22:28.742Z"
   },
   {
    "duration": 7,
    "start_time": "2022-04-21T09:22:31.096Z"
   },
   {
    "duration": 8,
    "start_time": "2022-04-21T09:22:40.470Z"
   },
   {
    "duration": 7,
    "start_time": "2022-04-21T09:22:56.587Z"
   },
   {
    "duration": 21,
    "start_time": "2022-04-21T09:24:00.876Z"
   },
   {
    "duration": 4,
    "start_time": "2022-04-21T09:24:05.509Z"
   },
   {
    "duration": 12,
    "start_time": "2022-04-21T09:24:07.996Z"
   },
   {
    "duration": 27,
    "start_time": "2022-04-21T09:24:17.365Z"
   },
   {
    "duration": 25,
    "start_time": "2022-04-21T09:24:47.453Z"
   },
   {
    "duration": 40,
    "start_time": "2022-04-21T09:24:54.131Z"
   },
   {
    "duration": 19,
    "start_time": "2022-04-21T09:28:00.228Z"
   },
   {
    "duration": 7,
    "start_time": "2022-04-21T09:28:10.296Z"
   },
   {
    "duration": 13,
    "start_time": "2022-04-21T09:28:13.257Z"
   },
   {
    "duration": 89,
    "start_time": "2022-04-21T09:28:24.809Z"
   },
   {
    "duration": 7,
    "start_time": "2022-04-21T09:28:25.652Z"
   },
   {
    "duration": 6,
    "start_time": "2022-04-21T09:28:44.054Z"
   },
   {
    "duration": 3,
    "start_time": "2022-04-21T09:28:51.609Z"
   },
   {
    "duration": 419,
    "start_time": "2022-04-21T09:28:51.784Z"
   },
   {
    "duration": 101,
    "start_time": "2022-04-21T09:28:54.761Z"
   },
   {
    "duration": 8,
    "start_time": "2022-04-21T09:28:54.985Z"
   },
   {
    "duration": 426,
    "start_time": "2022-04-21T09:29:00.946Z"
   },
   {
    "duration": 7,
    "start_time": "2022-04-21T09:29:04.695Z"
   },
   {
    "duration": 126,
    "start_time": "2022-04-21T09:29:06.602Z"
   },
   {
    "duration": 8,
    "start_time": "2022-04-21T09:29:07.072Z"
   },
   {
    "duration": 7,
    "start_time": "2022-04-21T09:29:16.312Z"
   },
   {
    "duration": 37,
    "start_time": "2022-04-21T09:29:25.657Z"
   },
   {
    "duration": 8,
    "start_time": "2022-04-21T09:29:25.887Z"
   },
   {
    "duration": 5,
    "start_time": "2022-04-21T09:29:34.858Z"
   },
   {
    "duration": 449,
    "start_time": "2022-04-21T09:29:35.058Z"
   },
   {
    "duration": 250,
    "start_time": "2022-04-21T09:29:35.510Z"
   },
   {
    "duration": 144,
    "start_time": "2022-04-21T09:29:35.762Z"
   },
   {
    "duration": 111,
    "start_time": "2022-04-21T09:29:35.908Z"
   },
   {
    "duration": 15,
    "start_time": "2022-04-21T09:29:36.201Z"
   },
   {
    "duration": 11,
    "start_time": "2022-04-21T09:29:36.359Z"
   },
   {
    "duration": 22,
    "start_time": "2022-04-21T09:29:40.755Z"
   },
   {
    "duration": 36,
    "start_time": "2022-04-21T09:29:42.254Z"
   },
   {
    "duration": 7,
    "start_time": "2022-04-21T09:29:43.296Z"
   },
   {
    "duration": 30,
    "start_time": "2022-04-21T09:29:59.170Z"
   },
   {
    "duration": 18,
    "start_time": "2022-04-21T09:32:29.798Z"
   },
   {
    "duration": 4,
    "start_time": "2022-04-21T09:33:26.415Z"
   },
   {
    "duration": 4,
    "start_time": "2022-04-21T09:33:29.620Z"
   },
   {
    "duration": 8,
    "start_time": "2022-04-21T09:33:36.172Z"
   },
   {
    "duration": 13,
    "start_time": "2022-04-21T09:33:39.700Z"
   },
   {
    "duration": 6,
    "start_time": "2022-04-21T09:33:40.276Z"
   },
   {
    "duration": 46,
    "start_time": "2022-04-21T09:33:49.781Z"
   },
   {
    "duration": 84,
    "start_time": "2022-04-21T09:41:02.596Z"
   },
   {
    "duration": 704,
    "start_time": "2022-04-21T09:41:12.461Z"
   },
   {
    "duration": 225,
    "start_time": "2022-04-21T09:41:42.879Z"
   },
   {
    "duration": 12,
    "start_time": "2022-04-21T09:41:47.217Z"
   },
   {
    "duration": 571,
    "start_time": "2022-04-21T09:41:57.153Z"
   },
   {
    "duration": 469,
    "start_time": "2022-04-21T09:42:08.868Z"
   },
   {
    "duration": 16,
    "start_time": "2022-04-21T09:42:29.189Z"
   },
   {
    "duration": 11,
    "start_time": "2022-04-21T09:42:34.690Z"
   },
   {
    "duration": 198,
    "start_time": "2022-04-21T09:42:48.024Z"
   },
   {
    "duration": 64,
    "start_time": "2022-04-21T09:45:40.061Z"
   },
   {
    "duration": 305,
    "start_time": "2022-04-21T09:46:01.290Z"
   },
   {
    "duration": 288,
    "start_time": "2022-04-21T09:47:42.368Z"
   },
   {
    "duration": 290,
    "start_time": "2022-04-21T09:48:26.561Z"
   },
   {
    "duration": 299,
    "start_time": "2022-04-21T09:48:39.913Z"
   },
   {
    "duration": 338,
    "start_time": "2022-04-21T09:49:39.944Z"
   },
   {
    "duration": 401,
    "start_time": "2022-04-21T09:50:57.692Z"
   },
   {
    "duration": 342,
    "start_time": "2022-04-21T09:51:15.853Z"
   },
   {
    "duration": 314,
    "start_time": "2022-04-21T09:51:24.875Z"
   },
   {
    "duration": 337,
    "start_time": "2022-04-21T09:51:47.324Z"
   },
   {
    "duration": 73,
    "start_time": "2022-04-21T09:52:23.377Z"
   },
   {
    "duration": 32,
    "start_time": "2022-04-21T09:52:48.593Z"
   },
   {
    "duration": 13,
    "start_time": "2022-04-21T09:52:57.307Z"
   },
   {
    "duration": 26,
    "start_time": "2022-04-21T09:52:57.323Z"
   },
   {
    "duration": 42,
    "start_time": "2022-04-21T09:53:20.005Z"
   },
   {
    "duration": 215,
    "start_time": "2022-04-21T09:53:31.691Z"
   },
   {
    "duration": 236,
    "start_time": "2022-04-21T09:54:19.020Z"
   },
   {
    "duration": 58,
    "start_time": "2022-04-21T09:54:21.154Z"
   },
   {
    "duration": 44,
    "start_time": "2022-04-21T09:54:28.482Z"
   },
   {
    "duration": 35,
    "start_time": "2022-04-21T09:54:46.773Z"
   },
   {
    "duration": 43,
    "start_time": "2022-04-21T09:55:02.473Z"
   },
   {
    "duration": 36,
    "start_time": "2022-04-21T09:55:08.611Z"
   },
   {
    "duration": 39,
    "start_time": "2022-04-21T09:55:17.123Z"
   },
   {
    "duration": 11,
    "start_time": "2022-04-21T09:56:07.890Z"
   },
   {
    "duration": 20,
    "start_time": "2022-04-21T09:56:16.298Z"
   },
   {
    "duration": 12,
    "start_time": "2022-04-21T09:56:31.306Z"
   },
   {
    "duration": 26,
    "start_time": "2022-04-21T09:56:35.194Z"
   },
   {
    "duration": 6,
    "start_time": "2022-04-21T09:56:53.017Z"
   },
   {
    "duration": 41,
    "start_time": "2022-04-21T09:56:57.757Z"
   },
   {
    "duration": 7,
    "start_time": "2022-04-21T09:57:05.596Z"
   },
   {
    "duration": 5,
    "start_time": "2022-04-21T09:57:15.427Z"
   },
   {
    "duration": 113,
    "start_time": "2022-04-21T09:57:50.749Z"
   },
   {
    "duration": 31,
    "start_time": "2022-04-21T09:57:59.853Z"
   },
   {
    "duration": 109,
    "start_time": "2022-04-21T09:58:17.077Z"
   },
   {
    "duration": 112,
    "start_time": "2022-04-21T09:59:03.191Z"
   },
   {
    "duration": 111,
    "start_time": "2022-04-21T10:00:13.672Z"
   },
   {
    "duration": 101,
    "start_time": "2022-04-21T10:00:17.694Z"
   },
   {
    "duration": 115,
    "start_time": "2022-04-21T10:00:25.880Z"
   },
   {
    "duration": 959,
    "start_time": "2022-04-21T10:00:30.855Z"
   },
   {
    "duration": 58,
    "start_time": "2022-04-21T10:00:42.488Z"
   },
   {
    "duration": 9,
    "start_time": "2022-04-21T10:00:59.568Z"
   },
   {
    "duration": 85,
    "start_time": "2022-04-21T10:01:06.221Z"
   },
   {
    "duration": 12,
    "start_time": "2022-04-21T10:01:09.988Z"
   },
   {
    "duration": 10,
    "start_time": "2022-04-21T10:01:17.357Z"
   },
   {
    "duration": 348,
    "start_time": "2022-04-21T10:01:23.005Z"
   },
   {
    "duration": 61,
    "start_time": "2022-04-21T10:01:50.957Z"
   },
   {
    "duration": 314,
    "start_time": "2022-04-21T10:01:54.775Z"
   },
   {
    "duration": 68,
    "start_time": "2022-04-21T10:02:16.797Z"
   },
   {
    "duration": 38,
    "start_time": "2022-04-21T10:02:32.957Z"
   },
   {
    "duration": 36,
    "start_time": "2022-04-21T10:02:43.960Z"
   },
   {
    "duration": 38,
    "start_time": "2022-04-21T10:02:49.393Z"
   },
   {
    "duration": 28,
    "start_time": "2022-04-21T10:02:53.804Z"
   },
   {
    "duration": 3,
    "start_time": "2022-04-21T10:06:25.397Z"
   },
   {
    "duration": 3439,
    "start_time": "2022-04-21T10:06:32.152Z"
   },
   {
    "duration": 254,
    "start_time": "2022-04-21T10:08:03.499Z"
   },
   {
    "duration": 11,
    "start_time": "2022-04-21T10:08:07.577Z"
   },
   {
    "duration": 14,
    "start_time": "2022-04-21T10:08:16.304Z"
   },
   {
    "duration": 12,
    "start_time": "2022-04-21T10:08:22.568Z"
   },
   {
    "duration": 12,
    "start_time": "2022-04-21T10:08:32.999Z"
   },
   {
    "duration": 20,
    "start_time": "2022-04-21T10:08:47.160Z"
   },
   {
    "duration": 20,
    "start_time": "2022-04-21T10:08:48.260Z"
   },
   {
    "duration": 19,
    "start_time": "2022-04-21T10:10:19.165Z"
   },
   {
    "duration": 17,
    "start_time": "2022-04-21T10:12:11.789Z"
   },
   {
    "duration": 11,
    "start_time": "2022-04-21T10:12:16.877Z"
   },
   {
    "duration": 16,
    "start_time": "2022-04-21T10:12:42.153Z"
   },
   {
    "duration": 14,
    "start_time": "2022-04-21T10:13:01.660Z"
   },
   {
    "duration": 6,
    "start_time": "2022-04-21T10:13:06.804Z"
   },
   {
    "duration": 11,
    "start_time": "2022-04-21T10:13:11.027Z"
   },
   {
    "duration": 13,
    "start_time": "2022-04-21T10:16:17.232Z"
   },
   {
    "duration": 14,
    "start_time": "2022-04-21T10:21:27.865Z"
   },
   {
    "duration": 52,
    "start_time": "2022-04-21T10:21:38.692Z"
   },
   {
    "duration": 11,
    "start_time": "2022-04-21T10:53:19.401Z"
   },
   {
    "duration": 440,
    "start_time": "2022-04-21T10:53:25.059Z"
   },
   {
    "duration": 9,
    "start_time": "2022-04-21T10:56:33.814Z"
   },
   {
    "duration": 10,
    "start_time": "2022-04-21T10:56:35.494Z"
   },
   {
    "duration": 11,
    "start_time": "2022-04-21T10:56:39.747Z"
   },
   {
    "duration": 8,
    "start_time": "2022-04-21T10:56:45.955Z"
   },
   {
    "duration": 6,
    "start_time": "2022-04-21T10:56:55.359Z"
   },
   {
    "duration": 6,
    "start_time": "2022-04-21T11:00:43.627Z"
   },
   {
    "duration": 6,
    "start_time": "2022-04-21T11:00:53.386Z"
   },
   {
    "duration": 8,
    "start_time": "2022-04-21T11:00:57.410Z"
   },
   {
    "duration": 10,
    "start_time": "2022-04-21T11:01:01.151Z"
   },
   {
    "duration": 17,
    "start_time": "2022-04-21T11:07:06.588Z"
   },
   {
    "duration": 4,
    "start_time": "2022-04-21T11:08:22.726Z"
   },
   {
    "duration": 21,
    "start_time": "2022-04-21T11:08:25.736Z"
   },
   {
    "duration": 4,
    "start_time": "2022-04-21T11:15:29.482Z"
   },
   {
    "duration": 11,
    "start_time": "2022-04-21T11:15:29.987Z"
   },
   {
    "duration": 390,
    "start_time": "2022-04-21T11:15:35.545Z"
   },
   {
    "duration": 231,
    "start_time": "2022-04-21T11:15:35.940Z"
   },
   {
    "duration": 109,
    "start_time": "2022-04-21T11:15:36.173Z"
   },
   {
    "duration": 99,
    "start_time": "2022-04-21T11:15:36.285Z"
   },
   {
    "duration": 13,
    "start_time": "2022-04-21T11:15:36.386Z"
   },
   {
    "duration": 10,
    "start_time": "2022-04-21T11:15:36.505Z"
   },
   {
    "duration": 23,
    "start_time": "2022-04-21T11:15:36.654Z"
   },
   {
    "duration": 107,
    "start_time": "2022-04-21T11:15:37.058Z"
   },
   {
    "duration": 20,
    "start_time": "2022-04-21T11:15:38.554Z"
   },
   {
    "duration": 19,
    "start_time": "2022-04-21T11:15:38.674Z"
   },
   {
    "duration": 13,
    "start_time": "2022-04-21T11:15:38.810Z"
   },
   {
    "duration": 306,
    "start_time": "2022-04-21T11:15:38.959Z"
   },
   {
    "duration": 47,
    "start_time": "2022-04-21T11:15:39.268Z"
   },
   {
    "duration": 446,
    "start_time": "2022-04-21T11:15:39.316Z"
   },
   {
    "duration": 7,
    "start_time": "2022-04-21T11:15:40.758Z"
   },
   {
    "duration": 17,
    "start_time": "2022-04-21T11:15:41.350Z"
   },
   {
    "duration": 11,
    "start_time": "2022-04-21T11:19:19.523Z"
   },
   {
    "duration": 20,
    "start_time": "2022-04-21T11:20:29.342Z"
   },
   {
    "duration": 12,
    "start_time": "2022-04-21T11:20:37.710Z"
   },
   {
    "duration": 10,
    "start_time": "2022-04-21T11:20:43.310Z"
   },
   {
    "duration": 11,
    "start_time": "2022-04-21T11:23:23.597Z"
   },
   {
    "duration": 17,
    "start_time": "2022-04-21T11:23:35.870Z"
   },
   {
    "duration": 11,
    "start_time": "2022-04-21T11:24:15.507Z"
   },
   {
    "duration": 189,
    "start_time": "2022-04-21T11:24:26.471Z"
   },
   {
    "duration": 298,
    "start_time": "2022-04-21T11:24:31.291Z"
   },
   {
    "duration": 13,
    "start_time": "2022-04-21T11:24:48.787Z"
   },
   {
    "duration": 4,
    "start_time": "2022-04-21T11:24:58.782Z"
   },
   {
    "duration": 13,
    "start_time": "2022-04-21T11:25:09.855Z"
   },
   {
    "duration": 16,
    "start_time": "2022-04-21T11:25:10.071Z"
   },
   {
    "duration": 172,
    "start_time": "2022-04-21T11:26:47.514Z"
   },
   {
    "duration": 43,
    "start_time": "2022-04-21T11:27:23.463Z"
   },
   {
    "duration": 54,
    "start_time": "2022-04-21T11:27:28.299Z"
   },
   {
    "duration": 20,
    "start_time": "2022-04-21T11:27:41.459Z"
   },
   {
    "duration": 34,
    "start_time": "2022-04-21T11:27:55.764Z"
   },
   {
    "duration": 13,
    "start_time": "2022-04-21T11:28:08.787Z"
   },
   {
    "duration": 39,
    "start_time": "2022-04-21T11:28:14.033Z"
   },
   {
    "duration": 34,
    "start_time": "2022-04-21T11:28:24.922Z"
   },
   {
    "duration": 27,
    "start_time": "2022-04-21T11:28:33.667Z"
   },
   {
    "duration": 38,
    "start_time": "2022-04-21T11:28:50.513Z"
   },
   {
    "duration": 34,
    "start_time": "2022-04-21T11:28:55.425Z"
   },
   {
    "duration": 12,
    "start_time": "2022-04-21T11:30:16.371Z"
   },
   {
    "duration": 6,
    "start_time": "2022-04-21T11:34:01.264Z"
   },
   {
    "duration": 10,
    "start_time": "2022-04-21T11:37:42.382Z"
   },
   {
    "duration": 8,
    "start_time": "2022-04-21T11:37:53.210Z"
   },
   {
    "duration": 12,
    "start_time": "2022-04-21T11:38:10.764Z"
   },
   {
    "duration": 49,
    "start_time": "2022-04-21T11:42:49.178Z"
   },
   {
    "duration": 54,
    "start_time": "2022-04-21T11:43:32.758Z"
   },
   {
    "duration": 63,
    "start_time": "2022-04-21T11:43:37.407Z"
   },
   {
    "duration": 62,
    "start_time": "2022-04-21T11:43:47.920Z"
   },
   {
    "duration": 17,
    "start_time": "2022-04-21T11:43:55.229Z"
   },
   {
    "duration": 211,
    "start_time": "2022-04-21T11:44:05.998Z"
   },
   {
    "duration": 417,
    "start_time": "2022-04-21T11:44:11.984Z"
   },
   {
    "duration": 237,
    "start_time": "2022-04-21T11:44:12.953Z"
   },
   {
    "duration": 60,
    "start_time": "2022-04-21T11:44:26.872Z"
   },
   {
    "duration": 13,
    "start_time": "2022-04-21T11:44:32.394Z"
   },
   {
    "duration": 1442,
    "start_time": "2022-04-21T11:44:59.657Z"
   },
   {
    "duration": 444,
    "start_time": "2022-04-21T11:45:01.101Z"
   },
   {
    "duration": 306,
    "start_time": "2022-04-21T11:45:01.547Z"
   },
   {
    "duration": 126,
    "start_time": "2022-04-21T11:45:01.856Z"
   },
   {
    "duration": 122,
    "start_time": "2022-04-21T11:45:01.985Z"
   },
   {
    "duration": 13,
    "start_time": "2022-04-21T11:45:02.109Z"
   },
   {
    "duration": 35,
    "start_time": "2022-04-21T11:45:02.124Z"
   },
   {
    "duration": 55,
    "start_time": "2022-04-21T11:45:02.161Z"
   },
   {
    "duration": 95,
    "start_time": "2022-04-21T11:45:02.217Z"
   },
   {
    "duration": 22,
    "start_time": "2022-04-21T11:45:02.315Z"
   },
   {
    "duration": 52,
    "start_time": "2022-04-21T11:45:02.341Z"
   },
   {
    "duration": 14,
    "start_time": "2022-04-21T11:45:02.395Z"
   },
   {
    "duration": 471,
    "start_time": "2022-04-21T11:45:02.411Z"
   },
   {
    "duration": 61,
    "start_time": "2022-04-21T11:45:02.885Z"
   },
   {
    "duration": 460,
    "start_time": "2022-04-21T11:45:02.948Z"
   },
   {
    "duration": 3,
    "start_time": "2022-04-21T11:45:03.410Z"
   },
   {
    "duration": 35,
    "start_time": "2022-04-21T11:45:03.415Z"
   },
   {
    "duration": 37,
    "start_time": "2022-04-21T11:45:03.453Z"
   },
   {
    "duration": 8,
    "start_time": "2022-04-21T11:45:03.492Z"
   },
   {
    "duration": 74,
    "start_time": "2022-04-21T11:45:03.502Z"
   },
   {
    "duration": 12,
    "start_time": "2022-04-21T11:45:03.580Z"
   },
   {
    "duration": 481,
    "start_time": "2022-04-21T11:46:53.220Z"
   },
   {
    "duration": 292,
    "start_time": "2022-04-21T11:46:53.703Z"
   },
   {
    "duration": 130,
    "start_time": "2022-04-21T11:46:53.997Z"
   },
   {
    "duration": 132,
    "start_time": "2022-04-21T11:46:54.357Z"
   },
   {
    "duration": 12,
    "start_time": "2022-04-21T11:47:00.981Z"
   },
   {
    "duration": 23,
    "start_time": "2022-04-21T11:47:01.163Z"
   },
   {
    "duration": 21,
    "start_time": "2022-04-21T11:47:01.301Z"
   },
   {
    "duration": 86,
    "start_time": "2022-04-21T11:47:01.782Z"
   },
   {
    "duration": 57,
    "start_time": "2022-04-21T11:47:18.062Z"
   },
   {
    "duration": 471,
    "start_time": "2022-04-21T11:47:26.723Z"
   },
   {
    "duration": 239,
    "start_time": "2022-04-21T11:47:28.265Z"
   },
   {
    "duration": 62,
    "start_time": "2022-04-21T11:47:35.134Z"
   },
   {
    "duration": 118,
    "start_time": "2022-04-21T11:47:42.505Z"
   },
   {
    "duration": 35,
    "start_time": "2022-04-21T11:47:45.492Z"
   },
   {
    "duration": 21,
    "start_time": "2022-04-21T11:47:54.561Z"
   },
   {
    "duration": 14,
    "start_time": "2022-04-21T11:47:54.876Z"
   },
   {
    "duration": 10,
    "start_time": "2022-04-21T11:47:55.110Z"
   },
   {
    "duration": 322,
    "start_time": "2022-04-21T11:47:55.553Z"
   },
   {
    "duration": 55,
    "start_time": "2022-04-21T11:48:00.361Z"
   },
   {
    "duration": 9,
    "start_time": "2022-04-21T11:48:06.561Z"
   },
   {
    "duration": 35,
    "start_time": "2022-04-21T11:48:09.580Z"
   },
   {
    "duration": 14,
    "start_time": "2022-04-21T11:48:19.803Z"
   },
   {
    "duration": 5,
    "start_time": "2022-04-21T11:48:20.304Z"
   },
   {
    "duration": 47,
    "start_time": "2022-04-21T11:48:21.085Z"
   },
   {
    "duration": 6,
    "start_time": "2022-04-21T11:48:31.861Z"
   },
   {
    "duration": 421,
    "start_time": "2022-04-21T11:48:32.092Z"
   },
   {
    "duration": 252,
    "start_time": "2022-04-21T11:48:32.515Z"
   },
   {
    "duration": 113,
    "start_time": "2022-04-21T11:48:32.768Z"
   },
   {
    "duration": 106,
    "start_time": "2022-04-21T11:48:32.885Z"
   },
   {
    "duration": 11,
    "start_time": "2022-04-21T11:48:32.993Z"
   },
   {
    "duration": 16,
    "start_time": "2022-04-21T11:48:33.006Z"
   },
   {
    "duration": 18,
    "start_time": "2022-04-21T11:48:33.092Z"
   },
   {
    "duration": 83,
    "start_time": "2022-04-21T11:48:33.690Z"
   },
   {
    "duration": 13,
    "start_time": "2022-04-21T11:48:34.124Z"
   },
   {
    "duration": 27,
    "start_time": "2022-04-21T11:48:34.253Z"
   },
   {
    "duration": 18,
    "start_time": "2022-04-21T11:48:34.360Z"
   },
   {
    "duration": 310,
    "start_time": "2022-04-21T11:48:34.472Z"
   },
   {
    "duration": 64,
    "start_time": "2022-04-21T11:48:34.785Z"
   },
   {
    "duration": 450,
    "start_time": "2022-04-21T11:48:34.851Z"
   },
   {
    "duration": 4,
    "start_time": "2022-04-21T11:48:35.477Z"
   },
   {
    "duration": 10,
    "start_time": "2022-04-21T11:48:35.612Z"
   },
   {
    "duration": 19,
    "start_time": "2022-04-21T11:48:35.748Z"
   },
   {
    "duration": 5,
    "start_time": "2022-04-21T11:48:35.861Z"
   },
   {
    "duration": 65,
    "start_time": "2022-04-21T11:48:36.412Z"
   },
   {
    "duration": 12,
    "start_time": "2022-04-21T11:48:36.577Z"
   },
   {
    "duration": 3,
    "start_time": "2022-04-21T11:48:52.517Z"
   },
   {
    "duration": 395,
    "start_time": "2022-04-21T11:48:52.626Z"
   },
   {
    "duration": 250,
    "start_time": "2022-04-21T11:48:53.023Z"
   },
   {
    "duration": 128,
    "start_time": "2022-04-21T11:48:53.275Z"
   },
   {
    "duration": 112,
    "start_time": "2022-04-21T11:48:53.405Z"
   },
   {
    "duration": 27,
    "start_time": "2022-04-21T11:48:53.519Z"
   },
   {
    "duration": 42,
    "start_time": "2022-04-21T11:48:53.548Z"
   },
   {
    "duration": 19,
    "start_time": "2022-04-21T11:48:53.592Z"
   },
   {
    "duration": 92,
    "start_time": "2022-04-21T11:48:53.721Z"
   },
   {
    "duration": 64,
    "start_time": "2022-04-21T11:48:59.522Z"
   },
   {
    "duration": 3,
    "start_time": "2022-04-21T11:49:05.122Z"
   },
   {
    "duration": 402,
    "start_time": "2022-04-21T11:49:05.401Z"
   },
   {
    "duration": 268,
    "start_time": "2022-04-21T11:49:05.805Z"
   },
   {
    "duration": 102,
    "start_time": "2022-04-21T11:49:06.901Z"
   },
   {
    "duration": 99,
    "start_time": "2022-04-21T11:49:07.618Z"
   },
   {
    "duration": 1347,
    "start_time": "2022-04-21T11:49:25.525Z"
   },
   {
    "duration": 437,
    "start_time": "2022-04-21T11:49:26.876Z"
   },
   {
    "duration": 259,
    "start_time": "2022-04-21T11:49:27.315Z"
   },
   {
    "duration": 114,
    "start_time": "2022-04-21T11:49:27.580Z"
   },
   {
    "duration": 130,
    "start_time": "2022-04-21T11:49:27.696Z"
   },
   {
    "duration": 25,
    "start_time": "2022-04-21T11:49:27.828Z"
   },
   {
    "duration": 38,
    "start_time": "2022-04-21T11:49:27.856Z"
   },
   {
    "duration": 21,
    "start_time": "2022-04-21T11:49:27.896Z"
   },
   {
    "duration": 93,
    "start_time": "2022-04-21T11:49:27.919Z"
   },
   {
    "duration": 12,
    "start_time": "2022-04-21T11:49:28.015Z"
   },
   {
    "duration": 55,
    "start_time": "2022-04-21T11:49:28.033Z"
   },
   {
    "duration": 12,
    "start_time": "2022-04-21T11:49:28.090Z"
   },
   {
    "duration": 423,
    "start_time": "2022-04-21T11:49:28.104Z"
   },
   {
    "duration": 71,
    "start_time": "2022-04-21T11:49:28.529Z"
   },
   {
    "duration": 467,
    "start_time": "2022-04-21T11:49:28.602Z"
   },
   {
    "duration": 7,
    "start_time": "2022-04-21T11:49:29.072Z"
   },
   {
    "duration": 16,
    "start_time": "2022-04-21T11:49:29.081Z"
   },
   {
    "duration": 13,
    "start_time": "2022-04-21T11:49:29.099Z"
   },
   {
    "duration": 7,
    "start_time": "2022-04-21T11:49:29.114Z"
   },
   {
    "duration": 71,
    "start_time": "2022-04-21T11:49:29.139Z"
   },
   {
    "duration": 11,
    "start_time": "2022-04-21T11:49:29.211Z"
   },
   {
    "duration": 109,
    "start_time": "2022-04-21T11:57:00.753Z"
   },
   {
    "duration": 109,
    "start_time": "2022-04-21T11:57:03.105Z"
   },
   {
    "duration": 3,
    "start_time": "2022-04-21T11:57:10.241Z"
   },
   {
    "duration": 1024,
    "start_time": "2022-04-21T11:57:18.577Z"
   },
   {
    "duration": 14,
    "start_time": "2022-04-21T11:58:53.700Z"
   },
   {
    "duration": 54,
    "start_time": "2022-04-21T11:58:59.274Z"
   },
   {
    "duration": 6,
    "start_time": "2022-04-21T12:00:14.631Z"
   },
   {
    "duration": 15,
    "start_time": "2022-04-21T12:00:38.198Z"
   },
   {
    "duration": 23,
    "start_time": "2022-04-21T12:00:45.568Z"
   },
   {
    "duration": 10,
    "start_time": "2022-04-21T12:02:31.510Z"
   },
   {
    "duration": 10,
    "start_time": "2022-04-21T12:02:42.397Z"
   },
   {
    "duration": 75,
    "start_time": "2022-04-21T12:02:46.630Z"
   },
   {
    "duration": 33,
    "start_time": "2022-04-21T12:02:57.596Z"
   },
   {
    "duration": 29,
    "start_time": "2022-04-21T12:03:32.125Z"
   },
   {
    "duration": 144,
    "start_time": "2022-04-21T12:03:38.515Z"
   },
   {
    "duration": 116,
    "start_time": "2022-04-21T12:03:44.574Z"
   },
   {
    "duration": 141,
    "start_time": "2022-04-21T12:03:54.074Z"
   },
   {
    "duration": 123,
    "start_time": "2022-04-21T12:04:11.070Z"
   },
   {
    "duration": 107,
    "start_time": "2022-04-21T12:04:18.254Z"
   },
   {
    "duration": 137,
    "start_time": "2022-04-21T12:04:29.484Z"
   },
   {
    "duration": 23,
    "start_time": "2022-04-21T12:07:04.202Z"
   },
   {
    "duration": 21,
    "start_time": "2022-04-21T12:07:19.150Z"
   },
   {
    "duration": 26,
    "start_time": "2022-04-21T12:07:45.566Z"
   },
   {
    "duration": 37,
    "start_time": "2022-04-21T12:07:57.123Z"
   },
   {
    "duration": 1496,
    "start_time": "2022-04-21T12:08:23.327Z"
   },
   {
    "duration": 478,
    "start_time": "2022-04-21T12:08:24.826Z"
   },
   {
    "duration": 276,
    "start_time": "2022-04-21T12:08:25.305Z"
   },
   {
    "duration": 127,
    "start_time": "2022-04-21T12:08:25.583Z"
   },
   {
    "duration": 113,
    "start_time": "2022-04-21T12:08:25.712Z"
   },
   {
    "duration": 24,
    "start_time": "2022-04-21T12:08:25.827Z"
   },
   {
    "duration": 33,
    "start_time": "2022-04-21T12:08:25.856Z"
   },
   {
    "duration": 23,
    "start_time": "2022-04-21T12:08:25.891Z"
   },
   {
    "duration": 95,
    "start_time": "2022-04-21T12:08:25.916Z"
   },
   {
    "duration": 36,
    "start_time": "2022-04-21T12:08:26.015Z"
   },
   {
    "duration": 39,
    "start_time": "2022-04-21T12:08:26.054Z"
   },
   {
    "duration": 9,
    "start_time": "2022-04-21T12:08:26.095Z"
   },
   {
    "duration": 464,
    "start_time": "2022-04-21T12:08:26.106Z"
   },
   {
    "duration": 50,
    "start_time": "2022-04-21T12:08:26.577Z"
   },
   {
    "duration": 537,
    "start_time": "2022-04-21T12:08:26.634Z"
   },
   {
    "duration": 5,
    "start_time": "2022-04-21T12:08:27.173Z"
   },
   {
    "duration": 14,
    "start_time": "2022-04-21T12:08:27.181Z"
   },
   {
    "duration": 15,
    "start_time": "2022-04-21T12:08:27.196Z"
   },
   {
    "duration": 8,
    "start_time": "2022-04-21T12:08:27.213Z"
   },
   {
    "duration": 102,
    "start_time": "2022-04-21T12:08:27.222Z"
   },
   {
    "duration": 66,
    "start_time": "2022-04-21T12:08:27.326Z"
   },
   {
    "duration": 1116,
    "start_time": "2022-04-21T12:08:27.394Z"
   },
   {
    "duration": 0,
    "start_time": "2022-04-21T12:08:28.512Z"
   },
   {
    "duration": 1474,
    "start_time": "2022-04-21T12:08:58.077Z"
   },
   {
    "duration": 444,
    "start_time": "2022-04-21T12:08:59.555Z"
   },
   {
    "duration": 281,
    "start_time": "2022-04-21T12:09:00.001Z"
   },
   {
    "duration": 122,
    "start_time": "2022-04-21T12:09:00.284Z"
   },
   {
    "duration": 120,
    "start_time": "2022-04-21T12:09:00.409Z"
   },
   {
    "duration": 32,
    "start_time": "2022-04-21T12:09:00.531Z"
   },
   {
    "duration": 34,
    "start_time": "2022-04-21T12:09:00.565Z"
   },
   {
    "duration": 36,
    "start_time": "2022-04-21T12:09:00.601Z"
   },
   {
    "duration": 104,
    "start_time": "2022-04-21T12:09:00.639Z"
   },
   {
    "duration": 60,
    "start_time": "2022-04-21T12:09:00.745Z"
   },
   {
    "duration": 6,
    "start_time": "2022-04-21T12:09:00.807Z"
   },
   {
    "duration": 39,
    "start_time": "2022-04-21T12:09:00.814Z"
   },
   {
    "duration": 21,
    "start_time": "2022-04-21T12:09:00.856Z"
   },
   {
    "duration": 429,
    "start_time": "2022-04-21T12:09:00.881Z"
   },
   {
    "duration": 73,
    "start_time": "2022-04-21T12:09:01.312Z"
   },
   {
    "duration": 548,
    "start_time": "2022-04-21T12:09:01.387Z"
   },
   {
    "duration": 12,
    "start_time": "2022-04-21T12:09:01.938Z"
   },
   {
    "duration": 44,
    "start_time": "2022-04-21T12:09:01.952Z"
   },
   {
    "duration": 14,
    "start_time": "2022-04-21T12:09:01.998Z"
   },
   {
    "duration": 9,
    "start_time": "2022-04-21T12:09:02.014Z"
   },
   {
    "duration": 81,
    "start_time": "2022-04-21T12:09:02.026Z"
   },
   {
    "duration": 34,
    "start_time": "2022-04-21T12:09:02.109Z"
   },
   {
    "duration": 41,
    "start_time": "2022-04-21T12:09:02.150Z"
   },
   {
    "duration": 13,
    "start_time": "2022-04-21T12:09:02.193Z"
   },
   {
    "duration": 50,
    "start_time": "2022-04-21T12:11:04.977Z"
   },
   {
    "duration": 53,
    "start_time": "2022-04-21T12:11:08.250Z"
   },
   {
    "duration": 2438,
    "start_time": "2022-04-21T12:12:23.789Z"
   },
   {
    "duration": 333,
    "start_time": "2022-04-21T12:17:10.569Z"
   },
   {
    "duration": 445,
    "start_time": "2022-04-21T12:17:15.078Z"
   },
   {
    "duration": 331,
    "start_time": "2022-04-21T12:17:18.920Z"
   },
   {
    "duration": 334,
    "start_time": "2022-04-21T12:17:27.170Z"
   },
   {
    "duration": 349,
    "start_time": "2022-04-21T12:17:33.258Z"
   },
   {
    "duration": 330,
    "start_time": "2022-04-21T12:17:36.095Z"
   },
   {
    "duration": 367,
    "start_time": "2022-04-21T12:17:39.431Z"
   },
   {
    "duration": 340,
    "start_time": "2022-04-21T12:17:42.869Z"
   },
   {
    "duration": 1472,
    "start_time": "2022-04-21T12:17:55.168Z"
   },
   {
    "duration": 474,
    "start_time": "2022-04-21T12:17:56.642Z"
   },
   {
    "duration": 285,
    "start_time": "2022-04-21T12:17:57.117Z"
   },
   {
    "duration": 140,
    "start_time": "2022-04-21T12:17:57.404Z"
   },
   {
    "duration": 129,
    "start_time": "2022-04-21T12:17:57.547Z"
   },
   {
    "duration": 13,
    "start_time": "2022-04-21T12:17:57.678Z"
   },
   {
    "duration": 16,
    "start_time": "2022-04-21T12:17:57.693Z"
   },
   {
    "duration": 62,
    "start_time": "2022-04-21T12:17:57.711Z"
   },
   {
    "duration": 118,
    "start_time": "2022-04-21T12:17:57.775Z"
   },
   {
    "duration": 57,
    "start_time": "2022-04-21T12:17:57.895Z"
   },
   {
    "duration": 9,
    "start_time": "2022-04-21T12:17:57.954Z"
   },
   {
    "duration": 38,
    "start_time": "2022-04-21T12:17:57.964Z"
   },
   {
    "duration": 14,
    "start_time": "2022-04-21T12:17:58.005Z"
   },
   {
    "duration": 404,
    "start_time": "2022-04-21T12:17:58.023Z"
   },
   {
    "duration": 74,
    "start_time": "2022-04-21T12:17:58.430Z"
   },
   {
    "duration": 561,
    "start_time": "2022-04-21T12:17:58.506Z"
   },
   {
    "duration": 6,
    "start_time": "2022-04-21T12:17:59.069Z"
   },
   {
    "duration": 26,
    "start_time": "2022-04-21T12:17:59.079Z"
   },
   {
    "duration": 14,
    "start_time": "2022-04-21T12:17:59.107Z"
   },
   {
    "duration": 7,
    "start_time": "2022-04-21T12:17:59.123Z"
   },
   {
    "duration": 93,
    "start_time": "2022-04-21T12:17:59.131Z"
   },
   {
    "duration": 2348,
    "start_time": "2022-04-21T12:17:59.226Z"
   },
   {
    "duration": 17,
    "start_time": "2022-04-21T12:18:01.577Z"
   },
   {
    "duration": 1453,
    "start_time": "2022-04-21T12:18:31.869Z"
   },
   {
    "duration": 458,
    "start_time": "2022-04-21T12:18:33.324Z"
   },
   {
    "duration": 296,
    "start_time": "2022-04-21T12:18:33.785Z"
   },
   {
    "duration": 127,
    "start_time": "2022-04-21T12:18:34.087Z"
   },
   {
    "duration": 123,
    "start_time": "2022-04-21T12:18:34.217Z"
   },
   {
    "duration": 29,
    "start_time": "2022-04-21T12:18:34.344Z"
   },
   {
    "duration": 29,
    "start_time": "2022-04-21T12:18:34.377Z"
   },
   {
    "duration": 38,
    "start_time": "2022-04-21T12:18:34.408Z"
   },
   {
    "duration": 99,
    "start_time": "2022-04-21T12:18:34.448Z"
   },
   {
    "duration": 26,
    "start_time": "2022-04-21T12:18:34.549Z"
   },
   {
    "duration": 36,
    "start_time": "2022-04-21T12:18:34.578Z"
   },
   {
    "duration": 12,
    "start_time": "2022-04-21T12:18:34.616Z"
   },
   {
    "duration": 487,
    "start_time": "2022-04-21T12:18:34.642Z"
   },
   {
    "duration": 75,
    "start_time": "2022-04-21T12:18:35.136Z"
   },
   {
    "duration": 504,
    "start_time": "2022-04-21T12:18:35.213Z"
   },
   {
    "duration": 4,
    "start_time": "2022-04-21T12:18:35.719Z"
   },
   {
    "duration": 23,
    "start_time": "2022-04-21T12:18:35.740Z"
   },
   {
    "duration": 46,
    "start_time": "2022-04-21T12:18:35.765Z"
   },
   {
    "duration": 8,
    "start_time": "2022-04-21T12:18:35.813Z"
   },
   {
    "duration": 72,
    "start_time": "2022-04-21T12:18:35.823Z"
   },
   {
    "duration": 1061,
    "start_time": "2022-04-21T12:18:35.898Z"
   },
   {
    "duration": 0,
    "start_time": "2022-04-21T12:18:36.962Z"
   },
   {
    "duration": 1339,
    "start_time": "2022-04-21T12:28:23.068Z"
   },
   {
    "duration": 429,
    "start_time": "2022-04-21T12:28:24.409Z"
   },
   {
    "duration": 247,
    "start_time": "2022-04-21T12:28:24.840Z"
   },
   {
    "duration": 138,
    "start_time": "2022-04-21T12:28:25.090Z"
   },
   {
    "duration": 133,
    "start_time": "2022-04-21T12:28:25.230Z"
   },
   {
    "duration": 17,
    "start_time": "2022-04-21T12:28:25.365Z"
   },
   {
    "duration": 19,
    "start_time": "2022-04-21T12:28:25.384Z"
   },
   {
    "duration": 65,
    "start_time": "2022-04-21T12:28:25.405Z"
   },
   {
    "duration": 125,
    "start_time": "2022-04-21T12:28:25.475Z"
   },
   {
    "duration": 34,
    "start_time": "2022-04-21T12:28:25.604Z"
   },
   {
    "duration": 62,
    "start_time": "2022-04-21T12:28:25.640Z"
   },
   {
    "duration": 16,
    "start_time": "2022-04-21T12:28:25.705Z"
   },
   {
    "duration": 463,
    "start_time": "2022-04-21T12:28:25.724Z"
   },
   {
    "duration": 80,
    "start_time": "2022-04-21T12:28:26.190Z"
   },
   {
    "duration": 461,
    "start_time": "2022-04-21T12:28:26.272Z"
   },
   {
    "duration": 12,
    "start_time": "2022-04-21T12:28:26.735Z"
   },
   {
    "duration": 75,
    "start_time": "2022-04-21T12:28:26.749Z"
   },
   {
    "duration": 43,
    "start_time": "2022-04-21T12:28:26.826Z"
   },
   {
    "duration": 11,
    "start_time": "2022-04-21T12:28:26.871Z"
   },
   {
    "duration": 53,
    "start_time": "2022-04-21T12:28:26.885Z"
   },
   {
    "duration": 79,
    "start_time": "2022-04-21T12:34:30.955Z"
   },
   {
    "duration": 55,
    "start_time": "2022-04-21T12:34:38.721Z"
   },
   {
    "duration": 85,
    "start_time": "2022-04-21T12:34:41.632Z"
   },
   {
    "duration": 104,
    "start_time": "2022-04-21T12:35:05.225Z"
   },
   {
    "duration": 44,
    "start_time": "2022-04-21T12:35:08.584Z"
   },
   {
    "duration": 7,
    "start_time": "2022-04-21T12:41:39.859Z"
   },
   {
    "duration": 414,
    "start_time": "2022-04-21T12:41:46.655Z"
   },
   {
    "duration": 6,
    "start_time": "2022-04-21T12:41:49.586Z"
   },
   {
    "duration": 645,
    "start_time": "2022-04-21T12:41:55.164Z"
   },
   {
    "duration": 6,
    "start_time": "2022-04-21T12:42:21.691Z"
   },
   {
    "duration": 7,
    "start_time": "2022-04-21T12:42:28.164Z"
   },
   {
    "duration": 85,
    "start_time": "2022-04-21T12:43:02.251Z"
   },
   {
    "duration": 281,
    "start_time": "2022-04-21T12:43:11.137Z"
   },
   {
    "duration": 6,
    "start_time": "2022-04-21T12:43:16.995Z"
   },
   {
    "duration": 63,
    "start_time": "2022-04-21T12:43:45.361Z"
   },
   {
    "duration": 5,
    "start_time": "2022-04-21T12:43:52.185Z"
   },
   {
    "duration": 396,
    "start_time": "2022-04-21T12:44:10.321Z"
   },
   {
    "duration": 56,
    "start_time": "2022-04-21T12:44:13.921Z"
   },
   {
    "duration": 58,
    "start_time": "2022-04-21T12:44:21.090Z"
   },
   {
    "duration": 15,
    "start_time": "2022-04-21T12:44:31.762Z"
   },
   {
    "duration": 14,
    "start_time": "2022-04-21T12:44:33.912Z"
   },
   {
    "duration": 4,
    "start_time": "2022-04-21T12:45:09.927Z"
   },
   {
    "duration": 10,
    "start_time": "2022-04-21T12:45:10.257Z"
   },
   {
    "duration": 10,
    "start_time": "2022-04-21T12:45:11.377Z"
   },
   {
    "duration": 4,
    "start_time": "2022-04-21T12:45:28.409Z"
   },
   {
    "duration": 54,
    "start_time": "2022-04-21T12:45:30.817Z"
   },
   {
    "duration": 345,
    "start_time": "2022-04-21T12:51:04.565Z"
   },
   {
    "duration": 16,
    "start_time": "2022-04-21T12:51:07.180Z"
   },
   {
    "duration": 267,
    "start_time": "2022-04-21T12:52:50.650Z"
   },
   {
    "duration": 12,
    "start_time": "2022-04-21T12:52:51.699Z"
   },
   {
    "duration": 263,
    "start_time": "2022-04-21T12:53:51.690Z"
   },
   {
    "duration": 12,
    "start_time": "2022-04-21T12:53:52.890Z"
   },
   {
    "duration": 8,
    "start_time": "2022-04-21T12:54:21.834Z"
   },
   {
    "duration": 14,
    "start_time": "2022-04-21T13:02:27.300Z"
   },
   {
    "duration": 6,
    "start_time": "2022-04-21T13:03:04.949Z"
   },
   {
    "duration": 120,
    "start_time": "2022-04-21T13:03:11.036Z"
   },
   {
    "duration": 5,
    "start_time": "2022-04-21T13:03:15.923Z"
   },
   {
    "duration": 14,
    "start_time": "2022-04-21T13:03:22.075Z"
   },
   {
    "duration": 34,
    "start_time": "2022-04-21T13:04:02.747Z"
   },
   {
    "duration": 266,
    "start_time": "2022-04-21T13:04:58.644Z"
   },
   {
    "duration": 228,
    "start_time": "2022-04-21T13:05:28.083Z"
   },
   {
    "duration": 292,
    "start_time": "2022-04-21T13:06:25.299Z"
   },
   {
    "duration": 285,
    "start_time": "2022-04-21T13:06:42.163Z"
   },
   {
    "duration": 281,
    "start_time": "2022-04-21T13:06:48.010Z"
   },
   {
    "duration": 11,
    "start_time": "2022-04-21T13:07:48.937Z"
   },
   {
    "duration": 14,
    "start_time": "2022-04-21T13:08:10.034Z"
   },
   {
    "duration": 3259,
    "start_time": "2022-04-21T13:09:56.596Z"
   },
   {
    "duration": 15,
    "start_time": "2022-04-21T13:10:13.367Z"
   },
   {
    "duration": 3040,
    "start_time": "2022-04-21T13:10:48.695Z"
   },
   {
    "duration": 3182,
    "start_time": "2022-04-21T13:11:16.759Z"
   },
   {
    "duration": 487,
    "start_time": "2022-04-21T13:11:40.926Z"
   },
   {
    "duration": 485,
    "start_time": "2022-04-21T13:11:59.591Z"
   },
   {
    "duration": 280,
    "start_time": "2022-04-21T13:12:09.613Z"
   },
   {
    "duration": 322,
    "start_time": "2022-04-21T13:12:16.686Z"
   },
   {
    "duration": 26,
    "start_time": "2022-04-21T13:13:25.253Z"
   },
   {
    "duration": 6,
    "start_time": "2022-04-21T13:14:16.539Z"
   },
   {
    "duration": 3056,
    "start_time": "2022-04-21T13:14:22.851Z"
   },
   {
    "duration": 7,
    "start_time": "2022-04-21T13:14:47.790Z"
   },
   {
    "duration": 315,
    "start_time": "2022-04-21T13:15:10.013Z"
   },
   {
    "duration": 20,
    "start_time": "2022-04-21T13:18:04.866Z"
   },
   {
    "duration": 33,
    "start_time": "2022-04-21T13:18:18.057Z"
   },
   {
    "duration": 31,
    "start_time": "2022-04-21T13:18:25.906Z"
   },
   {
    "duration": 19,
    "start_time": "2022-04-21T13:20:10.815Z"
   },
   {
    "duration": 31,
    "start_time": "2022-04-21T13:20:19.135Z"
   },
   {
    "duration": 17,
    "start_time": "2022-04-21T13:20:22.609Z"
   },
   {
    "duration": 18,
    "start_time": "2022-04-21T13:20:25.558Z"
   },
   {
    "duration": 63,
    "start_time": "2022-04-22T11:58:18.305Z"
   },
   {
    "duration": 8,
    "start_time": "2022-04-22T11:58:21.231Z"
   },
   {
    "duration": 1487,
    "start_time": "2022-04-22T11:58:28.404Z"
   },
   {
    "duration": 320,
    "start_time": "2022-04-22T11:58:29.893Z"
   },
   {
    "duration": 201,
    "start_time": "2022-04-22T11:58:30.215Z"
   },
   {
    "duration": 125,
    "start_time": "2022-04-22T11:58:30.419Z"
   },
   {
    "duration": 109,
    "start_time": "2022-04-22T11:58:30.546Z"
   },
   {
    "duration": 19,
    "start_time": "2022-04-22T11:58:30.657Z"
   },
   {
    "duration": 32,
    "start_time": "2022-04-22T11:58:30.677Z"
   },
   {
    "duration": 35,
    "start_time": "2022-04-22T11:58:30.711Z"
   },
   {
    "duration": 81,
    "start_time": "2022-04-22T11:58:30.748Z"
   },
   {
    "duration": 19,
    "start_time": "2022-04-22T11:58:30.832Z"
   },
   {
    "duration": 47,
    "start_time": "2022-04-22T11:58:30.854Z"
   },
   {
    "duration": 13,
    "start_time": "2022-04-22T11:58:30.903Z"
   },
   {
    "duration": 360,
    "start_time": "2022-04-22T11:58:30.918Z"
   },
   {
    "duration": 48,
    "start_time": "2022-04-22T11:58:31.281Z"
   },
   {
    "duration": 392,
    "start_time": "2022-04-22T11:58:31.332Z"
   },
   {
    "duration": 33,
    "start_time": "2022-04-22T11:58:31.726Z"
   },
   {
    "duration": 5,
    "start_time": "2022-04-22T11:58:31.773Z"
   },
   {
    "duration": 15,
    "start_time": "2022-04-22T11:58:31.779Z"
   },
   {
    "duration": 13,
    "start_time": "2022-04-22T11:58:31.796Z"
   },
   {
    "duration": 14,
    "start_time": "2022-04-22T11:58:31.811Z"
   },
   {
    "duration": 95,
    "start_time": "2022-04-22T11:58:31.827Z"
   },
   {
    "duration": 196,
    "start_time": "2022-04-22T11:58:31.924Z"
   },
   {
    "duration": 17,
    "start_time": "2022-04-22T11:58:32.121Z"
   },
   {
    "duration": 39,
    "start_time": "2022-04-22T11:58:32.140Z"
   },
   {
    "duration": 11,
    "start_time": "2022-04-22T11:58:53.910Z"
   },
   {
    "duration": 21,
    "start_time": "2022-04-22T11:58:58.662Z"
   },
   {
    "duration": 16,
    "start_time": "2022-04-22T11:59:03.661Z"
   },
   {
    "duration": 449,
    "start_time": "2022-04-22T12:02:00.306Z"
   },
   {
    "duration": 391,
    "start_time": "2022-04-22T12:02:04.098Z"
   },
   {
    "duration": 4,
    "start_time": "2022-04-22T12:16:08.178Z"
   },
   {
    "duration": 5068,
    "start_time": "2022-04-22T12:16:15.320Z"
   },
   {
    "duration": 6,
    "start_time": "2022-04-22T12:16:25.555Z"
   },
   {
    "duration": 9,
    "start_time": "2022-04-22T12:16:33.984Z"
   },
   {
    "duration": 131,
    "start_time": "2022-04-22T12:16:37.407Z"
   },
   {
    "duration": 129,
    "start_time": "2022-04-22T12:16:39.895Z"
   },
   {
    "duration": 5,
    "start_time": "2022-04-22T12:16:42.897Z"
   },
   {
    "duration": 4,
    "start_time": "2022-04-22T12:17:07.384Z"
   },
   {
    "duration": 10,
    "start_time": "2022-04-22T12:17:55.432Z"
   },
   {
    "duration": 14,
    "start_time": "2022-04-22T12:18:51.615Z"
   },
   {
    "duration": 13,
    "start_time": "2022-04-22T12:19:03.045Z"
   },
   {
    "duration": 28,
    "start_time": "2022-04-22T12:19:06.966Z"
   },
   {
    "duration": 28,
    "start_time": "2022-04-22T12:19:17.311Z"
   },
   {
    "duration": 34,
    "start_time": "2022-04-22T12:19:41.486Z"
   },
   {
    "duration": 29,
    "start_time": "2022-04-22T12:20:27.254Z"
   },
   {
    "duration": 163,
    "start_time": "2022-04-22T12:22:24.100Z"
   },
   {
    "duration": 185,
    "start_time": "2022-04-22T12:22:31.611Z"
   },
   {
    "duration": 9,
    "start_time": "2022-04-22T12:24:41.425Z"
   },
   {
    "duration": 12,
    "start_time": "2022-04-22T12:24:45.290Z"
   },
   {
    "duration": 14,
    "start_time": "2022-04-22T12:24:47.482Z"
   },
   {
    "duration": 10,
    "start_time": "2022-04-22T12:25:00.803Z"
   },
   {
    "duration": 14,
    "start_time": "2022-04-22T12:33:59.059Z"
   },
   {
    "duration": 161,
    "start_time": "2022-04-22T12:35:36.482Z"
   },
   {
    "duration": 11,
    "start_time": "2022-04-22T12:35:40.866Z"
   },
   {
    "duration": 10,
    "start_time": "2022-04-22T12:37:01.937Z"
   },
   {
    "duration": 13,
    "start_time": "2022-04-22T12:41:26.212Z"
   },
   {
    "duration": 129,
    "start_time": "2022-04-22T12:43:00.396Z"
   },
   {
    "duration": 139,
    "start_time": "2022-04-22T12:43:23.651Z"
   },
   {
    "duration": 14,
    "start_time": "2022-04-22T12:43:25.708Z"
   },
   {
    "duration": 9,
    "start_time": "2022-04-22T12:45:05.730Z"
   },
   {
    "duration": 10,
    "start_time": "2022-04-22T12:45:08.122Z"
   },
   {
    "duration": 164,
    "start_time": "2022-04-22T12:46:11.744Z"
   },
   {
    "duration": 9,
    "start_time": "2022-04-22T12:46:17.169Z"
   },
   {
    "duration": 175,
    "start_time": "2022-04-22T12:48:08.842Z"
   },
   {
    "duration": 153,
    "start_time": "2022-04-22T12:48:19.655Z"
   },
   {
    "duration": 10,
    "start_time": "2022-04-22T12:48:30.752Z"
   },
   {
    "duration": 154,
    "start_time": "2022-04-22T12:48:59.512Z"
   },
   {
    "duration": 153,
    "start_time": "2022-04-22T12:49:04.622Z"
   },
   {
    "duration": 12,
    "start_time": "2022-04-22T12:49:23.077Z"
   },
   {
    "duration": 1202,
    "start_time": "2022-04-22T12:50:24.755Z"
   },
   {
    "duration": 314,
    "start_time": "2022-04-22T12:50:25.960Z"
   },
   {
    "duration": 203,
    "start_time": "2022-04-22T12:50:26.275Z"
   },
   {
    "duration": 101,
    "start_time": "2022-04-22T12:50:26.480Z"
   },
   {
    "duration": 101,
    "start_time": "2022-04-22T12:50:26.583Z"
   },
   {
    "duration": 11,
    "start_time": "2022-04-22T12:50:26.686Z"
   },
   {
    "duration": 13,
    "start_time": "2022-04-22T12:50:26.699Z"
   },
   {
    "duration": 22,
    "start_time": "2022-04-22T12:50:26.714Z"
   },
   {
    "duration": 89,
    "start_time": "2022-04-22T12:50:26.738Z"
   },
   {
    "duration": 14,
    "start_time": "2022-04-22T12:50:26.830Z"
   },
   {
    "duration": 34,
    "start_time": "2022-04-22T12:50:26.846Z"
   },
   {
    "duration": 9,
    "start_time": "2022-04-22T12:50:26.882Z"
   },
   {
    "duration": 353,
    "start_time": "2022-04-22T12:50:26.892Z"
   },
   {
    "duration": 61,
    "start_time": "2022-04-22T12:50:27.246Z"
   },
   {
    "duration": 355,
    "start_time": "2022-04-22T12:50:27.309Z"
   },
   {
    "duration": 9,
    "start_time": "2022-04-22T12:50:27.666Z"
   },
   {
    "duration": 14,
    "start_time": "2022-04-22T12:50:27.677Z"
   },
   {
    "duration": 19,
    "start_time": "2022-04-22T12:50:27.693Z"
   },
   {
    "duration": 9,
    "start_time": "2022-04-22T12:50:27.714Z"
   },
   {
    "duration": 74,
    "start_time": "2022-04-22T12:50:27.724Z"
   },
   {
    "duration": 428,
    "start_time": "2022-04-22T12:50:27.800Z"
   },
   {
    "duration": 0,
    "start_time": "2022-04-22T12:50:28.230Z"
   },
   {
    "duration": 0,
    "start_time": "2022-04-22T12:50:28.231Z"
   },
   {
    "duration": 0,
    "start_time": "2022-04-22T12:50:28.232Z"
   },
   {
    "duration": 0,
    "start_time": "2022-04-22T12:50:28.233Z"
   },
   {
    "duration": 39,
    "start_time": "2022-04-22T12:51:13.416Z"
   },
   {
    "duration": 294,
    "start_time": "2022-04-22T12:51:17.424Z"
   },
   {
    "duration": 288,
    "start_time": "2022-04-22T12:51:31.536Z"
   },
   {
    "duration": 6,
    "start_time": "2022-04-22T12:52:08.872Z"
   },
   {
    "duration": 291,
    "start_time": "2022-04-22T12:52:22.208Z"
   },
   {
    "duration": 13,
    "start_time": "2022-04-22T12:53:19.590Z"
   },
   {
    "duration": 301,
    "start_time": "2022-04-22T12:53:28.809Z"
   },
   {
    "duration": 115,
    "start_time": "2022-04-22T12:53:37.142Z"
   },
   {
    "duration": 262,
    "start_time": "2022-04-22T12:53:45.094Z"
   },
   {
    "duration": 12,
    "start_time": "2022-04-22T12:53:48.549Z"
   },
   {
    "duration": 12,
    "start_time": "2022-04-22T12:58:04.362Z"
   },
   {
    "duration": 319,
    "start_time": "2022-04-22T13:00:03.432Z"
   },
   {
    "duration": 306,
    "start_time": "2022-04-22T13:00:16.448Z"
   },
   {
    "duration": 11,
    "start_time": "2022-04-22T13:00:56.959Z"
   },
   {
    "duration": 17,
    "start_time": "2022-04-22T13:01:04.825Z"
   },
   {
    "duration": 290,
    "start_time": "2022-04-22T13:01:49.935Z"
   },
   {
    "duration": 12,
    "start_time": "2022-04-22T13:01:51.647Z"
   },
   {
    "duration": 11,
    "start_time": "2022-04-22T13:02:05.533Z"
   },
   {
    "duration": 11,
    "start_time": "2022-04-22T13:02:28.382Z"
   },
   {
    "duration": 9,
    "start_time": "2022-04-22T13:03:37.389Z"
   },
   {
    "duration": 10,
    "start_time": "2022-04-22T13:03:42.573Z"
   },
   {
    "duration": 2212,
    "start_time": "2022-04-22T13:04:21.798Z"
   },
   {
    "duration": 309,
    "start_time": "2022-04-22T13:04:57.038Z"
   },
   {
    "duration": 325,
    "start_time": "2022-04-22T13:05:09.108Z"
   },
   {
    "duration": 306,
    "start_time": "2022-04-22T13:05:22.285Z"
   },
   {
    "duration": 15,
    "start_time": "2022-04-22T13:05:26.524Z"
   },
   {
    "duration": 12,
    "start_time": "2022-04-22T13:09:19.623Z"
   },
   {
    "duration": 7,
    "start_time": "2022-04-22T13:09:51.489Z"
   },
   {
    "duration": 11,
    "start_time": "2022-04-22T13:10:00.623Z"
   },
   {
    "duration": 15,
    "start_time": "2022-04-22T13:10:14.991Z"
   },
   {
    "duration": 313,
    "start_time": "2022-04-22T13:10:25.999Z"
   },
   {
    "duration": 12,
    "start_time": "2022-04-22T13:11:15.839Z"
   },
   {
    "duration": 12,
    "start_time": "2022-04-22T13:11:29.038Z"
   },
   {
    "duration": 307,
    "start_time": "2022-04-22T13:11:38.079Z"
   },
   {
    "duration": 11,
    "start_time": "2022-04-22T13:11:43.024Z"
   },
   {
    "duration": 11,
    "start_time": "2022-04-22T13:11:45.198Z"
   },
   {
    "duration": 292,
    "start_time": "2022-04-22T13:11:58.119Z"
   },
   {
    "duration": 21,
    "start_time": "2022-04-22T13:12:06.350Z"
   },
   {
    "duration": 14,
    "start_time": "2022-04-22T13:12:16.350Z"
   },
   {
    "duration": 9,
    "start_time": "2022-04-22T13:12:26.662Z"
   },
   {
    "duration": 11,
    "start_time": "2022-04-22T13:12:39.854Z"
   },
   {
    "duration": 11,
    "start_time": "2022-04-22T13:12:55.885Z"
   },
   {
    "duration": 10,
    "start_time": "2022-04-22T13:13:00.725Z"
   },
   {
    "duration": 18,
    "start_time": "2022-04-22T13:13:26.542Z"
   },
   {
    "duration": 9,
    "start_time": "2022-04-22T13:18:05.333Z"
   },
   {
    "duration": 12,
    "start_time": "2022-04-22T13:18:34.970Z"
   },
   {
    "duration": 12,
    "start_time": "2022-04-22T13:19:09.641Z"
   },
   {
    "duration": 13,
    "start_time": "2022-04-22T13:21:15.359Z"
   },
   {
    "duration": 206,
    "start_time": "2022-04-22T13:21:19.583Z"
   },
   {
    "duration": 10,
    "start_time": "2022-04-22T13:21:48.726Z"
   },
   {
    "duration": 264,
    "start_time": "2022-04-22T13:22:41.861Z"
   },
   {
    "duration": 266,
    "start_time": "2022-04-22T13:23:06.693Z"
   },
   {
    "duration": 259,
    "start_time": "2022-04-22T13:23:12.573Z"
   },
   {
    "duration": 145,
    "start_time": "2022-04-22T13:23:38.188Z"
   },
   {
    "duration": 11,
    "start_time": "2022-04-22T13:23:42.555Z"
   },
   {
    "duration": 13,
    "start_time": "2022-04-22T13:23:47.419Z"
   },
   {
    "duration": 6,
    "start_time": "2022-04-22T13:23:52.132Z"
   },
   {
    "duration": 9,
    "start_time": "2022-04-22T13:24:23.179Z"
   },
   {
    "duration": 28,
    "start_time": "2022-04-22T13:24:37.894Z"
   },
   {
    "duration": 24,
    "start_time": "2022-04-22T13:59:53.622Z"
   },
   {
    "duration": 25,
    "start_time": "2022-04-22T13:59:54.602Z"
   },
   {
    "duration": 55,
    "start_time": "2022-04-22T14:00:07.635Z"
   },
   {
    "duration": 47,
    "start_time": "2022-04-22T14:01:29.401Z"
   },
   {
    "duration": 112,
    "start_time": "2022-04-22T14:01:37.624Z"
   },
   {
    "duration": 45,
    "start_time": "2022-04-22T14:01:44.295Z"
   },
   {
    "duration": 13,
    "start_time": "2022-04-22T14:02:54.537Z"
   },
   {
    "duration": 10,
    "start_time": "2022-04-22T14:02:57.481Z"
   },
   {
    "duration": 51,
    "start_time": "2022-04-22T14:03:42.782Z"
   },
   {
    "duration": 41,
    "start_time": "2022-04-22T14:03:48.472Z"
   },
   {
    "duration": 132,
    "start_time": "2022-04-22T14:05:45.830Z"
   },
   {
    "duration": 63,
    "start_time": "2022-04-22T14:05:56.308Z"
   },
   {
    "duration": 9,
    "start_time": "2022-04-22T14:06:46.565Z"
   },
   {
    "duration": 61,
    "start_time": "2022-04-22T14:06:57.278Z"
   },
   {
    "duration": 10,
    "start_time": "2022-04-22T14:08:11.530Z"
   },
   {
    "duration": 54,
    "start_time": "2022-04-22T14:08:20.634Z"
   },
   {
    "duration": 55,
    "start_time": "2022-04-22T14:09:52.074Z"
   },
   {
    "duration": 20,
    "start_time": "2022-04-22T14:09:59.000Z"
   },
   {
    "duration": 13,
    "start_time": "2022-04-22T14:10:09.120Z"
   },
   {
    "duration": 60,
    "start_time": "2022-04-22T14:10:29.937Z"
   },
   {
    "duration": 10,
    "start_time": "2022-04-22T14:11:09.607Z"
   },
   {
    "duration": 111,
    "start_time": "2022-04-22T14:11:15.928Z"
   },
   {
    "duration": 53,
    "start_time": "2022-04-22T14:11:22.680Z"
   },
   {
    "duration": 10,
    "start_time": "2022-04-22T14:11:54.743Z"
   },
   {
    "duration": 12,
    "start_time": "2022-04-22T14:12:14.646Z"
   },
   {
    "duration": 63,
    "start_time": "2022-04-22T14:12:17.999Z"
   },
   {
    "duration": 120,
    "start_time": "2022-04-22T14:12:34.494Z"
   },
   {
    "duration": 123,
    "start_time": "2022-04-22T14:12:39.318Z"
   },
   {
    "duration": 114,
    "start_time": "2022-04-22T14:12:43.166Z"
   },
   {
    "duration": 60,
    "start_time": "2022-04-22T14:13:00.151Z"
   },
   {
    "duration": 12,
    "start_time": "2022-04-22T14:13:08.045Z"
   },
   {
    "duration": 56,
    "start_time": "2022-04-22T14:13:14.333Z"
   },
   {
    "duration": 753,
    "start_time": "2022-04-22T14:13:31.925Z"
   },
   {
    "duration": 63,
    "start_time": "2022-04-22T14:13:53.174Z"
   },
   {
    "duration": 10,
    "start_time": "2022-04-22T14:13:58.261Z"
   },
   {
    "duration": 11,
    "start_time": "2022-04-22T14:14:02.389Z"
   },
   {
    "duration": 55,
    "start_time": "2022-04-22T14:14:21.236Z"
   },
   {
    "duration": 11,
    "start_time": "2022-04-22T14:14:30.917Z"
   },
   {
    "duration": 13,
    "start_time": "2022-04-22T14:14:51.477Z"
   },
   {
    "duration": 14,
    "start_time": "2022-04-22T14:14:57.260Z"
   },
   {
    "duration": 15,
    "start_time": "2022-04-22T14:15:00.645Z"
   },
   {
    "duration": 51,
    "start_time": "2022-04-22T14:15:03.621Z"
   },
   {
    "duration": 15,
    "start_time": "2022-04-22T14:15:04.781Z"
   },
   {
    "duration": 55,
    "start_time": "2022-04-22T14:15:12.579Z"
   },
   {
    "duration": 165,
    "start_time": "2022-04-22T14:20:30.352Z"
   },
   {
    "duration": 16,
    "start_time": "2022-04-22T14:20:35.136Z"
   },
   {
    "duration": 53,
    "start_time": "2022-04-22T14:20:46.047Z"
   },
   {
    "duration": 9,
    "start_time": "2022-04-22T14:20:46.439Z"
   },
   {
    "duration": 17,
    "start_time": "2022-04-22T14:20:56.175Z"
   },
   {
    "duration": 137,
    "start_time": "2022-04-22T14:22:11.878Z"
   },
   {
    "duration": 49,
    "start_time": "2022-04-22T14:22:18.135Z"
   },
   {
    "duration": 152,
    "start_time": "2022-04-22T14:22:18.310Z"
   },
   {
    "duration": 8,
    "start_time": "2022-04-22T14:22:30.062Z"
   },
   {
    "duration": 51,
    "start_time": "2022-04-22T14:22:50.173Z"
   },
   {
    "duration": 8,
    "start_time": "2022-04-22T14:22:50.717Z"
   },
   {
    "duration": 118,
    "start_time": "2022-04-22T14:22:50.965Z"
   },
   {
    "duration": 1273,
    "start_time": "2022-04-22T14:23:13.057Z"
   },
   {
    "duration": 294,
    "start_time": "2022-04-22T14:23:14.333Z"
   },
   {
    "duration": 192,
    "start_time": "2022-04-22T14:23:14.628Z"
   },
   {
    "duration": 116,
    "start_time": "2022-04-22T14:23:14.821Z"
   },
   {
    "duration": 109,
    "start_time": "2022-04-22T14:23:14.938Z"
   },
   {
    "duration": 12,
    "start_time": "2022-04-22T14:23:15.049Z"
   },
   {
    "duration": 16,
    "start_time": "2022-04-22T14:23:15.072Z"
   },
   {
    "duration": 43,
    "start_time": "2022-04-22T14:23:15.090Z"
   },
   {
    "duration": 66,
    "start_time": "2022-04-22T14:23:15.134Z"
   },
   {
    "duration": 24,
    "start_time": "2022-04-22T14:23:15.203Z"
   },
   {
    "duration": 17,
    "start_time": "2022-04-22T14:23:15.230Z"
   },
   {
    "duration": 11,
    "start_time": "2022-04-22T14:23:15.249Z"
   },
   {
    "duration": 352,
    "start_time": "2022-04-22T14:23:15.274Z"
   },
   {
    "duration": 66,
    "start_time": "2022-04-22T14:23:15.628Z"
   },
   {
    "duration": 374,
    "start_time": "2022-04-22T14:23:15.696Z"
   },
   {
    "duration": 33,
    "start_time": "2022-04-22T14:23:16.073Z"
   },
   {
    "duration": 4,
    "start_time": "2022-04-22T14:23:16.108Z"
   },
   {
    "duration": 80,
    "start_time": "2022-04-22T14:23:16.114Z"
   },
   {
    "duration": 52,
    "start_time": "2022-04-22T14:23:16.196Z"
   },
   {
    "duration": 107,
    "start_time": "2022-04-22T14:23:16.250Z"
   },
   {
    "duration": 0,
    "start_time": "2022-04-22T14:23:16.359Z"
   },
   {
    "duration": 0,
    "start_time": "2022-04-22T14:23:16.360Z"
   },
   {
    "duration": 0,
    "start_time": "2022-04-22T14:23:16.361Z"
   },
   {
    "duration": 0,
    "start_time": "2022-04-22T14:23:16.362Z"
   },
   {
    "duration": 0,
    "start_time": "2022-04-22T14:23:16.363Z"
   },
   {
    "duration": 0,
    "start_time": "2022-04-22T14:23:16.373Z"
   },
   {
    "duration": 0,
    "start_time": "2022-04-22T14:23:16.374Z"
   },
   {
    "duration": 0,
    "start_time": "2022-04-22T14:23:16.376Z"
   },
   {
    "duration": 0,
    "start_time": "2022-04-22T14:23:16.377Z"
   },
   {
    "duration": 0,
    "start_time": "2022-04-22T14:23:16.378Z"
   },
   {
    "duration": 10,
    "start_time": "2022-04-22T14:23:26.600Z"
   },
   {
    "duration": 9,
    "start_time": "2022-04-22T14:23:31.148Z"
   },
   {
    "duration": 12,
    "start_time": "2022-04-22T14:25:50.139Z"
   },
   {
    "duration": 2131,
    "start_time": "2022-04-22T14:25:55.922Z"
   },
   {
    "duration": 0,
    "start_time": "2022-04-22T14:25:58.055Z"
   },
   {
    "duration": 2240,
    "start_time": "2022-04-22T14:26:05.714Z"
   },
   {
    "duration": 8,
    "start_time": "2022-04-22T14:26:12.553Z"
   },
   {
    "duration": 2100,
    "start_time": "2022-04-22T14:26:21.763Z"
   },
   {
    "duration": 2260,
    "start_time": "2022-04-22T14:26:26.786Z"
   },
   {
    "duration": 2113,
    "start_time": "2022-04-22T14:26:30.714Z"
   },
   {
    "duration": 2173,
    "start_time": "2022-04-22T14:26:37.715Z"
   },
   {
    "duration": 10,
    "start_time": "2022-04-22T14:26:48.489Z"
   },
   {
    "duration": 2113,
    "start_time": "2022-04-22T14:26:51.249Z"
   },
   {
    "duration": 14,
    "start_time": "2022-04-22T14:27:05.297Z"
   },
   {
    "duration": 16,
    "start_time": "2022-04-22T14:27:11.809Z"
   },
   {
    "duration": 15,
    "start_time": "2022-04-22T14:27:50.354Z"
   },
   {
    "duration": 12,
    "start_time": "2022-04-22T14:28:05.314Z"
   },
   {
    "duration": 5,
    "start_time": "2022-04-22T14:28:05.664Z"
   },
   {
    "duration": 54,
    "start_time": "2022-04-22T14:28:48.608Z"
   },
   {
    "duration": 42,
    "start_time": "2022-04-22T14:28:57.721Z"
   },
   {
    "duration": 21,
    "start_time": "2022-04-22T14:29:49.351Z"
   },
   {
    "duration": 31,
    "start_time": "2022-04-22T14:30:07.822Z"
   },
   {
    "duration": 78,
    "start_time": "2022-04-22T14:30:22.807Z"
   },
   {
    "duration": 71,
    "start_time": "2022-04-22T14:30:49.855Z"
   },
   {
    "duration": 76,
    "start_time": "2022-04-22T14:30:53.461Z"
   },
   {
    "duration": 75,
    "start_time": "2022-04-22T14:30:55.637Z"
   },
   {
    "duration": 72,
    "start_time": "2022-04-22T14:31:11.743Z"
   },
   {
    "duration": 76,
    "start_time": "2022-04-22T14:31:18.213Z"
   },
   {
    "duration": 71,
    "start_time": "2022-04-22T14:31:23.333Z"
   },
   {
    "duration": 74,
    "start_time": "2022-04-22T14:31:27.229Z"
   },
   {
    "duration": 73,
    "start_time": "2022-04-22T14:31:42.853Z"
   },
   {
    "duration": 73,
    "start_time": "2022-04-22T14:33:19.940Z"
   },
   {
    "duration": 128,
    "start_time": "2022-04-22T14:34:40.059Z"
   },
   {
    "duration": 75,
    "start_time": "2022-04-22T14:34:47.674Z"
   },
   {
    "duration": 70,
    "start_time": "2022-04-22T14:34:58.586Z"
   },
   {
    "duration": 75,
    "start_time": "2022-04-22T14:35:41.041Z"
   },
   {
    "duration": 1120,
    "start_time": "2022-04-22T14:35:51.699Z"
   },
   {
    "duration": 309,
    "start_time": "2022-04-22T14:35:52.821Z"
   },
   {
    "duration": 186,
    "start_time": "2022-04-22T14:35:53.131Z"
   },
   {
    "duration": 109,
    "start_time": "2022-04-22T14:35:53.319Z"
   },
   {
    "duration": 90,
    "start_time": "2022-04-22T14:35:53.430Z"
   },
   {
    "duration": 10,
    "start_time": "2022-04-22T14:35:53.522Z"
   },
   {
    "duration": 16,
    "start_time": "2022-04-22T14:35:53.533Z"
   },
   {
    "duration": 25,
    "start_time": "2022-04-22T14:35:53.551Z"
   },
   {
    "duration": 60,
    "start_time": "2022-04-22T14:35:53.578Z"
   },
   {
    "duration": 13,
    "start_time": "2022-04-22T14:35:53.641Z"
   },
   {
    "duration": 20,
    "start_time": "2022-04-22T14:35:53.656Z"
   },
   {
    "duration": 14,
    "start_time": "2022-04-22T14:35:53.678Z"
   },
   {
    "duration": 330,
    "start_time": "2022-04-22T14:35:53.693Z"
   },
   {
    "duration": 77,
    "start_time": "2022-04-22T14:35:54.025Z"
   },
   {
    "duration": 399,
    "start_time": "2022-04-22T14:35:54.103Z"
   },
   {
    "duration": 33,
    "start_time": "2022-04-22T14:35:54.504Z"
   },
   {
    "duration": 5,
    "start_time": "2022-04-22T14:35:54.539Z"
   },
   {
    "duration": 73,
    "start_time": "2022-04-22T14:35:54.545Z"
   },
   {
    "duration": 3,
    "start_time": "2022-04-22T14:35:54.620Z"
   },
   {
    "duration": 113,
    "start_time": "2022-04-22T14:35:54.624Z"
   },
   {
    "duration": 10,
    "start_time": "2022-04-22T14:35:54.739Z"
   },
   {
    "duration": 8,
    "start_time": "2022-04-22T14:35:54.750Z"
   },
   {
    "duration": 31,
    "start_time": "2022-04-22T14:35:54.759Z"
   },
   {
    "duration": 274,
    "start_time": "2022-04-22T14:35:54.792Z"
   },
   {
    "duration": 1,
    "start_time": "2022-04-22T14:35:55.067Z"
   },
   {
    "duration": 0,
    "start_time": "2022-04-22T14:35:55.069Z"
   },
   {
    "duration": 0,
    "start_time": "2022-04-22T14:35:55.073Z"
   },
   {
    "duration": 0,
    "start_time": "2022-04-22T14:35:55.074Z"
   },
   {
    "duration": 72,
    "start_time": "2022-04-22T14:38:35.870Z"
   },
   {
    "duration": 69,
    "start_time": "2022-04-22T14:38:39.478Z"
   },
   {
    "duration": 134,
    "start_time": "2022-04-22T14:40:31.875Z"
   },
   {
    "duration": 123,
    "start_time": "2022-04-22T14:40:35.577Z"
   },
   {
    "duration": 80,
    "start_time": "2022-04-22T14:40:39.433Z"
   },
   {
    "duration": 74,
    "start_time": "2022-04-22T14:40:51.867Z"
   },
   {
    "duration": 73,
    "start_time": "2022-04-22T14:42:54.881Z"
   },
   {
    "duration": 73,
    "start_time": "2022-04-22T14:43:55.191Z"
   },
   {
    "duration": 50,
    "start_time": "2022-04-22T14:44:23.111Z"
   },
   {
    "duration": 18,
    "start_time": "2022-04-22T14:44:27.190Z"
   },
   {
    "duration": 75,
    "start_time": "2022-04-22T14:45:27.431Z"
   },
   {
    "duration": 28,
    "start_time": "2022-04-22T14:49:57.105Z"
   },
   {
    "duration": 31,
    "start_time": "2022-04-22T14:50:02.058Z"
   },
   {
    "duration": 5,
    "start_time": "2022-04-22T14:52:16.033Z"
   },
   {
    "duration": 6,
    "start_time": "2022-04-22T14:52:20.776Z"
   },
   {
    "duration": 29,
    "start_time": "2022-04-22T14:52:37.015Z"
   },
   {
    "duration": 29,
    "start_time": "2022-04-22T14:53:12.079Z"
   },
   {
    "duration": 5,
    "start_time": "2022-04-22T14:53:16.663Z"
   },
   {
    "duration": 28,
    "start_time": "2022-04-22T14:53:19.111Z"
   },
   {
    "duration": 29,
    "start_time": "2022-04-22T14:54:32.582Z"
   },
   {
    "duration": 28,
    "start_time": "2022-04-22T14:54:37.597Z"
   },
   {
    "duration": 29,
    "start_time": "2022-04-22T14:54:42.013Z"
   },
   {
    "duration": 14,
    "start_time": "2022-04-22T15:00:06.139Z"
   },
   {
    "duration": 9,
    "start_time": "2022-04-22T15:00:43.649Z"
   },
   {
    "duration": 9,
    "start_time": "2022-04-22T15:00:50.976Z"
   },
   {
    "duration": 6,
    "start_time": "2022-04-22T15:00:57.400Z"
   },
   {
    "duration": 124,
    "start_time": "2022-04-22T15:01:32.008Z"
   },
   {
    "duration": 128,
    "start_time": "2022-04-22T15:01:57.383Z"
   },
   {
    "duration": 32,
    "start_time": "2022-04-22T15:02:03.199Z"
   },
   {
    "duration": 21,
    "start_time": "2022-04-22T15:02:18.848Z"
   },
   {
    "duration": 27,
    "start_time": "2022-04-22T15:02:26.064Z"
   },
   {
    "duration": 21,
    "start_time": "2022-04-22T15:02:36.360Z"
   },
   {
    "duration": 3,
    "start_time": "2022-04-22T15:02:48.463Z"
   },
   {
    "duration": 18,
    "start_time": "2022-04-22T15:02:56.127Z"
   },
   {
    "duration": 130,
    "start_time": "2022-04-22T16:56:43.134Z"
   },
   {
    "duration": 3,
    "start_time": "2022-04-22T17:03:21.301Z"
   },
   {
    "duration": 14,
    "start_time": "2022-04-22T17:03:25.002Z"
   },
   {
    "duration": 3,
    "start_time": "2022-04-22T17:03:28.335Z"
   },
   {
    "duration": 12,
    "start_time": "2022-04-22T17:03:28.650Z"
   },
   {
    "duration": 2458,
    "start_time": "2022-04-22T17:03:39.202Z"
   },
   {
    "duration": 1882,
    "start_time": "2022-04-22T17:03:42.630Z"
   },
   {
    "duration": 1873,
    "start_time": "2022-04-22T17:03:54.613Z"
   },
   {
    "duration": 3,
    "start_time": "2022-04-22T17:04:01.517Z"
   },
   {
    "duration": 13,
    "start_time": "2022-04-22T17:04:06.014Z"
   },
   {
    "duration": 4,
    "start_time": "2022-04-22T17:04:22.570Z"
   },
   {
    "duration": 13,
    "start_time": "2022-04-22T17:04:23.100Z"
   },
   {
    "duration": 2343,
    "start_time": "2022-04-22T17:15:20.651Z"
   },
   {
    "duration": 0,
    "start_time": "2022-04-22T17:15:22.996Z"
   },
   {
    "duration": 5,
    "start_time": "2022-04-22T17:15:50.393Z"
   },
   {
    "duration": 14,
    "start_time": "2022-04-22T17:15:54.629Z"
   },
   {
    "duration": 18,
    "start_time": "2022-04-22T17:15:58.729Z"
   },
   {
    "duration": 15,
    "start_time": "2022-04-22T17:16:01.617Z"
   },
   {
    "duration": 16,
    "start_time": "2022-04-22T17:16:16.376Z"
   },
   {
    "duration": 11,
    "start_time": "2022-04-22T17:16:34.585Z"
   },
   {
    "duration": 6,
    "start_time": "2022-04-22T17:16:38.874Z"
   },
   {
    "duration": 23,
    "start_time": "2022-04-22T17:18:14.074Z"
   },
   {
    "duration": 2092,
    "start_time": "2022-04-22T17:18:26.232Z"
   },
   {
    "duration": 7,
    "start_time": "2022-04-22T17:18:39.441Z"
   },
   {
    "duration": 1283,
    "start_time": "2022-04-22T17:21:49.160Z"
   },
   {
    "duration": 322,
    "start_time": "2022-04-22T17:21:50.445Z"
   },
   {
    "duration": 218,
    "start_time": "2022-04-22T17:21:50.769Z"
   },
   {
    "duration": 114,
    "start_time": "2022-04-22T17:21:50.989Z"
   },
   {
    "duration": 105,
    "start_time": "2022-04-22T17:21:51.105Z"
   },
   {
    "duration": 11,
    "start_time": "2022-04-22T17:21:51.213Z"
   },
   {
    "duration": 12,
    "start_time": "2022-04-22T17:21:51.226Z"
   },
   {
    "duration": 49,
    "start_time": "2022-04-22T17:21:51.240Z"
   },
   {
    "duration": 62,
    "start_time": "2022-04-22T17:21:51.292Z"
   },
   {
    "duration": 34,
    "start_time": "2022-04-22T17:21:51.358Z"
   },
   {
    "duration": 13,
    "start_time": "2022-04-22T17:21:51.394Z"
   },
   {
    "duration": 12,
    "start_time": "2022-04-22T17:21:51.409Z"
   },
   {
    "duration": 371,
    "start_time": "2022-04-22T17:21:51.423Z"
   },
   {
    "duration": 50,
    "start_time": "2022-04-22T17:21:51.796Z"
   },
   {
    "duration": 384,
    "start_time": "2022-04-22T17:21:51.848Z"
   },
   {
    "duration": 48,
    "start_time": "2022-04-22T17:21:52.234Z"
   },
   {
    "duration": 4,
    "start_time": "2022-04-22T17:21:52.285Z"
   },
   {
    "duration": 49,
    "start_time": "2022-04-22T17:21:52.291Z"
   },
   {
    "duration": 120,
    "start_time": "2022-04-22T17:21:52.342Z"
   },
   {
    "duration": 20,
    "start_time": "2022-04-22T17:21:52.464Z"
   },
   {
    "duration": 12,
    "start_time": "2022-04-22T17:21:52.485Z"
   },
   {
    "duration": 35,
    "start_time": "2022-04-22T17:21:52.499Z"
   },
   {
    "duration": 66,
    "start_time": "2022-04-22T17:21:52.535Z"
   },
   {
    "duration": 18,
    "start_time": "2022-04-22T17:21:52.603Z"
   },
   {
    "duration": 27,
    "start_time": "2022-04-22T17:21:52.623Z"
   },
   {
    "duration": 66,
    "start_time": "2022-04-22T17:21:52.651Z"
   },
   {
    "duration": 14,
    "start_time": "2022-04-22T17:22:28.698Z"
   },
   {
    "duration": 35,
    "start_time": "2022-04-22T17:23:06.361Z"
   },
   {
    "duration": 23,
    "start_time": "2022-04-22T17:23:08.786Z"
   },
   {
    "duration": 14,
    "start_time": "2022-04-22T17:23:33.921Z"
   },
   {
    "duration": 13,
    "start_time": "2022-04-22T17:23:34.953Z"
   },
   {
    "duration": 6,
    "start_time": "2022-04-22T17:25:19.214Z"
   },
   {
    "duration": 20,
    "start_time": "2022-04-22T17:27:02.062Z"
   },
   {
    "duration": 1253,
    "start_time": "2022-04-22T17:27:18.913Z"
   },
   {
    "duration": 340,
    "start_time": "2022-04-22T17:27:20.168Z"
   },
   {
    "duration": 205,
    "start_time": "2022-04-22T17:27:20.509Z"
   },
   {
    "duration": 112,
    "start_time": "2022-04-22T17:27:20.716Z"
   },
   {
    "duration": 106,
    "start_time": "2022-04-22T17:27:20.830Z"
   },
   {
    "duration": 12,
    "start_time": "2022-04-22T17:27:20.938Z"
   },
   {
    "duration": 35,
    "start_time": "2022-04-22T17:27:20.952Z"
   },
   {
    "duration": 28,
    "start_time": "2022-04-22T17:27:20.989Z"
   },
   {
    "duration": 87,
    "start_time": "2022-04-22T17:27:21.019Z"
   },
   {
    "duration": 13,
    "start_time": "2022-04-22T17:27:21.109Z"
   },
   {
    "duration": 20,
    "start_time": "2022-04-22T17:27:21.124Z"
   },
   {
    "duration": 12,
    "start_time": "2022-04-22T17:27:21.146Z"
   },
   {
    "duration": 384,
    "start_time": "2022-04-22T17:27:21.160Z"
   },
   {
    "duration": 67,
    "start_time": "2022-04-22T17:27:21.546Z"
   },
   {
    "duration": 376,
    "start_time": "2022-04-22T17:27:21.615Z"
   },
   {
    "duration": 33,
    "start_time": "2022-04-22T17:27:21.992Z"
   },
   {
    "duration": 4,
    "start_time": "2022-04-22T17:27:22.027Z"
   },
   {
    "duration": 91,
    "start_time": "2022-04-22T17:27:22.032Z"
   },
   {
    "duration": 120,
    "start_time": "2022-04-22T17:27:22.124Z"
   },
   {
    "duration": 11,
    "start_time": "2022-04-22T17:27:22.245Z"
   },
   {
    "duration": 20,
    "start_time": "2022-04-22T17:27:22.258Z"
   },
   {
    "duration": 40,
    "start_time": "2022-04-22T17:27:22.281Z"
   },
   {
    "duration": 94,
    "start_time": "2022-04-22T17:27:22.322Z"
   },
   {
    "duration": 21,
    "start_time": "2022-04-22T17:27:22.418Z"
   },
   {
    "duration": 46,
    "start_time": "2022-04-22T17:27:22.441Z"
   },
   {
    "duration": 46,
    "start_time": "2022-04-22T17:27:22.489Z"
   },
   {
    "duration": 41,
    "start_time": "2022-04-22T17:27:22.537Z"
   },
   {
    "duration": 31,
    "start_time": "2022-04-22T17:27:22.583Z"
   },
   {
    "duration": 107,
    "start_time": "2022-04-22T17:27:34.048Z"
   },
   {
    "duration": 18,
    "start_time": "2022-04-22T17:27:36.871Z"
   },
   {
    "duration": 24,
    "start_time": "2022-04-22T17:27:52.528Z"
   },
   {
    "duration": 21,
    "start_time": "2022-04-22T17:31:18.644Z"
   },
   {
    "duration": 126,
    "start_time": "2022-04-22T17:32:36.062Z"
   },
   {
    "duration": 24,
    "start_time": "2022-04-22T17:32:40.916Z"
   },
   {
    "duration": 24,
    "start_time": "2022-04-22T17:32:48.572Z"
   },
   {
    "duration": 16,
    "start_time": "2022-04-22T17:33:19.707Z"
   },
   {
    "duration": 5,
    "start_time": "2022-04-22T17:33:30.838Z"
   },
   {
    "duration": 27,
    "start_time": "2022-04-22T17:33:40.570Z"
   },
   {
    "duration": 22,
    "start_time": "2022-04-22T17:34:03.267Z"
   },
   {
    "duration": 85,
    "start_time": "2022-04-23T11:49:03.203Z"
   },
   {
    "duration": 1858,
    "start_time": "2022-04-23T11:49:09.940Z"
   },
   {
    "duration": 406,
    "start_time": "2022-04-23T11:49:11.801Z"
   },
   {
    "duration": 278,
    "start_time": "2022-04-23T11:49:12.209Z"
   },
   {
    "duration": 172,
    "start_time": "2022-04-23T11:49:12.490Z"
   },
   {
    "duration": 144,
    "start_time": "2022-04-23T11:49:12.664Z"
   },
   {
    "duration": 32,
    "start_time": "2022-04-23T11:49:12.811Z"
   },
   {
    "duration": 20,
    "start_time": "2022-04-23T11:49:12.847Z"
   },
   {
    "duration": 68,
    "start_time": "2022-04-23T11:49:12.870Z"
   },
   {
    "duration": 116,
    "start_time": "2022-04-23T11:49:12.941Z"
   },
   {
    "duration": 16,
    "start_time": "2022-04-23T11:49:13.061Z"
   },
   {
    "duration": 19,
    "start_time": "2022-04-23T11:49:13.079Z"
   },
   {
    "duration": 34,
    "start_time": "2022-04-23T11:49:13.100Z"
   },
   {
    "duration": 631,
    "start_time": "2022-04-23T11:49:13.138Z"
   },
   {
    "duration": 95,
    "start_time": "2022-04-23T11:49:13.772Z"
   },
   {
    "duration": 610,
    "start_time": "2022-04-23T11:49:13.870Z"
   },
   {
    "duration": 60,
    "start_time": "2022-04-23T11:49:14.482Z"
   },
   {
    "duration": 5,
    "start_time": "2022-04-23T11:49:14.545Z"
   },
   {
    "duration": 100,
    "start_time": "2022-04-23T11:49:14.553Z"
   },
   {
    "duration": 159,
    "start_time": "2022-04-23T11:49:14.656Z"
   },
   {
    "duration": 25,
    "start_time": "2022-04-23T11:49:14.817Z"
   },
   {
    "duration": 5,
    "start_time": "2022-04-23T11:49:14.845Z"
   },
   {
    "duration": 44,
    "start_time": "2022-04-23T11:49:14.852Z"
   },
   {
    "duration": 110,
    "start_time": "2022-04-23T11:49:14.898Z"
   },
   {
    "duration": 28,
    "start_time": "2022-04-23T11:49:15.026Z"
   },
   {
    "duration": 43,
    "start_time": "2022-04-23T11:49:15.057Z"
   },
   {
    "duration": 53,
    "start_time": "2022-04-23T11:49:15.130Z"
   },
   {
    "duration": 44,
    "start_time": "2022-04-23T11:49:15.186Z"
   },
   {
    "duration": 38,
    "start_time": "2022-04-23T11:49:15.237Z"
   },
   {
    "duration": 21,
    "start_time": "2022-04-23T11:49:15.278Z"
   },
   {
    "duration": 34,
    "start_time": "2022-04-23T11:49:15.301Z"
   },
   {
    "duration": 9,
    "start_time": "2022-04-23T11:49:57.530Z"
   },
   {
    "duration": 6,
    "start_time": "2022-04-23T11:50:02.857Z"
   },
   {
    "duration": 8,
    "start_time": "2022-04-23T11:50:22.608Z"
   },
   {
    "duration": 99,
    "start_time": "2022-04-23T11:50:36.338Z"
   },
   {
    "duration": 106,
    "start_time": "2022-04-23T11:50:41.776Z"
   },
   {
    "duration": 7,
    "start_time": "2022-04-23T11:50:45.993Z"
   },
   {
    "duration": 101,
    "start_time": "2022-04-23T11:53:29.057Z"
   },
   {
    "duration": 7,
    "start_time": "2022-04-23T11:53:33.942Z"
   },
   {
    "duration": 7,
    "start_time": "2022-04-23T11:53:39.872Z"
   },
   {
    "duration": 106,
    "start_time": "2022-04-23T11:57:21.971Z"
   },
   {
    "duration": 29,
    "start_time": "2022-04-23T11:57:55.630Z"
   },
   {
    "duration": 100,
    "start_time": "2022-04-23T11:58:32.954Z"
   },
   {
    "duration": 28,
    "start_time": "2022-04-23T11:58:44.363Z"
   },
   {
    "duration": 37,
    "start_time": "2022-04-23T11:58:48.234Z"
   },
   {
    "duration": 31,
    "start_time": "2022-04-23T12:09:03.362Z"
   },
   {
    "duration": 13,
    "start_time": "2022-04-23T12:09:07.961Z"
   },
   {
    "duration": 12,
    "start_time": "2022-04-23T12:09:16.033Z"
   },
   {
    "duration": 31,
    "start_time": "2022-04-23T12:09:20.135Z"
   },
   {
    "duration": 12,
    "start_time": "2022-04-23T12:09:20.832Z"
   },
   {
    "duration": 174,
    "start_time": "2022-04-23T12:09:46.367Z"
   },
   {
    "duration": 39,
    "start_time": "2022-04-23T12:09:54.081Z"
   },
   {
    "duration": 42,
    "start_time": "2022-04-23T12:10:07.679Z"
   },
   {
    "duration": 38,
    "start_time": "2022-04-23T12:10:34.232Z"
   },
   {
    "duration": 89,
    "start_time": "2022-04-23T12:12:29.608Z"
   },
   {
    "duration": 97,
    "start_time": "2022-04-23T12:12:49.932Z"
   },
   {
    "duration": 41,
    "start_time": "2022-04-23T12:12:52.843Z"
   },
   {
    "duration": 32,
    "start_time": "2022-04-23T12:13:07.181Z"
   },
   {
    "duration": 13,
    "start_time": "2022-04-23T12:13:08.732Z"
   },
   {
    "duration": 13,
    "start_time": "2022-04-23T12:13:47.275Z"
   },
   {
    "duration": 13,
    "start_time": "2022-04-23T12:13:51.739Z"
   },
   {
    "duration": 94,
    "start_time": "2022-04-23T12:14:11.834Z"
   },
   {
    "duration": 12,
    "start_time": "2022-04-23T12:14:17.666Z"
   },
   {
    "duration": 13,
    "start_time": "2022-04-23T12:14:40.754Z"
   },
   {
    "duration": 1511,
    "start_time": "2022-04-23T12:14:47.788Z"
   },
   {
    "duration": 364,
    "start_time": "2022-04-23T12:14:49.302Z"
   },
   {
    "duration": 270,
    "start_time": "2022-04-23T12:14:49.669Z"
   },
   {
    "duration": 143,
    "start_time": "2022-04-23T12:14:49.942Z"
   },
   {
    "duration": 139,
    "start_time": "2022-04-23T12:14:50.087Z"
   },
   {
    "duration": 15,
    "start_time": "2022-04-23T12:14:50.228Z"
   },
   {
    "duration": 19,
    "start_time": "2022-04-23T12:14:50.245Z"
   },
   {
    "duration": 31,
    "start_time": "2022-04-23T12:14:50.266Z"
   },
   {
    "duration": 100,
    "start_time": "2022-04-23T12:14:50.325Z"
   },
   {
    "duration": 17,
    "start_time": "2022-04-23T12:14:50.428Z"
   },
   {
    "duration": 23,
    "start_time": "2022-04-23T12:14:50.447Z"
   },
   {
    "duration": 12,
    "start_time": "2022-04-23T12:14:50.472Z"
   },
   {
    "duration": 567,
    "start_time": "2022-04-23T12:14:50.486Z"
   },
   {
    "duration": 85,
    "start_time": "2022-04-23T12:14:51.055Z"
   },
   {
    "duration": 672,
    "start_time": "2022-04-23T12:14:51.142Z"
   },
   {
    "duration": 51,
    "start_time": "2022-04-23T12:14:51.816Z"
   },
   {
    "duration": 13,
    "start_time": "2022-04-23T12:14:51.870Z"
   },
   {
    "duration": 97,
    "start_time": "2022-04-23T12:14:51.886Z"
   },
   {
    "duration": 167,
    "start_time": "2022-04-23T12:14:51.985Z"
   },
   {
    "duration": 15,
    "start_time": "2022-04-23T12:14:52.156Z"
   },
   {
    "duration": 12,
    "start_time": "2022-04-23T12:14:52.174Z"
   },
   {
    "duration": 71,
    "start_time": "2022-04-23T12:14:52.188Z"
   },
   {
    "duration": 41,
    "start_time": "2022-04-23T12:14:52.261Z"
   },
   {
    "duration": 68,
    "start_time": "2022-04-23T12:14:52.304Z"
   },
   {
    "duration": 15,
    "start_time": "2022-04-23T12:14:52.375Z"
   },
   {
    "duration": 56,
    "start_time": "2022-04-23T12:14:52.393Z"
   },
   {
    "duration": 42,
    "start_time": "2022-04-23T12:14:52.452Z"
   },
   {
    "duration": 13,
    "start_time": "2022-04-23T12:14:52.525Z"
   },
   {
    "duration": 25,
    "start_time": "2022-04-23T12:14:52.540Z"
   },
   {
    "duration": 12,
    "start_time": "2022-04-23T12:14:52.567Z"
   },
   {
    "duration": 8,
    "start_time": "2022-04-23T12:14:52.582Z"
   },
   {
    "duration": 34,
    "start_time": "2022-04-23T12:14:52.592Z"
   },
   {
    "duration": 67,
    "start_time": "2022-04-23T12:15:43.085Z"
   },
   {
    "duration": 10,
    "start_time": "2022-04-23T12:15:47.006Z"
   },
   {
    "duration": 9,
    "start_time": "2022-04-23T12:15:56.298Z"
   },
   {
    "duration": 108,
    "start_time": "2022-04-23T12:16:01.934Z"
   },
   {
    "duration": 10,
    "start_time": "2022-04-23T12:16:14.263Z"
   },
   {
    "duration": 9,
    "start_time": "2022-04-23T12:16:21.622Z"
   },
   {
    "duration": 13,
    "start_time": "2022-04-23T12:16:35.477Z"
   },
   {
    "duration": 31,
    "start_time": "2022-04-23T12:16:54.431Z"
   },
   {
    "duration": 14,
    "start_time": "2022-04-23T12:16:55.485Z"
   },
   {
    "duration": 31,
    "start_time": "2022-04-23T12:17:02.253Z"
   },
   {
    "duration": 14,
    "start_time": "2022-04-23T12:17:02.517Z"
   },
   {
    "duration": 1539,
    "start_time": "2022-04-23T12:17:21.042Z"
   },
   {
    "duration": 366,
    "start_time": "2022-04-23T12:17:22.583Z"
   },
   {
    "duration": 289,
    "start_time": "2022-04-23T12:17:22.951Z"
   },
   {
    "duration": 149,
    "start_time": "2022-04-23T12:17:23.242Z"
   },
   {
    "duration": 149,
    "start_time": "2022-04-23T12:17:23.393Z"
   },
   {
    "duration": 18,
    "start_time": "2022-04-23T12:17:23.544Z"
   },
   {
    "duration": 25,
    "start_time": "2022-04-23T12:17:23.564Z"
   },
   {
    "duration": 72,
    "start_time": "2022-04-23T12:17:23.591Z"
   },
   {
    "duration": 101,
    "start_time": "2022-04-23T12:17:23.666Z"
   },
   {
    "duration": 17,
    "start_time": "2022-04-23T12:17:23.771Z"
   },
   {
    "duration": 44,
    "start_time": "2022-04-23T12:17:23.791Z"
   },
   {
    "duration": 13,
    "start_time": "2022-04-23T12:17:23.837Z"
   },
   {
    "duration": 581,
    "start_time": "2022-04-23T12:17:23.852Z"
   },
   {
    "duration": 69,
    "start_time": "2022-04-23T12:17:24.436Z"
   },
   {
    "duration": 575,
    "start_time": "2022-04-23T12:17:24.524Z"
   },
   {
    "duration": 55,
    "start_time": "2022-04-23T12:17:25.102Z"
   },
   {
    "duration": 16,
    "start_time": "2022-04-23T12:17:25.159Z"
   },
   {
    "duration": 93,
    "start_time": "2022-04-23T12:17:25.177Z"
   },
   {
    "duration": 157,
    "start_time": "2022-04-23T12:17:25.272Z"
   },
   {
    "duration": 15,
    "start_time": "2022-04-23T12:17:25.432Z"
   },
   {
    "duration": 22,
    "start_time": "2022-04-23T12:17:25.450Z"
   },
   {
    "duration": 62,
    "start_time": "2022-04-23T12:17:25.475Z"
   },
   {
    "duration": 41,
    "start_time": "2022-04-23T12:17:25.540Z"
   },
   {
    "duration": 70,
    "start_time": "2022-04-23T12:17:25.584Z"
   },
   {
    "duration": 16,
    "start_time": "2022-04-23T12:17:25.657Z"
   },
   {
    "duration": 75,
    "start_time": "2022-04-23T12:17:25.676Z"
   },
   {
    "duration": 30,
    "start_time": "2022-04-23T12:17:25.754Z"
   },
   {
    "duration": 22,
    "start_time": "2022-04-23T12:17:25.788Z"
   },
   {
    "duration": 24,
    "start_time": "2022-04-23T12:17:25.824Z"
   },
   {
    "duration": 49,
    "start_time": "2022-04-23T12:17:25.850Z"
   },
   {
    "duration": 40,
    "start_time": "2022-04-23T12:17:25.901Z"
   },
   {
    "duration": 23,
    "start_time": "2022-04-23T12:17:25.943Z"
   },
   {
    "duration": 7,
    "start_time": "2022-04-23T12:17:51.008Z"
   },
   {
    "duration": 12,
    "start_time": "2022-04-23T12:18:09.064Z"
   },
   {
    "duration": 18,
    "start_time": "2022-04-23T12:24:26.788Z"
   },
   {
    "duration": 14,
    "start_time": "2022-04-23T12:24:38.170Z"
   },
   {
    "duration": 273,
    "start_time": "2022-04-23T12:37:22.513Z"
   },
   {
    "duration": 19,
    "start_time": "2022-04-23T12:37:26.188Z"
   },
   {
    "duration": 11,
    "start_time": "2022-04-23T12:37:49.130Z"
   },
   {
    "duration": 14,
    "start_time": "2022-04-23T12:37:59.698Z"
   },
   {
    "duration": 30,
    "start_time": "2022-04-23T12:41:22.286Z"
   },
   {
    "duration": 30,
    "start_time": "2022-04-23T12:41:46.000Z"
   },
   {
    "duration": 1524,
    "start_time": "2022-04-23T12:42:43.663Z"
   },
   {
    "duration": 374,
    "start_time": "2022-04-23T12:42:45.190Z"
   },
   {
    "duration": 278,
    "start_time": "2022-04-23T12:42:45.566Z"
   },
   {
    "duration": 147,
    "start_time": "2022-04-23T12:42:45.847Z"
   },
   {
    "duration": 142,
    "start_time": "2022-04-23T12:42:45.996Z"
   },
   {
    "duration": 16,
    "start_time": "2022-04-23T12:42:46.141Z"
   },
   {
    "duration": 28,
    "start_time": "2022-04-23T12:42:46.159Z"
   },
   {
    "duration": 52,
    "start_time": "2022-04-23T12:42:46.189Z"
   },
   {
    "duration": 108,
    "start_time": "2022-04-23T12:42:46.243Z"
   },
   {
    "duration": 17,
    "start_time": "2022-04-23T12:42:46.355Z"
   },
   {
    "duration": 43,
    "start_time": "2022-04-23T12:42:46.374Z"
   },
   {
    "duration": 32,
    "start_time": "2022-04-23T12:42:46.419Z"
   },
   {
    "duration": 546,
    "start_time": "2022-04-23T12:42:46.454Z"
   },
   {
    "duration": 76,
    "start_time": "2022-04-23T12:42:47.002Z"
   },
   {
    "duration": 584,
    "start_time": "2022-04-23T12:42:47.081Z"
   },
   {
    "duration": 63,
    "start_time": "2022-04-23T12:42:47.667Z"
   },
   {
    "duration": 5,
    "start_time": "2022-04-23T12:42:47.732Z"
   },
   {
    "duration": 72,
    "start_time": "2022-04-23T12:42:47.738Z"
   },
   {
    "duration": 159,
    "start_time": "2022-04-23T12:42:47.812Z"
   },
   {
    "duration": 14,
    "start_time": "2022-04-23T12:42:47.973Z"
   },
   {
    "duration": 9,
    "start_time": "2022-04-23T12:42:47.989Z"
   },
   {
    "duration": 58,
    "start_time": "2022-04-23T12:42:48.000Z"
   },
   {
    "duration": 37,
    "start_time": "2022-04-23T12:42:48.060Z"
   },
   {
    "duration": 67,
    "start_time": "2022-04-23T12:42:48.100Z"
   },
   {
    "duration": 15,
    "start_time": "2022-04-23T12:42:48.169Z"
   },
   {
    "duration": 53,
    "start_time": "2022-04-23T12:42:48.186Z"
   },
   {
    "duration": 30,
    "start_time": "2022-04-23T12:42:48.241Z"
   },
   {
    "duration": 12,
    "start_time": "2022-04-23T12:42:48.275Z"
   },
   {
    "duration": 37,
    "start_time": "2022-04-23T12:42:48.289Z"
   },
   {
    "duration": 13,
    "start_time": "2022-04-23T12:42:48.329Z"
   },
   {
    "duration": 8,
    "start_time": "2022-04-23T12:42:48.344Z"
   },
   {
    "duration": 8,
    "start_time": "2022-04-23T12:42:48.354Z"
   },
   {
    "duration": 9,
    "start_time": "2022-04-23T12:42:48.364Z"
   },
   {
    "duration": 42,
    "start_time": "2022-04-23T12:43:45.692Z"
   },
   {
    "duration": 43,
    "start_time": "2022-04-23T12:43:55.940Z"
   },
   {
    "duration": 7,
    "start_time": "2022-04-23T12:44:31.866Z"
   },
   {
    "duration": 45,
    "start_time": "2022-04-23T12:44:40.876Z"
   },
   {
    "duration": 13,
    "start_time": "2022-04-23T12:45:44.437Z"
   },
   {
    "duration": 14,
    "start_time": "2022-04-23T12:45:45.809Z"
   },
   {
    "duration": 1541,
    "start_time": "2022-04-23T12:46:07.517Z"
   },
   {
    "duration": 356,
    "start_time": "2022-04-23T12:46:09.061Z"
   },
   {
    "duration": 273,
    "start_time": "2022-04-23T12:46:09.419Z"
   },
   {
    "duration": 156,
    "start_time": "2022-04-23T12:46:09.695Z"
   },
   {
    "duration": 139,
    "start_time": "2022-04-23T12:46:09.853Z"
   },
   {
    "duration": 15,
    "start_time": "2022-04-23T12:46:09.994Z"
   },
   {
    "duration": 23,
    "start_time": "2022-04-23T12:46:10.012Z"
   },
   {
    "duration": 33,
    "start_time": "2022-04-23T12:46:10.037Z"
   },
   {
    "duration": 117,
    "start_time": "2022-04-23T12:46:10.072Z"
   },
   {
    "duration": 35,
    "start_time": "2022-04-23T12:46:10.193Z"
   },
   {
    "duration": 20,
    "start_time": "2022-04-23T12:46:10.230Z"
   },
   {
    "duration": 15,
    "start_time": "2022-04-23T12:46:10.252Z"
   },
   {
    "duration": 579,
    "start_time": "2022-04-23T12:46:10.269Z"
   },
   {
    "duration": 81,
    "start_time": "2022-04-23T12:46:10.850Z"
   },
   {
    "duration": 590,
    "start_time": "2022-04-23T12:46:10.934Z"
   },
   {
    "duration": 46,
    "start_time": "2022-04-23T12:46:11.526Z"
   },
   {
    "duration": 6,
    "start_time": "2022-04-23T12:46:11.575Z"
   },
   {
    "duration": 105,
    "start_time": "2022-04-23T12:46:11.583Z"
   },
   {
    "duration": 155,
    "start_time": "2022-04-23T12:46:11.690Z"
   },
   {
    "duration": 15,
    "start_time": "2022-04-23T12:46:11.847Z"
   },
   {
    "duration": 8,
    "start_time": "2022-04-23T12:46:11.864Z"
   },
   {
    "duration": 71,
    "start_time": "2022-04-23T12:46:11.874Z"
   },
   {
    "duration": 41,
    "start_time": "2022-04-23T12:46:11.947Z"
   },
   {
    "duration": 73,
    "start_time": "2022-04-23T12:46:11.990Z"
   },
   {
    "duration": 16,
    "start_time": "2022-04-23T12:46:12.065Z"
   },
   {
    "duration": 48,
    "start_time": "2022-04-23T12:46:12.083Z"
   },
   {
    "duration": 31,
    "start_time": "2022-04-23T12:46:12.133Z"
   },
   {
    "duration": 13,
    "start_time": "2022-04-23T12:46:12.169Z"
   },
   {
    "duration": 45,
    "start_time": "2022-04-23T12:46:12.185Z"
   },
   {
    "duration": 7,
    "start_time": "2022-04-23T12:46:12.232Z"
   },
   {
    "duration": 13,
    "start_time": "2022-04-23T12:46:12.241Z"
   },
   {
    "duration": 6,
    "start_time": "2022-04-23T12:46:12.257Z"
   },
   {
    "duration": 9,
    "start_time": "2022-04-23T12:46:12.266Z"
   },
   {
    "duration": 1816,
    "start_time": "2022-04-23T12:53:15.053Z"
   },
   {
    "duration": 365,
    "start_time": "2022-04-23T12:53:16.872Z"
   },
   {
    "duration": 291,
    "start_time": "2022-04-23T12:53:17.240Z"
   },
   {
    "duration": 141,
    "start_time": "2022-04-23T12:53:17.534Z"
   },
   {
    "duration": 135,
    "start_time": "2022-04-23T12:53:17.677Z"
   },
   {
    "duration": 20,
    "start_time": "2022-04-23T12:53:17.814Z"
   },
   {
    "duration": 24,
    "start_time": "2022-04-23T12:53:17.836Z"
   },
   {
    "duration": 35,
    "start_time": "2022-04-23T12:53:17.862Z"
   },
   {
    "duration": 108,
    "start_time": "2022-04-23T12:53:17.924Z"
   },
   {
    "duration": 17,
    "start_time": "2022-04-23T12:53:18.036Z"
   },
   {
    "duration": 23,
    "start_time": "2022-04-23T12:53:18.055Z"
   },
   {
    "duration": 44,
    "start_time": "2022-04-23T12:53:18.081Z"
   },
   {
    "duration": 853,
    "start_time": "2022-04-23T12:53:18.128Z"
   },
   {
    "duration": 90,
    "start_time": "2022-04-23T12:53:18.984Z"
   },
   {
    "duration": 614,
    "start_time": "2022-04-23T12:53:19.077Z"
   },
   {
    "duration": 67,
    "start_time": "2022-04-23T12:53:19.694Z"
   },
   {
    "duration": 9,
    "start_time": "2022-04-23T12:53:19.764Z"
   },
   {
    "duration": 98,
    "start_time": "2022-04-23T12:53:19.776Z"
   },
   {
    "duration": 179,
    "start_time": "2022-04-23T12:53:19.877Z"
   },
   {
    "duration": 16,
    "start_time": "2022-04-23T12:53:20.059Z"
   },
   {
    "duration": 25,
    "start_time": "2022-04-23T12:53:20.077Z"
   },
   {
    "duration": 53,
    "start_time": "2022-04-23T12:53:20.104Z"
   },
   {
    "duration": 13,
    "start_time": "2022-04-23T12:53:20.159Z"
   },
   {
    "duration": 19,
    "start_time": "2022-04-23T12:53:20.174Z"
   },
   {
    "duration": 7,
    "start_time": "2022-04-23T12:54:33.973Z"
   },
   {
    "duration": 5,
    "start_time": "2022-04-23T12:56:19.488Z"
   },
   {
    "duration": 14,
    "start_time": "2022-04-23T12:56:19.899Z"
   },
   {
    "duration": 130,
    "start_time": "2022-04-23T13:03:11.925Z"
   },
   {
    "duration": 20,
    "start_time": "2022-04-23T13:08:18.138Z"
   },
   {
    "duration": 314,
    "start_time": "2022-04-23T13:08:51.928Z"
   },
   {
    "duration": 313,
    "start_time": "2022-04-23T13:17:22.183Z"
   },
   {
    "duration": 456,
    "start_time": "2022-04-23T13:20:49.892Z"
   },
   {
    "duration": 316,
    "start_time": "2022-04-23T13:20:53.724Z"
   },
   {
    "duration": 1034,
    "start_time": "2022-04-23T13:22:13.244Z"
   },
   {
    "duration": 958,
    "start_time": "2022-04-23T13:22:20.179Z"
   },
   {
    "duration": 726,
    "start_time": "2022-04-23T13:22:31.462Z"
   },
   {
    "duration": 791,
    "start_time": "2022-04-23T13:22:34.926Z"
   },
   {
    "duration": 320,
    "start_time": "2022-04-23T13:22:58.116Z"
   },
   {
    "duration": 176,
    "start_time": "2022-04-23T13:24:27.113Z"
   },
   {
    "duration": 914,
    "start_time": "2022-04-23T13:24:36.185Z"
   },
   {
    "duration": 740,
    "start_time": "2022-04-23T13:24:47.138Z"
   },
   {
    "duration": 681,
    "start_time": "2022-04-23T13:24:58.473Z"
   },
   {
    "duration": 377,
    "start_time": "2022-04-23T13:26:35.103Z"
   },
   {
    "duration": 468,
    "start_time": "2022-04-23T13:27:20.650Z"
   },
   {
    "duration": 440,
    "start_time": "2022-04-23T13:28:06.881Z"
   },
   {
    "duration": 303,
    "start_time": "2022-04-23T13:28:13.537Z"
   },
   {
    "duration": 569,
    "start_time": "2022-04-23T13:28:17.521Z"
   },
   {
    "duration": 32,
    "start_time": "2022-04-23T13:29:11.766Z"
   },
   {
    "duration": 361,
    "start_time": "2022-04-23T13:30:37.901Z"
   },
   {
    "duration": 364,
    "start_time": "2022-04-23T13:30:56.946Z"
   },
   {
    "duration": 347,
    "start_time": "2022-04-23T13:31:19.082Z"
   },
   {
    "duration": 295,
    "start_time": "2022-04-23T13:35:52.312Z"
   },
   {
    "duration": 350,
    "start_time": "2022-04-23T13:36:04.355Z"
   },
   {
    "duration": 397,
    "start_time": "2022-04-23T13:36:09.850Z"
   },
   {
    "duration": 247,
    "start_time": "2022-04-23T13:36:21.017Z"
   },
   {
    "duration": 162,
    "start_time": "2022-04-23T13:36:42.274Z"
   },
   {
    "duration": 3985,
    "start_time": "2022-04-23T13:36:45.992Z"
   },
   {
    "duration": 3914,
    "start_time": "2022-04-23T13:36:58.586Z"
   },
   {
    "duration": 219,
    "start_time": "2022-04-23T13:37:04.791Z"
   },
   {
    "duration": 4180,
    "start_time": "2022-04-23T13:37:13.866Z"
   },
   {
    "duration": 440,
    "start_time": "2022-04-23T13:37:22.455Z"
   },
   {
    "duration": 150,
    "start_time": "2022-04-23T13:37:50.870Z"
   },
   {
    "duration": 392,
    "start_time": "2022-04-23T13:38:48.850Z"
   },
   {
    "duration": 542,
    "start_time": "2022-04-23T13:39:05.448Z"
   },
   {
    "duration": 362,
    "start_time": "2022-04-23T13:39:40.397Z"
   },
   {
    "duration": 38,
    "start_time": "2022-04-23T13:40:04.300Z"
   },
   {
    "duration": 30,
    "start_time": "2022-04-23T13:40:12.563Z"
   },
   {
    "duration": 379,
    "start_time": "2022-04-23T13:40:21.187Z"
   },
   {
    "duration": 300,
    "start_time": "2022-04-23T13:40:24.564Z"
   },
   {
    "duration": 351,
    "start_time": "2022-04-23T13:42:58.792Z"
   },
   {
    "duration": 36,
    "start_time": "2022-04-23T13:43:25.845Z"
   },
   {
    "duration": 15,
    "start_time": "2022-04-23T13:49:28.812Z"
   },
   {
    "duration": 73,
    "start_time": "2022-04-23T13:50:04.508Z"
   },
   {
    "duration": 87,
    "start_time": "2022-04-23T13:50:09.709Z"
   },
   {
    "duration": 74,
    "start_time": "2022-04-23T13:50:20.598Z"
   },
   {
    "duration": 78,
    "start_time": "2022-04-23T13:51:21.116Z"
   },
   {
    "duration": 129,
    "start_time": "2022-04-23T13:52:29.764Z"
   },
   {
    "duration": 21,
    "start_time": "2022-04-23T13:52:32.481Z"
   },
   {
    "duration": 265,
    "start_time": "2022-04-23T14:08:11.251Z"
   },
   {
    "duration": 364,
    "start_time": "2022-04-23T14:08:20.547Z"
   },
   {
    "duration": 421,
    "start_time": "2022-04-23T14:08:33.973Z"
   },
   {
    "duration": 289,
    "start_time": "2022-04-23T14:08:46.118Z"
   },
   {
    "duration": 531,
    "start_time": "2022-04-23T14:08:53.678Z"
   },
   {
    "duration": 282,
    "start_time": "2022-04-23T14:09:00.462Z"
   },
   {
    "duration": 299,
    "start_time": "2022-04-23T14:09:05.516Z"
   },
   {
    "duration": 414,
    "start_time": "2022-04-23T14:09:13.492Z"
   },
   {
    "duration": 304,
    "start_time": "2022-04-23T14:09:20.516Z"
   },
   {
    "duration": 285,
    "start_time": "2022-04-23T14:09:39.125Z"
   },
   {
    "duration": 287,
    "start_time": "2022-04-23T14:09:52.389Z"
   },
   {
    "duration": 294,
    "start_time": "2022-04-23T14:09:57.077Z"
   },
   {
    "duration": 362,
    "start_time": "2022-04-23T14:10:01.729Z"
   },
   {
    "duration": 427,
    "start_time": "2022-04-23T14:10:08.388Z"
   },
   {
    "duration": 289,
    "start_time": "2022-04-23T14:10:14.031Z"
   },
   {
    "duration": 325,
    "start_time": "2022-04-23T14:10:21.766Z"
   },
   {
    "duration": 540,
    "start_time": "2022-04-23T14:10:34.077Z"
   },
   {
    "duration": 360,
    "start_time": "2022-04-23T14:10:40.454Z"
   },
   {
    "duration": 307,
    "start_time": "2022-04-23T14:10:44.455Z"
   },
   {
    "duration": 326,
    "start_time": "2022-04-23T14:11:08.341Z"
   },
   {
    "duration": 420,
    "start_time": "2022-04-23T14:11:30.363Z"
   },
   {
    "duration": 340,
    "start_time": "2022-04-23T14:11:48.516Z"
   },
   {
    "duration": 345,
    "start_time": "2022-04-23T14:12:44.353Z"
   },
   {
    "duration": 330,
    "start_time": "2022-04-23T14:12:51.364Z"
   },
   {
    "duration": 417,
    "start_time": "2022-04-23T14:13:35.148Z"
   },
   {
    "duration": 319,
    "start_time": "2022-04-23T14:13:53.985Z"
   },
   {
    "duration": 849,
    "start_time": "2022-04-23T14:14:37.947Z"
   },
   {
    "duration": 333,
    "start_time": "2022-04-23T14:16:01.622Z"
   },
   {
    "duration": 546,
    "start_time": "2022-04-23T14:16:50.510Z"
   },
   {
    "duration": 334,
    "start_time": "2022-04-23T14:16:57.806Z"
   },
   {
    "duration": 335,
    "start_time": "2022-04-23T14:17:13.909Z"
   },
   {
    "duration": 351,
    "start_time": "2022-04-23T14:17:31.213Z"
   },
   {
    "duration": 322,
    "start_time": "2022-04-23T14:17:45.042Z"
   },
   {
    "duration": 331,
    "start_time": "2022-04-23T14:18:07.654Z"
   },
   {
    "duration": 470,
    "start_time": "2022-04-23T14:18:24.205Z"
   },
   {
    "duration": 404,
    "start_time": "2022-04-23T14:18:28.892Z"
   },
   {
    "duration": 303,
    "start_time": "2022-04-23T14:18:33.116Z"
   },
   {
    "duration": 327,
    "start_time": "2022-04-23T14:18:52.231Z"
   },
   {
    "duration": 335,
    "start_time": "2022-04-23T14:19:56.357Z"
   },
   {
    "duration": 32,
    "start_time": "2022-04-23T14:20:03.068Z"
   },
   {
    "duration": 48,
    "start_time": "2022-04-23T14:30:36.842Z"
   },
   {
    "duration": 21,
    "start_time": "2022-04-23T14:35:50.025Z"
   },
   {
    "duration": 40,
    "start_time": "2022-04-23T14:38:13.877Z"
   },
   {
    "duration": 41,
    "start_time": "2022-04-23T14:38:48.926Z"
   },
   {
    "duration": 38,
    "start_time": "2022-04-23T14:39:04.517Z"
   },
   {
    "duration": 269,
    "start_time": "2022-04-23T16:02:38.737Z"
   },
   {
    "duration": 351,
    "start_time": "2022-04-23T16:02:54.286Z"
   },
   {
    "duration": 70,
    "start_time": "2022-04-23T16:03:07.208Z"
   },
   {
    "duration": 6,
    "start_time": "2022-04-23T16:03:32.335Z"
   },
   {
    "duration": 252,
    "start_time": "2022-04-23T16:03:52.350Z"
   },
   {
    "duration": 40,
    "start_time": "2022-04-23T16:04:06.938Z"
   },
   {
    "duration": 260,
    "start_time": "2022-04-23T16:04:25.612Z"
   },
   {
    "duration": 248,
    "start_time": "2022-04-23T16:05:20.893Z"
   },
   {
    "duration": 14,
    "start_time": "2022-04-23T16:08:37.178Z"
   },
   {
    "duration": 271,
    "start_time": "2022-04-23T16:09:34.644Z"
   },
   {
    "duration": 52,
    "start_time": "2022-04-23T16:09:56.446Z"
   },
   {
    "duration": 15,
    "start_time": "2022-04-23T16:10:06.444Z"
   },
   {
    "duration": 300,
    "start_time": "2022-04-23T16:10:23.050Z"
   },
   {
    "duration": 307,
    "start_time": "2022-04-23T16:10:31.010Z"
   },
   {
    "duration": 308,
    "start_time": "2022-04-23T16:12:13.152Z"
   },
   {
    "duration": 284,
    "start_time": "2022-04-23T16:12:23.982Z"
   },
   {
    "duration": 332,
    "start_time": "2022-04-23T16:12:29.895Z"
   },
   {
    "duration": 280,
    "start_time": "2022-04-23T16:12:34.536Z"
   },
   {
    "duration": 287,
    "start_time": "2022-04-23T16:12:41.614Z"
   },
   {
    "duration": 107,
    "start_time": "2022-04-23T16:13:19.727Z"
   },
   {
    "duration": 240,
    "start_time": "2022-04-23T16:13:24.437Z"
   },
   {
    "duration": 417,
    "start_time": "2022-04-23T16:14:02.070Z"
   },
   {
    "duration": 299,
    "start_time": "2022-04-23T16:14:40.599Z"
   },
   {
    "duration": 292,
    "start_time": "2022-04-23T16:14:46.021Z"
   },
   {
    "duration": 313,
    "start_time": "2022-04-23T16:14:49.542Z"
   },
   {
    "duration": 311,
    "start_time": "2022-04-23T16:15:02.644Z"
   },
   {
    "duration": 310,
    "start_time": "2022-04-23T16:16:56.422Z"
   },
   {
    "duration": 37,
    "start_time": "2022-04-23T16:18:57.850Z"
   },
   {
    "duration": 284,
    "start_time": "2022-04-23T16:19:00.874Z"
   },
   {
    "duration": 338,
    "start_time": "2022-04-23T16:19:18.112Z"
   },
   {
    "duration": 297,
    "start_time": "2022-04-23T16:20:13.539Z"
   },
   {
    "duration": 299,
    "start_time": "2022-04-23T16:20:23.491Z"
   },
   {
    "duration": 272,
    "start_time": "2022-04-23T16:20:36.369Z"
   },
   {
    "duration": 307,
    "start_time": "2022-04-23T16:20:48.290Z"
   },
   {
    "duration": 293,
    "start_time": "2022-04-23T16:21:56.354Z"
   },
   {
    "duration": 402,
    "start_time": "2022-04-23T16:22:02.009Z"
   },
   {
    "duration": 304,
    "start_time": "2022-04-23T16:22:12.232Z"
   },
   {
    "duration": 380,
    "start_time": "2022-04-23T16:22:28.662Z"
   },
   {
    "duration": 506,
    "start_time": "2022-04-23T16:23:03.807Z"
   },
   {
    "duration": 340,
    "start_time": "2022-04-23T16:23:20.222Z"
   },
   {
    "duration": 477,
    "start_time": "2022-04-23T16:23:38.160Z"
   },
   {
    "duration": 306,
    "start_time": "2022-04-23T16:27:26.588Z"
   },
   {
    "duration": 1330,
    "start_time": "2022-04-24T09:19:44.122Z"
   },
   {
    "duration": 733,
    "start_time": "2022-04-24T09:19:45.454Z"
   },
   {
    "duration": 187,
    "start_time": "2022-04-24T09:19:46.188Z"
   },
   {
    "duration": 105,
    "start_time": "2022-04-24T09:19:46.377Z"
   },
   {
    "duration": 96,
    "start_time": "2022-04-24T09:19:46.484Z"
   },
   {
    "duration": 11,
    "start_time": "2022-04-24T09:19:46.581Z"
   },
   {
    "duration": 11,
    "start_time": "2022-04-24T09:19:46.593Z"
   },
   {
    "duration": 21,
    "start_time": "2022-04-24T09:19:46.606Z"
   },
   {
    "duration": 101,
    "start_time": "2022-04-24T09:19:46.653Z"
   },
   {
    "duration": 18,
    "start_time": "2022-04-24T09:19:46.758Z"
   },
   {
    "duration": 22,
    "start_time": "2022-04-24T09:19:46.778Z"
   },
   {
    "duration": 11,
    "start_time": "2022-04-24T09:19:46.802Z"
   },
   {
    "duration": 373,
    "start_time": "2022-04-24T09:19:46.815Z"
   },
   {
    "duration": 45,
    "start_time": "2022-04-24T09:19:47.190Z"
   },
   {
    "duration": 143,
    "start_time": "2022-04-24T09:19:47.251Z"
   },
   {
    "duration": 23,
    "start_time": "2022-04-24T09:19:47.396Z"
   },
   {
    "duration": 334,
    "start_time": "2022-04-24T09:19:47.421Z"
   },
   {
    "duration": 162,
    "start_time": "2022-04-24T09:19:47.759Z"
   },
   {
    "duration": 30,
    "start_time": "2022-04-24T09:19:47.923Z"
   },
   {
    "duration": 34,
    "start_time": "2022-04-24T09:19:47.955Z"
   },
   {
    "duration": 3,
    "start_time": "2022-04-24T09:19:47.991Z"
   },
   {
    "duration": 60,
    "start_time": "2022-04-24T09:19:47.995Z"
   },
   {
    "duration": 104,
    "start_time": "2022-04-24T09:19:48.056Z"
   },
   {
    "duration": 10,
    "start_time": "2022-04-24T09:19:48.164Z"
   },
   {
    "duration": 12,
    "start_time": "2022-04-24T09:19:48.175Z"
   },
   {
    "duration": 22,
    "start_time": "2022-04-24T09:19:48.188Z"
   },
   {
    "duration": 9,
    "start_time": "2022-04-24T09:19:48.211Z"
   },
   {
    "duration": 4,
    "start_time": "2022-04-24T09:19:48.223Z"
   },
   {
    "duration": 14,
    "start_time": "2022-04-24T09:19:48.248Z"
   },
   {
    "duration": 150,
    "start_time": "2022-04-24T09:20:23.229Z"
   },
   {
    "duration": 154,
    "start_time": "2022-04-24T09:20:32.925Z"
   },
   {
    "duration": 4,
    "start_time": "2022-04-24T09:30:41.934Z"
   },
   {
    "duration": 351,
    "start_time": "2022-04-24T09:30:42.645Z"
   },
   {
    "duration": 14,
    "start_time": "2022-04-24T09:31:06.124Z"
   },
   {
    "duration": 7,
    "start_time": "2022-04-24T09:31:47.350Z"
   },
   {
    "duration": 4,
    "start_time": "2022-04-24T09:36:47.544Z"
   },
   {
    "duration": 13,
    "start_time": "2022-04-24T09:39:05.190Z"
   },
   {
    "duration": 6,
    "start_time": "2022-04-24T09:39:16.571Z"
   },
   {
    "duration": 10,
    "start_time": "2022-04-24T09:39:22.677Z"
   },
   {
    "duration": 13,
    "start_time": "2022-04-24T09:39:27.071Z"
   },
   {
    "duration": 5,
    "start_time": "2022-04-24T09:40:52.605Z"
   },
   {
    "duration": 5,
    "start_time": "2022-04-24T09:40:58.532Z"
   },
   {
    "duration": 10,
    "start_time": "2022-04-24T09:41:09.724Z"
   },
   {
    "duration": 15,
    "start_time": "2022-04-24T10:08:39.014Z"
   },
   {
    "duration": 6,
    "start_time": "2022-04-24T10:13:25.202Z"
   },
   {
    "duration": 11,
    "start_time": "2022-04-24T10:13:30.193Z"
   },
   {
    "duration": 12,
    "start_time": "2022-04-24T10:13:36.416Z"
   },
   {
    "duration": 13,
    "start_time": "2022-04-24T10:14:46.756Z"
   },
   {
    "duration": 9,
    "start_time": "2022-04-24T10:19:56.410Z"
   },
   {
    "duration": 129,
    "start_time": "2022-04-24T10:25:57.737Z"
   },
   {
    "duration": 9576,
    "start_time": "2022-04-24T10:26:02.143Z"
   },
   {
    "duration": 6483,
    "start_time": "2022-04-24T10:31:47.891Z"
   },
   {
    "duration": 5795,
    "start_time": "2022-04-24T10:31:58.166Z"
   },
   {
    "duration": 31,
    "start_time": "2022-04-24T10:40:26.181Z"
   },
   {
    "duration": 120,
    "start_time": "2022-04-24T10:40:30.084Z"
   },
   {
    "duration": 19,
    "start_time": "2022-04-24T10:40:34.747Z"
   },
   {
    "duration": 18,
    "start_time": "2022-04-24T10:40:37.846Z"
   },
   {
    "duration": 10,
    "start_time": "2022-04-24T10:40:58.595Z"
   },
   {
    "duration": 14,
    "start_time": "2022-04-24T10:41:03.260Z"
   },
   {
    "duration": 20,
    "start_time": "2022-04-24T10:42:51.530Z"
   },
   {
    "duration": 11,
    "start_time": "2022-04-24T10:43:04.073Z"
   },
   {
    "duration": 2161,
    "start_time": "2022-04-24T10:55:18.319Z"
   },
   {
    "duration": 2217,
    "start_time": "2022-04-24T10:56:06.614Z"
   },
   {
    "duration": 56,
    "start_time": "2022-04-24T10:59:15.468Z"
   },
   {
    "duration": 6,
    "start_time": "2022-04-24T10:59:20.071Z"
   },
   {
    "duration": 1133,
    "start_time": "2022-04-24T10:59:25.834Z"
   },
   {
    "duration": 522,
    "start_time": "2022-04-24T10:59:26.969Z"
   },
   {
    "duration": 185,
    "start_time": "2022-04-24T10:59:27.493Z"
   },
   {
    "duration": 96,
    "start_time": "2022-04-24T10:59:27.680Z"
   },
   {
    "duration": 94,
    "start_time": "2022-04-24T10:59:27.777Z"
   },
   {
    "duration": 10,
    "start_time": "2022-04-24T10:59:27.872Z"
   },
   {
    "duration": 11,
    "start_time": "2022-04-24T10:59:27.884Z"
   },
   {
    "duration": 18,
    "start_time": "2022-04-24T10:59:27.897Z"
   },
   {
    "duration": 98,
    "start_time": "2022-04-24T10:59:27.916Z"
   },
   {
    "duration": 31,
    "start_time": "2022-04-24T10:59:28.018Z"
   },
   {
    "duration": 19,
    "start_time": "2022-04-24T10:59:28.051Z"
   },
   {
    "duration": 9,
    "start_time": "2022-04-24T10:59:28.072Z"
   },
   {
    "duration": 318,
    "start_time": "2022-04-24T10:59:28.083Z"
   },
   {
    "duration": 58,
    "start_time": "2022-04-24T10:59:28.402Z"
   },
   {
    "duration": 140,
    "start_time": "2022-04-24T10:59:28.462Z"
   },
   {
    "duration": 22,
    "start_time": "2022-04-24T10:59:28.604Z"
   },
   {
    "duration": 329,
    "start_time": "2022-04-24T10:59:28.628Z"
   },
   {
    "duration": 156,
    "start_time": "2022-04-24T10:59:28.959Z"
   },
   {
    "duration": 21,
    "start_time": "2022-04-24T10:59:29.117Z"
   },
   {
    "duration": 36,
    "start_time": "2022-04-24T10:59:29.140Z"
   },
   {
    "duration": 4,
    "start_time": "2022-04-24T10:59:29.178Z"
   },
   {
    "duration": 39,
    "start_time": "2022-04-24T10:59:29.184Z"
   },
   {
    "duration": 115,
    "start_time": "2022-04-24T10:59:29.225Z"
   },
   {
    "duration": 16,
    "start_time": "2022-04-24T10:59:29.341Z"
   },
   {
    "duration": 12,
    "start_time": "2022-04-24T10:59:29.364Z"
   },
   {
    "duration": 26,
    "start_time": "2022-04-24T10:59:29.378Z"
   },
   {
    "duration": 8,
    "start_time": "2022-04-24T10:59:29.405Z"
   },
   {
    "duration": 4,
    "start_time": "2022-04-24T10:59:29.416Z"
   },
   {
    "duration": 36,
    "start_time": "2022-04-24T10:59:29.421Z"
   },
   {
    "duration": 16,
    "start_time": "2022-04-24T10:59:29.459Z"
   },
   {
    "duration": 28,
    "start_time": "2022-04-24T10:59:29.476Z"
   },
   {
    "duration": 13,
    "start_time": "2022-04-24T10:59:29.505Z"
   },
   {
    "duration": 1174,
    "start_time": "2022-04-24T10:59:49.906Z"
   },
   {
    "duration": 521,
    "start_time": "2022-04-24T10:59:51.082Z"
   },
   {
    "duration": 179,
    "start_time": "2022-04-24T10:59:51.605Z"
   },
   {
    "duration": 94,
    "start_time": "2022-04-24T10:59:51.786Z"
   },
   {
    "duration": 92,
    "start_time": "2022-04-24T10:59:51.881Z"
   },
   {
    "duration": 10,
    "start_time": "2022-04-24T10:59:51.974Z"
   },
   {
    "duration": 14,
    "start_time": "2022-04-24T10:59:51.986Z"
   },
   {
    "duration": 21,
    "start_time": "2022-04-24T10:59:52.001Z"
   },
   {
    "duration": 79,
    "start_time": "2022-04-24T10:59:52.023Z"
   },
   {
    "duration": 12,
    "start_time": "2022-04-24T10:59:52.104Z"
   },
   {
    "duration": 43,
    "start_time": "2022-04-24T10:59:52.118Z"
   },
   {
    "duration": 10,
    "start_time": "2022-04-24T10:59:52.163Z"
   },
   {
    "duration": 306,
    "start_time": "2022-04-24T10:59:52.175Z"
   },
   {
    "duration": 43,
    "start_time": "2022-04-24T10:59:52.483Z"
   },
   {
    "duration": 157,
    "start_time": "2022-04-24T10:59:52.527Z"
   },
   {
    "duration": 23,
    "start_time": "2022-04-24T10:59:52.685Z"
   },
   {
    "duration": 327,
    "start_time": "2022-04-24T10:59:52.710Z"
   },
   {
    "duration": 150,
    "start_time": "2022-04-24T10:59:53.048Z"
   },
   {
    "duration": 23,
    "start_time": "2022-04-24T10:59:53.200Z"
   },
   {
    "duration": 50,
    "start_time": "2022-04-24T10:59:53.224Z"
   },
   {
    "duration": 4,
    "start_time": "2022-04-24T10:59:53.277Z"
   },
   {
    "duration": 39,
    "start_time": "2022-04-24T10:59:53.282Z"
   },
   {
    "duration": 114,
    "start_time": "2022-04-24T10:59:53.323Z"
   },
   {
    "duration": 20,
    "start_time": "2022-04-24T10:59:53.439Z"
   },
   {
    "duration": 14,
    "start_time": "2022-04-24T10:59:53.461Z"
   },
   {
    "duration": 23,
    "start_time": "2022-04-24T10:59:53.476Z"
   },
   {
    "duration": 8,
    "start_time": "2022-04-24T10:59:53.501Z"
   },
   {
    "duration": 4,
    "start_time": "2022-04-24T10:59:53.512Z"
   },
   {
    "duration": 39,
    "start_time": "2022-04-24T10:59:53.517Z"
   },
   {
    "duration": 13,
    "start_time": "2022-04-24T10:59:53.558Z"
   },
   {
    "duration": 11,
    "start_time": "2022-04-24T10:59:53.572Z"
   },
   {
    "duration": 12,
    "start_time": "2022-04-24T10:59:53.585Z"
   },
   {
    "duration": 19,
    "start_time": "2022-04-24T10:59:53.598Z"
   },
   {
    "duration": 8,
    "start_time": "2022-04-24T10:59:53.619Z"
   },
   {
    "duration": 9,
    "start_time": "2022-04-24T11:00:01.522Z"
   },
   {
    "duration": 17,
    "start_time": "2022-04-24T11:00:10.766Z"
   },
   {
    "duration": 9,
    "start_time": "2022-04-24T11:00:11.834Z"
   },
   {
    "duration": 110,
    "start_time": "2022-04-24T11:01:02.270Z"
   },
   {
    "duration": 16,
    "start_time": "2022-04-24T11:02:01.261Z"
   },
   {
    "duration": 9,
    "start_time": "2022-04-24T11:02:02.345Z"
   },
   {
    "duration": 22,
    "start_time": "2022-04-24T11:02:13.647Z"
   },
   {
    "duration": 9,
    "start_time": "2022-04-24T11:02:14.033Z"
   },
   {
    "duration": 22,
    "start_time": "2022-04-24T11:02:19.347Z"
   },
   {
    "duration": 12,
    "start_time": "2022-04-24T11:02:19.688Z"
   },
   {
    "duration": 1123,
    "start_time": "2022-04-24T11:03:32.447Z"
   },
   {
    "duration": 287,
    "start_time": "2022-04-24T11:03:33.572Z"
   },
   {
    "duration": 171,
    "start_time": "2022-04-24T11:03:33.861Z"
   },
   {
    "duration": 77,
    "start_time": "2022-04-24T11:03:34.060Z"
   },
   {
    "duration": 81,
    "start_time": "2022-04-24T11:03:34.139Z"
   },
   {
    "duration": 10,
    "start_time": "2022-04-24T11:03:34.222Z"
   },
   {
    "duration": 31,
    "start_time": "2022-04-24T11:03:34.233Z"
   },
   {
    "duration": 21,
    "start_time": "2022-04-24T11:03:34.265Z"
   },
   {
    "duration": 81,
    "start_time": "2022-04-24T11:03:34.287Z"
   },
   {
    "duration": 11,
    "start_time": "2022-04-24T11:03:34.371Z"
   },
   {
    "duration": 13,
    "start_time": "2022-04-24T11:03:34.384Z"
   },
   {
    "duration": 11,
    "start_time": "2022-04-24T11:03:34.399Z"
   },
   {
    "duration": 327,
    "start_time": "2022-04-24T11:03:34.412Z"
   },
   {
    "duration": 53,
    "start_time": "2022-04-24T11:03:34.740Z"
   },
   {
    "duration": 151,
    "start_time": "2022-04-24T11:03:34.795Z"
   },
   {
    "duration": 27,
    "start_time": "2022-04-24T11:03:34.948Z"
   },
   {
    "duration": 326,
    "start_time": "2022-04-24T11:03:34.977Z"
   },
   {
    "duration": 160,
    "start_time": "2022-04-24T11:03:35.304Z"
   },
   {
    "duration": 21,
    "start_time": "2022-04-24T11:03:35.466Z"
   },
   {
    "duration": 30,
    "start_time": "2022-04-24T11:03:35.488Z"
   },
   {
    "duration": 3,
    "start_time": "2022-04-24T11:03:35.520Z"
   },
   {
    "duration": 63,
    "start_time": "2022-04-24T11:03:35.525Z"
   },
   {
    "duration": 100,
    "start_time": "2022-04-24T11:03:35.589Z"
   },
   {
    "duration": 9,
    "start_time": "2022-04-24T11:03:35.691Z"
   },
   {
    "duration": 11,
    "start_time": "2022-04-24T11:03:35.702Z"
   },
   {
    "duration": 44,
    "start_time": "2022-04-24T11:03:35.715Z"
   },
   {
    "duration": 9,
    "start_time": "2022-04-24T11:03:35.761Z"
   },
   {
    "duration": 4,
    "start_time": "2022-04-24T11:03:35.772Z"
   },
   {
    "duration": 9,
    "start_time": "2022-04-24T11:03:35.778Z"
   },
   {
    "duration": 12,
    "start_time": "2022-04-24T11:03:35.788Z"
   },
   {
    "duration": 11,
    "start_time": "2022-04-24T11:03:35.801Z"
   },
   {
    "duration": 39,
    "start_time": "2022-04-24T11:03:35.813Z"
   },
   {
    "duration": 8,
    "start_time": "2022-04-24T11:03:35.854Z"
   },
   {
    "duration": 12,
    "start_time": "2022-04-24T11:03:53.312Z"
   },
   {
    "duration": 9,
    "start_time": "2022-04-24T11:09:39.237Z"
   },
   {
    "duration": 9,
    "start_time": "2022-04-24T11:10:41.397Z"
   },
   {
    "duration": 109,
    "start_time": "2022-04-24T11:10:50.333Z"
   },
   {
    "duration": 1116,
    "start_time": "2022-04-24T11:10:54.612Z"
   },
   {
    "duration": 9,
    "start_time": "2022-04-24T11:10:59.684Z"
   },
   {
    "duration": 9,
    "start_time": "2022-04-24T11:11:48.741Z"
   },
   {
    "duration": 138,
    "start_time": "2022-04-24T11:12:52.374Z"
   },
   {
    "duration": 121,
    "start_time": "2022-04-24T11:13:04.818Z"
   },
   {
    "duration": 109,
    "start_time": "2022-04-24T11:13:20.359Z"
   },
   {
    "duration": 107,
    "start_time": "2022-04-24T11:14:14.121Z"
   },
   {
    "duration": 106,
    "start_time": "2022-04-24T11:14:33.329Z"
   },
   {
    "duration": 115,
    "start_time": "2022-04-24T11:14:39.977Z"
   },
   {
    "duration": 1113,
    "start_time": "2022-04-24T11:14:50.418Z"
   },
   {
    "duration": 9,
    "start_time": "2022-04-24T11:15:11.885Z"
   },
   {
    "duration": 120,
    "start_time": "2022-04-24T11:15:43.336Z"
   },
   {
    "duration": 114,
    "start_time": "2022-04-24T11:16:01.624Z"
   },
   {
    "duration": 13,
    "start_time": "2022-04-24T11:16:17.658Z"
   },
   {
    "duration": 11,
    "start_time": "2022-04-24T11:17:44.544Z"
   },
   {
    "duration": 122,
    "start_time": "2022-04-24T11:18:02.791Z"
   },
   {
    "duration": 9,
    "start_time": "2022-04-24T11:18:06.990Z"
   },
   {
    "duration": 15,
    "start_time": "2022-04-24T11:18:18.048Z"
   },
   {
    "duration": 4,
    "start_time": "2022-04-24T11:18:50.766Z"
   },
   {
    "duration": 10,
    "start_time": "2022-04-24T11:19:25.517Z"
   },
   {
    "duration": 16,
    "start_time": "2022-04-24T11:19:57.516Z"
   },
   {
    "duration": 11,
    "start_time": "2022-04-24T11:20:07.277Z"
   },
   {
    "duration": 18,
    "start_time": "2022-04-24T11:20:49.260Z"
   },
   {
    "duration": 21,
    "start_time": "2022-04-24T11:20:58.237Z"
   },
   {
    "duration": 14,
    "start_time": "2022-04-24T11:21:28.635Z"
   },
   {
    "duration": 6,
    "start_time": "2022-04-24T11:27:33.935Z"
   },
   {
    "duration": 12,
    "start_time": "2022-04-24T11:31:24.723Z"
   },
   {
    "duration": 19,
    "start_time": "2022-04-24T11:31:39.939Z"
   },
   {
    "duration": 12,
    "start_time": "2022-04-24T11:31:50.260Z"
   },
   {
    "duration": 33,
    "start_time": "2022-04-24T11:32:00.843Z"
   },
   {
    "duration": 25,
    "start_time": "2022-04-24T11:32:20.034Z"
   },
   {
    "duration": 16,
    "start_time": "2022-04-24T11:32:27.098Z"
   },
   {
    "duration": 20,
    "start_time": "2022-04-24T11:32:38.764Z"
   },
   {
    "duration": 15,
    "start_time": "2022-04-24T11:32:42.483Z"
   },
   {
    "duration": 9,
    "start_time": "2022-04-24T11:33:07.922Z"
   },
   {
    "duration": 4,
    "start_time": "2022-04-24T11:33:12.202Z"
   },
   {
    "duration": 6,
    "start_time": "2022-04-24T11:33:26.369Z"
   },
   {
    "duration": 15,
    "start_time": "2022-04-24T11:37:26.167Z"
   },
   {
    "duration": 1129,
    "start_time": "2022-04-24T11:37:32.047Z"
   },
   {
    "duration": 5,
    "start_time": "2022-04-24T11:37:35.207Z"
   },
   {
    "duration": 6,
    "start_time": "2022-04-24T11:38:49.541Z"
   },
   {
    "duration": 13,
    "start_time": "2022-04-24T11:39:35.108Z"
   },
   {
    "duration": 11,
    "start_time": "2022-04-24T11:40:08.719Z"
   },
   {
    "duration": 6,
    "start_time": "2022-04-24T11:40:11.620Z"
   },
   {
    "duration": 17,
    "start_time": "2022-04-24T11:40:43.061Z"
   },
   {
    "duration": 5,
    "start_time": "2022-04-24T11:40:45.667Z"
   },
   {
    "duration": 10,
    "start_time": "2022-04-24T11:41:16.677Z"
   },
   {
    "duration": 12,
    "start_time": "2022-04-24T11:41:29.188Z"
   },
   {
    "duration": 13,
    "start_time": "2022-04-24T11:41:39.291Z"
   },
   {
    "duration": 11,
    "start_time": "2022-04-24T11:41:45.035Z"
   },
   {
    "duration": 13,
    "start_time": "2022-04-24T11:42:37.781Z"
   },
   {
    "duration": 39,
    "start_time": "2022-04-24T11:43:00.184Z"
   },
   {
    "duration": 22,
    "start_time": "2022-04-24T11:43:05.747Z"
   },
   {
    "duration": 16,
    "start_time": "2022-04-24T11:55:23.658Z"
   },
   {
    "duration": 5427,
    "start_time": "2022-04-24T11:56:09.840Z"
   },
   {
    "duration": 0,
    "start_time": "2022-04-24T11:56:15.269Z"
   },
   {
    "duration": 10,
    "start_time": "2022-04-24T11:56:20.072Z"
   },
   {
    "duration": 957,
    "start_time": "2022-04-24T11:56:32.801Z"
   },
   {
    "duration": 14,
    "start_time": "2022-04-24T11:56:56.400Z"
   },
   {
    "duration": 18,
    "start_time": "2022-04-24T12:58:21.880Z"
   },
   {
    "duration": 15,
    "start_time": "2022-04-24T12:58:51.585Z"
   },
   {
    "duration": 13,
    "start_time": "2022-04-24T12:59:01.288Z"
   },
   {
    "duration": 13,
    "start_time": "2022-04-24T12:59:12.624Z"
   },
   {
    "duration": 17,
    "start_time": "2022-04-24T12:59:27.081Z"
   },
   {
    "duration": 9,
    "start_time": "2022-04-24T13:03:11.812Z"
   },
   {
    "duration": 16,
    "start_time": "2022-04-24T13:03:24.037Z"
   },
   {
    "duration": 39,
    "start_time": "2022-04-24T13:03:29.557Z"
   },
   {
    "duration": 37,
    "start_time": "2022-04-24T13:03:49.461Z"
   },
   {
    "duration": 14,
    "start_time": "2022-04-24T13:05:51.876Z"
   },
   {
    "duration": 30,
    "start_time": "2022-04-24T13:05:59.899Z"
   },
   {
    "duration": 31,
    "start_time": "2022-04-24T13:07:50.676Z"
   },
   {
    "duration": 14,
    "start_time": "2022-04-24T13:22:43.265Z"
   },
   {
    "duration": 8501,
    "start_time": "2022-04-24T13:23:32.610Z"
   },
   {
    "duration": 9884,
    "start_time": "2022-04-24T13:23:55.699Z"
   },
   {
    "duration": 3,
    "start_time": "2022-04-24T13:24:28.698Z"
   },
   {
    "duration": 8113,
    "start_time": "2022-04-24T13:24:41.071Z"
   },
   {
    "duration": 11063,
    "start_time": "2022-04-24T13:24:50.277Z"
   },
   {
    "duration": 143,
    "start_time": "2022-04-24T13:58:09.745Z"
   },
   {
    "duration": 2058,
    "start_time": "2022-04-24T13:58:14.936Z"
   },
   {
    "duration": 1257,
    "start_time": "2022-04-24T13:58:29.070Z"
   },
   {
    "duration": 13,
    "start_time": "2022-04-24T13:58:31.825Z"
   },
   {
    "duration": 133,
    "start_time": "2022-04-24T14:01:59.273Z"
   },
   {
    "duration": 2074,
    "start_time": "2022-04-24T14:02:42.892Z"
   },
   {
    "duration": 16,
    "start_time": "2022-04-24T14:03:56.869Z"
   },
   {
    "duration": 897,
    "start_time": "2022-04-24T14:04:16.177Z"
   },
   {
    "duration": 10,
    "start_time": "2022-04-24T14:04:18.209Z"
   },
   {
    "duration": 829,
    "start_time": "2022-04-24T14:04:34.372Z"
   },
   {
    "duration": 11,
    "start_time": "2022-04-24T14:04:35.203Z"
   },
   {
    "duration": 28,
    "start_time": "2022-04-24T14:13:14.731Z"
   },
   {
    "duration": 15,
    "start_time": "2022-04-24T14:13:33.766Z"
   },
   {
    "duration": 810,
    "start_time": "2022-04-24T14:13:55.627Z"
   },
   {
    "duration": 12,
    "start_time": "2022-04-24T14:13:57.273Z"
   },
   {
    "duration": 859,
    "start_time": "2022-04-24T14:14:16.853Z"
   },
   {
    "duration": 12,
    "start_time": "2022-04-24T14:14:17.714Z"
   },
   {
    "duration": 850,
    "start_time": "2022-04-24T14:15:01.571Z"
   },
   {
    "duration": 17,
    "start_time": "2022-04-24T14:15:02.851Z"
   },
   {
    "duration": 831,
    "start_time": "2022-04-24T14:15:37.689Z"
   },
   {
    "duration": 11,
    "start_time": "2022-04-24T14:15:38.722Z"
   },
   {
    "duration": 11,
    "start_time": "2022-04-24T14:16:55.241Z"
   },
   {
    "duration": 9,
    "start_time": "2022-04-24T14:16:58.488Z"
   },
   {
    "duration": 19,
    "start_time": "2022-04-24T14:17:03.991Z"
   },
   {
    "duration": 25,
    "start_time": "2022-04-24T14:46:25.596Z"
   },
   {
    "duration": 12,
    "start_time": "2022-04-24T14:47:04.280Z"
   },
   {
    "duration": 8,
    "start_time": "2022-04-24T14:47:25.486Z"
   },
   {
    "duration": 12,
    "start_time": "2022-04-24T14:47:25.922Z"
   },
   {
    "duration": 14,
    "start_time": "2022-04-24T14:47:30.067Z"
   },
   {
    "duration": 13,
    "start_time": "2022-04-24T14:48:42.174Z"
   },
   {
    "duration": 13,
    "start_time": "2022-04-24T14:48:42.913Z"
   },
   {
    "duration": 6,
    "start_time": "2022-04-24T14:48:50.943Z"
   },
   {
    "duration": 3,
    "start_time": "2022-04-24T14:48:57.479Z"
   },
   {
    "duration": 4,
    "start_time": "2022-04-24T14:49:00.126Z"
   },
   {
    "duration": 3,
    "start_time": "2022-04-24T14:49:03.902Z"
   },
   {
    "duration": 13,
    "start_time": "2022-04-24T14:49:05.882Z"
   },
   {
    "duration": 2241,
    "start_time": "2022-04-24T14:49:57.790Z"
   },
   {
    "duration": 19,
    "start_time": "2022-04-24T14:50:00.162Z"
   },
   {
    "duration": 47,
    "start_time": "2022-04-24T14:50:21.493Z"
   },
   {
    "duration": 18,
    "start_time": "2022-04-24T14:50:23.772Z"
   },
   {
    "duration": 40,
    "start_time": "2022-04-24T14:50:31.932Z"
   },
   {
    "duration": 13,
    "start_time": "2022-04-24T14:50:35.886Z"
   },
   {
    "duration": 6,
    "start_time": "2022-04-24T14:51:00.308Z"
   },
   {
    "duration": 44,
    "start_time": "2022-04-24T14:51:16.795Z"
   },
   {
    "duration": 21,
    "start_time": "2022-04-24T14:51:18.541Z"
   },
   {
    "duration": 14,
    "start_time": "2022-04-24T14:51:52.877Z"
   },
   {
    "duration": 12,
    "start_time": "2022-04-24T14:51:56.189Z"
   },
   {
    "duration": 12,
    "start_time": "2022-04-24T14:52:14.585Z"
   },
   {
    "duration": 11,
    "start_time": "2022-04-24T14:52:14.819Z"
   },
   {
    "duration": 6,
    "start_time": "2022-04-24T14:52:20.018Z"
   },
   {
    "duration": 55,
    "start_time": "2022-04-24T14:52:20.269Z"
   },
   {
    "duration": 12,
    "start_time": "2022-04-24T14:52:20.505Z"
   },
   {
    "duration": 11,
    "start_time": "2022-04-24T14:52:20.913Z"
   },
   {
    "duration": 35,
    "start_time": "2022-04-24T14:52:29.659Z"
   },
   {
    "duration": 10,
    "start_time": "2022-04-24T14:53:47.672Z"
   },
   {
    "duration": 16,
    "start_time": "2022-04-24T14:53:49.849Z"
   },
   {
    "duration": 40,
    "start_time": "2022-04-24T14:54:14.066Z"
   },
   {
    "duration": 11,
    "start_time": "2022-04-24T14:54:16.345Z"
   },
   {
    "duration": 68,
    "start_time": "2022-04-24T14:54:16.624Z"
   },
   {
    "duration": 12,
    "start_time": "2022-04-24T14:54:16.936Z"
   },
   {
    "duration": 29,
    "start_time": "2022-04-24T14:54:17.409Z"
   },
   {
    "duration": 33,
    "start_time": "2022-04-24T14:55:34.223Z"
   },
   {
    "duration": 416,
    "start_time": "2022-04-24T14:56:06.645Z"
   },
   {
    "duration": 439,
    "start_time": "2022-04-24T14:56:22.172Z"
   },
   {
    "duration": 452,
    "start_time": "2022-04-24T14:56:26.288Z"
   },
   {
    "duration": 496,
    "start_time": "2022-04-24T14:58:01.997Z"
   },
   {
    "duration": 8,
    "start_time": "2022-04-24T15:01:40.072Z"
   },
   {
    "duration": 50,
    "start_time": "2022-04-24T15:01:41.570Z"
   },
   {
    "duration": 14,
    "start_time": "2022-04-24T15:01:42.060Z"
   },
   {
    "duration": 521,
    "start_time": "2022-04-24T15:01:42.407Z"
   },
   {
    "duration": 7,
    "start_time": "2022-04-24T15:01:48.830Z"
   },
   {
    "duration": 21,
    "start_time": "2022-04-24T15:01:53.066Z"
   },
   {
    "duration": 7,
    "start_time": "2022-04-24T15:01:56.839Z"
   },
   {
    "duration": 66,
    "start_time": "2022-04-24T15:01:57.086Z"
   },
   {
    "duration": 14,
    "start_time": "2022-04-24T15:01:57.274Z"
   },
   {
    "duration": 465,
    "start_time": "2022-04-24T15:01:58.195Z"
   },
   {
    "duration": 7,
    "start_time": "2022-04-24T15:02:06.511Z"
   },
   {
    "duration": 67,
    "start_time": "2022-04-24T15:02:06.824Z"
   },
   {
    "duration": 465,
    "start_time": "2022-04-24T15:02:09.647Z"
   },
   {
    "duration": 11,
    "start_time": "2022-04-24T15:02:20.590Z"
   },
   {
    "duration": 80,
    "start_time": "2022-04-24T15:02:22.126Z"
   },
   {
    "duration": 21,
    "start_time": "2022-04-24T15:02:27.318Z"
   },
   {
    "duration": 550,
    "start_time": "2022-04-24T15:02:36.516Z"
   },
   {
    "duration": 1507,
    "start_time": "2022-04-24T15:03:08.003Z"
   },
   {
    "duration": 418,
    "start_time": "2022-04-24T15:03:09.514Z"
   },
   {
    "duration": 308,
    "start_time": "2022-04-24T15:03:09.934Z"
   },
   {
    "duration": 132,
    "start_time": "2022-04-24T15:03:10.254Z"
   },
   {
    "duration": 128,
    "start_time": "2022-04-24T15:03:10.389Z"
   },
   {
    "duration": 17,
    "start_time": "2022-04-24T15:03:10.519Z"
   },
   {
    "duration": 27,
    "start_time": "2022-04-24T15:03:10.538Z"
   },
   {
    "duration": 65,
    "start_time": "2022-04-24T15:03:10.569Z"
   },
   {
    "duration": 110,
    "start_time": "2022-04-24T15:03:10.636Z"
   },
   {
    "duration": 23,
    "start_time": "2022-04-24T15:03:10.749Z"
   },
   {
    "duration": 53,
    "start_time": "2022-04-24T15:03:10.774Z"
   },
   {
    "duration": 13,
    "start_time": "2022-04-24T15:03:10.829Z"
   },
   {
    "duration": 527,
    "start_time": "2022-04-24T15:03:10.845Z"
   },
   {
    "duration": 80,
    "start_time": "2022-04-24T15:03:11.376Z"
   },
   {
    "duration": 210,
    "start_time": "2022-04-24T15:03:11.459Z"
   },
   {
    "duration": 38,
    "start_time": "2022-04-24T15:03:11.671Z"
   },
   {
    "duration": 495,
    "start_time": "2022-04-24T15:03:11.711Z"
   },
   {
    "duration": 216,
    "start_time": "2022-04-24T15:03:12.210Z"
   },
   {
    "duration": 54,
    "start_time": "2022-04-24T15:03:12.428Z"
   },
   {
    "duration": 71,
    "start_time": "2022-04-24T15:03:12.485Z"
   },
   {
    "duration": 4,
    "start_time": "2022-04-24T15:03:12.559Z"
   },
   {
    "duration": 97,
    "start_time": "2022-04-24T15:03:12.566Z"
   },
   {
    "duration": 143,
    "start_time": "2022-04-24T15:03:12.666Z"
   },
   {
    "duration": 15,
    "start_time": "2022-04-24T15:03:12.813Z"
   },
   {
    "duration": 30,
    "start_time": "2022-04-24T15:03:12.831Z"
   },
   {
    "duration": 69,
    "start_time": "2022-04-24T15:03:12.863Z"
   },
   {
    "duration": 12,
    "start_time": "2022-04-24T15:03:12.935Z"
   },
   {
    "duration": 6,
    "start_time": "2022-04-24T15:03:12.954Z"
   },
   {
    "duration": 16,
    "start_time": "2022-04-24T15:03:12.962Z"
   },
   {
    "duration": 60,
    "start_time": "2022-04-24T15:03:12.982Z"
   },
   {
    "duration": 71,
    "start_time": "2022-04-24T15:03:13.044Z"
   },
   {
    "duration": 587,
    "start_time": "2022-04-24T15:03:13.117Z"
   },
   {
    "duration": 18,
    "start_time": "2022-04-24T15:03:13.706Z"
   },
   {
    "duration": 11,
    "start_time": "2022-04-24T15:04:19.118Z"
   },
   {
    "duration": 397,
    "start_time": "2022-04-24T15:04:25.070Z"
   },
   {
    "duration": 7,
    "start_time": "2022-04-24T15:06:25.326Z"
   },
   {
    "duration": 66,
    "start_time": "2022-04-24T15:06:25.335Z"
   },
   {
    "duration": 517,
    "start_time": "2022-04-24T15:06:25.403Z"
   },
   {
    "duration": 13,
    "start_time": "2022-04-24T15:24:00.706Z"
   },
   {
    "duration": 19,
    "start_time": "2022-04-24T15:25:32.506Z"
   },
   {
    "duration": 26,
    "start_time": "2022-04-24T15:25:38.028Z"
   },
   {
    "duration": 20,
    "start_time": "2022-04-24T15:25:47.713Z"
   },
   {
    "duration": 23,
    "start_time": "2022-04-24T15:25:55.193Z"
   },
   {
    "duration": 15,
    "start_time": "2022-04-24T15:28:16.567Z"
   },
   {
    "duration": 18,
    "start_time": "2022-04-24T15:29:31.121Z"
   },
   {
    "duration": 20,
    "start_time": "2022-04-24T15:29:43.893Z"
   },
   {
    "duration": 19,
    "start_time": "2022-04-24T15:30:22.971Z"
   },
   {
    "duration": 16,
    "start_time": "2022-04-24T15:30:54.579Z"
   },
   {
    "duration": 15,
    "start_time": "2022-04-24T15:31:16.044Z"
   },
   {
    "duration": 12,
    "start_time": "2022-04-24T15:31:22.411Z"
   },
   {
    "duration": 17,
    "start_time": "2022-04-24T16:05:54.751Z"
   },
   {
    "duration": 170,
    "start_time": "2022-04-24T16:07:14.494Z"
   },
   {
    "duration": 11,
    "start_time": "2022-04-24T16:07:18.143Z"
   },
   {
    "duration": 13,
    "start_time": "2022-04-24T16:07:40.223Z"
   },
   {
    "duration": 115,
    "start_time": "2022-04-24T16:09:04.886Z"
   },
   {
    "duration": 131,
    "start_time": "2022-04-24T16:09:28.277Z"
   },
   {
    "duration": 15,
    "start_time": "2022-04-24T16:09:29.076Z"
   },
   {
    "duration": 7,
    "start_time": "2022-04-24T16:35:22.840Z"
   },
   {
    "duration": 19,
    "start_time": "2022-04-24T16:36:03.136Z"
   },
   {
    "duration": 14,
    "start_time": "2022-04-24T16:36:08.696Z"
   },
   {
    "duration": 230,
    "start_time": "2022-04-24T16:38:52.660Z"
   },
   {
    "duration": 17,
    "start_time": "2022-04-24T16:39:11.065Z"
   },
   {
    "duration": 192,
    "start_time": "2022-04-24T16:39:33.036Z"
   },
   {
    "duration": 14,
    "start_time": "2022-04-24T16:39:33.908Z"
   },
   {
    "duration": 131,
    "start_time": "2022-04-24T16:39:52.055Z"
   },
   {
    "duration": 10,
    "start_time": "2022-04-24T16:39:53.332Z"
   },
   {
    "duration": 176,
    "start_time": "2022-04-24T16:39:58.028Z"
   },
   {
    "duration": 10,
    "start_time": "2022-04-24T16:39:58.420Z"
   },
   {
    "duration": 8,
    "start_time": "2022-04-24T16:40:53.418Z"
   },
   {
    "duration": 27,
    "start_time": "2022-04-24T16:40:53.760Z"
   },
   {
    "duration": 15,
    "start_time": "2022-04-24T16:40:55.907Z"
   },
   {
    "duration": 167,
    "start_time": "2022-04-24T16:46:07.720Z"
   },
   {
    "duration": 11,
    "start_time": "2022-04-24T16:46:08.032Z"
   },
   {
    "duration": 23,
    "start_time": "2022-04-24T16:46:16.103Z"
   },
   {
    "duration": 10,
    "start_time": "2022-04-24T16:46:18.640Z"
   },
   {
    "duration": 22,
    "start_time": "2022-04-24T16:46:18.883Z"
   },
   {
    "duration": 17,
    "start_time": "2022-04-24T16:46:22.779Z"
   },
   {
    "duration": 16,
    "start_time": "2022-04-24T16:46:52.607Z"
   },
   {
    "duration": 10,
    "start_time": "2022-04-24T16:47:00.142Z"
   },
   {
    "duration": 21,
    "start_time": "2022-04-24T16:47:00.390Z"
   },
   {
    "duration": 18,
    "start_time": "2022-04-24T16:47:03.081Z"
   },
   {
    "duration": 15,
    "start_time": "2022-04-24T16:47:17.676Z"
   },
   {
    "duration": 13,
    "start_time": "2022-04-24T16:48:49.494Z"
   },
   {
    "duration": 31,
    "start_time": "2022-04-24T16:49:01.821Z"
   },
   {
    "duration": 17,
    "start_time": "2022-04-24T16:49:24.213Z"
   },
   {
    "duration": 150,
    "start_time": "2022-04-24T16:50:16.182Z"
   },
   {
    "duration": 12,
    "start_time": "2022-04-24T16:50:18.987Z"
   },
   {
    "duration": 29,
    "start_time": "2022-04-24T16:50:30.241Z"
   },
   {
    "duration": 22,
    "start_time": "2022-04-24T16:50:32.282Z"
   },
   {
    "duration": 141,
    "start_time": "2022-04-24T16:50:45.093Z"
   },
   {
    "duration": 13,
    "start_time": "2022-04-24T16:50:46.072Z"
   },
   {
    "duration": 47,
    "start_time": "2022-04-24T16:50:59.480Z"
   },
   {
    "duration": 7,
    "start_time": "2022-04-24T16:51:07.284Z"
   },
   {
    "duration": 31,
    "start_time": "2022-04-24T16:51:07.756Z"
   },
   {
    "duration": 140,
    "start_time": "2022-04-24T16:51:08.684Z"
   },
   {
    "duration": 11,
    "start_time": "2022-04-24T16:51:09.895Z"
   },
   {
    "duration": 7,
    "start_time": "2022-04-24T16:51:36.092Z"
   },
   {
    "duration": 19,
    "start_time": "2022-04-24T16:51:36.372Z"
   },
   {
    "duration": 147,
    "start_time": "2022-04-24T16:51:36.768Z"
   },
   {
    "duration": 19,
    "start_time": "2022-04-24T16:51:37.253Z"
   },
   {
    "duration": 55,
    "start_time": "2022-04-24T16:52:25.765Z"
   },
   {
    "duration": 15,
    "start_time": "2022-04-24T16:52:26.299Z"
   },
   {
    "duration": 8,
    "start_time": "2022-04-24T16:52:30.482Z"
   },
   {
    "duration": 20,
    "start_time": "2022-04-24T16:52:30.672Z"
   },
   {
    "duration": 164,
    "start_time": "2022-04-24T16:52:30.842Z"
   },
   {
    "duration": 13,
    "start_time": "2022-04-24T16:54:58.931Z"
   },
   {
    "duration": 4,
    "start_time": "2022-04-24T16:55:11.800Z"
   },
   {
    "duration": 131,
    "start_time": "2022-04-24T16:56:12.503Z"
   },
   {
    "duration": 1086,
    "start_time": "2022-04-24T16:56:17.087Z"
   },
   {
    "duration": 2282,
    "start_time": "2022-04-24T16:56:45.143Z"
   },
   {
    "duration": 994,
    "start_time": "2022-04-24T16:56:52.889Z"
   },
   {
    "duration": 1056,
    "start_time": "2022-04-24T16:56:56.469Z"
   },
   {
    "duration": 7,
    "start_time": "2022-04-24T16:57:42.734Z"
   },
   {
    "duration": 12,
    "start_time": "2022-04-24T16:57:52.475Z"
   },
   {
    "duration": 11,
    "start_time": "2022-04-24T16:57:56.059Z"
   },
   {
    "duration": 8,
    "start_time": "2022-04-24T16:58:00.219Z"
   },
   {
    "duration": 8,
    "start_time": "2022-04-24T16:58:03.084Z"
   },
   {
    "duration": 15,
    "start_time": "2022-04-24T16:58:05.948Z"
   },
   {
    "duration": 18,
    "start_time": "2022-04-24T16:58:08.775Z"
   },
   {
    "duration": 10,
    "start_time": "2022-04-24T16:58:13.220Z"
   },
   {
    "duration": 13,
    "start_time": "2022-04-24T16:58:24.263Z"
   },
   {
    "duration": 15,
    "start_time": "2022-04-24T16:58:27.879Z"
   },
   {
    "duration": 14,
    "start_time": "2022-04-24T16:59:26.686Z"
   },
   {
    "duration": 30,
    "start_time": "2022-04-24T16:59:27.071Z"
   },
   {
    "duration": 19,
    "start_time": "2022-04-24T16:59:33.383Z"
   },
   {
    "duration": 12,
    "start_time": "2022-04-24T16:59:56.085Z"
   },
   {
    "duration": 14,
    "start_time": "2022-04-24T16:59:59.670Z"
   },
   {
    "duration": 11,
    "start_time": "2022-04-24T17:00:12.680Z"
   },
   {
    "duration": 26,
    "start_time": "2022-04-24T17:00:20.339Z"
   },
   {
    "duration": 8,
    "start_time": "2022-04-24T17:00:24.201Z"
   },
   {
    "duration": 100,
    "start_time": "2022-04-24T17:04:34.397Z"
   },
   {
    "duration": 77,
    "start_time": "2022-04-24T17:04:43.045Z"
   },
   {
    "duration": 63,
    "start_time": "2022-04-24T17:05:25.177Z"
   },
   {
    "duration": 59,
    "start_time": "2022-04-24T17:05:40.268Z"
   },
   {
    "duration": 9,
    "start_time": "2022-04-24T17:05:48.204Z"
   },
   {
    "duration": 111,
    "start_time": "2022-04-24T17:06:00.835Z"
   },
   {
    "duration": 16,
    "start_time": "2022-04-24T17:08:59.010Z"
   },
   {
    "duration": 13,
    "start_time": "2022-04-24T17:09:13.801Z"
   },
   {
    "duration": 11,
    "start_time": "2022-04-24T17:09:29.881Z"
   },
   {
    "duration": 4,
    "start_time": "2022-04-24T17:09:48.511Z"
   },
   {
    "duration": 96,
    "start_time": "2022-04-24T17:10:09.976Z"
   },
   {
    "duration": 12,
    "start_time": "2022-04-24T17:10:16.920Z"
   },
   {
    "duration": 6,
    "start_time": "2022-04-24T17:10:22.494Z"
   },
   {
    "duration": 351,
    "start_time": "2022-04-24T17:10:28.599Z"
   },
   {
    "duration": 28,
    "start_time": "2022-04-24T17:10:32.598Z"
   },
   {
    "duration": 17,
    "start_time": "2022-04-24T17:11:53.999Z"
   },
   {
    "duration": 16,
    "start_time": "2022-04-24T17:12:06.022Z"
   },
   {
    "duration": 7,
    "start_time": "2022-04-24T17:14:19.309Z"
   },
   {
    "duration": 18,
    "start_time": "2022-04-24T17:14:19.983Z"
   },
   {
    "duration": 22,
    "start_time": "2022-04-24T17:14:41.332Z"
   },
   {
    "duration": 14,
    "start_time": "2022-04-24T17:14:52.043Z"
   },
   {
    "duration": 18,
    "start_time": "2022-04-24T17:15:54.949Z"
   },
   {
    "duration": 13,
    "start_time": "2022-04-24T17:16:15.497Z"
   },
   {
    "duration": 11,
    "start_time": "2022-04-24T17:16:24.323Z"
   },
   {
    "duration": 8,
    "start_time": "2022-04-24T17:16:53.114Z"
   },
   {
    "duration": 5,
    "start_time": "2022-04-24T17:16:56.233Z"
   },
   {
    "duration": 12,
    "start_time": "2022-04-24T17:16:56.506Z"
   },
   {
    "duration": 4,
    "start_time": "2022-04-24T17:17:03.611Z"
   },
   {
    "duration": 12,
    "start_time": "2022-04-24T17:17:04.241Z"
   },
   {
    "duration": 6,
    "start_time": "2022-04-24T17:17:28.120Z"
   },
   {
    "duration": 8,
    "start_time": "2022-04-24T17:17:31.736Z"
   },
   {
    "duration": 25,
    "start_time": "2022-04-24T17:18:16.569Z"
   },
   {
    "duration": 7,
    "start_time": "2022-04-24T17:18:17.081Z"
   },
   {
    "duration": 11,
    "start_time": "2022-04-24T17:18:28.274Z"
   },
   {
    "duration": 9,
    "start_time": "2022-04-24T17:18:53.360Z"
   },
   {
    "duration": 14,
    "start_time": "2022-04-24T17:20:07.895Z"
   },
   {
    "duration": 13,
    "start_time": "2022-04-24T17:20:34.479Z"
   },
   {
    "duration": 15,
    "start_time": "2022-04-24T17:24:24.098Z"
   },
   {
    "duration": 7,
    "start_time": "2022-04-24T17:24:36.292Z"
   },
   {
    "duration": 11,
    "start_time": "2022-04-24T17:24:40.834Z"
   },
   {
    "duration": 6,
    "start_time": "2022-04-24T17:25:08.473Z"
   },
   {
    "duration": 12,
    "start_time": "2022-04-24T17:25:55.282Z"
   },
   {
    "duration": 9,
    "start_time": "2022-04-24T17:33:59.860Z"
   },
   {
    "duration": 11,
    "start_time": "2022-04-24T17:34:00.445Z"
   },
   {
    "duration": 9,
    "start_time": "2022-04-24T17:35:35.562Z"
   },
   {
    "duration": 13,
    "start_time": "2022-04-24T17:35:42.452Z"
   },
   {
    "duration": 12,
    "start_time": "2022-04-24T17:50:32.623Z"
   },
   {
    "duration": 211,
    "start_time": "2022-04-24T17:55:58.050Z"
   },
   {
    "duration": 4,
    "start_time": "2022-04-24T17:56:06.964Z"
   },
   {
    "duration": 347,
    "start_time": "2022-04-24T17:56:19.827Z"
   },
   {
    "duration": 13,
    "start_time": "2022-04-24T17:56:24.036Z"
   },
   {
    "duration": 269,
    "start_time": "2022-04-24T17:56:45.769Z"
   },
   {
    "duration": 12,
    "start_time": "2022-04-24T17:56:46.476Z"
   },
   {
    "duration": 244,
    "start_time": "2022-04-24T17:57:07.786Z"
   },
   {
    "duration": 9,
    "start_time": "2022-04-24T17:57:08.881Z"
   },
   {
    "duration": 248,
    "start_time": "2022-04-24T17:57:42.378Z"
   },
   {
    "duration": 9,
    "start_time": "2022-04-24T17:57:43.514Z"
   },
   {
    "duration": 159,
    "start_time": "2022-04-24T17:58:05.848Z"
   },
   {
    "duration": 276,
    "start_time": "2022-04-24T17:58:29.818Z"
   },
   {
    "duration": 10,
    "start_time": "2022-04-24T17:58:30.688Z"
   },
   {
    "duration": 249,
    "start_time": "2022-04-24T17:58:36.584Z"
   },
   {
    "duration": 9,
    "start_time": "2022-04-24T17:58:37.136Z"
   },
   {
    "duration": 267,
    "start_time": "2022-04-24T17:59:08.074Z"
   },
   {
    "duration": 17,
    "start_time": "2022-04-24T17:59:08.651Z"
   },
   {
    "duration": 13,
    "start_time": "2022-04-24T18:01:23.680Z"
   },
   {
    "duration": 252,
    "start_time": "2022-04-24T18:03:26.777Z"
   },
   {
    "duration": 10,
    "start_time": "2022-04-24T18:03:27.587Z"
   },
   {
    "duration": 266,
    "start_time": "2022-04-24T18:05:42.325Z"
   },
   {
    "duration": 10,
    "start_time": "2022-04-24T18:05:48.235Z"
   },
   {
    "duration": 284,
    "start_time": "2022-04-24T18:05:51.873Z"
   },
   {
    "duration": 300,
    "start_time": "2022-04-24T18:05:56.691Z"
   },
   {
    "duration": 49,
    "start_time": "2022-04-24T18:06:37.856Z"
   },
   {
    "duration": 329,
    "start_time": "2022-04-24T18:06:58.578Z"
   },
   {
    "duration": 321,
    "start_time": "2022-04-24T18:07:00.073Z"
   },
   {
    "duration": 30,
    "start_time": "2022-04-24T18:07:05.144Z"
   },
   {
    "duration": 1407,
    "start_time": "2022-04-25T11:00:44.476Z"
   },
   {
    "duration": 1136,
    "start_time": "2022-04-25T11:00:45.886Z"
   },
   {
    "duration": 233,
    "start_time": "2022-04-25T11:00:47.023Z"
   },
   {
    "duration": 166,
    "start_time": "2022-04-25T11:00:47.260Z"
   },
   {
    "duration": 100,
    "start_time": "2022-04-25T11:00:47.428Z"
   },
   {
    "duration": 18,
    "start_time": "2022-04-25T11:00:47.531Z"
   },
   {
    "duration": 18,
    "start_time": "2022-04-25T11:00:47.551Z"
   },
   {
    "duration": 53,
    "start_time": "2022-04-25T11:00:47.571Z"
   },
   {
    "duration": 71,
    "start_time": "2022-04-25T11:00:47.625Z"
   },
   {
    "duration": 30,
    "start_time": "2022-04-25T11:00:47.699Z"
   },
   {
    "duration": 24,
    "start_time": "2022-04-25T11:00:47.731Z"
   },
   {
    "duration": 13,
    "start_time": "2022-04-25T11:00:47.757Z"
   },
   {
    "duration": 359,
    "start_time": "2022-04-25T11:00:47.772Z"
   },
   {
    "duration": 50,
    "start_time": "2022-04-25T11:00:48.133Z"
   },
   {
    "duration": 182,
    "start_time": "2022-04-25T11:00:48.186Z"
   },
   {
    "duration": 25,
    "start_time": "2022-04-25T11:00:48.370Z"
   },
   {
    "duration": 371,
    "start_time": "2022-04-25T11:00:48.397Z"
   },
   {
    "duration": 173,
    "start_time": "2022-04-25T11:00:48.770Z"
   },
   {
    "duration": 24,
    "start_time": "2022-04-25T11:00:48.945Z"
   },
   {
    "duration": 54,
    "start_time": "2022-04-25T11:00:48.971Z"
   },
   {
    "duration": 5,
    "start_time": "2022-04-25T11:00:49.027Z"
   },
   {
    "duration": 54,
    "start_time": "2022-04-25T11:00:49.035Z"
   },
   {
    "duration": 106,
    "start_time": "2022-04-25T11:00:49.091Z"
   },
   {
    "duration": 12,
    "start_time": "2022-04-25T11:00:49.199Z"
   },
   {
    "duration": 18,
    "start_time": "2022-04-25T11:00:49.224Z"
   },
   {
    "duration": 30,
    "start_time": "2022-04-25T11:00:49.244Z"
   },
   {
    "duration": 9,
    "start_time": "2022-04-25T11:00:49.276Z"
   },
   {
    "duration": 10,
    "start_time": "2022-04-25T11:00:49.288Z"
   },
   {
    "duration": 25,
    "start_time": "2022-04-25T11:00:49.299Z"
   },
   {
    "duration": 35,
    "start_time": "2022-04-25T11:00:49.325Z"
   },
   {
    "duration": 38,
    "start_time": "2022-04-25T11:00:49.362Z"
   },
   {
    "duration": 510,
    "start_time": "2022-04-25T11:00:49.401Z"
   },
   {
    "duration": 26,
    "start_time": "2022-04-25T11:00:49.913Z"
   },
   {
    "duration": 15,
    "start_time": "2022-04-25T11:00:49.941Z"
   },
   {
    "duration": 466,
    "start_time": "2022-04-25T11:00:49.957Z"
   },
   {
    "duration": 277,
    "start_time": "2022-04-25T11:00:50.425Z"
   },
   {
    "duration": 8,
    "start_time": "2022-04-25T11:00:50.704Z"
   },
   {
    "duration": 12,
    "start_time": "2022-04-25T11:00:50.725Z"
   },
   {
    "duration": 21,
    "start_time": "2022-04-25T11:00:50.739Z"
   },
   {
    "duration": 116,
    "start_time": "2022-04-25T11:00:50.762Z"
   },
   {
    "duration": 0,
    "start_time": "2022-04-25T11:00:50.879Z"
   },
   {
    "duration": 0,
    "start_time": "2022-04-25T11:00:50.977Z"
   },
   {
    "duration": 10,
    "start_time": "2022-04-25T11:01:16.266Z"
   },
   {
    "duration": 248,
    "start_time": "2022-04-25T11:01:31.266Z"
   },
   {
    "duration": 12,
    "start_time": "2022-04-25T11:01:36.297Z"
   },
   {
    "duration": 19,
    "start_time": "2022-04-25T11:01:57.546Z"
   },
   {
    "duration": 31,
    "start_time": "2022-04-25T11:02:53.953Z"
   },
   {
    "duration": 13,
    "start_time": "2022-04-25T11:04:47.296Z"
   },
   {
    "duration": 21,
    "start_time": "2022-04-25T11:05:09.376Z"
   },
   {
    "duration": 6,
    "start_time": "2022-04-25T11:06:53.068Z"
   },
   {
    "duration": 5,
    "start_time": "2022-04-25T11:10:22.203Z"
   },
   {
    "duration": 22,
    "start_time": "2022-04-25T11:10:26.905Z"
   },
   {
    "duration": 4,
    "start_time": "2022-04-25T11:12:18.953Z"
   },
   {
    "duration": 16,
    "start_time": "2022-04-25T11:12:24.137Z"
   },
   {
    "duration": 10,
    "start_time": "2022-04-25T11:12:43.320Z"
   },
   {
    "duration": 6,
    "start_time": "2022-04-25T11:12:47.312Z"
   },
   {
    "duration": 5,
    "start_time": "2022-04-25T11:13:05.599Z"
   },
   {
    "duration": 15,
    "start_time": "2022-04-25T11:13:08.939Z"
   },
   {
    "duration": 10,
    "start_time": "2022-04-25T11:19:34.325Z"
   },
   {
    "duration": 9,
    "start_time": "2022-04-25T11:20:10.393Z"
   },
   {
    "duration": 10,
    "start_time": "2022-04-25T11:20:19.245Z"
   },
   {
    "duration": 167,
    "start_time": "2022-04-25T11:20:26.605Z"
   },
   {
    "duration": 253,
    "start_time": "2022-04-25T11:21:25.139Z"
   },
   {
    "duration": 13,
    "start_time": "2022-04-25T11:21:29.273Z"
   },
   {
    "duration": 1121,
    "start_time": "2022-04-25T11:22:42.382Z"
   },
   {
    "duration": 451,
    "start_time": "2022-04-25T11:22:43.505Z"
   },
   {
    "duration": 198,
    "start_time": "2022-04-25T11:22:43.958Z"
   },
   {
    "duration": 156,
    "start_time": "2022-04-25T11:22:44.160Z"
   },
   {
    "duration": 161,
    "start_time": "2022-04-25T11:22:44.318Z"
   },
   {
    "duration": 17,
    "start_time": "2022-04-25T11:22:44.481Z"
   },
   {
    "duration": 30,
    "start_time": "2022-04-25T11:22:44.500Z"
   },
   {
    "duration": 30,
    "start_time": "2022-04-25T11:22:44.535Z"
   },
   {
    "duration": 82,
    "start_time": "2022-04-25T11:22:44.567Z"
   },
   {
    "duration": 12,
    "start_time": "2022-04-25T11:22:44.652Z"
   },
   {
    "duration": 13,
    "start_time": "2022-04-25T11:22:44.666Z"
   },
   {
    "duration": 14,
    "start_time": "2022-04-25T11:22:44.681Z"
   },
   {
    "duration": 568,
    "start_time": "2022-04-25T11:22:44.697Z"
   },
   {
    "duration": 93,
    "start_time": "2022-04-25T11:22:45.268Z"
   },
   {
    "duration": 242,
    "start_time": "2022-04-25T11:22:45.364Z"
   },
   {
    "duration": 29,
    "start_time": "2022-04-25T11:22:45.607Z"
   },
   {
    "duration": 335,
    "start_time": "2022-04-25T11:22:45.642Z"
   },
   {
    "duration": 171,
    "start_time": "2022-04-25T11:22:45.979Z"
   },
   {
    "duration": 23,
    "start_time": "2022-04-25T11:22:46.151Z"
   },
   {
    "duration": 4,
    "start_time": "2022-04-25T11:22:46.176Z"
   },
   {
    "duration": 18,
    "start_time": "2022-04-25T11:22:46.182Z"
   },
   {
    "duration": 59,
    "start_time": "2022-04-25T11:22:46.202Z"
   },
   {
    "duration": 115,
    "start_time": "2022-04-25T11:22:46.263Z"
   },
   {
    "duration": 10,
    "start_time": "2022-04-25T11:22:46.380Z"
   },
   {
    "duration": 15,
    "start_time": "2022-04-25T11:22:46.392Z"
   },
   {
    "duration": 34,
    "start_time": "2022-04-25T11:22:46.409Z"
   },
   {
    "duration": 10,
    "start_time": "2022-04-25T11:22:46.445Z"
   },
   {
    "duration": 8,
    "start_time": "2022-04-25T11:22:46.458Z"
   },
   {
    "duration": 14,
    "start_time": "2022-04-25T11:22:46.468Z"
   },
   {
    "duration": 54,
    "start_time": "2022-04-25T11:22:46.484Z"
   },
   {
    "duration": 39,
    "start_time": "2022-04-25T11:22:46.540Z"
   },
   {
    "duration": 461,
    "start_time": "2022-04-25T11:22:46.580Z"
   },
   {
    "duration": 11,
    "start_time": "2022-04-25T11:22:47.043Z"
   },
   {
    "duration": 426,
    "start_time": "2022-04-25T11:22:47.056Z"
   },
   {
    "duration": 476,
    "start_time": "2022-04-25T11:22:47.484Z"
   },
   {
    "duration": 20,
    "start_time": "2022-04-25T11:22:47.963Z"
   },
   {
    "duration": 15,
    "start_time": "2022-04-25T11:22:47.985Z"
   },
   {
    "duration": 28,
    "start_time": "2022-04-25T11:22:48.002Z"
   },
   {
    "duration": 199,
    "start_time": "2022-04-25T11:22:48.035Z"
   },
   {
    "duration": 0,
    "start_time": "2022-04-25T11:22:48.236Z"
   },
   {
    "duration": 0,
    "start_time": "2022-04-25T11:22:48.238Z"
   },
   {
    "duration": 1193,
    "start_time": "2022-04-25T11:25:16.792Z"
   },
   {
    "duration": 314,
    "start_time": "2022-04-25T11:25:17.987Z"
   },
   {
    "duration": 181,
    "start_time": "2022-04-25T11:25:18.303Z"
   },
   {
    "duration": 110,
    "start_time": "2022-04-25T11:25:18.487Z"
   },
   {
    "duration": 98,
    "start_time": "2022-04-25T11:25:18.599Z"
   },
   {
    "duration": 11,
    "start_time": "2022-04-25T11:25:18.699Z"
   },
   {
    "duration": 25,
    "start_time": "2022-04-25T11:25:18.711Z"
   },
   {
    "duration": 34,
    "start_time": "2022-04-25T11:25:18.738Z"
   },
   {
    "duration": 83,
    "start_time": "2022-04-25T11:25:18.775Z"
   },
   {
    "duration": 12,
    "start_time": "2022-04-25T11:25:18.861Z"
   },
   {
    "duration": 14,
    "start_time": "2022-04-25T11:25:18.875Z"
   },
   {
    "duration": 38,
    "start_time": "2022-04-25T11:25:18.891Z"
   },
   {
    "duration": 386,
    "start_time": "2022-04-25T11:25:18.932Z"
   },
   {
    "duration": 84,
    "start_time": "2022-04-25T11:25:19.321Z"
   },
   {
    "duration": 268,
    "start_time": "2022-04-25T11:25:19.407Z"
   },
   {
    "duration": 56,
    "start_time": "2022-04-25T11:25:19.677Z"
   },
   {
    "duration": 364,
    "start_time": "2022-04-25T11:25:19.735Z"
   },
   {
    "duration": 173,
    "start_time": "2022-04-25T11:25:20.101Z"
   },
   {
    "duration": 20,
    "start_time": "2022-04-25T11:25:20.276Z"
   },
   {
    "duration": 53,
    "start_time": "2022-04-25T11:25:20.297Z"
   },
   {
    "duration": 13,
    "start_time": "2022-04-25T11:25:20.352Z"
   },
   {
    "duration": 45,
    "start_time": "2022-04-25T11:25:20.367Z"
   },
   {
    "duration": 119,
    "start_time": "2022-04-25T11:25:20.414Z"
   },
   {
    "duration": 16,
    "start_time": "2022-04-25T11:25:20.538Z"
   },
   {
    "duration": 19,
    "start_time": "2022-04-25T11:25:20.556Z"
   },
   {
    "duration": 50,
    "start_time": "2022-04-25T11:25:20.578Z"
   },
   {
    "duration": 16,
    "start_time": "2022-04-25T11:25:20.631Z"
   },
   {
    "duration": 6,
    "start_time": "2022-04-25T11:25:20.652Z"
   },
   {
    "duration": 15,
    "start_time": "2022-04-25T11:25:20.661Z"
   },
   {
    "duration": 49,
    "start_time": "2022-04-25T11:25:20.678Z"
   },
   {
    "duration": 62,
    "start_time": "2022-04-25T11:25:20.730Z"
   },
   {
    "duration": 623,
    "start_time": "2022-04-25T11:25:20.794Z"
   },
   {
    "duration": 338,
    "start_time": "2022-04-25T11:25:21.423Z"
   },
   {
    "duration": 20,
    "start_time": "2022-04-25T11:25:21.763Z"
   },
   {
    "duration": 13,
    "start_time": "2022-04-25T11:25:21.785Z"
   },
   {
    "duration": 29,
    "start_time": "2022-04-25T11:25:21.800Z"
   },
   {
    "duration": 40,
    "start_time": "2022-04-25T11:25:21.831Z"
   },
   {
    "duration": 272,
    "start_time": "2022-04-25T11:25:21.873Z"
   },
   {
    "duration": 0,
    "start_time": "2022-04-25T11:25:22.148Z"
   },
   {
    "duration": 8,
    "start_time": "2022-04-25T11:25:50.710Z"
   },
   {
    "duration": 5,
    "start_time": "2022-04-25T11:26:33.283Z"
   },
   {
    "duration": 11,
    "start_time": "2022-04-25T11:26:35.877Z"
   },
   {
    "duration": 11,
    "start_time": "2022-04-25T11:26:47.579Z"
   },
   {
    "duration": 11,
    "start_time": "2022-04-25T11:26:51.441Z"
   },
   {
    "duration": 14,
    "start_time": "2022-04-25T11:27:11.566Z"
   },
   {
    "duration": 11,
    "start_time": "2022-04-25T11:27:38.755Z"
   },
   {
    "duration": 11,
    "start_time": "2022-04-25T11:30:15.742Z"
   },
   {
    "duration": 11,
    "start_time": "2022-04-25T11:30:43.596Z"
   },
   {
    "duration": 5,
    "start_time": "2022-04-25T11:30:47.848Z"
   },
   {
    "duration": 9,
    "start_time": "2022-04-25T11:30:50.912Z"
   },
   {
    "duration": 12,
    "start_time": "2022-04-25T11:31:02.061Z"
   },
   {
    "duration": 99,
    "start_time": "2022-04-25T11:31:10.880Z"
   },
   {
    "duration": 69,
    "start_time": "2022-04-25T11:32:54.174Z"
   },
   {
    "duration": 13,
    "start_time": "2022-04-25T11:32:58.790Z"
   },
   {
    "duration": 9,
    "start_time": "2022-04-25T11:33:19.550Z"
   },
   {
    "duration": 6,
    "start_time": "2022-04-25T11:33:29.653Z"
   },
   {
    "duration": 11,
    "start_time": "2022-04-25T11:34:12.720Z"
   },
   {
    "duration": 12,
    "start_time": "2022-04-25T11:34:15.989Z"
   },
   {
    "duration": 75,
    "start_time": "2022-04-25T11:35:58.307Z"
   },
   {
    "duration": 6,
    "start_time": "2022-04-25T11:36:14.148Z"
   },
   {
    "duration": 15,
    "start_time": "2022-04-25T11:36:16.155Z"
   },
   {
    "duration": 29,
    "start_time": "2022-04-25T11:37:36.187Z"
   },
   {
    "duration": 35,
    "start_time": "2022-04-25T11:37:43.940Z"
   },
   {
    "duration": 269,
    "start_time": "2022-04-25T11:38:44.712Z"
   },
   {
    "duration": 20,
    "start_time": "2022-04-25T11:38:44.983Z"
   },
   {
    "duration": 13,
    "start_time": "2022-04-25T11:38:45.080Z"
   },
   {
    "duration": 7,
    "start_time": "2022-04-25T11:38:45.235Z"
   },
   {
    "duration": 5,
    "start_time": "2022-04-25T11:38:45.408Z"
   },
   {
    "duration": 13,
    "start_time": "2022-04-25T11:38:45.584Z"
   },
   {
    "duration": 11,
    "start_time": "2022-04-25T11:38:49.160Z"
   },
   {
    "duration": 10,
    "start_time": "2022-04-25T11:41:11.903Z"
   },
   {
    "duration": 4,
    "start_time": "2022-04-25T11:43:01.494Z"
   },
   {
    "duration": 16,
    "start_time": "2022-04-25T11:43:07.614Z"
   },
   {
    "duration": 13,
    "start_time": "2022-04-25T11:43:15.589Z"
   },
   {
    "duration": 11,
    "start_time": "2022-04-25T11:43:20.046Z"
   },
   {
    "duration": 10,
    "start_time": "2022-04-25T11:44:02.486Z"
   },
   {
    "duration": 12,
    "start_time": "2022-04-25T11:44:14.539Z"
   },
   {
    "duration": 12,
    "start_time": "2022-04-25T11:44:18.588Z"
   },
   {
    "duration": 9,
    "start_time": "2022-04-25T12:00:04.296Z"
   },
   {
    "duration": 8,
    "start_time": "2022-04-25T12:00:09.519Z"
   },
   {
    "duration": 13,
    "start_time": "2022-04-25T12:01:35.087Z"
   },
   {
    "duration": 8,
    "start_time": "2022-04-25T12:01:43.888Z"
   },
   {
    "duration": 12,
    "start_time": "2022-04-25T12:01:49.454Z"
   },
   {
    "duration": 10,
    "start_time": "2022-04-25T12:01:54.358Z"
   },
   {
    "duration": 10,
    "start_time": "2022-04-25T12:01:57.102Z"
   },
   {
    "duration": 82,
    "start_time": "2022-04-25T12:13:42.596Z"
   },
   {
    "duration": 75,
    "start_time": "2022-04-25T12:14:41.773Z"
   },
   {
    "duration": 78,
    "start_time": "2022-04-25T12:15:11.900Z"
   },
   {
    "duration": 20,
    "start_time": "2022-04-25T12:15:24.787Z"
   },
   {
    "duration": 20,
    "start_time": "2022-04-25T12:15:25.010Z"
   },
   {
    "duration": 9,
    "start_time": "2022-04-25T12:15:25.219Z"
   },
   {
    "duration": 6,
    "start_time": "2022-04-25T12:15:25.379Z"
   },
   {
    "duration": 16,
    "start_time": "2022-04-25T12:15:25.523Z"
   },
   {
    "duration": 23,
    "start_time": "2022-04-25T12:19:10.585Z"
   },
   {
    "duration": 31,
    "start_time": "2022-04-25T12:24:02.581Z"
   },
   {
    "duration": 25,
    "start_time": "2022-04-25T12:24:10.799Z"
   },
   {
    "duration": 147,
    "start_time": "2022-04-25T12:24:24.951Z"
   },
   {
    "duration": 18,
    "start_time": "2022-04-25T12:24:29.220Z"
   },
   {
    "duration": 22,
    "start_time": "2022-04-25T12:24:44.611Z"
   },
   {
    "duration": 16,
    "start_time": "2022-04-25T12:27:12.849Z"
   },
   {
    "duration": 44,
    "start_time": "2022-04-25T12:27:22.134Z"
   },
   {
    "duration": 19,
    "start_time": "2022-04-25T12:28:10.410Z"
   },
   {
    "duration": 16,
    "start_time": "2022-04-25T12:28:14.672Z"
   },
   {
    "duration": 14,
    "start_time": "2022-04-25T12:28:22.464Z"
   },
   {
    "duration": 26,
    "start_time": "2022-04-25T12:31:18.975Z"
   },
   {
    "duration": 24,
    "start_time": "2022-04-25T12:31:23.253Z"
   },
   {
    "duration": 26,
    "start_time": "2022-04-25T12:31:29.558Z"
   },
   {
    "duration": 25,
    "start_time": "2022-04-25T12:31:40.937Z"
   },
   {
    "duration": 26,
    "start_time": "2022-04-25T12:31:51.557Z"
   },
   {
    "duration": 25,
    "start_time": "2022-04-25T12:31:55.164Z"
   },
   {
    "duration": 25,
    "start_time": "2022-04-25T12:32:00.359Z"
   },
   {
    "duration": 26,
    "start_time": "2022-04-25T12:32:03.758Z"
   },
   {
    "duration": 39,
    "start_time": "2022-04-25T12:32:11.039Z"
   },
   {
    "duration": 24,
    "start_time": "2022-04-25T12:34:46.356Z"
   },
   {
    "duration": 30,
    "start_time": "2022-04-25T12:35:04.706Z"
   },
   {
    "duration": 29,
    "start_time": "2022-04-25T12:35:10.010Z"
   },
   {
    "duration": 27,
    "start_time": "2022-04-25T12:36:25.835Z"
   },
   {
    "duration": 30,
    "start_time": "2022-04-25T12:36:28.609Z"
   },
   {
    "duration": 25,
    "start_time": "2022-04-25T12:36:39.056Z"
   },
   {
    "duration": 37,
    "start_time": "2022-04-25T12:36:54.834Z"
   },
   {
    "duration": 32,
    "start_time": "2022-04-25T12:37:02.729Z"
   },
   {
    "duration": 27,
    "start_time": "2022-04-25T12:37:14.312Z"
   },
   {
    "duration": 35,
    "start_time": "2022-04-25T12:38:45.119Z"
   },
   {
    "duration": 17,
    "start_time": "2022-04-25T12:40:10.485Z"
   },
   {
    "duration": 17,
    "start_time": "2022-04-25T12:40:19.935Z"
   },
   {
    "duration": 25,
    "start_time": "2022-04-25T12:40:48.990Z"
   },
   {
    "duration": 24,
    "start_time": "2022-04-25T12:40:55.774Z"
   },
   {
    "duration": 17,
    "start_time": "2022-04-25T12:41:00.640Z"
   },
   {
    "duration": 106,
    "start_time": "2022-04-25T12:41:05.902Z"
   },
   {
    "duration": 24,
    "start_time": "2022-04-25T12:41:15.646Z"
   },
   {
    "duration": 22,
    "start_time": "2022-04-25T12:44:27.740Z"
   },
   {
    "duration": 22,
    "start_time": "2022-04-25T12:44:45.059Z"
   },
   {
    "duration": 235,
    "start_time": "2022-04-25T12:45:20.652Z"
   },
   {
    "duration": 14,
    "start_time": "2022-04-25T12:47:26.977Z"
   },
   {
    "duration": 30,
    "start_time": "2022-04-25T12:49:22.217Z"
   },
   {
    "duration": 23,
    "start_time": "2022-04-25T12:49:33.287Z"
   },
   {
    "duration": 27,
    "start_time": "2022-04-25T12:49:44.910Z"
   },
   {
    "duration": 23,
    "start_time": "2022-04-25T12:49:53.470Z"
   },
   {
    "duration": 26,
    "start_time": "2022-04-25T12:50:06.632Z"
   },
   {
    "duration": 17,
    "start_time": "2022-04-25T12:50:23.166Z"
   },
   {
    "duration": 23,
    "start_time": "2022-04-25T12:50:45.261Z"
   },
   {
    "duration": 31,
    "start_time": "2022-04-25T12:50:57.198Z"
   },
   {
    "duration": 29,
    "start_time": "2022-04-25T12:51:08.831Z"
   },
   {
    "duration": 27,
    "start_time": "2022-04-25T12:51:37.349Z"
   },
   {
    "duration": 30,
    "start_time": "2022-04-25T12:51:43.806Z"
   },
   {
    "duration": 22,
    "start_time": "2022-04-25T12:51:51.246Z"
   },
   {
    "duration": 31,
    "start_time": "2022-04-25T12:52:14.420Z"
   },
   {
    "duration": 46,
    "start_time": "2022-04-25T12:52:20.516Z"
   },
   {
    "duration": 36,
    "start_time": "2022-04-25T12:52:25.246Z"
   },
   {
    "duration": 38,
    "start_time": "2022-04-25T12:52:31.427Z"
   },
   {
    "duration": 23,
    "start_time": "2022-04-25T12:52:41.693Z"
   },
   {
    "duration": 37,
    "start_time": "2022-04-25T12:53:49.100Z"
   },
   {
    "duration": 44,
    "start_time": "2022-04-25T12:57:01.679Z"
   },
   {
    "duration": 178,
    "start_time": "2022-04-25T12:57:23.681Z"
   },
   {
    "duration": 5,
    "start_time": "2022-04-25T12:57:46.712Z"
   },
   {
    "duration": 16,
    "start_time": "2022-04-25T12:58:42.337Z"
   },
   {
    "duration": 32,
    "start_time": "2022-04-25T12:58:49.496Z"
   },
   {
    "duration": 35,
    "start_time": "2022-04-25T12:58:58.743Z"
   },
   {
    "duration": 74,
    "start_time": "2022-04-25T12:59:26.031Z"
   },
   {
    "duration": 50,
    "start_time": "2022-04-25T12:59:40.318Z"
   },
   {
    "duration": 5,
    "start_time": "2022-04-25T12:59:41.206Z"
   },
   {
    "duration": 42,
    "start_time": "2022-04-25T13:00:26.966Z"
   },
   {
    "duration": 5,
    "start_time": "2022-04-25T13:00:27.173Z"
   },
   {
    "duration": 29,
    "start_time": "2022-04-25T13:50:53.229Z"
   },
   {
    "duration": 478,
    "start_time": "2022-04-25T14:11:29.158Z"
   },
   {
    "duration": 5,
    "start_time": "2022-04-25T14:11:46.764Z"
   },
   {
    "duration": 440,
    "start_time": "2022-04-25T14:11:47.075Z"
   },
   {
    "duration": 708,
    "start_time": "2022-04-25T14:11:47.532Z"
   },
   {
    "duration": 10,
    "start_time": "2022-04-25T14:12:27.667Z"
   },
   {
    "duration": 171,
    "start_time": "2022-04-25T14:12:39.634Z"
   },
   {
    "duration": 64,
    "start_time": "2022-04-25T14:40:13.549Z"
   },
   {
    "duration": 12,
    "start_time": "2022-04-25T14:49:31.027Z"
   },
   {
    "duration": 13,
    "start_time": "2022-04-25T14:49:31.731Z"
   },
   {
    "duration": 13,
    "start_time": "2022-04-25T14:49:34.084Z"
   },
   {
    "duration": 16,
    "start_time": "2022-04-25T14:50:39.561Z"
   },
   {
    "duration": 15,
    "start_time": "2022-04-25T14:50:49.180Z"
   },
   {
    "duration": 1460,
    "start_time": "2022-04-25T14:51:06.842Z"
   },
   {
    "duration": 359,
    "start_time": "2022-04-25T14:51:08.305Z"
   },
   {
    "duration": 199,
    "start_time": "2022-04-25T14:51:08.666Z"
   },
   {
    "duration": 291,
    "start_time": "2022-04-25T14:51:08.867Z"
   },
   {
    "duration": 147,
    "start_time": "2022-04-25T14:51:09.160Z"
   },
   {
    "duration": 104,
    "start_time": "2022-04-25T14:51:09.309Z"
   },
   {
    "duration": 17,
    "start_time": "2022-04-25T14:51:09.415Z"
   },
   {
    "duration": 28,
    "start_time": "2022-04-25T14:51:09.434Z"
   },
   {
    "duration": 21,
    "start_time": "2022-04-25T14:51:09.464Z"
   },
   {
    "duration": 84,
    "start_time": "2022-04-25T14:51:09.488Z"
   },
   {
    "duration": 19,
    "start_time": "2022-04-25T14:51:09.574Z"
   },
   {
    "duration": 33,
    "start_time": "2022-04-25T14:51:09.595Z"
   },
   {
    "duration": 17,
    "start_time": "2022-04-25T14:51:09.630Z"
   },
   {
    "duration": 358,
    "start_time": "2022-04-25T14:51:09.649Z"
   },
   {
    "duration": 61,
    "start_time": "2022-04-25T14:51:10.009Z"
   },
   {
    "duration": 182,
    "start_time": "2022-04-25T14:51:10.072Z"
   },
   {
    "duration": 24,
    "start_time": "2022-04-25T14:51:10.257Z"
   },
   {
    "duration": 388,
    "start_time": "2022-04-25T14:51:10.282Z"
   },
   {
    "duration": 179,
    "start_time": "2022-04-25T14:51:10.671Z"
   },
   {
    "duration": 22,
    "start_time": "2022-04-25T14:51:10.851Z"
   },
   {
    "duration": 53,
    "start_time": "2022-04-25T14:51:10.875Z"
   },
   {
    "duration": 8,
    "start_time": "2022-04-25T14:51:10.931Z"
   },
   {
    "duration": 58,
    "start_time": "2022-04-25T14:51:10.942Z"
   },
   {
    "duration": 124,
    "start_time": "2022-04-25T14:51:11.002Z"
   },
   {
    "duration": 18,
    "start_time": "2022-04-25T14:51:11.128Z"
   },
   {
    "duration": 20,
    "start_time": "2022-04-25T14:51:11.149Z"
   },
   {
    "duration": 36,
    "start_time": "2022-04-25T14:51:11.171Z"
   },
   {
    "duration": 16,
    "start_time": "2022-04-25T14:51:11.225Z"
   },
   {
    "duration": 17,
    "start_time": "2022-04-25T14:51:11.244Z"
   },
   {
    "duration": 26,
    "start_time": "2022-04-25T14:51:11.264Z"
   },
   {
    "duration": 41,
    "start_time": "2022-04-25T14:51:11.293Z"
   },
   {
    "duration": 56,
    "start_time": "2022-04-25T14:51:11.337Z"
   },
   {
    "duration": 476,
    "start_time": "2022-04-25T14:51:11.395Z"
   },
   {
    "duration": 103,
    "start_time": "2022-04-25T14:51:11.873Z"
   },
   {
    "duration": 23,
    "start_time": "2022-04-25T14:51:11.978Z"
   },
   {
    "duration": 22,
    "start_time": "2022-04-25T14:51:12.002Z"
   },
   {
    "duration": 18,
    "start_time": "2022-04-25T14:51:12.026Z"
   },
   {
    "duration": 26,
    "start_time": "2022-04-25T14:51:12.046Z"
   },
   {
    "duration": 24,
    "start_time": "2022-04-25T14:51:12.074Z"
   },
   {
    "duration": 31,
    "start_time": "2022-04-25T14:51:12.100Z"
   },
   {
    "duration": 29,
    "start_time": "2022-04-25T14:51:12.134Z"
   },
   {
    "duration": 70,
    "start_time": "2022-04-25T14:51:12.165Z"
   },
   {
    "duration": 8,
    "start_time": "2022-04-25T14:51:12.237Z"
   },
   {
    "duration": 4,
    "start_time": "2022-04-25T14:53:05.806Z"
   },
   {
    "duration": 365,
    "start_time": "2022-04-25T14:59:57.120Z"
   },
   {
    "duration": 703,
    "start_time": "2022-04-25T15:00:21.321Z"
   },
   {
    "duration": 336,
    "start_time": "2022-04-25T15:00:31.854Z"
   },
   {
    "duration": 274,
    "start_time": "2022-04-26T09:33:23.246Z"
   },
   {
    "duration": 38,
    "start_time": "2022-04-26T09:33:35.425Z"
   },
   {
    "duration": 8,
    "start_time": "2022-04-26T09:33:41.760Z"
   },
   {
    "duration": 4,
    "start_time": "2022-04-26T09:33:45.912Z"
   },
   {
    "duration": 9,
    "start_time": "2022-04-26T09:33:46.073Z"
   },
   {
    "duration": 1300,
    "start_time": "2022-04-26T09:33:51.434Z"
   },
   {
    "duration": 1351,
    "start_time": "2022-04-26T09:33:52.736Z"
   },
   {
    "duration": 21,
    "start_time": "2022-04-26T09:34:02.960Z"
   },
   {
    "duration": 20,
    "start_time": "2022-04-26T09:34:22.801Z"
   },
   {
    "duration": 26,
    "start_time": "2022-04-26T09:36:21.278Z"
   },
   {
    "duration": 43,
    "start_time": "2022-04-26T09:36:32.375Z"
   },
   {
    "duration": 25,
    "start_time": "2022-04-26T09:36:46.199Z"
   },
   {
    "duration": 24,
    "start_time": "2022-04-26T09:37:08.255Z"
   },
   {
    "duration": 56,
    "start_time": "2022-04-26T09:50:50.738Z"
   },
   {
    "duration": 7,
    "start_time": "2022-04-26T09:50:56.243Z"
   },
   {
    "duration": 1227,
    "start_time": "2022-04-26T09:51:04.695Z"
   },
   {
    "duration": 348,
    "start_time": "2022-04-26T09:51:05.924Z"
   },
   {
    "duration": 175,
    "start_time": "2022-04-26T09:51:06.274Z"
   },
   {
    "duration": 202,
    "start_time": "2022-04-26T09:51:06.451Z"
   },
   {
    "duration": 91,
    "start_time": "2022-04-26T09:51:06.655Z"
   },
   {
    "duration": 92,
    "start_time": "2022-04-26T09:51:06.748Z"
   },
   {
    "duration": 11,
    "start_time": "2022-04-26T09:51:06.842Z"
   },
   {
    "duration": 19,
    "start_time": "2022-04-26T09:51:06.855Z"
   },
   {
    "duration": 36,
    "start_time": "2022-04-26T09:51:06.876Z"
   },
   {
    "duration": 109,
    "start_time": "2022-04-26T09:51:06.916Z"
   },
   {
    "duration": 12,
    "start_time": "2022-04-26T09:51:07.027Z"
   },
   {
    "duration": 24,
    "start_time": "2022-04-26T09:51:07.041Z"
   },
   {
    "duration": 34,
    "start_time": "2022-04-26T09:51:07.068Z"
   },
   {
    "duration": 580,
    "start_time": "2022-04-26T09:51:07.104Z"
   },
   {
    "duration": 94,
    "start_time": "2022-04-26T09:51:07.686Z"
   },
   {
    "duration": 159,
    "start_time": "2022-04-26T09:51:07.782Z"
   },
   {
    "duration": 22,
    "start_time": "2022-04-26T09:51:07.943Z"
   },
   {
    "duration": 619,
    "start_time": "2022-04-26T09:51:07.968Z"
   },
   {
    "duration": 279,
    "start_time": "2022-04-26T09:51:08.590Z"
   },
   {
    "duration": 34,
    "start_time": "2022-04-26T09:51:08.871Z"
   },
   {
    "duration": 31,
    "start_time": "2022-04-26T09:51:08.906Z"
   },
   {
    "duration": 4,
    "start_time": "2022-04-26T09:51:08.939Z"
   },
   {
    "duration": 55,
    "start_time": "2022-04-26T09:51:08.945Z"
   },
   {
    "duration": 98,
    "start_time": "2022-04-26T09:51:09.002Z"
   },
   {
    "duration": 11,
    "start_time": "2022-04-26T09:51:09.102Z"
   },
   {
    "duration": 21,
    "start_time": "2022-04-26T09:51:09.115Z"
   },
   {
    "duration": 23,
    "start_time": "2022-04-26T09:51:09.138Z"
   },
   {
    "duration": 10,
    "start_time": "2022-04-26T09:51:09.165Z"
   },
   {
    "duration": 18,
    "start_time": "2022-04-26T09:51:09.176Z"
   },
   {
    "duration": 9,
    "start_time": "2022-04-26T09:51:09.201Z"
   },
   {
    "duration": 43,
    "start_time": "2022-04-26T09:51:09.212Z"
   },
   {
    "duration": 216,
    "start_time": "2022-04-26T09:51:09.257Z"
   },
   {
    "duration": 0,
    "start_time": "2022-04-26T09:51:09.475Z"
   },
   {
    "duration": 0,
    "start_time": "2022-04-26T09:51:09.476Z"
   },
   {
    "duration": 0,
    "start_time": "2022-04-26T09:51:09.477Z"
   },
   {
    "duration": 0,
    "start_time": "2022-04-26T09:51:09.478Z"
   },
   {
    "duration": 0,
    "start_time": "2022-04-26T09:51:09.479Z"
   },
   {
    "duration": 0,
    "start_time": "2022-04-26T09:51:09.480Z"
   },
   {
    "duration": 0,
    "start_time": "2022-04-26T09:51:09.481Z"
   },
   {
    "duration": 0,
    "start_time": "2022-04-26T09:51:09.482Z"
   },
   {
    "duration": 0,
    "start_time": "2022-04-26T09:51:09.483Z"
   },
   {
    "duration": 0,
    "start_time": "2022-04-26T09:51:09.484Z"
   },
   {
    "duration": 0,
    "start_time": "2022-04-26T09:51:09.485Z"
   },
   {
    "duration": 0,
    "start_time": "2022-04-26T09:51:09.486Z"
   },
   {
    "duration": 0,
    "start_time": "2022-04-26T09:51:09.487Z"
   },
   {
    "duration": 23,
    "start_time": "2022-04-26T09:51:27.809Z"
   },
   {
    "duration": 7,
    "start_time": "2022-04-26T09:51:28.289Z"
   },
   {
    "duration": 9,
    "start_time": "2022-04-26T09:51:32.361Z"
   },
   {
    "duration": 9,
    "start_time": "2022-04-26T09:52:38.992Z"
   },
   {
    "duration": 9,
    "start_time": "2022-04-26T09:52:45.464Z"
   },
   {
    "duration": 8,
    "start_time": "2022-04-26T09:53:17.943Z"
   },
   {
    "duration": 6,
    "start_time": "2022-04-26T09:53:41.831Z"
   },
   {
    "duration": 4,
    "start_time": "2022-04-26T09:54:06.359Z"
   },
   {
    "duration": 4,
    "start_time": "2022-04-26T09:54:14.574Z"
   },
   {
    "duration": 23,
    "start_time": "2022-04-26T09:54:21.423Z"
   },
   {
    "duration": 23,
    "start_time": "2022-04-26T10:05:55.822Z"
   },
   {
    "duration": 1072,
    "start_time": "2022-04-26T10:06:28.742Z"
   },
   {
    "duration": 354,
    "start_time": "2022-04-26T10:06:29.816Z"
   },
   {
    "duration": 175,
    "start_time": "2022-04-26T10:06:30.172Z"
   },
   {
    "duration": 201,
    "start_time": "2022-04-26T10:06:30.349Z"
   },
   {
    "duration": 90,
    "start_time": "2022-04-26T10:06:30.552Z"
   },
   {
    "duration": 90,
    "start_time": "2022-04-26T10:06:30.644Z"
   },
   {
    "duration": 10,
    "start_time": "2022-04-26T10:06:30.736Z"
   },
   {
    "duration": 40,
    "start_time": "2022-04-26T10:06:30.747Z"
   },
   {
    "duration": 35,
    "start_time": "2022-04-26T10:06:30.789Z"
   },
   {
    "duration": 108,
    "start_time": "2022-04-26T10:06:30.826Z"
   },
   {
    "duration": 12,
    "start_time": "2022-04-26T10:06:30.936Z"
   },
   {
    "duration": 29,
    "start_time": "2022-04-26T10:06:30.950Z"
   },
   {
    "duration": 21,
    "start_time": "2022-04-26T10:06:30.981Z"
   },
   {
    "duration": 305,
    "start_time": "2022-04-26T10:06:31.004Z"
   },
   {
    "duration": 43,
    "start_time": "2022-04-26T10:06:31.310Z"
   },
   {
    "duration": 143,
    "start_time": "2022-04-26T10:06:31.354Z"
   },
   {
    "duration": 22,
    "start_time": "2022-04-26T10:06:31.500Z"
   },
   {
    "duration": 303,
    "start_time": "2022-04-26T10:06:31.524Z"
   },
   {
    "duration": 150,
    "start_time": "2022-04-26T10:06:31.829Z"
   },
   {
    "duration": 25,
    "start_time": "2022-04-26T10:06:31.981Z"
   },
   {
    "duration": 60,
    "start_time": "2022-04-26T10:06:32.007Z"
   },
   {
    "duration": 4,
    "start_time": "2022-04-26T10:06:32.069Z"
   },
   {
    "duration": 41,
    "start_time": "2022-04-26T10:06:32.074Z"
   },
   {
    "duration": 95,
    "start_time": "2022-04-26T10:06:32.116Z"
   },
   {
    "duration": 10,
    "start_time": "2022-04-26T10:06:32.213Z"
   },
   {
    "duration": 15,
    "start_time": "2022-04-26T10:06:32.225Z"
   },
   {
    "duration": 21,
    "start_time": "2022-04-26T10:06:32.241Z"
   },
   {
    "duration": 7,
    "start_time": "2022-04-26T10:06:32.265Z"
   },
   {
    "duration": 5,
    "start_time": "2022-04-26T10:06:32.273Z"
   },
   {
    "duration": 7,
    "start_time": "2022-04-26T10:06:32.300Z"
   },
   {
    "duration": 40,
    "start_time": "2022-04-26T10:06:32.308Z"
   },
   {
    "duration": 21,
    "start_time": "2022-04-26T10:06:32.350Z"
   },
   {
    "duration": 6,
    "start_time": "2022-04-26T10:06:32.372Z"
   },
   {
    "duration": 53,
    "start_time": "2022-04-26T10:06:32.379Z"
   },
   {
    "duration": 420,
    "start_time": "2022-04-26T10:06:32.434Z"
   },
   {
    "duration": 76,
    "start_time": "2022-04-26T10:06:32.856Z"
   },
   {
    "duration": 17,
    "start_time": "2022-04-26T10:06:32.934Z"
   },
   {
    "duration": 9,
    "start_time": "2022-04-26T10:06:32.953Z"
   },
   {
    "duration": 7,
    "start_time": "2022-04-26T10:06:32.963Z"
   },
   {
    "duration": 5,
    "start_time": "2022-04-26T10:06:32.971Z"
   },
   {
    "duration": 30,
    "start_time": "2022-04-26T10:06:32.977Z"
   },
   {
    "duration": 18,
    "start_time": "2022-04-26T10:06:33.009Z"
   },
   {
    "duration": 37,
    "start_time": "2022-04-26T10:06:33.029Z"
   },
   {
    "duration": 4,
    "start_time": "2022-04-26T10:06:33.068Z"
   },
   {
    "duration": 13,
    "start_time": "2022-04-26T10:17:15.435Z"
   },
   {
    "duration": 7,
    "start_time": "2022-04-26T10:18:15.043Z"
   },
   {
    "duration": 11,
    "start_time": "2022-04-26T10:18:15.516Z"
   },
   {
    "duration": 38,
    "start_time": "2022-04-26T10:18:21.713Z"
   },
   {
    "duration": 401,
    "start_time": "2022-04-26T10:18:22.402Z"
   },
   {
    "duration": 8,
    "start_time": "2022-04-26T10:40:30.304Z"
   },
   {
    "duration": 7,
    "start_time": "2022-04-26T10:40:45.794Z"
   },
   {
    "duration": 7,
    "start_time": "2022-04-26T10:41:11.015Z"
   },
   {
    "duration": 7,
    "start_time": "2022-04-26T10:42:13.329Z"
   },
   {
    "duration": 3134,
    "start_time": "2022-04-26T10:42:43.318Z"
   },
   {
    "duration": 13,
    "start_time": "2022-04-26T10:42:53.118Z"
   },
   {
    "duration": 73,
    "start_time": "2022-04-26T10:44:31.709Z"
   },
   {
    "duration": 19,
    "start_time": "2022-04-26T10:44:32.039Z"
   },
   {
    "duration": 12,
    "start_time": "2022-04-26T10:44:33.822Z"
   },
   {
    "duration": 19,
    "start_time": "2022-04-26T10:44:39.805Z"
   },
   {
    "duration": 1233,
    "start_time": "2022-04-26T12:33:16.777Z"
   },
   {
    "duration": 360,
    "start_time": "2022-04-26T12:33:18.012Z"
   },
   {
    "duration": 174,
    "start_time": "2022-04-26T12:33:18.374Z"
   },
   {
    "duration": 175,
    "start_time": "2022-04-26T12:33:18.550Z"
   },
   {
    "duration": 87,
    "start_time": "2022-04-26T12:33:18.727Z"
   },
   {
    "duration": 86,
    "start_time": "2022-04-26T12:33:18.816Z"
   },
   {
    "duration": 9,
    "start_time": "2022-04-26T12:33:18.904Z"
   },
   {
    "duration": 14,
    "start_time": "2022-04-26T12:33:18.915Z"
   },
   {
    "duration": 22,
    "start_time": "2022-04-26T12:33:18.930Z"
   },
   {
    "duration": 68,
    "start_time": "2022-04-26T12:33:18.954Z"
   },
   {
    "duration": 14,
    "start_time": "2022-04-26T12:33:19.024Z"
   },
   {
    "duration": 13,
    "start_time": "2022-04-26T12:33:19.040Z"
   },
   {
    "duration": 9,
    "start_time": "2022-04-26T12:33:19.054Z"
   },
   {
    "duration": 304,
    "start_time": "2022-04-26T12:33:19.065Z"
   },
   {
    "duration": 49,
    "start_time": "2022-04-26T12:33:19.371Z"
   },
   {
    "duration": 143,
    "start_time": "2022-04-26T12:33:19.422Z"
   },
   {
    "duration": 34,
    "start_time": "2022-04-26T12:33:19.567Z"
   },
   {
    "duration": 299,
    "start_time": "2022-04-26T12:33:19.603Z"
   },
   {
    "duration": 140,
    "start_time": "2022-04-26T12:33:19.903Z"
   },
   {
    "duration": 22,
    "start_time": "2022-04-26T12:33:20.044Z"
   },
   {
    "duration": 43,
    "start_time": "2022-04-26T12:33:20.068Z"
   },
   {
    "duration": 3,
    "start_time": "2022-04-26T12:33:20.113Z"
   },
   {
    "duration": 38,
    "start_time": "2022-04-26T12:33:20.117Z"
   },
   {
    "duration": 105,
    "start_time": "2022-04-26T12:33:20.157Z"
   },
   {
    "duration": 10,
    "start_time": "2022-04-26T12:33:20.263Z"
   },
   {
    "duration": 18,
    "start_time": "2022-04-26T12:33:20.275Z"
   },
   {
    "duration": 20,
    "start_time": "2022-04-26T12:33:20.299Z"
   },
   {
    "duration": 8,
    "start_time": "2022-04-26T12:33:20.323Z"
   },
   {
    "duration": 6,
    "start_time": "2022-04-26T12:33:20.332Z"
   },
   {
    "duration": 11,
    "start_time": "2022-04-26T12:33:20.340Z"
   },
   {
    "duration": 53,
    "start_time": "2022-04-26T12:33:20.353Z"
   },
   {
    "duration": 22,
    "start_time": "2022-04-26T12:33:20.408Z"
   },
   {
    "duration": 6,
    "start_time": "2022-04-26T12:33:20.432Z"
   },
   {
    "duration": 36,
    "start_time": "2022-04-26T12:33:20.440Z"
   },
   {
    "duration": 418,
    "start_time": "2022-04-26T12:33:20.478Z"
   },
   {
    "duration": 66,
    "start_time": "2022-04-26T12:33:20.901Z"
   },
   {
    "duration": 31,
    "start_time": "2022-04-26T12:33:20.969Z"
   },
   {
    "duration": 12,
    "start_time": "2022-04-26T12:33:21.002Z"
   },
   {
    "duration": 7,
    "start_time": "2022-04-26T12:33:21.016Z"
   },
   {
    "duration": 5,
    "start_time": "2022-04-26T12:33:21.025Z"
   },
   {
    "duration": 10,
    "start_time": "2022-04-26T12:33:21.032Z"
   },
   {
    "duration": 11,
    "start_time": "2022-04-26T12:33:21.044Z"
   },
   {
    "duration": 73,
    "start_time": "2022-04-26T12:33:21.056Z"
   },
   {
    "duration": 5,
    "start_time": "2022-04-26T12:33:21.131Z"
   },
   {
    "duration": 1203,
    "start_time": "2022-04-26T15:50:22.084Z"
   },
   {
    "duration": 2947,
    "start_time": "2022-04-26T15:50:23.289Z"
   },
   {
    "duration": 182,
    "start_time": "2022-04-26T15:50:26.237Z"
   },
   {
    "duration": 171,
    "start_time": "2022-04-26T15:50:26.421Z"
   },
   {
    "duration": 79,
    "start_time": "2022-04-26T15:50:26.594Z"
   },
   {
    "duration": 92,
    "start_time": "2022-04-26T15:50:26.674Z"
   },
   {
    "duration": 10,
    "start_time": "2022-04-26T15:50:26.767Z"
   },
   {
    "duration": 13,
    "start_time": "2022-04-26T15:50:26.779Z"
   },
   {
    "duration": 24,
    "start_time": "2022-04-26T15:50:26.800Z"
   },
   {
    "duration": 53,
    "start_time": "2022-04-26T15:50:26.828Z"
   },
   {
    "duration": 25,
    "start_time": "2022-04-26T15:50:26.883Z"
   },
   {
    "duration": 15,
    "start_time": "2022-04-26T15:50:26.910Z"
   },
   {
    "duration": 12,
    "start_time": "2022-04-26T15:50:26.926Z"
   },
   {
    "duration": 304,
    "start_time": "2022-04-26T15:50:26.940Z"
   },
   {
    "duration": 54,
    "start_time": "2022-04-26T15:50:27.247Z"
   },
   {
    "duration": 148,
    "start_time": "2022-04-26T15:50:27.303Z"
   },
   {
    "duration": 22,
    "start_time": "2022-04-26T15:50:27.453Z"
   },
   {
    "duration": 310,
    "start_time": "2022-04-26T15:50:27.476Z"
   },
   {
    "duration": 149,
    "start_time": "2022-04-26T15:50:27.788Z"
   },
   {
    "duration": 23,
    "start_time": "2022-04-26T15:50:27.939Z"
   },
   {
    "duration": 47,
    "start_time": "2022-04-26T15:50:27.963Z"
   },
   {
    "duration": 4,
    "start_time": "2022-04-26T15:50:28.012Z"
   },
   {
    "duration": 38,
    "start_time": "2022-04-26T15:50:28.018Z"
   },
   {
    "duration": 107,
    "start_time": "2022-04-26T15:50:28.058Z"
   },
   {
    "duration": 9,
    "start_time": "2022-04-26T15:50:28.167Z"
   },
   {
    "duration": 25,
    "start_time": "2022-04-26T15:50:28.178Z"
   },
   {
    "duration": 20,
    "start_time": "2022-04-26T15:50:28.205Z"
   },
   {
    "duration": 7,
    "start_time": "2022-04-26T15:50:28.229Z"
   },
   {
    "duration": 8,
    "start_time": "2022-04-26T15:50:28.238Z"
   },
   {
    "duration": 10,
    "start_time": "2022-04-26T15:50:28.247Z"
   },
   {
    "duration": 62,
    "start_time": "2022-04-26T15:50:28.259Z"
   },
   {
    "duration": 25,
    "start_time": "2022-04-26T15:50:28.323Z"
   },
   {
    "duration": 7,
    "start_time": "2022-04-26T15:50:28.350Z"
   },
   {
    "duration": 56,
    "start_time": "2022-04-26T15:50:28.358Z"
   },
   {
    "duration": 408,
    "start_time": "2022-04-26T15:50:28.416Z"
   },
   {
    "duration": 75,
    "start_time": "2022-04-26T15:50:28.826Z"
   },
   {
    "duration": 15,
    "start_time": "2022-04-26T15:50:28.903Z"
   },
   {
    "duration": 10,
    "start_time": "2022-04-26T15:50:28.920Z"
   },
   {
    "duration": 6,
    "start_time": "2022-04-26T15:50:28.931Z"
   },
   {
    "duration": 5,
    "start_time": "2022-04-26T15:50:28.938Z"
   },
   {
    "duration": 9,
    "start_time": "2022-04-26T15:50:28.944Z"
   },
   {
    "duration": 9,
    "start_time": "2022-04-26T15:50:28.954Z"
   },
   {
    "duration": 65,
    "start_time": "2022-04-26T15:50:28.965Z"
   },
   {
    "duration": 4,
    "start_time": "2022-04-26T15:50:29.032Z"
   },
   {
    "duration": 1590,
    "start_time": "2022-04-26T16:08:17.306Z"
   },
   {
    "duration": 402,
    "start_time": "2022-04-26T16:08:18.899Z"
   },
   {
    "duration": 316,
    "start_time": "2022-04-26T16:08:19.303Z"
   },
   {
    "duration": 303,
    "start_time": "2022-04-26T16:08:19.622Z"
   },
   {
    "duration": 140,
    "start_time": "2022-04-26T16:08:19.928Z"
   },
   {
    "duration": 140,
    "start_time": "2022-04-26T16:08:20.070Z"
   },
   {
    "duration": 19,
    "start_time": "2022-04-26T16:08:20.215Z"
   },
   {
    "duration": 19,
    "start_time": "2022-04-26T16:08:20.236Z"
   },
   {
    "duration": 64,
    "start_time": "2022-04-26T16:08:20.257Z"
   },
   {
    "duration": 130,
    "start_time": "2022-04-26T16:08:20.324Z"
   },
   {
    "duration": 16,
    "start_time": "2022-04-26T16:08:20.457Z"
   },
   {
    "duration": 34,
    "start_time": "2022-04-26T16:08:20.476Z"
   },
   {
    "duration": 31,
    "start_time": "2022-04-26T16:08:20.513Z"
   },
   {
    "duration": 693,
    "start_time": "2022-04-26T16:08:20.548Z"
   },
   {
    "duration": 95,
    "start_time": "2022-04-26T16:08:21.243Z"
   },
   {
    "duration": 277,
    "start_time": "2022-04-26T16:08:21.340Z"
   },
   {
    "duration": 35,
    "start_time": "2022-04-26T16:08:21.619Z"
   },
   {
    "duration": 743,
    "start_time": "2022-04-26T16:08:21.657Z"
   },
   {
    "duration": 296,
    "start_time": "2022-04-26T16:08:22.404Z"
   },
   {
    "duration": 39,
    "start_time": "2022-04-26T16:08:22.703Z"
   },
   {
    "duration": 52,
    "start_time": "2022-04-26T16:08:22.744Z"
   },
   {
    "duration": 5,
    "start_time": "2022-04-26T16:08:22.799Z"
   },
   {
    "duration": 80,
    "start_time": "2022-04-26T16:08:22.806Z"
   },
   {
    "duration": 144,
    "start_time": "2022-04-26T16:08:22.893Z"
   },
   {
    "duration": 14,
    "start_time": "2022-04-26T16:08:23.040Z"
   },
   {
    "duration": 30,
    "start_time": "2022-04-26T16:08:23.056Z"
   },
   {
    "duration": 73,
    "start_time": "2022-04-26T16:08:23.089Z"
   },
   {
    "duration": 14,
    "start_time": "2022-04-26T16:08:23.164Z"
   },
   {
    "duration": 47,
    "start_time": "2022-04-26T16:08:23.180Z"
   },
   {
    "duration": 17,
    "start_time": "2022-04-26T16:08:23.229Z"
   },
   {
    "duration": 73,
    "start_time": "2022-04-26T16:08:23.248Z"
   },
   {
    "duration": 38,
    "start_time": "2022-04-26T16:08:23.323Z"
   },
   {
    "duration": 27,
    "start_time": "2022-04-26T16:08:23.363Z"
   },
   {
    "duration": 68,
    "start_time": "2022-04-26T16:08:23.393Z"
   },
   {
    "duration": 666,
    "start_time": "2022-04-26T16:08:23.463Z"
   },
   {
    "duration": 132,
    "start_time": "2022-04-26T16:08:24.130Z"
   },
   {
    "duration": 39,
    "start_time": "2022-04-26T16:08:24.265Z"
   },
   {
    "duration": 40,
    "start_time": "2022-04-26T16:08:24.307Z"
   },
   {
    "duration": 8,
    "start_time": "2022-04-26T16:08:24.350Z"
   },
   {
    "duration": 12,
    "start_time": "2022-04-26T16:08:24.361Z"
   },
   {
    "duration": 67,
    "start_time": "2022-04-26T16:08:24.379Z"
   },
   {
    "duration": 25,
    "start_time": "2022-04-26T16:08:24.448Z"
   },
   {
    "duration": 76,
    "start_time": "2022-04-26T16:08:24.475Z"
   },
   {
    "duration": 7,
    "start_time": "2022-04-26T16:08:24.553Z"
   },
   {
    "duration": 1581,
    "start_time": "2022-04-26T16:29:28.658Z"
   },
   {
    "duration": 1428,
    "start_time": "2022-04-27T08:23:35.238Z"
   },
   {
    "duration": 867,
    "start_time": "2022-04-27T08:23:36.668Z"
   },
   {
    "duration": 38,
    "start_time": "2022-04-27T08:24:07.372Z"
   },
   {
    "duration": 17,
    "start_time": "2022-04-27T08:24:08.924Z"
   },
   {
    "duration": 2314,
    "start_time": "2022-04-27T08:24:39.300Z"
   },
   {
    "duration": 10,
    "start_time": "2022-04-27T08:24:47.525Z"
   },
   {
    "duration": 21,
    "start_time": "2022-04-27T08:25:19.231Z"
   },
   {
    "duration": 13,
    "start_time": "2022-04-27T08:27:52.148Z"
   },
   {
    "duration": 142,
    "start_time": "2022-04-27T08:28:04.491Z"
   },
   {
    "duration": 77,
    "start_time": "2022-04-27T08:28:53.477Z"
   },
   {
    "duration": 1366,
    "start_time": "2022-04-27T13:52:06.684Z"
   },
   {
    "duration": 393,
    "start_time": "2022-04-27T13:52:08.052Z"
   },
   {
    "duration": 220,
    "start_time": "2022-04-27T13:52:08.447Z"
   },
   {
    "duration": 214,
    "start_time": "2022-04-27T13:52:08.693Z"
   },
   {
    "duration": 108,
    "start_time": "2022-04-27T13:52:08.909Z"
   },
   {
    "duration": 105,
    "start_time": "2022-04-27T13:52:09.018Z"
   },
   {
    "duration": 13,
    "start_time": "2022-04-27T13:52:09.125Z"
   },
   {
    "duration": 19,
    "start_time": "2022-04-27T13:52:09.140Z"
   },
   {
    "duration": 44,
    "start_time": "2022-04-27T13:52:09.161Z"
   },
   {
    "duration": 67,
    "start_time": "2022-04-27T13:52:09.208Z"
   },
   {
    "duration": 26,
    "start_time": "2022-04-27T13:52:09.277Z"
   },
   {
    "duration": 25,
    "start_time": "2022-04-27T13:52:09.306Z"
   },
   {
    "duration": 17,
    "start_time": "2022-04-27T13:52:09.333Z"
   },
   {
    "duration": 367,
    "start_time": "2022-04-27T13:52:09.352Z"
   },
   {
    "duration": 55,
    "start_time": "2022-04-27T13:52:09.720Z"
   },
   {
    "duration": 187,
    "start_time": "2022-04-27T13:52:09.777Z"
   },
   {
    "duration": 35,
    "start_time": "2022-04-27T13:52:09.966Z"
   },
   {
    "duration": 466,
    "start_time": "2022-04-27T13:52:10.003Z"
   },
   {
    "duration": 180,
    "start_time": "2022-04-27T13:52:10.471Z"
   },
   {
    "duration": 39,
    "start_time": "2022-04-27T13:52:10.653Z"
   },
   {
    "duration": 34,
    "start_time": "2022-04-27T13:52:10.695Z"
   },
   {
    "duration": 4,
    "start_time": "2022-04-27T13:52:10.731Z"
   },
   {
    "duration": 65,
    "start_time": "2022-04-27T13:52:10.737Z"
   },
   {
    "duration": 130,
    "start_time": "2022-04-27T13:52:10.804Z"
   },
   {
    "duration": 12,
    "start_time": "2022-04-27T13:52:10.936Z"
   },
   {
    "duration": 14,
    "start_time": "2022-04-27T13:52:10.950Z"
   },
   {
    "duration": 45,
    "start_time": "2022-04-27T13:52:10.965Z"
   },
   {
    "duration": 10,
    "start_time": "2022-04-27T13:52:11.014Z"
   },
   {
    "duration": 13,
    "start_time": "2022-04-27T13:52:11.026Z"
   },
   {
    "duration": 13,
    "start_time": "2022-04-27T13:52:11.041Z"
   },
   {
    "duration": 60,
    "start_time": "2022-04-27T13:52:11.056Z"
   },
   {
    "duration": 26,
    "start_time": "2022-04-27T13:52:11.118Z"
   },
   {
    "duration": 8,
    "start_time": "2022-04-27T13:52:11.146Z"
   },
   {
    "duration": 66,
    "start_time": "2022-04-27T13:52:11.156Z"
   },
   {
    "duration": 480,
    "start_time": "2022-04-27T13:52:11.224Z"
   },
   {
    "duration": 94,
    "start_time": "2022-04-27T13:52:11.706Z"
   },
   {
    "duration": 20,
    "start_time": "2022-04-27T13:52:11.802Z"
   },
   {
    "duration": 13,
    "start_time": "2022-04-27T13:52:11.823Z"
   },
   {
    "duration": 6,
    "start_time": "2022-04-27T13:52:11.838Z"
   },
   {
    "duration": 6,
    "start_time": "2022-04-27T13:52:11.845Z"
   },
   {
    "duration": 45,
    "start_time": "2022-04-27T13:52:11.852Z"
   },
   {
    "duration": 10,
    "start_time": "2022-04-27T13:52:11.899Z"
   },
   {
    "duration": 48,
    "start_time": "2022-04-27T13:52:11.911Z"
   },
   {
    "duration": 7,
    "start_time": "2022-04-27T13:52:11.961Z"
   },
   {
    "duration": 24,
    "start_time": "2022-04-27T13:53:00.964Z"
   },
   {
    "duration": 12,
    "start_time": "2022-04-27T13:54:05.867Z"
   },
   {
    "duration": 20,
    "start_time": "2022-04-27T13:54:06.324Z"
   },
   {
    "duration": 18,
    "start_time": "2022-04-27T14:00:51.374Z"
   },
   {
    "duration": 29194,
    "start_time": "2022-04-27T14:02:15.949Z"
   },
   {
    "duration": 15,
    "start_time": "2022-04-27T14:02:49.052Z"
   },
   {
    "duration": 17,
    "start_time": "2022-04-27T14:06:55.353Z"
   },
   {
    "duration": 5877,
    "start_time": "2022-04-27T14:07:02.537Z"
   },
   {
    "duration": 17,
    "start_time": "2022-04-27T14:07:18.073Z"
   },
   {
    "duration": 78,
    "start_time": "2022-04-27T14:07:46.466Z"
   },
   {
    "duration": 16,
    "start_time": "2022-04-27T14:07:51.106Z"
   },
   {
    "duration": 30,
    "start_time": "2022-04-27T14:08:01.848Z"
   },
   {
    "duration": 16,
    "start_time": "2022-04-27T14:08:11.976Z"
   },
   {
    "duration": 577,
    "start_time": "2022-04-27T14:08:29.449Z"
   },
   {
    "duration": 5749,
    "start_time": "2022-04-27T14:15:35.011Z"
   },
   {
    "duration": 111,
    "start_time": "2022-04-27T14:15:42.434Z"
   },
   {
    "duration": 11,
    "start_time": "2022-04-27T14:17:32.168Z"
   },
   {
    "duration": 48,
    "start_time": "2022-04-27T14:17:36.201Z"
   },
   {
    "duration": 552,
    "start_time": "2022-04-27T14:17:37.073Z"
   },
   {
    "duration": 13,
    "start_time": "2022-04-27T14:18:13.537Z"
   },
   {
    "duration": 17,
    "start_time": "2022-04-27T14:18:13.968Z"
   },
   {
    "duration": 17582,
    "start_time": "2022-04-27T14:18:15.026Z"
   },
   {
    "duration": 10333,
    "start_time": "2022-04-27T14:18:32.610Z"
   },
   {
    "duration": 13,
    "start_time": "2022-04-27T14:18:42.946Z"
   },
   {
    "duration": 0,
    "start_time": "2022-04-27T14:18:42.961Z"
   },
   {
    "duration": 0,
    "start_time": "2022-04-27T14:18:42.963Z"
   },
   {
    "duration": 0,
    "start_time": "2022-04-27T14:18:42.965Z"
   },
   {
    "duration": 1566,
    "start_time": "2022-04-27T14:21:41.887Z"
   },
   {
    "duration": 481,
    "start_time": "2022-04-27T14:21:43.456Z"
   },
   {
    "duration": 374,
    "start_time": "2022-04-27T14:21:43.939Z"
   },
   {
    "duration": 390,
    "start_time": "2022-04-27T14:21:44.316Z"
   },
   {
    "duration": 150,
    "start_time": "2022-04-27T14:21:44.709Z"
   },
   {
    "duration": 190,
    "start_time": "2022-04-27T14:21:44.861Z"
   },
   {
    "duration": 21,
    "start_time": "2022-04-27T14:21:45.054Z"
   },
   {
    "duration": 13,
    "start_time": "2022-04-27T14:21:45.092Z"
   },
   {
    "duration": 26,
    "start_time": "2022-04-27T14:21:45.107Z"
   },
   {
    "duration": 88,
    "start_time": "2022-04-27T14:21:45.136Z"
   },
   {
    "duration": 21,
    "start_time": "2022-04-27T14:21:45.226Z"
   },
   {
    "duration": 17,
    "start_time": "2022-04-27T14:21:45.249Z"
   },
   {
    "duration": 33,
    "start_time": "2022-04-27T14:21:45.268Z"
   },
   {
    "duration": 379,
    "start_time": "2022-04-27T14:21:45.303Z"
   },
   {
    "duration": 63,
    "start_time": "2022-04-27T14:21:45.684Z"
   },
   {
    "duration": 184,
    "start_time": "2022-04-27T14:21:45.748Z"
   },
   {
    "duration": 27,
    "start_time": "2022-04-27T14:21:45.933Z"
   },
   {
    "duration": 386,
    "start_time": "2022-04-27T14:21:45.962Z"
   },
   {
    "duration": 177,
    "start_time": "2022-04-27T14:21:46.350Z"
   },
   {
    "duration": 26,
    "start_time": "2022-04-27T14:21:46.529Z"
   },
   {
    "duration": 51,
    "start_time": "2022-04-27T14:21:46.557Z"
   },
   {
    "duration": 5,
    "start_time": "2022-04-27T14:21:46.610Z"
   },
   {
    "duration": 49,
    "start_time": "2022-04-27T14:21:46.617Z"
   },
   {
    "duration": 127,
    "start_time": "2022-04-27T14:21:46.668Z"
   },
   {
    "duration": 12,
    "start_time": "2022-04-27T14:21:46.796Z"
   },
   {
    "duration": 23,
    "start_time": "2022-04-27T14:21:46.809Z"
   },
   {
    "duration": 35,
    "start_time": "2022-04-27T14:21:46.834Z"
   },
   {
    "duration": 20,
    "start_time": "2022-04-27T14:21:46.873Z"
   },
   {
    "duration": 10,
    "start_time": "2022-04-27T14:21:46.894Z"
   },
   {
    "duration": 15,
    "start_time": "2022-04-27T14:21:46.905Z"
   },
   {
    "duration": 56,
    "start_time": "2022-04-27T14:21:46.922Z"
   },
   {
    "duration": 52,
    "start_time": "2022-04-27T14:21:46.979Z"
   },
   {
    "duration": 13,
    "start_time": "2022-04-27T14:21:47.034Z"
   },
   {
    "duration": 47,
    "start_time": "2022-04-27T14:21:47.049Z"
   },
   {
    "duration": 18653,
    "start_time": "2022-04-27T14:21:47.099Z"
   },
   {
    "duration": 5741,
    "start_time": "2022-04-27T14:22:05.755Z"
   },
   {
    "duration": 60,
    "start_time": "2022-04-27T14:22:11.498Z"
   },
   {
    "duration": 44,
    "start_time": "2022-04-27T14:22:11.560Z"
   },
   {
    "duration": 457,
    "start_time": "2022-04-27T14:22:11.607Z"
   },
   {
    "duration": 97,
    "start_time": "2022-04-27T14:22:12.066Z"
   },
   {
    "duration": 33,
    "start_time": "2022-04-27T14:22:12.165Z"
   },
   {
    "duration": 15,
    "start_time": "2022-04-27T14:22:12.199Z"
   },
   {
    "duration": 7,
    "start_time": "2022-04-27T14:22:12.216Z"
   },
   {
    "duration": 8,
    "start_time": "2022-04-27T14:22:12.225Z"
   },
   {
    "duration": 16,
    "start_time": "2022-04-27T14:22:12.235Z"
   },
   {
    "duration": 14,
    "start_time": "2022-04-27T14:22:12.253Z"
   },
   {
    "duration": 48,
    "start_time": "2022-04-27T14:22:12.294Z"
   },
   {
    "duration": 6,
    "start_time": "2022-04-27T14:22:12.344Z"
   },
   {
    "duration": 282,
    "start_time": "2022-04-27T14:57:25.673Z"
   },
   {
    "duration": 399,
    "start_time": "2022-04-27T14:57:45.167Z"
   },
   {
    "duration": 161,
    "start_time": "2022-04-27T14:57:50.839Z"
   },
   {
    "duration": 202,
    "start_time": "2022-04-27T14:57:55.568Z"
   },
   {
    "duration": 183,
    "start_time": "2022-04-27T15:01:06.277Z"
   },
   {
    "duration": 154,
    "start_time": "2022-04-27T15:03:14.733Z"
   },
   {
    "duration": 7,
    "start_time": "2022-04-27T15:12:36.382Z"
   },
   {
    "duration": 157,
    "start_time": "2022-04-27T15:12:39.924Z"
   },
   {
    "duration": 187,
    "start_time": "2022-04-27T15:13:04.629Z"
   },
   {
    "duration": 164,
    "start_time": "2022-04-27T15:13:17.722Z"
   },
   {
    "duration": 204,
    "start_time": "2022-04-27T15:13:25.218Z"
   },
   {
    "duration": 162,
    "start_time": "2022-04-27T15:13:55.218Z"
   },
   {
    "duration": 6,
    "start_time": "2022-04-27T15:14:11.426Z"
   },
   {
    "duration": 12,
    "start_time": "2022-04-27T15:14:13.737Z"
   },
   {
    "duration": 4,
    "start_time": "2022-04-27T15:14:45.955Z"
   },
   {
    "duration": 2671,
    "start_time": "2022-04-27T15:15:00.609Z"
   },
   {
    "duration": 11,
    "start_time": "2022-04-27T15:15:37.434Z"
   },
   {
    "duration": 10,
    "start_time": "2022-04-27T15:15:41.210Z"
   },
   {
    "duration": 10,
    "start_time": "2022-04-27T15:15:49.328Z"
   },
   {
    "duration": 4,
    "start_time": "2022-04-27T15:19:10.398Z"
   },
   {
    "duration": 4,
    "start_time": "2022-04-27T15:20:18.493Z"
   },
   {
    "duration": 158,
    "start_time": "2022-04-27T15:20:27.818Z"
   },
   {
    "duration": 159,
    "start_time": "2022-04-27T15:23:28.912Z"
   },
   {
    "duration": 162,
    "start_time": "2022-04-27T15:24:12.006Z"
   },
   {
    "duration": 147,
    "start_time": "2022-04-27T15:24:16.674Z"
   },
   {
    "duration": 5,
    "start_time": "2022-04-27T15:38:18.391Z"
   },
   {
    "duration": 168,
    "start_time": "2022-04-27T15:38:22.199Z"
   },
   {
    "duration": 2549,
    "start_time": "2022-04-27T15:38:49.215Z"
   },
   {
    "duration": 287,
    "start_time": "2022-04-27T15:39:00.640Z"
   },
   {
    "duration": 211,
    "start_time": "2022-04-27T16:33:49.812Z"
   },
   {
    "duration": 158,
    "start_time": "2022-04-27T17:02:48.082Z"
   },
   {
    "duration": 162,
    "start_time": "2022-04-27T17:02:56.976Z"
   },
   {
    "duration": 169,
    "start_time": "2022-04-27T17:03:08.793Z"
   },
   {
    "duration": 154,
    "start_time": "2022-04-27T17:03:14.489Z"
   },
   {
    "duration": 235,
    "start_time": "2022-04-27T17:03:28.601Z"
   },
   {
    "duration": 230,
    "start_time": "2022-04-27T17:19:35.939Z"
   },
   {
    "duration": 232,
    "start_time": "2022-04-27T17:23:46.489Z"
   },
   {
    "duration": 192,
    "start_time": "2022-04-27T17:23:57.537Z"
   },
   {
    "duration": 216,
    "start_time": "2022-04-27T17:24:06.569Z"
   },
   {
    "duration": 149,
    "start_time": "2022-04-27T17:25:00.215Z"
   },
   {
    "duration": 296,
    "start_time": "2022-04-27T17:26:50.493Z"
   },
   {
    "duration": 11,
    "start_time": "2022-04-27T17:27:14.772Z"
   },
   {
    "duration": 150,
    "start_time": "2022-04-27T17:27:17.716Z"
   },
   {
    "duration": 218,
    "start_time": "2022-04-27T17:27:27.740Z"
   },
   {
    "duration": 682,
    "start_time": "2022-04-27T17:28:20.219Z"
   },
   {
    "duration": 4,
    "start_time": "2022-04-27T17:28:53.187Z"
   },
   {
    "duration": 11,
    "start_time": "2022-04-27T17:28:57.754Z"
   },
   {
    "duration": 13,
    "start_time": "2022-04-27T17:29:18.422Z"
   },
   {
    "duration": 4,
    "start_time": "2022-04-27T17:29:25.730Z"
   },
   {
    "duration": 13,
    "start_time": "2022-04-27T17:29:29.264Z"
   },
   {
    "duration": 10,
    "start_time": "2022-04-27T17:29:37.114Z"
   },
   {
    "duration": 10,
    "start_time": "2022-04-27T17:30:41.346Z"
   },
   {
    "duration": 148,
    "start_time": "2022-04-27T17:31:02.386Z"
   },
   {
    "duration": 154,
    "start_time": "2022-04-27T17:32:02.537Z"
   },
   {
    "duration": 16,
    "start_time": "2022-04-27T17:34:57.887Z"
   },
   {
    "duration": 1429,
    "start_time": "2022-04-27T17:35:36.771Z"
   },
   {
    "duration": 336,
    "start_time": "2022-04-27T17:35:38.202Z"
   },
   {
    "duration": 199,
    "start_time": "2022-04-27T17:35:38.540Z"
   },
   {
    "duration": 244,
    "start_time": "2022-04-27T17:35:38.741Z"
   },
   {
    "duration": 95,
    "start_time": "2022-04-27T17:35:38.987Z"
   },
   {
    "duration": 102,
    "start_time": "2022-04-27T17:35:39.093Z"
   },
   {
    "duration": 15,
    "start_time": "2022-04-27T17:35:39.197Z"
   },
   {
    "duration": 24,
    "start_time": "2022-04-27T17:35:39.213Z"
   },
   {
    "duration": 21,
    "start_time": "2022-04-27T17:35:39.239Z"
   },
   {
    "duration": 86,
    "start_time": "2022-04-27T17:35:39.262Z"
   },
   {
    "duration": 13,
    "start_time": "2022-04-27T17:35:39.350Z"
   },
   {
    "duration": 34,
    "start_time": "2022-04-27T17:35:39.364Z"
   },
   {
    "duration": 10,
    "start_time": "2022-04-27T17:35:39.400Z"
   },
   {
    "duration": 559,
    "start_time": "2022-04-27T17:35:39.413Z"
   },
   {
    "duration": 60,
    "start_time": "2022-04-27T17:35:39.974Z"
   },
   {
    "duration": 258,
    "start_time": "2022-04-27T17:35:40.037Z"
   },
   {
    "duration": 40,
    "start_time": "2022-04-27T17:35:40.297Z"
   },
   {
    "duration": 586,
    "start_time": "2022-04-27T17:35:40.339Z"
   },
   {
    "duration": 276,
    "start_time": "2022-04-27T17:35:40.928Z"
   },
   {
    "duration": 42,
    "start_time": "2022-04-27T17:35:41.206Z"
   },
   {
    "duration": 67,
    "start_time": "2022-04-27T17:35:41.250Z"
   },
   {
    "duration": 5,
    "start_time": "2022-04-27T17:35:41.320Z"
   },
   {
    "duration": 67,
    "start_time": "2022-04-27T17:35:41.326Z"
   },
   {
    "duration": 109,
    "start_time": "2022-04-27T17:35:41.394Z"
   },
   {
    "duration": 12,
    "start_time": "2022-04-27T17:35:41.505Z"
   },
   {
    "duration": 19,
    "start_time": "2022-04-27T17:35:41.518Z"
   },
   {
    "duration": 25,
    "start_time": "2022-04-27T17:35:41.539Z"
   },
   {
    "duration": 27,
    "start_time": "2022-04-27T17:35:41.568Z"
   },
   {
    "duration": 804,
    "start_time": "2022-04-27T17:35:41.597Z"
   },
   {
    "duration": 0,
    "start_time": "2022-04-27T17:35:42.403Z"
   },
   {
    "duration": 0,
    "start_time": "2022-04-27T17:35:42.405Z"
   },
   {
    "duration": 0,
    "start_time": "2022-04-27T17:35:42.407Z"
   },
   {
    "duration": 0,
    "start_time": "2022-04-27T17:35:42.408Z"
   },
   {
    "duration": 0,
    "start_time": "2022-04-27T17:35:42.409Z"
   },
   {
    "duration": 0,
    "start_time": "2022-04-27T17:35:42.410Z"
   },
   {
    "duration": 0,
    "start_time": "2022-04-27T17:35:42.410Z"
   },
   {
    "duration": 0,
    "start_time": "2022-04-27T17:35:42.415Z"
   },
   {
    "duration": 0,
    "start_time": "2022-04-27T17:35:42.416Z"
   },
   {
    "duration": 0,
    "start_time": "2022-04-27T17:35:42.417Z"
   },
   {
    "duration": 0,
    "start_time": "2022-04-27T17:35:42.418Z"
   },
   {
    "duration": 0,
    "start_time": "2022-04-27T17:35:42.419Z"
   },
   {
    "duration": 0,
    "start_time": "2022-04-27T17:35:42.421Z"
   },
   {
    "duration": 0,
    "start_time": "2022-04-27T17:35:42.423Z"
   },
   {
    "duration": 0,
    "start_time": "2022-04-27T17:35:42.424Z"
   },
   {
    "duration": 0,
    "start_time": "2022-04-27T17:35:42.425Z"
   },
   {
    "duration": 0,
    "start_time": "2022-04-27T17:35:42.426Z"
   },
   {
    "duration": 0,
    "start_time": "2022-04-27T17:35:42.427Z"
   },
   {
    "duration": 0,
    "start_time": "2022-04-27T17:35:42.428Z"
   },
   {
    "duration": 0,
    "start_time": "2022-04-27T17:35:42.429Z"
   },
   {
    "duration": 0,
    "start_time": "2022-04-27T17:35:42.431Z"
   },
   {
    "duration": 0,
    "start_time": "2022-04-27T17:35:42.432Z"
   },
   {
    "duration": 0,
    "start_time": "2022-04-27T17:35:42.433Z"
   },
   {
    "duration": 5,
    "start_time": "2022-04-27T17:35:57.506Z"
   },
   {
    "duration": 13,
    "start_time": "2022-04-27T17:35:57.891Z"
   },
   {
    "duration": 167,
    "start_time": "2022-04-27T17:36:04.336Z"
   },
   {
    "duration": 42,
    "start_time": "2022-04-27T17:36:39.756Z"
   },
   {
    "duration": 25,
    "start_time": "2022-04-27T17:37:12.241Z"
   },
   {
    "duration": 10,
    "start_time": "2022-04-27T17:39:06.808Z"
   },
   {
    "duration": 100,
    "start_time": "2022-04-27T17:39:19.512Z"
   },
   {
    "duration": 118,
    "start_time": "2022-04-27T17:40:16.560Z"
   },
   {
    "duration": 25,
    "start_time": "2022-04-27T17:41:08.503Z"
   },
   {
    "duration": 19,
    "start_time": "2022-04-27T17:41:49.638Z"
   },
   {
    "duration": 170,
    "start_time": "2022-04-27T17:42:54.653Z"
   },
   {
    "duration": 83,
    "start_time": "2022-04-27T17:43:12.227Z"
   },
   {
    "duration": 85,
    "start_time": "2022-04-27T17:43:19.652Z"
   },
   {
    "duration": 82,
    "start_time": "2022-04-27T17:43:34.499Z"
   },
   {
    "duration": 159,
    "start_time": "2022-04-27T17:43:50.700Z"
   },
   {
    "duration": 158,
    "start_time": "2022-04-27T17:44:12.380Z"
   },
   {
    "duration": 111,
    "start_time": "2022-04-27T17:44:48.642Z"
   },
   {
    "duration": 175,
    "start_time": "2022-04-27T17:45:32.739Z"
   },
   {
    "duration": 123,
    "start_time": "2022-04-27T17:45:38.467Z"
   },
   {
    "duration": 1600,
    "start_time": "2022-04-27T18:08:24.105Z"
   },
   {
    "duration": 427,
    "start_time": "2022-04-27T18:08:25.708Z"
   },
   {
    "duration": 301,
    "start_time": "2022-04-27T18:08:26.137Z"
   },
   {
    "duration": 348,
    "start_time": "2022-04-27T18:08:26.441Z"
   },
   {
    "duration": 152,
    "start_time": "2022-04-27T18:08:26.793Z"
   },
   {
    "duration": 106,
    "start_time": "2022-04-27T18:08:26.948Z"
   },
   {
    "duration": 13,
    "start_time": "2022-04-27T18:08:27.056Z"
   },
   {
    "duration": 25,
    "start_time": "2022-04-27T18:08:27.072Z"
   },
   {
    "duration": 25,
    "start_time": "2022-04-27T18:08:27.099Z"
   },
   {
    "duration": 79,
    "start_time": "2022-04-27T18:08:27.128Z"
   },
   {
    "duration": 13,
    "start_time": "2022-04-27T18:08:27.209Z"
   },
   {
    "duration": 15,
    "start_time": "2022-04-27T18:08:27.224Z"
   },
   {
    "duration": 10,
    "start_time": "2022-04-27T18:08:27.240Z"
   },
   {
    "duration": 362,
    "start_time": "2022-04-27T18:08:27.252Z"
   },
   {
    "duration": 49,
    "start_time": "2022-04-27T18:08:27.616Z"
   },
   {
    "duration": 171,
    "start_time": "2022-04-27T18:08:27.667Z"
   },
   {
    "duration": 26,
    "start_time": "2022-04-27T18:08:27.840Z"
   },
   {
    "duration": 364,
    "start_time": "2022-04-27T18:08:27.867Z"
   },
   {
    "duration": 176,
    "start_time": "2022-04-27T18:08:28.234Z"
   },
   {
    "duration": 26,
    "start_time": "2022-04-27T18:08:28.411Z"
   },
   {
    "duration": 55,
    "start_time": "2022-04-27T18:08:28.438Z"
   },
   {
    "duration": 4,
    "start_time": "2022-04-27T18:08:28.495Z"
   },
   {
    "duration": 49,
    "start_time": "2022-04-27T18:08:28.500Z"
   },
   {
    "duration": 121,
    "start_time": "2022-04-27T18:08:28.551Z"
   },
   {
    "duration": 10,
    "start_time": "2022-04-27T18:08:28.674Z"
   },
   {
    "duration": 12,
    "start_time": "2022-04-27T18:08:28.692Z"
   },
   {
    "duration": 24,
    "start_time": "2022-04-27T18:08:28.705Z"
   },
   {
    "duration": 9,
    "start_time": "2022-04-27T18:08:28.733Z"
   },
   {
    "duration": 9,
    "start_time": "2022-04-27T18:08:28.744Z"
   },
   {
    "duration": 16,
    "start_time": "2022-04-27T18:08:28.755Z"
   },
   {
    "duration": 174,
    "start_time": "2022-04-27T18:08:28.773Z"
   },
   {
    "duration": 133,
    "start_time": "2022-04-27T18:08:28.948Z"
   },
   {
    "duration": 52,
    "start_time": "2022-04-27T18:08:29.082Z"
   },
   {
    "duration": 30,
    "start_time": "2022-04-27T18:08:29.136Z"
   },
   {
    "duration": 25,
    "start_time": "2022-04-27T18:08:29.167Z"
   },
   {
    "duration": 18,
    "start_time": "2022-04-27T18:08:29.194Z"
   },
   {
    "duration": 16950,
    "start_time": "2022-04-27T18:08:29.214Z"
   },
   {
    "duration": 5869,
    "start_time": "2022-04-27T18:08:46.165Z"
   },
   {
    "duration": 66,
    "start_time": "2022-04-27T18:08:52.036Z"
   },
   {
    "duration": 33,
    "start_time": "2022-04-27T18:08:52.104Z"
   },
   {
    "duration": 482,
    "start_time": "2022-04-27T18:08:52.139Z"
   },
   {
    "duration": 92,
    "start_time": "2022-04-27T18:08:52.623Z"
   },
   {
    "duration": 20,
    "start_time": "2022-04-27T18:08:52.717Z"
   },
   {
    "duration": 14,
    "start_time": "2022-04-27T18:08:52.739Z"
   },
   {
    "duration": 9,
    "start_time": "2022-04-27T18:08:52.755Z"
   },
   {
    "duration": 27,
    "start_time": "2022-04-27T18:08:52.766Z"
   },
   {
    "duration": 13,
    "start_time": "2022-04-27T18:08:52.795Z"
   },
   {
    "duration": 109,
    "start_time": "2022-04-27T18:08:52.810Z"
   },
   {
    "duration": 87,
    "start_time": "2022-04-27T18:08:52.921Z"
   },
   {
    "duration": 7,
    "start_time": "2022-04-27T18:08:53.010Z"
   },
   {
    "duration": 23,
    "start_time": "2022-04-27T18:12:17.532Z"
   }
  ],
  "kernelspec": {
   "display_name": "Python 3 (ipykernel)",
   "language": "python",
   "name": "python3"
  },
  "language_info": {
   "codemirror_mode": {
    "name": "ipython",
    "version": 3
   },
   "file_extension": ".py",
   "mimetype": "text/x-python",
   "name": "python",
   "nbconvert_exporter": "python",
   "pygments_lexer": "ipython3",
   "version": "3.9.7"
  },
  "toc": {
   "base_numbering": 1,
   "nav_menu": {},
   "number_sections": true,
   "sideBar": true,
   "skip_h1_title": true,
   "title_cell": "Содержание",
   "title_sidebar": "Contents",
   "toc_cell": true,
   "toc_position": {},
   "toc_section_display": true,
   "toc_window_display": false
  }
 },
 "nbformat": 4,
 "nbformat_minor": 2
}
