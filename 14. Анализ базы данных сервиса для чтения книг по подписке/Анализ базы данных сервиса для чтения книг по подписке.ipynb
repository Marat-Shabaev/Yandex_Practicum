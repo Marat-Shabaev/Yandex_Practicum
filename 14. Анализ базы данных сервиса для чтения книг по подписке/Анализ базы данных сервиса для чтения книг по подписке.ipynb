{
 "cells": [
  {
   "cell_type": "markdown",
   "metadata": {
    "toc": true
   },
   "source": [
    "<h1>Содержание<span class=\"tocSkip\"></span></h1>\n",
    "<div class=\"toc\"><ul class=\"toc-item\"><li><span><a href=\"#Исследуем-таблицы,-выведем-первые-строки\" data-toc-modified-id=\"Исследуем-таблицы,-выведем-первые-строки-1\"><span class=\"toc-item-num\">1&nbsp;&nbsp;</span>Исследуем таблицы, выведем первые строки</a></span></li><li><span><a href=\"#Посчитаем,-сколько-книг-вышло-после-1-января-2000-года\" data-toc-modified-id=\"Посчитаем,-сколько-книг-вышло-после-1-января-2000-года-2\"><span class=\"toc-item-num\">2&nbsp;&nbsp;</span>Посчитаем, сколько книг вышло после 1 января 2000 года</a></span></li><li><span><a href=\"#Для-каждой-книги-посчитаем-количество-обзоров-и-среднюю-оценку\" data-toc-modified-id=\"Для-каждой-книги-посчитаем-количество-обзоров-и-среднюю-оценку-3\"><span class=\"toc-item-num\">3&nbsp;&nbsp;</span>Для каждой книги посчитаем количество обзоров и среднюю оценку</a></span></li><li><span><a href=\"#Определим-издательство,-которое-выпустило-наибольшее-число-книг-толще-50-страниц,-исключая-из-анализа-брошюры;\" data-toc-modified-id=\"Определим-издательство,-которое-выпустило-наибольшее-число-книг-толще-50-страниц,-исключая-из-анализа-брошюры;-4\"><span class=\"toc-item-num\">4&nbsp;&nbsp;</span>Определим издательство, которое выпустило наибольшее число книг толще 50 страниц, исключая из анализа брошюры;</a></span></li><li><span><a href=\"#Определим-книги-с-самой-высокой-средней-оценкой-книг,-учитывая-только-книги-с-50-и-более-оценками;\" data-toc-modified-id=\"Определим-книги-с-самой-высокой-средней-оценкой-книг,-учитывая-только-книги-с-50-и-более-оценками;-5\"><span class=\"toc-item-num\">5&nbsp;&nbsp;</span>Определим книги с самой высокой средней оценкой книг, учитывая только книги с 50 и более оценками;</a></span></li><li><span><a href=\"#Посчитаем-среднее-количество-обзоров-от-пользователей,-которые-поставили-больше-50-оценок.\" data-toc-modified-id=\"Посчитаем-среднее-количество-обзоров-от-пользователей,-которые-поставили-больше-50-оценок.-6\"><span class=\"toc-item-num\">6&nbsp;&nbsp;</span>Посчитаем среднее количество обзоров от пользователей, которые поставили больше 50 оценок.</a></span></li></ul></div>"
   ]
  },
  {
   "cell_type": "markdown",
   "metadata": {},
   "source": [
    "# Анализ базы данных сервиса для чтения книг по подписке"
   ]
  },
  {
   "cell_type": "markdown",
   "metadata": {},
   "source": [
    "Неоходимо проанализировать базу данных, с информацией о книгах, издательствах, авторах, а также пользовательских обзоров книг, для формулировки ценностного предложение для сервиса чтения книг по подписке, купленного компанией.\n",
    "\n",
    "\n",
    "**Задания**\n",
    "\n",
    "- Посчитать, сколько книг вышло после 1 января 2000 года;\n",
    "- Для каждой книги посчитать количество обзоров и среднюю оценку;\n",
    "- Определить издательство, которое выпустило наибольшее число книг толще 50 страниц — исключить из анализа брошюры;\n",
    "- Определить автора с самой высокой средней оценкой книг — учитывать только книги с 50 и более оценками;\n",
    "- Посчитать среднее количество обзоров от пользователей, которые поставили больше 50 оценок.\n",
    "\n",
    "\n",
    "**Описание данных**\n",
    "\n",
    "**Таблица `books`**\n",
    "\n",
    "Содержит данные о книгах:\n",
    "\n",
    "- `book_id` — идентификатор книги;\n",
    "- `author_id` — идентификатор автора;\n",
    "- `title` — название книги;\n",
    "- `num_pages` — количество страниц;\n",
    "- `publication_date` — дата публикации книги;\n",
    "- `publisher_id` — идентификатор издателя.\n",
    "\n",
    "**Таблица `authors`**\n",
    "\n",
    "Содержит данные об авторах:\n",
    "\n",
    "- `author_id` — идентификатор автора;\n",
    "- `author` — имя автора.\n",
    "\n",
    "**Таблица `publishers`**\n",
    "\n",
    "Содержит данные об издательствах:\n",
    "\n",
    "- `publisher_id` — идентификатор издательства;\n",
    "- `publisher` — название издательства;\n",
    "\n",
    "**Таблица `ratings`**\n",
    "\n",
    "Содержит данные о пользовательских оценках книг:\n",
    "\n",
    "- `rating_id` — идентификатор оценки;\n",
    "- `book_id` — идентификатор книги;\n",
    "- `username` — имя пользователя, оставившего оценку;\n",
    "- `rating` — оценка книги.\n",
    "\n",
    "**Таблица `reviews`**\n",
    "\n",
    "Содержит данные о пользовательских обзорах на книги:\n",
    "\n",
    "- `review_id` — идентификатор обзора;\n",
    "- `book_id` — идентификатор книги;\n",
    "- `username` — имя пользователя, написавшего обзор;\n",
    "- `text` — текст обзора."
   ]
  },
  {
   "cell_type": "markdown",
   "metadata": {},
   "source": [
    "## Исследуем таблицы, выведем первые строки"
   ]
  },
  {
   "cell_type": "code",
   "execution_count": 1,
   "metadata": {},
   "outputs": [],
   "source": [
    "import pandas as pd\n",
    "from sqlalchemy import create_engine\n",
    "db_config = {'user': 'praktikum_student',\n",
    "'pwd': 'Sdf4$2;d-d30pp', # пароль\n",
    "'host': 'rc1b-wcoijxj3yxfsf3fs.mdb.yandexcloud.net',\n",
    "'port': 6432,\n",
    "'db': 'data-analyst-final-project-db'} \n",
    "connection_string = 'postgresql://{}:{}@{}:{}/{}'.format(db_config['user'],\n",
    "db_config['pwd'],\n",
    "db_config['host'],\n",
    "db_config['port'],\n",
    "db_config['db'])\n",
    "engine = create_engine(connection_string, connect_args={'sslmode':'require'})"
   ]
  },
  {
   "cell_type": "code",
   "execution_count": 2,
   "metadata": {},
   "outputs": [],
   "source": [
    "def sql(query):\n",
    "    return pd.io.sql.read_sql(query, con = engine)"
   ]
  },
  {
   "cell_type": "code",
   "execution_count": 3,
   "metadata": {},
   "outputs": [
    {
     "data": {
      "text/html": [
       "<div>\n",
       "<style scoped>\n",
       "    .dataframe tbody tr th:only-of-type {\n",
       "        vertical-align: middle;\n",
       "    }\n",
       "\n",
       "    .dataframe tbody tr th {\n",
       "        vertical-align: top;\n",
       "    }\n",
       "\n",
       "    .dataframe thead th {\n",
       "        text-align: right;\n",
       "    }\n",
       "</style>\n",
       "<table border=\"1\" class=\"dataframe\">\n",
       "  <thead>\n",
       "    <tr style=\"text-align: right;\">\n",
       "      <th></th>\n",
       "      <th>book_id</th>\n",
       "      <th>author_id</th>\n",
       "      <th>title</th>\n",
       "      <th>num_pages</th>\n",
       "      <th>publication_date</th>\n",
       "      <th>publisher_id</th>\n",
       "    </tr>\n",
       "  </thead>\n",
       "  <tbody>\n",
       "    <tr>\n",
       "      <th>0</th>\n",
       "      <td>1</td>\n",
       "      <td>546</td>\n",
       "      <td>'Salem's Lot</td>\n",
       "      <td>594</td>\n",
       "      <td>2005-11-01</td>\n",
       "      <td>93</td>\n",
       "    </tr>\n",
       "    <tr>\n",
       "      <th>1</th>\n",
       "      <td>2</td>\n",
       "      <td>465</td>\n",
       "      <td>1 000 Places to See Before You Die</td>\n",
       "      <td>992</td>\n",
       "      <td>2003-05-22</td>\n",
       "      <td>336</td>\n",
       "    </tr>\n",
       "    <tr>\n",
       "      <th>2</th>\n",
       "      <td>3</td>\n",
       "      <td>407</td>\n",
       "      <td>13 Little Blue Envelopes (Little Blue Envelope...</td>\n",
       "      <td>322</td>\n",
       "      <td>2010-12-21</td>\n",
       "      <td>135</td>\n",
       "    </tr>\n",
       "    <tr>\n",
       "      <th>3</th>\n",
       "      <td>4</td>\n",
       "      <td>82</td>\n",
       "      <td>1491: New Revelations of the Americas Before C...</td>\n",
       "      <td>541</td>\n",
       "      <td>2006-10-10</td>\n",
       "      <td>309</td>\n",
       "    </tr>\n",
       "    <tr>\n",
       "      <th>4</th>\n",
       "      <td>5</td>\n",
       "      <td>125</td>\n",
       "      <td>1776</td>\n",
       "      <td>386</td>\n",
       "      <td>2006-07-04</td>\n",
       "      <td>268</td>\n",
       "    </tr>\n",
       "  </tbody>\n",
       "</table>\n",
       "</div>"
      ],
      "text/plain": [
       "   book_id  author_id                                              title  \\\n",
       "0        1        546                                       'Salem's Lot   \n",
       "1        2        465                 1 000 Places to See Before You Die   \n",
       "2        3        407  13 Little Blue Envelopes (Little Blue Envelope...   \n",
       "3        4         82  1491: New Revelations of the Americas Before C...   \n",
       "4        5        125                                               1776   \n",
       "\n",
       "   num_pages publication_date  publisher_id  \n",
       "0        594       2005-11-01            93  \n",
       "1        992       2003-05-22           336  \n",
       "2        322       2010-12-21           135  \n",
       "3        541       2006-10-10           309  \n",
       "4        386       2006-07-04           268  "
      ]
     },
     "execution_count": 3,
     "metadata": {},
     "output_type": "execute_result"
    }
   ],
   "source": [
    "query = '''\n",
    "select *\n",
    "from books\n",
    "limit 5'''\n",
    "sql(query)"
   ]
  },
  {
   "cell_type": "code",
   "execution_count": 4,
   "metadata": {},
   "outputs": [
    {
     "data": {
      "text/html": [
       "<div>\n",
       "<style scoped>\n",
       "    .dataframe tbody tr th:only-of-type {\n",
       "        vertical-align: middle;\n",
       "    }\n",
       "\n",
       "    .dataframe tbody tr th {\n",
       "        vertical-align: top;\n",
       "    }\n",
       "\n",
       "    .dataframe thead th {\n",
       "        text-align: right;\n",
       "    }\n",
       "</style>\n",
       "<table border=\"1\" class=\"dataframe\">\n",
       "  <thead>\n",
       "    <tr style=\"text-align: right;\">\n",
       "      <th></th>\n",
       "      <th>author_id</th>\n",
       "      <th>author</th>\n",
       "    </tr>\n",
       "  </thead>\n",
       "  <tbody>\n",
       "    <tr>\n",
       "      <th>0</th>\n",
       "      <td>1</td>\n",
       "      <td>A.S. Byatt</td>\n",
       "    </tr>\n",
       "    <tr>\n",
       "      <th>1</th>\n",
       "      <td>2</td>\n",
       "      <td>Aesop/Laura Harris/Laura Gibbs</td>\n",
       "    </tr>\n",
       "    <tr>\n",
       "      <th>2</th>\n",
       "      <td>3</td>\n",
       "      <td>Agatha Christie</td>\n",
       "    </tr>\n",
       "    <tr>\n",
       "      <th>3</th>\n",
       "      <td>4</td>\n",
       "      <td>Alan Brennert</td>\n",
       "    </tr>\n",
       "    <tr>\n",
       "      <th>4</th>\n",
       "      <td>5</td>\n",
       "      <td>Alan Moore/David   Lloyd</td>\n",
       "    </tr>\n",
       "  </tbody>\n",
       "</table>\n",
       "</div>"
      ],
      "text/plain": [
       "   author_id                          author\n",
       "0          1                      A.S. Byatt\n",
       "1          2  Aesop/Laura Harris/Laura Gibbs\n",
       "2          3                 Agatha Christie\n",
       "3          4                   Alan Brennert\n",
       "4          5        Alan Moore/David   Lloyd"
      ]
     },
     "execution_count": 4,
     "metadata": {},
     "output_type": "execute_result"
    }
   ],
   "source": [
    "query = '''\n",
    "select *\n",
    "from authors\n",
    "limit 5'''\n",
    "sql(query)"
   ]
  },
  {
   "cell_type": "code",
   "execution_count": 5,
   "metadata": {},
   "outputs": [
    {
     "data": {
      "text/html": [
       "<div>\n",
       "<style scoped>\n",
       "    .dataframe tbody tr th:only-of-type {\n",
       "        vertical-align: middle;\n",
       "    }\n",
       "\n",
       "    .dataframe tbody tr th {\n",
       "        vertical-align: top;\n",
       "    }\n",
       "\n",
       "    .dataframe thead th {\n",
       "        text-align: right;\n",
       "    }\n",
       "</style>\n",
       "<table border=\"1\" class=\"dataframe\">\n",
       "  <thead>\n",
       "    <tr style=\"text-align: right;\">\n",
       "      <th></th>\n",
       "      <th>publisher_id</th>\n",
       "      <th>publisher</th>\n",
       "    </tr>\n",
       "  </thead>\n",
       "  <tbody>\n",
       "    <tr>\n",
       "      <th>0</th>\n",
       "      <td>1</td>\n",
       "      <td>Ace</td>\n",
       "    </tr>\n",
       "    <tr>\n",
       "      <th>1</th>\n",
       "      <td>2</td>\n",
       "      <td>Ace Book</td>\n",
       "    </tr>\n",
       "    <tr>\n",
       "      <th>2</th>\n",
       "      <td>3</td>\n",
       "      <td>Ace Books</td>\n",
       "    </tr>\n",
       "    <tr>\n",
       "      <th>3</th>\n",
       "      <td>4</td>\n",
       "      <td>Ace Hardcover</td>\n",
       "    </tr>\n",
       "    <tr>\n",
       "      <th>4</th>\n",
       "      <td>5</td>\n",
       "      <td>Addison Wesley Publishing Company</td>\n",
       "    </tr>\n",
       "  </tbody>\n",
       "</table>\n",
       "</div>"
      ],
      "text/plain": [
       "   publisher_id                          publisher\n",
       "0             1                                Ace\n",
       "1             2                           Ace Book\n",
       "2             3                          Ace Books\n",
       "3             4                      Ace Hardcover\n",
       "4             5  Addison Wesley Publishing Company"
      ]
     },
     "execution_count": 5,
     "metadata": {},
     "output_type": "execute_result"
    }
   ],
   "source": [
    "query = '''\n",
    "select *\n",
    "from publishers\n",
    "limit 5'''\n",
    "sql(query)"
   ]
  },
  {
   "cell_type": "code",
   "execution_count": 6,
   "metadata": {},
   "outputs": [
    {
     "data": {
      "text/html": [
       "<div>\n",
       "<style scoped>\n",
       "    .dataframe tbody tr th:only-of-type {\n",
       "        vertical-align: middle;\n",
       "    }\n",
       "\n",
       "    .dataframe tbody tr th {\n",
       "        vertical-align: top;\n",
       "    }\n",
       "\n",
       "    .dataframe thead th {\n",
       "        text-align: right;\n",
       "    }\n",
       "</style>\n",
       "<table border=\"1\" class=\"dataframe\">\n",
       "  <thead>\n",
       "    <tr style=\"text-align: right;\">\n",
       "      <th></th>\n",
       "      <th>rating_id</th>\n",
       "      <th>book_id</th>\n",
       "      <th>username</th>\n",
       "      <th>rating</th>\n",
       "    </tr>\n",
       "  </thead>\n",
       "  <tbody>\n",
       "    <tr>\n",
       "      <th>0</th>\n",
       "      <td>1</td>\n",
       "      <td>1</td>\n",
       "      <td>ryanfranco</td>\n",
       "      <td>4</td>\n",
       "    </tr>\n",
       "    <tr>\n",
       "      <th>1</th>\n",
       "      <td>2</td>\n",
       "      <td>1</td>\n",
       "      <td>grantpatricia</td>\n",
       "      <td>2</td>\n",
       "    </tr>\n",
       "    <tr>\n",
       "      <th>2</th>\n",
       "      <td>3</td>\n",
       "      <td>1</td>\n",
       "      <td>brandtandrea</td>\n",
       "      <td>5</td>\n",
       "    </tr>\n",
       "    <tr>\n",
       "      <th>3</th>\n",
       "      <td>4</td>\n",
       "      <td>2</td>\n",
       "      <td>lorichen</td>\n",
       "      <td>3</td>\n",
       "    </tr>\n",
       "    <tr>\n",
       "      <th>4</th>\n",
       "      <td>5</td>\n",
       "      <td>2</td>\n",
       "      <td>mariokeller</td>\n",
       "      <td>2</td>\n",
       "    </tr>\n",
       "  </tbody>\n",
       "</table>\n",
       "</div>"
      ],
      "text/plain": [
       "   rating_id  book_id       username  rating\n",
       "0          1        1     ryanfranco       4\n",
       "1          2        1  grantpatricia       2\n",
       "2          3        1   brandtandrea       5\n",
       "3          4        2       lorichen       3\n",
       "4          5        2    mariokeller       2"
      ]
     },
     "execution_count": 6,
     "metadata": {},
     "output_type": "execute_result"
    }
   ],
   "source": [
    "query = '''\n",
    "select *\n",
    "from ratings\n",
    "limit 5'''\n",
    "sql(query)"
   ]
  },
  {
   "cell_type": "code",
   "execution_count": 7,
   "metadata": {},
   "outputs": [
    {
     "data": {
      "text/html": [
       "<div>\n",
       "<style scoped>\n",
       "    .dataframe tbody tr th:only-of-type {\n",
       "        vertical-align: middle;\n",
       "    }\n",
       "\n",
       "    .dataframe tbody tr th {\n",
       "        vertical-align: top;\n",
       "    }\n",
       "\n",
       "    .dataframe thead th {\n",
       "        text-align: right;\n",
       "    }\n",
       "</style>\n",
       "<table border=\"1\" class=\"dataframe\">\n",
       "  <thead>\n",
       "    <tr style=\"text-align: right;\">\n",
       "      <th></th>\n",
       "      <th>review_id</th>\n",
       "      <th>book_id</th>\n",
       "      <th>username</th>\n",
       "      <th>text</th>\n",
       "    </tr>\n",
       "  </thead>\n",
       "  <tbody>\n",
       "    <tr>\n",
       "      <th>0</th>\n",
       "      <td>1</td>\n",
       "      <td>1</td>\n",
       "      <td>brandtandrea</td>\n",
       "      <td>Mention society tell send professor analysis. ...</td>\n",
       "    </tr>\n",
       "    <tr>\n",
       "      <th>1</th>\n",
       "      <td>2</td>\n",
       "      <td>1</td>\n",
       "      <td>ryanfranco</td>\n",
       "      <td>Foot glass pretty audience hit themselves. Amo...</td>\n",
       "    </tr>\n",
       "    <tr>\n",
       "      <th>2</th>\n",
       "      <td>3</td>\n",
       "      <td>2</td>\n",
       "      <td>lorichen</td>\n",
       "      <td>Listen treat keep worry. Miss husband tax but ...</td>\n",
       "    </tr>\n",
       "    <tr>\n",
       "      <th>3</th>\n",
       "      <td>4</td>\n",
       "      <td>3</td>\n",
       "      <td>johnsonamanda</td>\n",
       "      <td>Finally month interesting blue could nature cu...</td>\n",
       "    </tr>\n",
       "    <tr>\n",
       "      <th>4</th>\n",
       "      <td>5</td>\n",
       "      <td>3</td>\n",
       "      <td>scotttamara</td>\n",
       "      <td>Nation purpose heavy give wait song will. List...</td>\n",
       "    </tr>\n",
       "  </tbody>\n",
       "</table>\n",
       "</div>"
      ],
      "text/plain": [
       "   review_id  book_id       username  \\\n",
       "0          1        1   brandtandrea   \n",
       "1          2        1     ryanfranco   \n",
       "2          3        2       lorichen   \n",
       "3          4        3  johnsonamanda   \n",
       "4          5        3    scotttamara   \n",
       "\n",
       "                                                text  \n",
       "0  Mention society tell send professor analysis. ...  \n",
       "1  Foot glass pretty audience hit themselves. Amo...  \n",
       "2  Listen treat keep worry. Miss husband tax but ...  \n",
       "3  Finally month interesting blue could nature cu...  \n",
       "4  Nation purpose heavy give wait song will. List...  "
      ]
     },
     "execution_count": 7,
     "metadata": {},
     "output_type": "execute_result"
    }
   ],
   "source": [
    "query = '''\n",
    "select *\n",
    "from reviews\n",
    "limit 5'''\n",
    "sql(query)"
   ]
  },
  {
   "cell_type": "markdown",
   "metadata": {},
   "source": [
    "## Посчитаем, сколько книг вышло после 1 января 2000 года"
   ]
  },
  {
   "cell_type": "code",
   "execution_count": 8,
   "metadata": {},
   "outputs": [
    {
     "data": {
      "text/html": [
       "<div>\n",
       "<style scoped>\n",
       "    .dataframe tbody tr th:only-of-type {\n",
       "        vertical-align: middle;\n",
       "    }\n",
       "\n",
       "    .dataframe tbody tr th {\n",
       "        vertical-align: top;\n",
       "    }\n",
       "\n",
       "    .dataframe thead th {\n",
       "        text-align: right;\n",
       "    }\n",
       "</style>\n",
       "<table border=\"1\" class=\"dataframe\">\n",
       "  <thead>\n",
       "    <tr style=\"text-align: right;\">\n",
       "      <th></th>\n",
       "      <th>count</th>\n",
       "    </tr>\n",
       "  </thead>\n",
       "  <tbody>\n",
       "    <tr>\n",
       "      <th>0</th>\n",
       "      <td>819</td>\n",
       "    </tr>\n",
       "  </tbody>\n",
       "</table>\n",
       "</div>"
      ],
      "text/plain": [
       "   count\n",
       "0    819"
      ]
     },
     "execution_count": 8,
     "metadata": {},
     "output_type": "execute_result"
    }
   ],
   "source": [
    "query = '''\n",
    "select count (book_id)\n",
    "from books\n",
    "where publication_date > '2000-01-01'\n",
    "'''\n",
    "sql(query)"
   ]
  },
  {
   "cell_type": "markdown",
   "metadata": {},
   "source": [
    "После января 2000 года вышло **819** книг"
   ]
  },
  {
   "cell_type": "markdown",
   "metadata": {},
   "source": [
    "## Для каждой книги посчитаем количество обзоров и среднюю оценку"
   ]
  },
  {
   "cell_type": "code",
   "execution_count": 9,
   "metadata": {},
   "outputs": [
    {
     "data": {
      "text/html": [
       "<div>\n",
       "<style scoped>\n",
       "    .dataframe tbody tr th:only-of-type {\n",
       "        vertical-align: middle;\n",
       "    }\n",
       "\n",
       "    .dataframe tbody tr th {\n",
       "        vertical-align: top;\n",
       "    }\n",
       "\n",
       "    .dataframe thead th {\n",
       "        text-align: right;\n",
       "    }\n",
       "</style>\n",
       "<table border=\"1\" class=\"dataframe\">\n",
       "  <thead>\n",
       "    <tr style=\"text-align: right;\">\n",
       "      <th></th>\n",
       "      <th>title</th>\n",
       "      <th>count</th>\n",
       "      <th>avg</th>\n",
       "    </tr>\n",
       "  </thead>\n",
       "  <tbody>\n",
       "    <tr>\n",
       "      <th>0</th>\n",
       "      <td>Memoirs of a Geisha</td>\n",
       "      <td>8</td>\n",
       "      <td>4.138462</td>\n",
       "    </tr>\n",
       "    <tr>\n",
       "      <th>1</th>\n",
       "      <td>Twilight (Twilight  #1)</td>\n",
       "      <td>7</td>\n",
       "      <td>3.662500</td>\n",
       "    </tr>\n",
       "    <tr>\n",
       "      <th>2</th>\n",
       "      <td>The Curious Incident of the Dog in the Night-Time</td>\n",
       "      <td>6</td>\n",
       "      <td>4.081081</td>\n",
       "    </tr>\n",
       "    <tr>\n",
       "      <th>3</th>\n",
       "      <td>Outlander (Outlander  #1)</td>\n",
       "      <td>6</td>\n",
       "      <td>4.125000</td>\n",
       "    </tr>\n",
       "    <tr>\n",
       "      <th>4</th>\n",
       "      <td>The Book Thief</td>\n",
       "      <td>6</td>\n",
       "      <td>4.264151</td>\n",
       "    </tr>\n",
       "    <tr>\n",
       "      <th>5</th>\n",
       "      <td>The Catcher in the Rye</td>\n",
       "      <td>6</td>\n",
       "      <td>3.825581</td>\n",
       "    </tr>\n",
       "    <tr>\n",
       "      <th>6</th>\n",
       "      <td>Harry Potter and the Chamber of Secrets (Harry...</td>\n",
       "      <td>6</td>\n",
       "      <td>4.287500</td>\n",
       "    </tr>\n",
       "    <tr>\n",
       "      <th>7</th>\n",
       "      <td>Eat  Pray  Love</td>\n",
       "      <td>6</td>\n",
       "      <td>3.395833</td>\n",
       "    </tr>\n",
       "    <tr>\n",
       "      <th>8</th>\n",
       "      <td>Harry Potter and the Prisoner of Azkaban (Harr...</td>\n",
       "      <td>6</td>\n",
       "      <td>4.414634</td>\n",
       "    </tr>\n",
       "    <tr>\n",
       "      <th>9</th>\n",
       "      <td>The Alchemist</td>\n",
       "      <td>6</td>\n",
       "      <td>3.789474</td>\n",
       "    </tr>\n",
       "  </tbody>\n",
       "</table>\n",
       "</div>"
      ],
      "text/plain": [
       "                                               title  count       avg\n",
       "0                                Memoirs of a Geisha      8  4.138462\n",
       "1                            Twilight (Twilight  #1)      7  3.662500\n",
       "2  The Curious Incident of the Dog in the Night-Time      6  4.081081\n",
       "3                          Outlander (Outlander  #1)      6  4.125000\n",
       "4                                     The Book Thief      6  4.264151\n",
       "5                             The Catcher in the Rye      6  3.825581\n",
       "6  Harry Potter and the Chamber of Secrets (Harry...      6  4.287500\n",
       "7                                    Eat  Pray  Love      6  3.395833\n",
       "8  Harry Potter and the Prisoner of Azkaban (Harr...      6  4.414634\n",
       "9                                      The Alchemist      6  3.789474"
      ]
     },
     "execution_count": 9,
     "metadata": {},
     "output_type": "execute_result"
    }
   ],
   "source": [
    "query = '''\n",
    "select b.title, count (distinct review_id), avg (rating)\n",
    "from books as b\n",
    "left outer join reviews as rev ON b.book_id = rev.book_id\n",
    "left outer join ratings as rat ON b.book_id = rat.book_id\n",
    "group by b.title\n",
    "order by count desc\n",
    "limit 10'''\n",
    "sql(query)"
   ]
  },
  {
   "cell_type": "markdown",
   "metadata": {},
   "source": [
    "Самое большое количество обзоров на книгу 'Мемуары гейши', со средней оценкой 4.1"
   ]
  },
  {
   "cell_type": "markdown",
   "metadata": {},
   "source": [
    "## Определим издательство, которое выпустило наибольшее число книг толще 50 страниц, исключая из анализа брошюры;"
   ]
  },
  {
   "cell_type": "code",
   "execution_count": 10,
   "metadata": {},
   "outputs": [
    {
     "data": {
      "text/html": [
       "<div>\n",
       "<style scoped>\n",
       "    .dataframe tbody tr th:only-of-type {\n",
       "        vertical-align: middle;\n",
       "    }\n",
       "\n",
       "    .dataframe tbody tr th {\n",
       "        vertical-align: top;\n",
       "    }\n",
       "\n",
       "    .dataframe thead th {\n",
       "        text-align: right;\n",
       "    }\n",
       "</style>\n",
       "<table border=\"1\" class=\"dataframe\">\n",
       "  <thead>\n",
       "    <tr style=\"text-align: right;\">\n",
       "      <th></th>\n",
       "      <th>publisher</th>\n",
       "      <th>count</th>\n",
       "    </tr>\n",
       "  </thead>\n",
       "  <tbody>\n",
       "    <tr>\n",
       "      <th>0</th>\n",
       "      <td>Penguin Books</td>\n",
       "      <td>42</td>\n",
       "    </tr>\n",
       "  </tbody>\n",
       "</table>\n",
       "</div>"
      ],
      "text/plain": [
       "       publisher  count\n",
       "0  Penguin Books     42"
      ]
     },
     "execution_count": 10,
     "metadata": {},
     "output_type": "execute_result"
    }
   ],
   "source": [
    "query = '''\n",
    "select publisher, count (b.book_id)\n",
    "from publishers as p\n",
    "left outer join books AS b ON b.publisher_id = p.publisher_id\n",
    "where b.num_pages > 50\n",
    "group by publisher\n",
    "order by count desc\n",
    "limit 1'''\n",
    "sql(query)"
   ]
  },
  {
   "cell_type": "markdown",
   "metadata": {},
   "source": [
    "Издательство **Penguin Books** выпустило наибольшее число книг толще 50 страниц"
   ]
  },
  {
   "cell_type": "markdown",
   "metadata": {},
   "source": [
    "## Определим книги с самой высокой средней оценкой книг, учитывая только книги с 50 и более оценками;"
   ]
  },
  {
   "cell_type": "code",
   "execution_count": 11,
   "metadata": {},
   "outputs": [
    {
     "data": {
      "text/html": [
       "<div>\n",
       "<style scoped>\n",
       "    .dataframe tbody tr th:only-of-type {\n",
       "        vertical-align: middle;\n",
       "    }\n",
       "\n",
       "    .dataframe tbody tr th {\n",
       "        vertical-align: top;\n",
       "    }\n",
       "\n",
       "    .dataframe thead th {\n",
       "        text-align: right;\n",
       "    }\n",
       "</style>\n",
       "<table border=\"1\" class=\"dataframe\">\n",
       "  <thead>\n",
       "    <tr style=\"text-align: right;\">\n",
       "      <th></th>\n",
       "      <th>author</th>\n",
       "      <th>avg_rating</th>\n",
       "      <th>count</th>\n",
       "    </tr>\n",
       "  </thead>\n",
       "  <tbody>\n",
       "    <tr>\n",
       "      <th>0</th>\n",
       "      <td>J.K. Rowling/Mary GrandPré</td>\n",
       "      <td>4.287097</td>\n",
       "      <td>310</td>\n",
       "    </tr>\n",
       "    <tr>\n",
       "      <th>1</th>\n",
       "      <td>Markus Zusak/Cao Xuân Việt Khương</td>\n",
       "      <td>4.264151</td>\n",
       "      <td>53</td>\n",
       "    </tr>\n",
       "    <tr>\n",
       "      <th>2</th>\n",
       "      <td>J.R.R. Tolkien</td>\n",
       "      <td>4.246914</td>\n",
       "      <td>162</td>\n",
       "    </tr>\n",
       "    <tr>\n",
       "      <th>3</th>\n",
       "      <td>Louisa May Alcott</td>\n",
       "      <td>4.192308</td>\n",
       "      <td>52</td>\n",
       "    </tr>\n",
       "    <tr>\n",
       "      <th>4</th>\n",
       "      <td>Rick Riordan</td>\n",
       "      <td>4.080645</td>\n",
       "      <td>62</td>\n",
       "    </tr>\n",
       "    <tr>\n",
       "      <th>5</th>\n",
       "      <td>William Golding</td>\n",
       "      <td>3.901408</td>\n",
       "      <td>71</td>\n",
       "    </tr>\n",
       "    <tr>\n",
       "      <th>6</th>\n",
       "      <td>J.D. Salinger</td>\n",
       "      <td>3.825581</td>\n",
       "      <td>86</td>\n",
       "    </tr>\n",
       "    <tr>\n",
       "      <th>7</th>\n",
       "      <td>Paulo Coelho/Alan R. Clarke/Özdemir İnce</td>\n",
       "      <td>3.789474</td>\n",
       "      <td>57</td>\n",
       "    </tr>\n",
       "    <tr>\n",
       "      <th>8</th>\n",
       "      <td>William Shakespeare/Paul Werstine/Barbara A. M...</td>\n",
       "      <td>3.787879</td>\n",
       "      <td>66</td>\n",
       "    </tr>\n",
       "    <tr>\n",
       "      <th>9</th>\n",
       "      <td>Lois Lowry</td>\n",
       "      <td>3.750000</td>\n",
       "      <td>56</td>\n",
       "    </tr>\n",
       "  </tbody>\n",
       "</table>\n",
       "</div>"
      ],
      "text/plain": [
       "                                              author  avg_rating  count\n",
       "0                         J.K. Rowling/Mary GrandPré    4.287097    310\n",
       "1                  Markus Zusak/Cao Xuân Việt Khương    4.264151     53\n",
       "2                                     J.R.R. Tolkien    4.246914    162\n",
       "3                                  Louisa May Alcott    4.192308     52\n",
       "4                                       Rick Riordan    4.080645     62\n",
       "5                                    William Golding    3.901408     71\n",
       "6                                      J.D. Salinger    3.825581     86\n",
       "7           Paulo Coelho/Alan R. Clarke/Özdemir İnce    3.789474     57\n",
       "8  William Shakespeare/Paul Werstine/Barbara A. M...    3.787879     66\n",
       "9                                         Lois Lowry    3.750000     56"
      ]
     },
     "execution_count": 11,
     "metadata": {},
     "output_type": "execute_result"
    }
   ],
   "source": [
    "query = '''\n",
    "select a.author , avg(r2.rating) as avg_rating, count(r2.rating)\n",
    "from books b\n",
    "join ratings r2 \n",
    "on b.book_id = r2.book_id\n",
    "join authors a \n",
    "on b.author_id = a.author_id \n",
    "where b.book_id  in (\n",
    "                        select bo.book_id\n",
    "                        from books bo, ratings r \n",
    "                        where bo.book_id = r.book_id \n",
    "                        group by bo.book_id\n",
    "                        having count(*) >= 50)\n",
    "group by a.author \n",
    "order by avg_rating desc\n",
    "limit 10'''\n",
    "sql(query)"
   ]
  },
  {
   "cell_type": "markdown",
   "metadata": {},
   "source": [
    "**Роулинг** поличила наиболее высокую среднюю оценку среди книг с 50 и более оценками."
   ]
  },
  {
   "cell_type": "markdown",
   "metadata": {},
   "source": [
    "## Посчитаем среднее количество обзоров от пользователей, которые поставили больше 50 оценок."
   ]
  },
  {
   "cell_type": "code",
   "execution_count": 12,
   "metadata": {},
   "outputs": [
    {
     "data": {
      "text/html": [
       "<div>\n",
       "<style scoped>\n",
       "    .dataframe tbody tr th:only-of-type {\n",
       "        vertical-align: middle;\n",
       "    }\n",
       "\n",
       "    .dataframe tbody tr th {\n",
       "        vertical-align: top;\n",
       "    }\n",
       "\n",
       "    .dataframe thead th {\n",
       "        text-align: right;\n",
       "    }\n",
       "</style>\n",
       "<table border=\"1\" class=\"dataframe\">\n",
       "  <thead>\n",
       "    <tr style=\"text-align: right;\">\n",
       "      <th></th>\n",
       "      <th>avg</th>\n",
       "    </tr>\n",
       "  </thead>\n",
       "  <tbody>\n",
       "    <tr>\n",
       "      <th>0</th>\n",
       "      <td>24.333333</td>\n",
       "    </tr>\n",
       "  </tbody>\n",
       "</table>\n",
       "</div>"
      ],
      "text/plain": [
       "         avg\n",
       "0  24.333333"
      ]
     },
     "execution_count": 12,
     "metadata": {},
     "output_type": "execute_result"
    }
   ],
   "source": [
    "query = '''\n",
    "select avg(count)\n",
    "from \n",
    "(select count (review_id)\n",
    "from reviews\n",
    "where username in\n",
    "(select username\n",
    "from ratings\n",
    "group by username\n",
    "HAVING count(rating) > 50)\n",
    "group by username) as count'''\n",
    "sql(query)"
   ]
  },
  {
   "cell_type": "markdown",
   "metadata": {},
   "source": [
    "Среднее количество обзоров от пользователей, которые поставили больше 50 оценок - **24**"
   ]
  },
  {
   "cell_type": "markdown",
   "metadata": {},
   "source": [
    "# Вывод"
   ]
  },
  {
   "cell_type": "markdown",
   "metadata": {},
   "source": [
    "В ходе анализа базы данных сервиса для чтения книг по подписке, мы получили следующие результаты:\n",
    "\n",
    "* После января 2000 года вышло **819** книг\n",
    "* Самое большое количество обзоров на книгу **'Мемуары гейши'**, со средней оценкой **4.1**\n",
    "* Издательство **Penguin Books** выпустило наибольшее число книг толще 50 страниц\n",
    "* **Роулинг** поличила наиболее высокую среднюю оценку среди книг с 50 и более оценками.\n",
    "* Среднее количество обзоров от пользователей, которые поставили больше 50 оценок - **24**"
   ]
  }
 ],
 "metadata": {
  "ExecuteTimeLog": [
   {
    "duration": 153,
    "start_time": "2022-05-03T09:03:55.701Z"
   },
   {
    "duration": 141,
    "start_time": "2022-05-03T09:04:12.336Z"
   },
   {
    "duration": 108,
    "start_time": "2022-05-03T09:05:10.904Z"
   },
   {
    "duration": 170,
    "start_time": "2022-05-03T09:06:33.295Z"
   },
   {
    "duration": 6328,
    "start_time": "2022-05-03T09:07:58.429Z"
   },
   {
    "duration": 4,
    "start_time": "2022-05-03T09:08:07.224Z"
   },
   {
    "duration": 4,
    "start_time": "2022-05-03T09:09:13.118Z"
   },
   {
    "duration": 200,
    "start_time": "2022-05-03T09:09:13.731Z"
   },
   {
    "duration": 62,
    "start_time": "2022-05-03T09:09:13.974Z"
   },
   {
    "duration": 61,
    "start_time": "2022-05-03T09:09:14.188Z"
   },
   {
    "duration": 63,
    "start_time": "2022-05-03T09:09:14.443Z"
   },
   {
    "duration": 63,
    "start_time": "2022-05-03T09:09:15.092Z"
   },
   {
    "duration": 61,
    "start_time": "2022-05-03T09:10:07.683Z"
   },
   {
    "duration": 73,
    "start_time": "2022-05-03T09:11:12.970Z"
   },
   {
    "duration": 62,
    "start_time": "2022-05-03T09:12:05.690Z"
   },
   {
    "duration": 66,
    "start_time": "2022-05-03T09:12:46.217Z"
   },
   {
    "duration": 65,
    "start_time": "2022-05-03T09:14:34.400Z"
   },
   {
    "duration": 73,
    "start_time": "2022-05-03T09:15:30.376Z"
   },
   {
    "duration": 77,
    "start_time": "2022-05-03T09:22:39.298Z"
   },
   {
    "duration": 73,
    "start_time": "2022-05-03T09:23:34.880Z"
   },
   {
    "duration": 71,
    "start_time": "2022-05-03T09:23:44.921Z"
   },
   {
    "duration": 19896,
    "start_time": "2022-05-03T12:47:57.151Z"
   },
   {
    "duration": 2,
    "start_time": "2022-05-03T12:48:17.051Z"
   },
   {
    "duration": 48,
    "start_time": "2022-05-03T12:48:17.055Z"
   },
   {
    "duration": 12,
    "start_time": "2022-05-03T12:48:17.104Z"
   },
   {
    "duration": 11,
    "start_time": "2022-05-03T12:48:17.118Z"
   },
   {
    "duration": 28,
    "start_time": "2022-05-03T12:48:17.130Z"
   },
   {
    "duration": 16,
    "start_time": "2022-05-03T12:48:17.160Z"
   },
   {
    "duration": 273,
    "start_time": "2022-05-03T12:48:17.178Z"
   },
   {
    "duration": 0,
    "start_time": "2022-05-03T12:48:17.453Z"
   },
   {
    "duration": 1,
    "start_time": "2022-05-03T12:48:17.454Z"
   },
   {
    "duration": 0,
    "start_time": "2022-05-03T12:48:17.456Z"
   },
   {
    "duration": 0,
    "start_time": "2022-05-03T12:48:17.458Z"
   },
   {
    "duration": 31,
    "start_time": "2022-05-03T12:48:42.343Z"
   },
   {
    "duration": 15,
    "start_time": "2022-05-03T12:48:43.202Z"
   },
   {
    "duration": 18,
    "start_time": "2022-05-03T12:48:43.805Z"
   },
   {
    "duration": 15,
    "start_time": "2022-05-03T12:48:44.497Z"
   },
   {
    "duration": 15,
    "start_time": "2022-05-03T12:56:11.823Z"
   },
   {
    "duration": 18,
    "start_time": "2022-05-03T12:56:52.784Z"
   },
   {
    "duration": 31,
    "start_time": "2022-05-03T12:57:30.325Z"
   },
   {
    "duration": 17,
    "start_time": "2022-05-03T12:57:41.455Z"
   },
   {
    "duration": 18,
    "start_time": "2022-05-03T13:00:31.262Z"
   },
   {
    "duration": 16,
    "start_time": "2022-05-03T13:00:33.540Z"
   },
   {
    "duration": 52,
    "start_time": "2022-05-03T13:14:56.377Z"
   },
   {
    "duration": 4,
    "start_time": "2022-05-03T13:15:02.834Z"
   },
   {
    "duration": 9,
    "start_time": "2022-05-03T13:15:08.059Z"
   },
   {
    "duration": 10910,
    "start_time": "2022-05-03T13:15:13.602Z"
   },
   {
    "duration": 3,
    "start_time": "2022-05-03T13:15:24.514Z"
   },
   {
    "duration": 198,
    "start_time": "2022-05-03T13:15:24.519Z"
   },
   {
    "duration": 59,
    "start_time": "2022-05-03T13:15:24.719Z"
   },
   {
    "duration": 59,
    "start_time": "2022-05-03T13:15:24.779Z"
   },
   {
    "duration": 58,
    "start_time": "2022-05-03T13:15:24.840Z"
   },
   {
    "duration": 59,
    "start_time": "2022-05-03T13:15:24.900Z"
   },
   {
    "duration": 170,
    "start_time": "2022-05-03T13:15:29.090Z"
   },
   {
    "duration": 146,
    "start_time": "2022-05-03T13:15:32.620Z"
   },
   {
    "duration": 61,
    "start_time": "2022-05-03T13:15:41.876Z"
   },
   {
    "duration": 79,
    "start_time": "2022-05-03T13:23:11.397Z"
   },
   {
    "duration": 59,
    "start_time": "2022-05-03T13:25:29.937Z"
   },
   {
    "duration": 61,
    "start_time": "2022-05-03T13:25:45.619Z"
   },
   {
    "duration": 165,
    "start_time": "2022-05-03T13:25:58.816Z"
   },
   {
    "duration": 131,
    "start_time": "2022-05-03T13:26:06.814Z"
   },
   {
    "duration": 69,
    "start_time": "2022-05-03T13:26:16.496Z"
   },
   {
    "duration": 76,
    "start_time": "2022-05-03T13:26:26.405Z"
   },
   {
    "duration": 67,
    "start_time": "2022-05-03T13:26:46.719Z"
   },
   {
    "duration": 75,
    "start_time": "2022-05-03T13:26:56.006Z"
   },
   {
    "duration": 64,
    "start_time": "2022-05-03T13:34:21.383Z"
   },
   {
    "duration": 64,
    "start_time": "2022-05-03T13:37:14.181Z"
   },
   {
    "duration": 8947,
    "start_time": "2022-05-03T13:52:48.463Z"
   },
   {
    "duration": 4,
    "start_time": "2022-05-03T13:52:57.412Z"
   },
   {
    "duration": 219,
    "start_time": "2022-05-03T13:52:57.418Z"
   },
   {
    "duration": 64,
    "start_time": "2022-05-03T13:52:57.641Z"
   },
   {
    "duration": 66,
    "start_time": "2022-05-03T13:52:57.707Z"
   },
   {
    "duration": 67,
    "start_time": "2022-05-03T13:52:57.775Z"
   },
   {
    "duration": 65,
    "start_time": "2022-05-03T13:52:57.845Z"
   },
   {
    "duration": 64,
    "start_time": "2022-05-03T13:52:57.912Z"
   },
   {
    "duration": 82,
    "start_time": "2022-05-03T13:52:57.977Z"
   },
   {
    "duration": 67,
    "start_time": "2022-05-03T13:52:58.061Z"
   },
   {
    "duration": 72,
    "start_time": "2022-05-03T13:52:58.131Z"
   },
   {
    "duration": 68,
    "start_time": "2022-05-03T13:52:58.205Z"
   },
   {
    "duration": 7764,
    "start_time": "2022-05-03T15:38:34.473Z"
   },
   {
    "duration": 2,
    "start_time": "2022-05-03T15:38:42.239Z"
   },
   {
    "duration": 245,
    "start_time": "2022-05-03T15:38:42.243Z"
   },
   {
    "duration": 73,
    "start_time": "2022-05-03T15:38:42.490Z"
   },
   {
    "duration": 76,
    "start_time": "2022-05-03T15:38:42.565Z"
   },
   {
    "duration": 73,
    "start_time": "2022-05-03T15:38:42.642Z"
   },
   {
    "duration": 74,
    "start_time": "2022-05-03T15:38:42.718Z"
   },
   {
    "duration": 73,
    "start_time": "2022-05-03T15:38:42.794Z"
   },
   {
    "duration": 93,
    "start_time": "2022-05-03T15:38:42.869Z"
   },
   {
    "duration": 74,
    "start_time": "2022-05-03T15:38:42.963Z"
   },
   {
    "duration": 78,
    "start_time": "2022-05-03T15:38:43.039Z"
   },
   {
    "duration": 73,
    "start_time": "2022-05-03T15:38:43.118Z"
   },
   {
    "duration": 86,
    "start_time": "2022-05-03T15:39:39.860Z"
   },
   {
    "duration": 91,
    "start_time": "2022-05-03T15:39:46.340Z"
   },
   {
    "duration": 79,
    "start_time": "2022-05-03T15:42:34.976Z"
   }
  ],
  "kernelspec": {
   "display_name": "Python 3 (ipykernel)",
   "language": "python",
   "name": "python3"
  },
  "language_info": {
   "codemirror_mode": {
    "name": "ipython",
    "version": 3
   },
   "file_extension": ".py",
   "mimetype": "text/x-python",
   "name": "python",
   "nbconvert_exporter": "python",
   "pygments_lexer": "ipython3",
   "version": "3.9.7"
  },
  "toc": {
   "base_numbering": 1,
   "nav_menu": {},
   "number_sections": true,
   "sideBar": true,
   "skip_h1_title": true,
   "title_cell": "Содержание",
   "title_sidebar": "Contents",
   "toc_cell": true,
   "toc_position": {},
   "toc_section_display": true,
   "toc_window_display": false
  }
 },
 "nbformat": 4,
 "nbformat_minor": 2
}
