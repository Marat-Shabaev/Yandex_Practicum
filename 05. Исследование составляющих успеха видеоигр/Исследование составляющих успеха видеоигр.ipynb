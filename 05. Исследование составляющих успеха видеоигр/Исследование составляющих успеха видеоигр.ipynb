{
 "cells": [
  {
   "cell_type": "markdown",
   "metadata": {
    "toc": true
   },
   "source": [
    "<h1>Содержание<span class=\"tocSkip\"></span></h1>\n",
    "<div class=\"toc\"><ul class=\"toc-item\"><li><span><a href=\"#Изучение-данных-из-файла\" data-toc-modified-id=\"Изучение-данных-из-файла-1\"><span class=\"toc-item-num\">1&nbsp;&nbsp;</span>Изучение данных из файла</a></span></li><li><span><a href=\"#Предобработка-данных.\" data-toc-modified-id=\"Предобработка-данных.-2\"><span class=\"toc-item-num\">2&nbsp;&nbsp;</span>Предобработка данных.</a></span><ul class=\"toc-item\"><li><span><a href=\"#Заполнение-пропусков-и-замена-типов-данных\" data-toc-modified-id=\"Заполнение-пропусков-и-замена-типов-данных-2.1\"><span class=\"toc-item-num\">2.1&nbsp;&nbsp;</span>Заполнение пропусков и замена типов данных</a></span></li><li><span><a href=\"#Проверим-на-дубликаты\" data-toc-modified-id=\"Проверим-на-дубликаты-2.2\"><span class=\"toc-item-num\">2.2&nbsp;&nbsp;</span>Проверим на дубликаты</a></span></li><li><span><a href=\"#Посчитаем-суммарные-продажи\" data-toc-modified-id=\"Посчитаем-суммарные-продажи-2.3\"><span class=\"toc-item-num\">2.3&nbsp;&nbsp;</span>Посчитаем суммарные продажи</a></span></li></ul></li><li><span><a href=\"#Исследовательский-анализ-данных\" data-toc-modified-id=\"Исследовательский-анализ-данных-3\"><span class=\"toc-item-num\">3&nbsp;&nbsp;</span>Исследовательский анализ данных</a></span><ul class=\"toc-item\"><li><span><a href=\"#Cколько-игр-выпускалось-в-разные-годы\" data-toc-modified-id=\"Cколько-игр-выпускалось-в-разные-годы-3.1\"><span class=\"toc-item-num\">3.1&nbsp;&nbsp;</span>Cколько игр выпускалось в разные годы</a></span></li><li><span><a href=\"#Продажи-по-платформам\" data-toc-modified-id=\"Продажи-по-платформам-3.2\"><span class=\"toc-item-num\">3.2&nbsp;&nbsp;</span>Продажи по платформам</a></span></li><li><span><a href=\"#Построим-график-boxplot-по-глобальным-продажам-игр-в-разбивке-по-платформам.\" data-toc-modified-id=\"Построим-график-boxplot-по-глобальным-продажам-игр-в-разбивке-по-платформам.-3.3\"><span class=\"toc-item-num\">3.3&nbsp;&nbsp;</span>Построим график boxplot по глобальным продажам игр в разбивке по платформам.</a></span></li><li><span><a href=\"#Влияние-на-продажи--внутри-одной-популярной--платформы--отзывов-пользователей-и-критиков\" data-toc-modified-id=\"Влияние-на-продажи--внутри-одной-популярной--платформы--отзывов-пользователей-и-критиков-3.4\"><span class=\"toc-item-num\">3.4&nbsp;&nbsp;</span>Влияние на продажи  внутри одной популярной  платформы  отзывов пользователей и критиков</a></span><ul class=\"toc-item\"><li><span><a href=\"#Влияние-на-продажи-игр-PS3-отзывов-пользователей-и-критиков\" data-toc-modified-id=\"Влияние-на-продажи-игр-PS3-отзывов-пользователей-и-критиков-3.4.1\"><span class=\"toc-item-num\">3.4.1&nbsp;&nbsp;</span>Влияние на продажи игр PS3 отзывов пользователей и критиков</a></span></li><li><span><a href=\"#Влияние-на-продажи-игр-PC-отзывов-пользователей-и-критиков\" data-toc-modified-id=\"Влияние-на-продажи-игр-PC-отзывов-пользователей-и-критиков-3.4.2\"><span class=\"toc-item-num\">3.4.2&nbsp;&nbsp;</span>Влияние на продажи игр PC отзывов пользователей и критиков</a></span></li><li><span><a href=\"#Общее-влияние-на-продажи-игр-отзывов-пользователей-и-критиков\" data-toc-modified-id=\"Общее-влияние-на-продажи-игр-отзывов-пользователей-и-критиков-3.4.3\"><span class=\"toc-item-num\">3.4.3&nbsp;&nbsp;</span>Общее влияние на продажи игр отзывов пользователей и критиков</a></span></li></ul></li><li><span><a href=\"#Общее-распределение-игр-по-жанрам.\" data-toc-modified-id=\"Общее-распределение-игр-по-жанрам.-3.5\"><span class=\"toc-item-num\">3.5&nbsp;&nbsp;</span>Общее распределение игр по жанрам.</a></span></li></ul></li><li><span><a href=\"#Составим-портрет-пользователя-каждого-региона\" data-toc-modified-id=\"Составим-портрет-пользователя-каждого-региона-4\"><span class=\"toc-item-num\">4&nbsp;&nbsp;</span>Составим портрет пользователя каждого региона</a></span><ul class=\"toc-item\"><li><span><a href=\"#Самые-популярные-жанры-по-регионам\" data-toc-modified-id=\"Самые-популярные-жанры-по-регионам-4.1\"><span class=\"toc-item-num\">4.1&nbsp;&nbsp;</span>Самые популярные жанры по регионам</a></span></li><li><span><a href=\"#Самые-популярные-платформы-по-регионам\" data-toc-modified-id=\"Самые-популярные-платформы-по-регионам-4.2\"><span class=\"toc-item-num\">4.2&nbsp;&nbsp;</span>Самые популярные платформы по регионам</a></span></li><li><span><a href=\"#Влияет-ли-рейтинг-ESRB-на-продажи-в-отдельном-регионе?\" data-toc-modified-id=\"Влияет-ли-рейтинг-ESRB-на-продажи-в-отдельном-регионе?-4.3\"><span class=\"toc-item-num\">4.3&nbsp;&nbsp;</span>Влияет ли рейтинг ESRB на продажи в отдельном регионе?</a></span></li></ul></li><li><span><a href=\"#Проверка-гипотез\" data-toc-modified-id=\"Проверка-гипотез-5\"><span class=\"toc-item-num\">5&nbsp;&nbsp;</span>Проверка гипотез</a></span><ul class=\"toc-item\"><li><span><a href=\"#Средние-пользовательские-рейтинги-платформ-Xbox-One-и-PC-одинаковые;\" data-toc-modified-id=\"Средние-пользовательские-рейтинги-платформ-Xbox-One-и-PC-одинаковые;-5.1\"><span class=\"toc-item-num\">5.1&nbsp;&nbsp;</span>Средние пользовательские рейтинги платформ Xbox One и PC одинаковые;</a></span></li><li><span><a href=\"#Средние-пользовательские-рейтинги-жанров-Action-и-Sports-разные.\" data-toc-modified-id=\"Средние-пользовательские-рейтинги-жанров-Action-и-Sports-разные.-5.2\"><span class=\"toc-item-num\">5.2&nbsp;&nbsp;</span>Средние пользовательские рейтинги жанров Action и Sports разные.</a></span></li></ul></li><li><span><a href=\"#Вывод\" data-toc-modified-id=\"Вывод-6\"><span class=\"toc-item-num\">6&nbsp;&nbsp;</span>Вывод</a></span></li></ul></div>"
   ]
  },
  {
   "cell_type": "markdown",
   "metadata": {},
   "source": [
    "# Сборный проект. Исследование составляющих успеха видеоигр."
   ]
  },
  {
   "cell_type": "markdown",
   "metadata": {},
   "source": [
    "Преставлены данные о продажах игр, оценки пользователей и экспертов, жанры и платформы (например, Xbox или PlayStation) за 2016 год взятые из открытых источников. Необходимо выявить определяющие успешность игры закономерности, что позволит сделать ставку на потенциально популярный продукт и спланировать рекламные кампании интернет-для магазина.\n",
    "\n",
    "**Описание данных:**\n",
    "\n",
    "* `Name` — название игры\n",
    "* `Platform` — платформа\n",
    "* `Year_of_Release` — год выпуска\n",
    "* `Genre` — жанр игры\n",
    "* `NA_sales` — продажи в Северной Америке (миллионы проданных копий)\n",
    "* `EU_sales` — продажи в Европе (миллионы проданных копий)\n",
    "* `JP_sales` — продажи в Японии (миллионы проданных копий)\n",
    "* `Other_sales` — продажи в других странах (миллионы проданных копий)\n",
    "* `Critic_Score` — оценка критиков (максимум 100)\n",
    "* `User_Score` — оценка пользователей (максимум 10)\n",
    "* `Rating` — рейтинг от организации ESRB (англ. Entertainment Software Rating Board). Эта ассоциация определяет рейтинг компьютерных игр и присваивает им подходящую возрастную категорию."
   ]
  },
  {
   "cell_type": "markdown",
   "metadata": {},
   "source": [
    "## Изучение данных из файла"
   ]
  },
  {
   "cell_type": "code",
   "execution_count": 1,
   "metadata": {},
   "outputs": [],
   "source": [
    "import pandas as pd\n",
    "import seaborn as sns\n",
    "import matplotlib.pyplot as plt\n",
    "import numpy as np\n",
    "from scipy import stats as st"
   ]
  },
  {
   "cell_type": "code",
   "execution_count": 2,
   "metadata": {},
   "outputs": [],
   "source": [
    "try:\n",
    "    df = pd.read_csv(r'C:/Users/Home/datasets/games.csv')\n",
    "except:\n",
    "    df = pd.read_csv('/datasets/games.csv')"
   ]
  },
  {
   "cell_type": "code",
   "execution_count": 3,
   "metadata": {
    "scrolled": true
   },
   "outputs": [
    {
     "data": {
      "text/html": [
       "<div>\n",
       "<style scoped>\n",
       "    .dataframe tbody tr th:only-of-type {\n",
       "        vertical-align: middle;\n",
       "    }\n",
       "\n",
       "    .dataframe tbody tr th {\n",
       "        vertical-align: top;\n",
       "    }\n",
       "\n",
       "    .dataframe thead th {\n",
       "        text-align: right;\n",
       "    }\n",
       "</style>\n",
       "<table border=\"1\" class=\"dataframe\">\n",
       "  <thead>\n",
       "    <tr style=\"text-align: right;\">\n",
       "      <th></th>\n",
       "      <th>Name</th>\n",
       "      <th>Platform</th>\n",
       "      <th>Year_of_Release</th>\n",
       "      <th>Genre</th>\n",
       "      <th>NA_sales</th>\n",
       "      <th>EU_sales</th>\n",
       "      <th>JP_sales</th>\n",
       "      <th>Other_sales</th>\n",
       "      <th>Critic_Score</th>\n",
       "      <th>User_Score</th>\n",
       "      <th>Rating</th>\n",
       "    </tr>\n",
       "  </thead>\n",
       "  <tbody>\n",
       "    <tr>\n",
       "      <th>8995</th>\n",
       "      <td>Tennis no Oji-Sama: Aim at The Victory!</td>\n",
       "      <td>GBA</td>\n",
       "      <td>2002.0</td>\n",
       "      <td>Sports</td>\n",
       "      <td>0.00</td>\n",
       "      <td>0.00</td>\n",
       "      <td>0.14</td>\n",
       "      <td>0.00</td>\n",
       "      <td>NaN</td>\n",
       "      <td>NaN</td>\n",
       "      <td>NaN</td>\n",
       "    </tr>\n",
       "    <tr>\n",
       "      <th>2657</th>\n",
       "      <td>Worms: Open Warfare</td>\n",
       "      <td>PSP</td>\n",
       "      <td>2006.0</td>\n",
       "      <td>Strategy</td>\n",
       "      <td>0.11</td>\n",
       "      <td>0.43</td>\n",
       "      <td>0.00</td>\n",
       "      <td>0.23</td>\n",
       "      <td>70.0</td>\n",
       "      <td>6.6</td>\n",
       "      <td>E10+</td>\n",
       "    </tr>\n",
       "    <tr>\n",
       "      <th>11273</th>\n",
       "      <td>1 vs. 100</td>\n",
       "      <td>DS</td>\n",
       "      <td>2008.0</td>\n",
       "      <td>Misc</td>\n",
       "      <td>0.08</td>\n",
       "      <td>0.00</td>\n",
       "      <td>0.00</td>\n",
       "      <td>0.01</td>\n",
       "      <td>38.0</td>\n",
       "      <td>3.2</td>\n",
       "      <td>E</td>\n",
       "    </tr>\n",
       "    <tr>\n",
       "      <th>11811</th>\n",
       "      <td>Warriors Orochi 3</td>\n",
       "      <td>PSV</td>\n",
       "      <td>2013.0</td>\n",
       "      <td>Action</td>\n",
       "      <td>0.00</td>\n",
       "      <td>0.00</td>\n",
       "      <td>0.07</td>\n",
       "      <td>0.00</td>\n",
       "      <td>NaN</td>\n",
       "      <td>NaN</td>\n",
       "      <td>NaN</td>\n",
       "    </tr>\n",
       "    <tr>\n",
       "      <th>14066</th>\n",
       "      <td>Trick x Logic: Season 2</td>\n",
       "      <td>PSP</td>\n",
       "      <td>2010.0</td>\n",
       "      <td>Adventure</td>\n",
       "      <td>0.00</td>\n",
       "      <td>0.00</td>\n",
       "      <td>0.04</td>\n",
       "      <td>0.00</td>\n",
       "      <td>NaN</td>\n",
       "      <td>NaN</td>\n",
       "      <td>NaN</td>\n",
       "    </tr>\n",
       "    <tr>\n",
       "      <th>16709</th>\n",
       "      <td>SCORE International Baja 1000: The Official Game</td>\n",
       "      <td>PS2</td>\n",
       "      <td>2008.0</td>\n",
       "      <td>Racing</td>\n",
       "      <td>0.00</td>\n",
       "      <td>0.00</td>\n",
       "      <td>0.00</td>\n",
       "      <td>0.00</td>\n",
       "      <td>NaN</td>\n",
       "      <td>NaN</td>\n",
       "      <td>NaN</td>\n",
       "    </tr>\n",
       "    <tr>\n",
       "      <th>16294</th>\n",
       "      <td>Adventure Time: The Secret of the Nameless</td>\n",
       "      <td>X360</td>\n",
       "      <td>2014.0</td>\n",
       "      <td>Adventure</td>\n",
       "      <td>0.01</td>\n",
       "      <td>0.00</td>\n",
       "      <td>0.00</td>\n",
       "      <td>0.00</td>\n",
       "      <td>NaN</td>\n",
       "      <td>NaN</td>\n",
       "      <td>NaN</td>\n",
       "    </tr>\n",
       "    <tr>\n",
       "      <th>11551</th>\n",
       "      <td>Disney's Meet the Robinsons</td>\n",
       "      <td>X360</td>\n",
       "      <td>2007.0</td>\n",
       "      <td>Action</td>\n",
       "      <td>0.07</td>\n",
       "      <td>0.00</td>\n",
       "      <td>0.00</td>\n",
       "      <td>0.01</td>\n",
       "      <td>65.0</td>\n",
       "      <td>tbd</td>\n",
       "      <td>E10+</td>\n",
       "    </tr>\n",
       "    <tr>\n",
       "      <th>7493</th>\n",
       "      <td>X2: Wolverine's Revenge</td>\n",
       "      <td>XB</td>\n",
       "      <td>2003.0</td>\n",
       "      <td>Platform</td>\n",
       "      <td>0.15</td>\n",
       "      <td>0.04</td>\n",
       "      <td>0.00</td>\n",
       "      <td>0.01</td>\n",
       "      <td>58.0</td>\n",
       "      <td>6.4</td>\n",
       "      <td>T</td>\n",
       "    </tr>\n",
       "    <tr>\n",
       "      <th>2412</th>\n",
       "      <td>Wizards of Waverly Place</td>\n",
       "      <td>DS</td>\n",
       "      <td>2009.0</td>\n",
       "      <td>Misc</td>\n",
       "      <td>0.59</td>\n",
       "      <td>0.20</td>\n",
       "      <td>0.00</td>\n",
       "      <td>0.08</td>\n",
       "      <td>58.0</td>\n",
       "      <td>tbd</td>\n",
       "      <td>E</td>\n",
       "    </tr>\n",
       "  </tbody>\n",
       "</table>\n",
       "</div>"
      ],
      "text/plain": [
       "                                                   Name Platform  \\\n",
       "8995            Tennis no Oji-Sama: Aim at The Victory!      GBA   \n",
       "2657                                Worms: Open Warfare      PSP   \n",
       "11273                                         1 vs. 100       DS   \n",
       "11811                                 Warriors Orochi 3      PSV   \n",
       "14066                           Trick x Logic: Season 2      PSP   \n",
       "16709  SCORE International Baja 1000: The Official Game      PS2   \n",
       "16294       Adventure Time: The Secret of the Nameless      X360   \n",
       "11551                       Disney's Meet the Robinsons     X360   \n",
       "7493                            X2: Wolverine's Revenge       XB   \n",
       "2412                           Wizards of Waverly Place       DS   \n",
       "\n",
       "       Year_of_Release      Genre  NA_sales  EU_sales  JP_sales  Other_sales  \\\n",
       "8995            2002.0     Sports      0.00      0.00      0.14         0.00   \n",
       "2657            2006.0   Strategy      0.11      0.43      0.00         0.23   \n",
       "11273           2008.0       Misc      0.08      0.00      0.00         0.01   \n",
       "11811           2013.0     Action      0.00      0.00      0.07         0.00   \n",
       "14066           2010.0  Adventure      0.00      0.00      0.04         0.00   \n",
       "16709           2008.0     Racing      0.00      0.00      0.00         0.00   \n",
       "16294           2014.0  Adventure      0.01      0.00      0.00         0.00   \n",
       "11551           2007.0     Action      0.07      0.00      0.00         0.01   \n",
       "7493            2003.0   Platform      0.15      0.04      0.00         0.01   \n",
       "2412            2009.0       Misc      0.59      0.20      0.00         0.08   \n",
       "\n",
       "       Critic_Score User_Score Rating  \n",
       "8995            NaN        NaN    NaN  \n",
       "2657           70.0        6.6   E10+  \n",
       "11273          38.0        3.2      E  \n",
       "11811           NaN        NaN    NaN  \n",
       "14066           NaN        NaN    NaN  \n",
       "16709           NaN        NaN    NaN  \n",
       "16294           NaN        NaN    NaN  \n",
       "11551          65.0        tbd   E10+  \n",
       "7493           58.0        6.4      T  \n",
       "2412           58.0        tbd      E  "
      ]
     },
     "metadata": {},
     "output_type": "display_data"
    },
    {
     "name": "stdout",
     "output_type": "stream",
     "text": [
      "<class 'pandas.core.frame.DataFrame'>\n",
      "RangeIndex: 16715 entries, 0 to 16714\n",
      "Data columns (total 11 columns):\n",
      " #   Column           Non-Null Count  Dtype  \n",
      "---  ------           --------------  -----  \n",
      " 0   Name             16713 non-null  object \n",
      " 1   Platform         16715 non-null  object \n",
      " 2   Year_of_Release  16446 non-null  float64\n",
      " 3   Genre            16713 non-null  object \n",
      " 4   NA_sales         16715 non-null  float64\n",
      " 5   EU_sales         16715 non-null  float64\n",
      " 6   JP_sales         16715 non-null  float64\n",
      " 7   Other_sales      16715 non-null  float64\n",
      " 8   Critic_Score     8137 non-null   float64\n",
      " 9   User_Score       10014 non-null  object \n",
      " 10  Rating           9949 non-null   object \n",
      "dtypes: float64(6), object(5)\n",
      "memory usage: 1.4+ MB\n"
     ]
    },
    {
     "data": {
      "text/plain": [
       "Name                  2\n",
       "Platform              0\n",
       "Year_of_Release     269\n",
       "Genre                 2\n",
       "NA_sales              0\n",
       "EU_sales              0\n",
       "JP_sales              0\n",
       "Other_sales           0\n",
       "Critic_Score       8578\n",
       "User_Score         6701\n",
       "Rating             6766\n",
       "dtype: int64"
      ]
     },
     "metadata": {},
     "output_type": "display_data"
    }
   ],
   "source": [
    "df_list = [df]\n",
    "for df in df_list:\n",
    "    display(df.sample(10))\n",
    "    df.info()\n",
    "    display(df.isna().sum())"
   ]
  },
  {
   "cell_type": "markdown",
   "metadata": {},
   "source": [
    "Таблица состоит из 16715 строк и 11 колонок:\n",
    "\n",
    "В датасете присутсвуют пропущенные значения; названия столбцов не приведены к нижнему регистру; Содержит 6 вещественных, 3 целочисленных и 5 смешанных значения. "
   ]
  },
  {
   "cell_type": "markdown",
   "metadata": {},
   "source": [
    "## Предобработка данных."
   ]
  },
  {
   "cell_type": "code",
   "execution_count": 4,
   "metadata": {},
   "outputs": [],
   "source": [
    "df.columns=df.columns.str.lower()#приведем названия столбцов к нижнему регистру"
   ]
  },
  {
   "cell_type": "markdown",
   "metadata": {},
   "source": [
    "### Заполнение пропусков и замена типов данных"
   ]
  },
  {
   "cell_type": "code",
   "execution_count": 5,
   "metadata": {},
   "outputs": [
    {
     "data": {
      "text/html": [
       "<style type=\"text/css\">\n",
       "</style>\n",
       "<table id=\"T_f3487_\">\n",
       "  <thead>\n",
       "    <tr>\n",
       "      <th class=\"blank level0\" >&nbsp;</th>\n",
       "      <th class=\"col_heading level0 col0\" >column_name</th>\n",
       "      <th class=\"col_heading level0 col1\" >missing_value</th>\n",
       "    </tr>\n",
       "  </thead>\n",
       "  <tbody>\n",
       "    <tr>\n",
       "      <th id=\"T_f3487_level0_row0\" class=\"row_heading level0 row0\" >8</th>\n",
       "      <td id=\"T_f3487_row0_col0\" class=\"data row0 col0\" >critic_score</td>\n",
       "      <td id=\"T_f3487_row0_col1\" class=\"data row0 col1\" >51.32%</td>\n",
       "    </tr>\n",
       "    <tr>\n",
       "      <th id=\"T_f3487_level0_row1\" class=\"row_heading level0 row1\" >10</th>\n",
       "      <td id=\"T_f3487_row1_col0\" class=\"data row1 col0\" >rating</td>\n",
       "      <td id=\"T_f3487_row1_col1\" class=\"data row1 col1\" >40.48%</td>\n",
       "    </tr>\n",
       "    <tr>\n",
       "      <th id=\"T_f3487_level0_row2\" class=\"row_heading level0 row2\" >9</th>\n",
       "      <td id=\"T_f3487_row2_col0\" class=\"data row2 col0\" >user_score</td>\n",
       "      <td id=\"T_f3487_row2_col1\" class=\"data row2 col1\" >40.09%</td>\n",
       "    </tr>\n",
       "    <tr>\n",
       "      <th id=\"T_f3487_level0_row3\" class=\"row_heading level0 row3\" >2</th>\n",
       "      <td id=\"T_f3487_row3_col0\" class=\"data row3 col0\" >year_of_release</td>\n",
       "      <td id=\"T_f3487_row3_col1\" class=\"data row3 col1\" >1.61%</td>\n",
       "    </tr>\n",
       "    <tr>\n",
       "      <th id=\"T_f3487_level0_row4\" class=\"row_heading level0 row4\" >0</th>\n",
       "      <td id=\"T_f3487_row4_col0\" class=\"data row4 col0\" >name</td>\n",
       "      <td id=\"T_f3487_row4_col1\" class=\"data row4 col1\" >0.01%</td>\n",
       "    </tr>\n",
       "    <tr>\n",
       "      <th id=\"T_f3487_level0_row5\" class=\"row_heading level0 row5\" >3</th>\n",
       "      <td id=\"T_f3487_row5_col0\" class=\"data row5 col0\" >genre</td>\n",
       "      <td id=\"T_f3487_row5_col1\" class=\"data row5 col1\" >0.01%</td>\n",
       "    </tr>\n",
       "    <tr>\n",
       "      <th id=\"T_f3487_level0_row6\" class=\"row_heading level0 row6\" >1</th>\n",
       "      <td id=\"T_f3487_row6_col0\" class=\"data row6 col0\" >platform</td>\n",
       "      <td id=\"T_f3487_row6_col1\" class=\"data row6 col1\" >0.00%</td>\n",
       "    </tr>\n",
       "    <tr>\n",
       "      <th id=\"T_f3487_level0_row7\" class=\"row_heading level0 row7\" >4</th>\n",
       "      <td id=\"T_f3487_row7_col0\" class=\"data row7 col0\" >na_sales</td>\n",
       "      <td id=\"T_f3487_row7_col1\" class=\"data row7 col1\" >0.00%</td>\n",
       "    </tr>\n",
       "    <tr>\n",
       "      <th id=\"T_f3487_level0_row8\" class=\"row_heading level0 row8\" >5</th>\n",
       "      <td id=\"T_f3487_row8_col0\" class=\"data row8 col0\" >eu_sales</td>\n",
       "      <td id=\"T_f3487_row8_col1\" class=\"data row8 col1\" >0.00%</td>\n",
       "    </tr>\n",
       "    <tr>\n",
       "      <th id=\"T_f3487_level0_row9\" class=\"row_heading level0 row9\" >6</th>\n",
       "      <td id=\"T_f3487_row9_col0\" class=\"data row9 col0\" >jp_sales</td>\n",
       "      <td id=\"T_f3487_row9_col1\" class=\"data row9 col1\" >0.00%</td>\n",
       "    </tr>\n",
       "    <tr>\n",
       "      <th id=\"T_f3487_level0_row10\" class=\"row_heading level0 row10\" >7</th>\n",
       "      <td id=\"T_f3487_row10_col0\" class=\"data row10 col0\" >other_sales</td>\n",
       "      <td id=\"T_f3487_row10_col1\" class=\"data row10 col1\" >0.00%</td>\n",
       "    </tr>\n",
       "  </tbody>\n",
       "</table>\n"
      ],
      "text/plain": [
       "<pandas.io.formats.style.Styler at 0x132e565faf0>"
      ]
     },
     "execution_count": 5,
     "metadata": {},
     "output_type": "execute_result"
    }
   ],
   "source": [
    "miss_value=pd.DataFrame(df.isna().mean()).reset_index()\n",
    "miss_value.set_axis(['column_name', 'missing_value'], axis = 'columns', inplace = True)\n",
    "miss_value.sort_values(by='missing_value', ascending=False).style.format({'missing_value': '{:,.2%}'.format})"
   ]
  },
  {
   "cell_type": "code",
   "execution_count": 6,
   "metadata": {},
   "outputs": [],
   "source": [
    "df=df.dropna(subset=['genre','name'])#удалим пропуски менее процента"
   ]
  },
  {
   "cell_type": "code",
   "execution_count": 7,
   "metadata": {},
   "outputs": [],
   "source": [
    "pd.set_option('chained_assignment', None)\n",
    "df.loc[:, 'year_of_release']=df['year_of_release'].fillna(-11).astype('int')\n",
    "#заполним столбец с годом выпуска нулями и заменим тип данных на int"
   ]
  },
  {
   "cell_type": "markdown",
   "metadata": {},
   "source": [
    "Заполним пропуски в `rating` параметром 'unknown', в столбцах `critic_score`, `user_score`,  нетипичными значениями, заменим типы данных в столбцах `critic_score` на int, в столбце `user_score` на float. В столбце `user_score` присутствует значение tbd = to be determined, to be defined, т.е. подлежит определению, будет определено позднее, что можно считать за пропуски."
   ]
  },
  {
   "cell_type": "code",
   "execution_count": 8,
   "metadata": {},
   "outputs": [],
   "source": [
    "df.loc[:, 'critic_score']=df['critic_score'].fillna(-11).astype('int')\n",
    "df.loc[(df['user_score'] == 'tbd')] = -11\n",
    "df.loc[:, 'user_score']=df['user_score'].fillna(-11).astype('float')\n",
    "df.loc[:, 'rating']=df['rating'].fillna('unknown')"
   ]
  },
  {
   "cell_type": "markdown",
   "metadata": {},
   "source": [
    "### Проверим на дубликаты"
   ]
  },
  {
   "cell_type": "code",
   "execution_count": 9,
   "metadata": {},
   "outputs": [],
   "source": [
    "df.loc[:, 'name'] = df['name'].str.lower()\n",
    "df.loc[:,'platform'] = df['platform'].str.lower()\n",
    "df.loc[:,'genre'] = df['genre'].str.lower()\n",
    "df.loc[:,'rating'] = df['rating'].str.lower()"
   ]
  },
  {
   "cell_type": "code",
   "execution_count": 10,
   "metadata": {},
   "outputs": [
    {
     "data": {
      "text/plain": [
       "2423"
      ]
     },
     "execution_count": 10,
     "metadata": {},
     "output_type": "execute_result"
    }
   ],
   "source": [
    "df.duplicated().sum()"
   ]
  },
  {
   "cell_type": "code",
   "execution_count": 11,
   "metadata": {},
   "outputs": [],
   "source": [
    "df = df.drop_duplicates().reset_index(drop=True)"
   ]
  },
  {
   "cell_type": "code",
   "execution_count": 12,
   "metadata": {},
   "outputs": [
    {
     "data": {
      "text/plain": [
       "0"
      ]
     },
     "execution_count": 12,
     "metadata": {},
     "output_type": "execute_result"
    }
   ],
   "source": [
    "df.duplicated().sum()"
   ]
  },
  {
   "cell_type": "markdown",
   "metadata": {},
   "source": [
    "### Посчитаем суммарные продажи"
   ]
  },
  {
   "cell_type": "code",
   "execution_count": 13,
   "metadata": {},
   "outputs": [
    {
     "data": {
      "text/html": [
       "<div>\n",
       "<style scoped>\n",
       "    .dataframe tbody tr th:only-of-type {\n",
       "        vertical-align: middle;\n",
       "    }\n",
       "\n",
       "    .dataframe tbody tr th {\n",
       "        vertical-align: top;\n",
       "    }\n",
       "\n",
       "    .dataframe thead th {\n",
       "        text-align: right;\n",
       "    }\n",
       "</style>\n",
       "<table border=\"1\" class=\"dataframe\">\n",
       "  <thead>\n",
       "    <tr style=\"text-align: right;\">\n",
       "      <th></th>\n",
       "      <th>name</th>\n",
       "      <th>platform</th>\n",
       "      <th>year_of_release</th>\n",
       "      <th>genre</th>\n",
       "      <th>na_sales</th>\n",
       "      <th>eu_sales</th>\n",
       "      <th>jp_sales</th>\n",
       "      <th>other_sales</th>\n",
       "      <th>critic_score</th>\n",
       "      <th>user_score</th>\n",
       "      <th>rating</th>\n",
       "      <th>total_sales</th>\n",
       "    </tr>\n",
       "  </thead>\n",
       "  <tbody>\n",
       "    <tr>\n",
       "      <th>0</th>\n",
       "      <td>wii sports</td>\n",
       "      <td>wii</td>\n",
       "      <td>2006</td>\n",
       "      <td>sports</td>\n",
       "      <td>41.36</td>\n",
       "      <td>28.96</td>\n",
       "      <td>3.77</td>\n",
       "      <td>8.45</td>\n",
       "      <td>76</td>\n",
       "      <td>8.0</td>\n",
       "      <td>e</td>\n",
       "      <td>74.09</td>\n",
       "    </tr>\n",
       "    <tr>\n",
       "      <th>1</th>\n",
       "      <td>super mario bros.</td>\n",
       "      <td>nes</td>\n",
       "      <td>1985</td>\n",
       "      <td>platform</td>\n",
       "      <td>29.08</td>\n",
       "      <td>3.58</td>\n",
       "      <td>6.81</td>\n",
       "      <td>0.77</td>\n",
       "      <td>-11</td>\n",
       "      <td>-11.0</td>\n",
       "      <td>unknown</td>\n",
       "      <td>39.47</td>\n",
       "    </tr>\n",
       "    <tr>\n",
       "      <th>2</th>\n",
       "      <td>mario kart wii</td>\n",
       "      <td>wii</td>\n",
       "      <td>2008</td>\n",
       "      <td>racing</td>\n",
       "      <td>15.68</td>\n",
       "      <td>12.76</td>\n",
       "      <td>3.79</td>\n",
       "      <td>3.29</td>\n",
       "      <td>82</td>\n",
       "      <td>8.3</td>\n",
       "      <td>e</td>\n",
       "      <td>32.23</td>\n",
       "    </tr>\n",
       "    <tr>\n",
       "      <th>3</th>\n",
       "      <td>wii sports resort</td>\n",
       "      <td>wii</td>\n",
       "      <td>2009</td>\n",
       "      <td>sports</td>\n",
       "      <td>15.61</td>\n",
       "      <td>10.93</td>\n",
       "      <td>3.28</td>\n",
       "      <td>2.95</td>\n",
       "      <td>80</td>\n",
       "      <td>8.0</td>\n",
       "      <td>e</td>\n",
       "      <td>29.82</td>\n",
       "    </tr>\n",
       "    <tr>\n",
       "      <th>4</th>\n",
       "      <td>pokemon red/pokemon blue</td>\n",
       "      <td>gb</td>\n",
       "      <td>1996</td>\n",
       "      <td>role-playing</td>\n",
       "      <td>11.27</td>\n",
       "      <td>8.89</td>\n",
       "      <td>10.22</td>\n",
       "      <td>1.00</td>\n",
       "      <td>-11</td>\n",
       "      <td>-11.0</td>\n",
       "      <td>unknown</td>\n",
       "      <td>30.38</td>\n",
       "    </tr>\n",
       "  </tbody>\n",
       "</table>\n",
       "</div>"
      ],
      "text/plain": [
       "                       name platform  year_of_release         genre  na_sales  \\\n",
       "0                wii sports      wii             2006        sports     41.36   \n",
       "1         super mario bros.      nes             1985      platform     29.08   \n",
       "2            mario kart wii      wii             2008        racing     15.68   \n",
       "3         wii sports resort      wii             2009        sports     15.61   \n",
       "4  pokemon red/pokemon blue       gb             1996  role-playing     11.27   \n",
       "\n",
       "   eu_sales  jp_sales  other_sales  critic_score  user_score   rating  \\\n",
       "0     28.96      3.77         8.45            76         8.0        e   \n",
       "1      3.58      6.81         0.77           -11       -11.0  unknown   \n",
       "2     12.76      3.79         3.29            82         8.3        e   \n",
       "3     10.93      3.28         2.95            80         8.0        e   \n",
       "4      8.89     10.22         1.00           -11       -11.0  unknown   \n",
       "\n",
       "   total_sales  \n",
       "0        74.09  \n",
       "1        39.47  \n",
       "2        32.23  \n",
       "3        29.82  \n",
       "4        30.38  "
      ]
     },
     "execution_count": 13,
     "metadata": {},
     "output_type": "execute_result"
    }
   ],
   "source": [
    "df.loc[:, 'total_sales'] = df['na_sales'] + df['eu_sales'] + df['jp_sales']\n",
    "df.head()"
   ]
  },
  {
   "cell_type": "markdown",
   "metadata": {},
   "source": [
    "##  Исследовательский анализ данных"
   ]
  },
  {
   "cell_type": "markdown",
   "metadata": {},
   "source": [
    "### Cколько игр выпускалось в разные годы"
   ]
  },
  {
   "cell_type": "code",
   "execution_count": 14,
   "metadata": {},
   "outputs": [
    {
     "data": {
      "text/plain": [
       "year_of_release\n",
       "-11       221\n",
       " 1980       9\n",
       " 1981      46\n",
       " 1982      36\n",
       " 1983      17\n",
       " 1984      14\n",
       " 1985      14\n",
       " 1986      21\n",
       " 1987      16\n",
       " 1988      15\n",
       " 1989      17\n",
       " 1990      16\n",
       " 1991      41\n",
       " 1992      43\n",
       " 1993      60\n",
       " 1994     121\n",
       " 1995     219\n",
       " 1996     263\n",
       " 1997     288\n",
       " 1998     379\n",
       " 1999     330\n",
       " 2000     307\n",
       " 2001     400\n",
       " 2002     637\n",
       " 2003     680\n",
       " 2004     655\n",
       " 2005     818\n",
       " 2006     882\n",
       " 2007    1005\n",
       " 2008    1101\n",
       " 2009    1021\n",
       " 2010     924\n",
       " 2011     919\n",
       " 2012     629\n",
       " 2013     529\n",
       " 2014     560\n",
       " 2015     568\n",
       " 2016     468\n",
       "Name: name, dtype: int64"
      ]
     },
     "execution_count": 14,
     "metadata": {},
     "output_type": "execute_result"
    }
   ],
   "source": [
    "df.groupby('year_of_release')['name'].count()"
   ]
  },
  {
   "cell_type": "code",
   "execution_count": 15,
   "metadata": {},
   "outputs": [
    {
     "data": {
      "text/plain": [
       "<AxesSubplot:xlabel='year_of_release'>"
      ]
     },
     "execution_count": 15,
     "metadata": {},
     "output_type": "execute_result"
    },
    {
     "data": {
      "image/png": "[encoded data removed]",
      "text/plain": [
       "<Figure size 432x288 with 1 Axes>"
      ]
     },
     "metadata": {
      "needs_background": "light"
     },
     "output_type": "display_data"
    }
   ],
   "source": [
    "df.groupby('year_of_release')['name'].count().plot(kind='bar')"
   ]
  },
  {
   "cell_type": "code",
   "execution_count": 16,
   "metadata": {},
   "outputs": [
    {
     "data": {
      "image/png": "[encoded data removed]",
      "text/plain": [
       "<Figure size 432x288 with 1 Axes>"
      ]
     },
     "metadata": {
      "needs_background": "light"
     },
     "output_type": "display_data"
    }
   ],
   "source": [
    "df[df['year_of_release'] != -11].groupby('year_of_release').agg({'name':'count'}).plot()\n",
    "plt.xlabel('Год')\n",
    "plt.ylabel('Количество игр (шт.)')\n",
    "plt.show();"
   ]
  },
  {
   "cell_type": "markdown",
   "metadata": {},
   "source": [
    "Количество выпускаемых видеогр начал активно расти примерно с 1999-2000 годов. С 2009 пошел спад, толчком послужил несомненно финансовый кризис 2008 года, спад продаж консолей привёл к сокращению потенциального рынка сбыта. С 2013 года небольшой рост, видимо в связи с выходом нового поколения консолей. Я думаю общий спад в индустрии связан со множеством факторов. Например рост рынка мобильных игр, оказал огромное влияние на игровую индустрию. Также повлияло развитие многопользовательских игр, изменение моделей монетизации, например F2P, общее увеличение бюджетов на игры, пиратство и т.д."
   ]
  },
  {
   "cell_type": "code",
   "execution_count": 17,
   "metadata": {},
   "outputs": [
    {
     "data": {
      "text/html": [
       "<div>\n",
       "<style scoped>\n",
       "    .dataframe tbody tr th:only-of-type {\n",
       "        vertical-align: middle;\n",
       "    }\n",
       "\n",
       "    .dataframe tbody tr th {\n",
       "        vertical-align: top;\n",
       "    }\n",
       "\n",
       "    .dataframe thead th {\n",
       "        text-align: right;\n",
       "    }\n",
       "</style>\n",
       "<table border=\"1\" class=\"dataframe\">\n",
       "  <thead>\n",
       "    <tr style=\"text-align: right;\">\n",
       "      <th>year_of_release</th>\n",
       "      <th>1999</th>\n",
       "      <th>2000</th>\n",
       "      <th>2001</th>\n",
       "      <th>2002</th>\n",
       "      <th>2003</th>\n",
       "      <th>2004</th>\n",
       "      <th>2005</th>\n",
       "      <th>2006</th>\n",
       "      <th>2007</th>\n",
       "      <th>2008</th>\n",
       "      <th>2009</th>\n",
       "      <th>2010</th>\n",
       "      <th>2011</th>\n",
       "      <th>2012</th>\n",
       "      <th>2013</th>\n",
       "      <th>2014</th>\n",
       "      <th>2015</th>\n",
       "      <th>2016</th>\n",
       "    </tr>\n",
       "    <tr>\n",
       "      <th>platform</th>\n",
       "      <th></th>\n",
       "      <th></th>\n",
       "      <th></th>\n",
       "      <th></th>\n",
       "      <th></th>\n",
       "      <th></th>\n",
       "      <th></th>\n",
       "      <th></th>\n",
       "      <th></th>\n",
       "      <th></th>\n",
       "      <th></th>\n",
       "      <th></th>\n",
       "      <th></th>\n",
       "      <th></th>\n",
       "      <th></th>\n",
       "      <th></th>\n",
       "      <th></th>\n",
       "      <th></th>\n",
       "    </tr>\n",
       "  </thead>\n",
       "  <tbody>\n",
       "    <tr>\n",
       "      <th>3ds</th>\n",
       "      <td>-</td>\n",
       "      <td>-</td>\n",
       "      <td>-</td>\n",
       "      <td>-</td>\n",
       "      <td>-</td>\n",
       "      <td>-</td>\n",
       "      <td>-</td>\n",
       "      <td>-</td>\n",
       "      <td>-</td>\n",
       "      <td>-</td>\n",
       "      <td>-</td>\n",
       "      <td>-</td>\n",
       "      <td>91.0</td>\n",
       "      <td>89.0</td>\n",
       "      <td>87.0</td>\n",
       "      <td>71.0</td>\n",
       "      <td>77.0</td>\n",
       "      <td>43.0</td>\n",
       "    </tr>\n",
       "    <tr>\n",
       "      <th>dc</th>\n",
       "      <td>14.0</td>\n",
       "      <td>20.0</td>\n",
       "      <td>8.0</td>\n",
       "      <td>1.0</td>\n",
       "      <td>-</td>\n",
       "      <td>-</td>\n",
       "      <td>-</td>\n",
       "      <td>-</td>\n",
       "      <td>1.0</td>\n",
       "      <td>1.0</td>\n",
       "      <td>-</td>\n",
       "      <td>-</td>\n",
       "      <td>-</td>\n",
       "      <td>-</td>\n",
       "      <td>-</td>\n",
       "      <td>-</td>\n",
       "      <td>-</td>\n",
       "      <td>-</td>\n",
       "    </tr>\n",
       "    <tr>\n",
       "      <th>ds</th>\n",
       "      <td>-</td>\n",
       "      <td>-</td>\n",
       "      <td>-</td>\n",
       "      <td>-</td>\n",
       "      <td>-</td>\n",
       "      <td>22.0</td>\n",
       "      <td>101.0</td>\n",
       "      <td>166.0</td>\n",
       "      <td>273.0</td>\n",
       "      <td>309.0</td>\n",
       "      <td>217.0</td>\n",
       "      <td>179.0</td>\n",
       "      <td>91.0</td>\n",
       "      <td>15.0</td>\n",
       "      <td>3.0</td>\n",
       "      <td>-</td>\n",
       "      <td>-</td>\n",
       "      <td>-</td>\n",
       "    </tr>\n",
       "    <tr>\n",
       "      <th>gb</th>\n",
       "      <td>11.0</td>\n",
       "      <td>17.0</td>\n",
       "      <td>10.0</td>\n",
       "      <td>-</td>\n",
       "      <td>-</td>\n",
       "      <td>-</td>\n",
       "      <td>-</td>\n",
       "      <td>-</td>\n",
       "      <td>-</td>\n",
       "      <td>-</td>\n",
       "      <td>-</td>\n",
       "      <td>-</td>\n",
       "      <td>-</td>\n",
       "      <td>-</td>\n",
       "      <td>-</td>\n",
       "      <td>-</td>\n",
       "      <td>-</td>\n",
       "      <td>-</td>\n",
       "    </tr>\n",
       "    <tr>\n",
       "      <th>gba</th>\n",
       "      <td>-</td>\n",
       "      <td>1.0</td>\n",
       "      <td>63.0</td>\n",
       "      <td>115.0</td>\n",
       "      <td>114.0</td>\n",
       "      <td>127.0</td>\n",
       "      <td>98.0</td>\n",
       "      <td>30.0</td>\n",
       "      <td>5.0</td>\n",
       "      <td>-</td>\n",
       "      <td>-</td>\n",
       "      <td>-</td>\n",
       "      <td>-</td>\n",
       "      <td>-</td>\n",
       "      <td>-</td>\n",
       "      <td>-</td>\n",
       "      <td>-</td>\n",
       "      <td>-</td>\n",
       "    </tr>\n",
       "    <tr>\n",
       "      <th>gc</th>\n",
       "      <td>-</td>\n",
       "      <td>-</td>\n",
       "      <td>20.0</td>\n",
       "      <td>116.0</td>\n",
       "      <td>125.0</td>\n",
       "      <td>68.0</td>\n",
       "      <td>79.0</td>\n",
       "      <td>32.0</td>\n",
       "      <td>2.0</td>\n",
       "      <td>-</td>\n",
       "      <td>-</td>\n",
       "      <td>-</td>\n",
       "      <td>-</td>\n",
       "      <td>-</td>\n",
       "      <td>-</td>\n",
       "      <td>-</td>\n",
       "      <td>-</td>\n",
       "      <td>-</td>\n",
       "    </tr>\n",
       "    <tr>\n",
       "      <th>n64</th>\n",
       "      <td>102.0</td>\n",
       "      <td>60.0</td>\n",
       "      <td>9.0</td>\n",
       "      <td>1.0</td>\n",
       "      <td>-</td>\n",
       "      <td>-</td>\n",
       "      <td>-</td>\n",
       "      <td>-</td>\n",
       "      <td>-</td>\n",
       "      <td>-</td>\n",
       "      <td>-</td>\n",
       "      <td>-</td>\n",
       "      <td>-</td>\n",
       "      <td>-</td>\n",
       "      <td>-</td>\n",
       "      <td>-</td>\n",
       "      <td>-</td>\n",
       "      <td>-</td>\n",
       "    </tr>\n",
       "    <tr>\n",
       "      <th>pc</th>\n",
       "      <td>6.0</td>\n",
       "      <td>7.0</td>\n",
       "      <td>15.0</td>\n",
       "      <td>18.0</td>\n",
       "      <td>33.0</td>\n",
       "      <td>30.0</td>\n",
       "      <td>36.0</td>\n",
       "      <td>50.0</td>\n",
       "      <td>60.0</td>\n",
       "      <td>69.0</td>\n",
       "      <td>96.0</td>\n",
       "      <td>84.0</td>\n",
       "      <td>126.0</td>\n",
       "      <td>61.0</td>\n",
       "      <td>38.0</td>\n",
       "      <td>46.0</td>\n",
       "      <td>48.0</td>\n",
       "      <td>52.0</td>\n",
       "    </tr>\n",
       "    <tr>\n",
       "      <th>ps</th>\n",
       "      <td>193.0</td>\n",
       "      <td>133.0</td>\n",
       "      <td>82.0</td>\n",
       "      <td>20.0</td>\n",
       "      <td>3.0</td>\n",
       "      <td>-</td>\n",
       "      <td>-</td>\n",
       "      <td>-</td>\n",
       "      <td>-</td>\n",
       "      <td>-</td>\n",
       "      <td>-</td>\n",
       "      <td>-</td>\n",
       "      <td>-</td>\n",
       "      <td>-</td>\n",
       "      <td>-</td>\n",
       "      <td>-</td>\n",
       "      <td>-</td>\n",
       "      <td>-</td>\n",
       "    </tr>\n",
       "    <tr>\n",
       "      <th>ps2</th>\n",
       "      <td>-</td>\n",
       "      <td>66.0</td>\n",
       "      <td>164.0</td>\n",
       "      <td>245.0</td>\n",
       "      <td>245.0</td>\n",
       "      <td>245.0</td>\n",
       "      <td>245.0</td>\n",
       "      <td>241.0</td>\n",
       "      <td>183.0</td>\n",
       "      <td>148.0</td>\n",
       "      <td>74.0</td>\n",
       "      <td>29.0</td>\n",
       "      <td>6.0</td>\n",
       "      <td>-</td>\n",
       "      <td>-</td>\n",
       "      <td>-</td>\n",
       "      <td>-</td>\n",
       "      <td>-</td>\n",
       "    </tr>\n",
       "    <tr>\n",
       "      <th>ps3</th>\n",
       "      <td>-</td>\n",
       "      <td>-</td>\n",
       "      <td>-</td>\n",
       "      <td>-</td>\n",
       "      <td>-</td>\n",
       "      <td>-</td>\n",
       "      <td>-</td>\n",
       "      <td>26.0</td>\n",
       "      <td>88.0</td>\n",
       "      <td>131.0</td>\n",
       "      <td>150.0</td>\n",
       "      <td>165.0</td>\n",
       "      <td>192.0</td>\n",
       "      <td>145.0</td>\n",
       "      <td>125.0</td>\n",
       "      <td>103.0</td>\n",
       "      <td>62.0</td>\n",
       "      <td>32.0</td>\n",
       "    </tr>\n",
       "    <tr>\n",
       "      <th>ps4</th>\n",
       "      <td>-</td>\n",
       "      <td>-</td>\n",
       "      <td>-</td>\n",
       "      <td>-</td>\n",
       "      <td>-</td>\n",
       "      <td>-</td>\n",
       "      <td>-</td>\n",
       "      <td>-</td>\n",
       "      <td>-</td>\n",
       "      <td>-</td>\n",
       "      <td>-</td>\n",
       "      <td>-</td>\n",
       "      <td>-</td>\n",
       "      <td>-</td>\n",
       "      <td>16.0</td>\n",
       "      <td>75.0</td>\n",
       "      <td>136.0</td>\n",
       "      <td>159.0</td>\n",
       "    </tr>\n",
       "    <tr>\n",
       "      <th>psp</th>\n",
       "      <td>-</td>\n",
       "      <td>-</td>\n",
       "      <td>-</td>\n",
       "      <td>-</td>\n",
       "      <td>-</td>\n",
       "      <td>14.0</td>\n",
       "      <td>92.0</td>\n",
       "      <td>158.0</td>\n",
       "      <td>113.0</td>\n",
       "      <td>86.0</td>\n",
       "      <td>135.0</td>\n",
       "      <td>172.0</td>\n",
       "      <td>134.0</td>\n",
       "      <td>104.0</td>\n",
       "      <td>54.0</td>\n",
       "      <td>10.0</td>\n",
       "      <td>3.0</td>\n",
       "      <td>-</td>\n",
       "    </tr>\n",
       "    <tr>\n",
       "      <th>psv</th>\n",
       "      <td>-</td>\n",
       "      <td>-</td>\n",
       "      <td>-</td>\n",
       "      <td>-</td>\n",
       "      <td>-</td>\n",
       "      <td>-</td>\n",
       "      <td>-</td>\n",
       "      <td>-</td>\n",
       "      <td>-</td>\n",
       "      <td>-</td>\n",
       "      <td>-</td>\n",
       "      <td>-</td>\n",
       "      <td>18.0</td>\n",
       "      <td>53.0</td>\n",
       "      <td>63.0</td>\n",
       "      <td>100.0</td>\n",
       "      <td>104.0</td>\n",
       "      <td>84.0</td>\n",
       "    </tr>\n",
       "    <tr>\n",
       "      <th>sat</th>\n",
       "      <td>1.0</td>\n",
       "      <td>-</td>\n",
       "      <td>-</td>\n",
       "      <td>-</td>\n",
       "      <td>-</td>\n",
       "      <td>-</td>\n",
       "      <td>-</td>\n",
       "      <td>-</td>\n",
       "      <td>-</td>\n",
       "      <td>-</td>\n",
       "      <td>-</td>\n",
       "      <td>-</td>\n",
       "      <td>-</td>\n",
       "      <td>-</td>\n",
       "      <td>-</td>\n",
       "      <td>-</td>\n",
       "      <td>-</td>\n",
       "      <td>-</td>\n",
       "    </tr>\n",
       "    <tr>\n",
       "      <th>snes</th>\n",
       "      <td>1.0</td>\n",
       "      <td>-</td>\n",
       "      <td>-</td>\n",
       "      <td>-</td>\n",
       "      <td>-</td>\n",
       "      <td>-</td>\n",
       "      <td>-</td>\n",
       "      <td>-</td>\n",
       "      <td>-</td>\n",
       "      <td>-</td>\n",
       "      <td>-</td>\n",
       "      <td>-</td>\n",
       "      <td>-</td>\n",
       "      <td>-</td>\n",
       "      <td>-</td>\n",
       "      <td>-</td>\n",
       "      <td>-</td>\n",
       "      <td>-</td>\n",
       "    </tr>\n",
       "    <tr>\n",
       "      <th>wii</th>\n",
       "      <td>-</td>\n",
       "      <td>-</td>\n",
       "      <td>-</td>\n",
       "      <td>-</td>\n",
       "      <td>-</td>\n",
       "      <td>-</td>\n",
       "      <td>-</td>\n",
       "      <td>41.0</td>\n",
       "      <td>162.0</td>\n",
       "      <td>218.0</td>\n",
       "      <td>192.0</td>\n",
       "      <td>126.0</td>\n",
       "      <td>82.0</td>\n",
       "      <td>25.0</td>\n",
       "      <td>8.0</td>\n",
       "      <td>3.0</td>\n",
       "      <td>1.0</td>\n",
       "      <td>-</td>\n",
       "    </tr>\n",
       "    <tr>\n",
       "      <th>wiiu</th>\n",
       "      <td>-</td>\n",
       "      <td>-</td>\n",
       "      <td>-</td>\n",
       "      <td>-</td>\n",
       "      <td>-</td>\n",
       "      <td>-</td>\n",
       "      <td>-</td>\n",
       "      <td>-</td>\n",
       "      <td>-</td>\n",
       "      <td>-</td>\n",
       "      <td>-</td>\n",
       "      <td>-</td>\n",
       "      <td>-</td>\n",
       "      <td>32.0</td>\n",
       "      <td>42.0</td>\n",
       "      <td>30.0</td>\n",
       "      <td>27.0</td>\n",
       "      <td>11.0</td>\n",
       "    </tr>\n",
       "    <tr>\n",
       "      <th>ws</th>\n",
       "      <td>2.0</td>\n",
       "      <td>2.0</td>\n",
       "      <td>2.0</td>\n",
       "      <td>-</td>\n",
       "      <td>-</td>\n",
       "      <td>-</td>\n",
       "      <td>-</td>\n",
       "      <td>-</td>\n",
       "      <td>-</td>\n",
       "      <td>-</td>\n",
       "      <td>-</td>\n",
       "      <td>-</td>\n",
       "      <td>-</td>\n",
       "      <td>-</td>\n",
       "      <td>-</td>\n",
       "      <td>-</td>\n",
       "      <td>-</td>\n",
       "      <td>-</td>\n",
       "    </tr>\n",
       "    <tr>\n",
       "      <th>x360</th>\n",
       "      <td>-</td>\n",
       "      <td>-</td>\n",
       "      <td>-</td>\n",
       "      <td>-</td>\n",
       "      <td>-</td>\n",
       "      <td>-</td>\n",
       "      <td>18.0</td>\n",
       "      <td>92.0</td>\n",
       "      <td>115.0</td>\n",
       "      <td>138.0</td>\n",
       "      <td>157.0</td>\n",
       "      <td>169.0</td>\n",
       "      <td>179.0</td>\n",
       "      <td>105.0</td>\n",
       "      <td>74.0</td>\n",
       "      <td>61.0</td>\n",
       "      <td>33.0</td>\n",
       "      <td>8.0</td>\n",
       "    </tr>\n",
       "    <tr>\n",
       "      <th>xb</th>\n",
       "      <td>-</td>\n",
       "      <td>1.0</td>\n",
       "      <td>27.0</td>\n",
       "      <td>121.0</td>\n",
       "      <td>160.0</td>\n",
       "      <td>149.0</td>\n",
       "      <td>149.0</td>\n",
       "      <td>46.0</td>\n",
       "      <td>3.0</td>\n",
       "      <td>1.0</td>\n",
       "      <td>-</td>\n",
       "      <td>-</td>\n",
       "      <td>-</td>\n",
       "      <td>-</td>\n",
       "      <td>-</td>\n",
       "      <td>-</td>\n",
       "      <td>-</td>\n",
       "      <td>-</td>\n",
       "    </tr>\n",
       "    <tr>\n",
       "      <th>xone</th>\n",
       "      <td>-</td>\n",
       "      <td>-</td>\n",
       "      <td>-</td>\n",
       "      <td>-</td>\n",
       "      <td>-</td>\n",
       "      <td>-</td>\n",
       "      <td>-</td>\n",
       "      <td>-</td>\n",
       "      <td>-</td>\n",
       "      <td>-</td>\n",
       "      <td>-</td>\n",
       "      <td>-</td>\n",
       "      <td>-</td>\n",
       "      <td>-</td>\n",
       "      <td>19.0</td>\n",
       "      <td>61.0</td>\n",
       "      <td>77.0</td>\n",
       "      <td>79.0</td>\n",
       "    </tr>\n",
       "  </tbody>\n",
       "</table>\n",
       "</div>"
      ],
      "text/plain": [
       "year_of_release   1999   2000   2001   2002   2003   2004   2005   2006  \\\n",
       "platform                                                                  \n",
       "3ds                  -      -      -      -      -      -      -      -   \n",
       "dc                14.0   20.0    8.0    1.0      -      -      -      -   \n",
       "ds                   -      -      -      -      -   22.0  101.0  166.0   \n",
       "gb                11.0   17.0   10.0      -      -      -      -      -   \n",
       "gba                  -    1.0   63.0  115.0  114.0  127.0   98.0   30.0   \n",
       "gc                   -      -   20.0  116.0  125.0   68.0   79.0   32.0   \n",
       "n64              102.0   60.0    9.0    1.0      -      -      -      -   \n",
       "pc                 6.0    7.0   15.0   18.0   33.0   30.0   36.0   50.0   \n",
       "ps               193.0  133.0   82.0   20.0    3.0      -      -      -   \n",
       "ps2                  -   66.0  164.0  245.0  245.0  245.0  245.0  241.0   \n",
       "ps3                  -      -      -      -      -      -      -   26.0   \n",
       "ps4                  -      -      -      -      -      -      -      -   \n",
       "psp                  -      -      -      -      -   14.0   92.0  158.0   \n",
       "psv                  -      -      -      -      -      -      -      -   \n",
       "sat                1.0      -      -      -      -      -      -      -   \n",
       "snes               1.0      -      -      -      -      -      -      -   \n",
       "wii                  -      -      -      -      -      -      -   41.0   \n",
       "wiiu                 -      -      -      -      -      -      -      -   \n",
       "ws                 2.0    2.0    2.0      -      -      -      -      -   \n",
       "x360                 -      -      -      -      -      -   18.0   92.0   \n",
       "xb                   -    1.0   27.0  121.0  160.0  149.0  149.0   46.0   \n",
       "xone                 -      -      -      -      -      -      -      -   \n",
       "\n",
       "year_of_release   2007   2008   2009   2010   2011   2012   2013   2014  \\\n",
       "platform                                                                  \n",
       "3ds                  -      -      -      -   91.0   89.0   87.0   71.0   \n",
       "dc                 1.0    1.0      -      -      -      -      -      -   \n",
       "ds               273.0  309.0  217.0  179.0   91.0   15.0    3.0      -   \n",
       "gb                   -      -      -      -      -      -      -      -   \n",
       "gba                5.0      -      -      -      -      -      -      -   \n",
       "gc                 2.0      -      -      -      -      -      -      -   \n",
       "n64                  -      -      -      -      -      -      -      -   \n",
       "pc                60.0   69.0   96.0   84.0  126.0   61.0   38.0   46.0   \n",
       "ps                   -      -      -      -      -      -      -      -   \n",
       "ps2              183.0  148.0   74.0   29.0    6.0      -      -      -   \n",
       "ps3               88.0  131.0  150.0  165.0  192.0  145.0  125.0  103.0   \n",
       "ps4                  -      -      -      -      -      -   16.0   75.0   \n",
       "psp              113.0   86.0  135.0  172.0  134.0  104.0   54.0   10.0   \n",
       "psv                  -      -      -      -   18.0   53.0   63.0  100.0   \n",
       "sat                  -      -      -      -      -      -      -      -   \n",
       "snes                 -      -      -      -      -      -      -      -   \n",
       "wii              162.0  218.0  192.0  126.0   82.0   25.0    8.0    3.0   \n",
       "wiiu                 -      -      -      -      -   32.0   42.0   30.0   \n",
       "ws                   -      -      -      -      -      -      -      -   \n",
       "x360             115.0  138.0  157.0  169.0  179.0  105.0   74.0   61.0   \n",
       "xb                 3.0    1.0      -      -      -      -      -      -   \n",
       "xone                 -      -      -      -      -      -   19.0   61.0   \n",
       "\n",
       "year_of_release   2015   2016  \n",
       "platform                       \n",
       "3ds               77.0   43.0  \n",
       "dc                   -      -  \n",
       "ds                   -      -  \n",
       "gb                   -      -  \n",
       "gba                  -      -  \n",
       "gc                   -      -  \n",
       "n64                  -      -  \n",
       "pc                48.0   52.0  \n",
       "ps                   -      -  \n",
       "ps2                  -      -  \n",
       "ps3               62.0   32.0  \n",
       "ps4              136.0  159.0  \n",
       "psp                3.0      -  \n",
       "psv              104.0   84.0  \n",
       "sat                  -      -  \n",
       "snes                 -      -  \n",
       "wii                1.0      -  \n",
       "wiiu              27.0   11.0  \n",
       "ws                   -      -  \n",
       "x360              33.0    8.0  \n",
       "xb                   -      -  \n",
       "xone              77.0   79.0  "
      ]
     },
     "execution_count": 17,
     "metadata": {},
     "output_type": "execute_result"
    }
   ],
   "source": [
    "(df.query('year_of_release > 1998')\n",
    " .pivot_table(index='platform', columns='year_of_release', values='name', aggfunc='count', fill_value='-'))"
   ]
  },
  {
   "cell_type": "code",
   "execution_count": 18,
   "metadata": {},
   "outputs": [],
   "source": [
    "platform_2016=df[df['year_of_release'] >= 2000]['platform'].unique()\n",
    "data = []\n",
    "for platform in platform_2016:\n",
    "    lifespan = len(df.loc[df['platform'] == platform,'year_of_release'].unique())\n",
    "    data.append(lifespan)\n",
    "#расчитаем прдолжительность существования платформ после 2000 года"
   ]
  },
  {
   "cell_type": "code",
   "execution_count": 19,
   "metadata": {},
   "outputs": [
    {
     "data": {
      "text/html": [
       "<div>\n",
       "<style scoped>\n",
       "    .dataframe tbody tr th:only-of-type {\n",
       "        vertical-align: middle;\n",
       "    }\n",
       "\n",
       "    .dataframe tbody tr th {\n",
       "        vertical-align: top;\n",
       "    }\n",
       "\n",
       "    .dataframe thead th {\n",
       "        text-align: right;\n",
       "    }\n",
       "</style>\n",
       "<table border=\"1\" class=\"dataframe\">\n",
       "  <thead>\n",
       "    <tr style=\"text-align: right;\">\n",
       "      <th></th>\n",
       "      <th>9</th>\n",
       "      <th>14</th>\n",
       "      <th>10</th>\n",
       "      <th>2</th>\n",
       "      <th>4</th>\n",
       "      <th>3</th>\n",
       "      <th>1</th>\n",
       "      <th>15</th>\n",
       "      <th>0</th>\n",
       "      <th>8</th>\n",
       "      <th>5</th>\n",
       "      <th>13</th>\n",
       "      <th>16</th>\n",
       "      <th>7</th>\n",
       "      <th>17</th>\n",
       "    </tr>\n",
       "  </thead>\n",
       "  <tbody>\n",
       "    <tr>\n",
       "      <th>platform</th>\n",
       "      <td>pc</td>\n",
       "      <td>gb</td>\n",
       "      <td>psp</td>\n",
       "      <td>x360</td>\n",
       "      <td>ps2</td>\n",
       "      <td>ps3</td>\n",
       "      <td>ds</td>\n",
       "      <td>ps</td>\n",
       "      <td>wii</td>\n",
       "      <td>xb</td>\n",
       "      <td>gba</td>\n",
       "      <td>gc</td>\n",
       "      <td>n64</td>\n",
       "      <td>3ds</td>\n",
       "      <td>psv</td>\n",
       "    </tr>\n",
       "    <tr>\n",
       "      <th>lifespan</th>\n",
       "      <td>27</td>\n",
       "      <td>14</td>\n",
       "      <td>13</td>\n",
       "      <td>13</td>\n",
       "      <td>13</td>\n",
       "      <td>12</td>\n",
       "      <td>12</td>\n",
       "      <td>11</td>\n",
       "      <td>11</td>\n",
       "      <td>10</td>\n",
       "      <td>9</td>\n",
       "      <td>8</td>\n",
       "      <td>8</td>\n",
       "      <td>7</td>\n",
       "      <td>7</td>\n",
       "    </tr>\n",
       "  </tbody>\n",
       "</table>\n",
       "</div>"
      ],
      "text/plain": [
       "          9   14   10    2    4    3   1   15   0   8    5   13   16   7    17\n",
       "platform  pc  gb  psp  x360  ps2  ps3  ds  ps  wii  xb  gba  gc  n64  3ds  psv\n",
       "lifespan  27  14   13    13   13   12  12  11   11  10    9   8    8    7    7"
      ]
     },
     "execution_count": 19,
     "metadata": {},
     "output_type": "execute_result"
    }
   ],
   "source": [
    "platform_2016 = pd.Series(platform_2016, name='platform')\n",
    "data = pd.Series(data, name='lifespan')\n",
    "platforms_lifespan = pd.concat([platform_2016, data],axis=1)\n",
    "platforms_lifespan = platforms_lifespan.sort_values(by='lifespan', ascending=False)\n",
    "platforms_lifespan.head(15).T"
   ]
  },
  {
   "cell_type": "code",
   "execution_count": 20,
   "metadata": {},
   "outputs": [
    {
     "data": {
      "text/html": [
       "<div>\n",
       "<style scoped>\n",
       "    .dataframe tbody tr th:only-of-type {\n",
       "        vertical-align: middle;\n",
       "    }\n",
       "\n",
       "    .dataframe tbody tr th {\n",
       "        vertical-align: top;\n",
       "    }\n",
       "\n",
       "    .dataframe thead th {\n",
       "        text-align: right;\n",
       "    }\n",
       "</style>\n",
       "<table border=\"1\" class=\"dataframe\">\n",
       "  <thead>\n",
       "    <tr style=\"text-align: right;\">\n",
       "      <th></th>\n",
       "      <th>count</th>\n",
       "      <th>mean</th>\n",
       "      <th>std</th>\n",
       "      <th>min</th>\n",
       "      <th>25%</th>\n",
       "      <th>50%</th>\n",
       "      <th>75%</th>\n",
       "      <th>max</th>\n",
       "    </tr>\n",
       "  </thead>\n",
       "  <tbody>\n",
       "    <tr>\n",
       "      <th>lifespan</th>\n",
       "      <td>20.0</td>\n",
       "      <td>9.9</td>\n",
       "      <td>5.250564</td>\n",
       "      <td>3.0</td>\n",
       "      <td>7.0</td>\n",
       "      <td>9.5</td>\n",
       "      <td>12.25</td>\n",
       "      <td>27.0</td>\n",
       "    </tr>\n",
       "  </tbody>\n",
       "</table>\n",
       "</div>"
      ],
      "text/plain": [
       "          count  mean       std  min  25%  50%    75%   max\n",
       "lifespan   20.0   9.9  5.250564  3.0  7.0  9.5  12.25  27.0"
      ]
     },
     "execution_count": 20,
     "metadata": {},
     "output_type": "execute_result"
    }
   ],
   "source": [
    "platforms_lifespan.describe().T"
   ]
  },
  {
   "cell_type": "code",
   "execution_count": 21,
   "metadata": {},
   "outputs": [
    {
     "data": {
      "image/png": "[encoded data removed]",
      "text/plain": [
       "<Figure size 432x288 with 1 Axes>"
      ]
     },
     "metadata": {
      "needs_background": "light"
     },
     "output_type": "display_data"
    }
   ],
   "source": [
    "platforms_lifespan.boxplot();"
   ]
  },
  {
   "cell_type": "code",
   "execution_count": 22,
   "metadata": {},
   "outputs": [
    {
     "data": {
      "text/plain": [
       "array(['ps4', '3ds', 'xone', 'wiiu', 'ps3', 'pc', 'x360', 'psv'],\n",
       "      dtype=object)"
      ]
     },
     "execution_count": 22,
     "metadata": {},
     "output_type": "execute_result"
    }
   ],
   "source": [
    "df[df['year_of_release'] == 2016]['platform'].unique()"
   ]
  },
  {
   "cell_type": "markdown",
   "metadata": {},
   "source": [
    "Средняя жизнь платформы примерно 10 лет. PC является уникальной платформой, которая будет всегда. На 2016 остаются актуальными 8 платформ: 'ps4', '3ds', 'xone', 'wiiu', 'ps3', 'pc', 'x360', 'psv'.  В 2013 году выходит поколение платформ. Определим актуальный период c 2013 года. "
   ]
  },
  {
   "cell_type": "markdown",
   "metadata": {},
   "source": [
    "### Продажи по платформам"
   ]
  },
  {
   "cell_type": "code",
   "execution_count": 23,
   "metadata": {},
   "outputs": [],
   "source": [
    "df_2013 = df.query('year_of_release >= 2013')"
   ]
  },
  {
   "cell_type": "code",
   "execution_count": 24,
   "metadata": {},
   "outputs": [
    {
     "data": {
      "image/png": "[encoded data removed]",
      "text/plain": [
       "<Figure size 864x432 with 1 Axes>"
      ]
     },
     "metadata": {
      "needs_background": "light"
     },
     "output_type": "display_data"
    }
   ],
   "source": [
    "(df_2013.pivot_table(index='platform', values='total_sales', aggfunc='sum')\n",
    "     .sort_values(by='total_sales',ascending=False)\n",
    "     .plot(kind='bar', figsize=(12, 6)));"
   ]
  },
  {
   "cell_type": "code",
   "execution_count": 25,
   "metadata": {},
   "outputs": [
    {
     "data": {
      "text/html": [
       "<div>\n",
       "<style scoped>\n",
       "    .dataframe tbody tr th:only-of-type {\n",
       "        vertical-align: middle;\n",
       "    }\n",
       "\n",
       "    .dataframe tbody tr th {\n",
       "        vertical-align: top;\n",
       "    }\n",
       "\n",
       "    .dataframe thead th {\n",
       "        text-align: right;\n",
       "    }\n",
       "</style>\n",
       "<table border=\"1\" class=\"dataframe\">\n",
       "  <thead>\n",
       "    <tr style=\"text-align: right;\">\n",
       "      <th>year_of_release</th>\n",
       "      <th>platform</th>\n",
       "      <th>2013</th>\n",
       "      <th>2014</th>\n",
       "      <th>2015</th>\n",
       "      <th>2016</th>\n",
       "    </tr>\n",
       "  </thead>\n",
       "  <tbody>\n",
       "    <tr>\n",
       "      <th>0</th>\n",
       "      <td>3ds</td>\n",
       "      <td>53.74</td>\n",
       "      <td>41.11</td>\n",
       "      <td>26.21</td>\n",
       "      <td>14.46</td>\n",
       "    </tr>\n",
       "    <tr>\n",
       "      <th>1</th>\n",
       "      <td>ds</td>\n",
       "      <td>0.89</td>\n",
       "      <td>-</td>\n",
       "      <td>-</td>\n",
       "      <td>-</td>\n",
       "    </tr>\n",
       "    <tr>\n",
       "      <th>2</th>\n",
       "      <td>pc</td>\n",
       "      <td>11.27</td>\n",
       "      <td>12.35</td>\n",
       "      <td>7.9</td>\n",
       "      <td>4.86</td>\n",
       "    </tr>\n",
       "    <tr>\n",
       "      <th>3</th>\n",
       "      <td>ps3</td>\n",
       "      <td>95.84</td>\n",
       "      <td>40.57</td>\n",
       "      <td>14.21</td>\n",
       "      <td>2.86</td>\n",
       "    </tr>\n",
       "    <tr>\n",
       "      <th>4</th>\n",
       "      <td>ps4</td>\n",
       "      <td>22.12</td>\n",
       "      <td>84.22</td>\n",
       "      <td>100.41</td>\n",
       "      <td>58.92</td>\n",
       "    </tr>\n",
       "    <tr>\n",
       "      <th>5</th>\n",
       "      <td>psp</td>\n",
       "      <td>3.10</td>\n",
       "      <td>0.24</td>\n",
       "      <td>0.12</td>\n",
       "      <td>-</td>\n",
       "    </tr>\n",
       "    <tr>\n",
       "      <th>6</th>\n",
       "      <td>psv</td>\n",
       "      <td>9.14</td>\n",
       "      <td>10.56</td>\n",
       "      <td>5.67</td>\n",
       "      <td>4.09</td>\n",
       "    </tr>\n",
       "    <tr>\n",
       "      <th>7</th>\n",
       "      <td>wii</td>\n",
       "      <td>7.43</td>\n",
       "      <td>2.4</td>\n",
       "      <td>0.14</td>\n",
       "      <td>-</td>\n",
       "    </tr>\n",
       "    <tr>\n",
       "      <th>8</th>\n",
       "      <td>wiiu</td>\n",
       "      <td>20.12</td>\n",
       "      <td>20.33</td>\n",
       "      <td>15.15</td>\n",
       "      <td>3.98</td>\n",
       "    </tr>\n",
       "    <tr>\n",
       "      <th>9</th>\n",
       "      <td>x360</td>\n",
       "      <td>80.81</td>\n",
       "      <td>30.73</td>\n",
       "      <td>10.78</td>\n",
       "      <td>1.12</td>\n",
       "    </tr>\n",
       "    <tr>\n",
       "      <th>10</th>\n",
       "      <td>xone</td>\n",
       "      <td>17.21</td>\n",
       "      <td>49.26</td>\n",
       "      <td>54.47</td>\n",
       "      <td>23.6</td>\n",
       "    </tr>\n",
       "  </tbody>\n",
       "</table>\n",
       "</div>"
      ],
      "text/plain": [
       "year_of_release platform   2013   2014    2015   2016\n",
       "0                    3ds  53.74  41.11   26.21  14.46\n",
       "1                     ds   0.89      -       -      -\n",
       "2                     pc  11.27  12.35     7.9   4.86\n",
       "3                    ps3  95.84  40.57   14.21   2.86\n",
       "4                    ps4  22.12  84.22  100.41  58.92\n",
       "5                    psp   3.10   0.24    0.12      -\n",
       "6                    psv   9.14  10.56    5.67   4.09\n",
       "7                    wii   7.43    2.4    0.14      -\n",
       "8                   wiiu  20.12  20.33   15.15   3.98\n",
       "9                   x360  80.81  30.73   10.78   1.12\n",
       "10                  xone  17.21  49.26   54.47   23.6"
      ]
     },
     "execution_count": 25,
     "metadata": {},
     "output_type": "execute_result"
    }
   ],
   "source": [
    "(df_2013\n",
    ".pivot_table(index='platform', columns='year_of_release', values='total_sales', aggfunc='sum', fill_value='-')\n",
    ".reset_index())"
   ]
  },
  {
   "cell_type": "markdown",
   "metadata": {},
   "source": [
    "Лидируют по продажам консоли предыдущего поколения Xbox360, ps3 и Nintendo Wii. C выходом нового поколения продажи на этих платформах уменьшаются и соответсвенно растут продажи ps4, Xbox one. Продажи Nintendo Wii U провалились в 2016 году. Также перспективно выглядит платформа 3ds.  "
   ]
  },
  {
   "cell_type": "markdown",
   "metadata": {},
   "source": [
    "### Построим график boxplot по глобальным продажам игр в разбивке по платформам."
   ]
  },
  {
   "cell_type": "code",
   "execution_count": 26,
   "metadata": {},
   "outputs": [
    {
     "data": {
      "image/png": "[encoded data removed]",
      "text/plain": [
       "<Figure size 432x288 with 1 Axes>"
      ]
     },
     "metadata": {
      "needs_background": "light"
     },
     "output_type": "display_data"
    }
   ],
   "source": [
    "sns.boxplot(x=\"platform\", y=\"total_sales\", data=df_2013)\n",
    "plt.ylim(0, 2)\n",
    "plt.grid()\n",
    "plt.title('Диаграмма размаха по платформам');"
   ]
  },
  {
   "cell_type": "code",
   "execution_count": 27,
   "metadata": {},
   "outputs": [
    {
     "data": {
      "image/png": "[encoded data removed]",
      "text/plain": [
       "<Figure size 720x504 with 1 Axes>"
      ]
     },
     "metadata": {
      "needs_background": "light"
     },
     "output_type": "display_data"
    }
   ],
   "source": [
    "plt.rcParams[\"figure.figsize\"] = (10, 7)\n",
    "sns.boxplot(x=\"platform\", y=\"total_sales\", data=df_2013, order = ['xone', 'ps4', '3ds'])\n",
    "plt.ylim(0, 2)\n",
    "plt.grid()\n",
    "plt.title('Диаграмма размаха для перспективных платформ XOne, PS4 и 3DS');"
   ]
  },
  {
   "cell_type": "markdown",
   "metadata": {},
   "source": [
    "Продажи у XOne и PS4, хотя у PS4 больше выбросов. Средние продажи у PS4 и XOne выше, чем у 3DS. У 3DS разброс цен в два раза меньше и большое количество выбросов. В целом продажи xone и ps4 похожи, может быть большее количество выбросов ps4, связано с большим количеством экслюзивов.  3ds специфическая консоль, уступающая по популярности PS4 и XOne."
   ]
  },
  {
   "cell_type": "markdown",
   "metadata": {},
   "source": [
    "###  Влияние на продажи  внутри одной популярной  платформы  отзывов пользователей и критиков"
   ]
  },
  {
   "cell_type": "markdown",
   "metadata": {},
   "source": [
    "#### Влияние на продажи игр PS3 отзывов пользователей и критиков"
   ]
  },
  {
   "cell_type": "code",
   "execution_count": 28,
   "metadata": {},
   "outputs": [],
   "source": [
    "ps3 = df_2013.query('platform == \"ps3\" and critic_score >= 0 and user_score >= 0')"
   ]
  },
  {
   "cell_type": "code",
   "execution_count": 29,
   "metadata": {},
   "outputs": [
    {
     "name": "stdout",
     "output_type": "stream",
     "text": [
      "Корреляция: 0.3368983682695991\n"
     ]
    },
    {
     "data": {
      "image/png": "[encoded data removed]",
      "text/plain": [
       "<Figure size 1080x360 with 1 Axes>"
      ]
     },
     "metadata": {
      "needs_background": "light"
     },
     "output_type": "display_data"
    }
   ],
   "source": [
    "ps3.plot(y='total_sales',x='critic_score',kind='scatter', figsize=(15,5))\n",
    "plt.title('Влияние на продажи отзывов критиков PS3');\n",
    "print('Корреляция:', ps3['total_sales'].corr(ps3['critic_score']))"
   ]
  },
  {
   "cell_type": "markdown",
   "metadata": {},
   "source": [
    "Связь есть, но не очень сильная, некоторые пользователи ориентируются на оценки критиков"
   ]
  },
  {
   "cell_type": "code",
   "execution_count": 30,
   "metadata": {},
   "outputs": [
    {
     "name": "stdout",
     "output_type": "stream",
     "text": [
      "Корреляция: 0.021034492018154237\n"
     ]
    },
    {
     "data": {
      "image/png": "[encoded data removed]",
      "text/plain": [
       "<Figure size 1080x360 with 1 Axes>"
      ]
     },
     "metadata": {
      "needs_background": "light"
     },
     "output_type": "display_data"
    }
   ],
   "source": [
    "ps3.plot(y='total_sales',x='user_score',kind='scatter', figsize=(15,5))\n",
    "plt.title('Влияние на продажи отзывов пользователей PS3');\n",
    "print('Корреляция:', ps3['total_sales'].corr(ps3['user_score']))"
   ]
  },
  {
   "cell_type": "markdown",
   "metadata": {},
   "source": [
    "Между оценкой пользователей и продажами связи нет, если пользователь поставил оценку он скорее всего уже купил игру."
   ]
  },
  {
   "cell_type": "markdown",
   "metadata": {},
   "source": [
    "#### Влияние на продажи игр PC отзывов пользователей и критиков"
   ]
  },
  {
   "cell_type": "code",
   "execution_count": 31,
   "metadata": {},
   "outputs": [],
   "source": [
    "pc = df_2013.query('platform == \"pc\" and critic_score >= 0 and user_score >= 0')"
   ]
  },
  {
   "cell_type": "code",
   "execution_count": 32,
   "metadata": {},
   "outputs": [
    {
     "name": "stdout",
     "output_type": "stream",
     "text": [
      "Корреляция: -0.10710833990539792\n"
     ]
    },
    {
     "data": {
      "image/png": "[encoded data removed]",
      "text/plain": [
       "<Figure size 1080x360 with 1 Axes>"
      ]
     },
     "metadata": {
      "needs_background": "light"
     },
     "output_type": "display_data"
    }
   ],
   "source": [
    "pc.plot(y='total_sales',x='user_score',kind='scatter', figsize=(15,5))\n",
    "plt.title('Влияние на продажи отзывов пользователей PC');\n",
    "print('Корреляция:', pc['total_sales'].corr(pc['user_score']))"
   ]
  },
  {
   "cell_type": "markdown",
   "metadata": {},
   "source": [
    "Влияния нет"
   ]
  },
  {
   "cell_type": "code",
   "execution_count": 33,
   "metadata": {},
   "outputs": [
    {
     "name": "stdout",
     "output_type": "stream",
     "text": [
      "Корреляция: 0.19505764325016423\n"
     ]
    },
    {
     "data": {
      "image/png": "[encoded data removed]",
      "text/plain": [
       "<Figure size 1080x360 with 1 Axes>"
      ]
     },
     "metadata": {
      "needs_background": "light"
     },
     "output_type": "display_data"
    }
   ],
   "source": [
    "pc.plot(y='total_sales',x='critic_score',kind='scatter', figsize=(15,5))\n",
    "plt.title('Влияние на продажи отзывов пользователей PC');\n",
    "print('Корреляция:', pc['total_sales'].corr(pc['critic_score']))"
   ]
  },
  {
   "cell_type": "markdown",
   "metadata": {},
   "source": [
    "Влияния мало"
   ]
  },
  {
   "cell_type": "markdown",
   "metadata": {},
   "source": [
    "#### Общее влияние на продажи игр отзывов пользователей и критиков"
   ]
  },
  {
   "cell_type": "code",
   "execution_count": 34,
   "metadata": {},
   "outputs": [
    {
     "name": "stdout",
     "output_type": "stream",
     "text": [
      "Корреляция: 0.14474550616244192\n"
     ]
    },
    {
     "data": {
      "image/png": "[encoded data removed]",
      "text/plain": [
       "<Figure size 1080x360 with 1 Axes>"
      ]
     },
     "metadata": {
      "needs_background": "light"
     },
     "output_type": "display_data"
    }
   ],
   "source": [
    "df_2013.query('user_score >=0').plot(y='total_sales',x='user_score',kind='scatter', figsize=(15,5))\n",
    "plt.title('Влияние на продажи отзывов пользователей по всем платформам');\n",
    "print('Корреляция:', df_2013['total_sales'].corr(df_2013['user_score']))#Посмотрим на общую картину"
   ]
  },
  {
   "cell_type": "code",
   "execution_count": 35,
   "metadata": {},
   "outputs": [
    {
     "name": "stdout",
     "output_type": "stream",
     "text": [
      "Корреляция: 0.20470421066000952\n"
     ]
    },
    {
     "data": {
      "image/png": "[encoded data removed]",
      "text/plain": [
       "<Figure size 1080x360 with 1 Axes>"
      ]
     },
     "metadata": {
      "needs_background": "light"
     },
     "output_type": "display_data"
    }
   ],
   "source": [
    "df_2013.query('critic_score >=0').plot(y='total_sales',x='critic_score',kind='scatter', figsize=(15,5))\n",
    "plt.title('Влияние на продажи отзывов пользователей по всем платформам');\n",
    "print('Корреляция:', df_2013['total_sales'].corr(df_2013['critic_score']))"
   ]
  },
  {
   "cell_type": "markdown",
   "metadata": {},
   "source": [
    "Общая корреляция также слабая"
   ]
  },
  {
   "cell_type": "markdown",
   "metadata": {},
   "source": [
    "Некоторые пользователи все же ориентируются на оценки критиков, между оценкой пользователей и продажами связь слабая, если пользователь поставил оценку он скорее всего уже купил игру."
   ]
  },
  {
   "cell_type": "markdown",
   "metadata": {},
   "source": [
    "### Общее распределение игр по жанрам."
   ]
  },
  {
   "cell_type": "code",
   "execution_count": 36,
   "metadata": {
    "scrolled": false
   },
   "outputs": [
    {
     "data": {
      "text/html": [
       "<div>\n",
       "<style scoped>\n",
       "    .dataframe tbody tr th:only-of-type {\n",
       "        vertical-align: middle;\n",
       "    }\n",
       "\n",
       "    .dataframe tbody tr th {\n",
       "        vertical-align: top;\n",
       "    }\n",
       "\n",
       "    .dataframe thead th {\n",
       "        text-align: right;\n",
       "    }\n",
       "</style>\n",
       "<table border=\"1\" class=\"dataframe\">\n",
       "  <thead>\n",
       "    <tr style=\"text-align: right;\">\n",
       "      <th></th>\n",
       "      <th>total_sales</th>\n",
       "    </tr>\n",
       "    <tr>\n",
       "      <th>genre</th>\n",
       "      <th></th>\n",
       "    </tr>\n",
       "  </thead>\n",
       "  <tbody>\n",
       "    <tr>\n",
       "      <th>action</th>\n",
       "      <td>281.12</td>\n",
       "    </tr>\n",
       "    <tr>\n",
       "      <th>shooter</th>\n",
       "      <td>203.93</td>\n",
       "    </tr>\n",
       "    <tr>\n",
       "      <th>role-playing</th>\n",
       "      <td>134.41</td>\n",
       "    </tr>\n",
       "    <tr>\n",
       "      <th>sports</th>\n",
       "      <td>130.80</td>\n",
       "    </tr>\n",
       "    <tr>\n",
       "      <th>misc</th>\n",
       "      <td>55.08</td>\n",
       "    </tr>\n",
       "    <tr>\n",
       "      <th>platform</th>\n",
       "      <td>37.78</td>\n",
       "    </tr>\n",
       "    <tr>\n",
       "      <th>racing</th>\n",
       "      <td>35.23</td>\n",
       "    </tr>\n",
       "    <tr>\n",
       "      <th>fighting</th>\n",
       "      <td>31.68</td>\n",
       "    </tr>\n",
       "    <tr>\n",
       "      <th>adventure</th>\n",
       "      <td>20.41</td>\n",
       "    </tr>\n",
       "    <tr>\n",
       "      <th>simulation</th>\n",
       "      <td>19.78</td>\n",
       "    </tr>\n",
       "    <tr>\n",
       "      <th>strategy</th>\n",
       "      <td>9.27</td>\n",
       "    </tr>\n",
       "    <tr>\n",
       "      <th>puzzle</th>\n",
       "      <td>2.90</td>\n",
       "    </tr>\n",
       "  </tbody>\n",
       "</table>\n",
       "</div>"
      ],
      "text/plain": [
       "              total_sales\n",
       "genre                    \n",
       "action             281.12\n",
       "shooter            203.93\n",
       "role-playing       134.41\n",
       "sports             130.80\n",
       "misc                55.08\n",
       "platform            37.78\n",
       "racing              35.23\n",
       "fighting            31.68\n",
       "adventure           20.41\n",
       "simulation          19.78\n",
       "strategy             9.27\n",
       "puzzle               2.90"
      ]
     },
     "execution_count": 36,
     "metadata": {},
     "output_type": "execute_result"
    }
   ],
   "source": [
    "df_2013.pivot_table(index='genre', values='total_sales', aggfunc='sum').sort_values(by='total_sales', ascending=False)"
   ]
  },
  {
   "cell_type": "code",
   "execution_count": 37,
   "metadata": {},
   "outputs": [
    {
     "data": {
      "image/png": "[encoded data removed]",
      "text/plain": [
       "<Figure size 720x504 with 1 Axes>"
      ]
     },
     "metadata": {
      "needs_background": "light"
     },
     "output_type": "display_data"
    }
   ],
   "source": [
    "(df_2013.pivot_table(index='genre', values='total_sales', aggfunc='sum')\n",
    "    .sort_values(by='total_sales', ascending=False)\n",
    "    .plot(kind='bar', title = 'Общее распределение игр по жанрам'));"
   ]
  },
  {
   "cell_type": "markdown",
   "metadata": {},
   "source": [
    "С большим отрывом лидируют игры в жанре action, второе и третье место с небольшой разницей в продажах заняли спортивные симуляторы и шутеры, но не стоит забывать, что производство игр в жанрах Action или Shooter обходится сильно дороже, чем производство Puzzle-игр."
   ]
  },
  {
   "cell_type": "markdown",
   "metadata": {},
   "source": [
    "## Составим портрет пользователя каждого региона"
   ]
  },
  {
   "cell_type": "markdown",
   "metadata": {},
   "source": [
    "### Самые популярные жанры по регионам"
   ]
  },
  {
   "cell_type": "code",
   "execution_count": 38,
   "metadata": {},
   "outputs": [
    {
     "data": {
      "image/png": "[encoded data removed]",
      "text/plain": [
       "<Figure size 720x504 with 1 Axes>"
      ]
     },
     "metadata": {
      "needs_background": "light"
     },
     "output_type": "display_data"
    }
   ],
   "source": [
    "df_2013.groupby(by='genre').agg({'na_sales':'sum'}).sort_values(by='na_sales', ascending=False).head().plot(kind='bar');\n",
    "plt.title('Северная Америка', fontsize = 20);"
   ]
  },
  {
   "cell_type": "code",
   "execution_count": 39,
   "metadata": {},
   "outputs": [
    {
     "data": {
      "image/png": "[encoded data removed]",
      "text/plain": [
       "<Figure size 720x504 with 1 Axes>"
      ]
     },
     "metadata": {
      "needs_background": "light"
     },
     "output_type": "display_data"
    }
   ],
   "source": [
    "df_2013.groupby(by='genre').agg({'eu_sales':'sum'}).sort_values(by='eu_sales', ascending=False).head().plot(kind='bar')\n",
    "plt.title('Европа', fontsize = 20); "
   ]
  },
  {
   "cell_type": "code",
   "execution_count": 40,
   "metadata": {},
   "outputs": [
    {
     "data": {
      "image/png": "[encoded data removed]",
      "text/plain": [
       "<Figure size 720x504 with 1 Axes>"
      ]
     },
     "metadata": {
      "needs_background": "light"
     },
     "output_type": "display_data"
    }
   ],
   "source": [
    "df_2013.groupby(by='genre').agg({'jp_sales':'sum'}).sort_values(by='jp_sales', ascending=False).head().plot(kind='bar')\n",
    "plt.title('Япония', fontsize = 20);"
   ]
  },
  {
   "cell_type": "markdown",
   "metadata": {},
   "source": [
    "По Северной Америке и Европе в целом картина одинаковая, на первом месте игры в жанре action, 2-3 место делят шутеры и спортивные симуляторы, в Европе больше любят гонки. В Японии же на первом месте жанр RPG."
   ]
  },
  {
   "cell_type": "markdown",
   "metadata": {},
   "source": [
    "### Самые популярные платформы по регионам"
   ]
  },
  {
   "cell_type": "code",
   "execution_count": 41,
   "metadata": {},
   "outputs": [
    {
     "data": {
      "image/png": "[encoded data removed]",
      "text/plain": [
       "<Figure size 720x504 with 1 Axes>"
      ]
     },
     "metadata": {
      "needs_background": "light"
     },
     "output_type": "display_data"
    }
   ],
   "source": [
    "(df_2013\n",
    "     .groupby(by='platform')\n",
    "     .agg({'na_sales':'sum'})\n",
    "     .sort_values(by='na_sales', ascending=False)\n",
    "     .head().plot(kind='bar'))\n",
    "plt.title('Северная Америка', fontsize = 20);"
   ]
  },
  {
   "cell_type": "code",
   "execution_count": 42,
   "metadata": {},
   "outputs": [
    {
     "data": {
      "image/png": "[encoded data removed]",
      "text/plain": [
       "<Figure size 720x504 with 1 Axes>"
      ]
     },
     "metadata": {
      "needs_background": "light"
     },
     "output_type": "display_data"
    }
   ],
   "source": [
    "(df_2013.groupby(by='platform')\n",
    "     .agg({'eu_sales':'sum'})\n",
    "     .sort_values(by='eu_sales', ascending=False)\n",
    "     .head().plot(kind='bar'));\n",
    "plt.title('Европа', fontsize = 20);"
   ]
  },
  {
   "cell_type": "code",
   "execution_count": 43,
   "metadata": {},
   "outputs": [
    {
     "data": {
      "image/png": "[encoded data removed]",
      "text/plain": [
       "<Figure size 720x504 with 1 Axes>"
      ]
     },
     "metadata": {
      "needs_background": "light"
     },
     "output_type": "display_data"
    }
   ],
   "source": [
    "(df_2013.groupby(by='platform')\n",
    "    .agg({'jp_sales':'sum'})\n",
    "    .sort_values(by='jp_sales', ascending=False)\n",
    "    .head().plot(kind='bar'))\n",
    "plt.title('Япония', fontsize = 20);"
   ]
  },
  {
   "cell_type": "markdown",
   "metadata": {},
   "source": [
    "В европе на 1 месте PS3, в США Xbox, в Японии DS. В Японии стране сложилась своя культура видеоигр, там предпочитают игры выпущенные у них в стране и мобильные игры. К тому же у иностранных игр сложности с локализацией."
   ]
  },
  {
   "cell_type": "markdown",
   "metadata": {},
   "source": [
    "### Влияет ли рейтинг ESRB на продажи в отдельном регионе?"
   ]
  },
  {
   "cell_type": "code",
   "execution_count": 44,
   "metadata": {},
   "outputs": [
    {
     "data": {
      "image/png": "[encoded data removed]",
      "text/plain": [
       "<Figure size 720x504 with 1 Axes>"
      ]
     },
     "metadata": {
      "needs_background": "light"
     },
     "output_type": "display_data"
    }
   ],
   "source": [
    "(df_2013\n",
    "    .groupby(by='rating')\n",
    "    .agg({'na_sales':'sum'})\n",
    "    .sort_values(by='na_sales', ascending=False)\n",
    "    .plot(kind='bar'))\n",
    "plt.title('Северная Америка', fontsize = 20);"
   ]
  },
  {
   "cell_type": "code",
   "execution_count": 45,
   "metadata": {},
   "outputs": [
    {
     "data": {
      "image/png": "[encoded data removed]",
      "text/plain": [
       "<Figure size 720x504 with 1 Axes>"
      ]
     },
     "metadata": {
      "needs_background": "light"
     },
     "output_type": "display_data"
    }
   ],
   "source": [
    "(df_2013\n",
    "    .groupby(by='rating')\n",
    "    .agg({'eu_sales':'sum'})\n",
    "    .sort_values(by='eu_sales', ascending=False)\n",
    "    .plot(kind='bar'))\n",
    "plt.title('Европа', fontsize = 20);"
   ]
  },
  {
   "cell_type": "code",
   "execution_count": 46,
   "metadata": {},
   "outputs": [
    {
     "data": {
      "image/png": "[encoded data removed]",
      "text/plain": [
       "<Figure size 720x504 with 1 Axes>"
      ]
     },
     "metadata": {
      "needs_background": "light"
     },
     "output_type": "display_data"
    }
   ],
   "source": [
    "(df_2013\n",
    "    .groupby(by='rating')\n",
    "    .agg({'jp_sales':'sum'})\n",
    "    .sort_values(by='jp_sales', ascending=False)\n",
    "    .plot(kind='bar'))\n",
    "plt.title('Япония', fontsize = 20);"
   ]
  },
  {
   "cell_type": "markdown",
   "metadata": {},
   "source": [
    "У самых продаваемых игр во всех регионах рейинг E(для всех), в Европе и США на втором M(17+), а в Японии T(13+). Видимо отсутствие рейтинга объясняется наличием других рейтинговых систем, например PEGI в Европе или CERO в Японии."
   ]
  },
  {
   "cell_type": "markdown",
   "metadata": {},
   "source": [
    "## Проверка гипотез"
   ]
  },
  {
   "cell_type": "markdown",
   "metadata": {},
   "source": [
    "### Средние пользовательские рейтинги платформ Xbox One и PC одинаковые;"
   ]
  },
  {
   "cell_type": "markdown",
   "metadata": {},
   "source": [
    "* H0 - средние пользовательские рейтинги платформ Xbox One и PC одинаковые\n",
    "* H1 - средние пользовательские рейтинги платформ Xbox One и PC разные"
   ]
  },
  {
   "cell_type": "code",
   "execution_count": 47,
   "metadata": {},
   "outputs": [
    {
     "name": "stdout",
     "output_type": "stream",
     "text": [
      "p-значение: 0.14012658403611647\n",
      "Не получилось отвергнуть нулевую гипотезу\n"
     ]
    }
   ],
   "source": [
    "alpha = 0.05\n",
    "xone = df_2013.query('platform == \"xone\" and user_score != -11')\n",
    "pc = df_2013.query('platform == \"pc\" and user_score != -11')\n",
    "results = st.ttest_ind(\n",
    "    xone['user_score'],\n",
    "    pc['user_score'],\n",
    ")\n",
    "\n",
    "print('p-значение:', results.pvalue)\n",
    "\n",
    "if (results.pvalue < alpha):\n",
    "    print(\"Отвергаем нулевую гипотезу\")\n",
    "else:\n",
    "    print(\"Не получилось отвергнуть нулевую гипотезу\")   "
   ]
  },
  {
   "cell_type": "markdown",
   "metadata": {},
   "source": [
    "Средние пользовательские рейтинги платформ Xbox One и PC отличаются"
   ]
  },
  {
   "cell_type": "markdown",
   "metadata": {},
   "source": [
    "### Средние пользовательские рейтинги жанров Action и Sports разные."
   ]
  },
  {
   "cell_type": "markdown",
   "metadata": {},
   "source": [
    "* H0 - Средние пользовательские рейтинги жанров Action и Sports одинаковые\n",
    "* H1 - Средние пользовательские рейтинги жанров Action и Sports разные."
   ]
  },
  {
   "cell_type": "code",
   "execution_count": 48,
   "metadata": {},
   "outputs": [
    {
     "name": "stdout",
     "output_type": "stream",
     "text": [
      "p-значение: 1.0517832389140023e-27\n",
      "Отвергаем нулевую гипотезу\n"
     ]
    }
   ],
   "source": [
    "alpha = 0.05\n",
    "action = df_2013.query('genre == \"action\" and user_score != -11')\n",
    "sports = df_2013.query('genre == \"sports\" and user_score != -11')\n",
    "results = st.ttest_ind(\n",
    "    action['user_score'],\n",
    "    sports['user_score'],\n",
    ")\n",
    "print('p-значение:', results.pvalue)\n",
    "\n",
    "if (results.pvalue < alpha):\n",
    "    print(\"Отвергаем нулевую гипотезу\")\n",
    "else:\n",
    "    print(\"Не получилось отвергнуть нулевую гипотезу\")"
   ]
  },
  {
   "cell_type": "markdown",
   "metadata": {},
   "source": [
    "Средние пользовательские рейтинги жанров Action и Sports разные."
   ]
  },
  {
   "cell_type": "markdown",
   "metadata": {},
   "source": [
    "## Вывод"
   ]
  },
  {
   "cell_type": "markdown",
   "metadata": {},
   "source": [
    "В ходе исследования мы выяснили, что с период с 2006 по 2016 год наибольшие продажи в мире были у платформ Xbox360, PS3 и Wii. Но с выходом нового поколния приставок продажи на этих консолях падают и растут продажи игр на PS4 и Xbox One. Продажи консоли нового поколения от Nintendo - WiiU провалились. Также растут продажи 3ds в основном за счет японского региона. \n",
    "\n",
    "Выяснили, что пользовательсие оценки и оценки критиков мало влияют на продажу игр. Самые популярные жанры это Action, Sports и Shooter, но в японском регионе самый популярный жанр RPG. Рейтинг ESRB немного влияет на продажи в регионе NA и в целом не влияет в EU, игры с рейтингом M продаются также хорошо как и с рейтингом E. Японский регион как всегда стоит особняком на втором месте игры с рейтингом T. \n",
    "\n",
    "Также проверили две гипотезы и выяснили что средние пользовательские рейтинги платформ Xbox One и PC отличаются и средние пользовательские рейтинги жанров Action и Sports также отличаются."
   ]
  }
 ],
 "metadata": {
  "ExecuteTimeLog": [
   {
    "duration": 1437,
    "start_time": "2021-12-19T12:18:24.263Z"
   },
   {
    "duration": 14,
    "start_time": "2021-12-19T12:20:02.183Z"
   },
   {
    "duration": 12,
    "start_time": "2021-12-19T12:21:58.561Z"
   },
   {
    "duration": 40,
    "start_time": "2021-12-19T12:24:06.848Z"
   },
   {
    "duration": 6648,
    "start_time": "2021-12-19T12:31:34.664Z"
   },
   {
    "duration": 242,
    "start_time": "2021-12-19T12:31:44.411Z"
   },
   {
    "duration": 87,
    "start_time": "2021-12-19T12:33:56.858Z"
   },
   {
    "duration": 13,
    "start_time": "2021-12-19T12:33:59.936Z"
   },
   {
    "duration": 6,
    "start_time": "2021-12-19T12:34:13.218Z"
   },
   {
    "duration": 10,
    "start_time": "2021-12-19T12:34:17.111Z"
   },
   {
    "duration": 34,
    "start_time": "2021-12-19T12:34:21.544Z"
   },
   {
    "duration": 301,
    "start_time": "2021-12-19T12:34:31.837Z"
   },
   {
    "duration": 7,
    "start_time": "2021-12-19T12:34:41.879Z"
   },
   {
    "duration": 24,
    "start_time": "2021-12-19T12:34:42.784Z"
   },
   {
    "duration": 5,
    "start_time": "2021-12-19T12:35:44.663Z"
   },
   {
    "duration": 38,
    "start_time": "2021-12-19T12:35:46.079Z"
   },
   {
    "duration": 26,
    "start_time": "2021-12-19T12:36:32.031Z"
   },
   {
    "duration": 14,
    "start_time": "2021-12-19T12:37:34.588Z"
   },
   {
    "duration": 9,
    "start_time": "2021-12-19T12:37:46.253Z"
   },
   {
    "duration": 21,
    "start_time": "2021-12-19T12:37:46.797Z"
   },
   {
    "duration": 13,
    "start_time": "2021-12-19T12:37:52.397Z"
   },
   {
    "duration": 38,
    "start_time": "2021-12-19T12:37:57.116Z"
   },
   {
    "duration": 9,
    "start_time": "2021-12-19T12:38:07.582Z"
   },
   {
    "duration": 39,
    "start_time": "2021-12-19T12:38:07.949Z"
   },
   {
    "duration": 72,
    "start_time": "2021-12-19T12:38:13.949Z"
   },
   {
    "duration": 1778,
    "start_time": "2021-12-19T12:38:23.468Z"
   },
   {
    "duration": 1779,
    "start_time": "2021-12-19T12:38:23.470Z"
   },
   {
    "duration": 1779,
    "start_time": "2021-12-19T12:38:23.472Z"
   },
   {
    "duration": 85,
    "start_time": "2021-12-19T12:38:29.965Z"
   },
   {
    "duration": 14,
    "start_time": "2021-12-19T12:38:30.180Z"
   },
   {
    "duration": 14,
    "start_time": "2021-12-19T12:38:30.332Z"
   },
   {
    "duration": 9,
    "start_time": "2021-12-19T12:38:30.772Z"
   },
   {
    "duration": 12,
    "start_time": "2021-12-19T12:38:31.276Z"
   },
   {
    "duration": 36,
    "start_time": "2021-12-19T12:38:31.677Z"
   },
   {
    "duration": 97,
    "start_time": "2021-12-19T12:42:20.729Z"
   },
   {
    "duration": 53,
    "start_time": "2021-12-19T12:42:41.794Z"
   },
   {
    "duration": 62,
    "start_time": "2021-12-19T12:42:52.329Z"
   },
   {
    "duration": 48,
    "start_time": "2021-12-19T12:42:58.888Z"
   },
   {
    "duration": 33,
    "start_time": "2021-12-19T12:42:59.320Z"
   },
   {
    "duration": 535,
    "start_time": "2021-12-19T12:47:01.325Z"
   },
   {
    "duration": 5,
    "start_time": "2021-12-19T12:48:38.037Z"
   },
   {
    "duration": 20,
    "start_time": "2021-12-19T12:48:40.411Z"
   },
   {
    "duration": 12,
    "start_time": "2021-12-19T12:49:05.315Z"
   },
   {
    "duration": 9,
    "start_time": "2021-12-19T12:58:21.995Z"
   },
   {
    "duration": 5,
    "start_time": "2021-12-19T12:58:24.003Z"
   },
   {
    "duration": 1452,
    "start_time": "2021-12-19T12:58:39.596Z"
   },
   {
    "duration": 39,
    "start_time": "2021-12-19T12:58:41.051Z"
   },
   {
    "duration": 5,
    "start_time": "2021-12-19T12:58:41.093Z"
   },
   {
    "duration": 529,
    "start_time": "2021-12-19T12:58:41.118Z"
   },
   {
    "duration": 13,
    "start_time": "2021-12-19T12:58:41.650Z"
   },
   {
    "duration": 16,
    "start_time": "2021-12-19T12:58:41.665Z"
   },
   {
    "duration": 5,
    "start_time": "2021-12-19T12:58:53.974Z"
   },
   {
    "duration": 6,
    "start_time": "2021-12-19T12:59:43.309Z"
   },
   {
    "duration": 5,
    "start_time": "2021-12-19T12:59:47.710Z"
   },
   {
    "duration": 9,
    "start_time": "2021-12-19T13:01:52.804Z"
   },
   {
    "duration": 381,
    "start_time": "2021-12-19T13:02:04.651Z"
   },
   {
    "duration": 7,
    "start_time": "2021-12-19T13:02:08.451Z"
   },
   {
    "duration": 6,
    "start_time": "2021-12-19T13:02:10.635Z"
   },
   {
    "duration": 14,
    "start_time": "2021-12-19T13:02:18.938Z"
   },
   {
    "duration": 13,
    "start_time": "2021-12-19T13:10:21.836Z"
   },
   {
    "duration": 13,
    "start_time": "2021-12-19T13:10:31.363Z"
   },
   {
    "duration": 46,
    "start_time": "2021-12-19T13:10:59.212Z"
   },
   {
    "duration": 38,
    "start_time": "2021-12-19T13:11:14.029Z"
   },
   {
    "duration": 623,
    "start_time": "2021-12-19T13:18:28.333Z"
   },
   {
    "duration": 31,
    "start_time": "2021-12-19T13:18:53.126Z"
   },
   {
    "duration": 15,
    "start_time": "2021-12-19T13:19:01.215Z"
   },
   {
    "duration": 27,
    "start_time": "2021-12-19T13:19:09.564Z"
   },
   {
    "duration": 264,
    "start_time": "2021-12-19T13:20:42.612Z"
   },
   {
    "duration": 270,
    "start_time": "2021-12-19T13:20:51.516Z"
   },
   {
    "duration": 243,
    "start_time": "2021-12-19T13:21:05.807Z"
   },
   {
    "duration": 241,
    "start_time": "2021-12-19T13:24:12.235Z"
   },
   {
    "duration": 12,
    "start_time": "2021-12-19T13:24:23.697Z"
   },
   {
    "duration": 10,
    "start_time": "2021-12-19T13:24:32.840Z"
   },
   {
    "duration": 255,
    "start_time": "2021-12-19T13:24:41.480Z"
   },
   {
    "duration": 11,
    "start_time": "2021-12-19T13:24:47.353Z"
   },
   {
    "duration": 13,
    "start_time": "2021-12-19T13:24:52.185Z"
   },
   {
    "duration": 10,
    "start_time": "2021-12-19T13:25:06.935Z"
   },
   {
    "duration": 10,
    "start_time": "2021-12-19T13:25:11.896Z"
   },
   {
    "duration": 11,
    "start_time": "2021-12-19T13:25:44.455Z"
   },
   {
    "duration": 11,
    "start_time": "2021-12-19T13:26:00.591Z"
   },
   {
    "duration": 11,
    "start_time": "2021-12-19T13:26:03.590Z"
   },
   {
    "duration": 11,
    "start_time": "2021-12-19T13:26:10.599Z"
   },
   {
    "duration": 11,
    "start_time": "2021-12-19T13:26:16.519Z"
   },
   {
    "duration": 12,
    "start_time": "2021-12-19T13:26:35.319Z"
   },
   {
    "duration": 11,
    "start_time": "2021-12-19T13:26:59.746Z"
   },
   {
    "duration": 13,
    "start_time": "2021-12-19T13:27:07.783Z"
   },
   {
    "duration": 784,
    "start_time": "2021-12-19T13:28:17.286Z"
   },
   {
    "duration": 298,
    "start_time": "2021-12-20T14:32:35.686Z"
   },
   {
    "duration": 1522,
    "start_time": "2021-12-20T14:32:49.963Z"
   },
   {
    "duration": 28,
    "start_time": "2021-12-20T14:32:51.488Z"
   },
   {
    "duration": 4,
    "start_time": "2021-12-20T14:32:51.519Z"
   },
   {
    "duration": 607,
    "start_time": "2021-12-20T14:32:51.525Z"
   },
   {
    "duration": 28,
    "start_time": "2021-12-20T14:32:52.134Z"
   },
   {
    "duration": 9,
    "start_time": "2021-12-20T14:32:52.164Z"
   },
   {
    "duration": 338,
    "start_time": "2021-12-20T14:32:52.176Z"
   },
   {
    "duration": 1147,
    "start_time": "2021-12-20T14:32:51.369Z"
   },
   {
    "duration": 1146,
    "start_time": "2021-12-20T14:32:51.372Z"
   },
   {
    "duration": 5,
    "start_time": "2021-12-20T14:32:57.837Z"
   },
   {
    "duration": 5,
    "start_time": "2021-12-20T14:33:00.862Z"
   },
   {
    "duration": 270,
    "start_time": "2021-12-20T14:33:02.533Z"
   },
   {
    "duration": 18,
    "start_time": "2021-12-20T14:33:10.141Z"
   },
   {
    "duration": 14,
    "start_time": "2021-12-20T14:33:18.643Z"
   },
   {
    "duration": 17,
    "start_time": "2021-12-20T14:35:25.068Z"
   },
   {
    "duration": 5,
    "start_time": "2021-12-20T14:35:32.619Z"
   },
   {
    "duration": 14,
    "start_time": "2021-12-20T14:35:34.762Z"
   },
   {
    "duration": 19,
    "start_time": "2021-12-20T14:35:40.866Z"
   },
   {
    "duration": 9,
    "start_time": "2021-12-20T14:35:49.306Z"
   },
   {
    "duration": 4,
    "start_time": "2021-12-20T14:38:33.969Z"
   },
   {
    "duration": 9,
    "start_time": "2021-12-20T14:39:05.353Z"
   },
   {
    "duration": 6,
    "start_time": "2021-12-20T14:39:05.599Z"
   },
   {
    "duration": 4,
    "start_time": "2021-12-20T14:39:07.369Z"
   },
   {
    "duration": 7,
    "start_time": "2021-12-20T14:39:30.967Z"
   },
   {
    "duration": 6,
    "start_time": "2021-12-20T14:39:32.616Z"
   },
   {
    "duration": 20,
    "start_time": "2021-12-20T14:39:40.847Z"
   },
   {
    "duration": 8,
    "start_time": "2021-12-20T14:39:47.191Z"
   },
   {
    "duration": 1115,
    "start_time": "2021-12-20T14:39:55.378Z"
   },
   {
    "duration": 30,
    "start_time": "2021-12-20T14:39:56.494Z"
   },
   {
    "duration": 3,
    "start_time": "2021-12-20T14:39:56.527Z"
   },
   {
    "duration": 505,
    "start_time": "2021-12-20T14:39:56.533Z"
   },
   {
    "duration": 12,
    "start_time": "2021-12-20T14:39:57.040Z"
   },
   {
    "duration": 13,
    "start_time": "2021-12-20T14:39:57.054Z"
   },
   {
    "duration": 48,
    "start_time": "2021-12-20T14:39:57.069Z"
   },
   {
    "duration": 11,
    "start_time": "2021-12-20T14:39:57.119Z"
   },
   {
    "duration": 19,
    "start_time": "2021-12-20T14:39:57.132Z"
   },
   {
    "duration": 11,
    "start_time": "2021-12-20T14:39:57.153Z"
   },
   {
    "duration": 7,
    "start_time": "2021-12-20T14:39:57.166Z"
   },
   {
    "duration": 5,
    "start_time": "2021-12-20T14:39:59.740Z"
   },
   {
    "duration": 5,
    "start_time": "2021-12-20T14:40:02.252Z"
   },
   {
    "duration": 23,
    "start_time": "2021-12-20T14:40:03.429Z"
   },
   {
    "duration": 354,
    "start_time": "2021-12-20T14:40:29.859Z"
   },
   {
    "duration": 13,
    "start_time": "2021-12-20T14:40:34.107Z"
   },
   {
    "duration": 15,
    "start_time": "2021-12-20T14:40:37.308Z"
   },
   {
    "duration": 91,
    "start_time": "2021-12-20T14:45:26.561Z"
   },
   {
    "duration": 9,
    "start_time": "2021-12-20T14:45:49.632Z"
   },
   {
    "duration": 21,
    "start_time": "2021-12-20T14:46:15.207Z"
   },
   {
    "duration": 7,
    "start_time": "2021-12-20T14:46:26.032Z"
   },
   {
    "duration": 277,
    "start_time": "2021-12-20T14:47:27.895Z"
   },
   {
    "duration": 21,
    "start_time": "2021-12-20T14:47:50.158Z"
   },
   {
    "duration": 117,
    "start_time": "2021-12-20T14:48:56.301Z"
   },
   {
    "duration": 187,
    "start_time": "2021-12-20T14:49:01.484Z"
   },
   {
    "duration": 180,
    "start_time": "2021-12-20T14:49:19.734Z"
   },
   {
    "duration": 180,
    "start_time": "2021-12-20T14:49:35.732Z"
   },
   {
    "duration": 182,
    "start_time": "2021-12-20T14:49:46.557Z"
   },
   {
    "duration": 6606,
    "start_time": "2021-12-20T14:50:54.563Z"
   },
   {
    "duration": 284,
    "start_time": "2021-12-20T14:51:31.956Z"
   },
   {
    "duration": 8,
    "start_time": "2021-12-20T14:51:49.979Z"
   },
   {
    "duration": 193,
    "start_time": "2021-12-20T14:52:06.947Z"
   },
   {
    "duration": 205,
    "start_time": "2021-12-20T14:56:07.759Z"
   },
   {
    "duration": 172,
    "start_time": "2021-12-20T14:56:12.398Z"
   },
   {
    "duration": 5677,
    "start_time": "2021-12-20T14:57:01.255Z"
   },
   {
    "duration": 6109,
    "start_time": "2021-12-20T14:57:26.951Z"
   },
   {
    "duration": 7,
    "start_time": "2021-12-20T14:57:55.342Z"
   },
   {
    "duration": 244,
    "start_time": "2021-12-20T14:58:11.247Z"
   },
   {
    "duration": 645,
    "start_time": "2021-12-20T14:58:30.246Z"
   },
   {
    "duration": 257,
    "start_time": "2021-12-20T14:58:39.693Z"
   },
   {
    "duration": 255,
    "start_time": "2021-12-20T14:59:24.525Z"
   },
   {
    "duration": 287,
    "start_time": "2021-12-20T14:59:36.821Z"
   },
   {
    "duration": 31,
    "start_time": "2021-12-20T14:59:43.685Z"
   },
   {
    "duration": 258,
    "start_time": "2021-12-20T15:00:08.685Z"
   },
   {
    "duration": 20,
    "start_time": "2021-12-20T15:00:14.873Z"
   },
   {
    "duration": 168,
    "start_time": "2021-12-20T15:00:43.292Z"
   },
   {
    "duration": 1246,
    "start_time": "2021-12-20T15:01:02.955Z"
   },
   {
    "duration": 16,
    "start_time": "2021-12-20T15:05:52.504Z"
   },
   {
    "duration": 17,
    "start_time": "2021-12-20T15:06:09.358Z"
   },
   {
    "duration": 16,
    "start_time": "2021-12-20T15:06:23.951Z"
   },
   {
    "duration": 14,
    "start_time": "2021-12-20T15:06:57.037Z"
   },
   {
    "duration": 423,
    "start_time": "2021-12-20T15:09:39.634Z"
   },
   {
    "duration": 12,
    "start_time": "2021-12-20T15:09:43.827Z"
   },
   {
    "duration": 37,
    "start_time": "2021-12-20T15:10:23.122Z"
   },
   {
    "duration": 84,
    "start_time": "2021-12-20T15:10:27.970Z"
   },
   {
    "duration": 35,
    "start_time": "2021-12-20T15:10:31.697Z"
   },
   {
    "duration": 250,
    "start_time": "2021-12-20T15:10:50.019Z"
   },
   {
    "duration": 26,
    "start_time": "2021-12-20T15:11:57.202Z"
   },
   {
    "duration": 10,
    "start_time": "2021-12-20T15:12:01.697Z"
   },
   {
    "duration": 9,
    "start_time": "2021-12-20T15:12:05.856Z"
   },
   {
    "duration": 635,
    "start_time": "2021-12-20T15:12:19.177Z"
   },
   {
    "duration": 20,
    "start_time": "2021-12-20T15:13:09.416Z"
   },
   {
    "duration": 10,
    "start_time": "2021-12-20T15:13:41.992Z"
   },
   {
    "duration": 29,
    "start_time": "2021-12-20T15:14:01.424Z"
   },
   {
    "duration": 20,
    "start_time": "2021-12-20T15:14:09.799Z"
   },
   {
    "duration": 29,
    "start_time": "2021-12-20T15:14:27.023Z"
   },
   {
    "duration": 28,
    "start_time": "2021-12-20T15:14:31.563Z"
   },
   {
    "duration": 12,
    "start_time": "2021-12-20T15:14:37.879Z"
   },
   {
    "duration": 260,
    "start_time": "2021-12-20T15:15:55.472Z"
   },
   {
    "duration": 11,
    "start_time": "2021-12-20T15:16:00.398Z"
   },
   {
    "duration": 239,
    "start_time": "2021-12-20T15:16:38.526Z"
   },
   {
    "duration": 250,
    "start_time": "2021-12-20T15:16:43.685Z"
   },
   {
    "duration": 8,
    "start_time": "2021-12-20T15:16:49.500Z"
   },
   {
    "duration": 1600,
    "start_time": "2021-12-20T15:17:32.292Z"
   },
   {
    "duration": 47,
    "start_time": "2021-12-20T15:17:33.895Z"
   },
   {
    "duration": 16,
    "start_time": "2021-12-20T15:17:33.944Z"
   },
   {
    "duration": 523,
    "start_time": "2021-12-20T15:17:33.962Z"
   },
   {
    "duration": 17,
    "start_time": "2021-12-20T15:17:34.488Z"
   },
   {
    "duration": 9,
    "start_time": "2021-12-20T15:17:34.508Z"
   },
   {
    "duration": 51,
    "start_time": "2021-12-20T15:17:34.519Z"
   },
   {
    "duration": 61,
    "start_time": "2021-12-20T15:17:34.574Z"
   },
   {
    "duration": 40,
    "start_time": "2021-12-20T15:17:34.638Z"
   },
   {
    "duration": 26,
    "start_time": "2021-12-20T15:17:34.681Z"
   },
   {
    "duration": 11,
    "start_time": "2021-12-20T15:17:34.710Z"
   },
   {
    "duration": 56,
    "start_time": "2021-12-20T15:17:34.723Z"
   },
   {
    "duration": 4,
    "start_time": "2021-12-20T15:17:43.261Z"
   },
   {
    "duration": 5,
    "start_time": "2021-12-20T15:17:46.452Z"
   },
   {
    "duration": 14,
    "start_time": "2021-12-20T15:18:01.565Z"
   },
   {
    "duration": 87,
    "start_time": "2021-12-20T15:19:26.283Z"
   },
   {
    "duration": 219,
    "start_time": "2021-12-20T15:19:31.291Z"
   },
   {
    "duration": 9,
    "start_time": "2021-12-20T15:19:50.323Z"
   },
   {
    "duration": 8,
    "start_time": "2021-12-20T15:20:43.227Z"
   },
   {
    "duration": 196,
    "start_time": "2021-12-20T15:21:08.163Z"
   },
   {
    "duration": 363,
    "start_time": "2021-12-20T15:27:37.844Z"
   },
   {
    "duration": 197,
    "start_time": "2021-12-20T15:27:44.085Z"
   },
   {
    "duration": 90,
    "start_time": "2021-12-20T15:27:47.788Z"
   },
   {
    "duration": 175,
    "start_time": "2021-12-20T15:27:52.533Z"
   },
   {
    "duration": 8938,
    "start_time": "2021-12-20T15:28:32.541Z"
   },
   {
    "duration": 169,
    "start_time": "2021-12-20T15:28:43.485Z"
   },
   {
    "duration": 307,
    "start_time": "2021-12-20T15:29:41.436Z"
   },
   {
    "duration": 187,
    "start_time": "2021-12-20T15:30:04.276Z"
   },
   {
    "duration": 584,
    "start_time": "2021-12-20T15:30:26.787Z"
   },
   {
    "duration": 11,
    "start_time": "2021-12-20T15:38:09.284Z"
   },
   {
    "duration": 284,
    "start_time": "2021-12-20T15:38:29.247Z"
   },
   {
    "duration": 340,
    "start_time": "2021-12-20T15:38:58.348Z"
   },
   {
    "duration": 291,
    "start_time": "2021-12-20T15:39:24.747Z"
   },
   {
    "duration": 316,
    "start_time": "2021-12-20T15:40:04.403Z"
   },
   {
    "duration": 532,
    "start_time": "2021-12-20T15:40:29.618Z"
   },
   {
    "duration": 196,
    "start_time": "2021-12-20T15:40:39.482Z"
   },
   {
    "duration": 283,
    "start_time": "2021-12-20T15:40:40.970Z"
   },
   {
    "duration": 213,
    "start_time": "2021-12-20T15:41:01.706Z"
   },
   {
    "duration": 175,
    "start_time": "2021-12-20T15:41:13.106Z"
   },
   {
    "duration": 162,
    "start_time": "2021-12-20T15:41:22.970Z"
   },
   {
    "duration": 286,
    "start_time": "2021-12-20T15:41:34.674Z"
   },
   {
    "duration": 157,
    "start_time": "2021-12-20T15:41:46.250Z"
   },
   {
    "duration": 427,
    "start_time": "2021-12-20T15:42:47.697Z"
   },
   {
    "duration": 307,
    "start_time": "2021-12-20T15:42:51.058Z"
   },
   {
    "duration": 382,
    "start_time": "2021-12-20T15:43:09.089Z"
   },
   {
    "duration": 386,
    "start_time": "2021-12-20T17:04:01.524Z"
   },
   {
    "duration": 372,
    "start_time": "2021-12-20T17:04:29.220Z"
   },
   {
    "duration": 357,
    "start_time": "2021-12-20T17:07:33.088Z"
   },
   {
    "duration": 40,
    "start_time": "2021-12-20T17:07:42.896Z"
   },
   {
    "duration": 30,
    "start_time": "2021-12-20T17:07:58.162Z"
   },
   {
    "duration": 303,
    "start_time": "2021-12-20T17:08:07.186Z"
   },
   {
    "duration": 135,
    "start_time": "2021-12-20T17:08:14.172Z"
   },
   {
    "duration": 39,
    "start_time": "2021-12-20T17:08:25.265Z"
   },
   {
    "duration": 41,
    "start_time": "2021-12-20T17:08:32.585Z"
   },
   {
    "duration": 39,
    "start_time": "2021-12-20T17:08:35.080Z"
   },
   {
    "duration": 38,
    "start_time": "2021-12-20T17:08:59.281Z"
   },
   {
    "duration": 64,
    "start_time": "2021-12-20T17:13:19.357Z"
   },
   {
    "duration": 58,
    "start_time": "2021-12-20T17:14:04.133Z"
   },
   {
    "duration": 41,
    "start_time": "2021-12-20T17:16:01.268Z"
   },
   {
    "duration": 82,
    "start_time": "2021-12-20T17:16:05.419Z"
   },
   {
    "duration": 41,
    "start_time": "2021-12-20T17:16:11.233Z"
   },
   {
    "duration": 409,
    "start_time": "2021-12-21T12:05:33.184Z"
   },
   {
    "duration": 1795,
    "start_time": "2021-12-21T12:05:40.618Z"
   },
   {
    "duration": 70,
    "start_time": "2021-12-21T12:05:42.417Z"
   },
   {
    "duration": 5,
    "start_time": "2021-12-21T12:05:42.491Z"
   },
   {
    "duration": 657,
    "start_time": "2021-12-21T12:05:42.499Z"
   },
   {
    "duration": 19,
    "start_time": "2021-12-21T12:05:43.159Z"
   },
   {
    "duration": 10,
    "start_time": "2021-12-21T12:05:43.180Z"
   },
   {
    "duration": 32,
    "start_time": "2021-12-21T12:05:43.192Z"
   },
   {
    "duration": 82,
    "start_time": "2021-12-21T12:05:43.228Z"
   },
   {
    "duration": 27,
    "start_time": "2021-12-21T12:05:43.313Z"
   },
   {
    "duration": 25,
    "start_time": "2021-12-21T12:05:43.367Z"
   },
   {
    "duration": 9,
    "start_time": "2021-12-21T12:05:43.394Z"
   },
   {
    "duration": 29,
    "start_time": "2021-12-21T12:05:43.406Z"
   },
   {
    "duration": 40,
    "start_time": "2021-12-21T12:05:43.437Z"
   },
   {
    "duration": 319,
    "start_time": "2021-12-21T12:05:43.479Z"
   },
   {
    "duration": 408,
    "start_time": "2021-12-21T12:05:43.800Z"
   },
   {
    "duration": 69,
    "start_time": "2021-12-21T12:05:44.141Z"
   },
   {
    "duration": 668,
    "start_time": "2021-12-21T12:06:00.533Z"
   },
   {
    "duration": 295,
    "start_time": "2021-12-21T12:06:12.141Z"
   },
   {
    "duration": 5590,
    "start_time": "2021-12-21T12:06:18.596Z"
   },
   {
    "duration": 81,
    "start_time": "2021-12-21T12:06:44.884Z"
   },
   {
    "duration": 604,
    "start_time": "2021-12-21T12:06:56.580Z"
   },
   {
    "duration": 328,
    "start_time": "2021-12-21T12:09:07.068Z"
   },
   {
    "duration": 66,
    "start_time": "2021-12-21T12:09:13.603Z"
   },
   {
    "duration": 9,
    "start_time": "2021-12-21T12:16:55.210Z"
   },
   {
    "duration": 847,
    "start_time": "2021-12-21T12:17:01.611Z"
   },
   {
    "duration": 9,
    "start_time": "2021-12-21T12:38:21.936Z"
   },
   {
    "duration": 682,
    "start_time": "2021-12-21T12:38:22.464Z"
   },
   {
    "duration": 55,
    "start_time": "2021-12-21T12:40:03.760Z"
   },
   {
    "duration": 48,
    "start_time": "2021-12-21T12:40:05.857Z"
   },
   {
    "duration": 47,
    "start_time": "2021-12-21T12:40:52.167Z"
   },
   {
    "duration": 49,
    "start_time": "2021-12-21T12:41:05.526Z"
   },
   {
    "duration": 286,
    "start_time": "2021-12-21T14:00:45.569Z"
   },
   {
    "duration": 802,
    "start_time": "2021-12-21T14:01:33.401Z"
   },
   {
    "duration": 41,
    "start_time": "2021-12-21T14:02:43.512Z"
   },
   {
    "duration": 284,
    "start_time": "2021-12-21T14:09:58.906Z"
   },
   {
    "duration": 25,
    "start_time": "2021-12-21T14:10:02.035Z"
   },
   {
    "duration": 8181,
    "start_time": "2021-12-21T14:10:04.344Z"
   },
   {
    "duration": 41,
    "start_time": "2021-12-21T14:19:54.388Z"
   },
   {
    "duration": 62,
    "start_time": "2021-12-21T14:21:01.413Z"
   },
   {
    "duration": 619,
    "start_time": "2021-12-21T14:22:18.480Z"
   },
   {
    "duration": 192,
    "start_time": "2021-12-21T14:25:18.335Z"
   },
   {
    "duration": 423,
    "start_time": "2021-12-21T14:26:11.550Z"
   },
   {
    "duration": 456,
    "start_time": "2021-12-21T14:26:17.628Z"
   },
   {
    "duration": 403,
    "start_time": "2021-12-21T14:26:30.387Z"
   },
   {
    "duration": 393,
    "start_time": "2021-12-21T14:27:35.244Z"
   },
   {
    "duration": 546,
    "start_time": "2021-12-21T14:27:42.707Z"
   },
   {
    "duration": 385,
    "start_time": "2021-12-21T14:27:47.043Z"
   },
   {
    "duration": 433,
    "start_time": "2021-12-21T14:27:54.210Z"
   },
   {
    "duration": 427,
    "start_time": "2021-12-21T14:28:05.491Z"
   },
   {
    "duration": 1086,
    "start_time": "2021-12-21T14:28:21.819Z"
   },
   {
    "duration": 525,
    "start_time": "2021-12-21T14:28:48.779Z"
   },
   {
    "duration": 530,
    "start_time": "2021-12-21T14:30:03.865Z"
   },
   {
    "duration": 54,
    "start_time": "2021-12-21T14:33:28.637Z"
   },
   {
    "duration": 740,
    "start_time": "2021-12-21T15:11:02.383Z"
   },
   {
    "duration": 503,
    "start_time": "2021-12-21T15:11:09.967Z"
   },
   {
    "duration": 411,
    "start_time": "2021-12-21T15:11:34.710Z"
   },
   {
    "duration": 565,
    "start_time": "2021-12-21T15:11:42.622Z"
   },
   {
    "duration": 980,
    "start_time": "2021-12-21T15:12:29.926Z"
   },
   {
    "duration": 297,
    "start_time": "2021-12-21T15:23:54.670Z"
   },
   {
    "duration": 41,
    "start_time": "2021-12-21T15:25:48.988Z"
   },
   {
    "duration": 268,
    "start_time": "2021-12-21T15:26:11.662Z"
   },
   {
    "duration": 316,
    "start_time": "2021-12-21T15:26:16.084Z"
   },
   {
    "duration": 316,
    "start_time": "2021-12-21T15:26:22.930Z"
   },
   {
    "duration": 292,
    "start_time": "2021-12-21T15:26:32.452Z"
   },
   {
    "duration": 9,
    "start_time": "2021-12-21T15:26:43.956Z"
   },
   {
    "duration": 32,
    "start_time": "2021-12-21T15:26:46.457Z"
   },
   {
    "duration": 313,
    "start_time": "2021-12-21T15:27:04.652Z"
   },
   {
    "duration": 288,
    "start_time": "2021-12-21T15:27:17.099Z"
   },
   {
    "duration": 275,
    "start_time": "2021-12-21T15:27:23.659Z"
   },
   {
    "duration": 696,
    "start_time": "2021-12-21T15:28:11.640Z"
   },
   {
    "duration": 561,
    "start_time": "2021-12-21T15:28:25.640Z"
   },
   {
    "duration": 10,
    "start_time": "2021-12-21T15:29:33.791Z"
   },
   {
    "duration": 36,
    "start_time": "2021-12-21T15:29:36.903Z"
   },
   {
    "duration": 48,
    "start_time": "2021-12-21T15:30:01.231Z"
   },
   {
    "duration": 40,
    "start_time": "2021-12-21T15:30:18.128Z"
   },
   {
    "duration": 9,
    "start_time": "2021-12-21T15:31:17.513Z"
   },
   {
    "duration": 101,
    "start_time": "2021-12-21T15:31:23.030Z"
   },
   {
    "duration": 32,
    "start_time": "2021-12-21T15:31:25.513Z"
   },
   {
    "duration": 19,
    "start_time": "2021-12-21T15:31:47.392Z"
   },
   {
    "duration": 290,
    "start_time": "2021-12-21T15:31:52.792Z"
   },
   {
    "duration": 34,
    "start_time": "2021-12-21T15:31:57.550Z"
   },
   {
    "duration": 33,
    "start_time": "2021-12-21T15:32:03.650Z"
   },
   {
    "duration": 38,
    "start_time": "2021-12-21T15:32:30.497Z"
   },
   {
    "duration": 14,
    "start_time": "2021-12-21T15:32:33.913Z"
   },
   {
    "duration": 39,
    "start_time": "2021-12-21T15:33:03.424Z"
   },
   {
    "duration": 518,
    "start_time": "2021-12-21T15:33:50.654Z"
   },
   {
    "duration": 349,
    "start_time": "2021-12-21T15:34:31.736Z"
   },
   {
    "duration": 6,
    "start_time": "2021-12-21T15:34:34.100Z"
   },
   {
    "duration": 11,
    "start_time": "2021-12-21T15:34:54.540Z"
   },
   {
    "duration": 492,
    "start_time": "2021-12-21T15:35:14.989Z"
   },
   {
    "duration": 689,
    "start_time": "2021-12-21T15:35:53.299Z"
   },
   {
    "duration": 30,
    "start_time": "2021-12-21T15:36:34.619Z"
   },
   {
    "duration": 275,
    "start_time": "2021-12-21T15:37:04.379Z"
   },
   {
    "duration": 274,
    "start_time": "2021-12-21T15:37:07.883Z"
   },
   {
    "duration": 273,
    "start_time": "2021-12-21T15:37:13.802Z"
   },
   {
    "duration": 88,
    "start_time": "2021-12-21T15:37:18.257Z"
   },
   {
    "duration": 313,
    "start_time": "2021-12-21T15:37:20.862Z"
   },
   {
    "duration": 379,
    "start_time": "2021-12-21T15:37:31.529Z"
   },
   {
    "duration": 268,
    "start_time": "2021-12-21T15:38:44.808Z"
   },
   {
    "duration": 9,
    "start_time": "2021-12-21T15:39:01.634Z"
   },
   {
    "duration": 1672,
    "start_time": "2021-12-21T15:39:18.625Z"
   },
   {
    "duration": 49,
    "start_time": "2021-12-21T15:39:20.300Z"
   },
   {
    "duration": 5,
    "start_time": "2021-12-21T15:39:20.367Z"
   },
   {
    "duration": 614,
    "start_time": "2021-12-21T15:39:20.374Z"
   },
   {
    "duration": 15,
    "start_time": "2021-12-21T15:39:20.991Z"
   },
   {
    "duration": 10,
    "start_time": "2021-12-21T15:39:21.008Z"
   },
   {
    "duration": 66,
    "start_time": "2021-12-21T15:39:21.020Z"
   },
   {
    "duration": 62,
    "start_time": "2021-12-21T15:39:21.090Z"
   },
   {
    "duration": 37,
    "start_time": "2021-12-21T15:39:21.155Z"
   },
   {
    "duration": 26,
    "start_time": "2021-12-21T15:39:21.194Z"
   },
   {
    "duration": 45,
    "start_time": "2021-12-21T15:39:21.222Z"
   },
   {
    "duration": 35,
    "start_time": "2021-12-21T15:39:21.269Z"
   },
   {
    "duration": 9,
    "start_time": "2021-12-21T15:39:21.307Z"
   },
   {
    "duration": 348,
    "start_time": "2021-12-21T15:39:21.319Z"
   },
   {
    "duration": 69,
    "start_time": "2021-12-21T15:39:21.670Z"
   },
   {
    "duration": 25,
    "start_time": "2021-12-21T15:39:21.742Z"
   },
   {
    "duration": 551,
    "start_time": "2021-12-21T15:39:21.770Z"
   },
   {
    "duration": 66,
    "start_time": "2021-12-21T15:39:22.324Z"
   },
   {
    "duration": 33,
    "start_time": "2021-12-21T15:39:22.393Z"
   },
   {
    "duration": 847,
    "start_time": "2021-12-21T15:39:22.428Z"
   },
   {
    "duration": 534,
    "start_time": "2021-12-21T15:39:23.278Z"
   },
   {
    "duration": 13,
    "start_time": "2021-12-21T15:39:23.815Z"
   },
   {
    "duration": 609,
    "start_time": "2021-12-21T15:39:23.832Z"
   },
   {
    "duration": 597,
    "start_time": "2021-12-21T15:39:24.444Z"
   },
   {
    "duration": 9,
    "start_time": "2021-12-21T15:39:25.044Z"
   },
   {
    "duration": 662,
    "start_time": "2021-12-21T15:40:05.979Z"
   },
   {
    "duration": 314,
    "start_time": "2021-12-21T15:40:13.044Z"
   },
   {
    "duration": 409,
    "start_time": "2021-12-21T15:40:31.189Z"
   },
   {
    "duration": 402,
    "start_time": "2021-12-21T15:40:36.716Z"
   },
   {
    "duration": 419,
    "start_time": "2021-12-21T15:40:48.491Z"
   },
   {
    "duration": 407,
    "start_time": "2021-12-21T15:40:57.360Z"
   },
   {
    "duration": 11,
    "start_time": "2021-12-21T15:41:21.123Z"
   },
   {
    "duration": 15,
    "start_time": "2021-12-21T15:46:57.102Z"
   },
   {
    "duration": 552,
    "start_time": "2021-12-21T15:47:00.561Z"
   },
   {
    "duration": 44,
    "start_time": "2021-12-21T15:47:11.147Z"
   },
   {
    "duration": 709,
    "start_time": "2021-12-21T15:47:24.197Z"
   },
   {
    "duration": 14,
    "start_time": "2021-12-21T15:47:26.166Z"
   },
   {
    "duration": 654,
    "start_time": "2021-12-21T15:47:26.592Z"
   },
   {
    "duration": 1691,
    "start_time": "2021-12-21T16:45:10.558Z"
   },
   {
    "duration": 47,
    "start_time": "2021-12-21T16:45:12.253Z"
   },
   {
    "duration": 4,
    "start_time": "2021-12-21T16:45:12.303Z"
   },
   {
    "duration": 717,
    "start_time": "2021-12-21T16:45:12.310Z"
   },
   {
    "duration": 16,
    "start_time": "2021-12-21T16:45:13.030Z"
   },
   {
    "duration": 23,
    "start_time": "2021-12-21T16:45:13.049Z"
   },
   {
    "duration": 49,
    "start_time": "2021-12-21T16:45:13.075Z"
   },
   {
    "duration": 84,
    "start_time": "2021-12-21T16:45:13.129Z"
   },
   {
    "duration": 26,
    "start_time": "2021-12-21T16:45:13.216Z"
   },
   {
    "duration": 45,
    "start_time": "2021-12-21T16:45:13.245Z"
   },
   {
    "duration": 13,
    "start_time": "2021-12-21T16:45:13.293Z"
   },
   {
    "duration": 70,
    "start_time": "2021-12-21T16:45:13.309Z"
   },
   {
    "duration": 10,
    "start_time": "2021-12-21T16:45:13.382Z"
   },
   {
    "duration": 346,
    "start_time": "2021-12-21T16:45:13.395Z"
   },
   {
    "duration": 78,
    "start_time": "2021-12-21T16:45:13.744Z"
   },
   {
    "duration": 9,
    "start_time": "2021-12-21T16:45:13.825Z"
   },
   {
    "duration": 470,
    "start_time": "2021-12-21T16:45:13.837Z"
   },
   {
    "duration": 63,
    "start_time": "2021-12-21T16:45:14.309Z"
   },
   {
    "duration": 29,
    "start_time": "2021-12-21T16:45:14.375Z"
   },
   {
    "duration": 739,
    "start_time": "2021-12-21T16:45:14.407Z"
   },
   {
    "duration": 521,
    "start_time": "2021-12-21T16:45:15.149Z"
   },
   {
    "duration": 12,
    "start_time": "2021-12-21T16:45:15.674Z"
   },
   {
    "duration": 593,
    "start_time": "2021-12-21T16:45:15.692Z"
   },
   {
    "duration": 509,
    "start_time": "2021-12-21T16:45:16.288Z"
   },
   {
    "duration": 214,
    "start_time": "2021-12-22T06:29:32.547Z"
   },
   {
    "duration": 1142,
    "start_time": "2021-12-22T06:29:38.702Z"
   },
   {
    "duration": 30,
    "start_time": "2021-12-22T06:29:39.846Z"
   },
   {
    "duration": 3,
    "start_time": "2021-12-22T06:29:39.878Z"
   },
   {
    "duration": 282,
    "start_time": "2021-12-22T06:29:39.883Z"
   },
   {
    "duration": 11,
    "start_time": "2021-12-22T06:29:40.167Z"
   },
   {
    "duration": 6,
    "start_time": "2021-12-22T06:29:40.179Z"
   },
   {
    "duration": 21,
    "start_time": "2021-12-22T06:29:40.187Z"
   },
   {
    "duration": 35,
    "start_time": "2021-12-22T06:29:40.211Z"
   },
   {
    "duration": 18,
    "start_time": "2021-12-22T06:29:40.248Z"
   },
   {
    "duration": 36,
    "start_time": "2021-12-22T06:29:40.267Z"
   },
   {
    "duration": 6,
    "start_time": "2021-12-22T06:29:40.305Z"
   },
   {
    "duration": 19,
    "start_time": "2021-12-22T06:29:40.313Z"
   },
   {
    "duration": 6,
    "start_time": "2021-12-22T06:29:40.334Z"
   },
   {
    "duration": 215,
    "start_time": "2021-12-22T06:29:40.342Z"
   },
   {
    "duration": 46,
    "start_time": "2021-12-22T06:29:40.559Z"
   },
   {
    "duration": 6,
    "start_time": "2021-12-22T06:29:40.606Z"
   },
   {
    "duration": 270,
    "start_time": "2021-12-22T06:29:40.613Z"
   },
   {
    "duration": 30,
    "start_time": "2021-12-22T06:29:40.885Z"
   },
   {
    "duration": 17,
    "start_time": "2021-12-22T06:29:40.917Z"
   },
   {
    "duration": 437,
    "start_time": "2021-12-22T06:29:40.935Z"
   },
   {
    "duration": 312,
    "start_time": "2021-12-22T06:29:41.374Z"
   },
   {
    "duration": 8,
    "start_time": "2021-12-22T06:29:41.692Z"
   },
   {
    "duration": 396,
    "start_time": "2021-12-22T06:29:41.702Z"
   },
   {
    "duration": 365,
    "start_time": "2021-12-22T06:29:42.100Z"
   },
   {
    "duration": 461,
    "start_time": "2021-12-22T06:29:42.466Z"
   },
   {
    "duration": 271,
    "start_time": "2021-12-22T06:36:56.218Z"
   },
   {
    "duration": 389,
    "start_time": "2021-12-22T06:37:17.081Z"
   },
   {
    "duration": 198,
    "start_time": "2021-12-22T06:37:27.538Z"
   },
   {
    "duration": 449,
    "start_time": "2021-12-22T06:37:41.857Z"
   },
   {
    "duration": 410,
    "start_time": "2021-12-22T06:38:49.655Z"
   },
   {
    "duration": 433,
    "start_time": "2021-12-22T06:39:20.960Z"
   },
   {
    "duration": 8,
    "start_time": "2021-12-22T06:40:51.894Z"
   },
   {
    "duration": 393,
    "start_time": "2021-12-22T06:40:52.271Z"
   },
   {
    "duration": 180,
    "start_time": "2021-12-22T06:41:02.654Z"
   },
   {
    "duration": 370,
    "start_time": "2021-12-22T06:41:02.997Z"
   },
   {
    "duration": 9,
    "start_time": "2021-12-22T06:41:15.430Z"
   },
   {
    "duration": 335,
    "start_time": "2021-12-22T06:41:15.719Z"
   },
   {
    "duration": 397,
    "start_time": "2021-12-22T06:41:20.501Z"
   },
   {
    "duration": 361,
    "start_time": "2021-12-22T06:41:23.022Z"
   },
   {
    "duration": 485,
    "start_time": "2021-12-22T06:41:31.015Z"
   },
   {
    "duration": 398,
    "start_time": "2021-12-22T06:42:07.957Z"
   },
   {
    "duration": 414,
    "start_time": "2021-12-22T06:42:15.165Z"
   },
   {
    "duration": 539,
    "start_time": "2021-12-22T06:42:47.901Z"
   },
   {
    "duration": 61,
    "start_time": "2021-12-22T06:43:00.942Z"
   },
   {
    "duration": 55,
    "start_time": "2021-12-22T06:43:03.956Z"
   },
   {
    "duration": 381,
    "start_time": "2021-12-22T06:43:08.412Z"
   },
   {
    "duration": 397,
    "start_time": "2021-12-22T06:43:30.788Z"
   },
   {
    "duration": 14,
    "start_time": "2021-12-22T06:47:51.240Z"
   },
   {
    "duration": 12,
    "start_time": "2021-12-22T06:48:22.888Z"
   },
   {
    "duration": 188,
    "start_time": "2021-12-22T06:48:26.327Z"
   },
   {
    "duration": 252,
    "start_time": "2021-12-22T06:48:41.647Z"
   },
   {
    "duration": 69,
    "start_time": "2021-12-22T06:49:01.903Z"
   },
   {
    "duration": 236,
    "start_time": "2021-12-22T06:49:09.399Z"
   },
   {
    "duration": 63,
    "start_time": "2021-12-22T06:49:39.760Z"
   },
   {
    "duration": 15,
    "start_time": "2021-12-22T06:49:43.216Z"
   },
   {
    "duration": 14,
    "start_time": "2021-12-22T06:51:32.781Z"
   },
   {
    "duration": 192,
    "start_time": "2021-12-22T06:59:36.911Z"
   },
   {
    "duration": 10,
    "start_time": "2021-12-22T06:59:43.902Z"
   },
   {
    "duration": 10,
    "start_time": "2021-12-22T06:59:56.497Z"
   },
   {
    "duration": 211,
    "start_time": "2021-12-22T07:01:32.407Z"
   },
   {
    "duration": 205,
    "start_time": "2021-12-22T07:01:37.813Z"
   },
   {
    "duration": 207,
    "start_time": "2021-12-22T07:02:19.486Z"
   },
   {
    "duration": 281,
    "start_time": "2021-12-22T07:02:47.036Z"
   },
   {
    "duration": 259,
    "start_time": "2021-12-22T07:05:08.201Z"
   },
   {
    "duration": 258,
    "start_time": "2021-12-22T07:05:16.633Z"
   },
   {
    "duration": 249,
    "start_time": "2021-12-22T07:05:35.560Z"
   },
   {
    "duration": 215,
    "start_time": "2021-12-22T07:16:20.534Z"
   },
   {
    "duration": 210,
    "start_time": "2021-12-22T07:16:32.671Z"
   },
   {
    "duration": 199,
    "start_time": "2021-12-22T07:16:35.358Z"
   },
   {
    "duration": 208,
    "start_time": "2021-12-22T07:16:38.286Z"
   },
   {
    "duration": 207,
    "start_time": "2021-12-22T07:21:16.186Z"
   },
   {
    "duration": 211,
    "start_time": "2021-12-22T07:21:57.225Z"
   },
   {
    "duration": 57,
    "start_time": "2021-12-22T07:22:08.497Z"
   },
   {
    "duration": 215,
    "start_time": "2021-12-22T07:22:49.248Z"
   },
   {
    "duration": 56,
    "start_time": "2021-12-22T07:23:22.056Z"
   },
   {
    "duration": 194,
    "start_time": "2021-12-22T07:23:26.560Z"
   },
   {
    "duration": 534,
    "start_time": "2021-12-22T07:23:54.307Z"
   },
   {
    "duration": 4791,
    "start_time": "2021-12-22T07:23:57.016Z"
   },
   {
    "duration": 286,
    "start_time": "2021-12-22T07:24:09.377Z"
   },
   {
    "duration": 202,
    "start_time": "2021-12-22T07:24:17.928Z"
   },
   {
    "duration": 201,
    "start_time": "2021-12-22T07:24:59.007Z"
   },
   {
    "duration": 390,
    "start_time": "2021-12-22T07:25:08.623Z"
   },
   {
    "duration": 401,
    "start_time": "2021-12-22T07:25:54.878Z"
   },
   {
    "duration": 414,
    "start_time": "2021-12-22T07:25:58.446Z"
   },
   {
    "duration": 205,
    "start_time": "2021-12-22T07:26:08.198Z"
   },
   {
    "duration": 198,
    "start_time": "2021-12-22T07:26:17.934Z"
   },
   {
    "duration": 209,
    "start_time": "2021-12-22T07:26:39.869Z"
   },
   {
    "duration": 207,
    "start_time": "2021-12-22T07:27:18.741Z"
   },
   {
    "duration": 425,
    "start_time": "2021-12-22T07:27:41.733Z"
   },
   {
    "duration": 211,
    "start_time": "2021-12-22T07:27:46.630Z"
   },
   {
    "duration": 469,
    "start_time": "2021-12-22T07:28:41.932Z"
   },
   {
    "duration": 211,
    "start_time": "2021-12-22T07:28:54.835Z"
   },
   {
    "duration": 495,
    "start_time": "2021-12-22T07:29:02.027Z"
   },
   {
    "duration": 211,
    "start_time": "2021-12-22T07:29:05.675Z"
   },
   {
    "duration": 203,
    "start_time": "2021-12-22T07:29:23.267Z"
   },
   {
    "duration": 223,
    "start_time": "2021-12-22T07:29:46.352Z"
   },
   {
    "duration": 208,
    "start_time": "2021-12-22T07:31:34.161Z"
   },
   {
    "duration": 212,
    "start_time": "2021-12-22T07:31:38.536Z"
   },
   {
    "duration": 212,
    "start_time": "2021-12-22T07:31:44.305Z"
   },
   {
    "duration": 205,
    "start_time": "2021-12-22T07:32:13.449Z"
   },
   {
    "duration": 4,
    "start_time": "2021-12-22T07:40:06.028Z"
   },
   {
    "duration": 846,
    "start_time": "2021-12-22T07:41:12.546Z"
   },
   {
    "duration": 200,
    "start_time": "2021-12-22T07:41:43.131Z"
   },
   {
    "duration": 217,
    "start_time": "2021-12-22T07:43:08.328Z"
   },
   {
    "duration": 209,
    "start_time": "2021-12-22T07:43:43.183Z"
   },
   {
    "duration": 57,
    "start_time": "2021-12-22T07:45:16.482Z"
   },
   {
    "duration": 73,
    "start_time": "2021-12-22T07:45:25.471Z"
   },
   {
    "duration": 60,
    "start_time": "2021-12-22T07:45:30.037Z"
   },
   {
    "duration": 208,
    "start_time": "2021-12-22T07:45:51.997Z"
   },
   {
    "duration": 210,
    "start_time": "2021-12-22T07:45:55.405Z"
   },
   {
    "duration": 207,
    "start_time": "2021-12-22T07:46:41.604Z"
   },
   {
    "duration": 326,
    "start_time": "2021-12-22T07:47:01.074Z"
   },
   {
    "duration": 206,
    "start_time": "2021-12-22T07:47:21.627Z"
   },
   {
    "duration": 218,
    "start_time": "2021-12-22T07:47:30.876Z"
   },
   {
    "duration": 213,
    "start_time": "2021-12-22T07:47:35.141Z"
   },
   {
    "duration": 3,
    "start_time": "2021-12-22T07:54:44.611Z"
   },
   {
    "duration": 197,
    "start_time": "2021-12-22T08:10:45.576Z"
   },
   {
    "duration": 57,
    "start_time": "2021-12-22T08:11:03.752Z"
   },
   {
    "duration": 11,
    "start_time": "2021-12-22T08:11:13.871Z"
   },
   {
    "duration": 15,
    "start_time": "2021-12-22T08:12:19.279Z"
   },
   {
    "duration": 15,
    "start_time": "2021-12-22T08:12:21.334Z"
   },
   {
    "duration": 7,
    "start_time": "2021-12-22T08:12:36.606Z"
   },
   {
    "duration": 21,
    "start_time": "2021-12-22T08:12:56.487Z"
   },
   {
    "duration": 174,
    "start_time": "2021-12-22T08:13:03.719Z"
   },
   {
    "duration": 13,
    "start_time": "2021-12-22T08:13:08.237Z"
   },
   {
    "duration": 25,
    "start_time": "2021-12-22T08:13:12.604Z"
   },
   {
    "duration": 23,
    "start_time": "2021-12-22T08:13:24.839Z"
   },
   {
    "duration": 18,
    "start_time": "2021-12-22T08:13:36.661Z"
   },
   {
    "duration": 15,
    "start_time": "2021-12-22T08:13:42.638Z"
   },
   {
    "duration": 13,
    "start_time": "2021-12-22T08:14:19.493Z"
   },
   {
    "duration": 14,
    "start_time": "2021-12-22T08:14:22.526Z"
   },
   {
    "duration": 10,
    "start_time": "2021-12-22T08:15:41.084Z"
   },
   {
    "duration": 180,
    "start_time": "2021-12-22T08:19:14.296Z"
   },
   {
    "duration": 12,
    "start_time": "2021-12-22T08:19:34.672Z"
   },
   {
    "duration": 17,
    "start_time": "2021-12-22T08:20:56.720Z"
   },
   {
    "duration": 18,
    "start_time": "2021-12-22T08:20:59.134Z"
   },
   {
    "duration": 13,
    "start_time": "2021-12-22T08:23:42.467Z"
   },
   {
    "duration": 13,
    "start_time": "2021-12-22T08:24:24.502Z"
   },
   {
    "duration": 18,
    "start_time": "2021-12-22T08:24:26.691Z"
   },
   {
    "duration": 29,
    "start_time": "2021-12-22T08:24:42.074Z"
   },
   {
    "duration": 31,
    "start_time": "2021-12-22T08:24:55.076Z"
   },
   {
    "duration": 28,
    "start_time": "2021-12-22T08:25:05.979Z"
   },
   {
    "duration": 66,
    "start_time": "2021-12-22T08:25:59.626Z"
   },
   {
    "duration": 14,
    "start_time": "2021-12-22T08:26:06.097Z"
   },
   {
    "duration": 22,
    "start_time": "2021-12-22T08:26:12.330Z"
   },
   {
    "duration": 15,
    "start_time": "2021-12-22T08:26:27.769Z"
   },
   {
    "duration": 14,
    "start_time": "2021-12-22T08:26:46.721Z"
   },
   {
    "duration": 14,
    "start_time": "2021-12-22T08:26:57.617Z"
   },
   {
    "duration": 14,
    "start_time": "2021-12-22T08:27:08.385Z"
   },
   {
    "duration": 34,
    "start_time": "2021-12-22T08:27:14.689Z"
   },
   {
    "duration": 22,
    "start_time": "2021-12-22T08:27:20.721Z"
   },
   {
    "duration": 12,
    "start_time": "2021-12-22T08:27:41.953Z"
   },
   {
    "duration": 14,
    "start_time": "2021-12-22T08:28:36.821Z"
   },
   {
    "duration": 12,
    "start_time": "2021-12-22T08:28:41.607Z"
   },
   {
    "duration": 14,
    "start_time": "2021-12-22T08:32:04.444Z"
   },
   {
    "duration": 14,
    "start_time": "2021-12-22T08:32:25.609Z"
   },
   {
    "duration": 15,
    "start_time": "2021-12-22T08:32:45.069Z"
   },
   {
    "duration": 17,
    "start_time": "2021-12-22T08:32:52.716Z"
   },
   {
    "duration": 209,
    "start_time": "2021-12-22T08:55:50.647Z"
   },
   {
    "duration": 24,
    "start_time": "2021-12-22T08:55:59.928Z"
   },
   {
    "duration": 23,
    "start_time": "2021-12-22T08:56:11.576Z"
   },
   {
    "duration": 179,
    "start_time": "2021-12-22T08:56:16.664Z"
   },
   {
    "duration": 23,
    "start_time": "2021-12-22T08:56:21.303Z"
   },
   {
    "duration": 180,
    "start_time": "2021-12-22T08:56:32.904Z"
   },
   {
    "duration": 9,
    "start_time": "2021-12-22T08:56:40.799Z"
   },
   {
    "duration": 1161,
    "start_time": "2021-12-22T09:06:25.887Z"
   },
   {
    "duration": 29,
    "start_time": "2021-12-22T09:06:27.050Z"
   },
   {
    "duration": 11,
    "start_time": "2021-12-22T09:06:27.081Z"
   },
   {
    "duration": 300,
    "start_time": "2021-12-22T09:06:27.094Z"
   },
   {
    "duration": 11,
    "start_time": "2021-12-22T09:06:27.396Z"
   },
   {
    "duration": 6,
    "start_time": "2021-12-22T09:06:27.409Z"
   },
   {
    "duration": 20,
    "start_time": "2021-12-22T09:06:27.416Z"
   },
   {
    "duration": 64,
    "start_time": "2021-12-22T09:06:27.438Z"
   },
   {
    "duration": 18,
    "start_time": "2021-12-22T09:06:27.504Z"
   },
   {
    "duration": 15,
    "start_time": "2021-12-22T09:06:27.524Z"
   },
   {
    "duration": 5,
    "start_time": "2021-12-22T09:06:27.541Z"
   },
   {
    "duration": 21,
    "start_time": "2021-12-22T09:06:27.548Z"
   },
   {
    "duration": 7,
    "start_time": "2021-12-22T09:06:27.591Z"
   },
   {
    "duration": 207,
    "start_time": "2021-12-22T09:06:27.600Z"
   },
   {
    "duration": 40,
    "start_time": "2021-12-22T09:06:27.809Z"
   },
   {
    "duration": 6,
    "start_time": "2021-12-22T09:06:27.850Z"
   },
   {
    "duration": 283,
    "start_time": "2021-12-22T09:06:27.857Z"
   },
   {
    "duration": 27,
    "start_time": "2021-12-22T09:06:28.142Z"
   },
   {
    "duration": 32,
    "start_time": "2021-12-22T09:06:28.171Z"
   },
   {
    "duration": 435,
    "start_time": "2021-12-22T09:06:28.205Z"
   },
   {
    "duration": 311,
    "start_time": "2021-12-22T09:06:28.642Z"
   },
   {
    "duration": 7,
    "start_time": "2021-12-22T09:06:28.955Z"
   },
   {
    "duration": 431,
    "start_time": "2021-12-22T09:06:28.965Z"
   },
   {
    "duration": 371,
    "start_time": "2021-12-22T09:06:29.398Z"
   },
   {
    "duration": 430,
    "start_time": "2021-12-22T09:06:29.771Z"
   },
   {
    "duration": 73,
    "start_time": "2021-12-22T09:06:30.202Z"
   },
   {
    "duration": 691,
    "start_time": "2021-12-22T09:06:29.586Z"
   },
   {
    "duration": 688,
    "start_time": "2021-12-22T09:06:29.590Z"
   },
   {
    "duration": 670,
    "start_time": "2021-12-22T09:06:29.609Z"
   },
   {
    "duration": 661,
    "start_time": "2021-12-22T09:06:29.620Z"
   },
   {
    "duration": 658,
    "start_time": "2021-12-22T09:06:29.624Z"
   },
   {
    "duration": 651,
    "start_time": "2021-12-22T09:06:29.633Z"
   },
   {
    "duration": 649,
    "start_time": "2021-12-22T09:06:29.636Z"
   },
   {
    "duration": 648,
    "start_time": "2021-12-22T09:06:29.639Z"
   },
   {
    "duration": 640,
    "start_time": "2021-12-22T09:06:29.648Z"
   },
   {
    "duration": 639,
    "start_time": "2021-12-22T09:06:29.651Z"
   },
   {
    "duration": 637,
    "start_time": "2021-12-22T09:06:29.654Z"
   },
   {
    "duration": 634,
    "start_time": "2021-12-22T09:06:29.659Z"
   },
   {
    "duration": 627,
    "start_time": "2021-12-22T09:06:29.667Z"
   },
   {
    "duration": 1196,
    "start_time": "2021-12-22T09:07:37.160Z"
   },
   {
    "duration": 31,
    "start_time": "2021-12-22T09:07:38.358Z"
   },
   {
    "duration": 6,
    "start_time": "2021-12-22T09:07:38.391Z"
   },
   {
    "duration": 294,
    "start_time": "2021-12-22T09:07:38.398Z"
   },
   {
    "duration": 11,
    "start_time": "2021-12-22T09:07:38.694Z"
   },
   {
    "duration": 19,
    "start_time": "2021-12-22T09:07:38.706Z"
   },
   {
    "duration": 29,
    "start_time": "2021-12-22T09:07:38.727Z"
   },
   {
    "duration": 45,
    "start_time": "2021-12-22T09:07:38.759Z"
   },
   {
    "duration": 19,
    "start_time": "2021-12-22T09:07:38.806Z"
   },
   {
    "duration": 30,
    "start_time": "2021-12-22T09:07:38.827Z"
   },
   {
    "duration": 10,
    "start_time": "2021-12-22T09:07:38.858Z"
   },
   {
    "duration": 33,
    "start_time": "2021-12-22T09:07:38.870Z"
   },
   {
    "duration": 6,
    "start_time": "2021-12-22T09:07:38.905Z"
   },
   {
    "duration": 203,
    "start_time": "2021-12-22T09:07:38.912Z"
   },
   {
    "duration": 40,
    "start_time": "2021-12-22T09:07:39.117Z"
   },
   {
    "duration": 6,
    "start_time": "2021-12-22T09:07:39.159Z"
   },
   {
    "duration": 287,
    "start_time": "2021-12-22T09:07:39.167Z"
   },
   {
    "duration": 36,
    "start_time": "2021-12-22T09:07:39.456Z"
   },
   {
    "duration": 19,
    "start_time": "2021-12-22T09:07:39.493Z"
   },
   {
    "duration": 455,
    "start_time": "2021-12-22T09:07:39.513Z"
   },
   {
    "duration": 333,
    "start_time": "2021-12-22T09:07:39.970Z"
   },
   {
    "duration": 8,
    "start_time": "2021-12-22T09:07:40.305Z"
   },
   {
    "duration": 465,
    "start_time": "2021-12-22T09:07:40.318Z"
   },
   {
    "duration": 379,
    "start_time": "2021-12-22T09:07:40.785Z"
   },
   {
    "duration": 429,
    "start_time": "2021-12-22T09:07:41.166Z"
   },
   {
    "duration": 64,
    "start_time": "2021-12-22T09:07:41.596Z"
   },
   {
    "duration": 689,
    "start_time": "2021-12-22T09:07:40.973Z"
   },
   {
    "duration": 672,
    "start_time": "2021-12-22T09:07:40.991Z"
   },
   {
    "duration": 662,
    "start_time": "2021-12-22T09:07:41.002Z"
   },
   {
    "duration": 657,
    "start_time": "2021-12-22T09:07:41.008Z"
   },
   {
    "duration": 654,
    "start_time": "2021-12-22T09:07:41.012Z"
   },
   {
    "duration": 652,
    "start_time": "2021-12-22T09:07:41.015Z"
   },
   {
    "duration": 651,
    "start_time": "2021-12-22T09:07:41.018Z"
   },
   {
    "duration": 648,
    "start_time": "2021-12-22T09:07:41.022Z"
   },
   {
    "duration": 644,
    "start_time": "2021-12-22T09:07:41.027Z"
   },
   {
    "duration": 641,
    "start_time": "2021-12-22T09:07:41.031Z"
   },
   {
    "duration": 639,
    "start_time": "2021-12-22T09:07:41.034Z"
   },
   {
    "duration": 636,
    "start_time": "2021-12-22T09:07:41.038Z"
   },
   {
    "duration": 634,
    "start_time": "2021-12-22T09:07:41.041Z"
   },
   {
    "duration": 1254,
    "start_time": "2021-12-22T09:07:58.493Z"
   },
   {
    "duration": 29,
    "start_time": "2021-12-22T09:07:59.749Z"
   },
   {
    "duration": 11,
    "start_time": "2021-12-22T09:07:59.780Z"
   },
   {
    "duration": 299,
    "start_time": "2021-12-22T09:07:59.793Z"
   },
   {
    "duration": 10,
    "start_time": "2021-12-22T09:08:00.093Z"
   },
   {
    "duration": 14,
    "start_time": "2021-12-22T09:08:00.105Z"
   },
   {
    "duration": 32,
    "start_time": "2021-12-22T09:08:00.121Z"
   },
   {
    "duration": 45,
    "start_time": "2021-12-22T09:08:00.156Z"
   },
   {
    "duration": 19,
    "start_time": "2021-12-22T09:08:00.203Z"
   },
   {
    "duration": 27,
    "start_time": "2021-12-22T09:08:00.224Z"
   },
   {
    "duration": 6,
    "start_time": "2021-12-22T09:08:00.253Z"
   },
   {
    "duration": 32,
    "start_time": "2021-12-22T09:08:00.261Z"
   },
   {
    "duration": 6,
    "start_time": "2021-12-22T09:08:00.295Z"
   },
   {
    "duration": 210,
    "start_time": "2021-12-22T09:08:00.303Z"
   },
   {
    "duration": 41,
    "start_time": "2021-12-22T09:08:00.514Z"
   },
   {
    "duration": 8,
    "start_time": "2021-12-22T09:08:00.557Z"
   },
   {
    "duration": 283,
    "start_time": "2021-12-22T09:08:00.566Z"
   },
   {
    "duration": 28,
    "start_time": "2021-12-22T09:08:00.850Z"
   },
   {
    "duration": 28,
    "start_time": "2021-12-22T09:08:00.880Z"
   },
   {
    "duration": 478,
    "start_time": "2021-12-22T09:08:00.910Z"
   },
   {
    "duration": 343,
    "start_time": "2021-12-22T09:08:01.390Z"
   },
   {
    "duration": 8,
    "start_time": "2021-12-22T09:08:01.734Z"
   },
   {
    "duration": 451,
    "start_time": "2021-12-22T09:08:01.745Z"
   },
   {
    "duration": 366,
    "start_time": "2021-12-22T09:08:02.198Z"
   },
   {
    "duration": 438,
    "start_time": "2021-12-22T09:08:02.566Z"
   },
   {
    "duration": 56,
    "start_time": "2021-12-22T09:08:03.006Z"
   },
   {
    "duration": 696,
    "start_time": "2021-12-22T09:08:02.367Z"
   },
   {
    "duration": 691,
    "start_time": "2021-12-22T09:08:02.373Z"
   },
   {
    "duration": 676,
    "start_time": "2021-12-22T09:08:02.390Z"
   },
   {
    "duration": 673,
    "start_time": "2021-12-22T09:08:02.394Z"
   },
   {
    "duration": 670,
    "start_time": "2021-12-22T09:08:02.397Z"
   },
   {
    "duration": 668,
    "start_time": "2021-12-22T09:08:02.400Z"
   },
   {
    "duration": 665,
    "start_time": "2021-12-22T09:08:02.404Z"
   },
   {
    "duration": 662,
    "start_time": "2021-12-22T09:08:02.408Z"
   },
   {
    "duration": 660,
    "start_time": "2021-12-22T09:08:02.411Z"
   },
   {
    "duration": 658,
    "start_time": "2021-12-22T09:08:02.414Z"
   },
   {
    "duration": 656,
    "start_time": "2021-12-22T09:08:02.418Z"
   },
   {
    "duration": 654,
    "start_time": "2021-12-22T09:08:02.421Z"
   },
   {
    "duration": 652,
    "start_time": "2021-12-22T09:08:02.424Z"
   },
   {
    "duration": 5,
    "start_time": "2021-12-22T09:08:23.909Z"
   },
   {
    "duration": 40,
    "start_time": "2021-12-22T09:09:30.221Z"
   },
   {
    "duration": 29,
    "start_time": "2021-12-22T09:09:30.262Z"
   },
   {
    "duration": 2,
    "start_time": "2021-12-22T09:09:30.294Z"
   },
   {
    "duration": 16,
    "start_time": "2021-12-22T09:09:30.298Z"
   },
   {
    "duration": 8,
    "start_time": "2021-12-22T09:09:30.315Z"
   },
   {
    "duration": 1098,
    "start_time": "2021-12-22T09:09:46.546Z"
   },
   {
    "duration": 33,
    "start_time": "2021-12-22T09:09:47.646Z"
   },
   {
    "duration": 10,
    "start_time": "2021-12-22T09:09:47.681Z"
   },
   {
    "duration": 280,
    "start_time": "2021-12-22T09:09:47.693Z"
   },
   {
    "duration": 11,
    "start_time": "2021-12-22T09:09:47.976Z"
   },
   {
    "duration": 7,
    "start_time": "2021-12-22T09:09:47.988Z"
   },
   {
    "duration": 20,
    "start_time": "2021-12-22T09:09:47.997Z"
   },
   {
    "duration": 36,
    "start_time": "2021-12-22T09:09:48.019Z"
   },
   {
    "duration": 41,
    "start_time": "2021-12-22T09:09:48.058Z"
   },
   {
    "duration": 18,
    "start_time": "2021-12-22T09:09:48.102Z"
   },
   {
    "duration": 8,
    "start_time": "2021-12-22T09:09:48.122Z"
   },
   {
    "duration": 20,
    "start_time": "2021-12-22T09:09:48.132Z"
   },
   {
    "duration": 6,
    "start_time": "2021-12-22T09:09:48.154Z"
   },
   {
    "duration": 218,
    "start_time": "2021-12-22T09:09:48.193Z"
   },
   {
    "duration": 43,
    "start_time": "2021-12-22T09:09:48.413Z"
   },
   {
    "duration": 7,
    "start_time": "2021-12-22T09:09:48.458Z"
   },
   {
    "duration": 298,
    "start_time": "2021-12-22T09:09:48.467Z"
   },
   {
    "duration": 37,
    "start_time": "2021-12-22T09:09:48.767Z"
   },
   {
    "duration": 19,
    "start_time": "2021-12-22T09:09:48.806Z"
   },
   {
    "duration": 447,
    "start_time": "2021-12-22T09:09:48.827Z"
   },
   {
    "duration": 323,
    "start_time": "2021-12-22T09:09:49.276Z"
   },
   {
    "duration": 7,
    "start_time": "2021-12-22T09:09:49.600Z"
   },
   {
    "duration": 404,
    "start_time": "2021-12-22T09:09:49.610Z"
   },
   {
    "duration": 359,
    "start_time": "2021-12-22T09:09:50.016Z"
   },
   {
    "duration": 417,
    "start_time": "2021-12-22T09:09:50.377Z"
   },
   {
    "duration": 91,
    "start_time": "2021-12-22T09:09:50.797Z"
   },
   {
    "duration": 694,
    "start_time": "2021-12-22T09:09:50.197Z"
   },
   {
    "duration": 684,
    "start_time": "2021-12-22T09:09:50.208Z"
   },
   {
    "duration": 662,
    "start_time": "2021-12-22T09:09:50.231Z"
   },
   {
    "duration": 658,
    "start_time": "2021-12-22T09:09:50.236Z"
   },
   {
    "duration": 654,
    "start_time": "2021-12-22T09:09:50.241Z"
   },
   {
    "duration": 641,
    "start_time": "2021-12-22T09:09:50.255Z"
   },
   {
    "duration": 639,
    "start_time": "2021-12-22T09:09:50.258Z"
   },
   {
    "duration": 637,
    "start_time": "2021-12-22T09:09:50.261Z"
   },
   {
    "duration": 635,
    "start_time": "2021-12-22T09:09:50.264Z"
   },
   {
    "duration": 625,
    "start_time": "2021-12-22T09:09:50.275Z"
   },
   {
    "duration": 621,
    "start_time": "2021-12-22T09:09:50.279Z"
   },
   {
    "duration": 619,
    "start_time": "2021-12-22T09:09:50.282Z"
   },
   {
    "duration": 609,
    "start_time": "2021-12-22T09:09:50.293Z"
   },
   {
    "duration": 17,
    "start_time": "2021-12-22T09:12:11.051Z"
   },
   {
    "duration": 17,
    "start_time": "2021-12-22T09:13:22.057Z"
   },
   {
    "duration": 61,
    "start_time": "2021-12-22T09:17:51.285Z"
   },
   {
    "duration": 453,
    "start_time": "2021-12-22T09:18:01.892Z"
   },
   {
    "duration": 1194,
    "start_time": "2021-12-22T09:18:38.877Z"
   },
   {
    "duration": 43,
    "start_time": "2021-12-22T09:18:40.073Z"
   },
   {
    "duration": 5,
    "start_time": "2021-12-22T09:18:40.119Z"
   },
   {
    "duration": 297,
    "start_time": "2021-12-22T09:18:40.125Z"
   },
   {
    "duration": 10,
    "start_time": "2021-12-22T09:18:40.424Z"
   },
   {
    "duration": 7,
    "start_time": "2021-12-22T09:18:40.436Z"
   },
   {
    "duration": 21,
    "start_time": "2021-12-22T09:18:40.444Z"
   },
   {
    "duration": 38,
    "start_time": "2021-12-22T09:18:40.491Z"
   },
   {
    "duration": 17,
    "start_time": "2021-12-22T09:18:40.531Z"
   },
   {
    "duration": 16,
    "start_time": "2021-12-22T09:18:40.550Z"
   },
   {
    "duration": 36,
    "start_time": "2021-12-22T09:18:40.568Z"
   },
   {
    "duration": 20,
    "start_time": "2021-12-22T09:18:40.606Z"
   },
   {
    "duration": 7,
    "start_time": "2021-12-22T09:18:40.627Z"
   },
   {
    "duration": 236,
    "start_time": "2021-12-22T09:18:40.635Z"
   },
   {
    "duration": 50,
    "start_time": "2021-12-22T09:18:40.873Z"
   },
   {
    "duration": 6,
    "start_time": "2021-12-22T09:18:40.924Z"
   },
   {
    "duration": 289,
    "start_time": "2021-12-22T09:18:40.932Z"
   },
   {
    "duration": 28,
    "start_time": "2021-12-22T09:18:41.222Z"
   },
   {
    "duration": 39,
    "start_time": "2021-12-22T09:18:41.252Z"
   },
   {
    "duration": 464,
    "start_time": "2021-12-22T09:18:41.294Z"
   },
   {
    "duration": 332,
    "start_time": "2021-12-22T09:18:41.759Z"
   },
   {
    "duration": 8,
    "start_time": "2021-12-22T09:18:42.093Z"
   },
   {
    "duration": 442,
    "start_time": "2021-12-22T09:18:42.104Z"
   },
   {
    "duration": 357,
    "start_time": "2021-12-22T09:18:42.548Z"
   },
   {
    "duration": 437,
    "start_time": "2021-12-22T09:18:42.907Z"
   },
   {
    "duration": 438,
    "start_time": "2021-12-22T09:18:43.347Z"
   },
   {
    "duration": 17,
    "start_time": "2021-12-22T09:18:43.786Z"
   },
   {
    "duration": 274,
    "start_time": "2021-12-22T09:18:43.804Z"
   },
   {
    "duration": 231,
    "start_time": "2021-12-22T09:18:44.080Z"
   },
   {
    "duration": 230,
    "start_time": "2021-12-22T09:18:44.313Z"
   },
   {
    "duration": 232,
    "start_time": "2021-12-22T09:18:44.546Z"
   },
   {
    "duration": 219,
    "start_time": "2021-12-22T09:18:44.781Z"
   },
   {
    "duration": 223,
    "start_time": "2021-12-22T09:18:45.003Z"
   },
   {
    "duration": 218,
    "start_time": "2021-12-22T09:18:45.228Z"
   },
   {
    "duration": 305,
    "start_time": "2021-12-22T09:18:45.448Z"
   },
   {
    "duration": 226,
    "start_time": "2021-12-22T09:18:45.754Z"
   },
   {
    "duration": 231,
    "start_time": "2021-12-22T09:18:45.981Z"
   },
   {
    "duration": 13,
    "start_time": "2021-12-22T09:18:46.214Z"
   },
   {
    "duration": 11,
    "start_time": "2021-12-22T09:18:46.228Z"
   },
   {
    "duration": 9,
    "start_time": "2021-12-22T09:21:06.642Z"
   },
   {
    "duration": 441,
    "start_time": "2021-12-22T09:21:07.282Z"
   },
   {
    "duration": 393,
    "start_time": "2021-12-22T09:22:05.906Z"
   },
   {
    "duration": 8,
    "start_time": "2021-12-22T09:22:10.763Z"
   },
   {
    "duration": 340,
    "start_time": "2021-12-22T09:22:11.257Z"
   },
   {
    "duration": 354,
    "start_time": "2021-12-22T09:22:18.450Z"
   },
   {
    "duration": 422,
    "start_time": "2021-12-22T09:22:37.153Z"
   },
   {
    "duration": 7,
    "start_time": "2021-12-22T09:23:14.986Z"
   },
   {
    "duration": 396,
    "start_time": "2021-12-22T09:23:15.377Z"
   },
   {
    "duration": 358,
    "start_time": "2021-12-22T09:23:18.216Z"
   },
   {
    "duration": 443,
    "start_time": "2021-12-22T09:27:07.918Z"
   },
   {
    "duration": 409,
    "start_time": "2021-12-22T09:27:11.766Z"
   },
   {
    "duration": 1149,
    "start_time": "2021-12-22T09:27:24.419Z"
   },
   {
    "duration": 28,
    "start_time": "2021-12-22T09:27:25.570Z"
   },
   {
    "duration": 3,
    "start_time": "2021-12-22T09:27:25.600Z"
   },
   {
    "duration": 621,
    "start_time": "2021-12-22T09:27:25.605Z"
   },
   {
    "duration": 11,
    "start_time": "2021-12-22T09:27:26.228Z"
   },
   {
    "duration": 23,
    "start_time": "2021-12-22T09:27:26.240Z"
   },
   {
    "duration": 20,
    "start_time": "2021-12-22T09:27:26.265Z"
   },
   {
    "duration": 35,
    "start_time": "2021-12-22T09:27:26.287Z"
   },
   {
    "duration": 18,
    "start_time": "2021-12-22T09:27:26.325Z"
   },
   {
    "duration": 16,
    "start_time": "2021-12-22T09:27:26.344Z"
   },
   {
    "duration": 41,
    "start_time": "2021-12-22T09:27:26.361Z"
   },
   {
    "duration": 18,
    "start_time": "2021-12-22T09:27:26.404Z"
   },
   {
    "duration": 7,
    "start_time": "2021-12-22T09:27:26.423Z"
   },
   {
    "duration": 218,
    "start_time": "2021-12-22T09:27:26.432Z"
   },
   {
    "duration": 49,
    "start_time": "2021-12-22T09:27:26.652Z"
   },
   {
    "duration": 7,
    "start_time": "2021-12-22T09:27:26.703Z"
   },
   {
    "duration": 277,
    "start_time": "2021-12-22T09:27:26.712Z"
   },
   {
    "duration": 28,
    "start_time": "2021-12-22T09:27:26.992Z"
   },
   {
    "duration": 18,
    "start_time": "2021-12-22T09:27:27.022Z"
   },
   {
    "duration": 458,
    "start_time": "2021-12-22T09:27:27.042Z"
   },
   {
    "duration": 329,
    "start_time": "2021-12-22T09:27:27.502Z"
   },
   {
    "duration": 9,
    "start_time": "2021-12-22T09:27:27.833Z"
   },
   {
    "duration": 453,
    "start_time": "2021-12-22T09:27:27.847Z"
   },
   {
    "duration": 358,
    "start_time": "2021-12-22T09:27:28.302Z"
   },
   {
    "duration": 8,
    "start_time": "2021-12-22T09:27:28.662Z"
   },
   {
    "duration": 400,
    "start_time": "2021-12-22T09:27:28.672Z"
   },
   {
    "duration": 393,
    "start_time": "2021-12-22T09:27:29.074Z"
   },
   {
    "duration": 429,
    "start_time": "2021-12-22T09:27:29.469Z"
   },
   {
    "duration": 407,
    "start_time": "2021-12-22T09:27:29.900Z"
   },
   {
    "duration": 15,
    "start_time": "2021-12-22T09:27:30.309Z"
   },
   {
    "duration": 269,
    "start_time": "2021-12-22T09:27:30.326Z"
   },
   {
    "duration": 226,
    "start_time": "2021-12-22T09:27:30.597Z"
   },
   {
    "duration": 228,
    "start_time": "2021-12-22T09:27:30.825Z"
   },
   {
    "duration": 231,
    "start_time": "2021-12-22T09:27:31.055Z"
   },
   {
    "duration": 231,
    "start_time": "2021-12-22T09:27:31.291Z"
   },
   {
    "duration": 296,
    "start_time": "2021-12-22T09:27:31.524Z"
   },
   {
    "duration": 214,
    "start_time": "2021-12-22T09:27:31.821Z"
   },
   {
    "duration": 217,
    "start_time": "2021-12-22T09:27:32.036Z"
   },
   {
    "duration": 232,
    "start_time": "2021-12-22T09:27:32.255Z"
   },
   {
    "duration": 216,
    "start_time": "2021-12-22T09:27:32.491Z"
   },
   {
    "duration": 13,
    "start_time": "2021-12-22T09:27:32.709Z"
   },
   {
    "duration": 12,
    "start_time": "2021-12-22T09:27:32.724Z"
   },
   {
    "duration": 4,
    "start_time": "2021-12-22T09:29:43.191Z"
   },
   {
    "duration": 1153,
    "start_time": "2021-12-22T09:29:58.894Z"
   },
   {
    "duration": 32,
    "start_time": "2021-12-22T09:30:00.049Z"
   },
   {
    "duration": 8,
    "start_time": "2021-12-22T09:30:00.084Z"
   },
   {
    "duration": 329,
    "start_time": "2021-12-22T09:30:00.094Z"
   },
   {
    "duration": 10,
    "start_time": "2021-12-22T09:30:00.425Z"
   },
   {
    "duration": 12,
    "start_time": "2021-12-22T09:30:00.437Z"
   },
   {
    "duration": 25,
    "start_time": "2021-12-22T09:30:00.450Z"
   },
   {
    "duration": 46,
    "start_time": "2021-12-22T09:30:00.478Z"
   },
   {
    "duration": 18,
    "start_time": "2021-12-22T09:30:00.526Z"
   },
   {
    "duration": 24,
    "start_time": "2021-12-22T09:30:00.546Z"
   },
   {
    "duration": 33,
    "start_time": "2021-12-22T09:30:00.572Z"
   },
   {
    "duration": 33,
    "start_time": "2021-12-22T09:30:00.606Z"
   },
   {
    "duration": 11,
    "start_time": "2021-12-22T09:30:00.641Z"
   },
   {
    "duration": 203,
    "start_time": "2021-12-22T09:30:00.654Z"
   },
   {
    "duration": 49,
    "start_time": "2021-12-22T09:30:00.859Z"
   },
   {
    "duration": 6,
    "start_time": "2021-12-22T09:30:00.909Z"
   },
   {
    "duration": 281,
    "start_time": "2021-12-22T09:30:00.916Z"
   },
   {
    "duration": 28,
    "start_time": "2021-12-22T09:30:01.199Z"
   },
   {
    "duration": 32,
    "start_time": "2021-12-22T09:30:01.229Z"
   },
   {
    "duration": 474,
    "start_time": "2021-12-22T09:30:01.263Z"
   },
   {
    "duration": 334,
    "start_time": "2021-12-22T09:30:01.739Z"
   },
   {
    "duration": 16,
    "start_time": "2021-12-22T09:30:02.075Z"
   },
   {
    "duration": 463,
    "start_time": "2021-12-22T09:30:02.094Z"
   },
   {
    "duration": 400,
    "start_time": "2021-12-22T09:30:02.560Z"
   },
   {
    "duration": 8,
    "start_time": "2021-12-22T09:30:02.962Z"
   },
   {
    "duration": 400,
    "start_time": "2021-12-22T09:30:02.972Z"
   },
   {
    "duration": 407,
    "start_time": "2021-12-22T09:30:03.374Z"
   },
   {
    "duration": 406,
    "start_time": "2021-12-22T09:30:03.783Z"
   },
   {
    "duration": 412,
    "start_time": "2021-12-22T09:30:04.191Z"
   },
   {
    "duration": 16,
    "start_time": "2021-12-22T09:30:04.606Z"
   },
   {
    "duration": 275,
    "start_time": "2021-12-22T09:30:04.624Z"
   },
   {
    "duration": 227,
    "start_time": "2021-12-22T09:30:04.902Z"
   },
   {
    "duration": 227,
    "start_time": "2021-12-22T09:30:05.131Z"
   },
   {
    "duration": 229,
    "start_time": "2021-12-22T09:30:05.360Z"
   },
   {
    "duration": 215,
    "start_time": "2021-12-22T09:30:05.591Z"
   },
   {
    "duration": 292,
    "start_time": "2021-12-22T09:30:05.808Z"
   },
   {
    "duration": 216,
    "start_time": "2021-12-22T09:30:06.102Z"
   },
   {
    "duration": 218,
    "start_time": "2021-12-22T09:30:06.319Z"
   },
   {
    "duration": 225,
    "start_time": "2021-12-22T09:30:06.539Z"
   },
   {
    "duration": 216,
    "start_time": "2021-12-22T09:30:06.766Z"
   },
   {
    "duration": 18,
    "start_time": "2021-12-22T09:30:06.984Z"
   },
   {
    "duration": 11,
    "start_time": "2021-12-22T09:30:07.004Z"
   },
   {
    "duration": 1119,
    "start_time": "2021-12-22T14:33:40.991Z"
   },
   {
    "duration": 29,
    "start_time": "2021-12-22T14:33:42.112Z"
   },
   {
    "duration": 3,
    "start_time": "2021-12-22T14:33:42.143Z"
   },
   {
    "duration": 252146,
    "start_time": "2021-12-22T14:33:42.147Z"
   },
   {
    "duration": 11,
    "start_time": "2021-12-22T14:37:54.295Z"
   },
   {
    "duration": 12,
    "start_time": "2021-12-22T14:37:54.307Z"
   },
   {
    "duration": 32,
    "start_time": "2021-12-22T14:37:54.321Z"
   },
   {
    "duration": 36,
    "start_time": "2021-12-22T14:37:54.355Z"
   },
   {
    "duration": 19,
    "start_time": "2021-12-22T14:37:54.394Z"
   },
   {
    "duration": 15,
    "start_time": "2021-12-22T14:37:54.416Z"
   },
   {
    "duration": 16,
    "start_time": "2021-12-22T14:37:54.433Z"
   },
   {
    "duration": 22,
    "start_time": "2021-12-22T14:37:54.451Z"
   },
   {
    "duration": 7,
    "start_time": "2021-12-22T14:37:54.475Z"
   },
   {
    "duration": 200,
    "start_time": "2021-12-22T14:37:54.484Z"
   },
   {
    "duration": 43,
    "start_time": "2021-12-22T14:37:54.686Z"
   },
   {
    "duration": 6,
    "start_time": "2021-12-22T14:37:54.731Z"
   },
   {
    "duration": 300,
    "start_time": "2021-12-22T14:37:54.738Z"
   },
   {
    "duration": 33,
    "start_time": "2021-12-22T14:37:55.040Z"
   },
   {
    "duration": 19,
    "start_time": "2021-12-22T14:37:55.075Z"
   },
   {
    "duration": 511,
    "start_time": "2021-12-22T14:37:55.095Z"
   },
   {
    "duration": 403,
    "start_time": "2021-12-22T14:37:55.608Z"
   },
   {
    "duration": 8,
    "start_time": "2021-12-22T14:37:56.013Z"
   },
   {
    "duration": 457,
    "start_time": "2021-12-22T14:37:56.023Z"
   },
   {
    "duration": 417,
    "start_time": "2021-12-22T14:37:56.481Z"
   },
   {
    "duration": 9,
    "start_time": "2021-12-22T14:37:56.900Z"
   },
   {
    "duration": 391,
    "start_time": "2021-12-22T14:37:56.911Z"
   },
   {
    "duration": 371,
    "start_time": "2021-12-22T14:37:57.306Z"
   },
   {
    "duration": 409,
    "start_time": "2021-12-22T14:37:57.679Z"
   },
   {
    "duration": 393,
    "start_time": "2021-12-22T14:37:58.090Z"
   },
   {
    "duration": 15,
    "start_time": "2021-12-22T14:37:58.485Z"
   },
   {
    "duration": 264,
    "start_time": "2021-12-22T14:37:58.502Z"
   },
   {
    "duration": 214,
    "start_time": "2021-12-22T14:37:58.768Z"
   },
   {
    "duration": 221,
    "start_time": "2021-12-22T14:37:58.984Z"
   },
   {
    "duration": 222,
    "start_time": "2021-12-22T14:37:59.207Z"
   },
   {
    "duration": 213,
    "start_time": "2021-12-22T14:37:59.431Z"
   },
   {
    "duration": 303,
    "start_time": "2021-12-22T14:37:59.646Z"
   },
   {
    "duration": 217,
    "start_time": "2021-12-22T14:37:59.952Z"
   },
   {
    "duration": 211,
    "start_time": "2021-12-22T14:38:00.171Z"
   },
   {
    "duration": 221,
    "start_time": "2021-12-22T14:38:00.384Z"
   },
   {
    "duration": 216,
    "start_time": "2021-12-22T14:38:00.606Z"
   },
   {
    "duration": 13,
    "start_time": "2021-12-22T14:38:00.824Z"
   },
   {
    "duration": 56,
    "start_time": "2021-12-22T14:38:00.839Z"
   },
   {
    "duration": 352,
    "start_time": "2021-12-22T15:51:33.113Z"
   },
   {
    "duration": 1503,
    "start_time": "2021-12-22T15:51:43.320Z"
   },
   {
    "duration": 44,
    "start_time": "2021-12-22T15:51:44.825Z"
   },
   {
    "duration": 4,
    "start_time": "2021-12-22T15:51:44.872Z"
   },
   {
    "duration": 610,
    "start_time": "2021-12-22T15:51:44.879Z"
   },
   {
    "duration": 31,
    "start_time": "2021-12-22T15:51:45.492Z"
   },
   {
    "duration": 9,
    "start_time": "2021-12-22T15:51:45.525Z"
   },
   {
    "duration": 29,
    "start_time": "2021-12-22T15:51:45.536Z"
   },
   {
    "duration": 78,
    "start_time": "2021-12-22T15:51:45.569Z"
   },
   {
    "duration": 24,
    "start_time": "2021-12-22T15:51:45.650Z"
   },
   {
    "duration": 20,
    "start_time": "2021-12-22T15:51:45.677Z"
   },
   {
    "duration": 40,
    "start_time": "2021-12-22T15:51:45.699Z"
   },
   {
    "duration": 31,
    "start_time": "2021-12-22T15:51:45.741Z"
   },
   {
    "duration": 9,
    "start_time": "2021-12-22T15:51:45.775Z"
   },
   {
    "duration": 315,
    "start_time": "2021-12-22T15:51:45.787Z"
   },
   {
    "duration": 77,
    "start_time": "2021-12-22T15:51:46.105Z"
   },
   {
    "duration": 8,
    "start_time": "2021-12-22T15:51:46.184Z"
   },
   {
    "duration": 441,
    "start_time": "2021-12-22T15:51:46.194Z"
   },
   {
    "duration": 53,
    "start_time": "2021-12-22T15:51:46.638Z"
   },
   {
    "duration": 48,
    "start_time": "2021-12-22T15:51:46.694Z"
   },
   {
    "duration": 696,
    "start_time": "2021-12-22T15:51:46.744Z"
   },
   {
    "duration": 473,
    "start_time": "2021-12-22T15:51:47.443Z"
   },
   {
    "duration": 11,
    "start_time": "2021-12-22T15:51:47.918Z"
   },
   {
    "duration": 545,
    "start_time": "2021-12-22T15:51:47.934Z"
   },
   {
    "duration": 532,
    "start_time": "2021-12-22T15:51:48.483Z"
   },
   {
    "duration": 15,
    "start_time": "2021-12-22T15:51:49.017Z"
   },
   {
    "duration": 525,
    "start_time": "2021-12-22T15:51:49.034Z"
   },
   {
    "duration": 510,
    "start_time": "2021-12-22T15:51:49.561Z"
   },
   {
    "duration": 608,
    "start_time": "2021-12-22T15:51:50.075Z"
   },
   {
    "duration": 580,
    "start_time": "2021-12-22T15:51:50.686Z"
   },
   {
    "duration": 22,
    "start_time": "2021-12-22T15:51:51.269Z"
   },
   {
    "duration": 474,
    "start_time": "2021-12-22T15:51:51.293Z"
   },
   {
    "duration": 401,
    "start_time": "2021-12-22T15:51:51.771Z"
   },
   {
    "duration": 348,
    "start_time": "2021-12-22T15:51:52.175Z"
   },
   {
    "duration": 360,
    "start_time": "2021-12-22T15:51:52.526Z"
   },
   {
    "duration": 383,
    "start_time": "2021-12-22T15:51:52.889Z"
   },
   {
    "duration": 426,
    "start_time": "2021-12-22T15:51:53.275Z"
   },
   {
    "duration": 358,
    "start_time": "2021-12-22T15:51:53.704Z"
   },
   {
    "duration": 329,
    "start_time": "2021-12-22T15:51:54.065Z"
   },
   {
    "duration": 336,
    "start_time": "2021-12-22T15:51:54.396Z"
   },
   {
    "duration": 326,
    "start_time": "2021-12-22T15:51:54.734Z"
   },
   {
    "duration": 18,
    "start_time": "2021-12-22T15:51:55.062Z"
   },
   {
    "duration": 19,
    "start_time": "2021-12-22T15:51:55.082Z"
   },
   {
    "duration": 6,
    "start_time": "2021-12-22T15:53:33.325Z"
   },
   {
    "duration": 92,
    "start_time": "2021-12-23T07:05:34.069Z"
   },
   {
    "duration": 321,
    "start_time": "2021-12-23T07:15:33.793Z"
   },
   {
    "duration": 1575,
    "start_time": "2021-12-23T07:15:42.365Z"
   },
   {
    "duration": 49,
    "start_time": "2021-12-23T07:15:43.943Z"
   },
   {
    "duration": 5,
    "start_time": "2021-12-23T07:15:44.018Z"
   },
   {
    "duration": 665,
    "start_time": "2021-12-23T07:15:44.025Z"
   },
   {
    "duration": 24,
    "start_time": "2021-12-23T07:15:44.693Z"
   },
   {
    "duration": 13,
    "start_time": "2021-12-23T07:15:44.720Z"
   },
   {
    "duration": 1331,
    "start_time": "2021-12-23T07:15:44.736Z"
   },
   {
    "duration": 2529,
    "start_time": "2021-12-23T07:15:43.542Z"
   },
   {
    "duration": 2494,
    "start_time": "2021-12-23T07:15:43.579Z"
   },
   {
    "duration": 2449,
    "start_time": "2021-12-23T07:15:43.625Z"
   },
   {
    "duration": 2362,
    "start_time": "2021-12-23T07:15:43.714Z"
   },
   {
    "duration": 2333,
    "start_time": "2021-12-23T07:15:43.744Z"
   },
   {
    "duration": 2301,
    "start_time": "2021-12-23T07:15:43.778Z"
   },
   {
    "duration": 2246,
    "start_time": "2021-12-23T07:15:43.835Z"
   },
   {
    "duration": 2226,
    "start_time": "2021-12-23T07:15:43.856Z"
   },
   {
    "duration": 2209,
    "start_time": "2021-12-23T07:15:43.874Z"
   },
   {
    "duration": 2192,
    "start_time": "2021-12-23T07:15:43.893Z"
   },
   {
    "duration": 2182,
    "start_time": "2021-12-23T07:15:43.906Z"
   },
   {
    "duration": 2175,
    "start_time": "2021-12-23T07:15:43.914Z"
   },
   {
    "duration": 2166,
    "start_time": "2021-12-23T07:15:43.924Z"
   },
   {
    "duration": 2158,
    "start_time": "2021-12-23T07:15:43.933Z"
   },
   {
    "duration": 2151,
    "start_time": "2021-12-23T07:15:43.941Z"
   },
   {
    "duration": 2138,
    "start_time": "2021-12-23T07:15:43.956Z"
   },
   {
    "duration": 2130,
    "start_time": "2021-12-23T07:15:43.965Z"
   },
   {
    "duration": 2123,
    "start_time": "2021-12-23T07:15:43.973Z"
   },
   {
    "duration": 2113,
    "start_time": "2021-12-23T07:15:43.984Z"
   },
   {
    "duration": 2108,
    "start_time": "2021-12-23T07:15:43.990Z"
   },
   {
    "duration": 2099,
    "start_time": "2021-12-23T07:15:44.001Z"
   },
   {
    "duration": 2087,
    "start_time": "2021-12-23T07:15:44.014Z"
   },
   {
    "duration": 2084,
    "start_time": "2021-12-23T07:15:44.018Z"
   },
   {
    "duration": 2072,
    "start_time": "2021-12-23T07:15:44.032Z"
   },
   {
    "duration": 2067,
    "start_time": "2021-12-23T07:15:44.039Z"
   },
   {
    "duration": 2059,
    "start_time": "2021-12-23T07:15:44.048Z"
   },
   {
    "duration": 2048,
    "start_time": "2021-12-23T07:15:44.060Z"
   },
   {
    "duration": 2041,
    "start_time": "2021-12-23T07:15:44.068Z"
   },
   {
    "duration": 2028,
    "start_time": "2021-12-23T07:15:44.082Z"
   },
   {
    "duration": 2022,
    "start_time": "2021-12-23T07:15:44.089Z"
   },
   {
    "duration": 2018,
    "start_time": "2021-12-23T07:15:44.098Z"
   },
   {
    "duration": 2004,
    "start_time": "2021-12-23T07:15:44.113Z"
   },
   {
    "duration": 1994,
    "start_time": "2021-12-23T07:15:44.125Z"
   },
   {
    "duration": 1985,
    "start_time": "2021-12-23T07:15:44.135Z"
   },
   {
    "duration": 1973,
    "start_time": "2021-12-23T07:15:44.148Z"
   },
   {
    "duration": 31,
    "start_time": "2021-12-23T07:16:07.736Z"
   },
   {
    "duration": 1545,
    "start_time": "2021-12-23T07:18:12.643Z"
   },
   {
    "duration": 48,
    "start_time": "2021-12-23T07:18:14.191Z"
   },
   {
    "duration": 5,
    "start_time": "2021-12-23T07:18:14.243Z"
   },
   {
    "duration": 597,
    "start_time": "2021-12-23T07:18:14.251Z"
   },
   {
    "duration": 14,
    "start_time": "2021-12-23T07:18:14.851Z"
   },
   {
    "duration": 7,
    "start_time": "2021-12-23T07:18:14.869Z"
   },
   {
    "duration": 54,
    "start_time": "2021-12-23T07:18:14.879Z"
   },
   {
    "duration": 55,
    "start_time": "2021-12-23T07:18:14.937Z"
   },
   {
    "duration": 39,
    "start_time": "2021-12-23T07:18:14.994Z"
   },
   {
    "duration": 26,
    "start_time": "2021-12-23T07:18:15.035Z"
   },
   {
    "duration": 22,
    "start_time": "2021-12-23T07:18:15.063Z"
   },
   {
    "duration": 58,
    "start_time": "2021-12-23T07:18:15.087Z"
   },
   {
    "duration": 8,
    "start_time": "2021-12-23T07:18:15.148Z"
   },
   {
    "duration": 309,
    "start_time": "2021-12-23T07:18:15.158Z"
   },
   {
    "duration": 76,
    "start_time": "2021-12-23T07:18:15.469Z"
   },
   {
    "duration": 9,
    "start_time": "2021-12-23T07:18:15.548Z"
   },
   {
    "duration": 452,
    "start_time": "2021-12-23T07:18:15.560Z"
   },
   {
    "duration": 46,
    "start_time": "2021-12-23T07:18:16.018Z"
   },
   {
    "duration": 53,
    "start_time": "2021-12-23T07:18:16.066Z"
   },
   {
    "duration": 1004,
    "start_time": "2021-12-23T07:18:16.123Z"
   },
   {
    "duration": 467,
    "start_time": "2021-12-23T07:18:17.129Z"
   },
   {
    "duration": 19,
    "start_time": "2021-12-23T07:18:17.598Z"
   },
   {
    "duration": 595,
    "start_time": "2021-12-23T07:18:17.622Z"
   },
   {
    "duration": 499,
    "start_time": "2021-12-23T07:18:18.220Z"
   },
   {
    "duration": 10,
    "start_time": "2021-12-23T07:18:18.722Z"
   },
   {
    "duration": 499,
    "start_time": "2021-12-23T07:18:18.734Z"
   },
   {
    "duration": 502,
    "start_time": "2021-12-23T07:18:19.235Z"
   },
   {
    "duration": 547,
    "start_time": "2021-12-23T07:18:19.739Z"
   },
   {
    "duration": 577,
    "start_time": "2021-12-23T07:18:20.289Z"
   },
   {
    "duration": 22,
    "start_time": "2021-12-23T07:18:20.869Z"
   },
   {
    "duration": 400,
    "start_time": "2021-12-23T07:18:20.917Z"
   },
   {
    "duration": 341,
    "start_time": "2021-12-23T07:18:21.319Z"
   },
   {
    "duration": 338,
    "start_time": "2021-12-23T07:18:21.662Z"
   },
   {
    "duration": 353,
    "start_time": "2021-12-23T07:18:22.002Z"
   },
   {
    "duration": 338,
    "start_time": "2021-12-23T07:18:22.357Z"
   },
   {
    "duration": 408,
    "start_time": "2021-12-23T07:18:22.697Z"
   },
   {
    "duration": 333,
    "start_time": "2021-12-23T07:18:23.107Z"
   },
   {
    "duration": 335,
    "start_time": "2021-12-23T07:18:23.443Z"
   },
   {
    "duration": 352,
    "start_time": "2021-12-23T07:18:23.780Z"
   },
   {
    "duration": 343,
    "start_time": "2021-12-23T07:18:24.135Z"
   },
   {
    "duration": 17,
    "start_time": "2021-12-23T07:18:24.480Z"
   },
   {
    "duration": 17,
    "start_time": "2021-12-23T07:18:24.518Z"
   },
   {
    "duration": 15,
    "start_time": "2021-12-23T07:55:33.587Z"
   },
   {
    "duration": 36,
    "start_time": "2021-12-23T07:55:58.620Z"
   },
   {
    "duration": 393,
    "start_time": "2021-12-23T07:56:12.067Z"
   },
   {
    "duration": 12,
    "start_time": "2021-12-23T07:56:18.867Z"
   },
   {
    "duration": 281,
    "start_time": "2021-12-23T07:57:29.018Z"
   },
   {
    "duration": 277,
    "start_time": "2021-12-23T07:57:43.969Z"
   },
   {
    "duration": 35,
    "start_time": "2021-12-23T07:57:50.769Z"
   },
   {
    "duration": 7,
    "start_time": "2021-12-23T08:07:37.098Z"
   },
   {
    "duration": 8,
    "start_time": "2021-12-23T08:07:48.329Z"
   },
   {
    "duration": 9,
    "start_time": "2021-12-23T08:07:56.168Z"
   },
   {
    "duration": 280,
    "start_time": "2021-12-23T08:14:48.066Z"
   },
   {
    "duration": 270,
    "start_time": "2021-12-23T08:15:01.091Z"
   },
   {
    "duration": 276,
    "start_time": "2021-12-23T08:15:07.923Z"
   },
   {
    "duration": 36,
    "start_time": "2021-12-23T08:15:16.762Z"
   },
   {
    "duration": 34,
    "start_time": "2021-12-23T08:15:19.810Z"
   },
   {
    "duration": 15,
    "start_time": "2021-12-23T08:15:44.201Z"
   },
   {
    "duration": 15,
    "start_time": "2021-12-23T08:15:52.681Z"
   },
   {
    "duration": 13,
    "start_time": "2021-12-23T08:16:38.033Z"
   },
   {
    "duration": 35,
    "start_time": "2021-12-23T08:17:04.857Z"
   },
   {
    "duration": 13,
    "start_time": "2021-12-23T08:17:05.209Z"
   },
   {
    "duration": 24,
    "start_time": "2021-12-23T08:20:06.463Z"
   },
   {
    "duration": 14,
    "start_time": "2021-12-23T08:21:09.886Z"
   },
   {
    "duration": 105,
    "start_time": "2021-12-23T08:21:23.796Z"
   },
   {
    "duration": 14,
    "start_time": "2021-12-23T08:22:02.069Z"
   },
   {
    "duration": 1516,
    "start_time": "2021-12-23T08:22:08.448Z"
   },
   {
    "duration": 51,
    "start_time": "2021-12-23T08:22:09.967Z"
   },
   {
    "duration": 4,
    "start_time": "2021-12-23T08:22:10.021Z"
   },
   {
    "duration": 628,
    "start_time": "2021-12-23T08:22:10.028Z"
   },
   {
    "duration": 14,
    "start_time": "2021-12-23T08:22:10.659Z"
   },
   {
    "duration": 8,
    "start_time": "2021-12-23T08:22:10.676Z"
   },
   {
    "duration": 63,
    "start_time": "2021-12-23T08:22:10.687Z"
   },
   {
    "duration": 63,
    "start_time": "2021-12-23T08:22:10.754Z"
   },
   {
    "duration": 29,
    "start_time": "2021-12-23T08:22:10.820Z"
   },
   {
    "duration": 23,
    "start_time": "2021-12-23T08:22:10.851Z"
   },
   {
    "duration": 51,
    "start_time": "2021-12-23T08:22:10.876Z"
   },
   {
    "duration": 31,
    "start_time": "2021-12-23T08:22:10.929Z"
   },
   {
    "duration": 9,
    "start_time": "2021-12-23T08:22:10.962Z"
   },
   {
    "duration": 326,
    "start_time": "2021-12-23T08:22:10.974Z"
   },
   {
    "duration": 77,
    "start_time": "2021-12-23T08:22:11.302Z"
   },
   {
    "duration": 48,
    "start_time": "2021-12-23T08:22:11.382Z"
   },
   {
    "duration": 24,
    "start_time": "2021-12-23T08:22:11.432Z"
   },
   {
    "duration": 419,
    "start_time": "2021-12-23T08:22:11.459Z"
   },
   {
    "duration": 2686,
    "start_time": "2021-12-23T08:22:09.198Z"
   },
   {
    "duration": 2670,
    "start_time": "2021-12-23T08:22:09.216Z"
   },
   {
    "duration": 2666,
    "start_time": "2021-12-23T08:22:09.221Z"
   },
   {
    "duration": 2663,
    "start_time": "2021-12-23T08:22:09.227Z"
   },
   {
    "duration": 2660,
    "start_time": "2021-12-23T08:22:09.232Z"
   },
   {
    "duration": 2658,
    "start_time": "2021-12-23T08:22:09.236Z"
   },
   {
    "duration": 2655,
    "start_time": "2021-12-23T08:22:09.241Z"
   },
   {
    "duration": 2653,
    "start_time": "2021-12-23T08:22:09.245Z"
   },
   {
    "duration": 2650,
    "start_time": "2021-12-23T08:22:09.250Z"
   },
   {
    "duration": 2648,
    "start_time": "2021-12-23T08:22:09.254Z"
   },
   {
    "duration": 2646,
    "start_time": "2021-12-23T08:22:09.258Z"
   },
   {
    "duration": 2644,
    "start_time": "2021-12-23T08:22:09.262Z"
   },
   {
    "duration": 2642,
    "start_time": "2021-12-23T08:22:09.266Z"
   },
   {
    "duration": 2640,
    "start_time": "2021-12-23T08:22:09.270Z"
   },
   {
    "duration": 2638,
    "start_time": "2021-12-23T08:22:09.274Z"
   },
   {
    "duration": 2635,
    "start_time": "2021-12-23T08:22:09.278Z"
   },
   {
    "duration": 2632,
    "start_time": "2021-12-23T08:22:09.283Z"
   },
   {
    "duration": 2630,
    "start_time": "2021-12-23T08:22:09.287Z"
   },
   {
    "duration": 2627,
    "start_time": "2021-12-23T08:22:09.292Z"
   },
   {
    "duration": 2617,
    "start_time": "2021-12-23T08:22:09.304Z"
   },
   {
    "duration": 2614,
    "start_time": "2021-12-23T08:22:09.309Z"
   },
   {
    "duration": 2612,
    "start_time": "2021-12-23T08:22:09.313Z"
   },
   {
    "duration": 2610,
    "start_time": "2021-12-23T08:22:09.317Z"
   },
   {
    "duration": 2608,
    "start_time": "2021-12-23T08:22:09.321Z"
   },
   {
    "duration": 2605,
    "start_time": "2021-12-23T08:22:09.325Z"
   },
   {
    "duration": 2603,
    "start_time": "2021-12-23T08:22:09.329Z"
   },
   {
    "duration": 2600,
    "start_time": "2021-12-23T08:22:09.333Z"
   },
   {
    "duration": 14,
    "start_time": "2021-12-23T08:22:37.743Z"
   },
   {
    "duration": 269,
    "start_time": "2021-12-23T08:24:10.957Z"
   },
   {
    "duration": 253,
    "start_time": "2021-12-23T08:24:17.333Z"
   },
   {
    "duration": 14,
    "start_time": "2021-12-23T08:24:32.365Z"
   },
   {
    "duration": 60,
    "start_time": "2021-12-23T08:25:27.444Z"
   },
   {
    "duration": 15,
    "start_time": "2021-12-23T08:25:29.086Z"
   },
   {
    "duration": 21,
    "start_time": "2021-12-23T08:26:02.661Z"
   },
   {
    "duration": 13,
    "start_time": "2021-12-23T08:26:03.285Z"
   },
   {
    "duration": 13,
    "start_time": "2021-12-23T08:26:18.571Z"
   },
   {
    "duration": 11,
    "start_time": "2021-12-23T08:26:51.547Z"
   },
   {
    "duration": 411,
    "start_time": "2021-12-23T08:28:08.711Z"
   },
   {
    "duration": 390,
    "start_time": "2021-12-23T08:28:23.572Z"
   },
   {
    "duration": 265,
    "start_time": "2021-12-23T08:31:22.695Z"
   },
   {
    "duration": 23,
    "start_time": "2021-12-23T08:31:33.258Z"
   },
   {
    "duration": 298,
    "start_time": "2021-12-23T08:31:33.284Z"
   },
   {
    "duration": 13,
    "start_time": "2021-12-23T08:31:39.775Z"
   },
   {
    "duration": 10,
    "start_time": "2021-12-23T08:33:20.981Z"
   },
   {
    "duration": 61,
    "start_time": "2021-12-23T08:36:08.251Z"
   },
   {
    "duration": 16,
    "start_time": "2021-12-23T08:36:08.506Z"
   },
   {
    "duration": 59,
    "start_time": "2021-12-23T08:36:17.411Z"
   },
   {
    "duration": 98,
    "start_time": "2021-12-23T08:36:17.700Z"
   },
   {
    "duration": 58,
    "start_time": "2021-12-23T08:36:44.354Z"
   },
   {
    "duration": 17,
    "start_time": "2021-12-23T08:36:44.883Z"
   },
   {
    "duration": 1484,
    "start_time": "2021-12-23T08:36:56.360Z"
   },
   {
    "duration": 46,
    "start_time": "2021-12-23T08:36:57.846Z"
   },
   {
    "duration": 4,
    "start_time": "2021-12-23T08:36:57.895Z"
   },
   {
    "duration": 550,
    "start_time": "2021-12-23T08:36:57.918Z"
   },
   {
    "duration": 15,
    "start_time": "2021-12-23T08:36:58.471Z"
   },
   {
    "duration": 29,
    "start_time": "2021-12-23T08:36:58.489Z"
   },
   {
    "duration": 29,
    "start_time": "2021-12-23T08:36:58.521Z"
   },
   {
    "duration": 78,
    "start_time": "2021-12-23T08:36:58.554Z"
   },
   {
    "duration": 26,
    "start_time": "2021-12-23T08:36:58.635Z"
   },
   {
    "duration": 24,
    "start_time": "2021-12-23T08:36:58.663Z"
   },
   {
    "duration": 43,
    "start_time": "2021-12-23T08:36:58.690Z"
   },
   {
    "duration": 31,
    "start_time": "2021-12-23T08:36:58.735Z"
   },
   {
    "duration": 9,
    "start_time": "2021-12-23T08:36:58.768Z"
   },
   {
    "duration": 338,
    "start_time": "2021-12-23T08:36:58.779Z"
   },
   {
    "duration": 66,
    "start_time": "2021-12-23T08:36:59.119Z"
   },
   {
    "duration": 55,
    "start_time": "2021-12-23T08:36:59.187Z"
   },
   {
    "duration": 77,
    "start_time": "2021-12-23T08:36:59.245Z"
   },
   {
    "duration": 400,
    "start_time": "2021-12-23T08:36:59.324Z"
   },
   {
    "duration": 2716,
    "start_time": "2021-12-23T08:36:57.011Z"
   },
   {
    "duration": 2704,
    "start_time": "2021-12-23T08:36:57.025Z"
   },
   {
    "duration": 2694,
    "start_time": "2021-12-23T08:36:57.037Z"
   },
   {
    "duration": 2681,
    "start_time": "2021-12-23T08:36:57.051Z"
   },
   {
    "duration": 2677,
    "start_time": "2021-12-23T08:36:57.056Z"
   },
   {
    "duration": 2665,
    "start_time": "2021-12-23T08:36:57.070Z"
   },
   {
    "duration": 2647,
    "start_time": "2021-12-23T08:36:57.090Z"
   },
   {
    "duration": 2633,
    "start_time": "2021-12-23T08:36:57.105Z"
   },
   {
    "duration": 2625,
    "start_time": "2021-12-23T08:36:57.114Z"
   },
   {
    "duration": 2623,
    "start_time": "2021-12-23T08:36:57.118Z"
   },
   {
    "duration": 2620,
    "start_time": "2021-12-23T08:36:57.122Z"
   },
   {
    "duration": 2617,
    "start_time": "2021-12-23T08:36:57.126Z"
   },
   {
    "duration": 2615,
    "start_time": "2021-12-23T08:36:57.130Z"
   },
   {
    "duration": 2613,
    "start_time": "2021-12-23T08:36:57.134Z"
   },
   {
    "duration": 2610,
    "start_time": "2021-12-23T08:36:57.138Z"
   },
   {
    "duration": 2607,
    "start_time": "2021-12-23T08:36:57.143Z"
   },
   {
    "duration": 2605,
    "start_time": "2021-12-23T08:36:57.146Z"
   },
   {
    "duration": 2602,
    "start_time": "2021-12-23T08:36:57.150Z"
   },
   {
    "duration": 2601,
    "start_time": "2021-12-23T08:36:57.153Z"
   },
   {
    "duration": 2598,
    "start_time": "2021-12-23T08:36:57.157Z"
   },
   {
    "duration": 2595,
    "start_time": "2021-12-23T08:36:57.161Z"
   },
   {
    "duration": 2594,
    "start_time": "2021-12-23T08:36:57.164Z"
   },
   {
    "duration": 2591,
    "start_time": "2021-12-23T08:36:57.168Z"
   },
   {
    "duration": 2589,
    "start_time": "2021-12-23T08:36:57.172Z"
   },
   {
    "duration": 2587,
    "start_time": "2021-12-23T08:36:57.176Z"
   },
   {
    "duration": 2584,
    "start_time": "2021-12-23T08:36:57.180Z"
   },
   {
    "duration": 2634,
    "start_time": "2021-12-23T08:36:57.183Z"
   },
   {
    "duration": 2631,
    "start_time": "2021-12-23T08:36:57.188Z"
   },
   {
    "duration": 340,
    "start_time": "2021-12-23T08:37:52.929Z"
   },
   {
    "duration": 61,
    "start_time": "2021-12-23T08:37:55.360Z"
   },
   {
    "duration": 421,
    "start_time": "2021-12-23T08:37:55.664Z"
   },
   {
    "duration": 16,
    "start_time": "2021-12-23T08:38:21.240Z"
   },
   {
    "duration": 263,
    "start_time": "2021-12-23T08:38:30.888Z"
   },
   {
    "duration": 12,
    "start_time": "2021-12-23T08:38:38.567Z"
   },
   {
    "duration": 10,
    "start_time": "2021-12-23T08:38:43.375Z"
   },
   {
    "duration": 22,
    "start_time": "2021-12-23T08:38:55.751Z"
   },
   {
    "duration": 15,
    "start_time": "2021-12-23T08:38:56.384Z"
   },
   {
    "duration": 10,
    "start_time": "2021-12-23T08:41:46.295Z"
   },
   {
    "duration": 63,
    "start_time": "2021-12-23T08:42:58.164Z"
   },
   {
    "duration": 16,
    "start_time": "2021-12-23T08:42:58.908Z"
   },
   {
    "duration": 14,
    "start_time": "2021-12-23T08:43:07.116Z"
   },
   {
    "duration": 10,
    "start_time": "2021-12-23T08:43:16.614Z"
   },
   {
    "duration": 12,
    "start_time": "2021-12-23T08:43:24.867Z"
   },
   {
    "duration": 23,
    "start_time": "2021-12-23T08:43:42.995Z"
   },
   {
    "duration": 14,
    "start_time": "2021-12-23T08:43:43.499Z"
   },
   {
    "duration": 10,
    "start_time": "2021-12-23T08:43:46.387Z"
   },
   {
    "duration": 9,
    "start_time": "2021-12-23T08:43:51.549Z"
   },
   {
    "duration": 6,
    "start_time": "2021-12-23T08:44:25.467Z"
   },
   {
    "duration": 60,
    "start_time": "2021-12-23T08:47:56.424Z"
   },
   {
    "duration": 16,
    "start_time": "2021-12-23T08:47:56.767Z"
   },
   {
    "duration": 14,
    "start_time": "2021-12-23T08:48:47.272Z"
   },
   {
    "duration": 14,
    "start_time": "2021-12-23T08:49:00.408Z"
   },
   {
    "duration": 9,
    "start_time": "2021-12-23T08:49:45.977Z"
   },
   {
    "duration": 16,
    "start_time": "2021-12-23T08:49:50.254Z"
   },
   {
    "duration": 24,
    "start_time": "2021-12-23T08:50:32.966Z"
   },
   {
    "duration": 15,
    "start_time": "2021-12-23T08:50:33.278Z"
   },
   {
    "duration": 9,
    "start_time": "2021-12-23T08:50:35.613Z"
   },
   {
    "duration": 59,
    "start_time": "2021-12-23T08:51:23.364Z"
   },
   {
    "duration": 17,
    "start_time": "2021-12-23T08:51:23.741Z"
   },
   {
    "duration": 61,
    "start_time": "2021-12-23T08:51:31.190Z"
   },
   {
    "duration": 17,
    "start_time": "2021-12-23T08:51:31.740Z"
   },
   {
    "duration": 14,
    "start_time": "2021-12-23T08:51:46.006Z"
   },
   {
    "duration": 13,
    "start_time": "2021-12-23T08:51:50.861Z"
   },
   {
    "duration": 10,
    "start_time": "2021-12-23T08:51:53.300Z"
   },
   {
    "duration": 11,
    "start_time": "2021-12-23T08:52:00.640Z"
   },
   {
    "duration": 10,
    "start_time": "2021-12-23T08:52:05.780Z"
   },
   {
    "duration": 16,
    "start_time": "2021-12-23T08:52:19.676Z"
   },
   {
    "duration": 290,
    "start_time": "2021-12-23T08:52:55.787Z"
   },
   {
    "duration": 15,
    "start_time": "2021-12-23T08:52:56.267Z"
   },
   {
    "duration": 61,
    "start_time": "2021-12-23T08:53:03.684Z"
   },
   {
    "duration": 14,
    "start_time": "2021-12-23T08:53:04.084Z"
   },
   {
    "duration": 49,
    "start_time": "2021-12-23T08:55:11.841Z"
   },
   {
    "duration": 16,
    "start_time": "2021-12-23T08:55:12.777Z"
   },
   {
    "duration": 9,
    "start_time": "2021-12-23T08:55:16.905Z"
   },
   {
    "duration": 9,
    "start_time": "2021-12-23T08:59:14.938Z"
   },
   {
    "duration": 18,
    "start_time": "2021-12-23T09:03:31.226Z"
   },
   {
    "duration": 257,
    "start_time": "2021-12-23T09:08:45.463Z"
   },
   {
    "duration": 245,
    "start_time": "2021-12-23T09:08:50.207Z"
   },
   {
    "duration": 202,
    "start_time": "2021-12-23T09:10:36.382Z"
   },
   {
    "duration": 10,
    "start_time": "2021-12-23T09:25:28.721Z"
   },
   {
    "duration": 420,
    "start_time": "2021-12-23T09:25:29.479Z"
   },
   {
    "duration": 57,
    "start_time": "2021-12-23T09:25:41.863Z"
   },
   {
    "duration": 685,
    "start_time": "2021-12-23T09:25:43.695Z"
   },
   {
    "duration": 414,
    "start_time": "2021-12-23T09:25:44.383Z"
   },
   {
    "duration": 1676,
    "start_time": "2021-12-23T09:31:57.921Z"
   },
   {
    "duration": 57,
    "start_time": "2021-12-23T09:31:59.601Z"
   },
   {
    "duration": 4,
    "start_time": "2021-12-23T09:31:59.661Z"
   },
   {
    "duration": 738,
    "start_time": "2021-12-23T09:31:59.667Z"
   },
   {
    "duration": 27,
    "start_time": "2021-12-23T09:32:00.408Z"
   },
   {
    "duration": 24,
    "start_time": "2021-12-23T09:32:00.438Z"
   },
   {
    "duration": 33,
    "start_time": "2021-12-23T09:32:00.465Z"
   },
   {
    "duration": 85,
    "start_time": "2021-12-23T09:32:00.502Z"
   },
   {
    "duration": 50,
    "start_time": "2021-12-23T09:32:00.591Z"
   },
   {
    "duration": 35,
    "start_time": "2021-12-23T09:32:00.645Z"
   },
   {
    "duration": 57,
    "start_time": "2021-12-23T09:32:00.683Z"
   },
   {
    "duration": 40,
    "start_time": "2021-12-23T09:32:00.742Z"
   },
   {
    "duration": 39,
    "start_time": "2021-12-23T09:32:00.784Z"
   },
   {
    "duration": 449,
    "start_time": "2021-12-23T09:32:00.826Z"
   },
   {
    "duration": 112,
    "start_time": "2021-12-23T09:32:01.278Z"
   },
   {
    "duration": 63,
    "start_time": "2021-12-23T09:32:01.394Z"
   },
   {
    "duration": 22,
    "start_time": "2021-12-23T09:32:01.460Z"
   },
   {
    "duration": 48,
    "start_time": "2021-12-23T09:32:01.485Z"
   },
   {
    "duration": 225,
    "start_time": "2021-12-23T09:32:01.537Z"
   },
   {
    "duration": 9,
    "start_time": "2021-12-23T09:32:01.764Z"
   },
   {
    "duration": 37,
    "start_time": "2021-12-23T09:32:01.776Z"
   },
   {
    "duration": 521,
    "start_time": "2021-12-23T09:32:01.815Z"
   },
   {
    "duration": 48,
    "start_time": "2021-12-23T09:32:02.345Z"
   },
   {
    "duration": 836,
    "start_time": "2021-12-23T09:32:02.398Z"
   },
   {
    "duration": 442,
    "start_time": "2021-12-23T09:32:03.238Z"
   },
   {
    "duration": 15,
    "start_time": "2021-12-23T09:32:03.683Z"
   },
   {
    "duration": 635,
    "start_time": "2021-12-23T09:32:03.701Z"
   },
   {
    "duration": 525,
    "start_time": "2021-12-23T09:32:04.339Z"
   },
   {
    "duration": 9,
    "start_time": "2021-12-23T09:32:04.867Z"
   },
   {
    "duration": 550,
    "start_time": "2021-12-23T09:32:04.879Z"
   },
   {
    "duration": 517,
    "start_time": "2021-12-23T09:32:05.433Z"
   },
   {
    "duration": 591,
    "start_time": "2021-12-23T09:32:05.952Z"
   },
   {
    "duration": 547,
    "start_time": "2021-12-23T09:32:06.545Z"
   },
   {
    "duration": 29,
    "start_time": "2021-12-23T09:32:07.095Z"
   },
   {
    "duration": 459,
    "start_time": "2021-12-23T09:32:07.127Z"
   },
   {
    "duration": 392,
    "start_time": "2021-12-23T09:32:07.588Z"
   },
   {
    "duration": 423,
    "start_time": "2021-12-23T09:32:07.982Z"
   },
   {
    "duration": 404,
    "start_time": "2021-12-23T09:32:08.416Z"
   },
   {
    "duration": 395,
    "start_time": "2021-12-23T09:32:08.823Z"
   },
   {
    "duration": 491,
    "start_time": "2021-12-23T09:32:09.222Z"
   },
   {
    "duration": 425,
    "start_time": "2021-12-23T09:32:09.716Z"
   },
   {
    "duration": 457,
    "start_time": "2021-12-23T09:32:10.144Z"
   },
   {
    "duration": -73,
    "start_time": "2021-12-23T09:32:10.677Z"
   },
   {
    "duration": -79,
    "start_time": "2021-12-23T09:32:10.685Z"
   },
   {
    "duration": -83,
    "start_time": "2021-12-23T09:32:10.690Z"
   },
   {
    "duration": -87,
    "start_time": "2021-12-23T09:32:10.696Z"
   },
   {
    "duration": 396,
    "start_time": "2021-12-23T09:32:51.214Z"
   },
   {
    "duration": 361,
    "start_time": "2021-12-23T09:32:53.022Z"
   },
   {
    "duration": 398,
    "start_time": "2021-12-23T09:32:56.605Z"
   },
   {
    "duration": 374,
    "start_time": "2021-12-23T10:07:06.857Z"
   },
   {
    "duration": 1568,
    "start_time": "2021-12-23T10:07:17.211Z"
   },
   {
    "duration": 45,
    "start_time": "2021-12-23T10:07:18.781Z"
   },
   {
    "duration": 4,
    "start_time": "2021-12-23T10:07:18.828Z"
   },
   {
    "duration": 589,
    "start_time": "2021-12-23T10:07:18.835Z"
   },
   {
    "duration": 14,
    "start_time": "2021-12-23T10:07:19.427Z"
   },
   {
    "duration": 8,
    "start_time": "2021-12-23T10:07:19.444Z"
   },
   {
    "duration": 33,
    "start_time": "2021-12-23T10:07:19.454Z"
   },
   {
    "duration": 77,
    "start_time": "2021-12-23T10:07:19.491Z"
   },
   {
    "duration": 26,
    "start_time": "2021-12-23T10:07:19.571Z"
   },
   {
    "duration": 39,
    "start_time": "2021-12-23T10:07:19.599Z"
   },
   {
    "duration": 21,
    "start_time": "2021-12-23T10:07:19.641Z"
   },
   {
    "duration": 53,
    "start_time": "2021-12-23T10:07:19.665Z"
   },
   {
    "duration": 9,
    "start_time": "2021-12-23T10:07:19.721Z"
   },
   {
    "duration": 314,
    "start_time": "2021-12-23T10:07:19.732Z"
   },
   {
    "duration": 78,
    "start_time": "2021-12-23T10:07:20.048Z"
   },
   {
    "duration": 43,
    "start_time": "2021-12-23T10:07:20.129Z"
   },
   {
    "duration": 15,
    "start_time": "2021-12-23T10:07:20.175Z"
   },
   {
    "duration": 34,
    "start_time": "2021-12-23T10:07:20.193Z"
   },
   {
    "duration": 227,
    "start_time": "2021-12-23T10:07:20.230Z"
   },
   {
    "duration": 9,
    "start_time": "2021-12-23T10:07:20.459Z"
   },
   {
    "duration": 10,
    "start_time": "2021-12-23T10:07:20.470Z"
   },
   {
    "duration": 399,
    "start_time": "2021-12-23T10:07:20.483Z"
   },
   {
    "duration": 45,
    "start_time": "2021-12-23T10:07:20.887Z"
   },
   {
    "duration": 707,
    "start_time": "2021-12-23T10:07:20.935Z"
   },
   {
    "duration": 422,
    "start_time": "2021-12-23T10:07:21.646Z"
   },
   {
    "duration": 9,
    "start_time": "2021-12-23T10:07:22.071Z"
   },
   {
    "duration": 619,
    "start_time": "2021-12-23T10:07:22.083Z"
   },
   {
    "duration": 635,
    "start_time": "2021-12-23T10:07:22.705Z"
   },
   {
    "duration": 10,
    "start_time": "2021-12-23T10:07:23.342Z"
   },
   {
    "duration": 494,
    "start_time": "2021-12-23T10:07:23.354Z"
   },
   {
    "duration": 481,
    "start_time": "2021-12-23T10:07:23.851Z"
   },
   {
    "duration": 509,
    "start_time": "2021-12-23T10:07:24.334Z"
   },
   {
    "duration": 514,
    "start_time": "2021-12-23T10:07:24.846Z"
   },
   {
    "duration": 21,
    "start_time": "2021-12-23T10:07:25.362Z"
   },
   {
    "duration": 432,
    "start_time": "2021-12-23T10:07:25.385Z"
   },
   {
    "duration": 370,
    "start_time": "2021-12-23T10:07:25.821Z"
   },
   {
    "duration": 351,
    "start_time": "2021-12-23T10:07:26.194Z"
   },
   {
    "duration": 488,
    "start_time": "2021-12-23T10:07:26.549Z"
   },
   {
    "duration": 346,
    "start_time": "2021-12-23T10:07:27.040Z"
   },
   {
    "duration": 440,
    "start_time": "2021-12-23T10:07:27.389Z"
   },
   {
    "duration": 352,
    "start_time": "2021-12-23T10:07:27.832Z"
   },
   {
    "duration": 368,
    "start_time": "2021-12-23T10:07:28.187Z"
   },
   {
    "duration": 360,
    "start_time": "2021-12-23T10:07:28.557Z"
   },
   {
    "duration": 368,
    "start_time": "2021-12-23T10:07:28.920Z"
   },
   {
    "duration": 34,
    "start_time": "2021-12-23T10:07:29.290Z"
   },
   {
    "duration": 22,
    "start_time": "2021-12-23T10:07:29.327Z"
   },
   {
    "duration": 1526,
    "start_time": "2021-12-23T10:35:19.729Z"
   },
   {
    "duration": 46,
    "start_time": "2021-12-23T10:35:21.258Z"
   },
   {
    "duration": 13,
    "start_time": "2021-12-23T10:35:21.307Z"
   },
   {
    "duration": 734,
    "start_time": "2021-12-23T10:35:21.322Z"
   },
   {
    "duration": 15,
    "start_time": "2021-12-23T10:35:22.059Z"
   },
   {
    "duration": 9,
    "start_time": "2021-12-23T10:35:22.076Z"
   },
   {
    "duration": 51,
    "start_time": "2021-12-23T10:35:22.087Z"
   },
   {
    "duration": 55,
    "start_time": "2021-12-23T10:35:22.141Z"
   },
   {
    "duration": 38,
    "start_time": "2021-12-23T10:35:22.199Z"
   },
   {
    "duration": 26,
    "start_time": "2021-12-23T10:35:22.239Z"
   },
   {
    "duration": 57,
    "start_time": "2021-12-23T10:35:22.267Z"
   },
   {
    "duration": 31,
    "start_time": "2021-12-23T10:35:22.327Z"
   },
   {
    "duration": 11,
    "start_time": "2021-12-23T10:35:22.360Z"
   },
   {
    "duration": 325,
    "start_time": "2021-12-23T10:35:22.373Z"
   },
   {
    "duration": 75,
    "start_time": "2021-12-23T10:35:22.701Z"
   },
   {
    "duration": 62,
    "start_time": "2021-12-23T10:35:22.779Z"
   },
   {
    "duration": 16,
    "start_time": "2021-12-23T10:35:22.843Z"
   },
   {
    "duration": 20,
    "start_time": "2021-12-23T10:35:22.861Z"
   },
   {
    "duration": 217,
    "start_time": "2021-12-23T10:35:22.883Z"
   },
   {
    "duration": 16,
    "start_time": "2021-12-23T10:35:23.102Z"
   },
   {
    "duration": 9,
    "start_time": "2021-12-23T10:35:23.120Z"
   },
   {
    "duration": 393,
    "start_time": "2021-12-23T10:35:23.131Z"
   },
   {
    "duration": 33,
    "start_time": "2021-12-23T10:35:23.529Z"
   },
   {
    "duration": 736,
    "start_time": "2021-12-23T10:35:23.565Z"
   },
   {
    "duration": 387,
    "start_time": "2021-12-23T10:35:24.304Z"
   },
   {
    "duration": 10,
    "start_time": "2021-12-23T10:35:24.693Z"
   },
   {
    "duration": 544,
    "start_time": "2021-12-23T10:35:24.705Z"
   },
   {
    "duration": 523,
    "start_time": "2021-12-23T10:35:25.253Z"
   },
   {
    "duration": 9,
    "start_time": "2021-12-23T10:35:25.780Z"
   },
   {
    "duration": 558,
    "start_time": "2021-12-23T10:35:25.792Z"
   },
   {
    "duration": 524,
    "start_time": "2021-12-23T10:35:26.353Z"
   },
   {
    "duration": 570,
    "start_time": "2021-12-23T10:35:26.880Z"
   },
   {
    "duration": 513,
    "start_time": "2021-12-23T10:35:27.453Z"
   },
   {
    "duration": 21,
    "start_time": "2021-12-23T10:35:27.968Z"
   },
   {
    "duration": 424,
    "start_time": "2021-12-23T10:35:27.992Z"
   },
   {
    "duration": 387,
    "start_time": "2021-12-23T10:35:28.419Z"
   },
   {
    "duration": 355,
    "start_time": "2021-12-23T10:35:28.809Z"
   },
   {
    "duration": 374,
    "start_time": "2021-12-23T10:35:29.167Z"
   },
   {
    "duration": 519,
    "start_time": "2021-12-23T10:35:29.543Z"
   },
   {
    "duration": 469,
    "start_time": "2021-12-23T10:35:30.065Z"
   },
   {
    "duration": 363,
    "start_time": "2021-12-23T10:35:30.537Z"
   },
   {
    "duration": 372,
    "start_time": "2021-12-23T10:35:30.902Z"
   },
   {
    "duration": 365,
    "start_time": "2021-12-23T10:35:31.276Z"
   },
   {
    "duration": 392,
    "start_time": "2021-12-23T10:35:31.644Z"
   },
   {
    "duration": 17,
    "start_time": "2021-12-23T10:35:32.039Z"
   },
   {
    "duration": 17,
    "start_time": "2021-12-23T10:35:32.059Z"
   }
  ],
  "kernelspec": {
   "display_name": "Python 3 (ipykernel)",
   "language": "python",
   "name": "python3"
  },
  "language_info": {
   "codemirror_mode": {
    "name": "ipython",
    "version": 3
   },
   "file_extension": ".py",
   "mimetype": "text/x-python",
   "name": "python",
   "nbconvert_exporter": "python",
   "pygments_lexer": "ipython3",
   "version": "3.9.7"
  },
  "toc": {
   "base_numbering": 1,
   "nav_menu": {},
   "number_sections": true,
   "sideBar": true,
   "skip_h1_title": true,
   "title_cell": "Содержание",
   "title_sidebar": "Contents",
   "toc_cell": true,
   "toc_position": {
    "height": "calc(100% - 180px)",
    "left": "10px",
    "top": "150px",
    "width": "366.391px"
   },
   "toc_section_display": true,
   "toc_window_display": false
  }
 },
 "nbformat": 4,
 "nbformat_minor": 2
}
