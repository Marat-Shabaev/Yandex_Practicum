{
 "cells": [
  {
   "cell_type": "markdown",
   "metadata": {
    "toc": true
   },
   "source": [
    "<h1>Содержание<span class=\"tocSkip\"></span></h1>\n",
    "<div class=\"toc\"><ul class=\"toc-item\"><li><span><a href=\"#Изучение-данных-из-файла\" data-toc-modified-id=\"Изучение-данных-из-файла-1\"><span class=\"toc-item-num\">1&nbsp;&nbsp;</span>Изучение данных из файла</a></span></li><li><span><a href=\"#Приоритизация-гипотез.\" data-toc-modified-id=\"Приоритизация-гипотез.-2\"><span class=\"toc-item-num\">2&nbsp;&nbsp;</span>Приоритизация гипотез.</a></span><ul class=\"toc-item\"><li><span><a href=\"#Применим-фреймворк-ICE-для-приоритизации-гипотез.-Отсортируем-их-по-убыванию-приоритета.\" data-toc-modified-id=\"Применим-фреймворк-ICE-для-приоритизации-гипотез.-Отсортируем-их-по-убыванию-приоритета.-2.1\"><span class=\"toc-item-num\">2.1&nbsp;&nbsp;</span>Применим фреймворк ICE для приоритизации гипотез. Отсортируем их по убыванию приоритета.</a></span></li><li><span><a href=\"#Применим-фреймворк-RICE-для-приоритизации-гипотез.-Отсортируем-их-по-убыванию-приоритета.\" data-toc-modified-id=\"Применим-фреймворк-RICE-для-приоритизации-гипотез.-Отсортируем-их-по-убыванию-приоритета.-2.2\"><span class=\"toc-item-num\">2.2&nbsp;&nbsp;</span>Применим фреймворк RICE для приоритизации гипотез. Отсортируем их по убыванию приоритета.</a></span></li><li><span><a href=\"#Посмотрим-как-изменилась-приоритизация-гипотез-при-применении-RICE-вместо-ICE\" data-toc-modified-id=\"Посмотрим-как-изменилась-приоритизация-гипотез-при-применении-RICE-вместо-ICE-2.3\"><span class=\"toc-item-num\">2.3&nbsp;&nbsp;</span>Посмотрим как изменилась приоритизация гипотез при применении RICE вместо ICE</a></span></li></ul></li><li><span><a href=\"#Анализ-A/B-теста\" data-toc-modified-id=\"Анализ-A/B-теста-3\"><span class=\"toc-item-num\">3&nbsp;&nbsp;</span>Анализ A/B-теста</a></span><ul class=\"toc-item\"><li><span><a href=\"#Получим-кумулятивные-данные\" data-toc-modified-id=\"Получим-кумулятивные-данные-3.1\"><span class=\"toc-item-num\">3.1&nbsp;&nbsp;</span>Получим кумулятивные данные</a></span></li><li><span><a href=\"#Построим-график-кумулятивной-выручки-по-группам\" data-toc-modified-id=\"Построим-график-кумулятивной-выручки-по-группам-3.2\"><span class=\"toc-item-num\">3.2&nbsp;&nbsp;</span>Построим график кумулятивной выручки по группам</a></span></li><li><span><a href=\"#Построим-график-кумулятивного-среднего-чека-по-группам\" data-toc-modified-id=\"Построим-график-кумулятивного-среднего-чека-по-группам-3.3\"><span class=\"toc-item-num\">3.3&nbsp;&nbsp;</span>Построим график кумулятивного среднего чека по группам</a></span></li><li><span><a href=\"#Построим-график-относительного-изменения-кумулятивного-среднего-чека-группы-B-к-группе-A.\" data-toc-modified-id=\"Построим-график-относительного-изменения-кумулятивного-среднего-чека-группы-B-к-группе-A.-3.4\"><span class=\"toc-item-num\">3.4&nbsp;&nbsp;</span>Построим график относительного изменения кумулятивного среднего чека группы B к группе A.</a></span></li><li><span><a href=\"#Построим-график-кумулятивной-конверсии-по-группам\" data-toc-modified-id=\"Построим-график-кумулятивной-конверсии-по-группам-3.5\"><span class=\"toc-item-num\">3.5&nbsp;&nbsp;</span>Построим график кумулятивной конверсии по группам</a></span></li><li><span><a href=\"#Построим-график-относительного-изменения-кумулятивной-конверсии-группы-B-к-группе-A\" data-toc-modified-id=\"Построим-график-относительного-изменения-кумулятивной-конверсии-группы-B-к-группе-A-3.6\"><span class=\"toc-item-num\">3.6&nbsp;&nbsp;</span>Построим график относительного изменения кумулятивной конверсии группы B к группе A</a></span></li><li><span><a href=\"#Построим-точечный-график-количества-заказов-по-пользователям\" data-toc-modified-id=\"Построим-точечный-график-количества-заказов-по-пользователям-3.7\"><span class=\"toc-item-num\">3.7&nbsp;&nbsp;</span>Построим точечный график количества заказов по пользователям</a></span></li><li><span><a href=\"#Посчитаем-95-й-и-99-й-перцентили-количества-заказов-на-пользователя.-Выберем-границу-для-определения-аномальных-пользователей\" data-toc-modified-id=\"Посчитаем-95-й-и-99-й-перцентили-количества-заказов-на-пользователя.-Выберем-границу-для-определения-аномальных-пользователей-3.8\"><span class=\"toc-item-num\">3.8&nbsp;&nbsp;</span>Посчитаем 95-й и 99-й перцентили количества заказов на пользователя. Выберем границу для определения аномальных пользователей</a></span></li><li><span><a href=\"#Построим-точечный-график-стоимостей-заказов\" data-toc-modified-id=\"Построим-точечный-график-стоимостей-заказов-3.9\"><span class=\"toc-item-num\">3.9&nbsp;&nbsp;</span>Построим точечный график стоимостей заказов</a></span></li><li><span><a href=\"#Посчитайте-95-й-и-99-й-перцентили-стоимости-заказов.-Выберите-границу-для-определения-аномальных-заказов\" data-toc-modified-id=\"Посчитайте-95-й-и-99-й-перцентили-стоимости-заказов.-Выберите-границу-для-определения-аномальных-заказов-3.10\"><span class=\"toc-item-num\">3.10&nbsp;&nbsp;</span>Посчитайте 95-й и 99-й перцентили стоимости заказов. Выберите границу для определения аномальных заказов</a></span></li><li><span><a href=\"#Посчитаем-статистическую-значимость-различий-в-конверсии-между-группами-по-«сырым»-данным\" data-toc-modified-id=\"Посчитаем-статистическую-значимость-различий-в-конверсии-между-группами-по-«сырым»-данным-3.11\"><span class=\"toc-item-num\">3.11&nbsp;&nbsp;</span>Посчитаем статистическую значимость различий в конверсии между группами по «сырым» данным</a></span></li><li><span><a href=\"#Посчитаем-статистическую-значимость-различий-в-среднем-чеке-заказа-между-группами-по-«сырым»-данным\" data-toc-modified-id=\"Посчитаем-статистическую-значимость-различий-в-среднем-чеке-заказа-между-группами-по-«сырым»-данным-3.12\"><span class=\"toc-item-num\">3.12&nbsp;&nbsp;</span>Посчитаем статистическую значимость различий в среднем чеке заказа между группами по «сырым» данным</a></span></li><li><span><a href=\"#Посчитаем-статистическую-значимость-различий-в-конверсии-между-группами-по-«очищенным»-данным\" data-toc-modified-id=\"Посчитаем-статистическую-значимость-различий-в-конверсии-между-группами-по-«очищенным»-данным-3.13\"><span class=\"toc-item-num\">3.13&nbsp;&nbsp;</span>Посчитаем статистическую значимость различий в конверсии между группами по «очищенным» данным</a></span></li><li><span><a href=\"#Посчитаем-статистическую-значимость-различий-в-среднем-чеке-заказа-между-группами-по-«очищенным»-данным\" data-toc-modified-id=\"Посчитаем-статистическую-значимость-различий-в-среднем-чеке-заказа-между-группами-по-«очищенным»-данным-3.14\"><span class=\"toc-item-num\">3.14&nbsp;&nbsp;</span>Посчитаем статистическую значимость различий в среднем чеке заказа между группами по «очищенным» данным</a></span></li></ul></li><li><span><a href=\"#Вывод\" data-toc-modified-id=\"Вывод-4\"><span class=\"toc-item-num\">4&nbsp;&nbsp;</span>Вывод</a></span></li></ul></div>"
   ]
  },
  {
   "cell_type": "markdown",
   "metadata": {},
   "source": [
    "# Принятие решений в бизнесе на основе данных"
   ]
  },
  {
   "cell_type": "markdown",
   "metadata": {},
   "source": [
    "Необходимо приоритизировать список гипотез для увеличения выручки интернет-магазина, подготовленных совместно с отделом маркетинга, запуститить A/B-тест и проанализировать результаты.\n",
    "\n",
    "**Описание данных:**\n",
    "\n",
    "**Данные для первой части\n",
    "Файл /datasets/hypothesis.csv.**\n",
    "\n",
    "* `Hypothesis` — краткое описание гипотезы;\n",
    "* `Reach` — охват пользователей по 10-балльной шкале;\n",
    "* `Impact` — влияние на пользователей по 10-балльной шкале;\n",
    "* `Confidence` — уверенность в гипотезе по 10-балльной шкале;\n",
    "* `Efforts` — затраты ресурсов на проверку гипотезы по 10-балльной шкале. Чем больше значение Efforts, тем дороже проверка гипотезы.\n",
    "\n",
    "**Данные для второй части\n",
    "Файл /datasets/orders.csv.***\n",
    "\n",
    "* `transactionId` — идентификатор заказа;\n",
    "* `visitorId` — идентификатор пользователя, совершившего заказ;\n",
    "* `date` — дата, когда был совершён заказ;\n",
    "* `revenue` — выручка заказа;\n",
    "* `group` — группа A/B-теста, в которую попал заказ.\n",
    "\n",
    "**Файл /datasets/visitors.csv.**\n",
    "\n",
    "* `date` — дата;\n",
    "* `group` — группа A/B-теста;\n",
    "* `visitors` — количество пользователей в указанную дату в указанной группе A/B-теста."
   ]
  },
  {
   "cell_type": "markdown",
   "metadata": {},
   "source": [
    "## Изучение данных из файла"
   ]
  },
  {
   "cell_type": "code",
   "execution_count": 1,
   "metadata": {},
   "outputs": [],
   "source": [
    "import pandas as pd\n",
    "import numpy as np\n",
    "import seaborn as sns\n",
    "from datetime import datetime, timedelta\n",
    "import matplotlib.pyplot as plt\n",
    "import scipy.stats as stats\n",
    "pd.set_option('display.float_format', '{:,.2f}'.format)"
   ]
  },
  {
   "cell_type": "code",
   "execution_count": 2,
   "metadata": {},
   "outputs": [],
   "source": [
    "hypothesis = pd.read_csv('/datasets/hypothesis.csv')\n",
    "visitors = pd.read_csv('/datasets/visitors.csv')\n",
    "orders = pd.read_csv('/datasets/orders.csv')"
   ]
  },
  {
   "cell_type": "code",
   "execution_count": 3,
   "metadata": {},
   "outputs": [
    {
     "data": {
      "text/html": [
       "<div>\n",
       "<style scoped>\n",
       "    .dataframe tbody tr th:only-of-type {\n",
       "        vertical-align: middle;\n",
       "    }\n",
       "\n",
       "    .dataframe tbody tr th {\n",
       "        vertical-align: top;\n",
       "    }\n",
       "\n",
       "    .dataframe thead th {\n",
       "        text-align: right;\n",
       "    }\n",
       "</style>\n",
       "<table border=\"1\" class=\"dataframe\">\n",
       "  <thead>\n",
       "    <tr style=\"text-align: right;\">\n",
       "      <th></th>\n",
       "      <th>date</th>\n",
       "      <th>group</th>\n",
       "      <th>visitors</th>\n",
       "    </tr>\n",
       "  </thead>\n",
       "  <tbody>\n",
       "    <tr>\n",
       "      <td>0</td>\n",
       "      <td>2019-08-01</td>\n",
       "      <td>A</td>\n",
       "      <td>719</td>\n",
       "    </tr>\n",
       "    <tr>\n",
       "      <td>1</td>\n",
       "      <td>2019-08-02</td>\n",
       "      <td>A</td>\n",
       "      <td>619</td>\n",
       "    </tr>\n",
       "    <tr>\n",
       "      <td>2</td>\n",
       "      <td>2019-08-03</td>\n",
       "      <td>A</td>\n",
       "      <td>507</td>\n",
       "    </tr>\n",
       "    <tr>\n",
       "      <td>3</td>\n",
       "      <td>2019-08-04</td>\n",
       "      <td>A</td>\n",
       "      <td>717</td>\n",
       "    </tr>\n",
       "    <tr>\n",
       "      <td>4</td>\n",
       "      <td>2019-08-05</td>\n",
       "      <td>A</td>\n",
       "      <td>756</td>\n",
       "    </tr>\n",
       "  </tbody>\n",
       "</table>\n",
       "</div>"
      ],
      "text/plain": [
       "         date group  visitors\n",
       "0  2019-08-01     A       719\n",
       "1  2019-08-02     A       619\n",
       "2  2019-08-03     A       507\n",
       "3  2019-08-04     A       717\n",
       "4  2019-08-05     A       756"
      ]
     },
     "metadata": {},
     "output_type": "display_data"
    },
    {
     "name": "stdout",
     "output_type": "stream",
     "text": [
      "<class 'pandas.core.frame.DataFrame'>\n",
      "RangeIndex: 62 entries, 0 to 61\n",
      "Data columns (total 3 columns):\n",
      "date        62 non-null object\n",
      "group       62 non-null object\n",
      "visitors    62 non-null int64\n",
      "dtypes: int64(1), object(2)\n",
      "memory usage: 1.6+ KB\n",
      "**************************************************\n"
     ]
    },
    {
     "data": {
      "text/html": [
       "<div>\n",
       "<style scoped>\n",
       "    .dataframe tbody tr th:only-of-type {\n",
       "        vertical-align: middle;\n",
       "    }\n",
       "\n",
       "    .dataframe tbody tr th {\n",
       "        vertical-align: top;\n",
       "    }\n",
       "\n",
       "    .dataframe thead th {\n",
       "        text-align: right;\n",
       "    }\n",
       "</style>\n",
       "<table border=\"1\" class=\"dataframe\">\n",
       "  <thead>\n",
       "    <tr style=\"text-align: right;\">\n",
       "      <th></th>\n",
       "      <th>transactionId</th>\n",
       "      <th>visitorId</th>\n",
       "      <th>date</th>\n",
       "      <th>revenue</th>\n",
       "      <th>group</th>\n",
       "    </tr>\n",
       "  </thead>\n",
       "  <tbody>\n",
       "    <tr>\n",
       "      <td>0</td>\n",
       "      <td>3667963787</td>\n",
       "      <td>3312258926</td>\n",
       "      <td>2019-08-15</td>\n",
       "      <td>1650</td>\n",
       "      <td>B</td>\n",
       "    </tr>\n",
       "    <tr>\n",
       "      <td>1</td>\n",
       "      <td>2804400009</td>\n",
       "      <td>3642806036</td>\n",
       "      <td>2019-08-15</td>\n",
       "      <td>730</td>\n",
       "      <td>B</td>\n",
       "    </tr>\n",
       "    <tr>\n",
       "      <td>2</td>\n",
       "      <td>2961555356</td>\n",
       "      <td>4069496402</td>\n",
       "      <td>2019-08-15</td>\n",
       "      <td>400</td>\n",
       "      <td>A</td>\n",
       "    </tr>\n",
       "    <tr>\n",
       "      <td>3</td>\n",
       "      <td>3797467345</td>\n",
       "      <td>1196621759</td>\n",
       "      <td>2019-08-15</td>\n",
       "      <td>9759</td>\n",
       "      <td>B</td>\n",
       "    </tr>\n",
       "    <tr>\n",
       "      <td>4</td>\n",
       "      <td>2282983706</td>\n",
       "      <td>2322279887</td>\n",
       "      <td>2019-08-15</td>\n",
       "      <td>2308</td>\n",
       "      <td>B</td>\n",
       "    </tr>\n",
       "  </tbody>\n",
       "</table>\n",
       "</div>"
      ],
      "text/plain": [
       "   transactionId   visitorId        date  revenue group\n",
       "0     3667963787  3312258926  2019-08-15     1650     B\n",
       "1     2804400009  3642806036  2019-08-15      730     B\n",
       "2     2961555356  4069496402  2019-08-15      400     A\n",
       "3     3797467345  1196621759  2019-08-15     9759     B\n",
       "4     2282983706  2322279887  2019-08-15     2308     B"
      ]
     },
     "metadata": {},
     "output_type": "display_data"
    },
    {
     "name": "stdout",
     "output_type": "stream",
     "text": [
      "<class 'pandas.core.frame.DataFrame'>\n",
      "RangeIndex: 1197 entries, 0 to 1196\n",
      "Data columns (total 5 columns):\n",
      "transactionId    1197 non-null int64\n",
      "visitorId        1197 non-null int64\n",
      "date             1197 non-null object\n",
      "revenue          1197 non-null int64\n",
      "group            1197 non-null object\n",
      "dtypes: int64(3), object(2)\n",
      "memory usage: 46.9+ KB\n",
      "**************************************************\n"
     ]
    },
    {
     "data": {
      "text/html": [
       "<div>\n",
       "<style scoped>\n",
       "    .dataframe tbody tr th:only-of-type {\n",
       "        vertical-align: middle;\n",
       "    }\n",
       "\n",
       "    .dataframe tbody tr th {\n",
       "        vertical-align: top;\n",
       "    }\n",
       "\n",
       "    .dataframe thead th {\n",
       "        text-align: right;\n",
       "    }\n",
       "</style>\n",
       "<table border=\"1\" class=\"dataframe\">\n",
       "  <thead>\n",
       "    <tr style=\"text-align: right;\">\n",
       "      <th></th>\n",
       "      <th>Hypothesis</th>\n",
       "      <th>Reach</th>\n",
       "      <th>Impact</th>\n",
       "      <th>Confidence</th>\n",
       "      <th>Efforts</th>\n",
       "    </tr>\n",
       "  </thead>\n",
       "  <tbody>\n",
       "    <tr>\n",
       "      <td>0</td>\n",
       "      <td>Добавить два новых канала привлечения трафика,...</td>\n",
       "      <td>3</td>\n",
       "      <td>10</td>\n",
       "      <td>8</td>\n",
       "      <td>6</td>\n",
       "    </tr>\n",
       "    <tr>\n",
       "      <td>1</td>\n",
       "      <td>Запустить собственную службу доставки, что сок...</td>\n",
       "      <td>2</td>\n",
       "      <td>5</td>\n",
       "      <td>4</td>\n",
       "      <td>10</td>\n",
       "    </tr>\n",
       "    <tr>\n",
       "      <td>2</td>\n",
       "      <td>Добавить блоки рекомендаций товаров на сайт ин...</td>\n",
       "      <td>8</td>\n",
       "      <td>3</td>\n",
       "      <td>7</td>\n",
       "      <td>3</td>\n",
       "    </tr>\n",
       "    <tr>\n",
       "      <td>3</td>\n",
       "      <td>Изменить структура категорий, что увеличит кон...</td>\n",
       "      <td>8</td>\n",
       "      <td>3</td>\n",
       "      <td>3</td>\n",
       "      <td>8</td>\n",
       "    </tr>\n",
       "    <tr>\n",
       "      <td>4</td>\n",
       "      <td>Изменить цвет фона главной страницы, чтобы уве...</td>\n",
       "      <td>3</td>\n",
       "      <td>1</td>\n",
       "      <td>1</td>\n",
       "      <td>1</td>\n",
       "    </tr>\n",
       "  </tbody>\n",
       "</table>\n",
       "</div>"
      ],
      "text/plain": [
       "                                          Hypothesis  Reach  Impact  \\\n",
       "0  Добавить два новых канала привлечения трафика,...      3      10   \n",
       "1  Запустить собственную службу доставки, что сок...      2       5   \n",
       "2  Добавить блоки рекомендаций товаров на сайт ин...      8       3   \n",
       "3  Изменить структура категорий, что увеличит кон...      8       3   \n",
       "4  Изменить цвет фона главной страницы, чтобы уве...      3       1   \n",
       "\n",
       "   Confidence  Efforts  \n",
       "0           8        6  \n",
       "1           4       10  \n",
       "2           7        3  \n",
       "3           3        8  \n",
       "4           1        1  "
      ]
     },
     "metadata": {},
     "output_type": "display_data"
    },
    {
     "name": "stdout",
     "output_type": "stream",
     "text": [
      "<class 'pandas.core.frame.DataFrame'>\n",
      "RangeIndex: 9 entries, 0 to 8\n",
      "Data columns (total 5 columns):\n",
      "Hypothesis    9 non-null object\n",
      "Reach         9 non-null int64\n",
      "Impact        9 non-null int64\n",
      "Confidence    9 non-null int64\n",
      "Efforts       9 non-null int64\n",
      "dtypes: int64(4), object(1)\n",
      "memory usage: 488.0+ bytes\n",
      "**************************************************\n"
     ]
    }
   ],
   "source": [
    "df_list = visitors, orders, hypothesis\n",
    "for df in df_list:\n",
    "    df.duplicated().sum()\n",
    "    display(df.head())\n",
    "    df.info()\n",
    "    print(50* '*')"
   ]
  },
  {
   "cell_type": "code",
   "execution_count": 4,
   "metadata": {},
   "outputs": [],
   "source": [
    "orders['date'] = pd.to_datetime(orders['date']).dt.date\n",
    "visitors['date'] = pd.to_datetime(visitors['date']).dt.date"
   ]
  },
  {
   "cell_type": "code",
   "execution_count": 5,
   "metadata": {},
   "outputs": [
    {
     "data": {
      "text/plain": [
       "(0, 0, 0)"
      ]
     },
     "execution_count": 5,
     "metadata": {},
     "output_type": "execute_result"
    }
   ],
   "source": [
    "visitors.duplicated().sum(), orders.duplicated().sum(), hypothesis.duplicated().sum()#проверим на дубликаты"
   ]
  },
  {
   "cell_type": "code",
   "execution_count": 6,
   "metadata": {},
   "outputs": [],
   "source": [
    "for df in df_list:\n",
    "    df.columns = df.columns.str.lower()\n",
    "    df.columns = [col.replace(\" \", \"_\") for col in df.columns]\n",
    "orders.rename(columns = {'transactionid' : 'transaction_id', 'visitorid' : 'visitor_id'}, inplace = True)\n",
    "#приведем названия столбцов к нижнему регистру и к snake_case"
   ]
  },
  {
   "cell_type": "code",
   "execution_count": 7,
   "metadata": {},
   "outputs": [
    {
     "data": {
      "text/plain": [
       "group          58\n",
       "group_names    58\n",
       "dtype: int64"
      ]
     },
     "metadata": {},
     "output_type": "display_data"
    }
   ],
   "source": [
    "duplicated_users = orders.groupby('visitor_id').agg({'group' : ['nunique', 'unique']})\n",
    "duplicated_users.columns = ['group', 'group_names']\n",
    "duplicated_users = duplicated_users.query('group > 1')\n",
    "display(duplicated_users.count())\n"
   ]
  },
  {
   "cell_type": "code",
   "execution_count": 8,
   "metadata": {},
   "outputs": [],
   "source": [
    "orders = orders.query('visitor_id not in @duplicated_users.index')"
   ]
  },
  {
   "cell_type": "markdown",
   "metadata": {},
   "source": [
    "`В датасетах пропуски и дубликаты отсутствуют, в датасетах orders и visitors в колонках с датами тип данных приведен к datatime; названия столбцов приведены к нижнему регистру и к snake_case, 58 пользователей попали в обе контрольные группы.`"
   ]
  },
  {
   "cell_type": "markdown",
   "metadata": {},
   "source": [
    "## Приоритизация гипотез."
   ]
  },
  {
   "cell_type": "markdown",
   "metadata": {},
   "source": [
    "### Применим фреймворк ICE для приоритизации гипотез. Отсортируем их по убыванию приоритета."
   ]
  },
  {
   "cell_type": "code",
   "execution_count": 9,
   "metadata": {},
   "outputs": [
    {
     "data": {
      "text/html": [
       "<div>\n",
       "<style scoped>\n",
       "    .dataframe tbody tr th:only-of-type {\n",
       "        vertical-align: middle;\n",
       "    }\n",
       "\n",
       "    .dataframe tbody tr th {\n",
       "        vertical-align: top;\n",
       "    }\n",
       "\n",
       "    .dataframe thead th {\n",
       "        text-align: right;\n",
       "    }\n",
       "</style>\n",
       "<table border=\"1\" class=\"dataframe\">\n",
       "  <thead>\n",
       "    <tr style=\"text-align: right;\">\n",
       "      <th></th>\n",
       "      <th>hypothesis</th>\n",
       "      <th>reach</th>\n",
       "      <th>impact</th>\n",
       "      <th>confidence</th>\n",
       "      <th>efforts</th>\n",
       "      <th>ice</th>\n",
       "    </tr>\n",
       "  </thead>\n",
       "  <tbody>\n",
       "    <tr>\n",
       "      <td>8</td>\n",
       "      <td>Запустить акцию, дающую скидку на товар в день рождения</td>\n",
       "      <td>1</td>\n",
       "      <td>9</td>\n",
       "      <td>9</td>\n",
       "      <td>5</td>\n",
       "      <td>16.20</td>\n",
       "    </tr>\n",
       "    <tr>\n",
       "      <td>0</td>\n",
       "      <td>Добавить два новых канала привлечения трафика, что позволит привлекать на 30% больше пользователей</td>\n",
       "      <td>3</td>\n",
       "      <td>10</td>\n",
       "      <td>8</td>\n",
       "      <td>6</td>\n",
       "      <td>13.33</td>\n",
       "    </tr>\n",
       "    <tr>\n",
       "      <td>7</td>\n",
       "      <td>Добавить форму подписки на все основные страницы, чтобы собрать базу клиентов для email-рассылок</td>\n",
       "      <td>10</td>\n",
       "      <td>7</td>\n",
       "      <td>8</td>\n",
       "      <td>5</td>\n",
       "      <td>11.20</td>\n",
       "    </tr>\n",
       "    <tr>\n",
       "      <td>6</td>\n",
       "      <td>Показать на главной странице баннеры с актуальными акциями и распродажами, чтобы увеличить конверсию</td>\n",
       "      <td>5</td>\n",
       "      <td>3</td>\n",
       "      <td>8</td>\n",
       "      <td>3</td>\n",
       "      <td>8.00</td>\n",
       "    </tr>\n",
       "    <tr>\n",
       "      <td>2</td>\n",
       "      <td>Добавить блоки рекомендаций товаров на сайт интернет магазина, чтобы повысить конверсию и средний чек заказа</td>\n",
       "      <td>8</td>\n",
       "      <td>3</td>\n",
       "      <td>7</td>\n",
       "      <td>3</td>\n",
       "      <td>7.00</td>\n",
       "    </tr>\n",
       "    <tr>\n",
       "      <td>1</td>\n",
       "      <td>Запустить собственную службу доставки, что сократит срок доставки заказов</td>\n",
       "      <td>2</td>\n",
       "      <td>5</td>\n",
       "      <td>4</td>\n",
       "      <td>10</td>\n",
       "      <td>2.00</td>\n",
       "    </tr>\n",
       "    <tr>\n",
       "      <td>5</td>\n",
       "      <td>Добавить страницу отзывов клиентов о магазине, что позволит увеличить количество заказов</td>\n",
       "      <td>3</td>\n",
       "      <td>2</td>\n",
       "      <td>2</td>\n",
       "      <td>3</td>\n",
       "      <td>1.33</td>\n",
       "    </tr>\n",
       "    <tr>\n",
       "      <td>3</td>\n",
       "      <td>Изменить структура категорий, что увеличит конверсию, т.к. пользователи быстрее найдут нужный товар</td>\n",
       "      <td>8</td>\n",
       "      <td>3</td>\n",
       "      <td>3</td>\n",
       "      <td>8</td>\n",
       "      <td>1.12</td>\n",
       "    </tr>\n",
       "    <tr>\n",
       "      <td>4</td>\n",
       "      <td>Изменить цвет фона главной страницы, чтобы увеличить вовлеченность пользователей</td>\n",
       "      <td>3</td>\n",
       "      <td>1</td>\n",
       "      <td>1</td>\n",
       "      <td>1</td>\n",
       "      <td>1.00</td>\n",
       "    </tr>\n",
       "  </tbody>\n",
       "</table>\n",
       "</div>"
      ],
      "text/plain": [
       "                                                                                                     hypothesis  \\\n",
       "8                                                       Запустить акцию, дающую скидку на товар в день рождения   \n",
       "0            Добавить два новых канала привлечения трафика, что позволит привлекать на 30% больше пользователей   \n",
       "7              Добавить форму подписки на все основные страницы, чтобы собрать базу клиентов для email-рассылок   \n",
       "6          Показать на главной странице баннеры с актуальными акциями и распродажами, чтобы увеличить конверсию   \n",
       "2  Добавить блоки рекомендаций товаров на сайт интернет магазина, чтобы повысить конверсию и средний чек заказа   \n",
       "1                                     Запустить собственную службу доставки, что сократит срок доставки заказов   \n",
       "5                      Добавить страницу отзывов клиентов о магазине, что позволит увеличить количество заказов   \n",
       "3           Изменить структура категорий, что увеличит конверсию, т.к. пользователи быстрее найдут нужный товар   \n",
       "4                              Изменить цвет фона главной страницы, чтобы увеличить вовлеченность пользователей   \n",
       "\n",
       "   reach  impact  confidence  efforts   ice  \n",
       "8      1       9           9        5 16.20  \n",
       "0      3      10           8        6 13.33  \n",
       "7     10       7           8        5 11.20  \n",
       "6      5       3           8        3  8.00  \n",
       "2      8       3           7        3  7.00  \n",
       "1      2       5           4       10  2.00  \n",
       "5      3       2           2        3  1.33  \n",
       "3      8       3           3        8  1.12  \n",
       "4      3       1           1        1  1.00  "
      ]
     },
     "execution_count": 9,
     "metadata": {},
     "output_type": "execute_result"
    }
   ],
   "source": [
    "pd.set_option('display.max_columns', None)\n",
    "pd.options.display.max_colwidth = 150  \n",
    "hypothesis['ice'] = (hypothesis['impact'] * hypothesis['confidence']) / hypothesis['efforts'] #Посчитаем ICE для гипотез\n",
    "hypothesis.sort_values('ice', ascending=False)"
   ]
  },
  {
   "cell_type": "code",
   "execution_count": 10,
   "metadata": {},
   "outputs": [
    {
     "data": {
      "image/png": "[encoded data removed]",
      "text/plain": [
       "<Figure size 432x288 with 1 Axes>"
      ]
     },
     "metadata": {
      "needs_background": "light"
     },
     "output_type": "display_data"
    }
   ],
   "source": [
    "ax = hypothesis[['hypothesis', 'ice']].set_index('hypothesis').sort_values('ice', ascending=True).plot(kind='barh')\n",
    "ax.set_xlabel('Приоритет')\n",
    "ax.set_ylabel('Гипотеза')\n",
    "ax.set_title('ICE')\n",
    "plt.show()"
   ]
  },
  {
   "cell_type": "markdown",
   "metadata": {},
   "source": [
    "### Применим фреймворк RICE для приоритизации гипотез. Отсортируем их по убыванию приоритета."
   ]
  },
  {
   "cell_type": "code",
   "execution_count": 11,
   "metadata": {},
   "outputs": [
    {
     "data": {
      "text/html": [
       "<div>\n",
       "<style scoped>\n",
       "    .dataframe tbody tr th:only-of-type {\n",
       "        vertical-align: middle;\n",
       "    }\n",
       "\n",
       "    .dataframe tbody tr th {\n",
       "        vertical-align: top;\n",
       "    }\n",
       "\n",
       "    .dataframe thead th {\n",
       "        text-align: right;\n",
       "    }\n",
       "</style>\n",
       "<table border=\"1\" class=\"dataframe\">\n",
       "  <thead>\n",
       "    <tr style=\"text-align: right;\">\n",
       "      <th></th>\n",
       "      <th>hypothesis</th>\n",
       "      <th>rice</th>\n",
       "    </tr>\n",
       "  </thead>\n",
       "  <tbody>\n",
       "    <tr>\n",
       "      <td>7</td>\n",
       "      <td>Добавить форму подписки на все основные страницы, чтобы собрать базу клиентов для email-рассылок</td>\n",
       "      <td>112.00</td>\n",
       "    </tr>\n",
       "    <tr>\n",
       "      <td>2</td>\n",
       "      <td>Добавить блоки рекомендаций товаров на сайт интернет магазина, чтобы повысить конверсию и средний чек заказа</td>\n",
       "      <td>56.00</td>\n",
       "    </tr>\n",
       "    <tr>\n",
       "      <td>0</td>\n",
       "      <td>Добавить два новых канала привлечения трафика, что позволит привлекать на 30% больше пользователей</td>\n",
       "      <td>40.00</td>\n",
       "    </tr>\n",
       "    <tr>\n",
       "      <td>6</td>\n",
       "      <td>Показать на главной странице баннеры с актуальными акциями и распродажами, чтобы увеличить конверсию</td>\n",
       "      <td>40.00</td>\n",
       "    </tr>\n",
       "    <tr>\n",
       "      <td>8</td>\n",
       "      <td>Запустить акцию, дающую скидку на товар в день рождения</td>\n",
       "      <td>16.20</td>\n",
       "    </tr>\n",
       "    <tr>\n",
       "      <td>3</td>\n",
       "      <td>Изменить структура категорий, что увеличит конверсию, т.к. пользователи быстрее найдут нужный товар</td>\n",
       "      <td>9.00</td>\n",
       "    </tr>\n",
       "    <tr>\n",
       "      <td>1</td>\n",
       "      <td>Запустить собственную службу доставки, что сократит срок доставки заказов</td>\n",
       "      <td>4.00</td>\n",
       "    </tr>\n",
       "    <tr>\n",
       "      <td>5</td>\n",
       "      <td>Добавить страницу отзывов клиентов о магазине, что позволит увеличить количество заказов</td>\n",
       "      <td>4.00</td>\n",
       "    </tr>\n",
       "    <tr>\n",
       "      <td>4</td>\n",
       "      <td>Изменить цвет фона главной страницы, чтобы увеличить вовлеченность пользователей</td>\n",
       "      <td>3.00</td>\n",
       "    </tr>\n",
       "  </tbody>\n",
       "</table>\n",
       "</div>"
      ],
      "text/plain": [
       "                                                                                                     hypothesis  \\\n",
       "7              Добавить форму подписки на все основные страницы, чтобы собрать базу клиентов для email-рассылок   \n",
       "2  Добавить блоки рекомендаций товаров на сайт интернет магазина, чтобы повысить конверсию и средний чек заказа   \n",
       "0            Добавить два новых канала привлечения трафика, что позволит привлекать на 30% больше пользователей   \n",
       "6          Показать на главной странице баннеры с актуальными акциями и распродажами, чтобы увеличить конверсию   \n",
       "8                                                       Запустить акцию, дающую скидку на товар в день рождения   \n",
       "3           Изменить структура категорий, что увеличит конверсию, т.к. пользователи быстрее найдут нужный товар   \n",
       "1                                     Запустить собственную службу доставки, что сократит срок доставки заказов   \n",
       "5                      Добавить страницу отзывов клиентов о магазине, что позволит увеличить количество заказов   \n",
       "4                              Изменить цвет фона главной страницы, чтобы увеличить вовлеченность пользователей   \n",
       "\n",
       "    rice  \n",
       "7 112.00  \n",
       "2  56.00  \n",
       "0  40.00  \n",
       "6  40.00  \n",
       "8  16.20  \n",
       "3   9.00  \n",
       "1   4.00  \n",
       "5   4.00  \n",
       "4   3.00  "
      ]
     },
     "execution_count": 11,
     "metadata": {},
     "output_type": "execute_result"
    }
   ],
   "source": [
    "hypothesis['rice'] = (hypothesis['confidence']*hypothesis['impact']*hypothesis['reach']) / hypothesis['efforts']\n",
    "hypothesis.sort_values(by='rice', ascending=False)[['hypothesis', 'rice']]#Посчитаем RICE для гипотез"
   ]
  },
  {
   "cell_type": "code",
   "execution_count": 12,
   "metadata": {},
   "outputs": [
    {
     "data": {
      "image/png": "[encoded data removed]",
      "text/plain": [
       "<Figure size 432x288 with 1 Axes>"
      ]
     },
     "metadata": {
      "needs_background": "light"
     },
     "output_type": "display_data"
    }
   ],
   "source": [
    "ax = hypothesis[['hypothesis', 'rice']].set_index('hypothesis').sort_values('rice', ascending=True).plot(kind='barh')\n",
    "ax.set_xlabel('Приоритет')\n",
    "ax.set_ylabel('Гипотеза')\n",
    "ax.set_title('ICE')\n",
    "plt.show()"
   ]
  },
  {
   "cell_type": "markdown",
   "metadata": {},
   "source": [
    "### Посмотрим как изменилась приоритизация гипотез при применении RICE вместо ICE"
   ]
  },
  {
   "cell_type": "code",
   "execution_count": 13,
   "metadata": {
    "scrolled": true
   },
   "outputs": [
    {
     "data": {
      "text/html": [
       "<div>\n",
       "<style scoped>\n",
       "    .dataframe tbody tr th:only-of-type {\n",
       "        vertical-align: middle;\n",
       "    }\n",
       "\n",
       "    .dataframe tbody tr th {\n",
       "        vertical-align: top;\n",
       "    }\n",
       "\n",
       "    .dataframe thead th {\n",
       "        text-align: right;\n",
       "    }\n",
       "</style>\n",
       "<table border=\"1\" class=\"dataframe\">\n",
       "  <thead>\n",
       "    <tr style=\"text-align: right;\">\n",
       "      <th></th>\n",
       "      <th>hypothesis</th>\n",
       "      <th>reach</th>\n",
       "      <th>impact</th>\n",
       "      <th>confidence</th>\n",
       "      <th>efforts</th>\n",
       "      <th>ice</th>\n",
       "      <th>rice</th>\n",
       "    </tr>\n",
       "  </thead>\n",
       "  <tbody>\n",
       "    <tr>\n",
       "      <td>7</td>\n",
       "      <td>Добавить форму подписки на все основные страницы, чтобы собрать базу клиентов для email-рассылок</td>\n",
       "      <td>10</td>\n",
       "      <td>7</td>\n",
       "      <td>8</td>\n",
       "      <td>5</td>\n",
       "      <td>11.20</td>\n",
       "      <td>112.00</td>\n",
       "    </tr>\n",
       "    <tr>\n",
       "      <td>2</td>\n",
       "      <td>Добавить блоки рекомендаций товаров на сайт интернет магазина, чтобы повысить конверсию и средний чек заказа</td>\n",
       "      <td>8</td>\n",
       "      <td>3</td>\n",
       "      <td>7</td>\n",
       "      <td>3</td>\n",
       "      <td>7.00</td>\n",
       "      <td>56.00</td>\n",
       "    </tr>\n",
       "    <tr>\n",
       "      <td>0</td>\n",
       "      <td>Добавить два новых канала привлечения трафика, что позволит привлекать на 30% больше пользователей</td>\n",
       "      <td>3</td>\n",
       "      <td>10</td>\n",
       "      <td>8</td>\n",
       "      <td>6</td>\n",
       "      <td>13.33</td>\n",
       "      <td>40.00</td>\n",
       "    </tr>\n",
       "    <tr>\n",
       "      <td>6</td>\n",
       "      <td>Показать на главной странице баннеры с актуальными акциями и распродажами, чтобы увеличить конверсию</td>\n",
       "      <td>5</td>\n",
       "      <td>3</td>\n",
       "      <td>8</td>\n",
       "      <td>3</td>\n",
       "      <td>8.00</td>\n",
       "      <td>40.00</td>\n",
       "    </tr>\n",
       "    <tr>\n",
       "      <td>8</td>\n",
       "      <td>Запустить акцию, дающую скидку на товар в день рождения</td>\n",
       "      <td>1</td>\n",
       "      <td>9</td>\n",
       "      <td>9</td>\n",
       "      <td>5</td>\n",
       "      <td>16.20</td>\n",
       "      <td>16.20</td>\n",
       "    </tr>\n",
       "    <tr>\n",
       "      <td>3</td>\n",
       "      <td>Изменить структура категорий, что увеличит конверсию, т.к. пользователи быстрее найдут нужный товар</td>\n",
       "      <td>8</td>\n",
       "      <td>3</td>\n",
       "      <td>3</td>\n",
       "      <td>8</td>\n",
       "      <td>1.12</td>\n",
       "      <td>9.00</td>\n",
       "    </tr>\n",
       "    <tr>\n",
       "      <td>1</td>\n",
       "      <td>Запустить собственную службу доставки, что сократит срок доставки заказов</td>\n",
       "      <td>2</td>\n",
       "      <td>5</td>\n",
       "      <td>4</td>\n",
       "      <td>10</td>\n",
       "      <td>2.00</td>\n",
       "      <td>4.00</td>\n",
       "    </tr>\n",
       "    <tr>\n",
       "      <td>5</td>\n",
       "      <td>Добавить страницу отзывов клиентов о магазине, что позволит увеличить количество заказов</td>\n",
       "      <td>3</td>\n",
       "      <td>2</td>\n",
       "      <td>2</td>\n",
       "      <td>3</td>\n",
       "      <td>1.33</td>\n",
       "      <td>4.00</td>\n",
       "    </tr>\n",
       "    <tr>\n",
       "      <td>4</td>\n",
       "      <td>Изменить цвет фона главной страницы, чтобы увеличить вовлеченность пользователей</td>\n",
       "      <td>3</td>\n",
       "      <td>1</td>\n",
       "      <td>1</td>\n",
       "      <td>1</td>\n",
       "      <td>1.00</td>\n",
       "      <td>3.00</td>\n",
       "    </tr>\n",
       "  </tbody>\n",
       "</table>\n",
       "</div>"
      ],
      "text/plain": [
       "                                                                                                     hypothesis  \\\n",
       "7              Добавить форму подписки на все основные страницы, чтобы собрать базу клиентов для email-рассылок   \n",
       "2  Добавить блоки рекомендаций товаров на сайт интернет магазина, чтобы повысить конверсию и средний чек заказа   \n",
       "0            Добавить два новых канала привлечения трафика, что позволит привлекать на 30% больше пользователей   \n",
       "6          Показать на главной странице баннеры с актуальными акциями и распродажами, чтобы увеличить конверсию   \n",
       "8                                                       Запустить акцию, дающую скидку на товар в день рождения   \n",
       "3           Изменить структура категорий, что увеличит конверсию, т.к. пользователи быстрее найдут нужный товар   \n",
       "1                                     Запустить собственную службу доставки, что сократит срок доставки заказов   \n",
       "5                      Добавить страницу отзывов клиентов о магазине, что позволит увеличить количество заказов   \n",
       "4                              Изменить цвет фона главной страницы, чтобы увеличить вовлеченность пользователей   \n",
       "\n",
       "   reach  impact  confidence  efforts   ice   rice  \n",
       "7     10       7           8        5 11.20 112.00  \n",
       "2      8       3           7        3  7.00  56.00  \n",
       "0      3      10           8        6 13.33  40.00  \n",
       "6      5       3           8        3  8.00  40.00  \n",
       "8      1       9           9        5 16.20  16.20  \n",
       "3      8       3           3        8  1.12   9.00  \n",
       "1      2       5           4       10  2.00   4.00  \n",
       "5      3       2           2        3  1.33   4.00  \n",
       "4      3       1           1        1  1.00   3.00  "
      ]
     },
     "execution_count": 13,
     "metadata": {},
     "output_type": "execute_result"
    }
   ],
   "source": [
    "hypothesis.sort_values(by='rice', ascending=False)"
   ]
  },
  {
   "cell_type": "markdown",
   "metadata": {},
   "source": [
    "Приоритизация гипотез при применении RICE изменился т.к. при расчете RICE ипользуется параметр Reach, т.е. параметр охвата пользователей. В первую очередь будем проверять гипотезы набравшие наибольшее количество балов."
   ]
  },
  {
   "cell_type": "markdown",
   "metadata": {},
   "source": [
    "В первую очередь будем проверять гипотезы набравшие наибольшее количество балов. Например проверяем 4 гипотезы в таком порядке:\n",
    "* 1) Запустить акцию, дающую скидку на товар в день рождения(акция не требующая почти никиких трудозатрат)\n",
    "* 2) Добавить форму подписки на все основные страницы, чтобы собрать базу клиентов для email-рассылок\n",
    "* 3) Добавить блоки рекомендаций товаров на сайт интернет магазина, чтобы повысить конверсию и средний чек заказа\t\n",
    "* 4) Добавить два новых канала привлечения трафика, что позволит привлекать на 30% больше пользователей\n"
   ]
  },
  {
   "cell_type": "markdown",
   "metadata": {},
   "source": [
    "## Анализ A/B-теста"
   ]
  },
  {
   "cell_type": "markdown",
   "metadata": {},
   "source": [
    "### Получим кумулятивные данные"
   ]
  },
  {
   "cell_type": "code",
   "execution_count": 14,
   "metadata": {},
   "outputs": [
    {
     "data": {
      "text/html": [
       "<div>\n",
       "<style scoped>\n",
       "    .dataframe tbody tr th:only-of-type {\n",
       "        vertical-align: middle;\n",
       "    }\n",
       "\n",
       "    .dataframe tbody tr th {\n",
       "        vertical-align: top;\n",
       "    }\n",
       "\n",
       "    .dataframe thead th {\n",
       "        text-align: right;\n",
       "    }\n",
       "</style>\n",
       "<table border=\"1\" class=\"dataframe\">\n",
       "  <thead>\n",
       "    <tr style=\"text-align: right;\">\n",
       "      <th></th>\n",
       "      <th>date</th>\n",
       "      <th>group</th>\n",
       "      <th>orders</th>\n",
       "      <th>buyers</th>\n",
       "      <th>revenue</th>\n",
       "      <th>visitors</th>\n",
       "    </tr>\n",
       "  </thead>\n",
       "  <tbody>\n",
       "    <tr>\n",
       "      <td>0</td>\n",
       "      <td>2019-08-01</td>\n",
       "      <td>A</td>\n",
       "      <td>19</td>\n",
       "      <td>23</td>\n",
       "      <td>142779</td>\n",
       "      <td>719</td>\n",
       "    </tr>\n",
       "    <tr>\n",
       "      <td>1</td>\n",
       "      <td>2019-08-01</td>\n",
       "      <td>B</td>\n",
       "      <td>17</td>\n",
       "      <td>17</td>\n",
       "      <td>59758</td>\n",
       "      <td>713</td>\n",
       "    </tr>\n",
       "    <tr>\n",
       "      <td>2</td>\n",
       "      <td>2019-08-02</td>\n",
       "      <td>A</td>\n",
       "      <td>36</td>\n",
       "      <td>42</td>\n",
       "      <td>234381</td>\n",
       "      <td>1338</td>\n",
       "    </tr>\n",
       "    <tr>\n",
       "      <td>3</td>\n",
       "      <td>2019-08-02</td>\n",
       "      <td>B</td>\n",
       "      <td>39</td>\n",
       "      <td>40</td>\n",
       "      <td>221801</td>\n",
       "      <td>1294</td>\n",
       "    </tr>\n",
       "    <tr>\n",
       "      <td>4</td>\n",
       "      <td>2019-08-03</td>\n",
       "      <td>A</td>\n",
       "      <td>60</td>\n",
       "      <td>66</td>\n",
       "      <td>346854</td>\n",
       "      <td>1845</td>\n",
       "    </tr>\n",
       "  </tbody>\n",
       "</table>\n",
       "</div>"
      ],
      "text/plain": [
       "         date group  orders  buyers  revenue  visitors\n",
       "0  2019-08-01     A      19      23   142779       719\n",
       "1  2019-08-01     B      17      17    59758       713\n",
       "2  2019-08-02     A      36      42   234381      1338\n",
       "3  2019-08-02     B      39      40   221801      1294\n",
       "4  2019-08-03     A      60      66   346854      1845"
      ]
     },
     "execution_count": 14,
     "metadata": {},
     "output_type": "execute_result"
    }
   ],
   "source": [
    "datesGroups = orders[['date','group']].drop_duplicates()\n",
    "\n",
    "ordersAggregated = datesGroups.apply(\n",
    "lambda x: orders[np.logical_and(orders['date'] <= x['date'], orders['group'] == x['group'])].agg({\n",
    "'date' : 'max',\n",
    "'group' : 'max',\n",
    "'visitor_id' : pd.Series.nunique,\n",
    "'transaction_id' : pd.Series.nunique,\n",
    "'revenue' : 'sum'}), axis=1).sort_values(by=['date','group']) \n",
    "\n",
    "visitorsAggregated = datesGroups.apply(\n",
    "    lambda x: visitors[np.logical_and(visitors['date'] <= x['date'], visitors['group'] == x['group'])].agg({\n",
    "'date' : 'max',\n",
    "'group' : 'max',\n",
    "'visitors' : 'sum'}), axis=1).sort_values(by=['date','group'])   \n",
    "\n",
    "cumulativeData = ordersAggregated.merge(visitorsAggregated, left_on=['date', 'group'], right_on=['date', 'group'])\n",
    "\n",
    "cumulativeData.columns = ['date', 'group', 'orders', 'buyers', 'revenue', 'visitors']\n",
    "\n",
    "cumulativeData.head()"
   ]
  },
  {
   "cell_type": "markdown",
   "metadata": {},
   "source": [
    "### Построим график кумулятивной выручки по группам"
   ]
  },
  {
   "cell_type": "code",
   "execution_count": 15,
   "metadata": {},
   "outputs": [
    {
     "data": {
      "image/png": "[encoded data removed]",
      "text/plain": [
       "<Figure size 864x432 with 1 Axes>"
      ]
     },
     "metadata": {
      "needs_background": "light"
     },
     "output_type": "display_data"
    }
   ],
   "source": [
    "plt.figure(figsize= (12,6))\n",
    "\n",
    "# датафрейм с кумулятивным количеством заказов и кумулятивной выручкой по дням в группе А\n",
    "cumulativeRevenueA = cumulativeData[cumulativeData['group']=='A'][['date','revenue', 'orders']]\n",
    "\n",
    "# датафрейм с кумулятивным количеством заказов и кумулятивной выручкой по дням в группе B\n",
    "cumulativeRevenueB = cumulativeData[cumulativeData['group']=='B'][['date','revenue', 'orders']]\n",
    "\n",
    "# Строим график выручки группы А\n",
    "plt.plot(cumulativeRevenueA['date'], cumulativeRevenueA['revenue'], label='A')\n",
    "\n",
    "# Строим график выручки группы B\n",
    "plt.plot(cumulativeRevenueB['date'], cumulativeRevenueB['revenue'], label='B')\n",
    "plt.title('График кумулятивного среднего чека по группам')\n",
    "plt.ylabel(\"Выручка (рублей)\",fontsize = 12)\n",
    "plt.grid()\n",
    "plt.legend();\n"
   ]
  },
  {
   "cell_type": "markdown",
   "metadata": {},
   "source": [
    "Обе группы идут примерно одинокого, группа В с 2019-08-05 ненамного начинает обгонять группу А, 18-19 августа в группе В происходит резкий скачок выручки, видимо в этой группе было произведено несколько крупных покупок. Далее рост в обеих группах идет примерно одинакого."
   ]
  },
  {
   "cell_type": "markdown",
   "metadata": {},
   "source": [
    "### Построим график кумулятивного среднего чека по группам"
   ]
  },
  {
   "cell_type": "code",
   "execution_count": 16,
   "metadata": {},
   "outputs": [
    {
     "data": {
      "image/png": "[encoded data removed]",
      "text/plain": [
       "<Figure size 864x432 with 1 Axes>"
      ]
     },
     "metadata": {
      "needs_background": "light"
     },
     "output_type": "display_data"
    }
   ],
   "source": [
    "plt.figure(figsize= (12,6))\n",
    "plt.plot(cumulativeRevenueA['date'], cumulativeRevenueA['revenue']/cumulativeRevenueA['orders'], label='A')\n",
    "plt.plot(cumulativeRevenueB['date'], cumulativeRevenueB['revenue']/cumulativeRevenueB['orders'], label='B')\n",
    "plt.title('График кумулятивного среднего чека по группам')\n",
    "plt.ylabel(\"Средний чек (рублей)\",fontsize = 12)\n",
    "plt.grid()\n",
    "plt.legend();"
   ]
  },
  {
   "cell_type": "markdown",
   "metadata": {},
   "source": [
    "Средний чек в обеих группах примерно сравнивается после 2019-08-15, после чего в группе В происходит резкий скачок, далее показатель снижается."
   ]
  },
  {
   "cell_type": "markdown",
   "metadata": {},
   "source": [
    "### Построим график относительного изменения кумулятивного среднего чека группы B к группе A."
   ]
  },
  {
   "cell_type": "code",
   "execution_count": 17,
   "metadata": {},
   "outputs": [
    {
     "data": {
      "image/png": "[encoded data removed]",
      "text/plain": [
       "<Figure size 864x360 with 1 Axes>"
      ]
     },
     "metadata": {
      "needs_background": "light"
     },
     "output_type": "display_data"
    }
   ],
   "source": [
    "plt.figure(figsize= (12,5))\n",
    "# собираем данные в одном датафрейме\n",
    "mergedCumulativeRevenue = cumulativeRevenueA.merge(cumulativeRevenueB, left_on='date', right_on='date', how='left', suffixes=['A', 'B'])\n",
    "\n",
    "plt.title('График относительного изменения кумулятивного среднего чека группы B к группе A')\n",
    "\n",
    "# cтроим отношение средних чеков\n",
    "plt.plot(mergedCumulativeRevenue['date'], (mergedCumulativeRevenue['revenueB']/mergedCumulativeRevenue['ordersB'])/(mergedCumulativeRevenue['revenueA']/mergedCumulativeRevenue['ordersA'])-1)\n",
    "\n",
    "# добавляем ось X\n",
    "plt.axhline(y=0, color='black', linestyle='--');"
   ]
  },
  {
   "cell_type": "markdown",
   "metadata": {},
   "source": [
    "Группа В борется с группой А за лидерство с переменным успехом, но естественно после аномально крупных покупок выбивается в лидеры. Соотношение после этого начинает сразу же снижаться."
   ]
  },
  {
   "cell_type": "markdown",
   "metadata": {},
   "source": [
    "### Построим график кумулятивной конверсии по группам"
   ]
  },
  {
   "cell_type": "code",
   "execution_count": 18,
   "metadata": {},
   "outputs": [
    {
     "data": {
      "image/png": "[encoded data removed]",
      "text/plain": [
       "<Figure size 864x432 with 1 Axes>"
      ]
     },
     "metadata": {
      "needs_background": "light"
     },
     "output_type": "display_data"
    }
   ],
   "source": [
    "plt.figure(figsize= (12,6))\n",
    "# считаем кумулятивную конверсию\n",
    "cumulativeData['conversion'] = cumulativeData['orders']/cumulativeData['visitors']\n",
    "\n",
    "# отделяем данные по группе A\n",
    "cumulativeDataA = cumulativeData[cumulativeData['group']=='A']\n",
    "\n",
    "# отделяем данные по группе B\n",
    "cumulativeDataB = cumulativeData[cumulativeData['group']=='B']\n",
    "\n",
    "# строим графики\n",
    "plt.plot(cumulativeDataA['date'], cumulativeDataA['conversion'], label='A')\n",
    "plt.plot(cumulativeDataB['date'], cumulativeDataB['conversion'], label='B')\n",
    "plt.title('График кумулятивной конверсии по группам')\n",
    "plt.grid()\n",
    "plt.legend()\n",
    "plt.axis([datetime(2019, 8, 1), datetime(2019, 9, 1), 0.02, 0.04]);"
   ]
  },
  {
   "cell_type": "markdown",
   "metadata": {},
   "source": [
    "По графику конверсия группы В лучше, после пятого числа и до конца теста"
   ]
  },
  {
   "cell_type": "markdown",
   "metadata": {},
   "source": [
    "### Построим график относительного изменения кумулятивной конверсии группы B к группе A"
   ]
  },
  {
   "cell_type": "code",
   "execution_count": 19,
   "metadata": {},
   "outputs": [
    {
     "data": {
      "image/png": "[encoded data removed]",
      "text/plain": [
       "<Figure size 864x432 with 1 Axes>"
      ]
     },
     "metadata": {
      "needs_background": "light"
     },
     "output_type": "display_data"
    }
   ],
   "source": [
    "mergedCumulativeConversions = cumulativeDataA[['date','conversion']].merge(cumulativeDataB[['date','conversion']], left_on='date', right_on='date', how='left', suffixes=['A', 'B'])\n",
    "plt.figure(figsize= (12,6))\n",
    "plt.plot(mergedCumulativeConversions['date'], mergedCumulativeConversions['conversionB']/mergedCumulativeConversions['conversionA']-1, label=\"Относительный прирост конверсии группы B относительно группы A\")\n",
    "plt.title('График относительного изменения кумулятивной конверсии группы B к группе A')\n",
    "plt.axhline(y=0, color='black', linestyle='--')\n",
    "plt.axhline(y=0.2, color='grey', linestyle='--')\n",
    "plt.axis([\"2019-08-01\", '2019-09-01', -0.2, 0.43]);"
   ]
  },
  {
   "cell_type": "markdown",
   "metadata": {},
   "source": [
    "Действительно, конверсия группы В лучше на всем протяжении теста, кроме промежутка с 3 по 5 августа."
   ]
  },
  {
   "cell_type": "markdown",
   "metadata": {},
   "source": [
    "### Построим точечный график количества заказов по пользователям"
   ]
  },
  {
   "cell_type": "code",
   "execution_count": 20,
   "metadata": {},
   "outputs": [],
   "source": [
    "ordersByUsers = orders.drop(['group', 'revenue', 'date'], axis=1).groupby('visitor_id', as_index=False).agg({'transaction_id' : pd.Series.nunique})\n",
    "ordersByUsers.columns = ['visitor_id', 'orders']"
   ]
  },
  {
   "cell_type": "code",
   "execution_count": 21,
   "metadata": {},
   "outputs": [
    {
     "name": "stdout",
     "output_type": "stream",
     "text": [
      "     visitor_id  orders\n",
      "908  3967698036       3\n",
      "55    249864742       3\n",
      "478  2108163459       3\n",
      "687  2988190573       3\n",
      "890  3908431265       3\n",
      "138   611059232       3\n",
      "632  2742574263       3\n",
      "157   678354126       2\n",
      "323  1404560065       2\n",
      "452  1985475298       2\n"
     ]
    },
    {
     "data": {
      "image/png": "[encoded data removed]",
      "text/plain": [
       "<Figure size 432x288 with 1 Axes>"
      ]
     },
     "metadata": {
      "needs_background": "light"
     },
     "output_type": "display_data"
    }
   ],
   "source": [
    "ordersByUsers = (\n",
    "\n",
    "    orders.groupby('visitor_id', as_index=False)\n",
    "\n",
    "    .agg({'transaction_id': pd.Series.nunique})\n",
    ")\n",
    "ordersByUsers.columns = ['visitor_id', 'orders']\n",
    "print(ordersByUsers.sort_values(by='orders', ascending=False).head(10))\n",
    "x_values = pd.Series(range(0, len(ordersByUsers)))\n",
    "plt.title('Точечный график количества заказов по пользователям')\n",
    "plt.ylabel(\"Количество заказов, шт.\",fontsize = 12)\n",
    "plt.scatter(x_values, ordersByUsers['orders']);"
   ]
  },
  {
   "cell_type": "markdown",
   "metadata": {},
   "source": [
    "Присутвуют пользователи с аномально большим количеством заказов. Есть пользователи 2-3 заказами"
   ]
  },
  {
   "cell_type": "markdown",
   "metadata": {},
   "source": [
    "### Посчитаем 95-й и 99-й перцентили количества заказов на пользователя. Выберем границу для определения аномальных пользователей"
   ]
  },
  {
   "cell_type": "code",
   "execution_count": 35,
   "metadata": {},
   "outputs": [
    {
     "name": "stdout",
     "output_type": "stream",
     "text": [
      "[1. 2.]\n"
     ]
    }
   ],
   "source": [
    "print(np.percentile(ordersByUsers['orders'],  [95, 99]))"
   ]
  },
  {
   "cell_type": "markdown",
   "metadata": {},
   "source": [
    " Не более 5 % пользователей заказывало более 1 раз. Выберем границу в 95%, не более 1 заказа."
   ]
  },
  {
   "cell_type": "markdown",
   "metadata": {},
   "source": [
    "### Построим точечный график стоимостей заказов"
   ]
  },
  {
   "cell_type": "code",
   "execution_count": 23,
   "metadata": {},
   "outputs": [
    {
     "data": {
      "image/png": "[encoded data removed]",
      "text/plain": [
       "<Figure size 432x288 with 1 Axes>"
      ]
     },
     "metadata": {
      "needs_background": "light"
     },
     "output_type": "display_data"
    }
   ],
   "source": [
    "x_values = pd.Series(range(0,len(orders['revenue'])))\n",
    "plt.title('Точечный график стоимостей заказов')\n",
    "plt.ylabel(\"Стоимость заказов, рублей\",fontsize = 12)\n",
    "plt.scatter(x_values, orders['revenue']);"
   ]
  },
  {
   "cell_type": "markdown",
   "metadata": {},
   "source": [
    "Как и ожидалось присутвуют показатели с аномально высоким чеком."
   ]
  },
  {
   "cell_type": "markdown",
   "metadata": {},
   "source": [
    "### Посчитайте 95-й и 99-й перцентили стоимости заказов. Выберите границу для определения аномальных заказов"
   ]
  },
  {
   "cell_type": "code",
   "execution_count": 24,
   "metadata": {},
   "outputs": [
    {
     "name": "stdout",
     "output_type": "stream",
     "text": [
      "[26785. 53904.]\n"
     ]
    }
   ],
   "source": [
    "print(np.percentile(orders['revenue'], [95, 99]))"
   ]
  },
  {
   "cell_type": "markdown",
   "metadata": {},
   "source": [
    "Не более 5% заказов >= 26785 и не более 1% заказов дороже 53904 Зададим 26785 как предел для определения аномалий"
   ]
  },
  {
   "cell_type": "markdown",
   "metadata": {},
   "source": [
    "### Посчитаем статистическую значимость различий в конверсии между группами по «сырым» данным"
   ]
  },
  {
   "cell_type": "code",
   "execution_count": 25,
   "metadata": {},
   "outputs": [
    {
     "data": {
      "text/html": [
       "<div>\n",
       "<style scoped>\n",
       "    .dataframe tbody tr th:only-of-type {\n",
       "        vertical-align: middle;\n",
       "    }\n",
       "\n",
       "    .dataframe tbody tr th {\n",
       "        vertical-align: top;\n",
       "    }\n",
       "\n",
       "    .dataframe thead th {\n",
       "        text-align: right;\n",
       "    }\n",
       "</style>\n",
       "<table border=\"1\" class=\"dataframe\">\n",
       "  <thead>\n",
       "    <tr style=\"text-align: right;\">\n",
       "      <th></th>\n",
       "      <th>date</th>\n",
       "      <th>ordersPerDateA</th>\n",
       "      <th>revenuePerDateA</th>\n",
       "      <th>ordersPerDateB</th>\n",
       "      <th>revenuePerDateB</th>\n",
       "      <th>ordersCummulativeA</th>\n",
       "      <th>revenueCummulativeA</th>\n",
       "      <th>ordersCummulativeB</th>\n",
       "      <th>revenueCummulativeB</th>\n",
       "      <th>visitorsPerDateA</th>\n",
       "      <th>visitorsPerDateB</th>\n",
       "      <th>visitorsCummulativeA</th>\n",
       "      <th>visitorsCummulativeB</th>\n",
       "    </tr>\n",
       "  </thead>\n",
       "  <tbody>\n",
       "    <tr>\n",
       "      <td>0</td>\n",
       "      <td>2019-08-01</td>\n",
       "      <td>23</td>\n",
       "      <td>142779</td>\n",
       "      <td>17</td>\n",
       "      <td>59758</td>\n",
       "      <td>23</td>\n",
       "      <td>142779</td>\n",
       "      <td>17</td>\n",
       "      <td>59758</td>\n",
       "      <td>719</td>\n",
       "      <td>713</td>\n",
       "      <td>719</td>\n",
       "      <td>713</td>\n",
       "    </tr>\n",
       "    <tr>\n",
       "      <td>1</td>\n",
       "      <td>2019-08-02</td>\n",
       "      <td>19</td>\n",
       "      <td>91602</td>\n",
       "      <td>23</td>\n",
       "      <td>162043</td>\n",
       "      <td>42</td>\n",
       "      <td>234381</td>\n",
       "      <td>40</td>\n",
       "      <td>221801</td>\n",
       "      <td>619</td>\n",
       "      <td>581</td>\n",
       "      <td>1338</td>\n",
       "      <td>1294</td>\n",
       "    </tr>\n",
       "    <tr>\n",
       "      <td>2</td>\n",
       "      <td>2019-08-03</td>\n",
       "      <td>24</td>\n",
       "      <td>112473</td>\n",
       "      <td>14</td>\n",
       "      <td>67049</td>\n",
       "      <td>66</td>\n",
       "      <td>346854</td>\n",
       "      <td>54</td>\n",
       "      <td>288850</td>\n",
       "      <td>507</td>\n",
       "      <td>509</td>\n",
       "      <td>1845</td>\n",
       "      <td>1803</td>\n",
       "    </tr>\n",
       "    <tr>\n",
       "      <td>3</td>\n",
       "      <td>2019-08-04</td>\n",
       "      <td>11</td>\n",
       "      <td>41176</td>\n",
       "      <td>14</td>\n",
       "      <td>96890</td>\n",
       "      <td>77</td>\n",
       "      <td>388030</td>\n",
       "      <td>68</td>\n",
       "      <td>385740</td>\n",
       "      <td>717</td>\n",
       "      <td>770</td>\n",
       "      <td>2562</td>\n",
       "      <td>2573</td>\n",
       "    </tr>\n",
       "    <tr>\n",
       "      <td>4</td>\n",
       "      <td>2019-08-05</td>\n",
       "      <td>22</td>\n",
       "      <td>86383</td>\n",
       "      <td>21</td>\n",
       "      <td>89908</td>\n",
       "      <td>99</td>\n",
       "      <td>474413</td>\n",
       "      <td>89</td>\n",
       "      <td>475648</td>\n",
       "      <td>756</td>\n",
       "      <td>707</td>\n",
       "      <td>3318</td>\n",
       "      <td>3280</td>\n",
       "    </tr>\n",
       "  </tbody>\n",
       "</table>\n",
       "</div>"
      ],
      "text/plain": [
       "         date  ordersPerDateA  revenuePerDateA  ordersPerDateB  \\\n",
       "0  2019-08-01              23           142779              17   \n",
       "1  2019-08-02              19            91602              23   \n",
       "2  2019-08-03              24           112473              14   \n",
       "3  2019-08-04              11            41176              14   \n",
       "4  2019-08-05              22            86383              21   \n",
       "\n",
       "   revenuePerDateB  ordersCummulativeA  revenueCummulativeA  \\\n",
       "0            59758                  23               142779   \n",
       "1           162043                  42               234381   \n",
       "2            67049                  66               346854   \n",
       "3            96890                  77               388030   \n",
       "4            89908                  99               474413   \n",
       "\n",
       "   ordersCummulativeB  revenueCummulativeB  visitorsPerDateA  \\\n",
       "0                  17                59758               719   \n",
       "1                  40               221801               619   \n",
       "2                  54               288850               507   \n",
       "3                  68               385740               717   \n",
       "4                  89               475648               756   \n",
       "\n",
       "   visitorsPerDateB  visitorsCummulativeA  visitorsCummulativeB  \n",
       "0               713                   719                   713  \n",
       "1               581                  1338                  1294  \n",
       "2               509                  1845                  1803  \n",
       "3               770                  2562                  2573  \n",
       "4               707                  3318                  3280  "
      ]
     },
     "execution_count": 25,
     "metadata": {},
     "output_type": "execute_result"
    }
   ],
   "source": [
    "visitorsADaily = visitors[visitors['group'] == 'A'][['date', 'visitors']]\n",
    "visitorsADaily.columns = ['date', 'visitorsPerDateA']\n",
    "\n",
    "visitorsACummulative = visitorsADaily.apply(\n",
    "    lambda x: visitorsADaily[visitorsADaily['date'] <= x['date']].agg(\n",
    "        {'date': 'max', 'visitorsPerDateA': 'sum'}\n",
    "    ),\n",
    "    axis=1,\n",
    ")\n",
    "visitorsACummulative.columns = ['date', 'visitorsCummulativeA']\n",
    "\n",
    "visitorsBDaily = visitors[visitors['group'] == 'B'][['date', 'visitors']]\n",
    "visitorsBDaily.columns = ['date', 'visitorsPerDateB']\n",
    "\n",
    "visitorsBCummulative = visitorsBDaily.apply(\n",
    "    lambda x: visitorsBDaily[visitorsBDaily['date'] <= x['date']].agg(\n",
    "        {'date': 'max', 'visitorsPerDateB': 'sum'}\n",
    "    ),\n",
    "    axis=1,\n",
    ")\n",
    "visitorsBCummulative.columns = ['date', 'visitorsCummulativeB']\n",
    "\n",
    "ordersADaily = (\n",
    "    orders[orders['group'] == 'A'][['date', 'transaction_id', 'visitor_id', 'revenue']]\n",
    "    .groupby('date', as_index=False)\n",
    "    .agg({'transaction_id': pd.Series.nunique, 'revenue': 'sum'})\n",
    ")\n",
    "ordersADaily.columns = ['date', 'ordersPerDateA', 'revenuePerDateA']\n",
    "\n",
    "ordersACummulative = ordersADaily.apply(\n",
    "    lambda x: ordersADaily[ordersADaily['date'] <= x['date']].agg(\n",
    "        {'date': 'max', 'ordersPerDateA': 'sum', 'revenuePerDateA': 'sum'}\n",
    "    ),\n",
    "    axis=1,\n",
    ").sort_values(by=['date'])\n",
    "ordersACummulative.columns = [\n",
    "    'date',\n",
    "    'ordersCummulativeA',\n",
    "    'revenueCummulativeA',\n",
    "]\n",
    "\n",
    "ordersBDaily = (\n",
    "    orders[orders['group'] == 'B'][['date', 'transaction_id', 'visitor_id', 'revenue']]\n",
    "    .groupby('date', as_index=False)\n",
    "    .agg({'transaction_id': pd.Series.nunique, 'revenue': 'sum'})\n",
    ")\n",
    "ordersBDaily.columns = ['date', 'ordersPerDateB', 'revenuePerDateB']\n",
    "\n",
    "ordersBCummulative = ordersBDaily.apply(\n",
    "    lambda x: ordersBDaily[ordersBDaily['date'] <= x['date']].agg(\n",
    "        {'date': 'max', 'ordersPerDateB': 'sum', 'revenuePerDateB': 'sum'}\n",
    "    ),\n",
    "    axis=1,\n",
    ").sort_values(by=['date'])\n",
    "ordersBCummulative.columns = [\n",
    "    'date',\n",
    "    'ordersCummulativeB',\n",
    "    'revenueCummulativeB',\n",
    "]\n",
    "\n",
    "data = (\n",
    "    ordersADaily.merge(\n",
    "        ordersBDaily, left_on='date', right_on='date', how='left'\n",
    "    )\n",
    "    .merge(ordersACummulative, left_on='date', right_on='date', how='left')\n",
    "    .merge(ordersBCummulative, left_on='date', right_on='date', how='left')\n",
    "    .merge(visitorsADaily, left_on='date', right_on='date', how='left')\n",
    "    .merge(visitorsBDaily, left_on='date', right_on='date', how='left')\n",
    "    .merge(visitorsACummulative, left_on='date', right_on='date', how='left')\n",
    "    .merge(visitorsBCummulative, left_on='date', right_on='date', how='left')\n",
    ")\n",
    "\n",
    "data.head(5) #подготовим данные"
   ]
  },
  {
   "cell_type": "markdown",
   "metadata": {},
   "source": [
    "* `date` — дата;\n",
    "* `ordersPerDateA` — количество заказов в выбранную дату в группе A;\n",
    "* `revenuePerDateA` — суммарная выручка в выбранную дату в группе A;\n",
    "* `ordersPerDateB` — количество заказов в выбранную дату в группе B;\n",
    "* `revenuePerDateB` — суммарная выручка в выбранную дату в группе B;\n",
    "* `ordersCummulativeA` — суммарное число заказов до выбранной даты включительно в группе A;\n",
    "* `revenueCummulativeA` — суммарная выручка до выбранной даты включительно в группе A;\n",
    "* `ordersCummulativeB` — суммарное количество заказов до выбранной даты включительно в группе B;\n",
    "* `revenueCummulativeB` — суммарная выручка до выбранной даты включительно в группе B;\n",
    "* `visitorsPerDateA` — количество пользователей в выбранную дату в группе A;\n",
    "* `visitorsPerDateB` — количество пользователей в выбранную дату в группе B;\n",
    "* `visitorsCummulativeA` — количество пользователей до выбранной даты включительно в группе A;\n",
    "* `visitorsCummulativeB` — количество пользователей до выбранной даты включительно в группе B."
   ]
  },
  {
   "cell_type": "code",
   "execution_count": 26,
   "metadata": {},
   "outputs": [],
   "source": [
    "ordersByUsersA = (\n",
    "    orders[orders['group'] == 'A']\n",
    "    .groupby('visitor_id', as_index=False)\n",
    "    .agg({'transaction_id': pd.Series.nunique})\n",
    ")\n",
    "ordersByUsersA.columns = ['visitor_id', 'orders']\n",
    "\n",
    "ordersByUsersB = (\n",
    "    orders[orders['group'] == 'B']\n",
    "    .groupby('visitor_id', as_index=False)\n",
    "    .agg({'transaction_id': pd.Series.nunique})\n",
    ")\n",
    "ordersByUsersB.columns = ['visitor_id', 'orders'] \n",
    "#Создадим переменные ordersByUsersA и ordersByUsersB со столбцами ['userId', 'orders']. \n",
    "#В них для пользователей, которые заказывали хотя бы 1 раз, укажем число совершённых заказов."
   ]
  },
  {
   "cell_type": "code",
   "execution_count": 27,
   "metadata": {},
   "outputs": [
    {
     "data": {
      "text/plain": [
       "[0      1\n",
       " 1      1\n",
       " 2      1\n",
       " 3      1\n",
       " 4      1\n",
       "       ..\n",
       " 440    1\n",
       " 441    1\n",
       " 442    1\n",
       " 443    1\n",
       " 444    1\n",
       " Name: orders, Length: 445, dtype: int64,\n",
       " 0        0\n",
       " 1        0\n",
       " 2        0\n",
       " 3        0\n",
       " 4        0\n",
       "         ..\n",
       " 18286    0\n",
       " 18287    0\n",
       " 18288    0\n",
       " 18289    0\n",
       " 18290    0\n",
       " Name: orders, Length: 18291, dtype: int64]"
      ]
     },
     "execution_count": 27,
     "metadata": {},
     "output_type": "execute_result"
    }
   ],
   "source": [
    "pd.Series(0, index=np.arange(data['visitorsPerDateA'].sum() - len(ordersByUsersA['orders'])), name='orders')\n",
    "[ordersByUsersA['orders'],pd.Series(0, index=np.arange(data['visitorsPerDateA'].sum() - len(ordersByUsersA['orders'])), name='orders')] "
   ]
  },
  {
   "cell_type": "markdown",
   "metadata": {},
   "source": [
    "`Объявим переменные sampleA и sampleB, в которых пользователям из разных групп будет соответствовать количество заказов. Тем, кто ничего не заказал, будут соответствовать нули`"
   ]
  },
  {
   "cell_type": "code",
   "execution_count": 28,
   "metadata": {},
   "outputs": [],
   "source": [
    "sampleA = pd.concat([ordersByUsersA['orders'],pd.Series(0, index=np.arange(data['visitorsPerDateA'].sum() - len(ordersByUsersA['orders'])), name='orders')],axis=0)\n",
    "sampleB = pd.concat([ordersByUsersB['orders'],pd.Series(0, index=np.arange(data['visitorsPerDateB'].sum() - len(ordersByUsersB['orders'])), name='orders')],axis=0)"
   ]
  },
  {
   "cell_type": "code",
   "execution_count": 29,
   "metadata": {},
   "outputs": [
    {
     "name": "stdout",
     "output_type": "stream",
     "text": [
      "0.006\n",
      "0.160\n"
     ]
    }
   ],
   "source": [
    "ordersByUsersA = (\n",
    "    orders[orders['group'] == 'A']\n",
    "    .groupby('visitor_id', as_index=False)\n",
    "    .agg({'transaction_id': pd.Series.nunique})\n",
    ")\n",
    "ordersByUsersA.columns = ['visitor_id', 'orders']\n",
    "\n",
    "ordersByUsersB = (\n",
    "    orders[orders['group'] == 'B']\n",
    "    .groupby('visitor_id', as_index=False)\n",
    "    .agg({'transaction_id': pd.Series.nunique})\n",
    ")\n",
    "ordersByUsersB.columns = ['visitor_id', 'orders']\n",
    "\n",
    "sampleA = pd.concat(\n",
    "    [\n",
    "        ordersByUsersA['orders'],\n",
    "        pd.Series(\n",
    "            0,\n",
    "            index=np.arange(\n",
    "                data['visitorsPerDateA'].sum() - len(ordersByUsersA['orders'])\n",
    "            ),\n",
    "            name='orders',\n",
    "        ),\n",
    "    ],\n",
    "    axis=0,\n",
    ")\n",
    "\n",
    "sampleB = pd.concat(\n",
    "    [\n",
    "        ordersByUsersB['orders'],\n",
    "        pd.Series(\n",
    "            0,\n",
    "            index=np.arange(\n",
    "                data['visitorsPerDateB'].sum() - len(ordersByUsersB['orders'])\n",
    "            ),\n",
    "            name='orders',\n",
    "        ),\n",
    "    ],\n",
    "    axis=0,\n",
    ")\n",
    "\n",
    "print(\"{0:.3f}\".format(stats.mannwhitneyu(sampleA, sampleB)[1]))\n",
    "\n",
    "print(\"{0:.3f}\".format(sampleB.mean() / sampleA.mean() - 1))\n"
   ]
  },
  {
   "cell_type": "markdown",
   "metadata": {},
   "source": [
    "`* H0 - Вероятность того, что наблюдение из популяции А превышает наблюдение из популяции В равна 50%`\n",
    "\n",
    "`* H1 - Вероятность того, что наблюдение из популяции А превышает наблюдение из популяции В не равна 50%`\n",
    "\n",
    "`p-value - 0.006 меньше alpha - 0.05. Отвергаем нулевую гипотезу. По «сырым» данным различия в конверсии групп A и B существует. Относительный проигрыш группы А равен 16%`\n"
   ]
  },
  {
   "cell_type": "markdown",
   "metadata": {},
   "source": [
    "### Посчитаем статистическую значимость различий в среднем чеке заказа между группами по «сырым» данным"
   ]
  },
  {
   "cell_type": "code",
   "execution_count": 30,
   "metadata": {},
   "outputs": [
    {
     "name": "stdout",
     "output_type": "stream",
     "text": [
      "0.415\n",
      "0.287\n"
     ]
    }
   ],
   "source": [
    "print('{0:.3f}'.format(stats.mannwhitneyu(orders[orders['group']=='A']['revenue'], orders[orders['group']=='B']['revenue'])[1]))\n",
    "print('{0:.3f}'.format(orders[orders['group']=='B']['revenue'].mean()/orders[orders['group']=='A']['revenue'].mean()-1)) "
   ]
  },
  {
   "cell_type": "markdown",
   "metadata": {},
   "source": [
    "`* H0 - Вероятность того, что наблюдение из популяции А превышает наблюдение из популяции В равна 50%`\n",
    "\n",
    "`* H1 - Вероятность того, что наблюдение из популяции А превышает наблюдение из популяции В не равна 50%`\n",
    "\n",
    "`p-value - 0.415 больше alpha - 0.05. Принимаем нулевую гипотезу. По «сырым» данным нет статистически значимых различий в среднем чеке заказа между группами. Конверсия группы В лучше на 28,7%"
   ]
  },
  {
   "cell_type": "markdown",
   "metadata": {},
   "source": [
    "### Посчитаем статистическую значимость различий в конверсии между группами по «очищенным» данным"
   ]
  },
  {
   "cell_type": "code",
   "execution_count": 36,
   "metadata": {},
   "outputs": [
    {
     "name": "stdout",
     "output_type": "stream",
     "text": [
      "1099    148427295\n",
      "928     204675465\n",
      "33      249864742\n",
      "684     358944393\n",
      "648     382846391\n",
      "Name: visitor_id, dtype: int64\n",
      "(55,)\n"
     ]
    }
   ],
   "source": [
    "usersWithManyOrders = pd.concat(\n",
    "    [\n",
    "        ordersByUsersA[ordersByUsersA['orders'] > 2]['visitor_id'],\n",
    "        ordersByUsersB[ordersByUsersB['orders'] > 2]['visitor_id'],\n",
    "    ],\n",
    "    axis=0,\n",
    ")\n",
    "usersWithExpensiveOrders = orders[orders['revenue'] > 28000]['visitor_id']\n",
    "abnormalUsers = (\n",
    "    pd.concat([usersWithManyOrders, usersWithExpensiveOrders], axis=0)\n",
    "    .drop_duplicates()\n",
    "    .sort_values()\n",
    ")\n",
    "print(abnormalUsers.head(5))\n",
    "print(abnormalUsers.shape) #Узнаем, сколько всего аномальных пользователей"
   ]
  },
  {
   "cell_type": "markdown",
   "metadata": {},
   "source": [
    "`55 аномальных пользователя`"
   ]
  },
  {
   "cell_type": "code",
   "execution_count": 32,
   "metadata": {},
   "outputs": [],
   "source": [
    "sampleAFiltered = pd.concat(\n",
    "    [\n",
    "        ordersByUsersA[\n",
    "            np.logical_not(ordersByUsersA['visitor_id'].isin(abnormalUsers))\n",
    "        ]['orders'],\n",
    "        pd.Series(\n",
    "            0,\n",
    "            index=np.arange(\n",
    "                data['visitorsPerDateA'].sum() - len(ordersByUsersA['orders'])\n",
    "            ),\n",
    "            name='orders',\n",
    "        ),\n",
    "    ],\n",
    "    axis=0,\n",
    ")\n",
    "\n",
    "sampleBFiltered = pd.concat(\n",
    "    [\n",
    "        ordersByUsersB[\n",
    "            np.logical_not(ordersByUsersB['visitor_id'].isin(abnormalUsers))\n",
    "        ]['orders'],\n",
    "        pd.Series(\n",
    "            0,\n",
    "            index=np.arange(\n",
    "                data['visitorsPerDateB'].sum() - len(ordersByUsersB['orders'])\n",
    "            ),\n",
    "            name='orders',\n",
    "        ),\n",
    "    ],\n",
    "    axis=0,\n",
    ") "
   ]
  },
  {
   "cell_type": "code",
   "execution_count": 33,
   "metadata": {},
   "outputs": [
    {
     "name": "stdout",
     "output_type": "stream",
     "text": [
      "0.005\n",
      "0.189\n"
     ]
    }
   ],
   "source": [
    "print('{0:.3f}'.format(stats.mannwhitneyu(sampleAFiltered, sampleBFiltered)[1]))\n",
    "print('{0:.3f}'.format(sampleBFiltered.mean()/sampleAFiltered.mean()-1))"
   ]
  },
  {
   "cell_type": "markdown",
   "metadata": {},
   "source": [
    "`Результаты по конверсии практически не изменились (0.005 0.189) против (0.006 0.160), относительный проигрыш группы А увеличился до 18.9%`"
   ]
  },
  {
   "cell_type": "markdown",
   "metadata": {},
   "source": [
    "### Посчитаем статистическую значимость различий в среднем чеке заказа между группами по «очищенным» данным"
   ]
  },
  {
   "cell_type": "code",
   "execution_count": 34,
   "metadata": {},
   "outputs": [
    {
     "name": "stdout",
     "output_type": "stream",
     "text": [
      "0.381\n",
      "-0.022\n"
     ]
    }
   ],
   "source": [
    "print(\n",
    "    '{0:.3f}'.format(\n",
    "        stats.mannwhitneyu(\n",
    "            orders[\n",
    "                np.logical_and(\n",
    "                    orders['group'] == 'A',\n",
    "                    np.logical_not(orders['visitor_id'].isin(abnormalUsers)),\n",
    "                )\n",
    "            ]['revenue'],\n",
    "            orders[\n",
    "                np.logical_and(\n",
    "                    orders['group'] == 'B',\n",
    "                    np.logical_not(orders['visitor_id'].isin(abnormalUsers)),\n",
    "                )\n",
    "            ]['revenue'],\n",
    "        )[1]\n",
    "    )\n",
    ")\n",
    "\n",
    "print(\n",
    "    \"{0:.3f}\".format(\n",
    "        orders[\n",
    "            np.logical_and(\n",
    "                orders['group'] == 'B',\n",
    "                np.logical_not(orders['visitor_id'].isin(abnormalUsers)),\n",
    "            )\n",
    "        ]['revenue'].mean()\n",
    "        / orders[\n",
    "            np.logical_and(\n",
    "                orders['group'] == 'A',\n",
    "                np.logical_not(orders['visitor_id'].isin(abnormalUsers)),\n",
    "            )\n",
    "        ]['revenue'].mean()\n",
    "        - 1\n",
    "    )\n",
    ") "
   ]
  },
  {
   "cell_type": "markdown",
   "metadata": {},
   "source": [
    "`Результаты по статистическим различий по среднему чеку не изменились (0.381 -0.022) против (0.415 0.287), показатели по среднему чеку выравнялись`"
   ]
  },
  {
   "cell_type": "markdown",
   "metadata": {},
   "source": [
    "## Вывод\n",
    "\n",
    "В данном исследование мы изучили список гипотез для увеличения выручки крупного интернет-магазина. В ходе работы с данными мы:\n",
    "\n",
    "* привели колонки в датасетах к необходимым типам данным\n",
    "* привели названия столбцов к принятой форме\n",
    "* обнаружили дулирующихся респондентов находящихся в обеих группах\n",
    "* приоритезировали гипотезы методами ICE и RICE, выяснили какие гипотезы стоит проверить в первую очередь.\n",
    "* в ходе анализа данных и А/Б-теста, отсеяли аномальных пользователей, построили графики выручки и конверсии и выяснили что средние чеки групп почти не отличатся, а конверсия группы В выше на 17,3% процента.\n",
    "\n",
    " Проверили  4 гипотезы:\n",
    "* 1) Запустить акцию, дающую скидку на товар в день рождения(акция не требующая почти никиких трудозатрат)\n",
    "* 2) Добавить форму подписки на все основные страницы, чтобы собрать базу клиентов для email-рассылок\n",
    "* 3) Добавить блоки рекомендаций товаров на сайт интернет магазина, чтобы повысить конверсию и средний чек заказа\t\n",
    "* 4) Добавить два новых канала привлечения трафика, что позволит привлекать на 30% больше пользователей\n",
    "\n",
    "По итогам анализа и в соответствие с тем что:\n",
    "\n",
    "* Есть статистически значимые различия по конверсии между группами и по «сырым» и по данным после фильтрации аномалий. Конверсия группы В показывает результат лучше чем группа А на 18,9%.\n",
    "\n",
    "* Нет статистически значимого различия по среднему чеку между группами ни по «сырым», ни по данным после фильтрации аномалий, разницы между группами нет;\n",
    "\n",
    "Принято решение:\n",
    "\n",
    "   `Тест признать успешным и остановить. Признать победу группы B. Несмотря на на одинаковый показатель среднего чека, CR группы B лучше на 18,9% группы А.`\n",
    "   \n"
   ]
  }
 ],
 "metadata": {
  "ExecuteTimeLog": [
   {
    "duration": 412,
    "start_time": "2022-02-12T10:43:38.427Z"
   },
   {
    "duration": 1435,
    "start_time": "2022-02-12T10:43:43.897Z"
   },
   {
    "duration": 51,
    "start_time": "2022-02-12T10:43:45.335Z"
   },
   {
    "duration": 45,
    "start_time": "2022-02-12T10:43:45.389Z"
   },
   {
    "duration": 38,
    "start_time": "2022-02-12T10:44:08.338Z"
   },
   {
    "duration": 65,
    "start_time": "2022-02-12T10:48:04.278Z"
   },
   {
    "duration": 469,
    "start_time": "2022-02-12T10:48:12.415Z"
   },
   {
    "duration": 4,
    "start_time": "2022-02-12T10:49:08.213Z"
   },
   {
    "duration": 63,
    "start_time": "2022-02-12T10:49:08.493Z"
   },
   {
    "duration": 349,
    "start_time": "2022-02-12T10:49:08.693Z"
   },
   {
    "duration": 12,
    "start_time": "2022-02-12T10:49:15.364Z"
   },
   {
    "duration": 1654,
    "start_time": "2022-02-12T10:53:49.043Z"
   },
   {
    "duration": 32,
    "start_time": "2022-02-12T10:54:07.682Z"
   },
   {
    "duration": 8,
    "start_time": "2022-02-12T10:54:14.017Z"
   },
   {
    "duration": 17,
    "start_time": "2022-02-12T10:54:35.345Z"
   },
   {
    "duration": 407,
    "start_time": "2022-02-12T10:55:30.999Z"
   },
   {
    "duration": 4,
    "start_time": "2022-02-12T10:55:56.080Z"
   },
   {
    "duration": 63,
    "start_time": "2022-02-12T10:55:56.375Z"
   },
   {
    "duration": 34,
    "start_time": "2022-02-12T10:55:57.080Z"
   },
   {
    "duration": 15,
    "start_time": "2022-02-12T10:55:57.584Z"
   },
   {
    "duration": 9,
    "start_time": "2022-02-12T10:55:58.471Z"
   },
   {
    "duration": 11,
    "start_time": "2022-02-12T10:58:45.372Z"
   },
   {
    "duration": 15,
    "start_time": "2022-02-12T10:58:48.732Z"
   },
   {
    "duration": 455,
    "start_time": "2022-02-12T10:59:00.606Z"
   },
   {
    "duration": 473,
    "start_time": "2022-02-12T10:59:13.357Z"
   },
   {
    "duration": 435,
    "start_time": "2022-02-12T10:59:19.436Z"
   },
   {
    "duration": 1579,
    "start_time": "2022-02-24T15:12:00.079Z"
   },
   {
    "duration": 2127,
    "start_time": "2022-02-24T15:13:17.197Z"
   },
   {
    "duration": 4,
    "start_time": "2022-02-24T15:13:22.980Z"
   },
   {
    "duration": 67,
    "start_time": "2022-02-24T15:13:23.212Z"
   },
   {
    "duration": 42,
    "start_time": "2022-02-24T15:13:23.501Z"
   },
   {
    "duration": 43,
    "start_time": "2022-02-24T15:14:24.949Z"
   },
   {
    "duration": 278,
    "start_time": "2022-02-24T15:16:43.666Z"
   },
   {
    "duration": 9,
    "start_time": "2022-02-24T15:16:50.793Z"
   },
   {
    "duration": 7,
    "start_time": "2022-02-24T15:17:02.690Z"
   },
   {
    "duration": 10,
    "start_time": "2022-02-24T15:19:09.799Z"
   },
   {
    "duration": 44,
    "start_time": "2022-02-24T15:19:20.337Z"
   },
   {
    "duration": 37,
    "start_time": "2022-02-24T15:19:39.808Z"
   },
   {
    "duration": 10,
    "start_time": "2022-02-24T15:19:55.399Z"
   },
   {
    "duration": 7416,
    "start_time": "2022-02-24T15:37:51.949Z"
   },
   {
    "duration": 8,
    "start_time": "2022-02-24T15:39:02.546Z"
   },
   {
    "duration": 9394,
    "start_time": "2022-02-24T15:39:11.848Z"
   },
   {
    "duration": 1192,
    "start_time": "2022-02-24T15:49:54.720Z"
   },
   {
    "duration": 63,
    "start_time": "2022-02-24T15:50:09.662Z"
   },
   {
    "duration": 1093,
    "start_time": "2022-02-24T15:50:10.183Z"
   },
   {
    "duration": 47,
    "start_time": "2022-02-24T15:50:33.295Z"
   },
   {
    "duration": 10,
    "start_time": "2022-02-24T15:50:55.918Z"
   },
   {
    "duration": 8,
    "start_time": "2022-02-24T15:52:56.556Z"
   },
   {
    "duration": 7,
    "start_time": "2022-02-24T15:56:08.362Z"
   },
   {
    "duration": 11,
    "start_time": "2022-02-24T17:37:45.877Z"
   },
   {
    "duration": 10,
    "start_time": "2022-02-24T17:38:00.053Z"
   },
   {
    "duration": 13,
    "start_time": "2022-02-24T17:38:59.075Z"
   },
   {
    "duration": 7462,
    "start_time": "2022-02-24T18:03:59.343Z"
   },
   {
    "duration": 21,
    "start_time": "2022-02-24T18:04:57.798Z"
   },
   {
    "duration": 22,
    "start_time": "2022-02-24T18:08:15.739Z"
   },
   {
    "duration": 283,
    "start_time": "2022-02-24T18:08:15.841Z"
   },
   {
    "duration": 497,
    "start_time": "2022-02-24T18:08:42.379Z"
   },
   {
    "duration": 269,
    "start_time": "2022-02-24T18:10:39.649Z"
   },
   {
    "duration": 20,
    "start_time": "2022-02-24T18:10:46.137Z"
   },
   {
    "duration": 444,
    "start_time": "2022-02-24T18:11:39.448Z"
   },
   {
    "duration": 7,
    "start_time": "2022-02-24T18:14:42.325Z"
   },
   {
    "duration": 7,
    "start_time": "2022-02-24T18:14:48.062Z"
   },
   {
    "duration": 6,
    "start_time": "2022-02-24T18:14:55.381Z"
   },
   {
    "duration": 278,
    "start_time": "2022-02-24T18:17:03.788Z"
   },
   {
    "duration": 15,
    "start_time": "2022-02-24T18:18:01.922Z"
   },
   {
    "duration": 14,
    "start_time": "2022-02-24T18:18:33.371Z"
   },
   {
    "duration": 14,
    "start_time": "2022-02-24T18:19:11.643Z"
   },
   {
    "duration": 14,
    "start_time": "2022-02-24T18:19:59.536Z"
   },
   {
    "duration": 14,
    "start_time": "2022-02-24T18:20:06.441Z"
   },
   {
    "duration": 15,
    "start_time": "2022-02-24T18:23:32.070Z"
   },
   {
    "duration": 7024,
    "start_time": "2022-02-24T18:40:28.184Z"
   },
   {
    "duration": 6693,
    "start_time": "2022-02-24T18:44:07.832Z"
   },
   {
    "duration": 9,
    "start_time": "2022-02-24T18:46:41.389Z"
   },
   {
    "duration": 17,
    "start_time": "2022-02-24T18:47:33.873Z"
   },
   {
    "duration": 21,
    "start_time": "2022-02-24T18:48:11.144Z"
   },
   {
    "duration": 371,
    "start_time": "2022-02-24T18:50:04.024Z"
   },
   {
    "duration": 273,
    "start_time": "2022-02-24T18:50:54.312Z"
   },
   {
    "duration": 11,
    "start_time": "2022-02-24T18:51:10.862Z"
   },
   {
    "duration": 9,
    "start_time": "2022-02-24T18:51:17.230Z"
   },
   {
    "duration": 592,
    "start_time": "2022-02-24T18:52:37.568Z"
   },
   {
    "duration": 574,
    "start_time": "2022-02-24T18:52:56.484Z"
   },
   {
    "duration": 594,
    "start_time": "2022-02-24T18:53:29.997Z"
   },
   {
    "duration": 258,
    "start_time": "2022-02-24T18:56:53.787Z"
   },
   {
    "duration": 611,
    "start_time": "2022-02-24T18:58:04.728Z"
   },
   {
    "duration": 245,
    "start_time": "2022-02-24T18:58:38.584Z"
   },
   {
    "duration": 602,
    "start_time": "2022-02-24T18:58:57.424Z"
   },
   {
    "duration": 589,
    "start_time": "2022-02-24T18:59:09.591Z"
   },
   {
    "duration": 592,
    "start_time": "2022-02-24T18:59:22.104Z"
   },
   {
    "duration": 602,
    "start_time": "2022-02-24T18:59:27.361Z"
   },
   {
    "duration": 7,
    "start_time": "2022-02-24T19:00:21.695Z"
   },
   {
    "duration": 521,
    "start_time": "2022-02-24T19:00:28.413Z"
   },
   {
    "duration": 248,
    "start_time": "2022-02-24T19:00:32.382Z"
   },
   {
    "duration": 13,
    "start_time": "2022-02-24T19:01:24.318Z"
   },
   {
    "duration": 258,
    "start_time": "2022-02-24T19:01:28.670Z"
   },
   {
    "duration": 270,
    "start_time": "2022-02-24T19:01:48.790Z"
   },
   {
    "duration": 266,
    "start_time": "2022-02-24T19:15:14.027Z"
   },
   {
    "duration": 649,
    "start_time": "2022-02-24T19:16:44.491Z"
   },
   {
    "duration": 100,
    "start_time": "2022-02-24T19:17:17.388Z"
   },
   {
    "duration": 22,
    "start_time": "2022-02-24T19:17:20.144Z"
   },
   {
    "duration": 631,
    "start_time": "2022-02-24T19:19:44.016Z"
   },
   {
    "duration": 90,
    "start_time": "2022-02-24T19:21:46.309Z"
   },
   {
    "duration": 7595,
    "start_time": "2022-02-24T19:22:22.148Z"
   },
   {
    "duration": 20,
    "start_time": "2022-02-24T19:23:34.139Z"
   },
   {
    "duration": 698,
    "start_time": "2022-02-24T19:23:45.524Z"
   },
   {
    "duration": 637,
    "start_time": "2022-02-24T19:23:56.675Z"
   },
   {
    "duration": 638,
    "start_time": "2022-02-24T19:24:27.875Z"
   },
   {
    "duration": 641,
    "start_time": "2022-02-24T19:24:50.474Z"
   },
   {
    "duration": 334,
    "start_time": "2022-02-24T19:25:09.946Z"
   },
   {
    "duration": 327,
    "start_time": "2022-02-24T19:25:15.049Z"
   },
   {
    "duration": 730,
    "start_time": "2022-02-24T19:26:40.657Z"
   },
   {
    "duration": 10,
    "start_time": "2022-02-24T19:27:08.360Z"
   },
   {
    "duration": 753,
    "start_time": "2022-02-24T19:27:14.288Z"
   },
   {
    "duration": 343,
    "start_time": "2022-02-24T19:27:19.329Z"
   },
   {
    "duration": 725,
    "start_time": "2022-02-24T19:27:33.545Z"
   },
   {
    "duration": 331,
    "start_time": "2022-02-24T19:28:02.552Z"
   },
   {
    "duration": 298,
    "start_time": "2022-02-24T19:28:14.647Z"
   },
   {
    "duration": 592,
    "start_time": "2022-02-24T19:29:50.806Z"
   },
   {
    "duration": 427,
    "start_time": "2022-02-24T19:30:14.838Z"
   },
   {
    "duration": 268,
    "start_time": "2022-02-25T12:58:59.281Z"
   },
   {
    "duration": 1295,
    "start_time": "2022-02-25T12:59:08.148Z"
   },
   {
    "duration": 38,
    "start_time": "2022-02-25T12:59:09.445Z"
   },
   {
    "duration": 48,
    "start_time": "2022-02-25T12:59:09.485Z"
   },
   {
    "duration": 7,
    "start_time": "2022-02-25T12:59:09.535Z"
   },
   {
    "duration": 21,
    "start_time": "2022-02-25T12:59:09.544Z"
   },
   {
    "duration": 26,
    "start_time": "2022-02-25T12:59:09.568Z"
   },
   {
    "duration": 13,
    "start_time": "2022-02-25T12:59:09.596Z"
   },
   {
    "duration": 342,
    "start_time": "2022-02-25T12:59:09.612Z"
   },
   {
    "duration": 22,
    "start_time": "2022-02-25T12:59:09.957Z"
   },
   {
    "duration": 350,
    "start_time": "2022-02-25T12:59:09.982Z"
   },
   {
    "duration": 10,
    "start_time": "2022-02-25T12:59:10.334Z"
   },
   {
    "duration": 6895,
    "start_time": "2022-02-25T12:59:10.346Z"
   },
   {
    "duration": 2225,
    "start_time": "2022-02-25T12:59:15.018Z"
   },
   {
    "duration": 2223,
    "start_time": "2022-02-25T12:59:15.021Z"
   },
   {
    "duration": 248,
    "start_time": "2022-02-25T13:00:43.027Z"
   },
   {
    "duration": 6486,
    "start_time": "2022-02-25T13:00:48.906Z"
   },
   {
    "duration": 8108,
    "start_time": "2022-02-25T13:00:55.526Z"
   },
   {
    "duration": 6923,
    "start_time": "2022-02-25T13:05:42.375Z"
   },
   {
    "duration": 7488,
    "start_time": "2022-02-25T13:05:54.171Z"
   },
   {
    "duration": 7290,
    "start_time": "2022-02-25T13:06:10.280Z"
   },
   {
    "duration": 6985,
    "start_time": "2022-02-25T13:07:44.398Z"
   },
   {
    "duration": 8,
    "start_time": "2022-02-25T13:08:58.130Z"
   },
   {
    "duration": 8,
    "start_time": "2022-02-25T13:09:04.730Z"
   },
   {
    "duration": 400,
    "start_time": "2022-02-25T13:09:12.453Z"
   },
   {
    "duration": 1295,
    "start_time": "2022-02-25T13:09:26.339Z"
   },
   {
    "duration": 39,
    "start_time": "2022-02-25T13:09:27.636Z"
   },
   {
    "duration": 50,
    "start_time": "2022-02-25T13:09:27.678Z"
   },
   {
    "duration": 7,
    "start_time": "2022-02-25T13:09:27.730Z"
   },
   {
    "duration": 92,
    "start_time": "2022-02-25T13:09:27.739Z"
   },
   {
    "duration": 42,
    "start_time": "2022-02-25T13:09:27.834Z"
   },
   {
    "duration": 16,
    "start_time": "2022-02-25T13:09:27.878Z"
   },
   {
    "duration": 378,
    "start_time": "2022-02-25T13:09:27.897Z"
   },
   {
    "duration": 13,
    "start_time": "2022-02-25T13:09:28.277Z"
   },
   {
    "duration": 360,
    "start_time": "2022-02-25T13:09:28.292Z"
   },
   {
    "duration": 21,
    "start_time": "2022-02-25T13:09:28.654Z"
   },
   {
    "duration": 7122,
    "start_time": "2022-02-25T13:09:28.677Z"
   },
   {
    "duration": 2245,
    "start_time": "2022-02-25T13:09:33.556Z"
   },
   {
    "duration": 2244,
    "start_time": "2022-02-25T13:09:33.559Z"
   },
   {
    "duration": 8,
    "start_time": "2022-02-25T13:09:46.474Z"
   },
   {
    "duration": 1381,
    "start_time": "2022-02-25T13:10:18.292Z"
   },
   {
    "duration": 34,
    "start_time": "2022-02-25T13:10:19.676Z"
   },
   {
    "duration": 50,
    "start_time": "2022-02-25T13:10:19.713Z"
   },
   {
    "duration": 7,
    "start_time": "2022-02-25T13:10:19.766Z"
   },
   {
    "duration": 16,
    "start_time": "2022-02-25T13:10:19.776Z"
   },
   {
    "duration": 20,
    "start_time": "2022-02-25T13:10:19.795Z"
   },
   {
    "duration": 15,
    "start_time": "2022-02-25T13:10:19.817Z"
   },
   {
    "duration": 386,
    "start_time": "2022-02-25T13:10:19.836Z"
   },
   {
    "duration": 16,
    "start_time": "2022-02-25T13:10:20.225Z"
   },
   {
    "duration": 357,
    "start_time": "2022-02-25T13:10:20.244Z"
   },
   {
    "duration": 12,
    "start_time": "2022-02-25T13:10:20.604Z"
   },
   {
    "duration": 427,
    "start_time": "2022-02-25T13:10:20.619Z"
   },
   {
    "duration": 311,
    "start_time": "2022-02-25T13:10:21.048Z"
   },
   {
    "duration": 245,
    "start_time": "2022-02-25T13:10:21.370Z"
   },
   {
    "duration": 254,
    "start_time": "2022-02-25T13:11:17.107Z"
   },
   {
    "duration": 260,
    "start_time": "2022-02-25T13:11:22.658Z"
   },
   {
    "duration": 373,
    "start_time": "2022-02-25T13:17:51.221Z"
   },
   {
    "duration": 377,
    "start_time": "2022-02-25T13:18:17.876Z"
   },
   {
    "duration": 353,
    "start_time": "2022-02-25T13:18:21.891Z"
   },
   {
    "duration": 380,
    "start_time": "2022-02-25T13:18:33.948Z"
   },
   {
    "duration": 406,
    "start_time": "2022-02-25T13:18:39.747Z"
   },
   {
    "duration": 367,
    "start_time": "2022-02-25T13:18:45.124Z"
   },
   {
    "duration": 376,
    "start_time": "2022-02-25T13:22:12.178Z"
   },
   {
    "duration": 329,
    "start_time": "2022-02-25T13:22:27.801Z"
   },
   {
    "duration": 217,
    "start_time": "2022-02-25T13:24:51.327Z"
   },
   {
    "duration": 219,
    "start_time": "2022-02-25T13:25:35.574Z"
   },
   {
    "duration": 262,
    "start_time": "2022-02-25T13:25:47.630Z"
   },
   {
    "duration": 267,
    "start_time": "2022-02-25T13:26:19.397Z"
   },
   {
    "duration": 343,
    "start_time": "2022-02-25T13:26:31.118Z"
   },
   {
    "duration": 276,
    "start_time": "2022-02-25T13:26:37.903Z"
   },
   {
    "duration": 611,
    "start_time": "2022-02-25T13:31:51.473Z"
   },
   {
    "duration": 279,
    "start_time": "2022-02-25T13:32:27.168Z"
   },
   {
    "duration": 637,
    "start_time": "2022-02-25T13:32:46.008Z"
   },
   {
    "duration": 263,
    "start_time": "2022-02-25T13:32:53.465Z"
   },
   {
    "duration": 260,
    "start_time": "2022-02-25T13:33:06.720Z"
   },
   {
    "duration": 260,
    "start_time": "2022-02-25T13:33:11.232Z"
   },
   {
    "duration": 260,
    "start_time": "2022-02-25T13:33:21.296Z"
   },
   {
    "duration": 267,
    "start_time": "2022-02-25T13:33:25.888Z"
   },
   {
    "duration": 602,
    "start_time": "2022-02-25T13:33:43.487Z"
   },
   {
    "duration": 74,
    "start_time": "2022-02-25T13:33:50.584Z"
   },
   {
    "duration": 539,
    "start_time": "2022-02-25T13:33:54.784Z"
   },
   {
    "duration": 355,
    "start_time": "2022-02-25T13:34:07.222Z"
   },
   {
    "duration": 267,
    "start_time": "2022-02-25T13:34:13.423Z"
   },
   {
    "duration": 266,
    "start_time": "2022-02-25T13:34:32.911Z"
   },
   {
    "duration": 288,
    "start_time": "2022-02-25T13:34:40.654Z"
   },
   {
    "duration": 250,
    "start_time": "2022-02-25T13:35:15.246Z"
   },
   {
    "duration": 257,
    "start_time": "2022-02-25T13:35:21.454Z"
   },
   {
    "duration": 264,
    "start_time": "2022-02-25T13:35:29.830Z"
   },
   {
    "duration": 269,
    "start_time": "2022-02-25T13:35:35.054Z"
   },
   {
    "duration": 261,
    "start_time": "2022-02-25T13:35:50.998Z"
   },
   {
    "duration": 390,
    "start_time": "2022-02-25T13:35:59.119Z"
   },
   {
    "duration": 281,
    "start_time": "2022-02-25T13:36:04.085Z"
   },
   {
    "duration": 281,
    "start_time": "2022-02-25T13:36:12.397Z"
   },
   {
    "duration": 380,
    "start_time": "2022-02-25T13:36:26.157Z"
   },
   {
    "duration": 277,
    "start_time": "2022-02-25T13:36:38.979Z"
   },
   {
    "duration": 293,
    "start_time": "2022-02-25T13:37:44.908Z"
   },
   {
    "duration": 373,
    "start_time": "2022-02-25T13:37:49.549Z"
   },
   {
    "duration": 289,
    "start_time": "2022-02-25T13:38:50.995Z"
   },
   {
    "duration": 333,
    "start_time": "2022-02-25T13:39:12.068Z"
   },
   {
    "duration": 358,
    "start_time": "2022-02-25T13:39:27.810Z"
   },
   {
    "duration": 412,
    "start_time": "2022-02-25T13:39:44.643Z"
   },
   {
    "duration": 389,
    "start_time": "2022-02-25T13:39:51.659Z"
   },
   {
    "duration": 369,
    "start_time": "2022-02-25T15:14:58.837Z"
   },
   {
    "duration": 328,
    "start_time": "2022-02-25T15:15:22.581Z"
   },
   {
    "duration": 149,
    "start_time": "2022-02-25T15:19:01.974Z"
   },
   {
    "duration": 6,
    "start_time": "2022-02-25T15:19:18.531Z"
   },
   {
    "duration": 5,
    "start_time": "2022-02-25T15:19:36.588Z"
   },
   {
    "duration": 5,
    "start_time": "2022-02-25T15:19:41.404Z"
   },
   {
    "duration": 6,
    "start_time": "2022-02-25T15:19:48.636Z"
   },
   {
    "duration": 5,
    "start_time": "2022-02-25T15:19:52.628Z"
   },
   {
    "duration": 5,
    "start_time": "2022-02-25T15:20:02.837Z"
   },
   {
    "duration": 7,
    "start_time": "2022-02-25T15:34:51.081Z"
   },
   {
    "duration": 15,
    "start_time": "2022-02-25T15:35:02.003Z"
   },
   {
    "duration": 294,
    "start_time": "2022-02-25T15:41:57.006Z"
   },
   {
    "duration": 271,
    "start_time": "2022-02-25T15:42:09.230Z"
   },
   {
    "duration": 507,
    "start_time": "2022-02-25T15:43:17.886Z"
   },
   {
    "duration": 399,
    "start_time": "2022-02-25T15:44:16.700Z"
   },
   {
    "duration": 13,
    "start_time": "2022-02-25T15:44:20.795Z"
   },
   {
    "duration": 438,
    "start_time": "2022-02-25T15:44:26.467Z"
   },
   {
    "duration": 14,
    "start_time": "2022-02-25T15:44:34.859Z"
   },
   {
    "duration": 3034,
    "start_time": "2022-02-25T15:46:35.424Z"
   },
   {
    "duration": 6695,
    "start_time": "2022-02-25T15:46:46.443Z"
   },
   {
    "duration": 15,
    "start_time": "2022-02-25T15:47:22.672Z"
   },
   {
    "duration": 284,
    "start_time": "2022-02-25T15:47:34.995Z"
   },
   {
    "duration": 13,
    "start_time": "2022-02-25T15:55:51.331Z"
   },
   {
    "duration": 123,
    "start_time": "2022-02-25T16:13:02.418Z"
   },
   {
    "duration": 133,
    "start_time": "2022-02-25T16:14:11.737Z"
   },
   {
    "duration": 9,
    "start_time": "2022-02-25T16:14:59.448Z"
   },
   {
    "duration": 7,
    "start_time": "2022-02-25T16:15:02.319Z"
   },
   {
    "duration": 7,
    "start_time": "2022-02-25T16:15:05.744Z"
   },
   {
    "duration": 258,
    "start_time": "2022-02-25T16:15:37.776Z"
   },
   {
    "duration": 359,
    "start_time": "2022-02-25T16:16:17.913Z"
   },
   {
    "duration": 9,
    "start_time": "2022-02-25T16:16:43.398Z"
   },
   {
    "duration": 135,
    "start_time": "2022-02-25T16:16:47.558Z"
   },
   {
    "duration": 10,
    "start_time": "2022-02-25T16:16:48.439Z"
   },
   {
    "duration": 7,
    "start_time": "2022-02-25T16:16:49.054Z"
   },
   {
    "duration": 409,
    "start_time": "2022-02-25T16:16:50.143Z"
   },
   {
    "duration": 3,
    "start_time": "2022-02-25T16:17:20.935Z"
   },
   {
    "duration": 147,
    "start_time": "2022-02-25T16:17:24.462Z"
   },
   {
    "duration": 11,
    "start_time": "2022-02-25T16:34:22.633Z"
   },
   {
    "duration": 6475,
    "start_time": "2022-02-25T17:30:27.194Z"
   },
   {
    "duration": 2443,
    "start_time": "2022-02-25T17:30:55.758Z"
   },
   {
    "duration": 7469,
    "start_time": "2022-02-25T17:31:00.164Z"
   },
   {
    "duration": 6083,
    "start_time": "2022-02-25T17:31:25.212Z"
   },
   {
    "duration": 1182,
    "start_time": "2022-02-25T17:32:14.184Z"
   },
   {
    "duration": 42,
    "start_time": "2022-02-25T17:32:15.369Z"
   },
   {
    "duration": 38,
    "start_time": "2022-02-25T17:32:15.414Z"
   },
   {
    "duration": 8,
    "start_time": "2022-02-25T17:32:15.454Z"
   },
   {
    "duration": 21,
    "start_time": "2022-02-25T17:32:15.464Z"
   },
   {
    "duration": 16,
    "start_time": "2022-02-25T17:32:15.487Z"
   },
   {
    "duration": 19,
    "start_time": "2022-02-25T17:32:15.505Z"
   },
   {
    "duration": 327,
    "start_time": "2022-02-25T17:32:15.528Z"
   },
   {
    "duration": 22,
    "start_time": "2022-02-25T17:32:15.857Z"
   },
   {
    "duration": 314,
    "start_time": "2022-02-25T17:32:15.881Z"
   },
   {
    "duration": 11,
    "start_time": "2022-02-25T17:32:16.196Z"
   },
   {
    "duration": 392,
    "start_time": "2022-02-25T17:32:16.209Z"
   },
   {
    "duration": 287,
    "start_time": "2022-02-25T17:32:16.603Z"
   },
   {
    "duration": 285,
    "start_time": "2022-02-25T17:32:16.892Z"
   },
   {
    "duration": 353,
    "start_time": "2022-02-25T17:32:17.179Z"
   },
   {
    "duration": 286,
    "start_time": "2022-02-25T17:32:17.535Z"
   },
   {
    "duration": 448,
    "start_time": "2022-02-25T17:32:17.823Z"
   },
   {
    "duration": 309,
    "start_time": "2022-02-25T17:32:18.273Z"
   },
   {
    "duration": 4,
    "start_time": "2022-02-25T17:32:18.585Z"
   },
   {
    "duration": 41,
    "start_time": "2022-02-25T17:32:18.590Z"
   },
   {
    "duration": 335,
    "start_time": "2022-02-25T17:32:18.633Z"
   },
   {
    "duration": 139,
    "start_time": "2022-02-25T17:32:18.970Z"
   },
   {
    "duration": 10,
    "start_time": "2022-02-25T17:32:19.112Z"
   },
   {
    "duration": 12,
    "start_time": "2022-02-25T17:32:19.124Z"
   },
   {
    "duration": 177,
    "start_time": "2022-02-25T17:32:19.138Z"
   },
   {
    "duration": 12,
    "start_time": "2022-02-25T17:32:19.318Z"
   },
   {
    "duration": 6563,
    "start_time": "2022-02-25T17:34:39.193Z"
   },
   {
    "duration": 6306,
    "start_time": "2022-02-25T17:34:51.241Z"
   },
   {
    "duration": 193,
    "start_time": "2022-02-25T17:34:58.486Z"
   },
   {
    "duration": 248,
    "start_time": "2022-02-25T18:01:20.494Z"
   },
   {
    "duration": 275,
    "start_time": "2022-02-25T18:02:23.445Z"
   },
   {
    "duration": 245,
    "start_time": "2022-02-25T18:02:46.253Z"
   },
   {
    "duration": 1284,
    "start_time": "2022-02-25T18:03:26.558Z"
   },
   {
    "duration": 37,
    "start_time": "2022-02-25T18:03:27.845Z"
   },
   {
    "duration": 39,
    "start_time": "2022-02-25T18:03:27.885Z"
   },
   {
    "duration": 8,
    "start_time": "2022-02-25T18:03:27.926Z"
   },
   {
    "duration": 12,
    "start_time": "2022-02-25T18:03:27.936Z"
   },
   {
    "duration": 27,
    "start_time": "2022-02-25T18:03:27.950Z"
   },
   {
    "duration": 15,
    "start_time": "2022-02-25T18:03:27.979Z"
   },
   {
    "duration": 346,
    "start_time": "2022-02-25T18:03:27.997Z"
   },
   {
    "duration": 24,
    "start_time": "2022-02-25T18:03:28.346Z"
   },
   {
    "duration": 330,
    "start_time": "2022-02-25T18:03:28.372Z"
   },
   {
    "duration": 11,
    "start_time": "2022-02-25T18:03:28.704Z"
   },
   {
    "duration": 422,
    "start_time": "2022-02-25T18:03:28.717Z"
   },
   {
    "duration": 293,
    "start_time": "2022-02-25T18:03:29.141Z"
   },
   {
    "duration": 271,
    "start_time": "2022-02-25T18:03:29.436Z"
   },
   {
    "duration": 356,
    "start_time": "2022-02-25T18:03:29.709Z"
   },
   {
    "duration": 286,
    "start_time": "2022-02-25T18:03:30.068Z"
   },
   {
    "duration": 496,
    "start_time": "2022-02-25T18:03:30.356Z"
   },
   {
    "duration": 339,
    "start_time": "2022-02-25T18:03:30.855Z"
   },
   {
    "duration": 4,
    "start_time": "2022-02-25T18:03:31.196Z"
   },
   {
    "duration": 344,
    "start_time": "2022-02-25T18:03:31.202Z"
   },
   {
    "duration": 2472,
    "start_time": "2022-02-25T18:03:29.077Z"
   },
   {
    "duration": 2468,
    "start_time": "2022-02-25T18:03:29.082Z"
   },
   {
    "duration": 2466,
    "start_time": "2022-02-25T18:03:29.085Z"
   },
   {
    "duration": 2464,
    "start_time": "2022-02-25T18:03:29.088Z"
   },
   {
    "duration": 2462,
    "start_time": "2022-02-25T18:03:29.091Z"
   },
   {
    "duration": 2458,
    "start_time": "2022-02-25T18:03:29.096Z"
   },
   {
    "duration": 283,
    "start_time": "2022-02-25T18:04:01.782Z"
   },
   {
    "duration": 149,
    "start_time": "2022-02-25T18:04:11.343Z"
   },
   {
    "duration": 76,
    "start_time": "2022-02-25T18:04:39.454Z"
   },
   {
    "duration": 119,
    "start_time": "2022-02-25T18:04:44.915Z"
   },
   {
    "duration": 89,
    "start_time": "2022-02-25T18:04:52.854Z"
   },
   {
    "duration": 152,
    "start_time": "2022-02-25T18:04:56.623Z"
   },
   {
    "duration": 134,
    "start_time": "2022-02-25T18:05:05.317Z"
   },
   {
    "duration": 120,
    "start_time": "2022-02-25T18:05:16.694Z"
   },
   {
    "duration": 174,
    "start_time": "2022-02-25T18:05:59.397Z"
   },
   {
    "duration": 170,
    "start_time": "2022-02-25T18:06:07.117Z"
   },
   {
    "duration": 287,
    "start_time": "2022-02-25T18:07:17.774Z"
   },
   {
    "duration": 113,
    "start_time": "2022-02-25T18:07:20.956Z"
   },
   {
    "duration": 279,
    "start_time": "2022-02-25T18:07:25.396Z"
   },
   {
    "duration": 6,
    "start_time": "2022-02-25T18:09:12.739Z"
   },
   {
    "duration": 6,
    "start_time": "2022-02-25T18:10:07.196Z"
   },
   {
    "duration": 255,
    "start_time": "2022-02-25T18:15:40.671Z"
   },
   {
    "duration": 1236,
    "start_time": "2022-02-25T18:16:11.710Z"
   },
   {
    "duration": 39,
    "start_time": "2022-02-25T18:16:12.948Z"
   },
   {
    "duration": 74,
    "start_time": "2022-02-25T18:16:12.989Z"
   },
   {
    "duration": 18,
    "start_time": "2022-02-25T18:16:13.065Z"
   },
   {
    "duration": 48,
    "start_time": "2022-02-25T18:16:13.085Z"
   },
   {
    "duration": 28,
    "start_time": "2022-02-25T18:16:13.135Z"
   },
   {
    "duration": 34,
    "start_time": "2022-02-25T18:16:13.165Z"
   },
   {
    "duration": 355,
    "start_time": "2022-02-25T18:16:13.201Z"
   },
   {
    "duration": 21,
    "start_time": "2022-02-25T18:16:13.558Z"
   },
   {
    "duration": 318,
    "start_time": "2022-02-25T18:16:13.581Z"
   },
   {
    "duration": 10,
    "start_time": "2022-02-25T18:16:13.901Z"
   },
   {
    "duration": 425,
    "start_time": "2022-02-25T18:16:13.913Z"
   },
   {
    "duration": 277,
    "start_time": "2022-02-25T18:16:14.340Z"
   },
   {
    "duration": 286,
    "start_time": "2022-02-25T18:16:14.619Z"
   },
   {
    "duration": 354,
    "start_time": "2022-02-25T18:16:14.906Z"
   },
   {
    "duration": 289,
    "start_time": "2022-02-25T18:16:15.262Z"
   },
   {
    "duration": 528,
    "start_time": "2022-02-25T18:16:15.553Z"
   },
   {
    "duration": 325,
    "start_time": "2022-02-25T18:16:16.083Z"
   },
   {
    "duration": 5,
    "start_time": "2022-02-25T18:16:16.410Z"
   },
   {
    "duration": 138,
    "start_time": "2022-02-25T18:16:16.416Z"
   },
   {
    "duration": 198,
    "start_time": "2022-02-25T18:16:16.557Z"
   },
   {
    "duration": 324,
    "start_time": "2022-02-25T18:16:16.757Z"
   },
   {
    "duration": 5,
    "start_time": "2022-02-25T18:16:17.084Z"
   },
   {
    "duration": 322,
    "start_time": "2022-02-25T18:16:17.091Z"
   },
   {
    "duration": 142,
    "start_time": "2022-02-25T18:16:17.415Z"
   },
   {
    "duration": 14,
    "start_time": "2022-02-25T18:16:17.560Z"
   },
   {
    "duration": 49,
    "start_time": "2022-02-25T18:16:17.577Z"
   },
   {
    "duration": 160,
    "start_time": "2022-02-25T18:16:17.629Z"
   },
   {
    "duration": 13,
    "start_time": "2022-02-25T18:16:17.791Z"
   },
   {
    "duration": 6371,
    "start_time": "2022-02-25T18:16:17.806Z"
   },
   {
    "duration": 6287,
    "start_time": "2022-02-25T18:16:37.918Z"
   },
   {
    "duration": 13,
    "start_time": "2022-02-25T18:17:43.340Z"
   },
   {
    "duration": 6484,
    "start_time": "2022-02-25T18:17:59.021Z"
   },
   {
    "duration": 2496,
    "start_time": "2022-02-25T18:18:38.491Z"
   },
   {
    "duration": 6397,
    "start_time": "2022-02-25T18:18:46.212Z"
   },
   {
    "duration": 9,
    "start_time": "2022-02-25T18:19:02.044Z"
   },
   {
    "duration": 132,
    "start_time": "2022-02-25T18:19:20.516Z"
   },
   {
    "duration": 12,
    "start_time": "2022-02-25T18:19:25.683Z"
   },
   {
    "duration": 11,
    "start_time": "2022-02-25T18:20:46.498Z"
   },
   {
    "duration": 6635,
    "start_time": "2022-02-25T18:22:35.977Z"
   },
   {
    "duration": 11,
    "start_time": "2022-02-25T18:23:39.562Z"
   },
   {
    "duration": 12,
    "start_time": "2022-02-25T18:25:13.920Z"
   },
   {
    "duration": 8,
    "start_time": "2022-02-25T18:25:16.881Z"
   },
   {
    "duration": 8,
    "start_time": "2022-02-25T18:25:24.702Z"
   },
   {
    "duration": 7525,
    "start_time": "2022-02-25T18:27:49.286Z"
   },
   {
    "duration": 16,
    "start_time": "2022-02-25T18:28:05.342Z"
   },
   {
    "duration": 63,
    "start_time": "2022-02-26T14:21:03.992Z"
   },
   {
    "duration": 218,
    "start_time": "2022-02-26T14:21:12.807Z"
   },
   {
    "duration": 395,
    "start_time": "2022-02-26T14:21:21.687Z"
   },
   {
    "duration": 3,
    "start_time": "2022-02-26T14:25:53.051Z"
   },
   {
    "duration": 165,
    "start_time": "2022-02-26T14:27:26.362Z"
   },
   {
    "duration": 1067,
    "start_time": "2022-02-26T14:27:32.477Z"
   },
   {
    "duration": 36,
    "start_time": "2022-02-26T14:27:33.546Z"
   },
   {
    "duration": 29,
    "start_time": "2022-02-26T14:27:33.584Z"
   },
   {
    "duration": 6,
    "start_time": "2022-02-26T14:27:33.615Z"
   },
   {
    "duration": 11,
    "start_time": "2022-02-26T14:27:33.622Z"
   },
   {
    "duration": 9,
    "start_time": "2022-02-26T14:27:33.635Z"
   },
   {
    "duration": 10,
    "start_time": "2022-02-26T14:27:33.646Z"
   },
   {
    "duration": 310,
    "start_time": "2022-02-26T14:27:33.658Z"
   },
   {
    "duration": 10,
    "start_time": "2022-02-26T14:27:33.969Z"
   },
   {
    "duration": 280,
    "start_time": "2022-02-26T14:27:33.981Z"
   },
   {
    "duration": 8,
    "start_time": "2022-02-26T14:27:34.263Z"
   },
   {
    "duration": 324,
    "start_time": "2022-02-26T14:27:34.273Z"
   },
   {
    "duration": 230,
    "start_time": "2022-02-26T14:27:34.599Z"
   },
   {
    "duration": 231,
    "start_time": "2022-02-26T14:27:34.833Z"
   },
   {
    "duration": 302,
    "start_time": "2022-02-26T14:27:35.066Z"
   },
   {
    "duration": 243,
    "start_time": "2022-02-26T14:27:35.369Z"
   },
   {
    "duration": 387,
    "start_time": "2022-02-26T14:27:35.614Z"
   },
   {
    "duration": 296,
    "start_time": "2022-02-26T14:27:36.002Z"
   },
   {
    "duration": 968,
    "start_time": "2022-02-26T14:27:35.333Z"
   },
   {
    "duration": 965,
    "start_time": "2022-02-26T14:27:35.337Z"
   },
   {
    "duration": 959,
    "start_time": "2022-02-26T14:27:35.343Z"
   },
   {
    "duration": 957,
    "start_time": "2022-02-26T14:27:35.346Z"
   },
   {
    "duration": 955,
    "start_time": "2022-02-26T14:27:35.349Z"
   },
   {
    "duration": 953,
    "start_time": "2022-02-26T14:27:35.352Z"
   },
   {
    "duration": 951,
    "start_time": "2022-02-26T14:27:35.355Z"
   },
   {
    "duration": 950,
    "start_time": "2022-02-26T14:27:35.358Z"
   },
   {
    "duration": 948,
    "start_time": "2022-02-26T14:27:35.361Z"
   },
   {
    "duration": 946,
    "start_time": "2022-02-26T14:27:35.364Z"
   },
   {
    "duration": 942,
    "start_time": "2022-02-26T14:27:35.368Z"
   },
   {
    "duration": 941,
    "start_time": "2022-02-26T14:27:35.371Z"
   },
   {
    "duration": 939,
    "start_time": "2022-02-26T14:27:35.374Z"
   },
   {
    "duration": 936,
    "start_time": "2022-02-26T14:27:35.377Z"
   },
   {
    "duration": 934,
    "start_time": "2022-02-26T14:27:35.380Z"
   },
   {
    "duration": 932,
    "start_time": "2022-02-26T14:27:35.383Z"
   },
   {
    "duration": 930,
    "start_time": "2022-02-26T14:27:35.386Z"
   },
   {
    "duration": 928,
    "start_time": "2022-02-26T14:27:35.389Z"
   },
   {
    "duration": 193,
    "start_time": "2022-02-26T14:28:35.384Z"
   },
   {
    "duration": 12,
    "start_time": "2022-02-26T14:28:38.304Z"
   },
   {
    "duration": 121,
    "start_time": "2022-02-26T14:29:00.663Z"
   },
   {
    "duration": 171,
    "start_time": "2022-02-26T14:32:47.828Z"
   },
   {
    "duration": 4435,
    "start_time": "2022-02-26T14:33:06.235Z"
   },
   {
    "duration": 75,
    "start_time": "2022-02-26T14:33:13.700Z"
   },
   {
    "duration": 59,
    "start_time": "2022-02-26T14:33:18.561Z"
   },
   {
    "duration": 4378,
    "start_time": "2022-02-26T14:33:22.370Z"
   },
   {
    "duration": 425,
    "start_time": "2022-02-26T14:33:31.012Z"
   },
   {
    "duration": 406,
    "start_time": "2022-02-26T14:33:47.298Z"
   },
   {
    "duration": 4,
    "start_time": "2022-02-26T14:35:05.242Z"
   },
   {
    "duration": 373,
    "start_time": "2022-02-26T14:36:47.633Z"
   },
   {
    "duration": 295,
    "start_time": "2022-02-26T14:36:59.128Z"
   },
   {
    "duration": 132,
    "start_time": "2022-02-26T14:39:16.814Z"
   },
   {
    "duration": 170,
    "start_time": "2022-02-26T14:40:01.733Z"
   },
   {
    "duration": 260,
    "start_time": "2022-02-26T14:40:18.750Z"
   },
   {
    "duration": 72,
    "start_time": "2022-02-26T14:42:10.419Z"
   },
   {
    "duration": 92,
    "start_time": "2022-02-26T14:45:22.417Z"
   },
   {
    "duration": 378,
    "start_time": "2022-02-26T14:45:28.257Z"
   },
   {
    "duration": 5,
    "start_time": "2022-02-26T14:47:52.115Z"
   },
   {
    "duration": 1050,
    "start_time": "2022-02-26T14:49:44.489Z"
   },
   {
    "duration": 36,
    "start_time": "2022-02-26T14:49:45.541Z"
   },
   {
    "duration": 30,
    "start_time": "2022-02-26T14:49:45.578Z"
   },
   {
    "duration": 6,
    "start_time": "2022-02-26T14:49:45.609Z"
   },
   {
    "duration": 8,
    "start_time": "2022-02-26T14:49:45.616Z"
   },
   {
    "duration": 12,
    "start_time": "2022-02-26T14:49:45.625Z"
   },
   {
    "duration": 11,
    "start_time": "2022-02-26T14:49:45.638Z"
   },
   {
    "duration": 302,
    "start_time": "2022-02-26T14:49:45.651Z"
   },
   {
    "duration": 11,
    "start_time": "2022-02-26T14:49:45.956Z"
   },
   {
    "duration": 276,
    "start_time": "2022-02-26T14:49:45.969Z"
   },
   {
    "duration": 9,
    "start_time": "2022-02-26T14:49:46.247Z"
   },
   {
    "duration": 332,
    "start_time": "2022-02-26T14:49:46.257Z"
   },
   {
    "duration": 231,
    "start_time": "2022-02-26T14:49:46.591Z"
   },
   {
    "duration": 243,
    "start_time": "2022-02-26T14:49:46.823Z"
   },
   {
    "duration": 309,
    "start_time": "2022-02-26T14:49:47.068Z"
   },
   {
    "duration": 250,
    "start_time": "2022-02-26T14:49:47.379Z"
   },
   {
    "duration": 433,
    "start_time": "2022-02-26T14:49:47.633Z"
   },
   {
    "duration": 169,
    "start_time": "2022-02-26T14:49:48.068Z"
   },
   {
    "duration": 381,
    "start_time": "2022-02-26T14:49:48.238Z"
   },
   {
    "duration": 4,
    "start_time": "2022-02-26T14:49:48.635Z"
   },
   {
    "duration": 276,
    "start_time": "2022-02-26T14:49:48.641Z"
   },
   {
    "duration": 14,
    "start_time": "2022-02-26T14:49:48.920Z"
   },
   {
    "duration": 301,
    "start_time": "2022-02-26T14:49:48.939Z"
   },
   {
    "duration": 143,
    "start_time": "2022-02-26T14:49:49.243Z"
   },
   {
    "duration": 7,
    "start_time": "2022-02-26T14:49:49.388Z"
   },
   {
    "duration": 13,
    "start_time": "2022-02-26T14:49:49.397Z"
   },
   {
    "duration": 124,
    "start_time": "2022-02-26T14:49:49.412Z"
   },
   {
    "duration": 9,
    "start_time": "2022-02-26T14:49:49.538Z"
   },
   {
    "duration": 8,
    "start_time": "2022-02-26T14:49:49.549Z"
   },
   {
    "duration": 15,
    "start_time": "2022-02-26T14:49:49.559Z"
   },
   {
    "duration": 12,
    "start_time": "2022-02-26T14:49:49.576Z"
   },
   {
    "duration": 12,
    "start_time": "2022-02-26T14:49:49.590Z"
   },
   {
    "duration": 61,
    "start_time": "2022-02-26T14:49:49.604Z"
   },
   {
    "duration": 1020,
    "start_time": "2022-02-26T14:49:48.647Z"
   },
   {
    "duration": 1374,
    "start_time": "2022-02-26T15:49:44.981Z"
   },
   {
    "duration": 47,
    "start_time": "2022-02-26T15:49:46.361Z"
   },
   {
    "duration": 33,
    "start_time": "2022-02-26T15:49:46.410Z"
   },
   {
    "duration": 6,
    "start_time": "2022-02-26T15:49:46.445Z"
   },
   {
    "duration": 8,
    "start_time": "2022-02-26T15:49:46.453Z"
   },
   {
    "duration": 21,
    "start_time": "2022-02-26T15:49:46.462Z"
   },
   {
    "duration": 10,
    "start_time": "2022-02-26T15:49:46.486Z"
   },
   {
    "duration": 299,
    "start_time": "2022-02-26T15:49:46.498Z"
   },
   {
    "duration": 10,
    "start_time": "2022-02-26T15:49:46.799Z"
   },
   {
    "duration": 286,
    "start_time": "2022-02-26T15:49:46.810Z"
   },
   {
    "duration": 9,
    "start_time": "2022-02-26T15:49:47.098Z"
   },
   {
    "duration": 335,
    "start_time": "2022-02-26T15:49:47.108Z"
   },
   {
    "duration": 255,
    "start_time": "2022-02-26T15:49:47.444Z"
   },
   {
    "duration": 240,
    "start_time": "2022-02-26T15:49:47.701Z"
   },
   {
    "duration": 414,
    "start_time": "2022-02-26T15:49:47.944Z"
   },
   {
    "duration": 361,
    "start_time": "2022-02-26T15:49:48.361Z"
   },
   {
    "duration": 564,
    "start_time": "2022-02-26T15:49:48.724Z"
   },
   {
    "duration": 119,
    "start_time": "2022-02-26T15:49:49.290Z"
   },
   {
    "duration": 397,
    "start_time": "2022-02-26T15:49:49.411Z"
   },
   {
    "duration": 4,
    "start_time": "2022-02-26T15:49:49.809Z"
   },
   {
    "duration": 329,
    "start_time": "2022-02-26T15:49:49.815Z"
   },
   {
    "duration": 4,
    "start_time": "2022-02-26T15:49:50.147Z"
   },
   {
    "duration": 273,
    "start_time": "2022-02-26T15:49:50.153Z"
   },
   {
    "duration": 114,
    "start_time": "2022-02-26T15:49:50.427Z"
   },
   {
    "duration": 8,
    "start_time": "2022-02-26T15:49:50.543Z"
   },
   {
    "duration": 6,
    "start_time": "2022-02-26T15:49:50.553Z"
   },
   {
    "duration": 133,
    "start_time": "2022-02-26T15:49:50.561Z"
   },
   {
    "duration": 9,
    "start_time": "2022-02-26T15:49:50.696Z"
   },
   {
    "duration": 29,
    "start_time": "2022-02-26T15:49:50.706Z"
   },
   {
    "duration": 12,
    "start_time": "2022-02-26T15:49:50.737Z"
   },
   {
    "duration": 9,
    "start_time": "2022-02-26T15:49:50.750Z"
   },
   {
    "duration": 13,
    "start_time": "2022-02-26T15:49:50.761Z"
   },
   {
    "duration": 1070,
    "start_time": "2022-02-27T07:28:05.322Z"
   },
   {
    "duration": 57,
    "start_time": "2022-02-27T07:28:06.394Z"
   },
   {
    "duration": 30,
    "start_time": "2022-02-27T07:28:06.453Z"
   },
   {
    "duration": 6,
    "start_time": "2022-02-27T07:28:06.484Z"
   },
   {
    "duration": 4,
    "start_time": "2022-02-27T07:28:06.492Z"
   },
   {
    "duration": 8,
    "start_time": "2022-02-27T07:28:06.498Z"
   },
   {
    "duration": 12,
    "start_time": "2022-02-27T07:28:06.508Z"
   },
   {
    "duration": 282,
    "start_time": "2022-02-27T07:28:06.522Z"
   },
   {
    "duration": 10,
    "start_time": "2022-02-27T07:28:06.806Z"
   },
   {
    "duration": 251,
    "start_time": "2022-02-27T07:28:06.818Z"
   },
   {
    "duration": 9,
    "start_time": "2022-02-27T07:28:07.071Z"
   },
   {
    "duration": 305,
    "start_time": "2022-02-27T07:28:07.082Z"
   },
   {
    "duration": 221,
    "start_time": "2022-02-27T07:28:07.388Z"
   },
   {
    "duration": 224,
    "start_time": "2022-02-27T07:28:07.611Z"
   },
   {
    "duration": 287,
    "start_time": "2022-02-27T07:28:07.837Z"
   },
   {
    "duration": 232,
    "start_time": "2022-02-27T07:28:08.126Z"
   },
   {
    "duration": 377,
    "start_time": "2022-02-27T07:28:08.360Z"
   },
   {
    "duration": 108,
    "start_time": "2022-02-27T07:28:08.739Z"
   },
   {
    "duration": 319,
    "start_time": "2022-02-27T07:28:08.849Z"
   },
   {
    "duration": 4,
    "start_time": "2022-02-27T07:28:09.169Z"
   },
   {
    "duration": 286,
    "start_time": "2022-02-27T07:28:09.174Z"
   },
   {
    "duration": 4,
    "start_time": "2022-02-27T07:28:09.461Z"
   },
   {
    "duration": 235,
    "start_time": "2022-02-27T07:28:09.468Z"
   },
   {
    "duration": 121,
    "start_time": "2022-02-27T07:28:09.705Z"
   },
   {
    "duration": 7,
    "start_time": "2022-02-27T07:28:09.828Z"
   },
   {
    "duration": 6,
    "start_time": "2022-02-27T07:28:09.837Z"
   },
   {
    "duration": 121,
    "start_time": "2022-02-27T07:28:09.844Z"
   },
   {
    "duration": 9,
    "start_time": "2022-02-27T07:28:09.967Z"
   },
   {
    "duration": 26,
    "start_time": "2022-02-27T07:28:09.978Z"
   },
   {
    "duration": 11,
    "start_time": "2022-02-27T07:28:10.006Z"
   },
   {
    "duration": 8,
    "start_time": "2022-02-27T07:28:10.018Z"
   },
   {
    "duration": 12,
    "start_time": "2022-02-27T07:28:10.027Z"
   },
   {
    "duration": 296,
    "start_time": "2022-02-27T10:54:54.427Z"
   },
   {
    "duration": 1351,
    "start_time": "2022-02-27T10:55:07.647Z"
   },
   {
    "duration": 85,
    "start_time": "2022-02-27T10:55:09.001Z"
   },
   {
    "duration": 51,
    "start_time": "2022-02-27T10:55:09.089Z"
   },
   {
    "duration": 10,
    "start_time": "2022-02-27T10:55:09.142Z"
   },
   {
    "duration": 7,
    "start_time": "2022-02-27T10:55:12.584Z"
   },
   {
    "duration": 14,
    "start_time": "2022-02-27T10:55:13.288Z"
   },
   {
    "duration": 19,
    "start_time": "2022-02-27T10:55:16.144Z"
   },
   {
    "duration": 13,
    "start_time": "2022-02-27T10:55:34.160Z"
   },
   {
    "duration": 8,
    "start_time": "2022-02-27T10:55:56.527Z"
   },
   {
    "duration": 8,
    "start_time": "2022-02-27T10:58:05.342Z"
   },
   {
    "duration": 47,
    "start_time": "2022-02-27T10:58:36.373Z"
   },
   {
    "duration": 53,
    "start_time": "2022-02-27T10:58:40.105Z"
   },
   {
    "duration": 44,
    "start_time": "2022-02-27T10:58:47.566Z"
   },
   {
    "duration": 67,
    "start_time": "2022-02-27T11:02:06.245Z"
   },
   {
    "duration": 69,
    "start_time": "2022-02-27T11:02:13.275Z"
   },
   {
    "duration": 66,
    "start_time": "2022-02-27T11:02:33.147Z"
   },
   {
    "duration": 5504,
    "start_time": "2022-02-27T11:02:44.665Z"
   },
   {
    "duration": 10,
    "start_time": "2022-02-27T11:03:40.481Z"
   },
   {
    "duration": 26,
    "start_time": "2022-02-27T11:03:45.636Z"
   },
   {
    "duration": 18,
    "start_time": "2022-02-27T11:03:55.369Z"
   },
   {
    "duration": 12,
    "start_time": "2022-02-27T11:04:09.136Z"
   },
   {
    "duration": 10,
    "start_time": "2022-02-27T11:05:12.511Z"
   },
   {
    "duration": 18,
    "start_time": "2022-02-27T11:05:22.272Z"
   },
   {
    "duration": 18,
    "start_time": "2022-02-27T11:11:16.507Z"
   },
   {
    "duration": 18,
    "start_time": "2022-02-27T11:11:37.234Z"
   },
   {
    "duration": 17,
    "start_time": "2022-02-27T11:11:45.874Z"
   },
   {
    "duration": 5,
    "start_time": "2022-02-27T11:17:45.652Z"
   },
   {
    "duration": 39,
    "start_time": "2022-02-27T11:17:45.660Z"
   },
   {
    "duration": 44,
    "start_time": "2022-02-27T11:17:46.165Z"
   },
   {
    "duration": 11,
    "start_time": "2022-02-27T11:17:59.494Z"
   },
   {
    "duration": 14,
    "start_time": "2022-02-27T11:17:59.876Z"
   },
   {
    "duration": 8,
    "start_time": "2022-02-27T11:18:00.389Z"
   },
   {
    "duration": 21,
    "start_time": "2022-02-27T11:18:06.477Z"
   },
   {
    "duration": 5814,
    "start_time": "2022-02-27T11:33:34.695Z"
   },
   {
    "duration": 592,
    "start_time": "2022-02-27T11:33:54.134Z"
   },
   {
    "duration": 6909,
    "start_time": "2022-02-27T11:33:57.735Z"
   },
   {
    "duration": 5357,
    "start_time": "2022-02-27T11:34:13.287Z"
   },
   {
    "duration": 5461,
    "start_time": "2022-02-27T11:34:28.417Z"
   },
   {
    "duration": 5065,
    "start_time": "2022-02-27T11:34:35.904Z"
   },
   {
    "duration": 5621,
    "start_time": "2022-02-27T11:35:04.039Z"
   },
   {
    "duration": 12,
    "start_time": "2022-02-27T11:35:10.663Z"
   },
   {
    "duration": 17,
    "start_time": "2022-02-27T11:35:28.624Z"
   },
   {
    "duration": 497,
    "start_time": "2022-02-27T11:35:29.806Z"
   },
   {
    "duration": 16,
    "start_time": "2022-02-27T11:35:32.137Z"
   },
   {
    "duration": 402,
    "start_time": "2022-02-27T11:35:37.110Z"
   },
   {
    "duration": 14,
    "start_time": "2022-02-27T11:35:40.405Z"
   },
   {
    "duration": 4,
    "start_time": "2022-02-27T11:36:54.181Z"
   },
   {
    "duration": 7,
    "start_time": "2022-02-27T11:37:01.285Z"
   },
   {
    "duration": 1372,
    "start_time": "2022-02-27T11:37:52.132Z"
   },
   {
    "duration": 37,
    "start_time": "2022-02-27T11:37:53.506Z"
   },
   {
    "duration": 49,
    "start_time": "2022-02-27T11:37:53.545Z"
   },
   {
    "duration": 10,
    "start_time": "2022-02-27T11:37:53.597Z"
   },
   {
    "duration": 43,
    "start_time": "2022-02-27T11:37:53.609Z"
   },
   {
    "duration": 7,
    "start_time": "2022-02-27T11:37:53.655Z"
   },
   {
    "duration": 16,
    "start_time": "2022-02-27T11:37:53.664Z"
   },
   {
    "duration": 17,
    "start_time": "2022-02-27T11:37:53.683Z"
   },
   {
    "duration": 472,
    "start_time": "2022-02-27T11:37:53.703Z"
   },
   {
    "duration": 14,
    "start_time": "2022-02-27T11:37:54.178Z"
   },
   {
    "duration": 437,
    "start_time": "2022-02-27T11:37:54.195Z"
   },
   {
    "duration": 19,
    "start_time": "2022-02-27T11:37:54.634Z"
   },
   {
    "duration": 7,
    "start_time": "2022-02-27T11:37:54.655Z"
   },
   {
    "duration": 588,
    "start_time": "2022-02-27T11:37:54.665Z"
   },
   {
    "duration": 400,
    "start_time": "2022-02-27T11:37:55.255Z"
   },
   {
    "duration": 394,
    "start_time": "2022-02-27T11:37:55.657Z"
   },
   {
    "duration": 439,
    "start_time": "2022-02-27T11:37:56.053Z"
   },
   {
    "duration": 413,
    "start_time": "2022-02-27T11:37:56.495Z"
   },
   {
    "duration": 536,
    "start_time": "2022-02-27T11:37:56.910Z"
   },
   {
    "duration": 193,
    "start_time": "2022-02-27T11:37:57.452Z"
   },
   {
    "duration": 578,
    "start_time": "2022-02-27T11:37:57.647Z"
   },
   {
    "duration": 6,
    "start_time": "2022-02-27T11:37:58.227Z"
   },
   {
    "duration": 368,
    "start_time": "2022-02-27T11:37:58.251Z"
   },
   {
    "duration": 5,
    "start_time": "2022-02-27T11:37:58.622Z"
   },
   {
    "duration": 461,
    "start_time": "2022-02-27T11:37:58.629Z"
   },
   {
    "duration": 229,
    "start_time": "2022-02-27T11:37:59.093Z"
   },
   {
    "duration": 10,
    "start_time": "2022-02-27T11:37:59.325Z"
   },
   {
    "duration": 21,
    "start_time": "2022-02-27T11:37:59.337Z"
   },
   {
    "duration": 242,
    "start_time": "2022-02-27T11:37:59.360Z"
   },
   {
    "duration": 13,
    "start_time": "2022-02-27T11:37:59.604Z"
   },
   {
    "duration": 37,
    "start_time": "2022-02-27T11:37:59.619Z"
   },
   {
    "duration": 14,
    "start_time": "2022-02-27T11:37:59.658Z"
   },
   {
    "duration": 9,
    "start_time": "2022-02-27T11:37:59.674Z"
   },
   {
    "duration": 18,
    "start_time": "2022-02-27T11:37:59.686Z"
   },
   {
    "duration": 7,
    "start_time": "2022-02-27T11:38:12.005Z"
   },
   {
    "duration": 8,
    "start_time": "2022-02-27T11:40:08.085Z"
   },
   {
    "duration": 10,
    "start_time": "2022-02-27T11:40:42.716Z"
   },
   {
    "duration": 12,
    "start_time": "2022-02-27T11:42:06.938Z"
   },
   {
    "duration": 9,
    "start_time": "2022-02-27T11:42:18.715Z"
   },
   {
    "duration": 12,
    "start_time": "2022-02-27T11:42:29.849Z"
   },
   {
    "duration": 63,
    "start_time": "2022-02-27T11:44:37.795Z"
   },
   {
    "duration": 80,
    "start_time": "2022-02-27T11:44:57.775Z"
   },
   {
    "duration": 67,
    "start_time": "2022-02-27T11:46:32.733Z"
   },
   {
    "duration": 73,
    "start_time": "2022-02-27T11:46:48.703Z"
   },
   {
    "duration": 82,
    "start_time": "2022-02-27T11:46:56.213Z"
   },
   {
    "duration": 11,
    "start_time": "2022-02-27T11:49:26.300Z"
   },
   {
    "duration": 332,
    "start_time": "2022-02-27T11:50:02.860Z"
   },
   {
    "duration": 13,
    "start_time": "2022-02-27T11:50:15.563Z"
   },
   {
    "duration": 17,
    "start_time": "2022-02-27T11:50:41.947Z"
   },
   {
    "duration": 13,
    "start_time": "2022-02-27T11:50:46.027Z"
   },
   {
    "duration": 401,
    "start_time": "2022-02-27T12:11:35.304Z"
   },
   {
    "duration": 387,
    "start_time": "2022-02-27T12:15:08.230Z"
   },
   {
    "duration": 417,
    "start_time": "2022-02-27T12:15:15.158Z"
   },
   {
    "duration": 520,
    "start_time": "2022-02-27T12:15:20.126Z"
   },
   {
    "duration": 494,
    "start_time": "2022-02-27T12:16:40.822Z"
   },
   {
    "duration": 559,
    "start_time": "2022-02-27T12:17:14.477Z"
   },
   {
    "duration": 400,
    "start_time": "2022-02-27T12:17:23.660Z"
   },
   {
    "duration": 422,
    "start_time": "2022-02-27T12:18:05.620Z"
   },
   {
    "duration": 489,
    "start_time": "2022-02-27T12:20:26.986Z"
   },
   {
    "duration": 503,
    "start_time": "2022-02-27T12:20:33.867Z"
   },
   {
    "duration": 405,
    "start_time": "2022-02-27T12:20:39.011Z"
   },
   {
    "duration": 443,
    "start_time": "2022-02-27T12:21:38.187Z"
   },
   {
    "duration": 473,
    "start_time": "2022-02-27T12:21:49.018Z"
   },
   {
    "duration": 414,
    "start_time": "2022-02-27T12:23:11.977Z"
   },
   {
    "duration": 389,
    "start_time": "2022-02-27T12:23:25.065Z"
   },
   {
    "duration": 410,
    "start_time": "2022-02-27T12:23:35.168Z"
   },
   {
    "duration": 509,
    "start_time": "2022-02-27T12:24:19.064Z"
   },
   {
    "duration": 518,
    "start_time": "2022-02-27T12:24:28.823Z"
   },
   {
    "duration": 488,
    "start_time": "2022-02-27T12:25:00.391Z"
   },
   {
    "duration": 534,
    "start_time": "2022-02-27T12:25:52.039Z"
   },
   {
    "duration": 1341,
    "start_time": "2022-02-27T13:03:33.779Z"
   },
   {
    "duration": 65,
    "start_time": "2022-02-27T13:03:35.123Z"
   },
   {
    "duration": 50,
    "start_time": "2022-02-27T13:03:35.191Z"
   },
   {
    "duration": 9,
    "start_time": "2022-02-27T13:03:35.244Z"
   },
   {
    "duration": 14,
    "start_time": "2022-02-27T13:03:35.255Z"
   },
   {
    "duration": 6,
    "start_time": "2022-02-27T13:03:35.271Z"
   },
   {
    "duration": 14,
    "start_time": "2022-02-27T13:03:35.280Z"
   },
   {
    "duration": 54,
    "start_time": "2022-02-27T13:03:35.297Z"
   },
   {
    "duration": 464,
    "start_time": "2022-02-27T13:03:35.354Z"
   },
   {
    "duration": 16,
    "start_time": "2022-02-27T13:03:35.820Z"
   },
   {
    "duration": 441,
    "start_time": "2022-02-27T13:03:35.838Z"
   },
   {
    "duration": 13,
    "start_time": "2022-02-27T13:03:36.282Z"
   },
   {
    "duration": 12,
    "start_time": "2022-02-27T13:03:36.298Z"
   },
   {
    "duration": 600,
    "start_time": "2022-02-27T13:03:36.313Z"
   },
   {
    "duration": 419,
    "start_time": "2022-02-27T13:03:36.916Z"
   },
   {
    "duration": 412,
    "start_time": "2022-02-27T13:03:37.339Z"
   },
   {
    "duration": 459,
    "start_time": "2022-02-27T13:03:37.754Z"
   },
   {
    "duration": 416,
    "start_time": "2022-02-27T13:03:38.215Z"
   },
   {
    "duration": 570,
    "start_time": "2022-02-27T13:03:38.634Z"
   },
   {
    "duration": 180,
    "start_time": "2022-02-27T13:03:39.207Z"
   },
   {
    "duration": 631,
    "start_time": "2022-02-27T13:03:39.389Z"
   },
   {
    "duration": 6,
    "start_time": "2022-02-27T13:03:40.023Z"
   },
   {
    "duration": 373,
    "start_time": "2022-02-27T13:03:40.051Z"
   },
   {
    "duration": 6,
    "start_time": "2022-02-27T13:03:40.426Z"
   },
   {
    "duration": 470,
    "start_time": "2022-02-27T13:03:40.434Z"
   },
   {
    "duration": 255,
    "start_time": "2022-02-27T13:03:40.907Z"
   },
   {
    "duration": 11,
    "start_time": "2022-02-27T13:03:41.165Z"
   },
   {
    "duration": 7,
    "start_time": "2022-02-27T13:03:41.178Z"
   },
   {
    "duration": 214,
    "start_time": "2022-02-27T13:03:41.187Z"
   },
   {
    "duration": 14,
    "start_time": "2022-02-27T13:03:41.404Z"
   },
   {
    "duration": 37,
    "start_time": "2022-02-27T13:03:41.420Z"
   },
   {
    "duration": 14,
    "start_time": "2022-02-27T13:03:41.460Z"
   },
   {
    "duration": 10,
    "start_time": "2022-02-27T13:03:41.476Z"
   },
   {
    "duration": 18,
    "start_time": "2022-02-27T13:03:41.489Z"
   },
   {
    "duration": 576,
    "start_time": "2022-02-27T13:05:21.502Z"
   },
   {
    "duration": 908,
    "start_time": "2022-02-27T13:09:26.448Z"
   },
   {
    "duration": 621,
    "start_time": "2022-02-27T13:11:29.832Z"
   },
   {
    "duration": 578,
    "start_time": "2022-02-27T13:11:38.127Z"
   },
   {
    "duration": 597,
    "start_time": "2022-02-27T13:11:42.470Z"
   },
   {
    "duration": 420,
    "start_time": "2022-02-27T13:12:20.111Z"
   },
   {
    "duration": 504,
    "start_time": "2022-02-27T13:12:40.494Z"
   },
   {
    "duration": 436,
    "start_time": "2022-02-27T13:13:00.717Z"
   },
   {
    "duration": 414,
    "start_time": "2022-02-27T13:13:07.949Z"
   },
   {
    "duration": 476,
    "start_time": "2022-02-27T13:13:13.373Z"
   },
   {
    "duration": 372,
    "start_time": "2022-02-27T13:13:18.973Z"
   },
   {
    "duration": 1359,
    "start_time": "2022-02-27T13:13:35.564Z"
   },
   {
    "duration": 45,
    "start_time": "2022-02-27T13:13:36.926Z"
   },
   {
    "duration": 52,
    "start_time": "2022-02-27T13:13:36.976Z"
   },
   {
    "duration": 25,
    "start_time": "2022-02-27T13:13:37.031Z"
   },
   {
    "duration": 15,
    "start_time": "2022-02-27T13:13:37.059Z"
   },
   {
    "duration": 7,
    "start_time": "2022-02-27T13:13:37.076Z"
   },
   {
    "duration": 15,
    "start_time": "2022-02-27T13:13:37.085Z"
   },
   {
    "duration": 49,
    "start_time": "2022-02-27T13:13:37.103Z"
   },
   {
    "duration": 457,
    "start_time": "2022-02-27T13:13:37.155Z"
   },
   {
    "duration": 17,
    "start_time": "2022-02-27T13:13:37.615Z"
   },
   {
    "duration": 507,
    "start_time": "2022-02-27T13:13:37.635Z"
   },
   {
    "duration": 21,
    "start_time": "2022-02-27T13:13:38.152Z"
   },
   {
    "duration": 17,
    "start_time": "2022-02-27T13:13:38.176Z"
   },
   {
    "duration": 594,
    "start_time": "2022-02-27T13:13:38.197Z"
   },
   {
    "duration": 419,
    "start_time": "2022-02-27T13:13:38.793Z"
   },
   {
    "duration": 412,
    "start_time": "2022-02-27T13:13:39.215Z"
   },
   {
    "duration": 464,
    "start_time": "2022-02-27T13:13:39.629Z"
   },
   {
    "duration": 424,
    "start_time": "2022-02-27T13:13:40.096Z"
   },
   {
    "duration": 550,
    "start_time": "2022-02-27T13:13:40.523Z"
   },
   {
    "duration": 194,
    "start_time": "2022-02-27T13:13:41.076Z"
   },
   {
    "duration": 581,
    "start_time": "2022-02-27T13:13:41.272Z"
   },
   {
    "duration": 6,
    "start_time": "2022-02-27T13:13:41.855Z"
   },
   {
    "duration": 389,
    "start_time": "2022-02-27T13:13:41.865Z"
   },
   {
    "duration": 6,
    "start_time": "2022-02-27T13:13:42.256Z"
   },
   {
    "duration": 484,
    "start_time": "2022-02-27T13:13:42.265Z"
   },
   {
    "duration": 219,
    "start_time": "2022-02-27T13:13:42.752Z"
   },
   {
    "duration": 13,
    "start_time": "2022-02-27T13:13:42.973Z"
   },
   {
    "duration": 10,
    "start_time": "2022-02-27T13:13:42.989Z"
   },
   {
    "duration": 257,
    "start_time": "2022-02-27T13:13:43.002Z"
   },
   {
    "duration": 16,
    "start_time": "2022-02-27T13:13:43.262Z"
   },
   {
    "duration": 13,
    "start_time": "2022-02-27T13:13:43.281Z"
   },
   {
    "duration": 11,
    "start_time": "2022-02-27T13:13:43.296Z"
   },
   {
    "duration": 50,
    "start_time": "2022-02-27T13:13:43.309Z"
   },
   {
    "duration": 19,
    "start_time": "2022-02-27T13:13:43.361Z"
   },
   {
    "duration": 281,
    "start_time": "2022-02-28T10:45:50.493Z"
   },
   {
    "duration": 1459,
    "start_time": "2022-02-28T10:45:57.710Z"
   },
   {
    "duration": 39,
    "start_time": "2022-02-28T10:45:59.171Z"
   },
   {
    "duration": 50,
    "start_time": "2022-02-28T10:45:59.213Z"
   },
   {
    "duration": 14,
    "start_time": "2022-02-28T10:45:59.265Z"
   },
   {
    "duration": 16,
    "start_time": "2022-02-28T10:45:59.281Z"
   },
   {
    "duration": 7,
    "start_time": "2022-02-28T10:45:59.299Z"
   },
   {
    "duration": 18,
    "start_time": "2022-02-28T10:45:59.309Z"
   },
   {
    "duration": 3,
    "start_time": "2022-02-28T10:45:59.331Z"
   },
   {
    "duration": 50,
    "start_time": "2022-02-28T10:45:59.337Z"
   },
   {
    "duration": 489,
    "start_time": "2022-02-28T10:45:59.389Z"
   },
   {
    "duration": 17,
    "start_time": "2022-02-28T10:45:59.880Z"
   },
   {
    "duration": 463,
    "start_time": "2022-02-28T10:45:59.900Z"
   },
   {
    "duration": 20,
    "start_time": "2022-02-28T10:46:00.365Z"
   },
   {
    "duration": 13,
    "start_time": "2022-02-28T10:46:00.388Z"
   },
   {
    "duration": 398,
    "start_time": "2022-02-28T10:46:00.404Z"
   },
   {
    "duration": 1627,
    "start_time": "2022-02-28T10:45:59.178Z"
   },
   {
    "duration": 1623,
    "start_time": "2022-02-28T10:45:59.184Z"
   },
   {
    "duration": 1620,
    "start_time": "2022-02-28T10:45:59.188Z"
   },
   {
    "duration": 1618,
    "start_time": "2022-02-28T10:45:59.191Z"
   },
   {
    "duration": 1616,
    "start_time": "2022-02-28T10:45:59.195Z"
   },
   {
    "duration": 1613,
    "start_time": "2022-02-28T10:45:59.199Z"
   },
   {
    "duration": 1611,
    "start_time": "2022-02-28T10:45:59.203Z"
   },
   {
    "duration": 1608,
    "start_time": "2022-02-28T10:45:59.207Z"
   },
   {
    "duration": 1606,
    "start_time": "2022-02-28T10:45:59.210Z"
   },
   {
    "duration": 1604,
    "start_time": "2022-02-28T10:45:59.214Z"
   },
   {
    "duration": 1601,
    "start_time": "2022-02-28T10:45:59.218Z"
   },
   {
    "duration": 1599,
    "start_time": "2022-02-28T10:45:59.222Z"
   },
   {
    "duration": 1597,
    "start_time": "2022-02-28T10:45:59.225Z"
   },
   {
    "duration": 1594,
    "start_time": "2022-02-28T10:45:59.229Z"
   },
   {
    "duration": 1591,
    "start_time": "2022-02-28T10:45:59.233Z"
   },
   {
    "duration": 1583,
    "start_time": "2022-02-28T10:45:59.243Z"
   },
   {
    "duration": 1580,
    "start_time": "2022-02-28T10:45:59.247Z"
   },
   {
    "duration": 1578,
    "start_time": "2022-02-28T10:45:59.251Z"
   },
   {
    "duration": 1575,
    "start_time": "2022-02-28T10:45:59.255Z"
   },
   {
    "duration": 1574,
    "start_time": "2022-02-28T10:45:59.258Z"
   },
   {
    "duration": 252,
    "start_time": "2022-02-28T10:46:37.658Z"
   },
   {
    "duration": 225,
    "start_time": "2022-02-28T10:46:45.539Z"
   },
   {
    "duration": 6,
    "start_time": "2022-02-28T10:49:49.385Z"
   },
   {
    "duration": 242,
    "start_time": "2022-02-28T10:49:52.400Z"
   },
   {
    "duration": 229,
    "start_time": "2022-02-28T10:50:11.144Z"
   },
   {
    "duration": 229,
    "start_time": "2022-02-28T10:51:29.094Z"
   },
   {
    "duration": 236,
    "start_time": "2022-02-28T10:51:38.046Z"
   },
   {
    "duration": 219,
    "start_time": "2022-02-28T10:51:45.511Z"
   },
   {
    "duration": 250,
    "start_time": "2022-02-28T10:51:48.502Z"
   },
   {
    "duration": 7,
    "start_time": "2022-02-28T10:56:42.186Z"
   },
   {
    "duration": 4,
    "start_time": "2022-02-28T10:56:51.090Z"
   },
   {
    "duration": 47,
    "start_time": "2022-02-28T10:56:51.130Z"
   },
   {
    "duration": 52,
    "start_time": "2022-02-28T10:56:51.411Z"
   },
   {
    "duration": 10,
    "start_time": "2022-02-28T10:56:56.258Z"
   },
   {
    "duration": 13,
    "start_time": "2022-02-28T10:56:56.585Z"
   },
   {
    "duration": 8,
    "start_time": "2022-02-28T10:56:57.194Z"
   },
   {
    "duration": 20,
    "start_time": "2022-02-28T10:57:03.961Z"
   },
   {
    "duration": 4,
    "start_time": "2022-02-28T10:58:03.954Z"
   },
   {
    "duration": 271,
    "start_time": "2022-02-28T10:58:26.529Z"
   },
   {
    "duration": 4,
    "start_time": "2022-02-28T11:08:45.288Z"
   },
   {
    "duration": 451,
    "start_time": "2022-02-28T11:08:48.391Z"
   },
   {
    "duration": 703,
    "start_time": "2022-02-28T11:10:09.254Z"
   },
   {
    "duration": 4,
    "start_time": "2022-02-28T11:10:25.494Z"
   },
   {
    "duration": 37,
    "start_time": "2022-02-28T11:10:26.022Z"
   },
   {
    "duration": 295,
    "start_time": "2022-02-28T11:11:11.222Z"
   },
   {
    "duration": 278,
    "start_time": "2022-02-28T11:11:21.894Z"
   },
   {
    "duration": 7,
    "start_time": "2022-02-28T11:13:40.476Z"
   },
   {
    "duration": 268,
    "start_time": "2022-02-28T11:13:54.171Z"
   },
   {
    "duration": 7,
    "start_time": "2022-02-28T11:13:58.123Z"
   },
   {
    "duration": 4,
    "start_time": "2022-02-28T11:14:14.013Z"
   },
   {
    "duration": 46,
    "start_time": "2022-02-28T11:14:14.370Z"
   },
   {
    "duration": 46,
    "start_time": "2022-02-28T11:14:14.988Z"
   },
   {
    "duration": 11,
    "start_time": "2022-02-28T11:14:19.138Z"
   },
   {
    "duration": 7313,
    "start_time": "2022-02-28T11:14:21.403Z"
   },
   {
    "duration": -396,
    "start_time": "2022-02-28T11:14:29.114Z"
   },
   {
    "duration": 8,
    "start_time": "2022-02-28T11:14:33.034Z"
   },
   {
    "duration": 6,
    "start_time": "2022-02-28T11:14:35.581Z"
   },
   {
    "duration": 252,
    "start_time": "2022-02-28T11:15:26.267Z"
   },
   {
    "duration": 6,
    "start_time": "2022-02-28T11:16:32.538Z"
   },
   {
    "duration": 232,
    "start_time": "2022-02-28T11:30:33.518Z"
   },
   {
    "duration": 6,
    "start_time": "2022-02-28T11:30:45.861Z"
   },
   {
    "duration": 39,
    "start_time": "2022-02-28T11:30:46.166Z"
   },
   {
    "duration": 45,
    "start_time": "2022-02-28T11:30:46.454Z"
   },
   {
    "duration": 10,
    "start_time": "2022-02-28T11:30:50.294Z"
   },
   {
    "duration": 13,
    "start_time": "2022-02-28T11:30:51.342Z"
   },
   {
    "duration": 8,
    "start_time": "2022-02-28T11:30:51.566Z"
   },
   {
    "duration": 248,
    "start_time": "2022-02-28T11:30:54.310Z"
   },
   {
    "duration": 18,
    "start_time": "2022-02-28T11:31:09.053Z"
   },
   {
    "duration": 280,
    "start_time": "2022-02-28T11:31:14.957Z"
   },
   {
    "duration": 10,
    "start_time": "2022-02-28T11:31:23.302Z"
   },
   {
    "duration": 16,
    "start_time": "2022-02-28T11:31:28.346Z"
   },
   {
    "duration": 72,
    "start_time": "2022-02-28T11:39:34.087Z"
   },
   {
    "duration": 96,
    "start_time": "2022-02-28T11:39:54.462Z"
   },
   {
    "duration": 424,
    "start_time": "2022-02-28T11:40:05.186Z"
   },
   {
    "duration": 437,
    "start_time": "2022-02-28T11:40:29.422Z"
   },
   {
    "duration": 378,
    "start_time": "2022-02-28T11:40:37.525Z"
   },
   {
    "duration": 346,
    "start_time": "2022-02-28T11:40:54.486Z"
   },
   {
    "duration": 340,
    "start_time": "2022-02-28T11:41:02.365Z"
   },
   {
    "duration": 366,
    "start_time": "2022-02-28T11:41:09.061Z"
   },
   {
    "duration": 340,
    "start_time": "2022-02-28T11:41:17.740Z"
   },
   {
    "duration": 395,
    "start_time": "2022-02-28T11:41:57.853Z"
   },
   {
    "duration": 323,
    "start_time": "2022-02-28T11:42:19.309Z"
   },
   {
    "duration": 4,
    "start_time": "2022-02-28T11:42:25.635Z"
   },
   {
    "duration": 39,
    "start_time": "2022-02-28T11:42:25.932Z"
   },
   {
    "duration": 42,
    "start_time": "2022-02-28T11:42:26.172Z"
   },
   {
    "duration": 10,
    "start_time": "2022-02-28T11:42:26.507Z"
   },
   {
    "duration": 12,
    "start_time": "2022-02-28T11:42:26.924Z"
   },
   {
    "duration": 8,
    "start_time": "2022-02-28T11:42:29.612Z"
   },
   {
    "duration": 5,
    "start_time": "2022-02-28T11:42:29.623Z"
   },
   {
    "duration": 347,
    "start_time": "2022-02-28T11:42:30.227Z"
   },
   {
    "duration": 346,
    "start_time": "2022-02-28T11:43:24.884Z"
   },
   {
    "duration": 18,
    "start_time": "2022-02-28T11:43:26.507Z"
   },
   {
    "duration": 342,
    "start_time": "2022-02-28T11:43:51.986Z"
   },
   {
    "duration": 360,
    "start_time": "2022-02-28T11:44:07.458Z"
   },
   {
    "duration": 4,
    "start_time": "2022-02-28T11:44:33.354Z"
   },
   {
    "duration": 40,
    "start_time": "2022-02-28T11:44:33.530Z"
   },
   {
    "duration": 46,
    "start_time": "2022-02-28T11:44:33.682Z"
   },
   {
    "duration": 9,
    "start_time": "2022-02-28T11:44:33.834Z"
   },
   {
    "duration": 14,
    "start_time": "2022-02-28T11:44:33.961Z"
   },
   {
    "duration": 7,
    "start_time": "2022-02-28T11:44:34.121Z"
   },
   {
    "duration": 342,
    "start_time": "2022-02-28T11:44:34.825Z"
   },
   {
    "duration": 8,
    "start_time": "2022-02-28T11:44:35.914Z"
   },
   {
    "duration": 10392,
    "start_time": "2022-02-28T11:57:59.680Z"
   },
   {
    "duration": 245,
    "start_time": "2022-02-28T12:00:04.878Z"
   },
   {
    "duration": 1574,
    "start_time": "2022-02-28T12:00:11.808Z"
   },
   {
    "duration": 42,
    "start_time": "2022-02-28T12:00:13.385Z"
   },
   {
    "duration": 51,
    "start_time": "2022-02-28T12:00:13.431Z"
   },
   {
    "duration": 10,
    "start_time": "2022-02-28T12:00:13.484Z"
   },
   {
    "duration": 19,
    "start_time": "2022-02-28T12:00:13.496Z"
   },
   {
    "duration": 7,
    "start_time": "2022-02-28T12:00:13.518Z"
   },
   {
    "duration": 407,
    "start_time": "2022-02-28T12:00:13.527Z"
   },
   {
    "duration": 8,
    "start_time": "2022-02-28T12:00:13.937Z"
   },
   {
    "duration": 34,
    "start_time": "2022-02-28T12:00:13.948Z"
   },
   {
    "duration": 495,
    "start_time": "2022-02-28T12:00:13.984Z"
   },
   {
    "duration": 17,
    "start_time": "2022-02-28T12:00:14.481Z"
   },
   {
    "duration": 476,
    "start_time": "2022-02-28T12:00:14.500Z"
   },
   {
    "duration": 14,
    "start_time": "2022-02-28T12:00:14.978Z"
   },
   {
    "duration": 607,
    "start_time": "2022-02-28T12:00:14.994Z"
   },
   {
    "duration": 456,
    "start_time": "2022-02-28T12:00:15.603Z"
   },
   {
    "duration": 453,
    "start_time": "2022-02-28T12:00:16.062Z"
   },
   {
    "duration": 516,
    "start_time": "2022-02-28T12:00:16.519Z"
   },
   {
    "duration": 476,
    "start_time": "2022-02-28T12:00:17.038Z"
   },
   {
    "duration": 578,
    "start_time": "2022-02-28T12:00:17.516Z"
   },
   {
    "duration": 197,
    "start_time": "2022-02-28T12:00:18.097Z"
   },
   {
    "duration": 633,
    "start_time": "2022-02-28T12:00:18.297Z"
   },
   {
    "duration": 6,
    "start_time": "2022-02-28T12:00:18.932Z"
   },
   {
    "duration": 451,
    "start_time": "2022-02-28T12:00:18.945Z"
   },
   {
    "duration": 7,
    "start_time": "2022-02-28T12:00:19.399Z"
   },
   {
    "duration": 488,
    "start_time": "2022-02-28T12:00:19.409Z"
   },
   {
    "duration": 205,
    "start_time": "2022-02-28T12:00:19.900Z"
   },
   {
    "duration": 10,
    "start_time": "2022-02-28T12:00:20.107Z"
   },
   {
    "duration": 11,
    "start_time": "2022-02-28T12:00:20.120Z"
   },
   {
    "duration": 219,
    "start_time": "2022-02-28T12:00:20.134Z"
   },
   {
    "duration": 22,
    "start_time": "2022-02-28T12:00:20.355Z"
   },
   {
    "duration": 14,
    "start_time": "2022-02-28T12:00:20.380Z"
   },
   {
    "duration": 12,
    "start_time": "2022-02-28T12:00:20.396Z"
   },
   {
    "duration": 11,
    "start_time": "2022-02-28T12:00:20.410Z"
   },
   {
    "duration": 62,
    "start_time": "2022-02-28T12:00:20.423Z"
   },
   {
    "duration": 1474,
    "start_time": "2022-02-28T12:02:34.985Z"
   },
   {
    "duration": 42,
    "start_time": "2022-02-28T12:02:36.461Z"
   },
   {
    "duration": 50,
    "start_time": "2022-02-28T12:02:36.506Z"
   },
   {
    "duration": 20,
    "start_time": "2022-02-28T12:02:36.559Z"
   },
   {
    "duration": 22,
    "start_time": "2022-02-28T12:02:36.582Z"
   },
   {
    "duration": 8,
    "start_time": "2022-02-28T12:02:36.606Z"
   },
   {
    "duration": 381,
    "start_time": "2022-02-28T12:02:36.616Z"
   },
   {
    "duration": 8,
    "start_time": "2022-02-28T12:02:37.000Z"
   },
   {
    "duration": 18,
    "start_time": "2022-02-28T12:02:37.011Z"
   },
   {
    "duration": 501,
    "start_time": "2022-02-28T12:02:37.032Z"
   },
   {
    "duration": 15,
    "start_time": "2022-02-28T12:02:37.535Z"
   },
   {
    "duration": 466,
    "start_time": "2022-02-28T12:02:37.552Z"
   },
   {
    "duration": 15,
    "start_time": "2022-02-28T12:02:38.021Z"
   },
   {
    "duration": 602,
    "start_time": "2022-02-28T12:02:38.038Z"
   },
   {
    "duration": 448,
    "start_time": "2022-02-28T12:02:38.642Z"
   },
   {
    "duration": 449,
    "start_time": "2022-02-28T12:02:39.093Z"
   },
   {
    "duration": 515,
    "start_time": "2022-02-28T12:02:39.545Z"
   },
   {
    "duration": 465,
    "start_time": "2022-02-28T12:02:40.063Z"
   },
   {
    "duration": 581,
    "start_time": "2022-02-28T12:02:40.530Z"
   },
   {
    "duration": 205,
    "start_time": "2022-02-28T12:02:41.113Z"
   },
   {
    "duration": 664,
    "start_time": "2022-02-28T12:02:41.320Z"
   },
   {
    "duration": 5,
    "start_time": "2022-02-28T12:02:41.986Z"
   },
   {
    "duration": 411,
    "start_time": "2022-02-28T12:02:41.996Z"
   },
   {
    "duration": 6,
    "start_time": "2022-02-28T12:02:42.410Z"
   },
   {
    "duration": 485,
    "start_time": "2022-02-28T12:02:42.419Z"
   },
   {
    "duration": 244,
    "start_time": "2022-02-28T12:02:42.907Z"
   },
   {
    "duration": 21,
    "start_time": "2022-02-28T12:02:43.154Z"
   },
   {
    "duration": 18,
    "start_time": "2022-02-28T12:02:43.177Z"
   },
   {
    "duration": 228,
    "start_time": "2022-02-28T12:02:43.197Z"
   },
   {
    "duration": 13,
    "start_time": "2022-02-28T12:02:43.428Z"
   },
   {
    "duration": 34,
    "start_time": "2022-02-28T12:02:43.444Z"
   },
   {
    "duration": 22,
    "start_time": "2022-02-28T12:02:43.481Z"
   },
   {
    "duration": 37,
    "start_time": "2022-02-28T12:02:43.506Z"
   },
   {
    "duration": 32,
    "start_time": "2022-02-28T12:02:43.546Z"
   },
   {
    "duration": 1105,
    "start_time": "2022-03-01T12:19:45.703Z"
   },
   {
    "duration": 68,
    "start_time": "2022-03-01T12:19:46.810Z"
   },
   {
    "duration": 34,
    "start_time": "2022-03-01T12:19:46.880Z"
   },
   {
    "duration": 6,
    "start_time": "2022-03-01T12:19:46.916Z"
   },
   {
    "duration": 10,
    "start_time": "2022-03-01T12:19:46.924Z"
   },
   {
    "duration": 5,
    "start_time": "2022-03-01T12:19:46.935Z"
   },
   {
    "duration": 193,
    "start_time": "2022-03-01T12:19:46.941Z"
   },
   {
    "duration": 5,
    "start_time": "2022-03-01T12:19:47.136Z"
   },
   {
    "duration": 23,
    "start_time": "2022-03-01T12:19:47.143Z"
   },
   {
    "duration": 325,
    "start_time": "2022-03-01T12:19:47.167Z"
   },
   {
    "duration": 11,
    "start_time": "2022-03-01T12:19:47.494Z"
   },
   {
    "duration": 330,
    "start_time": "2022-03-01T12:19:47.507Z"
   },
   {
    "duration": 9,
    "start_time": "2022-03-01T12:19:47.839Z"
   },
   {
    "duration": 376,
    "start_time": "2022-03-01T12:19:47.850Z"
   },
   {
    "duration": 305,
    "start_time": "2022-03-01T12:19:48.228Z"
   },
   {
    "duration": 295,
    "start_time": "2022-03-01T12:19:48.535Z"
   },
   {
    "duration": 374,
    "start_time": "2022-03-01T12:19:48.832Z"
   },
   {
    "duration": 306,
    "start_time": "2022-03-01T12:19:49.207Z"
   },
   {
    "duration": 440,
    "start_time": "2022-03-01T12:19:49.514Z"
   },
   {
    "duration": 121,
    "start_time": "2022-03-01T12:19:49.956Z"
   },
   {
    "duration": 435,
    "start_time": "2022-03-01T12:19:50.078Z"
   },
   {
    "duration": 4,
    "start_time": "2022-03-01T12:19:50.515Z"
   },
   {
    "duration": 316,
    "start_time": "2022-03-01T12:19:50.522Z"
   },
   {
    "duration": 4,
    "start_time": "2022-03-01T12:19:50.840Z"
   },
   {
    "duration": 302,
    "start_time": "2022-03-01T12:19:50.845Z"
   },
   {
    "duration": 131,
    "start_time": "2022-03-01T12:19:51.149Z"
   },
   {
    "duration": 8,
    "start_time": "2022-03-01T12:19:51.281Z"
   },
   {
    "duration": 5,
    "start_time": "2022-03-01T12:19:51.291Z"
   },
   {
    "duration": 131,
    "start_time": "2022-03-01T12:19:51.298Z"
   },
   {
    "duration": 8,
    "start_time": "2022-03-01T12:19:51.431Z"
   },
   {
    "duration": 22,
    "start_time": "2022-03-01T12:19:51.441Z"
   },
   {
    "duration": 9,
    "start_time": "2022-03-01T12:19:51.464Z"
   },
   {
    "duration": 9,
    "start_time": "2022-03-01T12:19:51.474Z"
   },
   {
    "duration": 13,
    "start_time": "2022-03-01T12:19:51.485Z"
   },
   {
    "duration": 5,
    "start_time": "2022-03-01T12:21:00.986Z"
   },
   {
    "duration": 10,
    "start_time": "2022-03-01T12:24:24.103Z"
   }
  ],
  "kernelspec": {
   "display_name": "Python 3 (ipykernel)",
   "language": "python",
   "name": "python3"
  },
  "language_info": {
   "codemirror_mode": {
    "name": "ipython",
    "version": 3
   },
   "file_extension": ".py",
   "mimetype": "text/x-python",
   "name": "python",
   "nbconvert_exporter": "python",
   "pygments_lexer": "ipython3",
   "version": "3.9.7"
  },
  "toc": {
   "base_numbering": 1,
   "nav_menu": {},
   "number_sections": true,
   "sideBar": true,
   "skip_h1_title": true,
   "title_cell": "Содержание",
   "title_sidebar": "Contents",
   "toc_cell": true,
   "toc_position": {},
   "toc_section_display": true,
   "toc_window_display": false
  }
 },
 "nbformat": 4,
 "nbformat_minor": 2
}
