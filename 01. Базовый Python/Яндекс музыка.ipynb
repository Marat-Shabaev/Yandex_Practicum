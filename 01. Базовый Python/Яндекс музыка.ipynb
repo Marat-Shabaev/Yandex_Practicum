{
 "cells": [
  {
   "cell_type": "markdown",
   "metadata": {
    "id": "E0vqbgi9ay0H"
   },
   "source": [
    "# Яндекс.Музыка"
   ]
  },
  {
   "cell_type": "markdown",
   "metadata": {
    "id": "VUC88oWjTJw2"
   },
   "source": [
    "Сравнение Москвы и Петербурга окружено мифами. Например:\n",
    " * Москва — мегаполис, подчинённый жёсткому ритму рабочей недели;\n",
    " * Петербург — культурная столица, со своими вкусами.\n",
    "\n",
    "На данных Яндекс.Музыки вы сравним поведение пользователей двух столиц.\n",
    "\n",
    "**Цель исследования** — проверить три гипотезы:\n",
    "1. Активность пользователей зависит от дня недели. Причём в Москве и Петербурге это проявляется по-разному.\n",
    "2. В понедельник утром в Москве преобладают одни жанры, а в Петербурге — другие. Так же и вечером пятницы преобладают разные жанры — в зависимости от города. \n",
    "3. Москва и Петербург предпочитают разные жанры музыки. В Москве чаще слушают поп-музыку, в Петербурге — русский рэп.\n",
    "\n",
    "**Ход исследования**\n",
    "\n",
    "О качестве данных ничего не известно. Поэтому перед проверкой гипотез нам понадобится обзор данных. \n",
    "\n",
    "Проверим данные на ошибки и оценим их влияние на исследование. Затем, на этапе предобработки исправим самые критичные ошибки данных.\n",
    " \n",
    "Таким образом, исследование пройдёт в три этапа:\n",
    " 1. Обзор данных.\n",
    " 2. Предобработка данных.\n",
    " 3. Проверка гипотез.\n",
    "\n"
   ]
  },
  {
   "cell_type": "markdown",
   "metadata": {
    "id": "Ml1hmfXC_Zcs"
   },
   "source": [
    "## Обзор данных\n",
    "\n",
    "Составим первое представление о данных Яндекс.Музыки.\n",
    "\n",
    "\n"
   ]
  },
  {
   "cell_type": "code",
   "execution_count": 1,
   "metadata": {
    "id": "AXN7PHPN_Zcs"
   },
   "outputs": [],
   "source": [
    "import pandas as pd # импорт библиотеки pandas"
   ]
  },
  {
   "cell_type": "code",
   "execution_count": 2,
   "metadata": {
    "id": "fFVu7vqh_Zct"
   },
   "outputs": [],
   "source": [
    "df = pd.read_csv(r'C:/Users/Home/datasets/yandex_music_project.csv') # чтение файла с данными и сохранение в df"
   ]
  },
  {
   "cell_type": "markdown",
   "metadata": {
    "id": "rDoOMd3uTqnZ"
   },
   "source": [
    "Выведем на экран первые десять строк таблицы:"
   ]
  },
  {
   "cell_type": "code",
   "execution_count": 3,
   "metadata": {
    "id": "oWTVX3gW_Zct"
   },
   "outputs": [
    {
     "data": {
      "text/html": [
       "<div>\n",
       "<style scoped>\n",
       "    .dataframe tbody tr th:only-of-type {\n",
       "        vertical-align: middle;\n",
       "    }\n",
       "\n",
       "    .dataframe tbody tr th {\n",
       "        vertical-align: top;\n",
       "    }\n",
       "\n",
       "    .dataframe thead th {\n",
       "        text-align: right;\n",
       "    }\n",
       "</style>\n",
       "<table border=\"1\" class=\"dataframe\">\n",
       "  <thead>\n",
       "    <tr style=\"text-align: right;\">\n",
       "      <th></th>\n",
       "      <th>userID</th>\n",
       "      <th>Track</th>\n",
       "      <th>artist</th>\n",
       "      <th>genre</th>\n",
       "      <th>City</th>\n",
       "      <th>time</th>\n",
       "      <th>Day</th>\n",
       "    </tr>\n",
       "  </thead>\n",
       "  <tbody>\n",
       "    <tr>\n",
       "      <th>0</th>\n",
       "      <td>FFB692EC</td>\n",
       "      <td>Kamigata To Boots</td>\n",
       "      <td>The Mass Missile</td>\n",
       "      <td>rock</td>\n",
       "      <td>Saint-Petersburg</td>\n",
       "      <td>20:28:33</td>\n",
       "      <td>Wednesday</td>\n",
       "    </tr>\n",
       "    <tr>\n",
       "      <th>1</th>\n",
       "      <td>55204538</td>\n",
       "      <td>Delayed Because of Accident</td>\n",
       "      <td>Andreas Rönnberg</td>\n",
       "      <td>rock</td>\n",
       "      <td>Moscow</td>\n",
       "      <td>14:07:09</td>\n",
       "      <td>Friday</td>\n",
       "    </tr>\n",
       "    <tr>\n",
       "      <th>2</th>\n",
       "      <td>20EC38</td>\n",
       "      <td>Funiculì funiculà</td>\n",
       "      <td>Mario Lanza</td>\n",
       "      <td>pop</td>\n",
       "      <td>Saint-Petersburg</td>\n",
       "      <td>20:58:07</td>\n",
       "      <td>Wednesday</td>\n",
       "    </tr>\n",
       "    <tr>\n",
       "      <th>3</th>\n",
       "      <td>A3DD03C9</td>\n",
       "      <td>Dragons in the Sunset</td>\n",
       "      <td>Fire + Ice</td>\n",
       "      <td>folk</td>\n",
       "      <td>Saint-Petersburg</td>\n",
       "      <td>08:37:09</td>\n",
       "      <td>Monday</td>\n",
       "    </tr>\n",
       "    <tr>\n",
       "      <th>4</th>\n",
       "      <td>E2DC1FAE</td>\n",
       "      <td>Soul People</td>\n",
       "      <td>Space Echo</td>\n",
       "      <td>dance</td>\n",
       "      <td>Moscow</td>\n",
       "      <td>08:34:34</td>\n",
       "      <td>Monday</td>\n",
       "    </tr>\n",
       "    <tr>\n",
       "      <th>5</th>\n",
       "      <td>842029A1</td>\n",
       "      <td>Преданная</td>\n",
       "      <td>IMPERVTOR</td>\n",
       "      <td>rusrap</td>\n",
       "      <td>Saint-Petersburg</td>\n",
       "      <td>13:09:41</td>\n",
       "      <td>Friday</td>\n",
       "    </tr>\n",
       "    <tr>\n",
       "      <th>6</th>\n",
       "      <td>4CB90AA5</td>\n",
       "      <td>True</td>\n",
       "      <td>Roman Messer</td>\n",
       "      <td>dance</td>\n",
       "      <td>Moscow</td>\n",
       "      <td>13:00:07</td>\n",
       "      <td>Wednesday</td>\n",
       "    </tr>\n",
       "    <tr>\n",
       "      <th>7</th>\n",
       "      <td>F03E1C1F</td>\n",
       "      <td>Feeling This Way</td>\n",
       "      <td>Polina Griffith</td>\n",
       "      <td>dance</td>\n",
       "      <td>Moscow</td>\n",
       "      <td>20:47:49</td>\n",
       "      <td>Wednesday</td>\n",
       "    </tr>\n",
       "    <tr>\n",
       "      <th>8</th>\n",
       "      <td>8FA1D3BE</td>\n",
       "      <td>И вновь продолжается бой</td>\n",
       "      <td>NaN</td>\n",
       "      <td>ruspop</td>\n",
       "      <td>Moscow</td>\n",
       "      <td>09:17:40</td>\n",
       "      <td>Friday</td>\n",
       "    </tr>\n",
       "    <tr>\n",
       "      <th>9</th>\n",
       "      <td>E772D5C0</td>\n",
       "      <td>Pessimist</td>\n",
       "      <td>NaN</td>\n",
       "      <td>dance</td>\n",
       "      <td>Saint-Petersburg</td>\n",
       "      <td>21:20:49</td>\n",
       "      <td>Wednesday</td>\n",
       "    </tr>\n",
       "  </tbody>\n",
       "</table>\n",
       "</div>"
      ],
      "text/plain": [
       "     userID                        Track            artist   genre  \\\n",
       "0  FFB692EC            Kamigata To Boots  The Mass Missile    rock   \n",
       "1  55204538  Delayed Because of Accident  Andreas Rönnberg    rock   \n",
       "2    20EC38            Funiculì funiculà       Mario Lanza     pop   \n",
       "3  A3DD03C9        Dragons in the Sunset        Fire + Ice    folk   \n",
       "4  E2DC1FAE                  Soul People        Space Echo   dance   \n",
       "5  842029A1                    Преданная         IMPERVTOR  rusrap   \n",
       "6  4CB90AA5                         True      Roman Messer   dance   \n",
       "7  F03E1C1F             Feeling This Way   Polina Griffith   dance   \n",
       "8  8FA1D3BE     И вновь продолжается бой               NaN  ruspop   \n",
       "9  E772D5C0                    Pessimist               NaN   dance   \n",
       "\n",
       "             City        time        Day  \n",
       "0  Saint-Petersburg  20:28:33  Wednesday  \n",
       "1            Moscow  14:07:09     Friday  \n",
       "2  Saint-Petersburg  20:58:07  Wednesday  \n",
       "3  Saint-Petersburg  08:37:09     Monday  \n",
       "4            Moscow  08:34:34     Monday  \n",
       "5  Saint-Petersburg  13:09:41     Friday  \n",
       "6            Moscow  13:00:07  Wednesday  \n",
       "7            Moscow  20:47:49  Wednesday  \n",
       "8            Moscow  09:17:40     Friday  \n",
       "9  Saint-Petersburg  21:20:49  Wednesday  "
      ]
     },
     "metadata": {},
     "output_type": "display_data"
    }
   ],
   "source": [
    "display(df.head(10))# получение первых 10 строк таблицы df"
   ]
  },
  {
   "cell_type": "markdown",
   "metadata": {
    "id": "EO73Kwic_Zct"
   },
   "source": [
    "Одной командой получить общую информацию о таблице:"
   ]
  },
  {
   "cell_type": "code",
   "execution_count": 4,
   "metadata": {
    "id": "DSf2kIb-_Zct"
   },
   "outputs": [
    {
     "data": {
      "text/plain": [
       "<bound method DataFrame.info of          userID                              Track            artist  \\\n",
       "0      FFB692EC                  Kamigata To Boots  The Mass Missile   \n",
       "1      55204538        Delayed Because of Accident  Andreas Rönnberg   \n",
       "2        20EC38                  Funiculì funiculà       Mario Lanza   \n",
       "3      A3DD03C9              Dragons in the Sunset        Fire + Ice   \n",
       "4      E2DC1FAE                        Soul People        Space Echo   \n",
       "...         ...                                ...               ...   \n",
       "65074  729CBB09                            My Name            McLean   \n",
       "65075  D08D4A55  Maybe One Day (feat. Black Spade)       Blu & Exile   \n",
       "65076  C5E3A0D5                          Jalopiina               NaN   \n",
       "65077  321D0506                      Freight Train     Chas McDevitt   \n",
       "65078  3A64EF84          Tell Me Sweet Little Lies      Monica Lopez   \n",
       "\n",
       "            genre            City        time        Day  \n",
       "0            rock  Saint-Petersburg  20:28:33  Wednesday  \n",
       "1            rock            Moscow  14:07:09     Friday  \n",
       "2             pop  Saint-Petersburg  20:58:07  Wednesday  \n",
       "3            folk  Saint-Petersburg  08:37:09     Monday  \n",
       "4           dance            Moscow  08:34:34     Monday  \n",
       "...           ...               ...       ...        ...  \n",
       "65074         rnb            Moscow  13:32:28  Wednesday  \n",
       "65075         hip  Saint-Petersburg  10:00:00     Monday  \n",
       "65076  industrial            Moscow  20:09:26     Friday  \n",
       "65077        rock            Moscow  21:43:59     Friday  \n",
       "65078     country            Moscow  21:59:46     Friday  \n",
       "\n",
       "[65079 rows x 7 columns]>"
      ]
     },
     "execution_count": 4,
     "metadata": {},
     "output_type": "execute_result"
    }
   ],
   "source": [
    "df.info# получение общей информации о данных в таблице df"
   ]
  },
  {
   "cell_type": "markdown",
   "metadata": {
    "id": "TaQ2Iwbr_Zct"
   },
   "source": [
    "Итак, в таблице семь столбцов. Тип данных во всех столбцах — `object`.\n",
    "\n",
    "Согласно документации к данным:\n",
    "* `userID` — идентификатор пользователя;\n",
    "* `Track` — название трека;  \n",
    "* `artist` — имя исполнителя;\n",
    "* `genre` — название жанра;\n",
    "* `City` — город пользователя;\n",
    "* `time` — время начала прослушивания;\n",
    "* `Day` — день недели.\n",
    "\n",
    "В названиях колонок видны три нарушения стиля:\n",
    "1. Строчные буквы сочетаются с прописными.\n",
    "2. Встречаются пробелы.\n",
    "3. Составное слово написано не змеиным регистром\n",
    "\n",
    "\n",
    "\n",
    "Количество значений в столбцах различается. Значит, в данных есть пропущенные значения.\n"
   ]
  },
  {
   "cell_type": "markdown",
   "metadata": {
    "id": "MCB6-dXG_Zct"
   },
   "source": [
    "**Выводы**\n",
    "\n",
    "В каждой строке таблицы — данные о прослушанном треке. Часть колонок описывает саму композицию: название, исполнителя и жанр. Остальные данные рассказывают о пользователе: из какого он города, когда он слушал музыку. \n",
    "\n",
    "Предварительно можно утверждать, что, данных достаточно для проверки гипотез. Но встречаются пропуски в данных, а в названиях колонок — расхождения с хорошим стилем.\n",
    "\n",
    "Устраним проблемы в данных."
   ]
  },
  {
   "cell_type": "markdown",
   "metadata": {
    "id": "SjYF6Ub9_Zct"
   },
   "source": [
    "## Предобработка данных"
   ]
  },
  {
   "cell_type": "markdown",
   "metadata": {
    "id": "dIaKXr29_Zct"
   },
   "source": [
    "### Стиль заголовков\n",
    "Выведем на экран названия столбцов:"
   ]
  },
  {
   "cell_type": "code",
   "execution_count": 5,
   "metadata": {
    "id": "oKOTdF_Q_Zct"
   },
   "outputs": [
    {
     "data": {
      "text/plain": [
       "Index(['  userID', 'Track', 'artist', 'genre', '  City  ', 'time', 'Day'], dtype='object')"
      ]
     },
     "execution_count": 5,
     "metadata": {},
     "output_type": "execute_result"
    }
   ],
   "source": [
    "df.columns# перечень названий столбцов таблицы df"
   ]
  },
  {
   "cell_type": "code",
   "execution_count": 6,
   "metadata": {
    "id": "ISlFqs5y_Zct"
   },
   "outputs": [],
   "source": [
    "df = df.rename(columns={'  userID':'user_id', 'Track':'track', '  City  ':'city', 'Day':'day'})# переименование столбцов"
   ]
  },
  {
   "cell_type": "code",
   "execution_count": 7,
   "metadata": {
    "id": "d4NOAmTW_Zct"
   },
   "outputs": [
    {
     "data": {
      "text/plain": [
       "Index(['user_id', 'track', 'artist', 'genre', 'city', 'time', 'day'], dtype='object')"
      ]
     },
     "execution_count": 7,
     "metadata": {},
     "output_type": "execute_result"
    }
   ],
   "source": [
    "df.columns# проверка результатов - перечень названий столбцов"
   ]
  },
  {
   "cell_type": "markdown",
   "metadata": {
    "id": "5ISfbcfY_Zct"
   },
   "source": [
    "### Пропуски значений"
   ]
  },
  {
   "cell_type": "code",
   "execution_count": 8,
   "metadata": {
    "id": "RskX29qr_Zct"
   },
   "outputs": [
    {
     "data": {
      "text/plain": [
       "user_id       0\n",
       "track      1231\n",
       "artist     7203\n",
       "genre      1198\n",
       "city          0\n",
       "time          0\n",
       "day           0\n",
       "dtype: int64"
      ]
     },
     "execution_count": 8,
     "metadata": {},
     "output_type": "execute_result"
    }
   ],
   "source": [
    "df.isna().sum()# подсчёт пропусков"
   ]
  },
  {
   "cell_type": "markdown",
   "metadata": {
    "id": "qubhgnlO_Zct"
   },
   "source": [
    "Не все пропущенные значения влияют на исследование. Так в `track` и `artist` пропуски не важны для нашей работы. Достаточно заменить их явными обозначениями.\n",
    "\n",
    "Но пропуски в `genre` могут помешать сравнению музыкальных вкусов в Москве и Санкт-Петербурге. Было бы правильно установить причину пропусков и восстановить данные. Но такой возможности нет в учебном проекте. Придётся:\n",
    "* заполнить и эти пропуски явными обозначениями,\n",
    "* оценить, насколько они повредят расчётам. "
   ]
  },
  {
   "cell_type": "code",
   "execution_count": 9,
   "metadata": {
    "id": "KplB5qWs_Zct"
   },
   "outputs": [],
   "source": [
    "columns_to_replace = ['track', 'artist', 'genre']\n",
    "for column in columns_to_replace:\n",
    "    df[column] = df[column].fillna('unknown')# перебор названий столбцов в цикле и замена пропущенных значений на 'unknown'"
   ]
  },
  {
   "cell_type": "code",
   "execution_count": 10,
   "metadata": {
    "id": "Tq4nYRX4_Zct"
   },
   "outputs": [
    {
     "data": {
      "text/plain": [
       "user_id    0\n",
       "track      0\n",
       "artist     0\n",
       "genre      0\n",
       "city       0\n",
       "time       0\n",
       "day        0\n",
       "dtype: int64"
      ]
     },
     "execution_count": 10,
     "metadata": {},
     "output_type": "execute_result"
    }
   ],
   "source": [
    "df.isna().sum()# подсчёт пропусков"
   ]
  },
  {
   "cell_type": "markdown",
   "metadata": {
    "id": "BWKRtBJ3_Zct"
   },
   "source": [
    "### Дубликаты"
   ]
  },
  {
   "cell_type": "code",
   "execution_count": 11,
   "metadata": {
    "id": "36eES_S0_Zct"
   },
   "outputs": [
    {
     "data": {
      "text/plain": [
       "3826"
      ]
     },
     "execution_count": 11,
     "metadata": {},
     "output_type": "execute_result"
    }
   ],
   "source": [
    "df.duplicated().sum()# подсчёт явных дубликатов"
   ]
  },
  {
   "cell_type": "code",
   "execution_count": 12,
   "metadata": {
    "id": "exFHq6tt_Zct"
   },
   "outputs": [],
   "source": [
    "df = df.drop_duplicates().reset_index(drop=True) # удаление явных дубликатов (с удалением старых индексов и формированием новых)"
   ]
  },
  {
   "cell_type": "code",
   "execution_count": 13,
   "metadata": {
    "id": "-8PuNWQ0_Zct"
   },
   "outputs": [
    {
     "data": {
      "text/plain": [
       "0"
      ]
     },
     "execution_count": 13,
     "metadata": {},
     "output_type": "execute_result"
    }
   ],
   "source": [
    "df.duplicated().sum()"
   ]
  },
  {
   "cell_type": "markdown",
   "metadata": {
    "id": "QlFBsxAr_Zct"
   },
   "source": [
    "Теперь избавьтесь от неявных дубликатов в колонке `genre`. Например, название одного и того же жанра может быть записано немного по-разному. Такие ошибки тоже повлияют на результат исследования."
   ]
  },
  {
   "cell_type": "markdown",
   "metadata": {
    "id": "eSjWwsOh_Zct"
   },
   "source": [
    "Выведите на экран список уникальных названий жанров, отсортированный в алфавитном порядке. Для этого:\n",
    "* извлеките нужный столбец датафрейма, \n",
    "* примените к нему метод сортировки,\n",
    "* для отсортированного столбца вызовите метод, который вернёт уникальные значения из столбца."
   ]
  },
  {
   "cell_type": "code",
   "execution_count": 14,
   "metadata": {
    "id": "JIUcqzZN_Zct",
    "scrolled": true
   },
   "outputs": [],
   "source": [
    "unique_genres = sorted(df['genre'].unique()) # Просмотр уникальных названий жанров"
   ]
  },
  {
   "cell_type": "markdown",
   "metadata": {
    "id": "qej-Qmuo_Zct"
   },
   "source": [
    "Просмотрим список и найдем неявные дубликаты названия `hiphop`. Это могут быть названия с ошибками или альтернативные названия того же жанра.\n",
    "\n",
    "Следующие неявные дубликаты:\n",
    "* *hip*,\n",
    "* *hop*,\n",
    "* *hip-hop*.\n",
    "\n",
    "Чтобы очистить от них таблицу, напишем функцию `replace_wrong_genres()` с двумя параметрами: \n",
    "* `wrong_genres` — список дубликатов,\n",
    "* `correct_genre` — строка с правильным значением.\n",
    "\n",
    "Функция должна исправить колонку `genre` в таблице `df`: заменить каждое значение из списка `wrong_genres` на значение из `correct_genre`."
   ]
  },
  {
   "cell_type": "code",
   "execution_count": 15,
   "metadata": {
    "id": "ErNDkmns_Zct"
   },
   "outputs": [],
   "source": [
    "def replace_wrong_genres(wrong_genres, correct_genre):\n",
    "    for wrong_genres in wrong_genres:\n",
    "        df['genre'] = df['genre'].replace(wrong_genres, correct_genre)    "
   ]
  },
  {
   "cell_type": "code",
   "execution_count": 16,
   "metadata": {
    "id": "YN5i2hpmSo09"
   },
   "outputs": [],
   "source": [
    "wrong_genres  = ['hip', 'hop', 'hip-hop']# Устранение неявных дубликатов\n",
    "correct_genre = 'hiphop'\n",
    "replace_wrong_genres(wrong_genres , correct_genre)"
   ]
  },
  {
   "cell_type": "markdown",
   "metadata": {
    "id": "jz6a9-7HQUDd"
   },
   "source": [
    "**Выводы**\n",
    "\n",
    "Предобработка обнаружила три проблемы в данных:\n",
    "\n",
    "- нарушения в стиле заголовков,\n",
    "- пропущенные значения,\n",
    "- дубликаты — явные и неявные.\n",
    "\n",
    "Мы исправили заголовки, чтобы упростить работу с таблицей. Без дубликатов исследование станет более точным.\n",
    "\n",
    "Пропущенные мы заменили на `'unknown'`. Ещё предстоит увидеть, не повредят ли исследованию пропуски в колонке `genre`.\n",
    "\n",
    "Перейдем к проверке гипотез. "
   ]
  },
  {
   "cell_type": "markdown",
   "metadata": {
    "id": "WttZHXH0SqKk"
   },
   "source": [
    "## Проверка гипотез"
   ]
  },
  {
   "cell_type": "markdown",
   "metadata": {
    "id": "Im936VVi_Zcu"
   },
   "source": [
    "### Сравнение поведения пользователей двух столиц"
   ]
  },
  {
   "cell_type": "markdown",
   "metadata": {
    "id": "nwt_MuaL_Zcu"
   },
   "source": [
    "Первая гипотеза утверждает, что пользователи по-разному слушают музыку в Москве и Санкт-Петербурге. Проверим это предположение по данным о трёх днях недели — понедельнике, среде и пятнице. Для этого:\n",
    "\n",
    "* Разделим пользователей Москвы и Санкт-Петербурга\n",
    "* Сравним, сколько треков послушала каждая группа пользователей в понедельник, среду и пятницу.\n"
   ]
  },
  {
   "cell_type": "code",
   "execution_count": 17,
   "metadata": {
    "id": "0_Qs96oh_Zcu"
   },
   "outputs": [
    {
     "data": {
      "text/plain": [
       "city\n",
       "Moscow              42741\n",
       "Saint-Petersburg    18512\n",
       "Name: city, dtype: int64"
      ]
     },
     "execution_count": 17,
     "metadata": {},
     "output_type": "execute_result"
    }
   ],
   "source": [
    "df.groupby('city')['city'].count() #прослушиваний в каждом городе"
   ]
  },
  {
   "cell_type": "markdown",
   "metadata": {
    "id": "dzli3w8o_Zcu"
   },
   "source": [
    "В Москве прослушиваний больше, чем в Петербурге. Из этого не следует, что московские пользователи чаще слушают музыку. Просто самих пользователей в Москве больше.\n",
    "\n",
    "Теперь сгруппируем данные по дню недели и подсчитем прослушивания в понедельник, среду и пятницу. В данных есть информация только о прослушиваниях только за эти дни.\n"
   ]
  },
  {
   "cell_type": "code",
   "execution_count": 18,
   "metadata": {
    "id": "uZMKjiJz_Zcu"
   },
   "outputs": [
    {
     "data": {
      "text/plain": [
       "day\n",
       "Friday       21840\n",
       "Monday       21354\n",
       "Wednesday    18059\n",
       "Name: day, dtype: int64"
      ]
     },
     "execution_count": 18,
     "metadata": {},
     "output_type": "execute_result"
    }
   ],
   "source": [
    "df.groupby('day')['day'].count()"
   ]
  },
  {
   "cell_type": "markdown",
   "metadata": {
    "id": "cC2tNrlL_Zcu"
   },
   "source": [
    "В среднем пользователи из двух городов менее активны по средам. Но картина может измениться, если рассмотреть каждый город в отдельности."
   ]
  },
  {
   "cell_type": "markdown",
   "metadata": {
    "id": "POzs8bGa_Zcu"
   },
   "source": [
    "Напишем функцию, которая объединит два эти расчёта.\n",
    "\n",
    "Создадим функцию `number_tracks()`, которая посчитает прослушивания для заданного дня и города. Ей понадобятся два параметра:\n",
    "* день недели,\n",
    "* название города.\n",
    "\n",
    "В функции сохраним в переменную строки исходной таблицы, у которых значение:\n",
    "  * в колонке `day` равно параметру `day`,\n",
    "  * в колонке `city` равно параметру `city`.\n",
    "\n",
    "Затем посчитаем значения в столбце `user_id` получившейся таблицы."
   ]
  },
  {
   "cell_type": "code",
   "execution_count": 19,
   "metadata": {
    "id": "Nz3GdQB1_Zcu"
   },
   "outputs": [],
   "source": [
    "def number_tracks(day, city): # Объявляется функция с двумя параметрами: day, city\n",
    "    track_list = df[df['day'] == day]\n",
    "    track_list = track_list[track_list['city'] == city]     \n",
    "    track_list_count = track_list['user_id'].count()  # В переменной track_list_count сохраняется число значений столбца 'user_id', рассчитанное методом count() для таблицы track_list.\n",
    "    return track_list_count # Функция возвращает число - значение track_list_count."
   ]
  },
  {
   "cell_type": "markdown",
   "metadata": {
    "id": "ytf7xFrFJQ2r"
   },
   "source": [
    "Вызовем `number_tracks()` шесть раз, меняя значение параметров — так, чтобы получить данные для каждого города в каждый из трёх дней."
   ]
  },
  {
   "cell_type": "code",
   "execution_count": 20,
   "metadata": {
    "id": "rJcRATNQ_Zcu"
   },
   "outputs": [
    {
     "data": {
      "text/plain": [
       "15740"
      ]
     },
     "execution_count": 20,
     "metadata": {},
     "output_type": "execute_result"
    }
   ],
   "source": [
    "day = ['Monday', 'Wednesday', 'Friday']\n",
    "city = ['Moscow', 'Saint-Petersburg']\n",
    "number_tracks(day[0], city[0])# количество прослушиваний в Москве по понедельникам"
   ]
  },
  {
   "cell_type": "code",
   "execution_count": 21,
   "metadata": {
    "id": "hq_ncZ5T_Zcu"
   },
   "outputs": [
    {
     "data": {
      "text/plain": [
       "5614"
      ]
     },
     "execution_count": 21,
     "metadata": {},
     "output_type": "execute_result"
    }
   ],
   "source": [
    "number_tracks(day[0], city[1])# количество прослушиваний в Санкт-Петербурге по понедельникам"
   ]
  },
  {
   "cell_type": "code",
   "execution_count": 22,
   "metadata": {
    "id": "_NTy2VPU_Zcu"
   },
   "outputs": [
    {
     "data": {
      "text/plain": [
       "11056"
      ]
     },
     "execution_count": 22,
     "metadata": {},
     "output_type": "execute_result"
    }
   ],
   "source": [
    "number_tracks(day[1], city[0])# количество прослушиваний в Москве по средам"
   ]
  },
  {
   "cell_type": "code",
   "execution_count": 23,
   "metadata": {
    "id": "j2y3TAwo_Zcu"
   },
   "outputs": [
    {
     "data": {
      "text/plain": [
       "7003"
      ]
     },
     "execution_count": 23,
     "metadata": {},
     "output_type": "execute_result"
    }
   ],
   "source": [
    "number_tracks(day[1], city[1])# количество прослушиваний в Санкт-Петербурге по средам"
   ]
  },
  {
   "cell_type": "code",
   "execution_count": 24,
   "metadata": {
    "id": "vYDw5u_K_Zcu"
   },
   "outputs": [
    {
     "data": {
      "text/plain": [
       "15945"
      ]
     },
     "execution_count": 24,
     "metadata": {},
     "output_type": "execute_result"
    }
   ],
   "source": [
    "number_tracks(day[2], city[0])# количество прослушиваний в Москве по пятницам"
   ]
  },
  {
   "cell_type": "code",
   "execution_count": 25,
   "metadata": {
    "id": "8_yzFtW3_Zcu"
   },
   "outputs": [
    {
     "data": {
      "text/plain": [
       "5895"
      ]
     },
     "execution_count": 25,
     "metadata": {},
     "output_type": "execute_result"
    }
   ],
   "source": [
    "number_tracks(day[2], city[1])# количество прослушиваний в Санкт-Петербурге по пятницам"
   ]
  },
  {
   "cell_type": "markdown",
   "metadata": {
    "id": "7QXffbO-_Zcu"
   },
   "source": [
    "Создадим c помощью конструктора `pd.DataFrame` таблицу, где\n",
    "* названия колонок — `['city', 'monday', 'wednesday', 'friday']`;\n",
    "* данные — результаты, которые получили с помощью `number_tracks`."
   ]
  },
  {
   "cell_type": "code",
   "execution_count": 26,
   "metadata": {
    "id": "APAcLpOr_Zcu"
   },
   "outputs": [
    {
     "data": {
      "text/html": [
       "<div>\n",
       "<style scoped>\n",
       "    .dataframe tbody tr th:only-of-type {\n",
       "        vertical-align: middle;\n",
       "    }\n",
       "\n",
       "    .dataframe tbody tr th {\n",
       "        vertical-align: top;\n",
       "    }\n",
       "\n",
       "    .dataframe thead th {\n",
       "        text-align: right;\n",
       "    }\n",
       "</style>\n",
       "<table border=\"1\" class=\"dataframe\">\n",
       "  <thead>\n",
       "    <tr style=\"text-align: right;\">\n",
       "      <th></th>\n",
       "      <th>city</th>\n",
       "      <th>monday</th>\n",
       "      <th>wednesday</th>\n",
       "      <th>friday</th>\n",
       "    </tr>\n",
       "  </thead>\n",
       "  <tbody>\n",
       "    <tr>\n",
       "      <th>0</th>\n",
       "      <td>Moscow</td>\n",
       "      <td>15740</td>\n",
       "      <td>11056</td>\n",
       "      <td>15945</td>\n",
       "    </tr>\n",
       "    <tr>\n",
       "      <th>1</th>\n",
       "      <td>Saint-Petersburg</td>\n",
       "      <td>5614</td>\n",
       "      <td>7003</td>\n",
       "      <td>5895</td>\n",
       "    </tr>\n",
       "  </tbody>\n",
       "</table>\n",
       "</div>"
      ],
      "text/plain": [
       "               city  monday  wednesday  friday\n",
       "0            Moscow   15740      11056   15945\n",
       "1  Saint-Petersburg    5614       7003    5895"
      ]
     },
     "execution_count": 26,
     "metadata": {},
     "output_type": "execute_result"
    }
   ],
   "source": [
    "column=['city', 'monday', 'wednesday', 'friday']\n",
    "data=[\n",
    "    ['Moscow', 15740, 11056, 15945],\n",
    "    ['Saint-Petersburg', 5614, 7003, 5895]\n",
    "]\n",
    "\n",
    "pd.DataFrame(data=data, columns=column) # Таблица с результатами"
   ]
  },
  {
   "cell_type": "markdown",
   "metadata": {
    "id": "-EgPIHYu_Zcu"
   },
   "source": [
    "**Выводы**\n",
    "\n",
    "Данные показывают разницу поведения пользователей:\n",
    "\n",
    "- В Москве пик прослушиваний приходится на понедельник и пятницу, а в среду заметен спад.\n",
    "- В Петербурге, наоборот, больше слушают музыку по средам. Активность в понедельник и пятницу здесь почти в равной мере уступает среде.\n",
    "\n",
    "Данные говорят в пользу первой гипотезы."
   ]
  },
  {
   "cell_type": "markdown",
   "metadata": {
    "id": "atZAxtq4_Zcu"
   },
   "source": [
    "### Музыка в начале и в конце недели"
   ]
  },
  {
   "cell_type": "markdown",
   "metadata": {
    "id": "eXrQqXFH_Zcu"
   },
   "source": [
    "Согласно второй гипотезе, утром в понедельник в Москве преобладают одни жанры, а в Петербурге — другие. Так же и вечером пятницы преобладают разные жанры — в зависимости от города."
   ]
  },
  {
   "cell_type": "markdown",
   "metadata": {
    "id": "S8UcW6Hw_Zcu"
   },
   "source": [
    "Сохраним таблицы с данными в две переменные:\n",
    "* по Москве — в `moscow_general`;\n",
    "* по Санкт-Петербургу — в `spb_general`."
   ]
  },
  {
   "cell_type": "code",
   "execution_count": 27,
   "metadata": {
    "id": "qeaFfM_P_Zcu"
   },
   "outputs": [],
   "source": [
    "moscow_general = df[df['city'] == 'Moscow']# получение таблицы moscow_general из тех строк таблицы df, \n",
    "# для которых значение в столбце 'city' равно 'Moscow'"
   ]
  },
  {
   "cell_type": "code",
   "execution_count": 28,
   "metadata": {
    "id": "ORaVRKto_Zcu"
   },
   "outputs": [],
   "source": [
    "spb_general = df[df['city'] == 'Saint-Petersburg']# получение таблицы spb_general из тех строк таблицы df,\n",
    "# для которых значение в столбце 'city' равно 'Saint-Petersburg'"
   ]
  },
  {
   "cell_type": "markdown",
   "metadata": {
    "id": "MEJV-CX2_Zcu"
   },
   "source": [
    "Создадим функцию `genre_weekday()` с четырьмя параметрами:\n",
    "* таблица (датафрейм) с данными,\n",
    "* день недели,\n",
    "* начальная временная метка в формате 'hh:mm', \n",
    "* последняя временная метка в формате 'hh:mm'.\n",
    "\n",
    "Функция должна вернуть информацию о топ-10 жанров тех треков, которые прослушивали в указанный день, в промежутке между двумя отметками времени."
   ]
  },
  {
   "cell_type": "code",
   "execution_count": 29,
   "metadata": {
    "id": "laJT9BYl_Zcu"
   },
   "outputs": [],
   "source": [
    "def genre_weekday(table, day, time1, time2): \n",
    "    genre_df = table[table['day'] == day]\n",
    "    genre_df = genre_df[genre_df['time'] > time1] #    - значение в столбце time больше значения аргумента time1\n",
    "    genre_df = genre_df[genre_df['time'] < time2] #    - значение в столбце time меньше значения аргумента time2\n",
    "    genre_df_count = genre_df.groupby('genre')['genre'].count()\n",
    "    genre_df_sorted = genre_df_count.sort_values(ascending = False)\n",
    "    return genre_df_sorted.head(10)"
   ]
  },
  {
   "cell_type": "markdown",
   "metadata": {
    "id": "la2s2_PF_Zcu"
   },
   "source": [
    "Cравним результаты функции `genre_weekday()` для Москвы и Санкт-Петербурга в понедельник утром (с 7:00 до 11:00) и в пятницу вечером (с 17:00 до 23:00):"
   ]
  },
  {
   "cell_type": "code",
   "execution_count": 30,
   "metadata": {
    "id": "yz7itPUQ_Zcu",
    "scrolled": true
   },
   "outputs": [
    {
     "data": {
      "text/plain": [
       "genre\n",
       "pop            781\n",
       "dance          549\n",
       "electronic     480\n",
       "rock           474\n",
       "hiphop         286\n",
       "ruspop         186\n",
       "world          181\n",
       "rusrap         175\n",
       "alternative    164\n",
       "unknown        161\n",
       "Name: genre, dtype: int64"
      ]
     },
     "execution_count": 30,
     "metadata": {},
     "output_type": "execute_result"
    }
   ],
   "source": [
    "genre_weekday(moscow_general, 'Monday', '07:00', '11:00')# вызов функции для утра понедельника в Москве (вместо df — таблица moscow_general)"
   ]
  },
  {
   "cell_type": "code",
   "execution_count": 31,
   "metadata": {
    "id": "kwUcHPdy_Zcu"
   },
   "outputs": [
    {
     "data": {
      "text/plain": [
       "genre\n",
       "pop            218\n",
       "dance          182\n",
       "rock           162\n",
       "electronic     147\n",
       "hiphop          80\n",
       "ruspop          64\n",
       "alternative     58\n",
       "rusrap          55\n",
       "jazz            44\n",
       "classical       40\n",
       "Name: genre, dtype: int64"
      ]
     },
     "execution_count": 31,
     "metadata": {},
     "output_type": "execute_result"
    }
   ],
   "source": [
    "genre_weekday(spb_general, 'Monday', '07:00', '11:00')# вызов функции для утра понедельника в Петербурге (вместо df — таблица spb_general)"
   ]
  },
  {
   "cell_type": "code",
   "execution_count": 32,
   "metadata": {
    "id": "EzXVRE1o_Zcu"
   },
   "outputs": [
    {
     "data": {
      "text/plain": [
       "genre\n",
       "pop            713\n",
       "rock           517\n",
       "dance          495\n",
       "electronic     482\n",
       "hiphop         273\n",
       "world          208\n",
       "ruspop         170\n",
       "alternative    163\n",
       "classical      163\n",
       "rusrap         142\n",
       "Name: genre, dtype: int64"
      ]
     },
     "execution_count": 32,
     "metadata": {},
     "output_type": "execute_result"
    }
   ],
   "source": [
    "genre_weekday(moscow_general, 'Friday', '17:00', '23:00')# вызов функции для вечера пятницы в Москве"
   ]
  },
  {
   "cell_type": "code",
   "execution_count": 33,
   "metadata": {
    "id": "JZaEKu5v_Zcu"
   },
   "outputs": [
    {
     "data": {
      "text/plain": [
       "genre\n",
       "pop            256\n",
       "electronic     216\n",
       "rock           216\n",
       "dance          210\n",
       "hiphop          97\n",
       "alternative     63\n",
       "jazz            61\n",
       "classical       60\n",
       "rusrap          59\n",
       "world           54\n",
       "Name: genre, dtype: int64"
      ]
     },
     "execution_count": 33,
     "metadata": {},
     "output_type": "execute_result"
    }
   ],
   "source": [
    "genre_weekday(spb_general, 'Friday', '17:00', '23:00')# вызов функции для вечера пятницы в Петербурге"
   ]
  },
  {
   "cell_type": "markdown",
   "metadata": {
    "id": "wrCe4MNX_Zcu"
   },
   "source": [
    "**Выводы**\n",
    "\n",
    "Если сравнить топ-10 жанров в понедельник утром, можно сделать такие выводы:\n",
    "\n",
    "1. В Москве и Петербурге слушают похожую музыку. Единственное отличие — в московский рейтинг вошёл жанр “world”, а в петербургский — джаз и классика.\n",
    "\n",
    "2. В Москве пропущенных значений оказалось так много, что значение `'unknown'` заняло десятое место среди самых популярных жанров. Значит, пропущенные значения занимают существенную долю в данных и угрожают достоверности исследования.\n",
    "\n",
    "Вечер пятницы не меняет эту картину. Некоторые жанры поднимаются немного выше, другие спускаются, но в целом топ-10 остаётся тем же самым.\n",
    "\n",
    "Таким образом, вторая гипотеза подтвердилась лишь частично:\n",
    "* Пользователи слушают похожую музыку в начале недели и в конце.\n",
    "* Разница между Москвой и Петербургом не слишком выражена. В Москве чаще слушают русскую популярную музыку, в Петербурге — джаз.\n",
    "\n",
    "Однако пропуски в данных ставят под сомнение этот результат. В Москве их так много, что рейтинг топ-10 мог бы выглядеть иначе, если бы не утерянные  данные о жанрах."
   ]
  },
  {
   "cell_type": "markdown",
   "metadata": {
    "id": "JolODAqr_Zcu"
   },
   "source": [
    "### Жанровые предпочтения в Москве и Петербурге\n",
    "\n",
    "Гипотеза: Петербург — столица рэпа, музыку этого жанра там слушают чаще, чем в Москве.  А Москва — город контрастов, в котором, тем не менее, преобладает поп-музыка."
   ]
  },
  {
   "cell_type": "markdown",
   "metadata": {
    "id": "DlegSvaT_Zcu"
   },
   "source": [
    "Сгруппирем таблицу `moscow_general` по жанру и посчитаем прослушивания треков каждого жанра методом `count()`. Затем отсортируем результат в порядке убывания и сохраним его в таблице `moscow_genres`."
   ]
  },
  {
   "cell_type": "code",
   "execution_count": 34,
   "metadata": {
    "id": "r19lIPke_Zcu"
   },
   "outputs": [],
   "source": [
    "moscow_genres = (moscow_general.groupby('genre')['genre'].count()).sort_values(ascending = False)# одной строкой: группировка таблицы moscow_general по столбцу 'genre', \n",
    "# подсчёт числа значений 'genre' в этой группировке методом count(), \n",
    "# сортировка получившегося Series в порядке убывания и сохранение в moscow_genres"
   ]
  },
  {
   "cell_type": "markdown",
   "metadata": {
    "id": "6kMuomxTiIr8"
   },
   "source": [
    "Выведем на экран первые десять строк `moscow_genres`:"
   ]
  },
  {
   "cell_type": "code",
   "execution_count": 35,
   "metadata": {
    "id": "WhCSooF8_Zcv"
   },
   "outputs": [
    {
     "data": {
      "text/plain": [
       "genre\n",
       "pop            5892\n",
       "dance          4435\n",
       "rock           3965\n",
       "electronic     3786\n",
       "hiphop         2096\n",
       "classical      1616\n",
       "world          1432\n",
       "alternative    1379\n",
       "ruspop         1372\n",
       "rusrap         1161\n",
       "Name: genre, dtype: int64"
      ]
     },
     "execution_count": 35,
     "metadata": {},
     "output_type": "execute_result"
    }
   ],
   "source": [
    "moscow_genres.head(10)# просмотр первых 10 строк moscow_genres"
   ]
  },
  {
   "cell_type": "markdown",
   "metadata": {
    "id": "cnPG2vnN_Zcv"
   },
   "source": [
    "Повторим то же и для Петербурга."
   ]
  },
  {
   "cell_type": "code",
   "execution_count": 36,
   "metadata": {
    "id": "gluLIpE7_Zcv"
   },
   "outputs": [],
   "source": [
    "spb_genres = (spb_general.groupby('genre')['genre'].count()).sort_values(ascending = False)"
   ]
  },
  {
   "cell_type": "markdown",
   "metadata": {
    "id": "5Doha_ODgyQ8"
   },
   "source": [
    "Выведем на экран первые десять строк `spb_genres`:"
   ]
  },
  {
   "cell_type": "code",
   "execution_count": 37,
   "metadata": {
    "id": "uaGJHjVU_Zcv"
   },
   "outputs": [
    {
     "data": {
      "text/plain": [
       "genre\n",
       "pop            2431\n",
       "dance          1932\n",
       "rock           1879\n",
       "electronic     1736\n",
       "hiphop          960\n",
       "alternative     649\n",
       "classical       646\n",
       "rusrap          564\n",
       "ruspop          538\n",
       "world           515\n",
       "Name: genre, dtype: int64"
      ]
     },
     "execution_count": 37,
     "metadata": {},
     "output_type": "execute_result"
    }
   ],
   "source": [
    "spb_genres.head(10)# просмотр первых 10 строк spb_genres"
   ]
  },
  {
   "cell_type": "markdown",
   "metadata": {
    "id": "RY51YJYu_Zcv"
   },
   "source": [
    "**Выводы**"
   ]
  },
  {
   "cell_type": "markdown",
   "metadata": {
    "id": "nVhnJEm__Zcv"
   },
   "source": [
    "Гипотеза частично подтвердилась:\n",
    "* Поп-музыка — самый популярный жанр в Москве, как и предполагала гипотеза. Более того, в топ-10 жанров встречается близкий жанр — русская популярная музыка.\n",
    "* Вопреки ожиданиям, рэп одинаково популярен в Москве и Петербурге. \n"
   ]
  },
  {
   "cell_type": "markdown",
   "metadata": {
    "id": "ykKQ0N65_Zcv"
   },
   "source": [
    "## Итоги исследования"
   ]
  },
  {
   "cell_type": "markdown",
   "metadata": {
    "id": "tjUwbHb3_Zcv"
   },
   "source": [
    "Мы проверили три гипотезы и установили:\n",
    "\n",
    "1. День недели по-разному влияет на активность пользователей в Москве и Петербурге. \n",
    "\n",
    "Первая гипотеза полностью подтвердилась.\n",
    "\n",
    "2. Музыкальные предпочтения не сильно меняются в течение недели — будь то Москва или Петербург. Небольшие различия заметны в начале недели, по понедельникам:\n",
    "* в Москве слушают музыку жанра “world”,\n",
    "* в Петербурге — джаз и классику.\n",
    "\n",
    "Таким образом, вторая гипотеза подтвердилась лишь отчасти. Этот результат мог оказаться иным, если бы не пропуски в данных.\n",
    "\n",
    "3. Во вкусах пользователей Москвы и Петербурга больше общего чем различий. Вопреки ожиданиям, предпочтения жанров в Петербурге напоминают московские.\n",
    "\n",
    "Третья гипотеза не подтвердилась. Если различия в предпочтениях и существуют, на основной массе пользователей они незаметны."
   ]
  }
 ],
 "metadata": {
  "ExecuteTimeLog": [
   {
    "duration": 752,
    "start_time": "2021-10-24T09:14:16.370Z"
   },
   {
    "duration": 4,
    "start_time": "2021-10-24T09:14:21.121Z"
   },
   {
    "duration": 87,
    "start_time": "2021-10-24T09:21:10.251Z"
   },
   {
    "duration": 82,
    "start_time": "2021-10-24T09:21:21.050Z"
   },
   {
    "duration": 104,
    "start_time": "2021-10-24T09:23:09.080Z"
   },
   {
    "duration": 91,
    "start_time": "2021-10-24T09:23:27.664Z"
   },
   {
    "duration": 180,
    "start_time": "2021-10-24T09:23:56.983Z"
   },
   {
    "duration": 38,
    "start_time": "2021-10-24T09:24:42.984Z"
   },
   {
    "duration": 12,
    "start_time": "2021-10-24T09:25:42.615Z"
   },
   {
    "duration": 341,
    "start_time": "2021-10-24T09:35:16.710Z"
   },
   {
    "duration": 710,
    "start_time": "2021-10-24T09:35:27.294Z"
   },
   {
    "duration": 321,
    "start_time": "2021-10-24T09:37:32.357Z"
   },
   {
    "duration": 6,
    "start_time": "2021-10-24T09:37:37.815Z"
   },
   {
    "duration": 100,
    "start_time": "2021-10-24T09:38:04.883Z"
   },
   {
    "duration": 5,
    "start_time": "2021-10-24T09:38:30.388Z"
   },
   {
    "duration": 6,
    "start_time": "2021-10-24T09:38:54.467Z"
   },
   {
    "duration": 89,
    "start_time": "2021-10-24T09:45:28.631Z"
   },
   {
    "duration": 83,
    "start_time": "2021-10-24T09:45:48.613Z"
   },
   {
    "duration": 26,
    "start_time": "2021-10-24T09:45:53.605Z"
   },
   {
    "duration": 5,
    "start_time": "2021-10-24T09:46:03.093Z"
   },
   {
    "duration": 45,
    "start_time": "2021-10-24T09:56:59.383Z"
   },
   {
    "duration": 44,
    "start_time": "2021-10-24T09:57:16.207Z"
   },
   {
    "duration": 40,
    "start_time": "2021-10-24T09:57:21.692Z"
   },
   {
    "duration": 35,
    "start_time": "2021-10-24T09:57:40.893Z"
   },
   {
    "duration": 31,
    "start_time": "2021-10-24T09:57:50.821Z"
   },
   {
    "duration": 25,
    "start_time": "2021-10-24T10:04:25.567Z"
   },
   {
    "duration": 13,
    "start_time": "2021-10-24T10:04:38.766Z"
   },
   {
    "duration": 265,
    "start_time": "2021-10-24T10:04:53.982Z"
   },
   {
    "duration": 38,
    "start_time": "2021-10-24T10:05:02.454Z"
   },
   {
    "duration": 280,
    "start_time": "2021-10-24T10:07:19.972Z"
   },
   {
    "duration": 87,
    "start_time": "2021-10-24T10:07:49.635Z"
   },
   {
    "duration": 361,
    "start_time": "2021-10-24T10:09:56.793Z"
   },
   {
    "duration": 124,
    "start_time": "2021-10-24T10:10:01.776Z"
   },
   {
    "duration": 80,
    "start_time": "2021-10-24T10:10:15.665Z"
   },
   {
    "duration": 110,
    "start_time": "2021-10-24T10:11:35.030Z"
   },
   {
    "duration": 83,
    "start_time": "2021-10-24T10:12:31.872Z"
   },
   {
    "duration": 78,
    "start_time": "2021-10-24T10:12:57.790Z"
   },
   {
    "duration": 75,
    "start_time": "2021-10-24T10:13:02.231Z"
   },
   {
    "duration": 103,
    "start_time": "2021-10-24T10:13:13.749Z"
   },
   {
    "duration": 79,
    "start_time": "2021-10-24T10:13:39.606Z"
   },
   {
    "duration": 89,
    "start_time": "2021-10-24T10:14:21.353Z"
   },
   {
    "duration": 78,
    "start_time": "2021-10-24T10:14:24.421Z"
   },
   {
    "duration": 94,
    "start_time": "2021-10-24T10:14:26.525Z"
   },
   {
    "duration": 97,
    "start_time": "2021-10-24T10:14:37.773Z"
   },
   {
    "duration": 91,
    "start_time": "2021-10-24T10:14:49.761Z"
   },
   {
    "duration": 74,
    "start_time": "2021-10-24T10:14:54.101Z"
   },
   {
    "duration": 287,
    "start_time": "2021-10-24T10:22:51.191Z"
   },
   {
    "duration": 251,
    "start_time": "2021-10-24T10:23:02.992Z"
   },
   {
    "duration": 10,
    "start_time": "2021-10-24T10:24:40.849Z"
   },
   {
    "duration": 4,
    "start_time": "2021-10-24T10:24:50.418Z"
   },
   {
    "duration": 7,
    "start_time": "2021-10-24T10:26:59.787Z"
   },
   {
    "duration": 298,
    "start_time": "2021-10-24T10:29:38.273Z"
   },
   {
    "duration": 318,
    "start_time": "2021-10-24T10:29:44.860Z"
   },
   {
    "duration": 308,
    "start_time": "2021-10-24T10:29:48.233Z"
   },
   {
    "duration": 55,
    "start_time": "2021-10-24T10:29:55.688Z"
   },
   {
    "duration": 278,
    "start_time": "2021-10-24T10:30:14.121Z"
   },
   {
    "duration": 86,
    "start_time": "2021-10-24T10:30:27.041Z"
   },
   {
    "duration": 55,
    "start_time": "2021-10-24T10:30:30.721Z"
   },
   {
    "duration": 7,
    "start_time": "2021-10-24T10:31:37.624Z"
   },
   {
    "duration": 10,
    "start_time": "2021-10-24T10:31:41.800Z"
   },
   {
    "duration": 313,
    "start_time": "2021-10-24T10:31:56.759Z"
   },
   {
    "duration": 282,
    "start_time": "2021-10-24T10:32:07.551Z"
   },
   {
    "duration": 9,
    "start_time": "2021-10-24T10:32:21.617Z"
   },
   {
    "duration": 8,
    "start_time": "2021-10-24T10:32:29.943Z"
   },
   {
    "duration": 7,
    "start_time": "2021-10-24T10:32:33.415Z"
   },
   {
    "duration": 8,
    "start_time": "2021-10-24T10:32:37.093Z"
   },
   {
    "duration": 8,
    "start_time": "2021-10-24T10:32:40.086Z"
   },
   {
    "duration": 11,
    "start_time": "2021-10-24T10:32:54.542Z"
   },
   {
    "duration": 7,
    "start_time": "2021-10-24T10:33:18.599Z"
   },
   {
    "duration": 55,
    "start_time": "2021-10-24T10:33:20.142Z"
   },
   {
    "duration": 8,
    "start_time": "2021-10-24T10:33:22.221Z"
   },
   {
    "duration": 7,
    "start_time": "2021-10-24T10:33:24.782Z"
   },
   {
    "duration": 8,
    "start_time": "2021-10-24T10:33:42.750Z"
   },
   {
    "duration": 10,
    "start_time": "2021-10-24T10:35:12.269Z"
   },
   {
    "duration": 343,
    "start_time": "2021-10-24T10:36:41.115Z"
   },
   {
    "duration": 7,
    "start_time": "2021-10-24T10:38:14.490Z"
   },
   {
    "duration": 10,
    "start_time": "2021-10-24T10:38:17.505Z"
   },
   {
    "duration": 7,
    "start_time": "2021-10-24T10:38:19.793Z"
   },
   {
    "duration": 8,
    "start_time": "2021-10-24T10:38:49.258Z"
   },
   {
    "duration": 9,
    "start_time": "2021-10-24T10:38:52.818Z"
   },
   {
    "duration": 8,
    "start_time": "2021-10-24T10:38:54.657Z"
   },
   {
    "duration": 7,
    "start_time": "2021-10-24T10:39:00.481Z"
   },
   {
    "duration": 8,
    "start_time": "2021-10-24T10:39:04.427Z"
   },
   {
    "duration": 8,
    "start_time": "2021-10-24T10:39:42.443Z"
   },
   {
    "duration": 8,
    "start_time": "2021-10-24T10:39:53.076Z"
   },
   {
    "duration": 13,
    "start_time": "2021-10-24T10:40:02.587Z"
   },
   {
    "duration": 7,
    "start_time": "2021-10-24T10:40:09.912Z"
   },
   {
    "duration": 6,
    "start_time": "2021-10-24T10:40:11.680Z"
   },
   {
    "duration": 7,
    "start_time": "2021-10-24T10:40:15.058Z"
   },
   {
    "duration": 7,
    "start_time": "2021-10-24T10:40:19.247Z"
   },
   {
    "duration": 8,
    "start_time": "2021-10-24T10:40:34.321Z"
   },
   {
    "duration": 10,
    "start_time": "2021-10-24T10:40:50.753Z"
   },
   {
    "duration": 315,
    "start_time": "2021-10-24T10:41:02.312Z"
   },
   {
    "duration": 9,
    "start_time": "2021-10-24T10:42:41.000Z"
   },
   {
    "duration": 7,
    "start_time": "2021-10-24T10:43:15.902Z"
   },
   {
    "duration": 9,
    "start_time": "2021-10-24T10:43:21.046Z"
   },
   {
    "duration": 7,
    "start_time": "2021-10-24T10:43:26.917Z"
   },
   {
    "duration": 7,
    "start_time": "2021-10-24T10:43:29.854Z"
   },
   {
    "duration": 535,
    "start_time": "2021-10-24T10:44:01.605Z"
   },
   {
    "duration": 100,
    "start_time": "2021-10-24T10:44:06.798Z"
   },
   {
    "duration": 267,
    "start_time": "2021-10-24T10:44:14.317Z"
   },
   {
    "duration": 11,
    "start_time": "2021-10-24T10:44:20.797Z"
   },
   {
    "duration": 305,
    "start_time": "2021-10-24T10:45:12.940Z"
   },
   {
    "duration": 332,
    "start_time": "2021-10-24T10:46:02.572Z"
   },
   {
    "duration": 60,
    "start_time": "2021-10-24T10:46:13.651Z"
   },
   {
    "duration": 3,
    "start_time": "2021-10-24T10:46:55.428Z"
   },
   {
    "duration": 8,
    "start_time": "2021-10-24T10:59:59.697Z"
   },
   {
    "duration": 8,
    "start_time": "2021-10-24T11:00:02.878Z"
   },
   {
    "duration": 7,
    "start_time": "2021-10-24T11:00:35.406Z"
   },
   {
    "duration": 14,
    "start_time": "2021-10-24T11:00:39.404Z"
   },
   {
    "duration": 13,
    "start_time": "2021-10-24T11:01:04.727Z"
   },
   {
    "duration": 14,
    "start_time": "2021-10-24T11:01:09.996Z"
   },
   {
    "duration": 106,
    "start_time": "2021-10-24T11:07:44.870Z"
   },
   {
    "duration": 90,
    "start_time": "2021-10-24T11:08:14.114Z"
   },
   {
    "duration": 7,
    "start_time": "2021-10-24T12:06:45.577Z"
   },
   {
    "duration": 8,
    "start_time": "2021-10-24T12:06:48.518Z"
   },
   {
    "duration": 94,
    "start_time": "2021-10-24T12:06:52.702Z"
   },
   {
    "duration": 10,
    "start_time": "2021-10-24T12:07:09.191Z"
   },
   {
    "duration": 11,
    "start_time": "2021-10-24T12:07:25.581Z"
   },
   {
    "duration": 11,
    "start_time": "2021-10-24T12:07:29.189Z"
   },
   {
    "duration": 341,
    "start_time": "2021-10-24T12:09:10.308Z"
   },
   {
    "duration": 3,
    "start_time": "2021-10-24T12:09:20.988Z"
   },
   {
    "duration": 14,
    "start_time": "2021-10-24T12:09:24.020Z"
   },
   {
    "duration": 14,
    "start_time": "2021-10-24T12:09:26.283Z"
   },
   {
    "duration": 10,
    "start_time": "2021-10-24T12:09:28.899Z"
   },
   {
    "duration": 14,
    "start_time": "2021-10-24T12:10:50.203Z"
   },
   {
    "duration": 11,
    "start_time": "2021-10-24T12:10:52.331Z"
   },
   {
    "duration": 4,
    "start_time": "2021-10-24T12:11:27.689Z"
   },
   {
    "duration": 15,
    "start_time": "2021-10-24T12:11:28.945Z"
   },
   {
    "duration": 7,
    "start_time": "2021-10-24T12:13:04.049Z"
   },
   {
    "duration": 10,
    "start_time": "2021-10-24T12:13:11.353Z"
   },
   {
    "duration": 14,
    "start_time": "2021-10-24T12:14:35.360Z"
   },
   {
    "duration": 13,
    "start_time": "2021-10-24T12:15:14.327Z"
   },
   {
    "duration": 15,
    "start_time": "2021-10-24T12:16:06.199Z"
   },
   {
    "duration": 276,
    "start_time": "2021-10-24T15:19:35.938Z"
   },
   {
    "duration": 216,
    "start_time": "2021-10-24T15:19:39.777Z"
   },
   {
    "duration": 209,
    "start_time": "2021-10-24T15:19:57.130Z"
   },
   {
    "duration": 228,
    "start_time": "2021-10-24T15:20:00.928Z"
   },
   {
    "duration": 236,
    "start_time": "2021-10-24T15:20:21.136Z"
   },
   {
    "duration": 263,
    "start_time": "2021-10-24T15:21:08.639Z"
   },
   {
    "duration": 620,
    "start_time": "2021-10-24T15:21:14.873Z"
   },
   {
    "duration": 252,
    "start_time": "2021-10-24T15:21:18.807Z"
   },
   {
    "duration": 4,
    "start_time": "2021-10-24T15:21:21.119Z"
   },
   {
    "duration": 270,
    "start_time": "2021-10-24T15:21:23.487Z"
   },
   {
    "duration": 753,
    "start_time": "2021-10-24T15:21:28.726Z"
   },
   {
    "duration": 198,
    "start_time": "2021-10-24T15:21:30.479Z"
   },
   {
    "duration": 25,
    "start_time": "2021-10-24T15:21:32.328Z"
   },
   {
    "duration": 12,
    "start_time": "2021-10-24T15:21:35.326Z"
   },
   {
    "duration": 5,
    "start_time": "2021-10-24T15:21:45.022Z"
   },
   {
    "duration": 271,
    "start_time": "2021-10-24T15:21:49.335Z"
   },
   {
    "duration": 5,
    "start_time": "2021-10-24T15:21:53.359Z"
   },
   {
    "duration": 615,
    "start_time": "2021-10-24T15:22:03.423Z"
   },
   {
    "duration": 87,
    "start_time": "2021-10-24T15:22:12.512Z"
   },
   {
    "duration": 29,
    "start_time": "2021-10-24T15:22:22.126Z"
   },
   {
    "duration": 6,
    "start_time": "2021-10-24T15:22:24.253Z"
   },
   {
    "duration": 30,
    "start_time": "2021-10-24T15:22:26.582Z"
   },
   {
    "duration": 23,
    "start_time": "2021-10-24T15:22:28.776Z"
   },
   {
    "duration": 31,
    "start_time": "2021-10-24T15:22:30.821Z"
   },
   {
    "duration": 90,
    "start_time": "2021-10-24T15:22:33.006Z"
   },
   {
    "duration": 91,
    "start_time": "2021-10-24T15:22:35.165Z"
   },
   {
    "duration": 79,
    "start_time": "2021-10-24T15:22:36.501Z"
   },
   {
    "duration": 15,
    "start_time": "2021-10-24T15:22:39.165Z"
   },
   {
    "duration": 4,
    "start_time": "2021-10-24T15:22:41.348Z"
   },
   {
    "duration": 15,
    "start_time": "2021-10-24T15:22:45.165Z"
   },
   {
    "duration": 15,
    "start_time": "2021-10-24T15:22:48.749Z"
   },
   {
    "duration": 118,
    "start_time": "2021-10-24T15:24:33.917Z"
   },
   {
    "duration": 70,
    "start_time": "2021-10-24T15:24:39.596Z"
   },
   {
    "duration": 6,
    "start_time": "2021-10-24T15:24:43.539Z"
   },
   {
    "duration": 6,
    "start_time": "2021-10-24T15:25:23.875Z"
   },
   {
    "duration": 5,
    "start_time": "2021-10-24T15:25:32.668Z"
   },
   {
    "duration": 6,
    "start_time": "2021-10-24T15:25:50.963Z"
   },
   {
    "duration": 46,
    "start_time": "2021-10-24T15:26:25.540Z"
   },
   {
    "duration": 19,
    "start_time": "2021-10-24T15:27:18.450Z"
   },
   {
    "duration": 45,
    "start_time": "2021-10-24T15:27:26.337Z"
   },
   {
    "duration": 14,
    "start_time": "2021-10-24T15:27:30.386Z"
   },
   {
    "duration": 14,
    "start_time": "2021-10-24T15:28:39.672Z"
   },
   {
    "duration": 15,
    "start_time": "2021-10-24T15:28:53.792Z"
   },
   {
    "duration": 5,
    "start_time": "2021-10-24T15:31:09.015Z"
   },
   {
    "duration": 17,
    "start_time": "2021-10-24T15:31:24.062Z"
   },
   {
    "duration": 886,
    "start_time": "2021-10-24T15:32:03.520Z"
   },
   {
    "duration": 15,
    "start_time": "2021-10-24T15:32:10.133Z"
   },
   {
    "duration": 16,
    "start_time": "2021-10-24T15:32:15.534Z"
   },
   {
    "duration": 5,
    "start_time": "2021-10-24T15:39:17.576Z"
   },
   {
    "duration": 480,
    "start_time": "2021-10-24T15:40:20.576Z"
   },
   {
    "duration": 5,
    "start_time": "2021-10-24T15:40:52.709Z"
   },
   {
    "duration": 655,
    "start_time": "2021-10-24T15:40:55.279Z"
   },
   {
    "duration": 436,
    "start_time": "2021-10-24T15:51:53.965Z"
   },
   {
    "duration": 933,
    "start_time": "2021-10-24T15:54:56.923Z"
   },
   {
    "duration": 899,
    "start_time": "2021-10-24T15:55:22.304Z"
   },
   {
    "duration": 5,
    "start_time": "2021-10-24T15:55:25.523Z"
   },
   {
    "duration": 990,
    "start_time": "2021-10-24T16:00:28.160Z"
   },
   {
    "duration": 5,
    "start_time": "2021-10-24T16:00:30.559Z"
   },
   {
    "duration": 18,
    "start_time": "2021-10-24T16:00:32.926Z"
   },
   {
    "duration": 34,
    "start_time": "2021-10-24T16:01:03.414Z"
   },
   {
    "duration": 30,
    "start_time": "2021-10-24T16:01:08.462Z"
   },
   {
    "duration": 6,
    "start_time": "2021-10-24T16:03:25.436Z"
   },
   {
    "duration": 519,
    "start_time": "2021-10-24T16:03:32.080Z"
   },
   {
    "duration": 5,
    "start_time": "2021-10-24T16:03:53.101Z"
   },
   {
    "duration": 922,
    "start_time": "2021-10-24T16:03:56.332Z"
   },
   {
    "duration": 5,
    "start_time": "2021-10-24T16:20:00.446Z"
   },
   {
    "duration": 500,
    "start_time": "2021-10-24T16:20:03.430Z"
   },
   {
    "duration": 494,
    "start_time": "2021-10-24T16:20:53.102Z"
   },
   {
    "duration": 5,
    "start_time": "2021-10-24T16:21:43.414Z"
   },
   {
    "duration": 38,
    "start_time": "2021-10-24T16:21:47.206Z"
   },
   {
    "duration": 29,
    "start_time": "2021-10-24T16:23:13.876Z"
   },
   {
    "duration": 226,
    "start_time": "2021-10-24T16:24:10.107Z"
   },
   {
    "duration": 34,
    "start_time": "2021-10-24T16:24:25.660Z"
   },
   {
    "duration": 303,
    "start_time": "2021-10-24T16:24:57.867Z"
   },
   {
    "duration": 51,
    "start_time": "2021-10-24T16:25:20.507Z"
   },
   {
    "duration": 34,
    "start_time": "2021-10-24T16:25:39.578Z"
   },
   {
    "duration": 53,
    "start_time": "2021-10-24T16:25:45.373Z"
   },
   {
    "duration": 94,
    "start_time": "2021-10-24T16:26:10.466Z"
   },
   {
    "duration": 658,
    "start_time": "2021-10-24T16:26:14.922Z"
   },
   {
    "duration": 28,
    "start_time": "2021-10-24T16:26:38.054Z"
   },
   {
    "duration": 27,
    "start_time": "2021-10-24T16:26:40.490Z"
   },
   {
    "duration": 255,
    "start_time": "2021-10-24T16:27:10.217Z"
   },
   {
    "duration": 269,
    "start_time": "2021-10-24T16:27:31.480Z"
   },
   {
    "duration": 283,
    "start_time": "2021-10-24T16:27:58.274Z"
   },
   {
    "duration": 91,
    "start_time": "2021-10-24T16:28:08.256Z"
   },
   {
    "duration": 95,
    "start_time": "2021-10-24T16:28:26.655Z"
   },
   {
    "duration": 266,
    "start_time": "2021-10-24T16:28:31.527Z"
   },
   {
    "duration": 315,
    "start_time": "2021-10-24T16:28:41.895Z"
   },
   {
    "duration": 16,
    "start_time": "2021-10-24T16:28:49.991Z"
   },
   {
    "duration": 5,
    "start_time": "2021-10-24T16:31:27.870Z"
   },
   {
    "duration": 534,
    "start_time": "2021-10-24T16:31:29.916Z"
   },
   {
    "duration": 461,
    "start_time": "2021-10-24T16:38:49.798Z"
   },
   {
    "duration": 263,
    "start_time": "2021-10-24T16:39:16.413Z"
   },
   {
    "duration": 36,
    "start_time": "2021-10-24T16:39:29.311Z"
   },
   {
    "duration": 53,
    "start_time": "2021-10-24T16:41:48.245Z"
   },
   {
    "duration": 56,
    "start_time": "2021-10-24T16:42:03.052Z"
   },
   {
    "duration": 92,
    "start_time": "2021-10-24T16:42:24.851Z"
   },
   {
    "duration": 271,
    "start_time": "2021-10-24T16:42:29.483Z"
   },
   {
    "duration": 474,
    "start_time": "2021-10-24T16:44:13.971Z"
   },
   {
    "duration": 290,
    "start_time": "2021-10-24T16:44:47.785Z"
   },
   {
    "duration": 6604,
    "start_time": "2021-10-24T16:45:13.594Z"
   },
   {
    "duration": 576,
    "start_time": "2021-10-24T16:45:26.149Z"
   },
   {
    "duration": 6324,
    "start_time": "2021-10-24T16:45:30.969Z"
   },
   {
    "duration": 584,
    "start_time": "2021-10-24T16:46:15.071Z"
   },
   {
    "duration": 594,
    "start_time": "2021-10-24T16:46:37.638Z"
   },
   {
    "duration": 6101,
    "start_time": "2021-10-24T16:46:48.143Z"
   },
   {
    "duration": 37,
    "start_time": "2021-10-24T16:47:03.825Z"
   },
   {
    "duration": 53,
    "start_time": "2021-10-24T16:47:38.344Z"
   },
   {
    "duration": 5,
    "start_time": "2021-10-24T16:48:14.479Z"
   },
   {
    "duration": 22,
    "start_time": "2021-10-24T16:48:17.942Z"
   },
   {
    "duration": 5,
    "start_time": "2021-10-24T16:49:23.087Z"
   },
   {
    "duration": 26,
    "start_time": "2021-10-24T16:49:25.870Z"
   },
   {
    "duration": 16,
    "start_time": "2021-10-24T16:50:27.502Z"
   },
   {
    "duration": 87,
    "start_time": "2021-10-24T16:51:07.308Z"
   },
   {
    "duration": 15,
    "start_time": "2021-10-24T16:51:25.211Z"
   },
   {
    "duration": 6,
    "start_time": "2021-10-24T16:52:23.277Z"
   },
   {
    "duration": 22,
    "start_time": "2021-10-24T16:52:35.994Z"
   },
   {
    "duration": 254,
    "start_time": "2021-10-24T16:52:59.938Z"
   },
   {
    "duration": 23,
    "start_time": "2021-10-24T16:53:24.442Z"
   },
   {
    "duration": 83,
    "start_time": "2021-10-24T16:55:24.713Z"
   },
   {
    "duration": 92,
    "start_time": "2021-10-24T16:55:37.025Z"
   },
   {
    "duration": 5,
    "start_time": "2021-10-25T08:38:19.894Z"
   },
   {
    "duration": 2346,
    "start_time": "2021-10-25T08:39:40.466Z"
   },
   {
    "duration": 238,
    "start_time": "2021-10-25T08:39:49.627Z"
   },
   {
    "duration": 212,
    "start_time": "2021-10-25T08:40:01.546Z"
   },
   {
    "duration": 766,
    "start_time": "2021-10-25T08:40:15.229Z"
   },
   {
    "duration": 180,
    "start_time": "2021-10-25T08:40:15.997Z"
   },
   {
    "duration": 25,
    "start_time": "2021-10-25T08:40:16.180Z"
   },
   {
    "duration": 15,
    "start_time": "2021-10-25T08:40:16.208Z"
   },
   {
    "duration": 19,
    "start_time": "2021-10-25T08:40:16.225Z"
   },
   {
    "duration": 43,
    "start_time": "2021-10-25T08:40:16.246Z"
   },
   {
    "duration": 11,
    "start_time": "2021-10-25T08:40:16.292Z"
   },
   {
    "duration": 33,
    "start_time": "2021-10-25T08:40:16.307Z"
   },
   {
    "duration": 43,
    "start_time": "2021-10-25T08:40:16.343Z"
   },
   {
    "duration": 30,
    "start_time": "2021-10-25T08:40:16.389Z"
   },
   {
    "duration": 114,
    "start_time": "2021-10-25T08:40:16.421Z"
   },
   {
    "duration": 115,
    "start_time": "2021-10-25T08:40:16.537Z"
   },
   {
    "duration": 83,
    "start_time": "2021-10-25T08:40:16.654Z"
   },
   {
    "duration": 29,
    "start_time": "2021-10-25T08:40:16.739Z"
   },
   {
    "duration": 3,
    "start_time": "2021-10-25T08:40:16.771Z"
   },
   {
    "duration": 21,
    "start_time": "2021-10-25T08:40:16.776Z"
   },
   {
    "duration": 15,
    "start_time": "2021-10-25T08:40:16.799Z"
   },
   {
    "duration": 14,
    "start_time": "2021-10-25T08:40:16.816Z"
   },
   {
    "duration": 46,
    "start_time": "2021-10-25T08:40:16.833Z"
   },
   {
    "duration": 6,
    "start_time": "2021-10-25T08:40:16.882Z"
   },
   {
    "duration": 525,
    "start_time": "2021-10-25T08:40:16.891Z"
   },
   {
    "duration": 1713,
    "start_time": "2021-10-25T08:40:15.707Z"
   },
   {
    "duration": 1694,
    "start_time": "2021-10-25T08:40:15.728Z"
   },
   {
    "duration": 1685,
    "start_time": "2021-10-25T08:40:15.739Z"
   },
   {
    "duration": 1683,
    "start_time": "2021-10-25T08:40:15.743Z"
   },
   {
    "duration": 1683,
    "start_time": "2021-10-25T08:40:15.745Z"
   },
   {
    "duration": 1680,
    "start_time": "2021-10-25T08:40:15.750Z"
   },
   {
    "duration": 1680,
    "start_time": "2021-10-25T08:40:15.752Z"
   },
   {
    "duration": 1677,
    "start_time": "2021-10-25T08:40:15.756Z"
   },
   {
    "duration": 1678,
    "start_time": "2021-10-25T08:40:15.758Z"
   },
   {
    "duration": 1672,
    "start_time": "2021-10-25T08:40:15.766Z"
   },
   {
    "duration": 1671,
    "start_time": "2021-10-25T08:40:15.769Z"
   },
   {
    "duration": 1670,
    "start_time": "2021-10-25T08:40:15.772Z"
   },
   {
    "duration": 1670,
    "start_time": "2021-10-25T08:40:15.774Z"
   },
   {
    "duration": 1669,
    "start_time": "2021-10-25T08:40:15.777Z"
   },
   {
    "duration": 1669,
    "start_time": "2021-10-25T08:40:15.779Z"
   },
   {
    "duration": 1667,
    "start_time": "2021-10-25T08:40:15.783Z"
   },
   {
    "duration": 1666,
    "start_time": "2021-10-25T08:40:15.786Z"
   },
   {
    "duration": 12,
    "start_time": "2021-10-25T08:40:41.705Z"
   },
   {
    "duration": 5,
    "start_time": "2021-10-25T08:40:46.130Z"
   },
   {
    "duration": 14,
    "start_time": "2021-10-25T08:41:00.049Z"
   },
   {
    "duration": 477,
    "start_time": "2021-10-25T08:41:52.576Z"
   },
   {
    "duration": 499,
    "start_time": "2021-10-25T08:41:54.971Z"
   },
   {
    "duration": 41,
    "start_time": "2021-10-25T08:42:13.672Z"
   },
   {
    "duration": 34,
    "start_time": "2021-10-25T08:43:08.163Z"
   },
   {
    "duration": 33,
    "start_time": "2021-10-25T08:52:06.575Z"
   },
   {
    "duration": 27,
    "start_time": "2021-10-25T08:52:08.462Z"
   },
   {
    "duration": 235,
    "start_time": "2021-10-25T08:52:10.398Z"
   },
   {
    "duration": 224,
    "start_time": "2021-10-25T08:52:28.374Z"
   },
   {
    "duration": 35,
    "start_time": "2021-10-25T08:53:09.846Z"
   },
   {
    "duration": 29,
    "start_time": "2021-10-25T08:53:11.806Z"
   },
   {
    "duration": 42,
    "start_time": "2021-10-25T08:53:31.030Z"
   },
   {
    "duration": 40,
    "start_time": "2021-10-25T08:53:33.158Z"
   },
   {
    "duration": 112,
    "start_time": "2021-10-25T09:01:30.856Z"
   },
   {
    "duration": 552,
    "start_time": "2021-10-25T09:01:56.703Z"
   },
   {
    "duration": 36,
    "start_time": "2021-10-25T09:02:12.879Z"
   },
   {
    "duration": 265,
    "start_time": "2021-10-25T09:06:57.091Z"
   },
   {
    "duration": 33,
    "start_time": "2021-10-25T09:07:23.747Z"
   },
   {
    "duration": 4,
    "start_time": "2021-10-25T09:45:26.747Z"
   },
   {
    "duration": 221,
    "start_time": "2021-10-25T09:45:26.753Z"
   },
   {
    "duration": 15,
    "start_time": "2021-10-25T09:45:26.977Z"
   },
   {
    "duration": 13,
    "start_time": "2021-10-25T09:45:26.995Z"
   },
   {
    "duration": 9,
    "start_time": "2021-10-25T09:45:27.010Z"
   },
   {
    "duration": 61,
    "start_time": "2021-10-25T09:45:27.021Z"
   },
   {
    "duration": 5,
    "start_time": "2021-10-25T09:45:27.086Z"
   },
   {
    "duration": 34,
    "start_time": "2021-10-25T09:45:27.093Z"
   },
   {
    "duration": 48,
    "start_time": "2021-10-25T09:45:27.130Z"
   },
   {
    "duration": 31,
    "start_time": "2021-10-25T09:45:27.180Z"
   },
   {
    "duration": 105,
    "start_time": "2021-10-25T09:45:27.214Z"
   },
   {
    "duration": 108,
    "start_time": "2021-10-25T09:45:27.322Z"
   },
   {
    "duration": 92,
    "start_time": "2021-10-25T09:45:27.432Z"
   },
   {
    "duration": 17,
    "start_time": "2021-10-25T09:45:27.527Z"
   },
   {
    "duration": 21,
    "start_time": "2021-10-25T09:45:27.547Z"
   },
   {
    "duration": 17,
    "start_time": "2021-10-25T09:45:27.572Z"
   },
   {
    "duration": 17,
    "start_time": "2021-10-25T09:45:27.592Z"
   },
   {
    "duration": 57,
    "start_time": "2021-10-25T09:45:27.612Z"
   },
   {
    "duration": 15,
    "start_time": "2021-10-25T09:45:27.674Z"
   },
   {
    "duration": 4,
    "start_time": "2021-10-25T09:45:27.693Z"
   },
   {
    "duration": 68,
    "start_time": "2021-10-25T09:45:27.700Z"
   },
   {
    "duration": 28,
    "start_time": "2021-10-25T09:45:27.771Z"
   },
   {
    "duration": 35,
    "start_time": "2021-10-25T09:45:27.802Z"
   },
   {
    "duration": 53,
    "start_time": "2021-10-25T09:45:27.840Z"
   },
   {
    "duration": 41,
    "start_time": "2021-10-25T09:45:27.895Z"
   },
   {
    "duration": 53,
    "start_time": "2021-10-25T09:45:27.939Z"
   },
   {
    "duration": 13,
    "start_time": "2021-10-25T09:45:27.994Z"
   },
   {
    "duration": 5,
    "start_time": "2021-10-25T09:45:28.009Z"
   },
   {
    "duration": 7,
    "start_time": "2021-10-25T09:45:28.017Z"
   },
   {
    "duration": 7,
    "start_time": "2021-10-25T09:45:28.027Z"
   },
   {
    "duration": 30,
    "start_time": "2021-10-25T09:45:28.037Z"
   },
   {
    "duration": 9,
    "start_time": "2021-10-25T09:45:28.069Z"
   },
   {
    "duration": 11,
    "start_time": "2021-10-25T09:45:28.080Z"
   },
   {
    "duration": 6,
    "start_time": "2021-10-25T09:45:28.093Z"
   },
   {
    "duration": 18,
    "start_time": "2021-10-25T09:45:28.102Z"
   },
   {
    "duration": 8,
    "start_time": "2021-10-25T09:45:28.123Z"
   },
   {
    "duration": 14,
    "start_time": "2021-10-25T09:45:28.134Z"
   },
   {
    "duration": 7,
    "start_time": "2021-10-25T09:45:28.150Z"
   },
   {
    "duration": 227,
    "start_time": "2021-10-25T09:52:49.017Z"
   },
   {
    "duration": 39,
    "start_time": "2021-10-25T09:52:55.514Z"
   },
   {
    "duration": 39,
    "start_time": "2021-10-25T09:52:58.536Z"
   },
   {
    "duration": 13,
    "start_time": "2021-10-25T09:53:02.673Z"
   },
   {
    "duration": 28,
    "start_time": "2021-10-25T10:01:53.281Z"
   },
   {
    "duration": 29,
    "start_time": "2021-10-25T10:02:02.465Z"
   },
   {
    "duration": 5,
    "start_time": "2021-10-25T10:03:51.016Z"
   },
   {
    "duration": 22,
    "start_time": "2021-10-25T10:03:53.719Z"
   },
   {
    "duration": 20,
    "start_time": "2021-10-25T10:03:56.407Z"
   },
   {
    "duration": 22,
    "start_time": "2021-10-25T10:03:59.672Z"
   },
   {
    "duration": 23,
    "start_time": "2021-10-25T10:04:02.284Z"
   },
   {
    "duration": 24,
    "start_time": "2021-10-25T10:04:04.375Z"
   },
   {
    "duration": 14,
    "start_time": "2021-10-25T10:06:18.702Z"
   },
   {
    "duration": 21,
    "start_time": "2021-10-25T10:07:16.508Z"
   },
   {
    "duration": 23,
    "start_time": "2021-10-25T10:07:25.124Z"
   },
   {
    "duration": 278,
    "start_time": "2021-10-25T10:07:38.292Z"
   },
   {
    "duration": 253,
    "start_time": "2021-10-25T10:10:40.885Z"
   },
   {
    "duration": 234,
    "start_time": "2021-10-25T10:10:50.546Z"
   },
   {
    "duration": 1075,
    "start_time": "2021-10-25T10:14:54.928Z"
   },
   {
    "duration": 546,
    "start_time": "2021-10-25T10:15:18.088Z"
   },
   {
    "duration": 12,
    "start_time": "2021-10-25T10:15:34.879Z"
   },
   {
    "duration": 13,
    "start_time": "2021-10-25T10:15:39.806Z"
   },
   {
    "duration": 12,
    "start_time": "2021-10-25T10:15:44.214Z"
   },
   {
    "duration": 12,
    "start_time": "2021-10-25T10:16:27.944Z"
   },
   {
    "duration": 13,
    "start_time": "2021-10-25T10:16:56.398Z"
   },
   {
    "duration": 12,
    "start_time": "2021-10-25T10:20:05.940Z"
   },
   {
    "duration": 75,
    "start_time": "2021-10-25T10:22:32.737Z"
   },
   {
    "duration": 30,
    "start_time": "2021-10-25T10:22:41.730Z"
   },
   {
    "duration": 15,
    "start_time": "2021-10-25T10:22:48.786Z"
   },
   {
    "duration": 3,
    "start_time": "2021-10-25T10:53:07.728Z"
   },
   {
    "duration": 224,
    "start_time": "2021-10-25T10:53:07.734Z"
   },
   {
    "duration": 17,
    "start_time": "2021-10-25T10:53:07.967Z"
   },
   {
    "duration": 15,
    "start_time": "2021-10-25T10:53:07.986Z"
   },
   {
    "duration": 9,
    "start_time": "2021-10-25T10:53:08.004Z"
   },
   {
    "duration": 21,
    "start_time": "2021-10-25T10:53:08.015Z"
   },
   {
    "duration": 5,
    "start_time": "2021-10-25T10:53:08.068Z"
   },
   {
    "duration": 36,
    "start_time": "2021-10-25T10:53:08.076Z"
   },
   {
    "duration": 26,
    "start_time": "2021-10-25T10:53:08.114Z"
   },
   {
    "duration": 51,
    "start_time": "2021-10-25T10:53:08.143Z"
   },
   {
    "duration": 107,
    "start_time": "2021-10-25T10:53:08.197Z"
   },
   {
    "duration": 114,
    "start_time": "2021-10-25T10:53:08.306Z"
   },
   {
    "duration": 95,
    "start_time": "2021-10-25T10:53:08.423Z"
   },
   {
    "duration": 14,
    "start_time": "2021-10-25T10:53:08.520Z"
   },
   {
    "duration": 4,
    "start_time": "2021-10-25T10:53:08.537Z"
   },
   {
    "duration": 36,
    "start_time": "2021-10-25T10:53:08.543Z"
   },
   {
    "duration": 14,
    "start_time": "2021-10-25T10:53:08.582Z"
   },
   {
    "duration": 16,
    "start_time": "2021-10-25T10:53:08.599Z"
   },
   {
    "duration": 49,
    "start_time": "2021-10-25T10:53:08.620Z"
   },
   {
    "duration": 5,
    "start_time": "2021-10-25T10:53:08.672Z"
   },
   {
    "duration": 31,
    "start_time": "2021-10-25T10:53:08.680Z"
   },
   {
    "duration": 19,
    "start_time": "2021-10-25T10:53:08.714Z"
   },
   {
    "duration": 48,
    "start_time": "2021-10-25T10:53:08.735Z"
   },
   {
    "duration": 19,
    "start_time": "2021-10-25T10:53:08.786Z"
   },
   {
    "duration": 27,
    "start_time": "2021-10-25T10:53:08.807Z"
   },
   {
    "duration": 20,
    "start_time": "2021-10-25T10:53:08.868Z"
   },
   {
    "duration": 23,
    "start_time": "2021-10-25T10:53:08.890Z"
   },
   {
    "duration": 32,
    "start_time": "2021-10-25T10:53:08.916Z"
   },
   {
    "duration": 26,
    "start_time": "2021-10-25T10:53:08.951Z"
   },
   {
    "duration": 7,
    "start_time": "2021-10-25T10:53:08.980Z"
   },
   {
    "duration": 21,
    "start_time": "2021-10-25T10:53:08.990Z"
   },
   {
    "duration": 7,
    "start_time": "2021-10-25T10:53:09.013Z"
   },
   {
    "duration": 19,
    "start_time": "2021-10-25T10:53:09.022Z"
   },
   {
    "duration": 9,
    "start_time": "2021-10-25T10:53:09.044Z"
   },
   {
    "duration": 13,
    "start_time": "2021-10-25T10:53:09.056Z"
   },
   {
    "duration": 6,
    "start_time": "2021-10-25T10:53:09.072Z"
   },
   {
    "duration": 16,
    "start_time": "2021-10-25T10:53:09.081Z"
   },
   {
    "duration": 12,
    "start_time": "2021-10-25T10:53:09.099Z"
   },
   {
    "duration": 15,
    "start_time": "2021-10-25T11:07:17.871Z"
   },
   {
    "duration": 14,
    "start_time": "2021-10-25T11:07:32.616Z"
   },
   {
    "duration": 16,
    "start_time": "2021-10-25T11:07:35.527Z"
   },
   {
    "duration": 97,
    "start_time": "2021-10-25T11:15:22.690Z"
   },
   {
    "duration": 5,
    "start_time": "2021-10-25T11:15:29.906Z"
   },
   {
    "duration": 5,
    "start_time": "2021-10-25T11:15:40.657Z"
   },
   {
    "duration": 3491,
    "start_time": "2021-10-25T11:17:11.160Z"
   },
   {
    "duration": 146,
    "start_time": "2021-10-25T11:17:21.603Z"
   },
   {
    "duration": 3201,
    "start_time": "2021-10-25T11:17:38.311Z"
   },
   {
    "duration": 3429,
    "start_time": "2021-10-25T11:17:58.863Z"
   },
   {
    "duration": 3252,
    "start_time": "2021-10-25T11:19:03.512Z"
   },
   {
    "duration": 6,
    "start_time": "2021-10-25T11:19:49.213Z"
   },
   {
    "duration": 479,
    "start_time": "2021-10-25T11:19:51.343Z"
   },
   {
    "duration": 630,
    "start_time": "2021-10-25T11:23:06.227Z"
   },
   {
    "duration": 7,
    "start_time": "2021-10-25T11:23:38.036Z"
   },
   {
    "duration": 6,
    "start_time": "2021-10-25T11:24:29.513Z"
   },
   {
    "duration": 480,
    "start_time": "2021-10-25T11:24:31.762Z"
   },
   {
    "duration": 15,
    "start_time": "2021-10-25T11:27:04.128Z"
   },
   {
    "duration": 14,
    "start_time": "2021-10-25T11:27:08.583Z"
   },
   {
    "duration": 5,
    "start_time": "2021-10-25T11:27:18.335Z"
   },
   {
    "duration": 6,
    "start_time": "2021-10-25T11:28:16.951Z"
   },
   {
    "duration": 6,
    "start_time": "2021-10-25T11:28:45.626Z"
   },
   {
    "duration": 240,
    "start_time": "2021-10-25T11:28:53.765Z"
   },
   {
    "duration": 6,
    "start_time": "2021-10-25T11:29:04.237Z"
   },
   {
    "duration": 569,
    "start_time": "2021-10-25T11:31:30.180Z"
   },
   {
    "duration": 512,
    "start_time": "2021-10-25T11:32:10.709Z"
   },
   {
    "duration": 6,
    "start_time": "2021-10-25T11:32:12.627Z"
   },
   {
    "duration": 518,
    "start_time": "2021-10-25T11:32:15.011Z"
   },
   {
    "duration": 6,
    "start_time": "2021-10-25T11:32:36.371Z"
   },
   {
    "duration": 27,
    "start_time": "2021-10-25T11:32:38.074Z"
   },
   {
    "duration": 9,
    "start_time": "2021-10-25T11:32:50.987Z"
   },
   {
    "duration": 25,
    "start_time": "2021-10-25T11:32:53.570Z"
   },
   {
    "duration": 6,
    "start_time": "2021-10-25T11:32:59.083Z"
   },
   {
    "duration": 26,
    "start_time": "2021-10-25T11:33:00.979Z"
   },
   {
    "duration": 6,
    "start_time": "2021-10-25T11:33:55.681Z"
   },
   {
    "duration": 484,
    "start_time": "2021-10-25T11:33:58.153Z"
   },
   {
    "duration": 6,
    "start_time": "2021-10-25T11:34:07.026Z"
   },
   {
    "duration": 26,
    "start_time": "2021-10-25T11:34:09.049Z"
   },
   {
    "duration": 18,
    "start_time": "2021-10-25T11:35:18.768Z"
   },
   {
    "duration": 23,
    "start_time": "2021-10-25T11:36:23.112Z"
   },
   {
    "duration": 17,
    "start_time": "2021-10-25T11:36:25.960Z"
   },
   {
    "duration": 84,
    "start_time": "2021-10-25T11:41:34.227Z"
   },
   {
    "duration": 6,
    "start_time": "2021-10-25T11:42:12.052Z"
   },
   {
    "duration": 253,
    "start_time": "2021-10-25T11:42:19.739Z"
   },
   {
    "duration": 5,
    "start_time": "2021-10-25T11:42:27.731Z"
   },
   {
    "duration": 39,
    "start_time": "2021-10-25T11:44:23.841Z"
   },
   {
    "duration": 15,
    "start_time": "2021-10-25T11:44:49.722Z"
   },
   {
    "duration": 17,
    "start_time": "2021-10-25T11:45:06.528Z"
   },
   {
    "duration": 14,
    "start_time": "2021-10-25T11:45:20.545Z"
   },
   {
    "duration": 16,
    "start_time": "2021-10-25T11:46:05.815Z"
   },
   {
    "duration": 16,
    "start_time": "2021-10-25T11:46:42.607Z"
   },
   {
    "duration": 14,
    "start_time": "2021-10-25T11:47:34.935Z"
   },
   {
    "duration": 6,
    "start_time": "2021-10-25T11:47:58.999Z"
   },
   {
    "duration": 259,
    "start_time": "2021-10-25T11:48:52.779Z"
   },
   {
    "duration": 8,
    "start_time": "2021-10-25T11:49:20.341Z"
   },
   {
    "duration": 7,
    "start_time": "2021-10-25T11:49:26.972Z"
   },
   {
    "duration": 3,
    "start_time": "2021-10-25T11:50:07.294Z"
   },
   {
    "duration": 1485,
    "start_time": "2021-10-25T11:50:07.300Z"
   },
   {
    "duration": 16,
    "start_time": "2021-10-25T11:50:08.788Z"
   },
   {
    "duration": 15,
    "start_time": "2021-10-25T11:50:08.806Z"
   },
   {
    "duration": 8,
    "start_time": "2021-10-25T11:50:08.824Z"
   },
   {
    "duration": 54,
    "start_time": "2021-10-25T11:50:08.834Z"
   },
   {
    "duration": 9,
    "start_time": "2021-10-25T11:50:08.891Z"
   },
   {
    "duration": 40,
    "start_time": "2021-10-25T11:50:08.903Z"
   },
   {
    "duration": 24,
    "start_time": "2021-10-25T11:50:08.966Z"
   },
   {
    "duration": 31,
    "start_time": "2021-10-25T11:50:08.992Z"
   },
   {
    "duration": 122,
    "start_time": "2021-10-25T11:50:09.026Z"
   },
   {
    "duration": 124,
    "start_time": "2021-10-25T11:50:09.150Z"
   },
   {
    "duration": 98,
    "start_time": "2021-10-25T11:50:09.277Z"
   },
   {
    "duration": 16,
    "start_time": "2021-10-25T11:50:09.378Z"
   },
   {
    "duration": 4,
    "start_time": "2021-10-25T11:50:09.397Z"
   },
   {
    "duration": 20,
    "start_time": "2021-10-25T11:50:09.404Z"
   },
   {
    "duration": 43,
    "start_time": "2021-10-25T11:50:09.427Z"
   },
   {
    "duration": 14,
    "start_time": "2021-10-25T11:50:09.473Z"
   },
   {
    "duration": 13,
    "start_time": "2021-10-25T11:50:09.492Z"
   },
   {
    "duration": 5,
    "start_time": "2021-10-25T11:50:09.508Z"
   },
   {
    "duration": 67,
    "start_time": "2021-10-25T11:50:09.515Z"
   },
   {
    "duration": 20,
    "start_time": "2021-10-25T11:50:09.585Z"
   },
   {
    "duration": 25,
    "start_time": "2021-10-25T11:50:09.607Z"
   },
   {
    "duration": 46,
    "start_time": "2021-10-25T11:50:09.634Z"
   },
   {
    "duration": 23,
    "start_time": "2021-10-25T11:50:09.682Z"
   },
   {
    "duration": 23,
    "start_time": "2021-10-25T11:50:09.707Z"
   },
   {
    "duration": 45,
    "start_time": "2021-10-25T11:50:09.733Z"
   },
   {
    "duration": 19,
    "start_time": "2021-10-25T11:50:09.781Z"
   },
   {
    "duration": 14,
    "start_time": "2021-10-25T11:50:09.802Z"
   },
   {
    "duration": 8,
    "start_time": "2021-10-25T11:50:09.819Z"
   },
   {
    "duration": 33,
    "start_time": "2021-10-25T11:50:09.868Z"
   },
   {
    "duration": 20,
    "start_time": "2021-10-25T11:50:09.904Z"
   },
   {
    "duration": 52,
    "start_time": "2021-10-25T11:50:09.927Z"
   },
   {
    "duration": 17,
    "start_time": "2021-10-25T11:50:09.981Z"
   },
   {
    "duration": 10,
    "start_time": "2021-10-25T11:50:10.001Z"
   },
   {
    "duration": 10,
    "start_time": "2021-10-25T11:50:10.014Z"
   },
   {
    "duration": 46,
    "start_time": "2021-10-25T11:50:10.026Z"
   },
   {
    "duration": 6,
    "start_time": "2021-10-25T11:50:10.075Z"
   },
   {
    "duration": 567,
    "start_time": "2021-10-25T14:33:42.071Z"
   },
   {
    "duration": 143,
    "start_time": "2021-10-25T14:33:42.640Z"
   },
   {
    "duration": 17,
    "start_time": "2021-10-25T14:33:42.786Z"
   },
   {
    "duration": 14,
    "start_time": "2021-10-25T14:33:42.805Z"
   },
   {
    "duration": 8,
    "start_time": "2021-10-25T14:33:42.821Z"
   },
   {
    "duration": 24,
    "start_time": "2021-10-25T14:33:42.831Z"
   },
   {
    "duration": 10,
    "start_time": "2021-10-25T14:33:42.857Z"
   },
   {
    "duration": 26,
    "start_time": "2021-10-25T14:33:42.868Z"
   },
   {
    "duration": 20,
    "start_time": "2021-10-25T14:33:42.898Z"
   },
   {
    "duration": 43,
    "start_time": "2021-10-25T14:33:42.921Z"
   },
   {
    "duration": 59,
    "start_time": "2021-10-25T14:33:42.966Z"
   },
   {
    "duration": 81,
    "start_time": "2021-10-25T14:33:43.027Z"
   },
   {
    "duration": 69,
    "start_time": "2021-10-25T14:33:43.110Z"
   },
   {
    "duration": 10,
    "start_time": "2021-10-25T14:33:43.180Z"
   },
   {
    "duration": 3,
    "start_time": "2021-10-25T14:33:43.191Z"
   },
   {
    "duration": 18,
    "start_time": "2021-10-25T14:33:43.195Z"
   },
   {
    "duration": 9,
    "start_time": "2021-10-25T14:33:43.215Z"
   },
   {
    "duration": 27,
    "start_time": "2021-10-25T14:33:43.226Z"
   },
   {
    "duration": 21,
    "start_time": "2021-10-25T14:33:43.254Z"
   },
   {
    "duration": 7,
    "start_time": "2021-10-25T14:33:43.277Z"
   },
   {
    "duration": 33,
    "start_time": "2021-10-25T14:33:43.286Z"
   },
   {
    "duration": 30,
    "start_time": "2021-10-25T14:33:43.321Z"
   },
   {
    "duration": 16,
    "start_time": "2021-10-25T14:33:43.353Z"
   },
   {
    "duration": 14,
    "start_time": "2021-10-25T14:33:43.371Z"
   },
   {
    "duration": 17,
    "start_time": "2021-10-25T14:33:43.387Z"
   },
   {
    "duration": 44,
    "start_time": "2021-10-25T14:33:43.406Z"
   },
   {
    "duration": 9,
    "start_time": "2021-10-25T14:33:43.453Z"
   },
   {
    "duration": 14,
    "start_time": "2021-10-25T14:33:43.464Z"
   },
   {
    "duration": 10,
    "start_time": "2021-10-25T14:33:43.479Z"
   },
   {
    "duration": 4,
    "start_time": "2021-10-25T14:33:43.491Z"
   },
   {
    "duration": 51,
    "start_time": "2021-10-25T14:33:43.498Z"
   },
   {
    "duration": 13,
    "start_time": "2021-10-25T14:33:43.551Z"
   },
   {
    "duration": 17,
    "start_time": "2021-10-25T14:33:43.566Z"
   },
   {
    "duration": 13,
    "start_time": "2021-10-25T14:33:43.585Z"
   },
   {
    "duration": 46,
    "start_time": "2021-10-25T14:33:43.599Z"
   },
   {
    "duration": 5,
    "start_time": "2021-10-25T14:33:43.647Z"
   },
   {
    "duration": 8,
    "start_time": "2021-10-25T14:33:43.654Z"
   },
   {
    "duration": 6,
    "start_time": "2021-10-25T14:33:43.663Z"
   },
   {
    "duration": 3,
    "start_time": "2021-10-25T14:34:07.769Z"
   },
   {
    "duration": 159,
    "start_time": "2021-10-25T14:34:07.773Z"
   },
   {
    "duration": 12,
    "start_time": "2021-10-25T14:34:07.934Z"
   },
   {
    "duration": 23,
    "start_time": "2021-10-25T14:34:07.947Z"
   },
   {
    "duration": 14,
    "start_time": "2021-10-25T14:34:07.971Z"
   },
   {
    "duration": 32,
    "start_time": "2021-10-25T14:34:07.987Z"
   },
   {
    "duration": 3,
    "start_time": "2021-10-25T14:34:08.022Z"
   },
   {
    "duration": 28,
    "start_time": "2021-10-25T14:34:08.027Z"
   },
   {
    "duration": 37,
    "start_time": "2021-10-25T14:34:08.057Z"
   },
   {
    "duration": 44,
    "start_time": "2021-10-25T14:34:08.096Z"
   },
   {
    "duration": 72,
    "start_time": "2021-10-25T14:34:08.142Z"
   },
   {
    "duration": 61,
    "start_time": "2021-10-25T14:34:08.216Z"
   },
   {
    "duration": 49,
    "start_time": "2021-10-25T14:34:08.278Z"
   },
   {
    "duration": 19,
    "start_time": "2021-10-25T14:34:08.329Z"
   },
   {
    "duration": 10,
    "start_time": "2021-10-25T14:34:08.350Z"
   },
   {
    "duration": 31,
    "start_time": "2021-10-25T14:34:08.362Z"
   },
   {
    "duration": 30,
    "start_time": "2021-10-25T14:34:08.394Z"
   },
   {
    "duration": 23,
    "start_time": "2021-10-25T14:34:08.426Z"
   },
   {
    "duration": 41,
    "start_time": "2021-10-25T14:34:08.452Z"
   },
   {
    "duration": 7,
    "start_time": "2021-10-25T14:34:08.495Z"
   },
   {
    "duration": 35,
    "start_time": "2021-10-25T14:34:08.504Z"
   },
   {
    "duration": 25,
    "start_time": "2021-10-25T14:34:08.541Z"
   },
   {
    "duration": 28,
    "start_time": "2021-10-25T14:34:08.568Z"
   },
   {
    "duration": 24,
    "start_time": "2021-10-25T14:34:08.598Z"
   },
   {
    "duration": 32,
    "start_time": "2021-10-25T14:34:08.624Z"
   },
   {
    "duration": 22,
    "start_time": "2021-10-25T14:34:08.658Z"
   },
   {
    "duration": 29,
    "start_time": "2021-10-25T14:34:08.681Z"
   },
   {
    "duration": 33,
    "start_time": "2021-10-25T14:34:08.711Z"
   },
   {
    "duration": 32,
    "start_time": "2021-10-25T14:34:08.746Z"
   },
   {
    "duration": 21,
    "start_time": "2021-10-25T14:34:08.780Z"
   },
   {
    "duration": 65,
    "start_time": "2021-10-25T14:34:08.803Z"
   },
   {
    "duration": 43,
    "start_time": "2021-10-25T14:34:08.870Z"
   },
   {
    "duration": 39,
    "start_time": "2021-10-25T14:34:08.914Z"
   },
   {
    "duration": 26,
    "start_time": "2021-10-25T14:34:08.955Z"
   },
   {
    "duration": 31,
    "start_time": "2021-10-25T14:34:08.983Z"
   },
   {
    "duration": 30,
    "start_time": "2021-10-25T14:34:09.015Z"
   },
   {
    "duration": 35,
    "start_time": "2021-10-25T14:34:09.046Z"
   },
   {
    "duration": 29,
    "start_time": "2021-10-25T14:34:09.082Z"
   },
   {
    "duration": 492,
    "start_time": "2021-11-09T18:00:27.371Z"
   },
   {
    "duration": 554,
    "start_time": "2021-11-09T18:00:30.106Z"
   },
   {
    "duration": 1384,
    "start_time": "2021-11-09T18:00:35.009Z"
   },
   {
    "duration": 441,
    "start_time": "2021-11-09T18:00:37.459Z"
   },
   {
    "duration": 388,
    "start_time": "2021-11-09T18:00:40.714Z"
   },
   {
    "duration": 102,
    "start_time": "2021-11-09T18:00:41.768Z"
   }
  ],
  "colab": {
   "collapsed_sections": [
    "E0vqbgi9ay0H",
    "VUC88oWjTJw2"
   ],
   "name": "yandex_music_project_2021.2.ipynb",
   "provenance": []
  },
  "kernelspec": {
   "display_name": "Python 3 (ipykernel)",
   "language": "python",
   "name": "python3"
  },
  "language_info": {
   "codemirror_mode": {
    "name": "ipython",
    "version": 3
   },
   "file_extension": ".py",
   "mimetype": "text/x-python",
   "name": "python",
   "nbconvert_exporter": "python",
   "pygments_lexer": "ipython3",
   "version": "3.9.7"
  },
  "toc": {
   "base_numbering": 1,
   "nav_menu": {},
   "number_sections": true,
   "sideBar": true,
   "skip_h1_title": true,
   "title_cell": "Table of Contents",
   "title_sidebar": "Contents",
   "toc_cell": false,
   "toc_position": {
    "height": "calc(100% - 180px)",
    "left": "10px",
    "top": "150px",
    "width": "366.391px"
   },
   "toc_section_display": true,
   "toc_window_display": false
  }
 },
 "nbformat": 4,
 "nbformat_minor": 1
}
