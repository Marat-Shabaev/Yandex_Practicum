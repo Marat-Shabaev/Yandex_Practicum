{
 "cells": [
  {
   "cell_type": "markdown",
   "metadata": {
    "toc": true
   },
   "source": [
    "<h1>Содержание<span class=\"tocSkip\"></span></h1>\n",
    "<div class=\"toc\"><ul class=\"toc-item\"><li><span><a href=\"#Изучение-данных-из-файла\" data-toc-modified-id=\"Изучение-данных-из-файла-1\"><span class=\"toc-item-num\">1&nbsp;&nbsp;</span>Изучение данных из файла</a></span></li><li><span><a href=\"#Предобработка-данных\" data-toc-modified-id=\"Предобработка-данных-2\"><span class=\"toc-item-num\">2&nbsp;&nbsp;</span>Предобработка данных</a></span><ul class=\"toc-item\"><li><span><a href=\"#Расчитаем-выручку\" data-toc-modified-id=\"Расчитаем-выручку-2.1\"><span class=\"toc-item-num\">2.1&nbsp;&nbsp;</span>Расчитаем выручку</a></span></li></ul></li><li><span><a href=\"#Анализ-данных\" data-toc-modified-id=\"Анализ-данных-3\"><span class=\"toc-item-num\">3&nbsp;&nbsp;</span>Анализ данных</a></span><ul class=\"toc-item\"><li><span><a href=\"#Сколько-минут-разговора,-сколько-сообщений-и-какой-объём-интернет-трафика-требуется-пользователям-каждого-тарифа-в-месяц?\" data-toc-modified-id=\"Сколько-минут-разговора,-сколько-сообщений-и-какой-объём-интернет-трафика-требуется-пользователям-каждого-тарифа-в-месяц?-3.1\"><span class=\"toc-item-num\">3.1&nbsp;&nbsp;</span>Сколько минут разговора, сколько сообщений и какой объём интернет-трафика требуется пользователям каждого тарифа в месяц?</a></span></li><li><span><a href=\"#Посчитаем-среднее-количество,-дисперсию-и-стандартное-отклонение.\" data-toc-modified-id=\"Посчитаем-среднее-количество,-дисперсию-и-стандартное-отклонение.-3.2\"><span class=\"toc-item-num\">3.2&nbsp;&nbsp;</span>Посчитаем среднее количество, дисперсию и стандартное отклонение.</a></span></li><li><span><a href=\"#Построим-гистограммы\" data-toc-modified-id=\"Построим-гистограммы-3.3\"><span class=\"toc-item-num\">3.3&nbsp;&nbsp;</span>Построим гистограммы</a></span><ul class=\"toc-item\"><li><span><a href=\"#Звонки\" data-toc-modified-id=\"Звонки-3.3.1\"><span class=\"toc-item-num\">3.3.1&nbsp;&nbsp;</span>Звонки</a></span></li><li><span><a href=\"#Сообщения\" data-toc-modified-id=\"Сообщения-3.3.2\"><span class=\"toc-item-num\">3.3.2&nbsp;&nbsp;</span>Сообщения</a></span></li><li><span><a href=\"#Интернет\" data-toc-modified-id=\"Интернет-3.3.3\"><span class=\"toc-item-num\">3.3.3&nbsp;&nbsp;</span>Интернет</a></span></li></ul></li></ul></li><li><span><a href=\"#Проверка-гипотез\" data-toc-modified-id=\"Проверка-гипотез-4\"><span class=\"toc-item-num\">4&nbsp;&nbsp;</span>Проверка гипотез</a></span><ul class=\"toc-item\"><li><span><a href=\"#Cредняя-выручка-пользователей-тарифов-«Ультра»-и-«Смарт»-различаются\" data-toc-modified-id=\"Cредняя-выручка-пользователей-тарифов-«Ультра»-и-«Смарт»-различаются-4.1\"><span class=\"toc-item-num\">4.1&nbsp;&nbsp;</span>Cредняя выручка пользователей тарифов «Ультра» и «Смарт» различаются</a></span></li><li><span><a href=\"#Cредняя-выручка-пользователей-из-Москвы-отличается-от-выручки-пользователей-из-других-регионов.\" data-toc-modified-id=\"Cредняя-выручка-пользователей-из-Москвы-отличается-от-выручки-пользователей-из-других-регионов.-4.2\"><span class=\"toc-item-num\">4.2&nbsp;&nbsp;</span>Cредняя выручка пользователей из Москвы отличается от выручки пользователей из других регионов.</a></span></li><li><span><a href=\"#Вывод\" data-toc-modified-id=\"Вывод-4.3\"><span class=\"toc-item-num\">4.3&nbsp;&nbsp;</span>Вывод</a></span></li></ul></li></ul></div>"
   ]
  },
  {
   "cell_type": "markdown",
   "metadata": {},
   "source": [
    "# Определение перспективного тарифа для телеком-компании"
   ]
  },
  {
   "cell_type": "markdown",
   "metadata": {},
   "source": [
    "Необходимо провести предварительный анализ тарифов на небольшой выборке клиентов, на двух тарифных планах: «Смарт» и «Ультра», чтобы понять, какой тариф приносит больше денег и скорректировать рекламный бюджет. Даны данные 500 пользователей «Мегалайна»: кто они, откуда, каким тарифом пользуются, сколько звонков и сообщений каждый отправил за 2018 год. \n",
    "\n",
    "**Проверить гипотезы:**\n",
    "* Cредняя выручка пользователей тарифов «Ультра» и «Смарт» различаются;\n",
    "* Cредняя выручка пользователей из Москвы отличается от выручки пользователей из других регионов.\n",
    "\n",
    "**Описание тарифов**\n",
    "\n",
    "***Тариф «Смарт»***\n",
    "\n",
    "* Ежемесячная плата: 550 рублей\n",
    "* Включено 500 минут разговора, 50 сообщений и 15 Гб интернет-трафика\n",
    "* Стоимость услуг сверх тарифного пакета: 1. минута разговора: 3 рубля («Мегалайн» всегда округляет вверх значения минут и мегабайтов. Если пользователь проговорил всего 1 секунду, в тарифе засчитывается целая минута); 2. сообщение: 3 рубля; 3. 1 Гб интернет-трафика: 200 рублей.\n",
    "\n",
    "***Тариф «Ультра»***\n",
    "* Ежемесячная плата: 1950 рублей\n",
    "* Включено 3000 минут разговора, 1000 сообщений и 30 Гб интернет-трафика\n",
    "* Стоимость услуг сверх тарифного пакета: 1. минута разговора: 1 рубль; 2. сообщение: 1 рубль; 3. 1 Гб интернет-трафика: 150 рублей.\n",
    "\n",
    "**Описание данных:**\n",
    "\n",
    "***Таблица users (информация о пользователях):***\n",
    "\n",
    "* `user_id` — уникальный идентификатор пользователя\n",
    "* `first_name` — имя пользователя\n",
    "* `last_name` — фамилия пользователя\n",
    "* `age` — возраст пользователя (годы)\n",
    "* `reg_date` — дата подключения тарифа (день, месяц, год)\n",
    "* `churn_date` — дата прекращения пользования тарифом (если значение пропущено, то тариф ещё действовал на момент выгрузки данных)\n",
    "* `city` — город проживания пользователя\n",
    "* `tarif` — название тарифного плана\n",
    "\n",
    "***Таблица calls (информация о звонках):***\n",
    "\n",
    "* `id` — уникальный номер звонка\n",
    "* `call_date` — дата звонка\n",
    "* `duration` — длительность звонка в минутах\n",
    "* `user_id` — идентификатор пользователя, сделавшего звонок\n",
    "\n",
    "***Таблица messages (информация о сообщениях):***\n",
    "\n",
    "* `id` — уникальный номер сообщения\n",
    "* `message_date` — дата сообщения\n",
    "* `user_id` — идентификатор пользователя, отправившего сообщение\n",
    "\n",
    "***Таблица internet (информация об интернет-сессиях):***\n",
    "\n",
    "* `id` — уникальный номер сессии\n",
    "* `mb_used` — объём потраченного за сессию интернет-трафика (в мегабайтах)\n",
    "* `session_date` — дата интернет-сессии\n",
    "* `user_id` — идентификатор пользователя\n",
    "\n",
    "***Таблица tariffs (информация о тарифах):***\n",
    "\n",
    "* `tariff_name` — название тарифа\n",
    "* `rub_monthly_fee` — ежемесячная абонентская плата в рублях\n",
    "* `minutes_included` — количество минут разговора в месяц, включённых в абонентскую плату\n",
    "* `messages_included` — количество сообщений в месяц, включённых в абонентскую плату\n",
    "* `mb_per_month_included` — объём интернет-трафика, включённого в абонентскую плату (в мегабайтах)\n",
    "* `rub_per_minute` — стоимость минуты разговора сверх тарифного пакета (например, если в тарифе 100 минут разговора в месяц, то со 101 минуты будет взиматься плата)\n",
    "* `rub_per_message` — стоимость отправки сообщения сверх тарифного пакета\n",
    "* `rub_per_gb` — стоимость дополнительного гигабайта интернет-трафика сверх тарифного пакета (1 гигабайт = 1024 мегабайта)"
   ]
  },
  {
   "cell_type": "markdown",
   "metadata": {},
   "source": [
    "## Изучение данных из файла"
   ]
  },
  {
   "cell_type": "code",
   "execution_count": 1,
   "metadata": {},
   "outputs": [],
   "source": [
    "import pandas as pd\n",
    "import matplotlib.pyplot as plt\n",
    "import numpy as np\n",
    "from scipy import stats as st"
   ]
  },
  {
   "cell_type": "code",
   "execution_count": 2,
   "metadata": {},
   "outputs": [],
   "source": [
    "pd.set_option('display.float_format', '{:,.2f}'.format)\n",
    "try:\n",
    "    calls = pd.read_csv(r'C:/Users/Home/datasets/calls.csv')\n",
    "    internet = pd.read_csv('C:/Users/Home/datasets/internet.csv')\n",
    "    messages = pd.read_csv('C:/Users/Home/datasets/messages.csv')\n",
    "    tariffs = pd.read_csv('C:/Users/Home/datasets/tariffs.csv')\n",
    "    users = pd.read_csv('C:/Users/Home/datasets/users.csv')\n",
    "except:\n",
    "    calls = pd.read_csv('/datasets/calls.csv')\n",
    "    internet = pd.read_csv('/datasets/internet.csv')\n",
    "    messages = pd.read_csv('/datasets/messages.csv')\n",
    "    tariffs = pd.read_csv('/datasets/tariffs.csv')\n",
    "    users = pd.read_csv('/datasets/users.csv')    "
   ]
  },
  {
   "cell_type": "code",
   "execution_count": 3,
   "metadata": {
    "scrolled": true
   },
   "outputs": [
    {
     "data": {
      "text/html": [
       "<div>\n",
       "<style scoped>\n",
       "    .dataframe tbody tr th:only-of-type {\n",
       "        vertical-align: middle;\n",
       "    }\n",
       "\n",
       "    .dataframe tbody tr th {\n",
       "        vertical-align: top;\n",
       "    }\n",
       "\n",
       "    .dataframe thead th {\n",
       "        text-align: right;\n",
       "    }\n",
       "</style>\n",
       "<table border=\"1\" class=\"dataframe\">\n",
       "  <thead>\n",
       "    <tr style=\"text-align: right;\">\n",
       "      <th></th>\n",
       "      <th>id</th>\n",
       "      <th>call_date</th>\n",
       "      <th>duration</th>\n",
       "      <th>user_id</th>\n",
       "    </tr>\n",
       "  </thead>\n",
       "  <tbody>\n",
       "    <tr>\n",
       "      <th>11290</th>\n",
       "      <td>1029_179</td>\n",
       "      <td>2018-12-08</td>\n",
       "      <td>13.28</td>\n",
       "      <td>1029</td>\n",
       "    </tr>\n",
       "    <tr>\n",
       "      <th>192201</th>\n",
       "      <td>1472_14</td>\n",
       "      <td>2018-10-21</td>\n",
       "      <td>5.34</td>\n",
       "      <td>1472</td>\n",
       "    </tr>\n",
       "  </tbody>\n",
       "</table>\n",
       "</div>"
      ],
      "text/plain": [
       "              id   call_date  duration  user_id\n",
       "11290   1029_179  2018-12-08     13.28     1029\n",
       "192201   1472_14  2018-10-21      5.34     1472"
      ]
     },
     "metadata": {},
     "output_type": "display_data"
    },
    {
     "name": "stdout",
     "output_type": "stream",
     "text": [
      "<class 'pandas.core.frame.DataFrame'>\n",
      "RangeIndex: 202607 entries, 0 to 202606\n",
      "Data columns (total 4 columns):\n",
      " #   Column     Non-Null Count   Dtype  \n",
      "---  ------     --------------   -----  \n",
      " 0   id         202607 non-null  object \n",
      " 1   call_date  202607 non-null  object \n",
      " 2   duration   202607 non-null  float64\n",
      " 3   user_id    202607 non-null  int64  \n",
      "dtypes: float64(1), int64(1), object(2)\n",
      "memory usage: 6.2+ MB\n"
     ]
    },
    {
     "data": {
      "text/plain": [
       "id           0\n",
       "call_date    0\n",
       "duration     0\n",
       "user_id      0\n",
       "dtype: int64"
      ]
     },
     "metadata": {},
     "output_type": "display_data"
    },
    {
     "data": {
      "text/html": [
       "<div>\n",
       "<style scoped>\n",
       "    .dataframe tbody tr th:only-of-type {\n",
       "        vertical-align: middle;\n",
       "    }\n",
       "\n",
       "    .dataframe tbody tr th {\n",
       "        vertical-align: top;\n",
       "    }\n",
       "\n",
       "    .dataframe thead th {\n",
       "        text-align: right;\n",
       "    }\n",
       "</style>\n",
       "<table border=\"1\" class=\"dataframe\">\n",
       "  <thead>\n",
       "    <tr style=\"text-align: right;\">\n",
       "      <th></th>\n",
       "      <th>duration</th>\n",
       "      <th>user_id</th>\n",
       "    </tr>\n",
       "  </thead>\n",
       "  <tbody>\n",
       "    <tr>\n",
       "      <th>count</th>\n",
       "      <td>202,607.00</td>\n",
       "      <td>202,607.00</td>\n",
       "    </tr>\n",
       "    <tr>\n",
       "      <th>mean</th>\n",
       "      <td>6.76</td>\n",
       "      <td>1,253.94</td>\n",
       "    </tr>\n",
       "    <tr>\n",
       "      <th>std</th>\n",
       "      <td>5.84</td>\n",
       "      <td>144.72</td>\n",
       "    </tr>\n",
       "    <tr>\n",
       "      <th>min</th>\n",
       "      <td>0.00</td>\n",
       "      <td>1,000.00</td>\n",
       "    </tr>\n",
       "    <tr>\n",
       "      <th>25%</th>\n",
       "      <td>1.30</td>\n",
       "      <td>1,126.00</td>\n",
       "    </tr>\n",
       "    <tr>\n",
       "      <th>50%</th>\n",
       "      <td>6.00</td>\n",
       "      <td>1,260.00</td>\n",
       "    </tr>\n",
       "    <tr>\n",
       "      <th>75%</th>\n",
       "      <td>10.70</td>\n",
       "      <td>1,379.00</td>\n",
       "    </tr>\n",
       "    <tr>\n",
       "      <th>max</th>\n",
       "      <td>38.00</td>\n",
       "      <td>1,499.00</td>\n",
       "    </tr>\n",
       "  </tbody>\n",
       "</table>\n",
       "</div>"
      ],
      "text/plain": [
       "        duration    user_id\n",
       "count 202,607.00 202,607.00\n",
       "mean        6.76   1,253.94\n",
       "std         5.84     144.72\n",
       "min         0.00   1,000.00\n",
       "25%         1.30   1,126.00\n",
       "50%         6.00   1,260.00\n",
       "75%        10.70   1,379.00\n",
       "max        38.00   1,499.00"
      ]
     },
     "metadata": {},
     "output_type": "display_data"
    },
    {
     "name": "stdout",
     "output_type": "stream",
     "text": [
      "____________________________________________________\n"
     ]
    },
    {
     "data": {
      "text/html": [
       "<div>\n",
       "<style scoped>\n",
       "    .dataframe tbody tr th:only-of-type {\n",
       "        vertical-align: middle;\n",
       "    }\n",
       "\n",
       "    .dataframe tbody tr th {\n",
       "        vertical-align: top;\n",
       "    }\n",
       "\n",
       "    .dataframe thead th {\n",
       "        text-align: right;\n",
       "    }\n",
       "</style>\n",
       "<table border=\"1\" class=\"dataframe\">\n",
       "  <thead>\n",
       "    <tr style=\"text-align: right;\">\n",
       "      <th></th>\n",
       "      <th>Unnamed: 0</th>\n",
       "      <th>id</th>\n",
       "      <th>mb_used</th>\n",
       "      <th>session_date</th>\n",
       "      <th>user_id</th>\n",
       "    </tr>\n",
       "  </thead>\n",
       "  <tbody>\n",
       "    <tr>\n",
       "      <th>133777</th>\n",
       "      <td>133777</td>\n",
       "      <td>1448_134</td>\n",
       "      <td>591.36</td>\n",
       "      <td>2018-09-24</td>\n",
       "      <td>1448</td>\n",
       "    </tr>\n",
       "    <tr>\n",
       "      <th>36845</th>\n",
       "      <td>36845</td>\n",
       "      <td>1127_195</td>\n",
       "      <td>0.00</td>\n",
       "      <td>2018-09-24</td>\n",
       "      <td>1127</td>\n",
       "    </tr>\n",
       "  </tbody>\n",
       "</table>\n",
       "</div>"
      ],
      "text/plain": [
       "        Unnamed: 0        id  mb_used session_date  user_id\n",
       "133777      133777  1448_134   591.36   2018-09-24     1448\n",
       "36845        36845  1127_195     0.00   2018-09-24     1127"
      ]
     },
     "metadata": {},
     "output_type": "display_data"
    },
    {
     "name": "stdout",
     "output_type": "stream",
     "text": [
      "<class 'pandas.core.frame.DataFrame'>\n",
      "RangeIndex: 149396 entries, 0 to 149395\n",
      "Data columns (total 5 columns):\n",
      " #   Column        Non-Null Count   Dtype  \n",
      "---  ------        --------------   -----  \n",
      " 0   Unnamed: 0    149396 non-null  int64  \n",
      " 1   id            149396 non-null  object \n",
      " 2   mb_used       149396 non-null  float64\n",
      " 3   session_date  149396 non-null  object \n",
      " 4   user_id       149396 non-null  int64  \n",
      "dtypes: float64(1), int64(2), object(2)\n",
      "memory usage: 5.7+ MB\n"
     ]
    },
    {
     "data": {
      "text/plain": [
       "Unnamed: 0      0\n",
       "id              0\n",
       "mb_used         0\n",
       "session_date    0\n",
       "user_id         0\n",
       "dtype: int64"
      ]
     },
     "metadata": {},
     "output_type": "display_data"
    },
    {
     "data": {
      "text/html": [
       "<div>\n",
       "<style scoped>\n",
       "    .dataframe tbody tr th:only-of-type {\n",
       "        vertical-align: middle;\n",
       "    }\n",
       "\n",
       "    .dataframe tbody tr th {\n",
       "        vertical-align: top;\n",
       "    }\n",
       "\n",
       "    .dataframe thead th {\n",
       "        text-align: right;\n",
       "    }\n",
       "</style>\n",
       "<table border=\"1\" class=\"dataframe\">\n",
       "  <thead>\n",
       "    <tr style=\"text-align: right;\">\n",
       "      <th></th>\n",
       "      <th>Unnamed: 0</th>\n",
       "      <th>mb_used</th>\n",
       "      <th>user_id</th>\n",
       "    </tr>\n",
       "  </thead>\n",
       "  <tbody>\n",
       "    <tr>\n",
       "      <th>count</th>\n",
       "      <td>149,396.00</td>\n",
       "      <td>149,396.00</td>\n",
       "      <td>149,396.00</td>\n",
       "    </tr>\n",
       "    <tr>\n",
       "      <th>mean</th>\n",
       "      <td>74,697.50</td>\n",
       "      <td>370.19</td>\n",
       "      <td>1,252.10</td>\n",
       "    </tr>\n",
       "    <tr>\n",
       "      <th>std</th>\n",
       "      <td>43,127.05</td>\n",
       "      <td>278.30</td>\n",
       "      <td>144.05</td>\n",
       "    </tr>\n",
       "    <tr>\n",
       "      <th>min</th>\n",
       "      <td>0.00</td>\n",
       "      <td>0.00</td>\n",
       "      <td>1,000.00</td>\n",
       "    </tr>\n",
       "    <tr>\n",
       "      <th>25%</th>\n",
       "      <td>37,348.75</td>\n",
       "      <td>138.19</td>\n",
       "      <td>1,130.00</td>\n",
       "    </tr>\n",
       "    <tr>\n",
       "      <th>50%</th>\n",
       "      <td>74,697.50</td>\n",
       "      <td>348.01</td>\n",
       "      <td>1,251.00</td>\n",
       "    </tr>\n",
       "    <tr>\n",
       "      <th>75%</th>\n",
       "      <td>112,046.25</td>\n",
       "      <td>559.55</td>\n",
       "      <td>1,380.00</td>\n",
       "    </tr>\n",
       "    <tr>\n",
       "      <th>max</th>\n",
       "      <td>149,395.00</td>\n",
       "      <td>1,724.83</td>\n",
       "      <td>1,499.00</td>\n",
       "    </tr>\n",
       "  </tbody>\n",
       "</table>\n",
       "</div>"
      ],
      "text/plain": [
       "       Unnamed: 0    mb_used    user_id\n",
       "count  149,396.00 149,396.00 149,396.00\n",
       "mean    74,697.50     370.19   1,252.10\n",
       "std     43,127.05     278.30     144.05\n",
       "min          0.00       0.00   1,000.00\n",
       "25%     37,348.75     138.19   1,130.00\n",
       "50%     74,697.50     348.01   1,251.00\n",
       "75%    112,046.25     559.55   1,380.00\n",
       "max    149,395.00   1,724.83   1,499.00"
      ]
     },
     "metadata": {},
     "output_type": "display_data"
    },
    {
     "name": "stdout",
     "output_type": "stream",
     "text": [
      "____________________________________________________\n"
     ]
    },
    {
     "data": {
      "text/html": [
       "<div>\n",
       "<style scoped>\n",
       "    .dataframe tbody tr th:only-of-type {\n",
       "        vertical-align: middle;\n",
       "    }\n",
       "\n",
       "    .dataframe tbody tr th {\n",
       "        vertical-align: top;\n",
       "    }\n",
       "\n",
       "    .dataframe thead th {\n",
       "        text-align: right;\n",
       "    }\n",
       "</style>\n",
       "<table border=\"1\" class=\"dataframe\">\n",
       "  <thead>\n",
       "    <tr style=\"text-align: right;\">\n",
       "      <th></th>\n",
       "      <th>id</th>\n",
       "      <th>message_date</th>\n",
       "      <th>user_id</th>\n",
       "    </tr>\n",
       "  </thead>\n",
       "  <tbody>\n",
       "    <tr>\n",
       "      <th>102215</th>\n",
       "      <td>1417_77</td>\n",
       "      <td>2018-08-09</td>\n",
       "      <td>1417</td>\n",
       "    </tr>\n",
       "    <tr>\n",
       "      <th>42130</th>\n",
       "      <td>1181_3</td>\n",
       "      <td>2018-12-02</td>\n",
       "      <td>1181</td>\n",
       "    </tr>\n",
       "  </tbody>\n",
       "</table>\n",
       "</div>"
      ],
      "text/plain": [
       "             id message_date  user_id\n",
       "102215  1417_77   2018-08-09     1417\n",
       "42130    1181_3   2018-12-02     1181"
      ]
     },
     "metadata": {},
     "output_type": "display_data"
    },
    {
     "name": "stdout",
     "output_type": "stream",
     "text": [
      "<class 'pandas.core.frame.DataFrame'>\n",
      "RangeIndex: 123036 entries, 0 to 123035\n",
      "Data columns (total 3 columns):\n",
      " #   Column        Non-Null Count   Dtype \n",
      "---  ------        --------------   ----- \n",
      " 0   id            123036 non-null  object\n",
      " 1   message_date  123036 non-null  object\n",
      " 2   user_id       123036 non-null  int64 \n",
      "dtypes: int64(1), object(2)\n",
      "memory usage: 2.8+ MB\n"
     ]
    },
    {
     "data": {
      "text/plain": [
       "id              0\n",
       "message_date    0\n",
       "user_id         0\n",
       "dtype: int64"
      ]
     },
     "metadata": {},
     "output_type": "display_data"
    },
    {
     "data": {
      "text/html": [
       "<div>\n",
       "<style scoped>\n",
       "    .dataframe tbody tr th:only-of-type {\n",
       "        vertical-align: middle;\n",
       "    }\n",
       "\n",
       "    .dataframe tbody tr th {\n",
       "        vertical-align: top;\n",
       "    }\n",
       "\n",
       "    .dataframe thead th {\n",
       "        text-align: right;\n",
       "    }\n",
       "</style>\n",
       "<table border=\"1\" class=\"dataframe\">\n",
       "  <thead>\n",
       "    <tr style=\"text-align: right;\">\n",
       "      <th></th>\n",
       "      <th>user_id</th>\n",
       "    </tr>\n",
       "  </thead>\n",
       "  <tbody>\n",
       "    <tr>\n",
       "      <th>count</th>\n",
       "      <td>123,036.00</td>\n",
       "    </tr>\n",
       "    <tr>\n",
       "      <th>mean</th>\n",
       "      <td>1,256.99</td>\n",
       "    </tr>\n",
       "    <tr>\n",
       "      <th>std</th>\n",
       "      <td>143.52</td>\n",
       "    </tr>\n",
       "    <tr>\n",
       "      <th>min</th>\n",
       "      <td>1,000.00</td>\n",
       "    </tr>\n",
       "    <tr>\n",
       "      <th>25%</th>\n",
       "      <td>1,134.00</td>\n",
       "    </tr>\n",
       "    <tr>\n",
       "      <th>50%</th>\n",
       "      <td>1,271.00</td>\n",
       "    </tr>\n",
       "    <tr>\n",
       "      <th>75%</th>\n",
       "      <td>1,381.00</td>\n",
       "    </tr>\n",
       "    <tr>\n",
       "      <th>max</th>\n",
       "      <td>1,499.00</td>\n",
       "    </tr>\n",
       "  </tbody>\n",
       "</table>\n",
       "</div>"
      ],
      "text/plain": [
       "         user_id\n",
       "count 123,036.00\n",
       "mean    1,256.99\n",
       "std       143.52\n",
       "min     1,000.00\n",
       "25%     1,134.00\n",
       "50%     1,271.00\n",
       "75%     1,381.00\n",
       "max     1,499.00"
      ]
     },
     "metadata": {},
     "output_type": "display_data"
    },
    {
     "name": "stdout",
     "output_type": "stream",
     "text": [
      "____________________________________________________\n"
     ]
    },
    {
     "data": {
      "text/html": [
       "<div>\n",
       "<style scoped>\n",
       "    .dataframe tbody tr th:only-of-type {\n",
       "        vertical-align: middle;\n",
       "    }\n",
       "\n",
       "    .dataframe tbody tr th {\n",
       "        vertical-align: top;\n",
       "    }\n",
       "\n",
       "    .dataframe thead th {\n",
       "        text-align: right;\n",
       "    }\n",
       "</style>\n",
       "<table border=\"1\" class=\"dataframe\">\n",
       "  <thead>\n",
       "    <tr style=\"text-align: right;\">\n",
       "      <th></th>\n",
       "      <th>messages_included</th>\n",
       "      <th>mb_per_month_included</th>\n",
       "      <th>minutes_included</th>\n",
       "      <th>rub_monthly_fee</th>\n",
       "      <th>rub_per_gb</th>\n",
       "      <th>rub_per_message</th>\n",
       "      <th>rub_per_minute</th>\n",
       "      <th>tariff_name</th>\n",
       "    </tr>\n",
       "  </thead>\n",
       "  <tbody>\n",
       "    <tr>\n",
       "      <th>1</th>\n",
       "      <td>1000</td>\n",
       "      <td>30720</td>\n",
       "      <td>3000</td>\n",
       "      <td>1950</td>\n",
       "      <td>150</td>\n",
       "      <td>1</td>\n",
       "      <td>1</td>\n",
       "      <td>ultra</td>\n",
       "    </tr>\n",
       "    <tr>\n",
       "      <th>0</th>\n",
       "      <td>50</td>\n",
       "      <td>15360</td>\n",
       "      <td>500</td>\n",
       "      <td>550</td>\n",
       "      <td>200</td>\n",
       "      <td>3</td>\n",
       "      <td>3</td>\n",
       "      <td>smart</td>\n",
       "    </tr>\n",
       "  </tbody>\n",
       "</table>\n",
       "</div>"
      ],
      "text/plain": [
       "   messages_included  mb_per_month_included  minutes_included  \\\n",
       "1               1000                  30720              3000   \n",
       "0                 50                  15360               500   \n",
       "\n",
       "   rub_monthly_fee  rub_per_gb  rub_per_message  rub_per_minute tariff_name  \n",
       "1             1950         150                1               1       ultra  \n",
       "0              550         200                3               3       smart  "
      ]
     },
     "metadata": {},
     "output_type": "display_data"
    },
    {
     "name": "stdout",
     "output_type": "stream",
     "text": [
      "<class 'pandas.core.frame.DataFrame'>\n",
      "RangeIndex: 2 entries, 0 to 1\n",
      "Data columns (total 8 columns):\n",
      " #   Column                 Non-Null Count  Dtype \n",
      "---  ------                 --------------  ----- \n",
      " 0   messages_included      2 non-null      int64 \n",
      " 1   mb_per_month_included  2 non-null      int64 \n",
      " 2   minutes_included       2 non-null      int64 \n",
      " 3   rub_monthly_fee        2 non-null      int64 \n",
      " 4   rub_per_gb             2 non-null      int64 \n",
      " 5   rub_per_message        2 non-null      int64 \n",
      " 6   rub_per_minute         2 non-null      int64 \n",
      " 7   tariff_name            2 non-null      object\n",
      "dtypes: int64(7), object(1)\n",
      "memory usage: 256.0+ bytes\n"
     ]
    },
    {
     "data": {
      "text/plain": [
       "messages_included        0\n",
       "mb_per_month_included    0\n",
       "minutes_included         0\n",
       "rub_monthly_fee          0\n",
       "rub_per_gb               0\n",
       "rub_per_message          0\n",
       "rub_per_minute           0\n",
       "tariff_name              0\n",
       "dtype: int64"
      ]
     },
     "metadata": {},
     "output_type": "display_data"
    },
    {
     "data": {
      "text/html": [
       "<div>\n",
       "<style scoped>\n",
       "    .dataframe tbody tr th:only-of-type {\n",
       "        vertical-align: middle;\n",
       "    }\n",
       "\n",
       "    .dataframe tbody tr th {\n",
       "        vertical-align: top;\n",
       "    }\n",
       "\n",
       "    .dataframe thead th {\n",
       "        text-align: right;\n",
       "    }\n",
       "</style>\n",
       "<table border=\"1\" class=\"dataframe\">\n",
       "  <thead>\n",
       "    <tr style=\"text-align: right;\">\n",
       "      <th></th>\n",
       "      <th>messages_included</th>\n",
       "      <th>mb_per_month_included</th>\n",
       "      <th>minutes_included</th>\n",
       "      <th>rub_monthly_fee</th>\n",
       "      <th>rub_per_gb</th>\n",
       "      <th>rub_per_message</th>\n",
       "      <th>rub_per_minute</th>\n",
       "    </tr>\n",
       "  </thead>\n",
       "  <tbody>\n",
       "    <tr>\n",
       "      <th>count</th>\n",
       "      <td>2.00</td>\n",
       "      <td>2.00</td>\n",
       "      <td>2.00</td>\n",
       "      <td>2.00</td>\n",
       "      <td>2.00</td>\n",
       "      <td>2.00</td>\n",
       "      <td>2.00</td>\n",
       "    </tr>\n",
       "    <tr>\n",
       "      <th>mean</th>\n",
       "      <td>525.00</td>\n",
       "      <td>23,040.00</td>\n",
       "      <td>1,750.00</td>\n",
       "      <td>1,250.00</td>\n",
       "      <td>175.00</td>\n",
       "      <td>2.00</td>\n",
       "      <td>2.00</td>\n",
       "    </tr>\n",
       "    <tr>\n",
       "      <th>std</th>\n",
       "      <td>671.75</td>\n",
       "      <td>10,861.16</td>\n",
       "      <td>1,767.77</td>\n",
       "      <td>989.95</td>\n",
       "      <td>35.36</td>\n",
       "      <td>1.41</td>\n",
       "      <td>1.41</td>\n",
       "    </tr>\n",
       "    <tr>\n",
       "      <th>min</th>\n",
       "      <td>50.00</td>\n",
       "      <td>15,360.00</td>\n",
       "      <td>500.00</td>\n",
       "      <td>550.00</td>\n",
       "      <td>150.00</td>\n",
       "      <td>1.00</td>\n",
       "      <td>1.00</td>\n",
       "    </tr>\n",
       "    <tr>\n",
       "      <th>25%</th>\n",
       "      <td>287.50</td>\n",
       "      <td>19,200.00</td>\n",
       "      <td>1,125.00</td>\n",
       "      <td>900.00</td>\n",
       "      <td>162.50</td>\n",
       "      <td>1.50</td>\n",
       "      <td>1.50</td>\n",
       "    </tr>\n",
       "    <tr>\n",
       "      <th>50%</th>\n",
       "      <td>525.00</td>\n",
       "      <td>23,040.00</td>\n",
       "      <td>1,750.00</td>\n",
       "      <td>1,250.00</td>\n",
       "      <td>175.00</td>\n",
       "      <td>2.00</td>\n",
       "      <td>2.00</td>\n",
       "    </tr>\n",
       "    <tr>\n",
       "      <th>75%</th>\n",
       "      <td>762.50</td>\n",
       "      <td>26,880.00</td>\n",
       "      <td>2,375.00</td>\n",
       "      <td>1,600.00</td>\n",
       "      <td>187.50</td>\n",
       "      <td>2.50</td>\n",
       "      <td>2.50</td>\n",
       "    </tr>\n",
       "    <tr>\n",
       "      <th>max</th>\n",
       "      <td>1,000.00</td>\n",
       "      <td>30,720.00</td>\n",
       "      <td>3,000.00</td>\n",
       "      <td>1,950.00</td>\n",
       "      <td>200.00</td>\n",
       "      <td>3.00</td>\n",
       "      <td>3.00</td>\n",
       "    </tr>\n",
       "  </tbody>\n",
       "</table>\n",
       "</div>"
      ],
      "text/plain": [
       "       messages_included  mb_per_month_included  minutes_included  \\\n",
       "count               2.00                   2.00              2.00   \n",
       "mean              525.00              23,040.00          1,750.00   \n",
       "std               671.75              10,861.16          1,767.77   \n",
       "min                50.00              15,360.00            500.00   \n",
       "25%               287.50              19,200.00          1,125.00   \n",
       "50%               525.00              23,040.00          1,750.00   \n",
       "75%               762.50              26,880.00          2,375.00   \n",
       "max             1,000.00              30,720.00          3,000.00   \n",
       "\n",
       "       rub_monthly_fee  rub_per_gb  rub_per_message  rub_per_minute  \n",
       "count             2.00        2.00             2.00            2.00  \n",
       "mean          1,250.00      175.00             2.00            2.00  \n",
       "std             989.95       35.36             1.41            1.41  \n",
       "min             550.00      150.00             1.00            1.00  \n",
       "25%             900.00      162.50             1.50            1.50  \n",
       "50%           1,250.00      175.00             2.00            2.00  \n",
       "75%           1,600.00      187.50             2.50            2.50  \n",
       "max           1,950.00      200.00             3.00            3.00  "
      ]
     },
     "metadata": {},
     "output_type": "display_data"
    },
    {
     "name": "stdout",
     "output_type": "stream",
     "text": [
      "____________________________________________________\n"
     ]
    },
    {
     "data": {
      "text/html": [
       "<div>\n",
       "<style scoped>\n",
       "    .dataframe tbody tr th:only-of-type {\n",
       "        vertical-align: middle;\n",
       "    }\n",
       "\n",
       "    .dataframe tbody tr th {\n",
       "        vertical-align: top;\n",
       "    }\n",
       "\n",
       "    .dataframe thead th {\n",
       "        text-align: right;\n",
       "    }\n",
       "</style>\n",
       "<table border=\"1\" class=\"dataframe\">\n",
       "  <thead>\n",
       "    <tr style=\"text-align: right;\">\n",
       "      <th></th>\n",
       "      <th>user_id</th>\n",
       "      <th>age</th>\n",
       "      <th>churn_date</th>\n",
       "      <th>city</th>\n",
       "      <th>first_name</th>\n",
       "      <th>last_name</th>\n",
       "      <th>reg_date</th>\n",
       "      <th>tariff</th>\n",
       "    </tr>\n",
       "  </thead>\n",
       "  <tbody>\n",
       "    <tr>\n",
       "      <th>389</th>\n",
       "      <td>1389</td>\n",
       "      <td>29</td>\n",
       "      <td>NaN</td>\n",
       "      <td>Москва</td>\n",
       "      <td>Надежда</td>\n",
       "      <td>Латышева</td>\n",
       "      <td>2018-07-20</td>\n",
       "      <td>smart</td>\n",
       "    </tr>\n",
       "    <tr>\n",
       "      <th>443</th>\n",
       "      <td>1443</td>\n",
       "      <td>21</td>\n",
       "      <td>NaN</td>\n",
       "      <td>Казань</td>\n",
       "      <td>Иван</td>\n",
       "      <td>Афинин</td>\n",
       "      <td>2018-09-17</td>\n",
       "      <td>smart</td>\n",
       "    </tr>\n",
       "  </tbody>\n",
       "</table>\n",
       "</div>"
      ],
      "text/plain": [
       "     user_id  age churn_date    city first_name last_name    reg_date tariff\n",
       "389     1389   29        NaN  Москва    Надежда  Латышева  2018-07-20  smart\n",
       "443     1443   21        NaN  Казань       Иван    Афинин  2018-09-17  smart"
      ]
     },
     "metadata": {},
     "output_type": "display_data"
    },
    {
     "name": "stdout",
     "output_type": "stream",
     "text": [
      "<class 'pandas.core.frame.DataFrame'>\n",
      "RangeIndex: 500 entries, 0 to 499\n",
      "Data columns (total 8 columns):\n",
      " #   Column      Non-Null Count  Dtype \n",
      "---  ------      --------------  ----- \n",
      " 0   user_id     500 non-null    int64 \n",
      " 1   age         500 non-null    int64 \n",
      " 2   churn_date  38 non-null     object\n",
      " 3   city        500 non-null    object\n",
      " 4   first_name  500 non-null    object\n",
      " 5   last_name   500 non-null    object\n",
      " 6   reg_date    500 non-null    object\n",
      " 7   tariff      500 non-null    object\n",
      "dtypes: int64(2), object(6)\n",
      "memory usage: 31.4+ KB\n"
     ]
    },
    {
     "data": {
      "text/plain": [
       "user_id         0\n",
       "age             0\n",
       "churn_date    462\n",
       "city            0\n",
       "first_name      0\n",
       "last_name       0\n",
       "reg_date        0\n",
       "tariff          0\n",
       "dtype: int64"
      ]
     },
     "metadata": {},
     "output_type": "display_data"
    },
    {
     "data": {
      "text/html": [
       "<div>\n",
       "<style scoped>\n",
       "    .dataframe tbody tr th:only-of-type {\n",
       "        vertical-align: middle;\n",
       "    }\n",
       "\n",
       "    .dataframe tbody tr th {\n",
       "        vertical-align: top;\n",
       "    }\n",
       "\n",
       "    .dataframe thead th {\n",
       "        text-align: right;\n",
       "    }\n",
       "</style>\n",
       "<table border=\"1\" class=\"dataframe\">\n",
       "  <thead>\n",
       "    <tr style=\"text-align: right;\">\n",
       "      <th></th>\n",
       "      <th>user_id</th>\n",
       "      <th>age</th>\n",
       "    </tr>\n",
       "  </thead>\n",
       "  <tbody>\n",
       "    <tr>\n",
       "      <th>count</th>\n",
       "      <td>500.00</td>\n",
       "      <td>500.00</td>\n",
       "    </tr>\n",
       "    <tr>\n",
       "      <th>mean</th>\n",
       "      <td>1,249.50</td>\n",
       "      <td>46.59</td>\n",
       "    </tr>\n",
       "    <tr>\n",
       "      <th>std</th>\n",
       "      <td>144.48</td>\n",
       "      <td>16.67</td>\n",
       "    </tr>\n",
       "    <tr>\n",
       "      <th>min</th>\n",
       "      <td>1,000.00</td>\n",
       "      <td>18.00</td>\n",
       "    </tr>\n",
       "    <tr>\n",
       "      <th>25%</th>\n",
       "      <td>1,124.75</td>\n",
       "      <td>32.00</td>\n",
       "    </tr>\n",
       "    <tr>\n",
       "      <th>50%</th>\n",
       "      <td>1,249.50</td>\n",
       "      <td>46.00</td>\n",
       "    </tr>\n",
       "    <tr>\n",
       "      <th>75%</th>\n",
       "      <td>1,374.25</td>\n",
       "      <td>62.00</td>\n",
       "    </tr>\n",
       "    <tr>\n",
       "      <th>max</th>\n",
       "      <td>1,499.00</td>\n",
       "      <td>75.00</td>\n",
       "    </tr>\n",
       "  </tbody>\n",
       "</table>\n",
       "</div>"
      ],
      "text/plain": [
       "       user_id    age\n",
       "count   500.00 500.00\n",
       "mean  1,249.50  46.59\n",
       "std     144.48  16.67\n",
       "min   1,000.00  18.00\n",
       "25%   1,124.75  32.00\n",
       "50%   1,249.50  46.00\n",
       "75%   1,374.25  62.00\n",
       "max   1,499.00  75.00"
      ]
     },
     "metadata": {},
     "output_type": "display_data"
    },
    {
     "name": "stdout",
     "output_type": "stream",
     "text": [
      "____________________________________________________\n"
     ]
    }
   ],
   "source": [
    "df_list = [calls, internet, messages, tariffs, users]\n",
    "for df in df_list:\n",
    "    display(df.sample(2))\n",
    "    df.info()\n",
    "    display(df.isna().sum())\n",
    "    display(df.describe())\n",
    "    print('____________________________________________________')"
   ]
  },
  {
   "cell_type": "markdown",
   "metadata": {},
   "source": [
    "Пропуcков в таблицах нет, кроме столбца `churn_date`(дата прекращения пользования тарифом) в таблице `users`(информация о пользователях), в таблице `internet` присутвует столбец `Unnamed: 0` дублирующий номер строки; в столбцах с датами, в таблицах `calls, internet, messages, users` тип данных object вместо pd.DataFrame.\t"
   ]
  },
  {
   "cell_type": "markdown",
   "metadata": {},
   "source": [
    "## Предобработка данных"
   ]
  },
  {
   "cell_type": "code",
   "execution_count": 4,
   "metadata": {},
   "outputs": [],
   "source": [
    "users.drop('churn_date', axis=1, inplace=True)#удалим ненужный столец в users\n",
    "users['reg_date'] = pd.to_datetime(users['reg_date'], format='%Y%m%dT%H:%M:%S')#переведем тип данных в формат даты"
   ]
  },
  {
   "cell_type": "code",
   "execution_count": 5,
   "metadata": {},
   "outputs": [],
   "source": [
    "messages['message_date'] = pd.to_datetime(messages['message_date'], format='%Y%m%dT%H:%M:%S')\n",
    "calls['call_date'] = pd.to_datetime(calls['call_date'], format='%Y%m%dT%H:%M:%S')\n",
    "internet['session_date'] = pd.to_datetime(internet['session_date'], format='%Y%m%dT%H:%M:%S')\n",
    "#переведем тип данных в формат даты в calls, messages и internet "
   ]
  },
  {
   "cell_type": "code",
   "execution_count": 6,
   "metadata": {},
   "outputs": [],
   "source": [
    "internet.drop('Unnamed: 0', axis=1, inplace=True)#удалим ненужный столец в internet"
   ]
  },
  {
   "cell_type": "code",
   "execution_count": 7,
   "metadata": {},
   "outputs": [],
   "source": [
    "users['city'] = users['city'].str.lower()\n",
    "users['first_name'] = users['first_name'].str.lower()\n",
    "users['last_name'] = users['last_name'].str.lower()"
   ]
  },
  {
   "cell_type": "code",
   "execution_count": 8,
   "metadata": {},
   "outputs": [],
   "source": [
    "def duplicate(df):\n",
    "    return df.duplicated().sum()"
   ]
  },
  {
   "cell_type": "code",
   "execution_count": 9,
   "metadata": {},
   "outputs": [
    {
     "name": "stdout",
     "output_type": "stream",
     "text": [
      "Дупликтов в информация о пользователях: 0\n",
      "Дупликтов в информация о сообщениях: 0\n",
      "Дупликтов в информация о звонках: 0\n",
      "Дупликтов в информация об интернет-сессиях: 0\n",
      "Дупликтов в информация о тарифах: 0\n"
     ]
    }
   ],
   "source": [
    "print('Дупликтов в информация о пользователях:',duplicate(users))\n",
    "print('Дупликтов в информация о сообщениях:',duplicate(messages))\n",
    "print('Дупликтов в информация о звонках:',duplicate(calls))\n",
    "print('Дупликтов в информация об интернет-сессиях:',duplicate(internet)) \n",
    "print('Дупликтов в информация о тарифах:',duplicate(tariffs))"
   ]
  },
  {
   "cell_type": "code",
   "execution_count": 10,
   "metadata": {},
   "outputs": [],
   "source": [
    "# Округлим минуты и мегабайты у всех тарифов \n",
    "calls['duration'] = calls['duration'].apply(np.ceil)\n",
    "internet['mb_used'] = internet['mb_used'].apply(np.ceil)"
   ]
  },
  {
   "cell_type": "code",
   "execution_count": 11,
   "metadata": {},
   "outputs": [
    {
     "data": {
      "text/html": [
       "<div>\n",
       "<style scoped>\n",
       "    .dataframe tbody tr th:only-of-type {\n",
       "        vertical-align: middle;\n",
       "    }\n",
       "\n",
       "    .dataframe tbody tr th {\n",
       "        vertical-align: top;\n",
       "    }\n",
       "\n",
       "    .dataframe thead th {\n",
       "        text-align: right;\n",
       "    }\n",
       "</style>\n",
       "<table border=\"1\" class=\"dataframe\">\n",
       "  <thead>\n",
       "    <tr style=\"text-align: right;\">\n",
       "      <th></th>\n",
       "      <th></th>\n",
       "      <th>count_calls</th>\n",
       "      <th>sum_calls</th>\n",
       "    </tr>\n",
       "    <tr>\n",
       "      <th>month</th>\n",
       "      <th>user_id</th>\n",
       "      <th></th>\n",
       "      <th></th>\n",
       "    </tr>\n",
       "  </thead>\n",
       "  <tbody>\n",
       "    <tr>\n",
       "      <th rowspan=\"5\" valign=\"top\">1</th>\n",
       "      <th>1005</th>\n",
       "      <td>15</td>\n",
       "      <td>95.00</td>\n",
       "    </tr>\n",
       "    <tr>\n",
       "      <th>1032</th>\n",
       "      <td>61</td>\n",
       "      <td>380.00</td>\n",
       "    </tr>\n",
       "    <tr>\n",
       "      <th>1045</th>\n",
       "      <td>1</td>\n",
       "      <td>9.00</td>\n",
       "    </tr>\n",
       "    <tr>\n",
       "      <th>1055</th>\n",
       "      <td>64</td>\n",
       "      <td>551.00</td>\n",
       "    </tr>\n",
       "    <tr>\n",
       "      <th>1071</th>\n",
       "      <td>24</td>\n",
       "      <td>194.00</td>\n",
       "    </tr>\n",
       "  </tbody>\n",
       "</table>\n",
       "</div>"
      ],
      "text/plain": [
       "               count_calls  sum_calls\n",
       "month user_id                        \n",
       "1     1005              15      95.00\n",
       "      1032              61     380.00\n",
       "      1045               1       9.00\n",
       "      1055              64     551.00\n",
       "      1071              24     194.00"
      ]
     },
     "execution_count": 11,
     "metadata": {},
     "output_type": "execute_result"
    }
   ],
   "source": [
    "# Добавим столбец month в таблицу \n",
    "calls['month'] = pd.DatetimeIndex(calls['call_date']).month\n",
    "calls_times = calls.pivot_table(index=['month', 'user_id'], values='duration', aggfunc=['count', 'sum'])\n",
    "calls_times.columns = ['count_calls', 'sum_calls']\n",
    "calls_times.head()"
   ]
  },
  {
   "cell_type": "code",
   "execution_count": 12,
   "metadata": {},
   "outputs": [
    {
     "data": {
      "text/html": [
       "<div>\n",
       "<style scoped>\n",
       "    .dataframe tbody tr th:only-of-type {\n",
       "        vertical-align: middle;\n",
       "    }\n",
       "\n",
       "    .dataframe tbody tr th {\n",
       "        vertical-align: top;\n",
       "    }\n",
       "\n",
       "    .dataframe thead th {\n",
       "        text-align: right;\n",
       "    }\n",
       "</style>\n",
       "<table border=\"1\" class=\"dataframe\">\n",
       "  <thead>\n",
       "    <tr style=\"text-align: right;\">\n",
       "      <th></th>\n",
       "      <th>month</th>\n",
       "      <th>user_id</th>\n",
       "      <th>messages</th>\n",
       "    </tr>\n",
       "  </thead>\n",
       "  <tbody>\n",
       "    <tr>\n",
       "      <th>0</th>\n",
       "      <td>1</td>\n",
       "      <td>1005</td>\n",
       "      <td>7</td>\n",
       "    </tr>\n",
       "    <tr>\n",
       "      <th>1</th>\n",
       "      <td>1</td>\n",
       "      <td>1032</td>\n",
       "      <td>38</td>\n",
       "    </tr>\n",
       "    <tr>\n",
       "      <th>2</th>\n",
       "      <td>1</td>\n",
       "      <td>1045</td>\n",
       "      <td>5</td>\n",
       "    </tr>\n",
       "    <tr>\n",
       "      <th>3</th>\n",
       "      <td>1</td>\n",
       "      <td>1055</td>\n",
       "      <td>30</td>\n",
       "    </tr>\n",
       "    <tr>\n",
       "      <th>4</th>\n",
       "      <td>1</td>\n",
       "      <td>1071</td>\n",
       "      <td>16</td>\n",
       "    </tr>\n",
       "  </tbody>\n",
       "</table>\n",
       "</div>"
      ],
      "text/plain": [
       "   month  user_id  messages\n",
       "0      1     1005         7\n",
       "1      1     1032        38\n",
       "2      1     1045         5\n",
       "3      1     1055        30\n",
       "4      1     1071        16"
      ]
     },
     "execution_count": 12,
     "metadata": {},
     "output_type": "execute_result"
    }
   ],
   "source": [
    "# Посчитаем количество отправленных сообщений по месяцам для каждого пользователя\n",
    "messages['month'] = pd.DatetimeIndex(messages['message_date']).month\n",
    "messages_times = messages.pivot_table(index=['month','user_id'], values='id', aggfunc='count')\n",
    "messages_times.rename(columns={'id': 'messages'}, inplace=True)\n",
    "messages_times =  pd.DataFrame(messages_times.to_records())\n",
    "messages_times.head()"
   ]
  },
  {
   "cell_type": "code",
   "execution_count": 13,
   "metadata": {},
   "outputs": [
    {
     "data": {
      "text/html": [
       "<div>\n",
       "<style scoped>\n",
       "    .dataframe tbody tr th:only-of-type {\n",
       "        vertical-align: middle;\n",
       "    }\n",
       "\n",
       "    .dataframe tbody tr th {\n",
       "        vertical-align: top;\n",
       "    }\n",
       "\n",
       "    .dataframe thead th {\n",
       "        text-align: right;\n",
       "    }\n",
       "</style>\n",
       "<table border=\"1\" class=\"dataframe\">\n",
       "  <thead>\n",
       "    <tr style=\"text-align: right;\">\n",
       "      <th></th>\n",
       "      <th>month</th>\n",
       "      <th>user_id</th>\n",
       "      <th>mb_used</th>\n",
       "    </tr>\n",
       "  </thead>\n",
       "  <tbody>\n",
       "    <tr>\n",
       "      <th>0</th>\n",
       "      <td>1</td>\n",
       "      <td>1005</td>\n",
       "      <td>2,730.00</td>\n",
       "    </tr>\n",
       "    <tr>\n",
       "      <th>1</th>\n",
       "      <td>1</td>\n",
       "      <td>1032</td>\n",
       "      <td>24,147.00</td>\n",
       "    </tr>\n",
       "    <tr>\n",
       "      <th>2</th>\n",
       "      <td>1</td>\n",
       "      <td>1045</td>\n",
       "      <td>2,348.00</td>\n",
       "    </tr>\n",
       "    <tr>\n",
       "      <th>3</th>\n",
       "      <td>1</td>\n",
       "      <td>1055</td>\n",
       "      <td>17,111.00</td>\n",
       "    </tr>\n",
       "    <tr>\n",
       "      <th>4</th>\n",
       "      <td>1</td>\n",
       "      <td>1071</td>\n",
       "      <td>15,622.00</td>\n",
       "    </tr>\n",
       "  </tbody>\n",
       "</table>\n",
       "</div>"
      ],
      "text/plain": [
       "   month  user_id   mb_used\n",
       "0      1     1005  2,730.00\n",
       "1      1     1032 24,147.00\n",
       "2      1     1045  2,348.00\n",
       "3      1     1055 17,111.00\n",
       "4      1     1071 15,622.00"
      ]
     },
     "execution_count": 13,
     "metadata": {},
     "output_type": "execute_result"
    }
   ],
   "source": [
    "# Посчитаем объем трафика для каждого пользователя по месяцам\n",
    "internet['month'] = pd.DatetimeIndex(internet['session_date']).month\n",
    "internet_times = internet.pivot_table(index=['month','user_id'], values='mb_used', aggfunc='sum')\n",
    "internet_times =  pd.DataFrame(internet_times.to_records())\n",
    "internet_times.head()"
   ]
  },
  {
   "cell_type": "markdown",
   "metadata": {},
   "source": [
    "Объеденим все таблицы и добавим столбцы с количеством сделанных звонков и израсходованных минут разговора по месяцам,\n",
    "количество отправленных сообщений по месяцам, объем израсходованного интернет-трафика по месяцам, а также посчитаем\n",
    "помесячную выручку с каждого пользователя."
   ]
  },
  {
   "cell_type": "markdown",
   "metadata": {},
   "source": [
    "### Расчитаем выручку"
   ]
  },
  {
   "cell_type": "code",
   "execution_count": 14,
   "metadata": {},
   "outputs": [
    {
     "data": {
      "text/html": [
       "<div>\n",
       "<style scoped>\n",
       "    .dataframe tbody tr th:only-of-type {\n",
       "        vertical-align: middle;\n",
       "    }\n",
       "\n",
       "    .dataframe tbody tr th {\n",
       "        vertical-align: top;\n",
       "    }\n",
       "\n",
       "    .dataframe thead th {\n",
       "        text-align: right;\n",
       "    }\n",
       "</style>\n",
       "<table border=\"1\" class=\"dataframe\">\n",
       "  <thead>\n",
       "    <tr style=\"text-align: right;\">\n",
       "      <th></th>\n",
       "      <th>user_id</th>\n",
       "      <th>month</th>\n",
       "      <th>count_calls</th>\n",
       "      <th>sum_calls</th>\n",
       "      <th>messages</th>\n",
       "      <th>mb_used</th>\n",
       "    </tr>\n",
       "  </thead>\n",
       "  <tbody>\n",
       "    <tr>\n",
       "      <th>0</th>\n",
       "      <td>1005</td>\n",
       "      <td>1</td>\n",
       "      <td>15.00</td>\n",
       "      <td>95.00</td>\n",
       "      <td>7.00</td>\n",
       "      <td>2,730.00</td>\n",
       "    </tr>\n",
       "    <tr>\n",
       "      <th>1</th>\n",
       "      <td>1032</td>\n",
       "      <td>1</td>\n",
       "      <td>61.00</td>\n",
       "      <td>380.00</td>\n",
       "      <td>38.00</td>\n",
       "      <td>24,147.00</td>\n",
       "    </tr>\n",
       "    <tr>\n",
       "      <th>2</th>\n",
       "      <td>1045</td>\n",
       "      <td>1</td>\n",
       "      <td>1.00</td>\n",
       "      <td>9.00</td>\n",
       "      <td>5.00</td>\n",
       "      <td>2,348.00</td>\n",
       "    </tr>\n",
       "    <tr>\n",
       "      <th>3</th>\n",
       "      <td>1055</td>\n",
       "      <td>1</td>\n",
       "      <td>64.00</td>\n",
       "      <td>551.00</td>\n",
       "      <td>30.00</td>\n",
       "      <td>17,111.00</td>\n",
       "    </tr>\n",
       "    <tr>\n",
       "      <th>4</th>\n",
       "      <td>1071</td>\n",
       "      <td>1</td>\n",
       "      <td>24.00</td>\n",
       "      <td>194.00</td>\n",
       "      <td>16.00</td>\n",
       "      <td>15,622.00</td>\n",
       "    </tr>\n",
       "  </tbody>\n",
       "</table>\n",
       "</div>"
      ],
      "text/plain": [
       "   user_id  month  count_calls  sum_calls  messages   mb_used\n",
       "0     1005      1        15.00      95.00      7.00  2,730.00\n",
       "1     1032      1        61.00     380.00     38.00 24,147.00\n",
       "2     1045      1         1.00       9.00      5.00  2,348.00\n",
       "3     1055      1        64.00     551.00     30.00 17,111.00\n",
       "4     1071      1        24.00     194.00     16.00 15,622.00"
      ]
     },
     "execution_count": 14,
     "metadata": {},
     "output_type": "execute_result"
    }
   ],
   "source": [
    "profit = calls_times.merge(messages_times, on=['user_id','month'], how='outer')\n",
    "profit = profit.merge(internet_times, on=['user_id','month'], how='outer')\n",
    "profit.head() "
   ]
  },
  {
   "cell_type": "code",
   "execution_count": 15,
   "metadata": {},
   "outputs": [
    {
     "data": {
      "text/html": [
       "<div>\n",
       "<style scoped>\n",
       "    .dataframe tbody tr th:only-of-type {\n",
       "        vertical-align: middle;\n",
       "    }\n",
       "\n",
       "    .dataframe tbody tr th {\n",
       "        vertical-align: top;\n",
       "    }\n",
       "\n",
       "    .dataframe thead th {\n",
       "        text-align: right;\n",
       "    }\n",
       "</style>\n",
       "<table border=\"1\" class=\"dataframe\">\n",
       "  <thead>\n",
       "    <tr style=\"text-align: right;\">\n",
       "      <th></th>\n",
       "      <th>user_id</th>\n",
       "      <th>month</th>\n",
       "      <th>count_calls</th>\n",
       "      <th>sum_calls</th>\n",
       "      <th>messages</th>\n",
       "      <th>mb_used</th>\n",
       "      <th>age</th>\n",
       "      <th>city</th>\n",
       "      <th>first_name</th>\n",
       "      <th>last_name</th>\n",
       "      <th>reg_date</th>\n",
       "      <th>tariff</th>\n",
       "    </tr>\n",
       "  </thead>\n",
       "  <tbody>\n",
       "    <tr>\n",
       "      <th>0</th>\n",
       "      <td>1005</td>\n",
       "      <td>1.00</td>\n",
       "      <td>15.00</td>\n",
       "      <td>95.00</td>\n",
       "      <td>7.00</td>\n",
       "      <td>2,730.00</td>\n",
       "      <td>67</td>\n",
       "      <td>набережные челны</td>\n",
       "      <td>афанасий</td>\n",
       "      <td>горлов</td>\n",
       "      <td>2018-01-25</td>\n",
       "      <td>smart</td>\n",
       "    </tr>\n",
       "    <tr>\n",
       "      <th>1</th>\n",
       "      <td>1005</td>\n",
       "      <td>2.00</td>\n",
       "      <td>69.00</td>\n",
       "      <td>456.00</td>\n",
       "      <td>38.00</td>\n",
       "      <td>7,394.00</td>\n",
       "      <td>67</td>\n",
       "      <td>набережные челны</td>\n",
       "      <td>афанасий</td>\n",
       "      <td>горлов</td>\n",
       "      <td>2018-01-25</td>\n",
       "      <td>smart</td>\n",
       "    </tr>\n",
       "    <tr>\n",
       "      <th>2</th>\n",
       "      <td>1005</td>\n",
       "      <td>3.00</td>\n",
       "      <td>77.00</td>\n",
       "      <td>606.00</td>\n",
       "      <td>56.00</td>\n",
       "      <td>11,117.00</td>\n",
       "      <td>67</td>\n",
       "      <td>набережные челны</td>\n",
       "      <td>афанасий</td>\n",
       "      <td>горлов</td>\n",
       "      <td>2018-01-25</td>\n",
       "      <td>smart</td>\n",
       "    </tr>\n",
       "    <tr>\n",
       "      <th>3</th>\n",
       "      <td>1005</td>\n",
       "      <td>4.00</td>\n",
       "      <td>101.00</td>\n",
       "      <td>712.00</td>\n",
       "      <td>41.00</td>\n",
       "      <td>9,365.00</td>\n",
       "      <td>67</td>\n",
       "      <td>набережные челны</td>\n",
       "      <td>афанасий</td>\n",
       "      <td>горлов</td>\n",
       "      <td>2018-01-25</td>\n",
       "      <td>smart</td>\n",
       "    </tr>\n",
       "    <tr>\n",
       "      <th>4</th>\n",
       "      <td>1005</td>\n",
       "      <td>5.00</td>\n",
       "      <td>73.00</td>\n",
       "      <td>595.00</td>\n",
       "      <td>42.00</td>\n",
       "      <td>7,877.00</td>\n",
       "      <td>67</td>\n",
       "      <td>набережные челны</td>\n",
       "      <td>афанасий</td>\n",
       "      <td>горлов</td>\n",
       "      <td>2018-01-25</td>\n",
       "      <td>smart</td>\n",
       "    </tr>\n",
       "  </tbody>\n",
       "</table>\n",
       "</div>"
      ],
      "text/plain": [
       "   user_id  month  count_calls  sum_calls  messages   mb_used  age  \\\n",
       "0     1005   1.00        15.00      95.00      7.00  2,730.00   67   \n",
       "1     1005   2.00        69.00     456.00     38.00  7,394.00   67   \n",
       "2     1005   3.00        77.00     606.00     56.00 11,117.00   67   \n",
       "3     1005   4.00       101.00     712.00     41.00  9,365.00   67   \n",
       "4     1005   5.00        73.00     595.00     42.00  7,877.00   67   \n",
       "\n",
       "               city first_name last_name   reg_date tariff  \n",
       "0  набережные челны   афанасий    горлов 2018-01-25  smart  \n",
       "1  набережные челны   афанасий    горлов 2018-01-25  smart  \n",
       "2  набережные челны   афанасий    горлов 2018-01-25  smart  \n",
       "3  набережные челны   афанасий    горлов 2018-01-25  smart  \n",
       "4  набережные челны   афанасий    горлов 2018-01-25  smart  "
      ]
     },
     "execution_count": 15,
     "metadata": {},
     "output_type": "execute_result"
    }
   ],
   "source": [
    "profit = profit.merge(users, on='user_id', how='outer')\n",
    "profit.head()"
   ]
  },
  {
   "cell_type": "code",
   "execution_count": 16,
   "metadata": {},
   "outputs": [],
   "source": [
    "tariffs = tariffs.rename(columns={'tariff_name':'tariff'})#перимееуем столбец в датасете"
   ]
  },
  {
   "cell_type": "code",
   "execution_count": 17,
   "metadata": {},
   "outputs": [
    {
     "data": {
      "text/html": [
       "<div>\n",
       "<style scoped>\n",
       "    .dataframe tbody tr th:only-of-type {\n",
       "        vertical-align: middle;\n",
       "    }\n",
       "\n",
       "    .dataframe tbody tr th {\n",
       "        vertical-align: top;\n",
       "    }\n",
       "\n",
       "    .dataframe thead th {\n",
       "        text-align: right;\n",
       "    }\n",
       "</style>\n",
       "<table border=\"1\" class=\"dataframe\">\n",
       "  <thead>\n",
       "    <tr style=\"text-align: right;\">\n",
       "      <th></th>\n",
       "      <th>user_id</th>\n",
       "      <th>month</th>\n",
       "      <th>count_calls</th>\n",
       "      <th>sum_calls</th>\n",
       "      <th>messages</th>\n",
       "      <th>mb_used</th>\n",
       "      <th>age</th>\n",
       "      <th>city</th>\n",
       "      <th>first_name</th>\n",
       "      <th>last_name</th>\n",
       "      <th>reg_date</th>\n",
       "      <th>tariff</th>\n",
       "      <th>messages_included</th>\n",
       "      <th>mb_per_month_included</th>\n",
       "      <th>minutes_included</th>\n",
       "      <th>rub_monthly_fee</th>\n",
       "      <th>rub_per_gb</th>\n",
       "      <th>rub_per_message</th>\n",
       "      <th>rub_per_minute</th>\n",
       "    </tr>\n",
       "  </thead>\n",
       "  <tbody>\n",
       "    <tr>\n",
       "      <th>0</th>\n",
       "      <td>1005</td>\n",
       "      <td>1.00</td>\n",
       "      <td>15.00</td>\n",
       "      <td>95.00</td>\n",
       "      <td>7.00</td>\n",
       "      <td>2,730.00</td>\n",
       "      <td>67</td>\n",
       "      <td>набережные челны</td>\n",
       "      <td>афанасий</td>\n",
       "      <td>горлов</td>\n",
       "      <td>2018-01-25</td>\n",
       "      <td>smart</td>\n",
       "      <td>50</td>\n",
       "      <td>15360</td>\n",
       "      <td>500</td>\n",
       "      <td>550</td>\n",
       "      <td>200</td>\n",
       "      <td>3</td>\n",
       "      <td>3</td>\n",
       "    </tr>\n",
       "    <tr>\n",
       "      <th>1</th>\n",
       "      <td>1005</td>\n",
       "      <td>2.00</td>\n",
       "      <td>69.00</td>\n",
       "      <td>456.00</td>\n",
       "      <td>38.00</td>\n",
       "      <td>7,394.00</td>\n",
       "      <td>67</td>\n",
       "      <td>набережные челны</td>\n",
       "      <td>афанасий</td>\n",
       "      <td>горлов</td>\n",
       "      <td>2018-01-25</td>\n",
       "      <td>smart</td>\n",
       "      <td>50</td>\n",
       "      <td>15360</td>\n",
       "      <td>500</td>\n",
       "      <td>550</td>\n",
       "      <td>200</td>\n",
       "      <td>3</td>\n",
       "      <td>3</td>\n",
       "    </tr>\n",
       "    <tr>\n",
       "      <th>2</th>\n",
       "      <td>1005</td>\n",
       "      <td>3.00</td>\n",
       "      <td>77.00</td>\n",
       "      <td>606.00</td>\n",
       "      <td>56.00</td>\n",
       "      <td>11,117.00</td>\n",
       "      <td>67</td>\n",
       "      <td>набережные челны</td>\n",
       "      <td>афанасий</td>\n",
       "      <td>горлов</td>\n",
       "      <td>2018-01-25</td>\n",
       "      <td>smart</td>\n",
       "      <td>50</td>\n",
       "      <td>15360</td>\n",
       "      <td>500</td>\n",
       "      <td>550</td>\n",
       "      <td>200</td>\n",
       "      <td>3</td>\n",
       "      <td>3</td>\n",
       "    </tr>\n",
       "    <tr>\n",
       "      <th>3</th>\n",
       "      <td>1005</td>\n",
       "      <td>4.00</td>\n",
       "      <td>101.00</td>\n",
       "      <td>712.00</td>\n",
       "      <td>41.00</td>\n",
       "      <td>9,365.00</td>\n",
       "      <td>67</td>\n",
       "      <td>набережные челны</td>\n",
       "      <td>афанасий</td>\n",
       "      <td>горлов</td>\n",
       "      <td>2018-01-25</td>\n",
       "      <td>smart</td>\n",
       "      <td>50</td>\n",
       "      <td>15360</td>\n",
       "      <td>500</td>\n",
       "      <td>550</td>\n",
       "      <td>200</td>\n",
       "      <td>3</td>\n",
       "      <td>3</td>\n",
       "    </tr>\n",
       "    <tr>\n",
       "      <th>4</th>\n",
       "      <td>1005</td>\n",
       "      <td>5.00</td>\n",
       "      <td>73.00</td>\n",
       "      <td>595.00</td>\n",
       "      <td>42.00</td>\n",
       "      <td>7,877.00</td>\n",
       "      <td>67</td>\n",
       "      <td>набережные челны</td>\n",
       "      <td>афанасий</td>\n",
       "      <td>горлов</td>\n",
       "      <td>2018-01-25</td>\n",
       "      <td>smart</td>\n",
       "      <td>50</td>\n",
       "      <td>15360</td>\n",
       "      <td>500</td>\n",
       "      <td>550</td>\n",
       "      <td>200</td>\n",
       "      <td>3</td>\n",
       "      <td>3</td>\n",
       "    </tr>\n",
       "  </tbody>\n",
       "</table>\n",
       "</div>"
      ],
      "text/plain": [
       "   user_id  month  count_calls  sum_calls  messages   mb_used  age  \\\n",
       "0     1005   1.00        15.00      95.00      7.00  2,730.00   67   \n",
       "1     1005   2.00        69.00     456.00     38.00  7,394.00   67   \n",
       "2     1005   3.00        77.00     606.00     56.00 11,117.00   67   \n",
       "3     1005   4.00       101.00     712.00     41.00  9,365.00   67   \n",
       "4     1005   5.00        73.00     595.00     42.00  7,877.00   67   \n",
       "\n",
       "               city first_name last_name   reg_date tariff  messages_included  \\\n",
       "0  набережные челны   афанасий    горлов 2018-01-25  smart                 50   \n",
       "1  набережные челны   афанасий    горлов 2018-01-25  smart                 50   \n",
       "2  набережные челны   афанасий    горлов 2018-01-25  smart                 50   \n",
       "3  набережные челны   афанасий    горлов 2018-01-25  smart                 50   \n",
       "4  набережные челны   афанасий    горлов 2018-01-25  smart                 50   \n",
       "\n",
       "   mb_per_month_included  minutes_included  rub_monthly_fee  rub_per_gb  \\\n",
       "0                  15360               500              550         200   \n",
       "1                  15360               500              550         200   \n",
       "2                  15360               500              550         200   \n",
       "3                  15360               500              550         200   \n",
       "4                  15360               500              550         200   \n",
       "\n",
       "   rub_per_message  rub_per_minute  \n",
       "0                3               3  \n",
       "1                3               3  \n",
       "2                3               3  \n",
       "3                3               3  \n",
       "4                3               3  "
      ]
     },
     "execution_count": 17,
     "metadata": {},
     "output_type": "execute_result"
    }
   ],
   "source": [
    "profit = profit.merge(tariffs, on='tariff', how='outer')\n",
    "profit.head()"
   ]
  },
  {
   "cell_type": "code",
   "execution_count": 18,
   "metadata": {},
   "outputs": [],
   "source": [
    "profit = profit.fillna(0)"
   ]
  },
  {
   "cell_type": "code",
   "execution_count": 19,
   "metadata": {},
   "outputs": [
    {
     "name": "stdout",
     "output_type": "stream",
     "text": [
      "<class 'pandas.core.frame.DataFrame'>\n",
      "Int64Index: 3216 entries, 0 to 3215\n",
      "Data columns (total 19 columns):\n",
      " #   Column                 Non-Null Count  Dtype         \n",
      "---  ------                 --------------  -----         \n",
      " 0   user_id                3216 non-null   int64         \n",
      " 1   month                  3216 non-null   float64       \n",
      " 2   count_calls            3216 non-null   float64       \n",
      " 3   sum_calls              3216 non-null   float64       \n",
      " 4   messages               3216 non-null   float64       \n",
      " 5   mb_used                3216 non-null   float64       \n",
      " 6   age                    3216 non-null   int64         \n",
      " 7   city                   3216 non-null   object        \n",
      " 8   first_name             3216 non-null   object        \n",
      " 9   last_name              3216 non-null   object        \n",
      " 10  reg_date               3216 non-null   datetime64[ns]\n",
      " 11  tariff                 3216 non-null   object        \n",
      " 12  messages_included      3216 non-null   int64         \n",
      " 13  mb_per_month_included  3216 non-null   int64         \n",
      " 14  minutes_included       3216 non-null   int64         \n",
      " 15  rub_monthly_fee        3216 non-null   int64         \n",
      " 16  rub_per_gb             3216 non-null   int64         \n",
      " 17  rub_per_message        3216 non-null   int64         \n",
      " 18  rub_per_minute         3216 non-null   int64         \n",
      "dtypes: datetime64[ns](1), float64(5), int64(9), object(4)\n",
      "memory usage: 502.5+ KB\n"
     ]
    }
   ],
   "source": [
    "profit.info()"
   ]
  },
  {
   "cell_type": "code",
   "execution_count": 20,
   "metadata": {},
   "outputs": [],
   "source": [
    "def overrun(row):\n",
    "    sms = (row['messages'] - row['messages_included']) * row['rub_per_message']\n",
    "    mins = (row['sum_calls'] - row['minutes_included']) * row['rub_per_minute']\n",
    "    mbs = np.floor((row['mb_used'] - row['mb_per_month_included']) * row['rub_per_gb'] / 1024)\n",
    "    total = 0\n",
    "    for i in [sms, mins, mbs]:\n",
    "        if i > 0:\n",
    "            total += i\n",
    "    return total"
   ]
  },
  {
   "cell_type": "code",
   "execution_count": 21,
   "metadata": {},
   "outputs": [],
   "source": [
    "profit['overrun'] = profit.apply(lambda x: overrun(x), axis=1)"
   ]
  },
  {
   "cell_type": "code",
   "execution_count": 22,
   "metadata": {},
   "outputs": [],
   "source": [
    "profit['total_paid'] = profit['rub_monthly_fee'] + profit['overrun']"
   ]
  },
  {
   "cell_type": "code",
   "execution_count": 23,
   "metadata": {
    "scrolled": false
   },
   "outputs": [
    {
     "data": {
      "text/html": [
       "<div>\n",
       "<style scoped>\n",
       "    .dataframe tbody tr th:only-of-type {\n",
       "        vertical-align: middle;\n",
       "    }\n",
       "\n",
       "    .dataframe tbody tr th {\n",
       "        vertical-align: top;\n",
       "    }\n",
       "\n",
       "    .dataframe thead th {\n",
       "        text-align: right;\n",
       "    }\n",
       "</style>\n",
       "<table border=\"1\" class=\"dataframe\">\n",
       "  <thead>\n",
       "    <tr style=\"text-align: right;\">\n",
       "      <th></th>\n",
       "      <th>user_id</th>\n",
       "      <th>month</th>\n",
       "      <th>count_calls</th>\n",
       "      <th>sum_calls</th>\n",
       "      <th>messages</th>\n",
       "      <th>mb_used</th>\n",
       "      <th>age</th>\n",
       "      <th>city</th>\n",
       "      <th>first_name</th>\n",
       "      <th>last_name</th>\n",
       "      <th>...</th>\n",
       "      <th>tariff</th>\n",
       "      <th>messages_included</th>\n",
       "      <th>mb_per_month_included</th>\n",
       "      <th>minutes_included</th>\n",
       "      <th>rub_monthly_fee</th>\n",
       "      <th>rub_per_gb</th>\n",
       "      <th>rub_per_message</th>\n",
       "      <th>rub_per_minute</th>\n",
       "      <th>overrun</th>\n",
       "      <th>total_paid</th>\n",
       "    </tr>\n",
       "  </thead>\n",
       "  <tbody>\n",
       "    <tr>\n",
       "      <th>0</th>\n",
       "      <td>1005</td>\n",
       "      <td>1.00</td>\n",
       "      <td>15.00</td>\n",
       "      <td>95.00</td>\n",
       "      <td>7.00</td>\n",
       "      <td>2,730.00</td>\n",
       "      <td>67</td>\n",
       "      <td>набережные челны</td>\n",
       "      <td>афанасий</td>\n",
       "      <td>горлов</td>\n",
       "      <td>...</td>\n",
       "      <td>smart</td>\n",
       "      <td>50</td>\n",
       "      <td>15360</td>\n",
       "      <td>500</td>\n",
       "      <td>550</td>\n",
       "      <td>200</td>\n",
       "      <td>3</td>\n",
       "      <td>3</td>\n",
       "      <td>0.00</td>\n",
       "      <td>550.00</td>\n",
       "    </tr>\n",
       "    <tr>\n",
       "      <th>1</th>\n",
       "      <td>1005</td>\n",
       "      <td>2.00</td>\n",
       "      <td>69.00</td>\n",
       "      <td>456.00</td>\n",
       "      <td>38.00</td>\n",
       "      <td>7,394.00</td>\n",
       "      <td>67</td>\n",
       "      <td>набережные челны</td>\n",
       "      <td>афанасий</td>\n",
       "      <td>горлов</td>\n",
       "      <td>...</td>\n",
       "      <td>smart</td>\n",
       "      <td>50</td>\n",
       "      <td>15360</td>\n",
       "      <td>500</td>\n",
       "      <td>550</td>\n",
       "      <td>200</td>\n",
       "      <td>3</td>\n",
       "      <td>3</td>\n",
       "      <td>0.00</td>\n",
       "      <td>550.00</td>\n",
       "    </tr>\n",
       "    <tr>\n",
       "      <th>2</th>\n",
       "      <td>1005</td>\n",
       "      <td>3.00</td>\n",
       "      <td>77.00</td>\n",
       "      <td>606.00</td>\n",
       "      <td>56.00</td>\n",
       "      <td>11,117.00</td>\n",
       "      <td>67</td>\n",
       "      <td>набережные челны</td>\n",
       "      <td>афанасий</td>\n",
       "      <td>горлов</td>\n",
       "      <td>...</td>\n",
       "      <td>smart</td>\n",
       "      <td>50</td>\n",
       "      <td>15360</td>\n",
       "      <td>500</td>\n",
       "      <td>550</td>\n",
       "      <td>200</td>\n",
       "      <td>3</td>\n",
       "      <td>3</td>\n",
       "      <td>336.00</td>\n",
       "      <td>886.00</td>\n",
       "    </tr>\n",
       "    <tr>\n",
       "      <th>3</th>\n",
       "      <td>1005</td>\n",
       "      <td>4.00</td>\n",
       "      <td>101.00</td>\n",
       "      <td>712.00</td>\n",
       "      <td>41.00</td>\n",
       "      <td>9,365.00</td>\n",
       "      <td>67</td>\n",
       "      <td>набережные челны</td>\n",
       "      <td>афанасий</td>\n",
       "      <td>горлов</td>\n",
       "      <td>...</td>\n",
       "      <td>smart</td>\n",
       "      <td>50</td>\n",
       "      <td>15360</td>\n",
       "      <td>500</td>\n",
       "      <td>550</td>\n",
       "      <td>200</td>\n",
       "      <td>3</td>\n",
       "      <td>3</td>\n",
       "      <td>636.00</td>\n",
       "      <td>1,186.00</td>\n",
       "    </tr>\n",
       "    <tr>\n",
       "      <th>4</th>\n",
       "      <td>1005</td>\n",
       "      <td>5.00</td>\n",
       "      <td>73.00</td>\n",
       "      <td>595.00</td>\n",
       "      <td>42.00</td>\n",
       "      <td>7,877.00</td>\n",
       "      <td>67</td>\n",
       "      <td>набережные челны</td>\n",
       "      <td>афанасий</td>\n",
       "      <td>горлов</td>\n",
       "      <td>...</td>\n",
       "      <td>smart</td>\n",
       "      <td>50</td>\n",
       "      <td>15360</td>\n",
       "      <td>500</td>\n",
       "      <td>550</td>\n",
       "      <td>200</td>\n",
       "      <td>3</td>\n",
       "      <td>3</td>\n",
       "      <td>285.00</td>\n",
       "      <td>835.00</td>\n",
       "    </tr>\n",
       "  </tbody>\n",
       "</table>\n",
       "<p>5 rows × 21 columns</p>\n",
       "</div>"
      ],
      "text/plain": [
       "   user_id  month  count_calls  sum_calls  messages   mb_used  age  \\\n",
       "0     1005   1.00        15.00      95.00      7.00  2,730.00   67   \n",
       "1     1005   2.00        69.00     456.00     38.00  7,394.00   67   \n",
       "2     1005   3.00        77.00     606.00     56.00 11,117.00   67   \n",
       "3     1005   4.00       101.00     712.00     41.00  9,365.00   67   \n",
       "4     1005   5.00        73.00     595.00     42.00  7,877.00   67   \n",
       "\n",
       "               city first_name last_name  ... tariff messages_included  \\\n",
       "0  набережные челны   афанасий    горлов  ...  smart                50   \n",
       "1  набережные челны   афанасий    горлов  ...  smart                50   \n",
       "2  набережные челны   афанасий    горлов  ...  smart                50   \n",
       "3  набережные челны   афанасий    горлов  ...  smart                50   \n",
       "4  набережные челны   афанасий    горлов  ...  smart                50   \n",
       "\n",
       "   mb_per_month_included  minutes_included  rub_monthly_fee  rub_per_gb  \\\n",
       "0                  15360               500              550         200   \n",
       "1                  15360               500              550         200   \n",
       "2                  15360               500              550         200   \n",
       "3                  15360               500              550         200   \n",
       "4                  15360               500              550         200   \n",
       "\n",
       "   rub_per_message  rub_per_minute  overrun  total_paid  \n",
       "0                3               3     0.00      550.00  \n",
       "1                3               3     0.00      550.00  \n",
       "2                3               3   336.00      886.00  \n",
       "3                3               3   636.00    1,186.00  \n",
       "4                3               3   285.00      835.00  \n",
       "\n",
       "[5 rows x 21 columns]"
      ]
     },
     "execution_count": 23,
     "metadata": {},
     "output_type": "execute_result"
    }
   ],
   "source": [
    "profit.head()"
   ]
  },
  {
   "cell_type": "markdown",
   "metadata": {},
   "source": [
    "## Анализ данных"
   ]
  },
  {
   "cell_type": "markdown",
   "metadata": {},
   "source": [
    "### Сколько минут разговора, сколько сообщений и какой объём интернет-трафика требуется пользователям каждого тарифа в месяц?"
   ]
  },
  {
   "cell_type": "code",
   "execution_count": 24,
   "metadata": {},
   "outputs": [],
   "source": [
    "#Передадим переменным smart_tariff и ultra_tariff соответственные данные из таблицы\n",
    "smart = profit[profit['tariff']=='smart']\n",
    "ultra = profit[profit['tariff']=='ultra']"
   ]
  },
  {
   "cell_type": "code",
   "execution_count": 25,
   "metadata": {},
   "outputs": [
    {
     "data": {
      "text/html": [
       "<div>\n",
       "<style scoped>\n",
       "    .dataframe tbody tr th:only-of-type {\n",
       "        vertical-align: middle;\n",
       "    }\n",
       "\n",
       "    .dataframe tbody tr th {\n",
       "        vertical-align: top;\n",
       "    }\n",
       "\n",
       "    .dataframe thead th {\n",
       "        text-align: right;\n",
       "    }\n",
       "</style>\n",
       "<table border=\"1\" class=\"dataframe\">\n",
       "  <thead>\n",
       "    <tr style=\"text-align: right;\">\n",
       "      <th></th>\n",
       "      <th>month</th>\n",
       "      <th>mb_used</th>\n",
       "      <th>messages</th>\n",
       "      <th>sum_calls</th>\n",
       "      <th>total_paid</th>\n",
       "    </tr>\n",
       "  </thead>\n",
       "  <tbody>\n",
       "    <tr>\n",
       "      <th>0</th>\n",
       "      <td>0.00</td>\n",
       "      <td>0.00</td>\n",
       "      <td>0.00</td>\n",
       "      <td>0.00</td>\n",
       "      <td>550.00</td>\n",
       "    </tr>\n",
       "    <tr>\n",
       "      <th>1</th>\n",
       "      <td>1.00</td>\n",
       "      <td>289,831.00</td>\n",
       "      <td>620.00</td>\n",
       "      <td>6,931.00</td>\n",
       "      <td>23,883.00</td>\n",
       "    </tr>\n",
       "    <tr>\n",
       "      <th>2</th>\n",
       "      <td>2.00</td>\n",
       "      <td>673,461.00</td>\n",
       "      <td>1,397.00</td>\n",
       "      <td>17,324.00</td>\n",
       "      <td>46,645.00</td>\n",
       "    </tr>\n",
       "    <tr>\n",
       "      <th>3</th>\n",
       "      <td>3.00</td>\n",
       "      <td>1,164,537.00</td>\n",
       "      <td>2,453.00</td>\n",
       "      <td>30,034.00</td>\n",
       "      <td>86,096.00</td>\n",
       "    </tr>\n",
       "    <tr>\n",
       "      <th>4</th>\n",
       "      <td>4.00</td>\n",
       "      <td>1,509,702.00</td>\n",
       "      <td>3,443.00</td>\n",
       "      <td>41,119.00</td>\n",
       "      <td>103,281.00</td>\n",
       "    </tr>\n",
       "    <tr>\n",
       "      <th>5</th>\n",
       "      <td>5.00</td>\n",
       "      <td>2,231,353.00</td>\n",
       "      <td>4,762.00</td>\n",
       "      <td>54,618.00</td>\n",
       "      <td>161,671.00</td>\n",
       "    </tr>\n",
       "    <tr>\n",
       "      <th>6</th>\n",
       "      <td>6.00</td>\n",
       "      <td>2,593,622.00</td>\n",
       "      <td>5,478.00</td>\n",
       "      <td>64,885.00</td>\n",
       "      <td>188,484.00</td>\n",
       "    </tr>\n",
       "    <tr>\n",
       "      <th>7</th>\n",
       "      <td>7.00</td>\n",
       "      <td>3,168,466.00</td>\n",
       "      <td>6,784.00</td>\n",
       "      <td>82,079.00</td>\n",
       "      <td>234,728.00</td>\n",
       "    </tr>\n",
       "    <tr>\n",
       "      <th>8</th>\n",
       "      <td>8.00</td>\n",
       "      <td>3,908,561.00</td>\n",
       "      <td>7,905.00</td>\n",
       "      <td>99,045.00</td>\n",
       "      <td>295,670.00</td>\n",
       "    </tr>\n",
       "    <tr>\n",
       "      <th>9</th>\n",
       "      <td>9.00</td>\n",
       "      <td>4,244,377.00</td>\n",
       "      <td>8,746.00</td>\n",
       "      <td>111,439.00</td>\n",
       "      <td>311,684.00</td>\n",
       "    </tr>\n",
       "    <tr>\n",
       "      <th>10</th>\n",
       "      <td>10.00</td>\n",
       "      <td>4,932,898.00</td>\n",
       "      <td>9,927.00</td>\n",
       "      <td>125,284.00</td>\n",
       "      <td>383,539.00</td>\n",
       "    </tr>\n",
       "    <tr>\n",
       "      <th>11</th>\n",
       "      <td>11.00</td>\n",
       "      <td>5,345,940.00</td>\n",
       "      <td>10,768.00</td>\n",
       "      <td>137,544.00</td>\n",
       "      <td>405,444.00</td>\n",
       "    </tr>\n",
       "    <tr>\n",
       "      <th>12</th>\n",
       "      <td>12.00</td>\n",
       "      <td>6,112,113.00</td>\n",
       "      <td>12,130.00</td>\n",
       "      <td>161,275.00</td>\n",
       "      <td>507,361.00</td>\n",
       "    </tr>\n",
       "  </tbody>\n",
       "</table>\n",
       "</div>"
      ],
      "text/plain": [
       "    month      mb_used  messages  sum_calls  total_paid\n",
       "0    0.00         0.00      0.00       0.00      550.00\n",
       "1    1.00   289,831.00    620.00   6,931.00   23,883.00\n",
       "2    2.00   673,461.00  1,397.00  17,324.00   46,645.00\n",
       "3    3.00 1,164,537.00  2,453.00  30,034.00   86,096.00\n",
       "4    4.00 1,509,702.00  3,443.00  41,119.00  103,281.00\n",
       "5    5.00 2,231,353.00  4,762.00  54,618.00  161,671.00\n",
       "6    6.00 2,593,622.00  5,478.00  64,885.00  188,484.00\n",
       "7    7.00 3,168,466.00  6,784.00  82,079.00  234,728.00\n",
       "8    8.00 3,908,561.00  7,905.00  99,045.00  295,670.00\n",
       "9    9.00 4,244,377.00  8,746.00 111,439.00  311,684.00\n",
       "10  10.00 4,932,898.00  9,927.00 125,284.00  383,539.00\n",
       "11  11.00 5,345,940.00 10,768.00 137,544.00  405,444.00\n",
       "12  12.00 6,112,113.00 12,130.00 161,275.00  507,361.00"
      ]
     },
     "execution_count": 25,
     "metadata": {},
     "output_type": "execute_result"
    }
   ],
   "source": [
    "smart = smart.pivot_table(index='month', values=['sum_calls','messages','mb_used','total_paid'], aggfunc='sum')\n",
    "smart = pd.DataFrame(smart.to_records())\n",
    "smart"
   ]
  },
  {
   "cell_type": "code",
   "execution_count": 26,
   "metadata": {},
   "outputs": [
    {
     "data": {
      "text/html": [
       "<div>\n",
       "<style scoped>\n",
       "    .dataframe tbody tr th:only-of-type {\n",
       "        vertical-align: middle;\n",
       "    }\n",
       "\n",
       "    .dataframe tbody tr th {\n",
       "        vertical-align: top;\n",
       "    }\n",
       "\n",
       "    .dataframe thead th {\n",
       "        text-align: right;\n",
       "    }\n",
       "</style>\n",
       "<table border=\"1\" class=\"dataframe\">\n",
       "  <thead>\n",
       "    <tr style=\"text-align: right;\">\n",
       "      <th></th>\n",
       "      <th>month</th>\n",
       "      <th>mb_used</th>\n",
       "      <th>messages</th>\n",
       "      <th>sum_calls</th>\n",
       "      <th>total_paid</th>\n",
       "    </tr>\n",
       "  </thead>\n",
       "  <tbody>\n",
       "    <tr>\n",
       "      <th>0</th>\n",
       "      <td>0.00</td>\n",
       "      <td>0.00</td>\n",
       "      <td>0.00</td>\n",
       "      <td>0.00</td>\n",
       "      <td>1,950.00</td>\n",
       "    </tr>\n",
       "    <tr>\n",
       "      <th>1</th>\n",
       "      <td>1.00</td>\n",
       "      <td>118,382.00</td>\n",
       "      <td>304.00</td>\n",
       "      <td>3,853.00</td>\n",
       "      <td>17,550.00</td>\n",
       "    </tr>\n",
       "    <tr>\n",
       "      <th>2</th>\n",
       "      <td>2.00</td>\n",
       "      <td>282,887.00</td>\n",
       "      <td>527.00</td>\n",
       "      <td>7,131.00</td>\n",
       "      <td>47,352.00</td>\n",
       "    </tr>\n",
       "    <tr>\n",
       "      <th>3</th>\n",
       "      <td>3.00</td>\n",
       "      <td>649,423.00</td>\n",
       "      <td>1,195.00</td>\n",
       "      <td>18,117.00</td>\n",
       "      <td>74,151.00</td>\n",
       "    </tr>\n",
       "    <tr>\n",
       "      <th>4</th>\n",
       "      <td>4.00</td>\n",
       "      <td>926,409.00</td>\n",
       "      <td>1,736.00</td>\n",
       "      <td>25,191.00</td>\n",
       "      <td>109,746.00</td>\n",
       "    </tr>\n",
       "    <tr>\n",
       "      <th>5</th>\n",
       "      <td>5.00</td>\n",
       "      <td>1,298,540.00</td>\n",
       "      <td>2,536.00</td>\n",
       "      <td>34,192.00</td>\n",
       "      <td>137,678.00</td>\n",
       "    </tr>\n",
       "    <tr>\n",
       "      <th>6</th>\n",
       "      <td>6.00</td>\n",
       "      <td>1,591,148.00</td>\n",
       "      <td>3,505.00</td>\n",
       "      <td>40,295.00</td>\n",
       "      <td>170,687.00</td>\n",
       "    </tr>\n",
       "    <tr>\n",
       "      <th>7</th>\n",
       "      <td>7.00</td>\n",
       "      <td>1,866,833.00</td>\n",
       "      <td>4,536.00</td>\n",
       "      <td>49,667.00</td>\n",
       "      <td>191,867.00</td>\n",
       "    </tr>\n",
       "    <tr>\n",
       "      <th>8</th>\n",
       "      <td>8.00</td>\n",
       "      <td>2,096,565.00</td>\n",
       "      <td>5,183.00</td>\n",
       "      <td>54,653.00</td>\n",
       "      <td>221,603.00</td>\n",
       "    </tr>\n",
       "    <tr>\n",
       "      <th>9</th>\n",
       "      <td>9.00</td>\n",
       "      <td>2,210,554.00</td>\n",
       "      <td>6,013.00</td>\n",
       "      <td>62,036.00</td>\n",
       "      <td>231,572.00</td>\n",
       "    </tr>\n",
       "    <tr>\n",
       "      <th>10</th>\n",
       "      <td>10.00</td>\n",
       "      <td>2,467,856.00</td>\n",
       "      <td>7,187.00</td>\n",
       "      <td>68,644.00</td>\n",
       "      <td>252,992.00</td>\n",
       "    </tr>\n",
       "    <tr>\n",
       "      <th>11</th>\n",
       "      <td>11.00</td>\n",
       "      <td>2,653,912.00</td>\n",
       "      <td>7,476.00</td>\n",
       "      <td>72,545.00</td>\n",
       "      <td>278,819.00</td>\n",
       "    </tr>\n",
       "    <tr>\n",
       "      <th>12</th>\n",
       "      <td>12.00</td>\n",
       "      <td>3,032,089.00</td>\n",
       "      <td>8,425.00</td>\n",
       "      <td>82,400.00</td>\n",
       "      <td>295,539.00</td>\n",
       "    </tr>\n",
       "  </tbody>\n",
       "</table>\n",
       "</div>"
      ],
      "text/plain": [
       "    month      mb_used  messages  sum_calls  total_paid\n",
       "0    0.00         0.00      0.00       0.00    1,950.00\n",
       "1    1.00   118,382.00    304.00   3,853.00   17,550.00\n",
       "2    2.00   282,887.00    527.00   7,131.00   47,352.00\n",
       "3    3.00   649,423.00  1,195.00  18,117.00   74,151.00\n",
       "4    4.00   926,409.00  1,736.00  25,191.00  109,746.00\n",
       "5    5.00 1,298,540.00  2,536.00  34,192.00  137,678.00\n",
       "6    6.00 1,591,148.00  3,505.00  40,295.00  170,687.00\n",
       "7    7.00 1,866,833.00  4,536.00  49,667.00  191,867.00\n",
       "8    8.00 2,096,565.00  5,183.00  54,653.00  221,603.00\n",
       "9    9.00 2,210,554.00  6,013.00  62,036.00  231,572.00\n",
       "10  10.00 2,467,856.00  7,187.00  68,644.00  252,992.00\n",
       "11  11.00 2,653,912.00  7,476.00  72,545.00  278,819.00\n",
       "12  12.00 3,032,089.00  8,425.00  82,400.00  295,539.00"
      ]
     },
     "execution_count": 26,
     "metadata": {},
     "output_type": "execute_result"
    }
   ],
   "source": [
    "ultra = ultra.pivot_table(index='month', values=['sum_calls','messages','mb_used','total_paid'], aggfunc='sum')\n",
    "ultra = pd.DataFrame(ultra.to_records())\n",
    "ultra"
   ]
  },
  {
   "cell_type": "code",
   "execution_count": 27,
   "metadata": {},
   "outputs": [
    {
     "data": {
      "text/plain": [
       "351"
      ]
     },
     "execution_count": 27,
     "metadata": {},
     "output_type": "execute_result"
    }
   ],
   "source": [
    "users[users['tariff']=='smart']['tariff'].count()#количество абонентов Смарта"
   ]
  },
  {
   "cell_type": "code",
   "execution_count": 28,
   "metadata": {},
   "outputs": [
    {
     "data": {
      "text/plain": [
       "149"
      ]
     },
     "execution_count": 28,
     "metadata": {},
     "output_type": "execute_result"
    }
   ],
   "source": [
    "users[users['tariff']=='ultra']['tariff'].count()#количество абонентов Ультра"
   ]
  },
  {
   "cell_type": "code",
   "execution_count": 29,
   "metadata": {},
   "outputs": [
    {
     "name": "stdout",
     "output_type": "stream",
     "text": [
      "В среднем на человека sum_calls: 3481\n",
      "В среднем на человека messages: 326\n",
      "В среднем на человека mb_used: 128823\n",
      "В среднем на человека total_paid: 13634\n"
     ]
    }
   ],
   "source": [
    "for column in ultra[['sum_calls','messages','mb_used','total_paid']]:    \n",
    "    print('В среднем на человека {}: {:.0f}'.format(column,ultra[column].sum()/149))\n",
    "#Кол-во потраченных минут, сообщений и интернет - трафика на человека, на тарифе Ультра"
   ]
  },
  {
   "cell_type": "code",
   "execution_count": 30,
   "metadata": {},
   "outputs": [
    {
     "name": "stdout",
     "output_type": "stream",
     "text": [
      "В среднем на человека sum_calls: 2654\n",
      "В среднем на человека messages: 212\n",
      "В среднем на человека mb_used: 103062\n",
      "В среднем на человека total_paid: 7832\n"
     ]
    }
   ],
   "source": [
    "for column in ultra[['sum_calls','messages','mb_used','total_paid']]:    \n",
    "    print('В среднем на человека {}: {:.0f}'.format(column,smart[column].sum()/351))\n",
    "#Кол-во потраченных минут, сообщений и интернет - трафика на человека, на тарифе Смарт"
   ]
  },
  {
   "cell_type": "markdown",
   "metadata": {},
   "source": [
    "В среднем абоненты тарифа 'Ультра' более активно пользуются услугами и приносят больше прибыли c человека."
   ]
  },
  {
   "cell_type": "markdown",
   "metadata": {},
   "source": [
    "### Посчитаем среднее количество, дисперсию и стандартное отклонение."
   ]
  },
  {
   "cell_type": "code",
   "execution_count": 31,
   "metadata": {},
   "outputs": [
    {
     "data": {
      "text/html": [
       "<style type=\"text/css\">\n",
       "</style>\n",
       "<table id=\"T_96787_\">\n",
       "  <thead>\n",
       "    <tr>\n",
       "      <th class=\"blank level0\" >&nbsp;</th>\n",
       "      <th class=\"col_heading level0 col0\" colspan=\"4\">sum_calls</th>\n",
       "    </tr>\n",
       "    <tr>\n",
       "      <th class=\"blank level1\" >&nbsp;</th>\n",
       "      <th class=\"col_heading level1 col0\" >median</th>\n",
       "      <th class=\"col_heading level1 col1\" >mean</th>\n",
       "      <th class=\"col_heading level1 col2\" >var</th>\n",
       "      <th class=\"col_heading level1 col3\" >std</th>\n",
       "    </tr>\n",
       "    <tr>\n",
       "      <th class=\"index_name level0\" >tariff</th>\n",
       "      <th class=\"blank col0\" >&nbsp;</th>\n",
       "      <th class=\"blank col1\" >&nbsp;</th>\n",
       "      <th class=\"blank col2\" >&nbsp;</th>\n",
       "      <th class=\"blank col3\" >&nbsp;</th>\n",
       "    </tr>\n",
       "  </thead>\n",
       "  <tbody>\n",
       "    <tr>\n",
       "      <th id=\"T_96787_level0_row0\" class=\"row_heading level0 row0\" >smart</th>\n",
       "      <td id=\"T_96787_row0_col0\" class=\"data row0 col0\" >421.50</td>\n",
       "      <td id=\"T_96787_row0_col1\" class=\"data row0 col1\" >417.75</td>\n",
       "      <td id=\"T_96787_row0_col2\" class=\"data row0 col2\" >36281.39</td>\n",
       "      <td id=\"T_96787_row0_col3\" class=\"data row0 col3\" >190.48</td>\n",
       "    </tr>\n",
       "    <tr>\n",
       "      <th id=\"T_96787_level0_row1\" class=\"row_heading level0 row1\" >ultra</th>\n",
       "      <td id=\"T_96787_row1_col0\" class=\"data row1 col0\" >518.00</td>\n",
       "      <td id=\"T_96787_row1_col1\" class=\"data row1 col1\" >526.09</td>\n",
       "      <td id=\"T_96787_row1_col2\" class=\"data row1 col2\" >101052.49</td>\n",
       "      <td id=\"T_96787_row1_col3\" class=\"data row1 col3\" >317.89</td>\n",
       "    </tr>\n",
       "  </tbody>\n",
       "</table>\n"
      ],
      "text/plain": [
       "<pandas.io.formats.style.Styler at 0x2a095191970>"
      ]
     },
     "execution_count": 31,
     "metadata": {},
     "output_type": "execute_result"
    }
   ],
   "source": [
    "#Звонки\n",
    "profit.groupby('tariff')\\\n",
    "  .agg({'sum_calls':['median','mean','var','std']})\\\n",
    "  .style.format(\"{:.2f}\")"
   ]
  },
  {
   "cell_type": "code",
   "execution_count": 32,
   "metadata": {},
   "outputs": [
    {
     "data": {
      "text/html": [
       "<style type=\"text/css\">\n",
       "</style>\n",
       "<table id=\"T_4a4df_\">\n",
       "  <thead>\n",
       "    <tr>\n",
       "      <th class=\"blank level0\" >&nbsp;</th>\n",
       "      <th class=\"col_heading level0 col0\" colspan=\"4\">messages</th>\n",
       "    </tr>\n",
       "    <tr>\n",
       "      <th class=\"blank level1\" >&nbsp;</th>\n",
       "      <th class=\"col_heading level1 col0\" >median</th>\n",
       "      <th class=\"col_heading level1 col1\" >mean</th>\n",
       "      <th class=\"col_heading level1 col2\" >var</th>\n",
       "      <th class=\"col_heading level1 col3\" >std</th>\n",
       "    </tr>\n",
       "    <tr>\n",
       "      <th class=\"index_name level0\" >tariff</th>\n",
       "      <th class=\"blank col0\" >&nbsp;</th>\n",
       "      <th class=\"blank col1\" >&nbsp;</th>\n",
       "      <th class=\"blank col2\" >&nbsp;</th>\n",
       "      <th class=\"blank col3\" >&nbsp;</th>\n",
       "    </tr>\n",
       "  </thead>\n",
       "  <tbody>\n",
       "    <tr>\n",
       "      <th id=\"T_4a4df_level0_row0\" class=\"row_heading level0 row0\" >smart</th>\n",
       "      <td id=\"T_4a4df_row0_col0\" class=\"data row0 col0\" >28.00</td>\n",
       "      <td id=\"T_4a4df_row0_col1\" class=\"data row0 col1\" >33.37</td>\n",
       "      <td id=\"T_4a4df_row0_col2\" class=\"data row0 col2\" >796.96</td>\n",
       "      <td id=\"T_4a4df_row0_col3\" class=\"data row0 col3\" >28.23</td>\n",
       "    </tr>\n",
       "    <tr>\n",
       "      <th id=\"T_4a4df_level0_row1\" class=\"row_heading level0 row1\" >ultra</th>\n",
       "      <td id=\"T_4a4df_row1_col0\" class=\"data row1 col0\" >38.00</td>\n",
       "      <td id=\"T_4a4df_row1_col1\" class=\"data row1 col1\" >49.31</td>\n",
       "      <td id=\"T_4a4df_row1_col2\" class=\"data row1 col2\" >2285.42</td>\n",
       "      <td id=\"T_4a4df_row1_col3\" class=\"data row1 col3\" >47.81</td>\n",
       "    </tr>\n",
       "  </tbody>\n",
       "</table>\n"
      ],
      "text/plain": [
       "<pandas.io.formats.style.Styler at 0x2a09568f940>"
      ]
     },
     "execution_count": 32,
     "metadata": {},
     "output_type": "execute_result"
    }
   ],
   "source": [
    "#Сообщения\n",
    "profit.groupby('tariff')\\\n",
    "  .agg({'messages':['median','mean','var','std']})\\\n",
    "  .style.format(\"{:.2f}\")"
   ]
  },
  {
   "cell_type": "code",
   "execution_count": 33,
   "metadata": {},
   "outputs": [
    {
     "data": {
      "text/html": [
       "<style type=\"text/css\">\n",
       "</style>\n",
       "<table id=\"T_3c88e_\">\n",
       "  <thead>\n",
       "    <tr>\n",
       "      <th class=\"blank level0\" >&nbsp;</th>\n",
       "      <th class=\"col_heading level0 col0\" colspan=\"4\">mb_used</th>\n",
       "    </tr>\n",
       "    <tr>\n",
       "      <th class=\"blank level1\" >&nbsp;</th>\n",
       "      <th class=\"col_heading level1 col0\" >median</th>\n",
       "      <th class=\"col_heading level1 col1\" >mean</th>\n",
       "      <th class=\"col_heading level1 col2\" >var</th>\n",
       "      <th class=\"col_heading level1 col3\" >std</th>\n",
       "    </tr>\n",
       "    <tr>\n",
       "      <th class=\"index_name level0\" >tariff</th>\n",
       "      <th class=\"blank col0\" >&nbsp;</th>\n",
       "      <th class=\"blank col1\" >&nbsp;</th>\n",
       "      <th class=\"blank col2\" >&nbsp;</th>\n",
       "      <th class=\"blank col3\" >&nbsp;</th>\n",
       "    </tr>\n",
       "  </thead>\n",
       "  <tbody>\n",
       "    <tr>\n",
       "      <th id=\"T_3c88e_level0_row0\" class=\"row_heading level0 row0\" >smart</th>\n",
       "      <td id=\"T_3c88e_row0_col0\" class=\"data row0 col0\" >16529.00</td>\n",
       "      <td id=\"T_3c88e_row0_col1\" class=\"data row0 col1\" >16221.91</td>\n",
       "      <td id=\"T_3c88e_row0_col2\" class=\"data row0 col2\" >34648523.30</td>\n",
       "      <td id=\"T_3c88e_row0_col3\" class=\"data row0 col3\" >5886.30</td>\n",
       "    </tr>\n",
       "    <tr>\n",
       "      <th id=\"T_3c88e_level0_row1\" class=\"row_heading level0 row1\" >ultra</th>\n",
       "      <td id=\"T_3c88e_row1_col0\" class=\"data row1 col0\" >19320.00</td>\n",
       "      <td id=\"T_3c88e_row1_col1\" class=\"data row1 col1\" >19467.14</td>\n",
       "      <td id=\"T_3c88e_row1_col2\" class=\"data row1 col2\" >102217264.28</td>\n",
       "      <td id=\"T_3c88e_row1_col3\" class=\"data row1 col3\" >10110.26</td>\n",
       "    </tr>\n",
       "  </tbody>\n",
       "</table>\n"
      ],
      "text/plain": [
       "<pandas.io.formats.style.Styler at 0x2a095397e80>"
      ]
     },
     "execution_count": 33,
     "metadata": {},
     "output_type": "execute_result"
    }
   ],
   "source": [
    "#Интернет\n",
    "profit.groupby('tariff')\\\n",
    "  .agg({'mb_used':['median','mean','var','std']})\\\n",
    "  .style.format(\"{:.2f}\")"
   ]
  },
  {
   "cell_type": "markdown",
   "metadata": {},
   "source": [
    "В среднем абоненты тарифа \"Ультра\" пользуются услугами связи чуть больше, чем на тарифе \"Смарт\""
   ]
  },
  {
   "cell_type": "markdown",
   "metadata": {},
   "source": [
    "### Построим гистограммы"
   ]
  },
  {
   "cell_type": "markdown",
   "metadata": {},
   "source": [
    "#### Звонки"
   ]
  },
  {
   "cell_type": "code",
   "execution_count": 34,
   "metadata": {},
   "outputs": [
    {
     "data": {
      "image/png": "[encoded data removed]",
      "text/plain": [
       "<Figure size 864x432 with 1 Axes>"
      ]
     },
     "metadata": {
      "needs_background": "light"
     },
     "output_type": "display_data"
    }
   ],
   "source": [
    "plt.figure(figsize = (12,6))\n",
    "plt.hist(profit.query('tariff == \"smart\"')['sum_calls'], bins=100, alpha=0.5, label='Тариф \"Смарт\"', range = (0, 1750))\n",
    "plt.hist(profit.query('tariff == \"ultra\"')['sum_calls'], bins=100, alpha=0.5, label='Тариф \"Ультра\"', range = (0, 1750))\n",
    "plt.legend()\n",
    "plt.xlim(left = 0)\n",
    "plt.xlabel('Продолжительность, мин.')\n",
    "plt.ylabel('Количество наблюдений, шт.')\n",
    "plt.show()"
   ]
  },
  {
   "cell_type": "markdown",
   "metadata": {},
   "source": [
    "График соответвует распределению Пуассона, большинство абонентов разговаривают примерно от 250 до 650 минут в месяц, на обоих тарифах. Большинство людей на тарифе Смарт используют свои включенные 500 минут. "
   ]
  },
  {
   "cell_type": "markdown",
   "metadata": {},
   "source": [
    "#### Сообщения"
   ]
  },
  {
   "cell_type": "code",
   "execution_count": 35,
   "metadata": {},
   "outputs": [
    {
     "data": {
      "image/png": "[encoded data removed]",
      "text/plain": [
       "<Figure size 864x432 with 1 Axes>"
      ]
     },
     "metadata": {
      "needs_background": "light"
     },
     "output_type": "display_data"
    }
   ],
   "source": [
    "plt.figure(figsize = (12,6))\n",
    "plt.hist(profit.query('tariff == \"smart\"')['messages'], bins=100, alpha=0.5, label='Тариф \"Смарт\"', range = (0, 200))\n",
    "plt.hist(profit.query('tariff == \"ultra\"')['messages'], bins=100, alpha=0.5, label='Тариф \"Ультра\"', range = (0, 200))\n",
    "plt.legend()\n",
    "plt.xlim(left = 0)\n",
    "plt.xlabel('Количество СМС, шт.')\n",
    "plt.ylabel('Количество наблюдений, шт.')\n",
    "plt.show()"
   ]
  },
  {
   "cell_type": "markdown",
   "metadata": {},
   "source": [
    "График соответвует распределению Пуассона, уходит влево, в среднем люди отправляют мало смс."
   ]
  },
  {
   "cell_type": "markdown",
   "metadata": {},
   "source": [
    "#### Интернет"
   ]
  },
  {
   "cell_type": "code",
   "execution_count": 36,
   "metadata": {},
   "outputs": [
    {
     "data": {
      "image/png": "[encoded data removed]",
      "text/plain": [
       "<Figure size 864x432 with 1 Axes>"
      ]
     },
     "metadata": {
      "needs_background": "light"
     },
     "output_type": "display_data"
    }
   ],
   "source": [
    "plt.figure(figsize = (12,6))\n",
    "plt.hist(profit.query('tariff == \"smart\"')['mb_used'], bins=100, alpha=0.5, label='Тариф \"Смарт\"')\n",
    "plt.hist(profit.query('tariff == \"ultra\"')['mb_used'], bins=100, alpha=0.5, label='Тариф \"Ультра\"')\n",
    "plt.xlim(left = 0)\n",
    "plt.legend()\n",
    "plt.xlabel('Интернет-трафик, Мб')\n",
    "plt.ylabel('Количество наблюдений, шт.')\n",
    "plt.show()"
   ]
  },
  {
   "cell_type": "markdown",
   "metadata": {},
   "source": [
    "График соответствует распределению Пуассона, на тарифе Ультра большинство, укладывается в лимит трафика в 30 ГБ."
   ]
  },
  {
   "cell_type": "markdown",
   "metadata": {},
   "source": [
    "## Проверка гипотез "
   ]
  },
  {
   "cell_type": "markdown",
   "metadata": {},
   "source": [
    "### Cредняя выручка пользователей тарифов «Ультра» и «Смарт» различаются"
   ]
  },
  {
   "cell_type": "markdown",
   "metadata": {},
   "source": [
    "* H0: выручка пользователей тарифов «Ультра» и «Смарт» не различается\n",
    "* H1: выручка пользователей тарифов «Ультра» и «Смарт» различается"
   ]
  },
  {
   "cell_type": "code",
   "execution_count": 37,
   "metadata": {},
   "outputs": [
    {
     "name": "stdout",
     "output_type": "stream",
     "text": [
      "p-значение: 4.2948418402289137e-191\n",
      "Отвергаем нулевую гипотезу\n",
      "\n"
     ]
    }
   ],
   "source": [
    "alpha = 0.05\n",
    "results = st.ttest_ind(profit.query(\"tariff=='smart'\")['total_paid'], profit.query(\"tariff=='ultra'\")['total_paid'])\n",
    "\n",
    "print('p-значение:', results.pvalue)\n",
    "\n",
    "if (results.pvalue < alpha):\n",
    "    print(\"Отвергаем нулевую гипотезу\")\n",
    "else:\n",
    "    print(\"Не получилось отвергнуть нулевую гипотезу\")\n",
    "    \n",
    "print()    "
   ]
  },
  {
   "cell_type": "markdown",
   "metadata": {},
   "source": [
    "Cредняя выручка пользователей тарифов «Смарт» и «Ультра» различается"
   ]
  },
  {
   "cell_type": "markdown",
   "metadata": {},
   "source": [
    "### Cредняя выручка пользователей из Москвы отличается от выручки пользователей из других регионов."
   ]
  },
  {
   "cell_type": "markdown",
   "metadata": {},
   "source": [
    "* H0 - средняя выручка пользователей из Москвы не отличается от выручки пользователей из других регионов\n",
    "* H1 - средняя выручка пользователей из Москвы отличается от выручки пользователей из других регионов"
   ]
  },
  {
   "cell_type": "code",
   "execution_count": 38,
   "metadata": {},
   "outputs": [
    {
     "name": "stdout",
     "output_type": "stream",
     "text": [
      "p-значение: 0.4709495843294502\n",
      "Не получилось отвергнуть нулевую гипотезу\n",
      "\n"
     ]
    }
   ],
   "source": [
    "from_Moscow = profit.query('city == \"москва\"')\n",
    "not_from_Moscow = profit.query('city != \"москва\"')\n",
    "results = st.ttest_ind(\n",
    "    from_Moscow['total_paid'],\n",
    "    not_from_Moscow['total_paid']\n",
    ")\n",
    "\n",
    "print('p-значение:', results.pvalue)\n",
    "\n",
    "if (results.pvalue < alpha):\n",
    "    print(\"Отвергаем нулевую гипотезу\")\n",
    "else:\n",
    "    print(\"Не получилось отвергнуть нулевую гипотезу\")\n",
    "    \n",
    "print()   "
   ]
  },
  {
   "cell_type": "markdown",
   "metadata": {},
   "source": [
    "Cредняя выручка пользователей из Москвы не отличается от выручки пользователей из других регионов."
   ]
  },
  {
   "cell_type": "markdown",
   "metadata": {},
   "source": [
    "### Вывод"
   ]
  },
  {
   "cell_type": "markdown",
   "metadata": {},
   "source": [
    "В данном исследование мы проанализировать поведение клиентов посчитали помесячную выручку с каждого пользователя. Сколько минут разговора, сколько сообщений и какой объём интернет-трафика требуется пользователям каждого тарифа в месяц.\n",
    "\n",
    "Установили что:\n",
    "* Cредняя выручка пользователей тарифов «Смарт» и «Ультра» различается, «Ультра» приносит больше прибыли, в целом абоненты \"Ультра\" разговаривают, пишут сообщения и пользуются мобильным интернетом не много больше абонентов \"Смарта\";\n",
    "* Cредняя выручка пользователей из Москвы не отличается от выручки пользователей из других регионов\n",
    "\n",
    "В целом тариф \"Ультра\" перспективней для развития"
   ]
  }
 ],
 "metadata": {
  "ExecuteTimeLog": [
   {
    "duration": 2484,
    "start_time": "2021-12-10T12:06:46.342Z"
   },
   {
    "duration": 1508,
    "start_time": "2021-12-10T12:07:10.940Z"
   },
   {
    "duration": 1965,
    "start_time": "2021-12-10T12:08:07.723Z"
   },
   {
    "duration": 158,
    "start_time": "2021-12-10T12:08:18.715Z"
   },
   {
    "duration": 141,
    "start_time": "2021-12-10T12:10:46.451Z"
   },
   {
    "duration": 60,
    "start_time": "2021-12-10T12:10:54.440Z"
   },
   {
    "duration": 145,
    "start_time": "2021-12-10T12:11:59.479Z"
   },
   {
    "duration": 402,
    "start_time": "2021-12-10T12:13:54.463Z"
   },
   {
    "duration": 10,
    "start_time": "2021-12-10T12:14:15.102Z"
   },
   {
    "duration": 12,
    "start_time": "2021-12-10T12:14:15.926Z"
   },
   {
    "duration": 9,
    "start_time": "2021-12-10T12:14:18.702Z"
   },
   {
    "duration": 7,
    "start_time": "2021-12-10T12:14:18.996Z"
   },
   {
    "duration": 12,
    "start_time": "2021-12-10T12:14:19.686Z"
   },
   {
    "duration": 13,
    "start_time": "2021-12-10T12:14:57.230Z"
   },
   {
    "duration": 35,
    "start_time": "2021-12-10T12:15:31.109Z"
   },
   {
    "duration": 30,
    "start_time": "2021-12-10T12:15:35.259Z"
   },
   {
    "duration": 12,
    "start_time": "2021-12-10T12:17:03.117Z"
   },
   {
    "duration": 19,
    "start_time": "2021-12-10T12:17:23.603Z"
   },
   {
    "duration": 186,
    "start_time": "2021-12-10T13:00:02.146Z"
   },
   {
    "duration": 147,
    "start_time": "2021-12-10T13:01:10.464Z"
   },
   {
    "duration": 150,
    "start_time": "2021-12-10T13:01:22.550Z"
   },
   {
    "duration": 153,
    "start_time": "2021-12-10T13:01:33.374Z"
   },
   {
    "duration": 175,
    "start_time": "2021-12-10T13:01:50.430Z"
   },
   {
    "duration": 223,
    "start_time": "2021-12-10T13:02:07.685Z"
   },
   {
    "duration": 216,
    "start_time": "2021-12-10T13:02:31.119Z"
   },
   {
    "duration": 261,
    "start_time": "2021-12-10T13:02:51.143Z"
   },
   {
    "duration": 249,
    "start_time": "2021-12-10T13:02:58.896Z"
   },
   {
    "duration": 251,
    "start_time": "2021-12-10T13:03:33.495Z"
   },
   {
    "duration": 234,
    "start_time": "2021-12-10T13:03:50.998Z"
   },
   {
    "duration": 56,
    "start_time": "2021-12-10T13:11:17.657Z"
   },
   {
    "duration": 238,
    "start_time": "2021-12-10T13:11:45.470Z"
   },
   {
    "duration": 251,
    "start_time": "2021-12-10T13:11:58.791Z"
   },
   {
    "duration": 179,
    "start_time": "2021-12-10T13:12:05.503Z"
   },
   {
    "duration": 730,
    "start_time": "2021-12-10T13:13:36.628Z"
   },
   {
    "duration": 189,
    "start_time": "2021-12-10T13:13:56.589Z"
   },
   {
    "duration": 185,
    "start_time": "2021-12-10T13:14:01.228Z"
   },
   {
    "duration": 235,
    "start_time": "2021-12-10T13:14:41.395Z"
   },
   {
    "duration": 4,
    "start_time": "2021-12-10T13:14:55.571Z"
   },
   {
    "duration": 220,
    "start_time": "2021-12-10T13:18:03.548Z"
   },
   {
    "duration": 231,
    "start_time": "2021-12-10T13:19:08.697Z"
   },
   {
    "duration": 262,
    "start_time": "2021-12-10T13:19:18.729Z"
   },
   {
    "duration": 245,
    "start_time": "2021-12-10T13:20:05.356Z"
   },
   {
    "duration": 250,
    "start_time": "2021-12-10T13:20:13.472Z"
   },
   {
    "duration": 177,
    "start_time": "2021-12-10T15:34:24.330Z"
   },
   {
    "duration": 274,
    "start_time": "2021-12-10T15:35:22.744Z"
   },
   {
    "duration": 10,
    "start_time": "2021-12-10T15:37:28.054Z"
   },
   {
    "duration": 256,
    "start_time": "2021-12-10T15:45:54.810Z"
   },
   {
    "duration": 368,
    "start_time": "2021-12-13T13:27:54.286Z"
   },
   {
    "duration": 1113,
    "start_time": "2021-12-13T13:27:58.484Z"
   },
   {
    "duration": 251,
    "start_time": "2021-12-13T13:27:59.598Z"
   },
   {
    "duration": 355,
    "start_time": "2021-12-13T13:28:03.060Z"
   },
   {
    "duration": 372,
    "start_time": "2021-12-13T13:28:17.559Z"
   },
   {
    "duration": 14,
    "start_time": "2021-12-13T13:28:37.371Z"
   },
   {
    "duration": 4,
    "start_time": "2021-12-13T13:29:31.751Z"
   },
   {
    "duration": 350,
    "start_time": "2021-12-13T13:29:34.051Z"
   },
   {
    "duration": 362,
    "start_time": "2021-12-13T13:29:41.219Z"
   },
   {
    "duration": 358,
    "start_time": "2021-12-13T13:29:48.067Z"
   },
   {
    "duration": 361,
    "start_time": "2021-12-13T13:29:56.387Z"
   },
   {
    "duration": 12,
    "start_time": "2021-12-13T13:30:12.899Z"
   },
   {
    "duration": 407,
    "start_time": "2021-12-13T13:30:34.953Z"
   },
   {
    "duration": 367,
    "start_time": "2021-12-13T13:30:37.714Z"
   },
   {
    "duration": 13,
    "start_time": "2021-12-13T13:30:55.818Z"
   },
   {
    "duration": 13,
    "start_time": "2021-12-13T13:40:43.689Z"
   },
   {
    "duration": 4,
    "start_time": "2021-12-13T13:41:22.425Z"
   },
   {
    "duration": 17,
    "start_time": "2021-12-13T13:41:26.081Z"
   },
   {
    "duration": 8,
    "start_time": "2021-12-13T13:44:40.406Z"
   },
   {
    "duration": 12,
    "start_time": "2021-12-13T13:44:44.165Z"
   },
   {
    "duration": 31,
    "start_time": "2021-12-13T13:55:31.974Z"
   },
   {
    "duration": 7,
    "start_time": "2021-12-13T13:55:36.349Z"
   },
   {
    "duration": 8,
    "start_time": "2021-12-13T13:55:39.156Z"
   },
   {
    "duration": 15,
    "start_time": "2021-12-13T13:55:41.452Z"
   },
   {
    "duration": 18,
    "start_time": "2021-12-13T13:55:51.607Z"
   },
   {
    "duration": 113,
    "start_time": "2021-12-13T13:57:43.475Z"
   },
   {
    "duration": 15,
    "start_time": "2021-12-13T13:57:50.339Z"
   },
   {
    "duration": 426,
    "start_time": "2021-12-13T14:10:08.633Z"
   },
   {
    "duration": 441,
    "start_time": "2021-12-13T14:10:19.128Z"
   },
   {
    "duration": 6,
    "start_time": "2021-12-13T14:10:22.784Z"
   },
   {
    "duration": 334,
    "start_time": "2021-12-13T14:10:43.520Z"
   },
   {
    "duration": 437,
    "start_time": "2021-12-13T14:10:59.008Z"
   },
   {
    "duration": 346,
    "start_time": "2021-12-13T14:10:59.705Z"
   },
   {
    "duration": 13,
    "start_time": "2021-12-13T14:11:03.096Z"
   },
   {
    "duration": 8542,
    "start_time": "2021-12-13T14:15:03.060Z"
   },
   {
    "duration": 16,
    "start_time": "2021-12-13T14:15:24.101Z"
   },
   {
    "duration": 4672,
    "start_time": "2021-12-13T14:15:49.715Z"
   },
   {
    "duration": 1124,
    "start_time": "2021-12-13T14:16:05.442Z"
   },
   {
    "duration": 276,
    "start_time": "2021-12-13T14:16:06.568Z"
   },
   {
    "duration": 8879,
    "start_time": "2021-12-13T14:16:06.847Z"
   },
   {
    "duration": 127,
    "start_time": "2021-12-13T14:16:15.602Z"
   },
   {
    "duration": 126,
    "start_time": "2021-12-13T14:16:15.604Z"
   },
   {
    "duration": 125,
    "start_time": "2021-12-13T14:16:15.606Z"
   },
   {
    "duration": 123,
    "start_time": "2021-12-13T14:16:15.608Z"
   },
   {
    "duration": 122,
    "start_time": "2021-12-13T14:16:15.610Z"
   },
   {
    "duration": 372,
    "start_time": "2021-12-13T14:16:30.143Z"
   },
   {
    "duration": 428,
    "start_time": "2021-12-13T14:16:37.462Z"
   },
   {
    "duration": 13,
    "start_time": "2021-12-13T14:16:40.870Z"
   },
   {
    "duration": 21,
    "start_time": "2021-12-13T14:16:59.253Z"
   },
   {
    "duration": 57,
    "start_time": "2021-12-13T14:19:37.467Z"
   },
   {
    "duration": 9,
    "start_time": "2021-12-13T14:21:03.098Z"
   },
   {
    "duration": 13,
    "start_time": "2021-12-13T14:21:06.562Z"
   },
   {
    "duration": 384,
    "start_time": "2021-12-13T14:21:25.042Z"
   },
   {
    "duration": 892,
    "start_time": "2021-12-13T14:21:30.434Z"
   },
   {
    "duration": 13,
    "start_time": "2021-12-13T14:21:38.594Z"
   },
   {
    "duration": 5,
    "start_time": "2021-12-13T14:22:08.624Z"
   },
   {
    "duration": 1217,
    "start_time": "2021-12-13T14:51:46.011Z"
   },
   {
    "duration": 292,
    "start_time": "2021-12-13T14:51:47.231Z"
   },
   {
    "duration": 7,
    "start_time": "2021-12-13T14:51:47.526Z"
   },
   {
    "duration": 109,
    "start_time": "2021-12-13T14:51:47.535Z"
   },
   {
    "duration": 11,
    "start_time": "2021-12-13T14:51:47.646Z"
   },
   {
    "duration": 396,
    "start_time": "2021-12-13T14:53:10.521Z"
   },
   {
    "duration": 1523,
    "start_time": "2021-12-13T14:53:21.281Z"
   },
   {
    "duration": 7,
    "start_time": "2021-12-13T14:53:28.457Z"
   },
   {
    "duration": 73,
    "start_time": "2021-12-13T14:53:28.863Z"
   },
   {
    "duration": 10,
    "start_time": "2021-12-13T14:53:31.478Z"
   },
   {
    "duration": 381,
    "start_time": "2021-12-13T14:53:32.056Z"
   },
   {
    "duration": 382,
    "start_time": "2021-12-13T14:54:51.480Z"
   },
   {
    "duration": 1150,
    "start_time": "2021-12-13T14:55:06.047Z"
   },
   {
    "duration": 262,
    "start_time": "2021-12-13T14:55:07.199Z"
   },
   {
    "duration": 6,
    "start_time": "2021-12-13T14:55:07.463Z"
   },
   {
    "duration": 99,
    "start_time": "2021-12-13T14:55:07.471Z"
   },
   {
    "duration": 10,
    "start_time": "2021-12-13T14:55:07.572Z"
   },
   {
    "duration": 448,
    "start_time": "2021-12-13T14:55:07.584Z"
   },
   {
    "duration": 6,
    "start_time": "2021-12-13T14:58:08.966Z"
   },
   {
    "duration": 520,
    "start_time": "2021-12-13T14:58:40.290Z"
   },
   {
    "duration": 19,
    "start_time": "2021-12-13T14:58:46.890Z"
   },
   {
    "duration": 31,
    "start_time": "2021-12-13T14:59:18.227Z"
   },
   {
    "duration": 120,
    "start_time": "2021-12-13T14:59:48.458Z"
   },
   {
    "duration": 32,
    "start_time": "2021-12-13T15:02:40.118Z"
   },
   {
    "duration": 24,
    "start_time": "2021-12-13T15:02:51.479Z"
   },
   {
    "duration": 146,
    "start_time": "2021-12-13T15:08:07.161Z"
   },
   {
    "duration": 6,
    "start_time": "2021-12-13T15:10:15.690Z"
   },
   {
    "duration": 69,
    "start_time": "2021-12-13T15:10:36.887Z"
   },
   {
    "duration": 64,
    "start_time": "2021-12-13T15:11:09.744Z"
   },
   {
    "duration": 145,
    "start_time": "2021-12-13T15:11:17.078Z"
   },
   {
    "duration": 67,
    "start_time": "2021-12-13T15:11:22.732Z"
   },
   {
    "duration": 46,
    "start_time": "2021-12-13T15:13:25.278Z"
   },
   {
    "duration": 40,
    "start_time": "2021-12-13T15:13:46.853Z"
   },
   {
    "duration": 35,
    "start_time": "2021-12-13T15:14:10.270Z"
   },
   {
    "duration": 40,
    "start_time": "2021-12-13T15:14:16.670Z"
   },
   {
    "duration": 36,
    "start_time": "2021-12-13T15:14:20.704Z"
   },
   {
    "duration": 40,
    "start_time": "2021-12-13T15:14:24.003Z"
   },
   {
    "duration": 403,
    "start_time": "2021-12-15T12:16:41.000Z"
   },
   {
    "duration": 1064,
    "start_time": "2021-12-15T12:20:49.946Z"
   },
   {
    "duration": 305,
    "start_time": "2021-12-15T12:20:51.012Z"
   },
   {
    "duration": 6,
    "start_time": "2021-12-15T12:20:54.033Z"
   },
   {
    "duration": 63,
    "start_time": "2021-12-15T12:20:54.354Z"
   },
   {
    "duration": 9,
    "start_time": "2021-12-15T12:20:55.251Z"
   },
   {
    "duration": 471,
    "start_time": "2021-12-15T12:20:57.553Z"
   },
   {
    "duration": 28,
    "start_time": "2021-12-15T12:20:59.185Z"
   },
   {
    "duration": 439,
    "start_time": "2021-12-15T12:39:02.860Z"
   },
   {
    "duration": 41,
    "start_time": "2021-12-15T12:39:14.826Z"
   },
   {
    "duration": 405,
    "start_time": "2021-12-15T12:48:15.511Z"
   },
   {
    "duration": 68,
    "start_time": "2021-12-15T12:48:23.549Z"
   },
   {
    "duration": 21,
    "start_time": "2021-12-15T12:48:27.107Z"
   },
   {
    "duration": 21,
    "start_time": "2021-12-15T12:48:36.546Z"
   },
   {
    "duration": 21,
    "start_time": "2021-12-15T12:48:38.786Z"
   },
   {
    "duration": 121,
    "start_time": "2021-12-15T12:53:27.791Z"
   },
   {
    "duration": 113,
    "start_time": "2021-12-15T12:53:33.893Z"
   },
   {
    "duration": 115,
    "start_time": "2021-12-15T12:54:03.343Z"
   },
   {
    "duration": 48,
    "start_time": "2021-12-15T12:55:15.517Z"
   },
   {
    "duration": 352,
    "start_time": "2021-12-15T12:57:05.236Z"
   },
   {
    "duration": 41,
    "start_time": "2021-12-15T12:57:08.611Z"
   },
   {
    "duration": 29,
    "start_time": "2021-12-15T12:57:10.355Z"
   },
   {
    "duration": 8884,
    "start_time": "2021-12-15T13:01:29.648Z"
   },
   {
    "duration": 8670,
    "start_time": "2021-12-15T13:01:48.229Z"
   },
   {
    "duration": 384,
    "start_time": "2021-12-15T13:02:33.392Z"
   },
   {
    "duration": 390,
    "start_time": "2021-12-15T13:03:03.192Z"
   },
   {
    "duration": 30,
    "start_time": "2021-12-15T13:03:08.007Z"
   },
   {
    "duration": 5,
    "start_time": "2021-12-15T13:03:34.903Z"
   },
   {
    "duration": 5,
    "start_time": "2021-12-15T13:03:40.245Z"
   },
   {
    "duration": 17,
    "start_time": "2021-12-15T13:03:44.085Z"
   },
   {
    "duration": 10,
    "start_time": "2021-12-15T13:04:00.038Z"
   },
   {
    "duration": 15,
    "start_time": "2021-12-15T13:04:10.134Z"
   },
   {
    "duration": 8,
    "start_time": "2021-12-15T13:10:21.904Z"
   },
   {
    "duration": 348,
    "start_time": "2021-12-15T13:13:13.381Z"
   },
   {
    "duration": 11,
    "start_time": "2021-12-15T13:14:02.807Z"
   },
   {
    "duration": 45,
    "start_time": "2021-12-15T13:14:06.684Z"
   },
   {
    "duration": 42,
    "start_time": "2021-12-15T13:14:35.374Z"
   },
   {
    "duration": 42,
    "start_time": "2021-12-15T13:15:26.299Z"
   },
   {
    "duration": 49,
    "start_time": "2021-12-15T13:15:46.899Z"
   },
   {
    "duration": 51,
    "start_time": "2021-12-15T13:16:55.394Z"
   },
   {
    "duration": 58,
    "start_time": "2021-12-15T13:17:06.747Z"
   },
   {
    "duration": 76,
    "start_time": "2021-12-15T13:17:16.442Z"
   },
   {
    "duration": 90,
    "start_time": "2021-12-15T13:17:28.090Z"
   },
   {
    "duration": 360,
    "start_time": "2021-12-15T13:18:53.974Z"
   },
   {
    "duration": 382,
    "start_time": "2021-12-15T13:19:05.721Z"
   },
   {
    "duration": 11,
    "start_time": "2021-12-15T13:32:07.559Z"
   },
   {
    "duration": 14,
    "start_time": "2021-12-15T13:32:14.710Z"
   },
   {
    "duration": 424,
    "start_time": "2021-12-15T13:34:06.402Z"
   },
   {
    "duration": 662,
    "start_time": "2021-12-15T13:34:11.864Z"
   },
   {
    "duration": 1468,
    "start_time": "2021-12-15T13:34:43.709Z"
   },
   {
    "duration": 9744,
    "start_time": "2021-12-15T13:34:51.154Z"
   },
   {
    "duration": 19,
    "start_time": "2021-12-15T13:35:36.371Z"
   },
   {
    "duration": 9073,
    "start_time": "2021-12-15T13:35:50.579Z"
   },
   {
    "duration": 5,
    "start_time": "2021-12-15T13:36:18.410Z"
   },
   {
    "duration": 11,
    "start_time": "2021-12-15T13:38:40.135Z"
   },
   {
    "duration": 407,
    "start_time": "2021-12-15T13:39:16.735Z"
   },
   {
    "duration": 48,
    "start_time": "2021-12-15T13:39:27.983Z"
   },
   {
    "duration": 37,
    "start_time": "2021-12-15T13:40:01.078Z"
   },
   {
    "duration": 1479,
    "start_time": "2021-12-15T13:44:43.609Z"
   },
   {
    "duration": 335,
    "start_time": "2021-12-15T13:44:45.091Z"
   },
   {
    "duration": 6,
    "start_time": "2021-12-15T13:44:45.428Z"
   },
   {
    "duration": 92,
    "start_time": "2021-12-15T13:44:45.436Z"
   },
   {
    "duration": 10,
    "start_time": "2021-12-15T13:44:45.530Z"
   },
   {
    "duration": 5,
    "start_time": "2021-12-15T13:44:45.542Z"
   },
   {
    "duration": 4,
    "start_time": "2021-12-15T13:44:45.549Z"
   },
   {
    "duration": 10,
    "start_time": "2021-12-15T13:44:45.555Z"
   },
   {
    "duration": 109,
    "start_time": "2021-12-15T13:44:45.567Z"
   },
   {
    "duration": 55,
    "start_time": "2021-12-15T13:44:45.678Z"
   },
   {
    "duration": 47,
    "start_time": "2021-12-15T13:44:45.735Z"
   },
   {
    "duration": 46,
    "start_time": "2021-12-15T13:44:45.784Z"
   },
   {
    "duration": 18,
    "start_time": "2021-12-15T13:44:45.831Z"
   },
   {
    "duration": 12,
    "start_time": "2021-12-15T13:44:45.850Z"
   },
   {
    "duration": 19,
    "start_time": "2021-12-15T13:44:58.162Z"
   },
   {
    "duration": 29,
    "start_time": "2021-12-15T13:45:00.268Z"
   },
   {
    "duration": 30,
    "start_time": "2021-12-15T13:45:01.140Z"
   },
   {
    "duration": 15,
    "start_time": "2021-12-15T13:45:06.916Z"
   },
   {
    "duration": 119,
    "start_time": "2021-12-15T13:52:03.919Z"
   },
   {
    "duration": 88,
    "start_time": "2021-12-15T13:52:18.190Z"
   },
   {
    "duration": 84,
    "start_time": "2021-12-15T13:52:22.742Z"
   },
   {
    "duration": 553,
    "start_time": "2021-12-15T13:52:49.455Z"
   },
   {
    "duration": 94,
    "start_time": "2021-12-15T13:53:00.085Z"
   },
   {
    "duration": 87,
    "start_time": "2021-12-15T13:53:10.286Z"
   },
   {
    "duration": 1505,
    "start_time": "2021-12-15T14:00:30.836Z"
   },
   {
    "duration": 80,
    "start_time": "2021-12-15T14:00:42.943Z"
   },
   {
    "duration": 19,
    "start_time": "2021-12-15T14:01:53.074Z"
   },
   {
    "duration": 1109,
    "start_time": "2021-12-15T14:02:17.028Z"
   },
   {
    "duration": 285,
    "start_time": "2021-12-15T14:02:18.139Z"
   },
   {
    "duration": 6,
    "start_time": "2021-12-15T14:02:18.427Z"
   },
   {
    "duration": 94,
    "start_time": "2021-12-15T14:02:18.436Z"
   },
   {
    "duration": 12,
    "start_time": "2021-12-15T14:02:18.531Z"
   },
   {
    "duration": 6,
    "start_time": "2021-12-15T14:02:18.545Z"
   },
   {
    "duration": 5,
    "start_time": "2021-12-15T14:02:18.553Z"
   },
   {
    "duration": 9,
    "start_time": "2021-12-15T14:02:18.560Z"
   },
   {
    "duration": 112,
    "start_time": "2021-12-15T14:02:18.571Z"
   },
   {
    "duration": 56,
    "start_time": "2021-12-15T14:02:18.685Z"
   },
   {
    "duration": 48,
    "start_time": "2021-12-15T14:02:18.743Z"
   },
   {
    "duration": 31,
    "start_time": "2021-12-15T14:02:18.792Z"
   },
   {
    "duration": 8456,
    "start_time": "2021-12-15T14:02:18.825Z"
   },
   {
    "duration": 1488,
    "start_time": "2021-12-15T14:02:25.795Z"
   },
   {
    "duration": 1483,
    "start_time": "2021-12-15T14:02:25.801Z"
   },
   {
    "duration": 10892,
    "start_time": "2021-12-15T14:02:52.559Z"
   },
   {
    "duration": 17,
    "start_time": "2021-12-15T14:03:27.354Z"
   },
   {
    "duration": 19,
    "start_time": "2021-12-15T14:03:31.181Z"
   },
   {
    "duration": 31,
    "start_time": "2021-12-15T14:03:49.324Z"
   },
   {
    "duration": 363,
    "start_time": "2021-12-15T14:04:02.612Z"
   },
   {
    "duration": 28,
    "start_time": "2021-12-15T14:04:33.672Z"
   },
   {
    "duration": 435,
    "start_time": "2021-12-15T14:04:43.947Z"
   },
   {
    "duration": 311,
    "start_time": "2021-12-15T14:04:44.455Z"
   },
   {
    "duration": 5,
    "start_time": "2021-12-15T14:04:48.483Z"
   },
   {
    "duration": 62,
    "start_time": "2021-12-15T14:04:48.666Z"
   },
   {
    "duration": 8,
    "start_time": "2021-12-15T14:04:48.899Z"
   },
   {
    "duration": 6,
    "start_time": "2021-12-15T14:04:53.363Z"
   },
   {
    "duration": 64,
    "start_time": "2021-12-15T14:04:53.724Z"
   },
   {
    "duration": 47,
    "start_time": "2021-12-15T14:05:03.627Z"
   },
   {
    "duration": 43,
    "start_time": "2021-12-15T14:05:05.871Z"
   },
   {
    "duration": 21,
    "start_time": "2021-12-15T14:05:05.962Z"
   },
   {
    "duration": 18,
    "start_time": "2021-12-15T14:05:10.771Z"
   },
   {
    "duration": 30,
    "start_time": "2021-12-15T14:05:30.852Z"
   },
   {
    "duration": 336,
    "start_time": "2021-12-15T14:05:48.423Z"
   },
   {
    "duration": 8,
    "start_time": "2021-12-15T14:06:03.883Z"
   },
   {
    "duration": 341,
    "start_time": "2021-12-15T14:08:17.215Z"
   },
   {
    "duration": 4,
    "start_time": "2021-12-15T14:08:30.052Z"
   },
   {
    "duration": 39,
    "start_time": "2021-12-15T14:08:39.256Z"
   },
   {
    "duration": 30,
    "start_time": "2021-12-15T14:09:52.439Z"
   },
   {
    "duration": 1106,
    "start_time": "2021-12-15T14:10:17.950Z"
   },
   {
    "duration": 264,
    "start_time": "2021-12-15T14:10:19.058Z"
   },
   {
    "duration": 6,
    "start_time": "2021-12-15T14:10:19.324Z"
   },
   {
    "duration": 89,
    "start_time": "2021-12-15T14:10:19.332Z"
   },
   {
    "duration": 9,
    "start_time": "2021-12-15T14:10:19.423Z"
   },
   {
    "duration": 5,
    "start_time": "2021-12-15T14:10:19.434Z"
   },
   {
    "duration": 5,
    "start_time": "2021-12-15T14:10:19.440Z"
   },
   {
    "duration": 8,
    "start_time": "2021-12-15T14:10:19.447Z"
   },
   {
    "duration": 108,
    "start_time": "2021-12-15T14:10:19.457Z"
   },
   {
    "duration": 62,
    "start_time": "2021-12-15T14:10:19.567Z"
   },
   {
    "duration": 45,
    "start_time": "2021-12-15T14:10:19.630Z"
   },
   {
    "duration": 35,
    "start_time": "2021-12-15T14:10:19.676Z"
   },
   {
    "duration": 18,
    "start_time": "2021-12-15T14:10:19.713Z"
   },
   {
    "duration": 24,
    "start_time": "2021-12-15T14:10:19.733Z"
   },
   {
    "duration": 4,
    "start_time": "2021-12-15T14:10:19.759Z"
   },
   {
    "duration": 57,
    "start_time": "2021-12-15T14:10:19.766Z"
   },
   {
    "duration": 23,
    "start_time": "2021-12-15T14:11:50.978Z"
   },
   {
    "duration": 11,
    "start_time": "2021-12-15T14:13:05.671Z"
   },
   {
    "duration": 10,
    "start_time": "2021-12-15T14:13:20.520Z"
   },
   {
    "duration": 84,
    "start_time": "2021-12-15T14:16:06.965Z"
   },
   {
    "duration": 1131,
    "start_time": "2021-12-15T14:16:17.750Z"
   },
   {
    "duration": 270,
    "start_time": "2021-12-15T14:16:18.884Z"
   },
   {
    "duration": 6,
    "start_time": "2021-12-15T14:16:19.156Z"
   },
   {
    "duration": 91,
    "start_time": "2021-12-15T14:16:19.164Z"
   },
   {
    "duration": 9,
    "start_time": "2021-12-15T14:16:19.257Z"
   },
   {
    "duration": 5,
    "start_time": "2021-12-15T14:16:19.268Z"
   },
   {
    "duration": 7,
    "start_time": "2021-12-15T14:16:19.274Z"
   },
   {
    "duration": 9,
    "start_time": "2021-12-15T14:16:19.283Z"
   },
   {
    "duration": 88,
    "start_time": "2021-12-15T14:16:19.294Z"
   },
   {
    "duration": 84,
    "start_time": "2021-12-15T14:16:19.385Z"
   },
   {
    "duration": 69,
    "start_time": "2021-12-15T14:16:19.471Z"
   },
   {
    "duration": 26,
    "start_time": "2021-12-15T14:16:19.542Z"
   },
   {
    "duration": 50,
    "start_time": "2021-12-15T14:16:19.570Z"
   },
   {
    "duration": 5,
    "start_time": "2021-12-15T14:16:19.622Z"
   },
   {
    "duration": 27,
    "start_time": "2021-12-15T14:16:19.628Z"
   },
   {
    "duration": 8815,
    "start_time": "2021-12-15T14:16:19.657Z"
   },
   {
    "duration": 1512,
    "start_time": "2021-12-15T14:16:26.963Z"
   },
   {
    "duration": 24,
    "start_time": "2021-12-15T14:17:04.964Z"
   },
   {
    "duration": 4,
    "start_time": "2021-12-15T14:17:36.048Z"
   },
   {
    "duration": 10811,
    "start_time": "2021-12-15T14:18:22.535Z"
   },
   {
    "duration": 4,
    "start_time": "2021-12-15T14:20:01.614Z"
   },
   {
    "duration": 4,
    "start_time": "2021-12-15T14:20:29.462Z"
   },
   {
    "duration": 20244,
    "start_time": "2021-12-15T14:20:29.671Z"
   },
   {
    "duration": 6,
    "start_time": "2021-12-15T14:21:35.693Z"
   },
   {
    "duration": 13780,
    "start_time": "2021-12-15T14:21:37.775Z"
   },
   {
    "duration": 11605,
    "start_time": "2021-12-15T14:22:21.277Z"
   },
   {
    "duration": 9,
    "start_time": "2021-12-15T14:25:04.650Z"
   },
   {
    "duration": 4,
    "start_time": "2021-12-15T14:25:22.562Z"
   },
   {
    "duration": 352,
    "start_time": "2021-12-15T14:25:23.605Z"
   },
   {
    "duration": 727,
    "start_time": "2021-12-15T14:26:11.489Z"
   },
   {
    "duration": 12387,
    "start_time": "2021-12-15T14:26:38.976Z"
   },
   {
    "duration": 237,
    "start_time": "2021-12-15T14:27:08.465Z"
   },
   {
    "duration": 277,
    "start_time": "2021-12-15T14:27:11.039Z"
   },
   {
    "duration": 10,
    "start_time": "2021-12-15T14:27:14.064Z"
   },
   {
    "duration": 17,
    "start_time": "2021-12-15T14:27:14.680Z"
   },
   {
    "duration": 5,
    "start_time": "2021-12-15T14:27:19.967Z"
   },
   {
    "duration": 212,
    "start_time": "2021-12-15T14:27:20.439Z"
   },
   {
    "duration": 4,
    "start_time": "2021-12-15T14:27:21.128Z"
   },
   {
    "duration": 17,
    "start_time": "2021-12-15T14:27:21.584Z"
   },
   {
    "duration": 23,
    "start_time": "2021-12-15T14:27:36.200Z"
   },
   {
    "duration": 22,
    "start_time": "2021-12-15T14:27:50.704Z"
   },
   {
    "duration": 115,
    "start_time": "2021-12-15T16:53:56.427Z"
   },
   {
    "duration": 125,
    "start_time": "2021-12-15T16:54:00.386Z"
   },
   {
    "duration": 256,
    "start_time": "2021-12-15T16:54:08.642Z"
   },
   {
    "duration": 288,
    "start_time": "2021-12-15T16:54:23.033Z"
   },
   {
    "duration": 19,
    "start_time": "2021-12-15T16:55:34.218Z"
   },
   {
    "duration": 22,
    "start_time": "2021-12-15T16:59:29.238Z"
   },
   {
    "duration": 27,
    "start_time": "2021-12-15T17:00:39.573Z"
   },
   {
    "duration": 21,
    "start_time": "2021-12-15T17:01:06.701Z"
   },
   {
    "duration": 27,
    "start_time": "2021-12-15T17:01:14.821Z"
   },
   {
    "duration": 122,
    "start_time": "2021-12-15T17:03:12.491Z"
   },
   {
    "duration": 345,
    "start_time": "2021-12-15T17:03:22.171Z"
   },
   {
    "duration": 20,
    "start_time": "2021-12-15T17:03:45.634Z"
   },
   {
    "duration": 30,
    "start_time": "2021-12-15T17:04:07.202Z"
   },
   {
    "duration": 39,
    "start_time": "2021-12-15T17:04:26.722Z"
   },
   {
    "duration": 40,
    "start_time": "2021-12-15T17:04:28.826Z"
   },
   {
    "duration": 44,
    "start_time": "2021-12-15T17:04:40.041Z"
   },
   {
    "duration": 56,
    "start_time": "2021-12-15T17:05:50.584Z"
   },
   {
    "duration": 86,
    "start_time": "2021-12-15T17:06:09.560Z"
   },
   {
    "duration": 27,
    "start_time": "2021-12-15T17:06:38.352Z"
   },
   {
    "duration": 24,
    "start_time": "2021-12-15T17:06:43.104Z"
   },
   {
    "duration": 336,
    "start_time": "2021-12-15T17:07:08.231Z"
   },
   {
    "duration": 34,
    "start_time": "2021-12-15T17:07:16.502Z"
   },
   {
    "duration": 1076,
    "start_time": "2021-12-15T17:11:57.331Z"
   },
   {
    "duration": 303,
    "start_time": "2021-12-15T17:11:58.409Z"
   },
   {
    "duration": 6,
    "start_time": "2021-12-15T17:11:58.714Z"
   },
   {
    "duration": 66,
    "start_time": "2021-12-15T17:11:58.722Z"
   },
   {
    "duration": 22,
    "start_time": "2021-12-15T17:11:58.789Z"
   },
   {
    "duration": 5,
    "start_time": "2021-12-15T17:11:58.813Z"
   },
   {
    "duration": 5,
    "start_time": "2021-12-15T17:11:58.819Z"
   },
   {
    "duration": 8,
    "start_time": "2021-12-15T17:11:58.826Z"
   },
   {
    "duration": 98,
    "start_time": "2021-12-15T17:11:58.836Z"
   },
   {
    "duration": 46,
    "start_time": "2021-12-15T17:11:58.936Z"
   },
   {
    "duration": 60,
    "start_time": "2021-12-15T17:11:58.983Z"
   },
   {
    "duration": 26,
    "start_time": "2021-12-15T17:11:59.044Z"
   },
   {
    "duration": 43,
    "start_time": "2021-12-15T17:11:59.072Z"
   },
   {
    "duration": 4,
    "start_time": "2021-12-15T17:11:59.117Z"
   },
   {
    "duration": 25,
    "start_time": "2021-12-15T17:11:59.123Z"
   },
   {
    "duration": 23,
    "start_time": "2021-12-15T17:11:59.150Z"
   },
   {
    "duration": 35,
    "start_time": "2021-12-15T17:11:59.175Z"
   },
   {
    "duration": 4,
    "start_time": "2021-12-15T17:11:59.212Z"
   },
   {
    "duration": 218,
    "start_time": "2021-12-15T17:11:59.218Z"
   },
   {
    "duration": 10,
    "start_time": "2021-12-15T17:11:59.438Z"
   },
   {
    "duration": 24,
    "start_time": "2021-12-15T17:11:59.449Z"
   },
   {
    "duration": 9076,
    "start_time": "2021-12-15T17:11:59.475Z"
   },
   {
    "duration": 357,
    "start_time": "2021-12-15T17:13:10.278Z"
   },
   {
    "duration": 23,
    "start_time": "2021-12-15T17:13:26.128Z"
   },
   {
    "duration": 32,
    "start_time": "2021-12-15T17:13:38.839Z"
   },
   {
    "duration": 46,
    "start_time": "2021-12-15T17:14:02.005Z"
   },
   {
    "duration": 158,
    "start_time": "2021-12-15T17:15:06.508Z"
   },
   {
    "duration": 28,
    "start_time": "2021-12-15T17:15:09.835Z"
   },
   {
    "duration": 23,
    "start_time": "2021-12-15T17:15:13.252Z"
   },
   {
    "duration": 34,
    "start_time": "2021-12-15T17:16:30.339Z"
   },
   {
    "duration": 46,
    "start_time": "2021-12-15T17:16:36.193Z"
   },
   {
    "duration": 27,
    "start_time": "2021-12-15T17:17:49.708Z"
   },
   {
    "duration": 1673,
    "start_time": "2021-12-15T17:18:44.924Z"
   },
   {
    "duration": 9027,
    "start_time": "2021-12-15T17:18:48.425Z"
   },
   {
    "duration": 24,
    "start_time": "2021-12-15T17:19:07.058Z"
   },
   {
    "duration": 43,
    "start_time": "2021-12-15T17:23:23.533Z"
   },
   {
    "duration": 46,
    "start_time": "2021-12-15T17:23:30.220Z"
   },
   {
    "duration": 40,
    "start_time": "2021-12-15T17:23:35.557Z"
   },
   {
    "duration": 79,
    "start_time": "2021-12-15T17:24:19.621Z"
   },
   {
    "duration": 41,
    "start_time": "2021-12-15T17:24:22.851Z"
   },
   {
    "duration": 49,
    "start_time": "2021-12-15T17:24:28.411Z"
   },
   {
    "duration": 125,
    "start_time": "2021-12-15T17:24:43.012Z"
   },
   {
    "duration": 49,
    "start_time": "2021-12-15T17:24:47.419Z"
   },
   {
    "duration": 52,
    "start_time": "2021-12-15T17:25:09.611Z"
   },
   {
    "duration": 16,
    "start_time": "2021-12-15T17:25:36.228Z"
   },
   {
    "duration": 24,
    "start_time": "2021-12-15T17:25:39.875Z"
   },
   {
    "duration": 22,
    "start_time": "2021-12-15T17:25:48.027Z"
   },
   {
    "duration": 23,
    "start_time": "2021-12-15T17:25:57.691Z"
   },
   {
    "duration": 4,
    "start_time": "2021-12-15T17:26:02.482Z"
   },
   {
    "duration": 29,
    "start_time": "2021-12-15T17:26:04.082Z"
   },
   {
    "duration": 331,
    "start_time": "2021-12-15T17:27:35.522Z"
   },
   {
    "duration": 21,
    "start_time": "2021-12-15T17:27:48.931Z"
   },
   {
    "duration": 9,
    "start_time": "2021-12-15T17:27:56.978Z"
   },
   {
    "duration": 28,
    "start_time": "2021-12-15T17:28:28.131Z"
   },
   {
    "duration": 30,
    "start_time": "2021-12-15T17:28:35.826Z"
   },
   {
    "duration": 28,
    "start_time": "2021-12-15T17:30:08.785Z"
   },
   {
    "duration": 27,
    "start_time": "2021-12-15T17:30:19.169Z"
   },
   {
    "duration": 1241,
    "start_time": "2021-12-15T17:31:07.401Z"
   },
   {
    "duration": 276,
    "start_time": "2021-12-15T17:31:08.644Z"
   },
   {
    "duration": 5,
    "start_time": "2021-12-15T17:31:08.923Z"
   },
   {
    "duration": 100,
    "start_time": "2021-12-15T17:31:08.930Z"
   },
   {
    "duration": 11,
    "start_time": "2021-12-15T17:31:09.032Z"
   },
   {
    "duration": 22,
    "start_time": "2021-12-15T17:31:09.044Z"
   },
   {
    "duration": 16,
    "start_time": "2021-12-15T17:31:09.068Z"
   },
   {
    "duration": 13,
    "start_time": "2021-12-15T17:31:09.087Z"
   },
   {
    "duration": 81,
    "start_time": "2021-12-15T17:31:09.103Z"
   },
   {
    "duration": 57,
    "start_time": "2021-12-15T17:31:09.186Z"
   },
   {
    "duration": 46,
    "start_time": "2021-12-15T17:31:09.245Z"
   },
   {
    "duration": 35,
    "start_time": "2021-12-15T17:31:09.293Z"
   },
   {
    "duration": 24,
    "start_time": "2021-12-15T17:31:09.330Z"
   },
   {
    "duration": 4,
    "start_time": "2021-12-15T17:31:09.355Z"
   },
   {
    "duration": 52,
    "start_time": "2021-12-15T17:31:09.361Z"
   },
   {
    "duration": 23,
    "start_time": "2021-12-15T17:31:09.415Z"
   },
   {
    "duration": 8,
    "start_time": "2021-12-15T17:31:09.440Z"
   },
   {
    "duration": 5,
    "start_time": "2021-12-15T17:31:09.450Z"
   },
   {
    "duration": 250,
    "start_time": "2021-12-15T17:31:09.457Z"
   },
   {
    "duration": 9,
    "start_time": "2021-12-15T17:31:09.709Z"
   },
   {
    "duration": 26,
    "start_time": "2021-12-15T17:31:09.720Z"
   },
   {
    "duration": 9096,
    "start_time": "2021-12-15T17:31:09.747Z"
   },
   {
    "duration": 26,
    "start_time": "2021-12-15T17:31:49.773Z"
   },
   {
    "duration": 10,
    "start_time": "2021-12-15T17:31:52.731Z"
   },
   {
    "duration": 4,
    "start_time": "2021-12-15T17:31:59.410Z"
   },
   {
    "duration": 204,
    "start_time": "2021-12-15T17:31:59.723Z"
   },
   {
    "duration": 4,
    "start_time": "2021-12-15T17:32:01.267Z"
   },
   {
    "duration": 25,
    "start_time": "2021-12-15T17:32:01.516Z"
   },
   {
    "duration": 620,
    "start_time": "2021-12-15T17:32:23.603Z"
   },
   {
    "duration": 475,
    "start_time": "2021-12-16T13:45:19.806Z"
   },
   {
    "duration": 1075,
    "start_time": "2021-12-16T13:45:29.595Z"
   },
   {
    "duration": 281,
    "start_time": "2021-12-16T13:45:30.672Z"
   },
   {
    "duration": 6,
    "start_time": "2021-12-16T13:45:30.956Z"
   },
   {
    "duration": 85,
    "start_time": "2021-12-16T13:45:30.964Z"
   },
   {
    "duration": 10,
    "start_time": "2021-12-16T13:45:31.051Z"
   },
   {
    "duration": 19,
    "start_time": "2021-12-16T13:45:31.063Z"
   },
   {
    "duration": 21,
    "start_time": "2021-12-16T13:45:31.084Z"
   },
   {
    "duration": 12,
    "start_time": "2021-12-16T13:45:31.108Z"
   },
   {
    "duration": 86,
    "start_time": "2021-12-16T13:45:31.122Z"
   },
   {
    "duration": 55,
    "start_time": "2021-12-16T13:45:31.210Z"
   },
   {
    "duration": 48,
    "start_time": "2021-12-16T13:45:31.267Z"
   },
   {
    "duration": 44,
    "start_time": "2021-12-16T13:45:31.317Z"
   },
   {
    "duration": 25,
    "start_time": "2021-12-16T13:45:31.363Z"
   },
   {
    "duration": 4,
    "start_time": "2021-12-16T13:45:31.390Z"
   },
   {
    "duration": 31,
    "start_time": "2021-12-16T13:45:31.395Z"
   },
   {
    "duration": 26,
    "start_time": "2021-12-16T13:45:31.445Z"
   },
   {
    "duration": 8,
    "start_time": "2021-12-16T13:45:31.473Z"
   },
   {
    "duration": 4,
    "start_time": "2021-12-16T13:45:31.483Z"
   },
   {
    "duration": 238,
    "start_time": "2021-12-16T13:45:31.489Z"
   },
   {
    "duration": 9,
    "start_time": "2021-12-16T13:45:31.728Z"
   },
   {
    "duration": 25,
    "start_time": "2021-12-16T13:45:31.738Z"
   },
   {
    "duration": 679,
    "start_time": "2021-12-16T13:45:31.765Z"
   },
   {
    "duration": 449,
    "start_time": "2021-12-16T13:46:03.999Z"
   },
   {
    "duration": 619,
    "start_time": "2021-12-16T13:46:17.006Z"
   },
   {
    "duration": 7,
    "start_time": "2021-12-16T13:48:44.757Z"
   },
   {
    "duration": 28,
    "start_time": "2021-12-16T13:48:49.861Z"
   },
   {
    "duration": 355,
    "start_time": "2021-12-16T13:49:22.645Z"
   },
   {
    "duration": 292,
    "start_time": "2021-12-16T13:49:42.492Z"
   },
   {
    "duration": 16,
    "start_time": "2021-12-16T13:49:54.731Z"
   },
   {
    "duration": 18,
    "start_time": "2021-12-16T13:50:26.043Z"
   },
   {
    "duration": 17,
    "start_time": "2021-12-16T13:50:34.707Z"
   },
   {
    "duration": 16,
    "start_time": "2021-12-16T13:50:59.571Z"
   },
   {
    "duration": 1116,
    "start_time": "2021-12-16T13:51:13.914Z"
   },
   {
    "duration": 253,
    "start_time": "2021-12-16T13:51:15.034Z"
   },
   {
    "duration": 6,
    "start_time": "2021-12-16T13:51:15.289Z"
   },
   {
    "duration": 90,
    "start_time": "2021-12-16T13:51:15.298Z"
   },
   {
    "duration": 10,
    "start_time": "2021-12-16T13:51:15.389Z"
   },
   {
    "duration": 5,
    "start_time": "2021-12-16T13:51:15.401Z"
   },
   {
    "duration": 6,
    "start_time": "2021-12-16T13:51:15.407Z"
   },
   {
    "duration": 6,
    "start_time": "2021-12-16T13:51:15.416Z"
   },
   {
    "duration": 94,
    "start_time": "2021-12-16T13:51:15.424Z"
   },
   {
    "duration": 56,
    "start_time": "2021-12-16T13:51:15.519Z"
   },
   {
    "duration": 45,
    "start_time": "2021-12-16T13:51:15.576Z"
   },
   {
    "duration": 38,
    "start_time": "2021-12-16T13:51:15.622Z"
   },
   {
    "duration": 23,
    "start_time": "2021-12-16T13:51:15.662Z"
   },
   {
    "duration": 4,
    "start_time": "2021-12-16T13:51:15.686Z"
   },
   {
    "duration": 30,
    "start_time": "2021-12-16T13:51:15.692Z"
   },
   {
    "duration": 45,
    "start_time": "2021-12-16T13:51:15.723Z"
   },
   {
    "duration": 9,
    "start_time": "2021-12-16T13:51:15.770Z"
   },
   {
    "duration": 6,
    "start_time": "2021-12-16T13:51:15.781Z"
   },
   {
    "duration": 234,
    "start_time": "2021-12-16T13:51:15.789Z"
   },
   {
    "duration": 9,
    "start_time": "2021-12-16T13:51:16.025Z"
   },
   {
    "duration": 30,
    "start_time": "2021-12-16T13:51:16.035Z"
   },
   {
    "duration": 6,
    "start_time": "2021-12-16T13:51:16.067Z"
   },
   {
    "duration": 18,
    "start_time": "2021-12-16T13:51:16.076Z"
   },
   {
    "duration": 17,
    "start_time": "2021-12-16T13:51:16.095Z"
   },
   {
    "duration": 683,
    "start_time": "2021-12-16T13:51:16.114Z"
   },
   {
    "duration": 18,
    "start_time": "2021-12-16T13:53:57.082Z"
   },
   {
    "duration": 757,
    "start_time": "2021-12-16T13:55:50.496Z"
   },
   {
    "duration": 606,
    "start_time": "2021-12-16T13:55:51.672Z"
   },
   {
    "duration": 283,
    "start_time": "2021-12-16T13:56:05.248Z"
   },
   {
    "duration": 325,
    "start_time": "2021-12-16T13:56:20.577Z"
   },
   {
    "duration": 271,
    "start_time": "2021-12-16T13:56:32.639Z"
   },
   {
    "duration": 13,
    "start_time": "2021-12-16T13:56:42.111Z"
   },
   {
    "duration": 989,
    "start_time": "2021-12-16T13:58:26.094Z"
   },
   {
    "duration": 14,
    "start_time": "2021-12-16T13:58:33.182Z"
   },
   {
    "duration": 9,
    "start_time": "2021-12-16T13:58:48.397Z"
   },
   {
    "duration": 11,
    "start_time": "2021-12-16T13:58:55.349Z"
   },
   {
    "duration": 268,
    "start_time": "2021-12-16T14:12:16.466Z"
   },
   {
    "duration": 301,
    "start_time": "2021-12-16T14:12:37.770Z"
   },
   {
    "duration": 247,
    "start_time": "2021-12-16T14:12:41.266Z"
   },
   {
    "duration": 269,
    "start_time": "2021-12-16T14:12:49.194Z"
   },
   {
    "duration": 832,
    "start_time": "2021-12-16T14:12:53.458Z"
   },
   {
    "duration": 246,
    "start_time": "2021-12-16T14:12:59.466Z"
   },
   {
    "duration": 181,
    "start_time": "2021-12-16T14:13:56.337Z"
   },
   {
    "duration": 369,
    "start_time": "2021-12-16T14:23:54.146Z"
   },
   {
    "duration": 626,
    "start_time": "2021-12-16T14:24:59.888Z"
   },
   {
    "duration": 797,
    "start_time": "2021-12-16T14:25:44.319Z"
   },
   {
    "duration": 179,
    "start_time": "2021-12-16T14:27:14.856Z"
   },
   {
    "duration": 536,
    "start_time": "2021-12-16T14:27:16.061Z"
   },
   {
    "duration": 554,
    "start_time": "2021-12-16T14:27:20.993Z"
   },
   {
    "duration": 611,
    "start_time": "2021-12-16T14:27:26.380Z"
   },
   {
    "duration": 7515,
    "start_time": "2021-12-16T14:27:30.773Z"
   },
   {
    "duration": 1054,
    "start_time": "2021-12-16T14:28:10.061Z"
   },
   {
    "duration": 927,
    "start_time": "2021-12-16T14:28:24.717Z"
   },
   {
    "duration": 1029,
    "start_time": "2021-12-16T14:28:31.733Z"
   },
   {
    "duration": 264,
    "start_time": "2021-12-16T14:30:13.147Z"
   },
   {
    "duration": 630,
    "start_time": "2021-12-16T14:30:22.787Z"
   },
   {
    "duration": 607,
    "start_time": "2021-12-16T14:30:34.293Z"
   },
   {
    "duration": 612,
    "start_time": "2021-12-16T14:31:14.099Z"
   },
   {
    "duration": 553,
    "start_time": "2021-12-16T14:31:20.965Z"
   },
   {
    "duration": 702,
    "start_time": "2021-12-16T14:31:29.890Z"
   },
   {
    "duration": 8,
    "start_time": "2021-12-16T14:35:27.967Z"
   },
   {
    "duration": 8,
    "start_time": "2021-12-16T14:35:38.294Z"
   },
   {
    "duration": 279,
    "start_time": "2021-12-16T14:35:43.062Z"
   },
   {
    "duration": 286,
    "start_time": "2021-12-16T14:35:50.222Z"
   },
   {
    "duration": 13,
    "start_time": "2021-12-16T14:35:53.102Z"
   },
   {
    "duration": 32,
    "start_time": "2021-12-16T14:37:09.989Z"
   },
   {
    "duration": 17,
    "start_time": "2021-12-16T14:39:11.644Z"
   },
   {
    "duration": 13,
    "start_time": "2021-12-16T14:44:30.727Z"
   },
   {
    "duration": 12,
    "start_time": "2021-12-16T14:44:33.215Z"
   },
   {
    "duration": 12,
    "start_time": "2021-12-16T14:47:43.996Z"
   },
   {
    "duration": 308,
    "start_time": "2021-12-16T14:48:35.275Z"
   },
   {
    "duration": 12,
    "start_time": "2021-12-16T14:48:54.547Z"
   },
   {
    "duration": 10,
    "start_time": "2021-12-16T14:49:07.252Z"
   },
   {
    "duration": 14,
    "start_time": "2021-12-16T14:49:15.019Z"
   },
   {
    "duration": 15,
    "start_time": "2021-12-16T14:50:21.497Z"
   },
   {
    "duration": 12,
    "start_time": "2021-12-16T14:50:25.321Z"
   },
   {
    "duration": 302,
    "start_time": "2021-12-16T14:50:58.930Z"
   },
   {
    "duration": 12,
    "start_time": "2021-12-16T14:51:09.145Z"
   },
   {
    "duration": 11,
    "start_time": "2021-12-16T15:16:38.491Z"
   },
   {
    "duration": 95,
    "start_time": "2021-12-16T15:17:45.674Z"
   },
   {
    "duration": 281,
    "start_time": "2021-12-16T15:17:56.154Z"
   },
   {
    "duration": 93,
    "start_time": "2021-12-16T15:18:01.578Z"
   },
   {
    "duration": 99,
    "start_time": "2021-12-16T15:18:14.122Z"
   },
   {
    "duration": 94,
    "start_time": "2021-12-16T15:18:27.450Z"
   },
   {
    "duration": 566,
    "start_time": "2021-12-16T15:19:23.993Z"
   },
   {
    "duration": 90,
    "start_time": "2021-12-16T15:20:44.184Z"
   },
   {
    "duration": 14,
    "start_time": "2021-12-16T15:20:47.768Z"
   },
   {
    "duration": 12,
    "start_time": "2021-12-16T15:21:19.694Z"
   },
   {
    "duration": 272,
    "start_time": "2021-12-16T15:21:21.170Z"
   },
   {
    "duration": 12,
    "start_time": "2021-12-16T15:21:39.600Z"
   },
   {
    "duration": 12,
    "start_time": "2021-12-16T15:21:40.096Z"
   },
   {
    "duration": 12,
    "start_time": "2021-12-16T15:21:41.856Z"
   },
   {
    "duration": 12,
    "start_time": "2021-12-16T15:21:43.047Z"
   },
   {
    "duration": 5,
    "start_time": "2021-12-16T15:33:37.524Z"
   },
   {
    "duration": 5,
    "start_time": "2021-12-16T15:33:46.325Z"
   },
   {
    "duration": 5,
    "start_time": "2021-12-16T15:34:14.397Z"
   },
   {
    "duration": 5,
    "start_time": "2021-12-16T15:34:24.347Z"
   },
   {
    "duration": 4,
    "start_time": "2021-12-16T15:34:38.797Z"
   },
   {
    "duration": 5,
    "start_time": "2021-12-16T15:34:51.964Z"
   },
   {
    "duration": 5,
    "start_time": "2021-12-16T15:35:04.763Z"
   },
   {
    "duration": 5,
    "start_time": "2021-12-16T15:35:45.436Z"
   },
   {
    "duration": 5,
    "start_time": "2021-12-16T15:37:08.939Z"
   },
   {
    "duration": 5,
    "start_time": "2021-12-16T15:37:12.097Z"
   },
   {
    "duration": 5,
    "start_time": "2021-12-16T15:38:27.297Z"
   },
   {
    "duration": 4,
    "start_time": "2021-12-16T15:39:02.801Z"
   },
   {
    "duration": 4,
    "start_time": "2021-12-16T15:39:52.951Z"
   },
   {
    "duration": 5,
    "start_time": "2021-12-16T15:39:55.443Z"
   },
   {
    "duration": 5,
    "start_time": "2021-12-16T15:40:06.040Z"
   },
   {
    "duration": 5,
    "start_time": "2021-12-16T15:40:25.264Z"
   },
   {
    "duration": 5,
    "start_time": "2021-12-16T15:41:50.125Z"
   },
   {
    "duration": 5,
    "start_time": "2021-12-16T15:42:04.950Z"
   },
   {
    "duration": 5,
    "start_time": "2021-12-16T15:42:11.597Z"
   },
   {
    "duration": 860,
    "start_time": "2021-12-16T15:47:19.835Z"
   },
   {
    "duration": 761,
    "start_time": "2021-12-16T15:47:27.200Z"
   },
   {
    "duration": 1057,
    "start_time": "2021-12-16T15:47:52.584Z"
   },
   {
    "duration": 97,
    "start_time": "2021-12-16T15:48:14.457Z"
   },
   {
    "duration": 93,
    "start_time": "2021-12-16T15:48:35.712Z"
   },
   {
    "duration": 678,
    "start_time": "2021-12-16T15:48:47.096Z"
   },
   {
    "duration": 516,
    "start_time": "2021-12-16T15:49:18.928Z"
   },
   {
    "duration": 881,
    "start_time": "2021-12-16T15:49:36.896Z"
   },
   {
    "duration": 753,
    "start_time": "2021-12-16T15:49:47.072Z"
   },
   {
    "duration": 836,
    "start_time": "2021-12-16T15:49:57.111Z"
   },
   {
    "duration": 594,
    "start_time": "2021-12-16T15:51:04.255Z"
   },
   {
    "duration": 303,
    "start_time": "2021-12-16T16:01:22.262Z"
   },
   {
    "duration": 7250,
    "start_time": "2021-12-16T16:01:26.375Z"
   },
   {
    "duration": 384,
    "start_time": "2021-12-16T16:01:53.199Z"
   },
   {
    "duration": 93,
    "start_time": "2021-12-16T16:02:56.741Z"
   },
   {
    "duration": 85,
    "start_time": "2021-12-16T16:03:26.548Z"
   },
   {
    "duration": 11,
    "start_time": "2021-12-16T16:04:01.332Z"
   },
   {
    "duration": 138,
    "start_time": "2021-12-16T16:04:40.284Z"
   },
   {
    "duration": 10,
    "start_time": "2021-12-16T16:04:45.300Z"
   },
   {
    "duration": 8,
    "start_time": "2021-12-16T16:05:05.122Z"
   },
   {
    "duration": 395,
    "start_time": "2021-12-16T16:05:19.066Z"
   },
   {
    "duration": 6,
    "start_time": "2021-12-16T16:05:32.883Z"
   },
   {
    "duration": 6,
    "start_time": "2021-12-16T16:05:42.868Z"
   },
   {
    "duration": 6,
    "start_time": "2021-12-16T16:06:59.816Z"
   },
   {
    "duration": 6,
    "start_time": "2021-12-16T16:07:08.207Z"
   },
   {
    "duration": 5,
    "start_time": "2021-12-16T16:08:01.736Z"
   },
   {
    "duration": 292,
    "start_time": "2021-12-16T16:13:45.411Z"
   },
   {
    "duration": 6,
    "start_time": "2021-12-16T16:14:00.372Z"
   },
   {
    "duration": 8,
    "start_time": "2021-12-16T16:15:16.659Z"
   },
   {
    "duration": 7,
    "start_time": "2021-12-16T16:16:01.201Z"
   },
   {
    "duration": 623,
    "start_time": "2021-12-16T16:35:16.425Z"
   },
   {
    "duration": 620,
    "start_time": "2021-12-16T16:36:05.872Z"
   },
   {
    "duration": 732,
    "start_time": "2021-12-16T16:36:15.672Z"
   },
   {
    "duration": 282,
    "start_time": "2021-12-16T16:59:55.596Z"
   },
   {
    "duration": 523,
    "start_time": "2021-12-16T17:00:18.844Z"
   },
   {
    "duration": 6,
    "start_time": "2021-12-16T17:00:23.298Z"
   },
   {
    "duration": 296,
    "start_time": "2021-12-16T18:19:22.374Z"
   },
   {
    "duration": 1466,
    "start_time": "2021-12-16T18:19:31.704Z"
   },
   {
    "duration": 250,
    "start_time": "2021-12-16T18:19:33.172Z"
   },
   {
    "duration": 5,
    "start_time": "2021-12-16T18:19:33.424Z"
   },
   {
    "duration": 64,
    "start_time": "2021-12-16T18:19:33.463Z"
   },
   {
    "duration": 10,
    "start_time": "2021-12-16T18:19:33.529Z"
   },
   {
    "duration": 22,
    "start_time": "2021-12-16T18:19:33.541Z"
   },
   {
    "duration": 80,
    "start_time": "2021-12-16T18:19:33.565Z"
   },
   {
    "duration": 59,
    "start_time": "2021-12-16T18:19:33.647Z"
   },
   {
    "duration": 42,
    "start_time": "2021-12-16T18:19:33.708Z"
   },
   {
    "duration": 28,
    "start_time": "2021-12-16T18:19:33.751Z"
   },
   {
    "duration": 20,
    "start_time": "2021-12-16T18:19:33.781Z"
   },
   {
    "duration": 3,
    "start_time": "2021-12-16T18:19:33.803Z"
   },
   {
    "duration": 26,
    "start_time": "2021-12-16T18:19:33.807Z"
   },
   {
    "duration": 48,
    "start_time": "2021-12-16T18:19:33.834Z"
   },
   {
    "duration": 8,
    "start_time": "2021-12-16T18:19:33.884Z"
   },
   {
    "duration": 4,
    "start_time": "2021-12-16T18:19:33.893Z"
   },
   {
    "duration": 201,
    "start_time": "2021-12-16T18:19:33.899Z"
   },
   {
    "duration": 8,
    "start_time": "2021-12-16T18:19:34.102Z"
   },
   {
    "duration": 23,
    "start_time": "2021-12-16T18:19:34.112Z"
   },
   {
    "duration": 27,
    "start_time": "2021-12-16T18:19:34.137Z"
   },
   {
    "duration": 16,
    "start_time": "2021-12-16T18:19:34.166Z"
   },
   {
    "duration": 20,
    "start_time": "2021-12-16T18:19:34.184Z"
   },
   {
    "duration": 5,
    "start_time": "2021-12-16T18:19:34.209Z"
   },
   {
    "duration": 6,
    "start_time": "2021-12-16T18:19:34.216Z"
   },
   {
    "duration": 7,
    "start_time": "2021-12-16T18:19:34.223Z"
   },
   {
    "duration": 35,
    "start_time": "2021-12-16T18:19:34.231Z"
   },
   {
    "duration": 471,
    "start_time": "2021-12-16T18:19:34.267Z"
   },
   {
    "duration": 12,
    "start_time": "2021-12-16T18:19:34.740Z"
   },
   {
    "duration": 15,
    "start_time": "2021-12-16T18:19:34.754Z"
   },
   {
    "duration": 84,
    "start_time": "2021-12-16T18:19:34.770Z"
   },
   {
    "duration": 592,
    "start_time": "2021-12-16T18:19:34.856Z"
   },
   {
    "duration": 702,
    "start_time": "2021-12-16T18:19:35.450Z"
   },
   {
    "duration": 586,
    "start_time": "2021-12-16T18:19:36.153Z"
   },
   {
    "duration": 4,
    "start_time": "2021-12-16T18:19:36.741Z"
   },
   {
    "duration": 535,
    "start_time": "2021-12-16T18:23:23.100Z"
   },
   {
    "duration": 26,
    "start_time": "2021-12-16T18:23:53.172Z"
   },
   {
    "duration": 88,
    "start_time": "2021-12-16T18:24:43.562Z"
   },
   {
    "duration": 109,
    "start_time": "2021-12-16T18:24:51.305Z"
   },
   {
    "duration": 8,
    "start_time": "2021-12-16T18:26:05.472Z"
   },
   {
    "duration": 6913,
    "start_time": "2021-12-16T18:26:05.793Z"
   },
   {
    "duration": 6,
    "start_time": "2021-12-16T18:26:39.762Z"
   },
   {
    "duration": 11,
    "start_time": "2021-12-16T18:27:09.383Z"
   },
   {
    "duration": 5,
    "start_time": "2021-12-16T18:30:09.885Z"
   },
   {
    "duration": 319,
    "start_time": "2021-12-17T10:09:41.357Z"
   },
   {
    "duration": 1973,
    "start_time": "2021-12-17T10:09:59.240Z"
   },
   {
    "duration": 385,
    "start_time": "2021-12-17T10:10:01.217Z"
   },
   {
    "duration": 8,
    "start_time": "2021-12-17T10:10:01.605Z"
   },
   {
    "duration": 127,
    "start_time": "2021-12-17T10:10:01.615Z"
   },
   {
    "duration": 24,
    "start_time": "2021-12-17T10:10:01.744Z"
   },
   {
    "duration": 44,
    "start_time": "2021-12-17T10:10:01.770Z"
   },
   {
    "duration": 170,
    "start_time": "2021-12-17T10:10:01.816Z"
   },
   {
    "duration": 80,
    "start_time": "2021-12-17T10:10:01.989Z"
   },
   {
    "duration": 105,
    "start_time": "2021-12-17T10:10:02.072Z"
   },
   {
    "duration": 119,
    "start_time": "2021-12-17T10:10:02.181Z"
   },
   {
    "duration": 63,
    "start_time": "2021-12-17T10:10:02.303Z"
   },
   {
    "duration": 6,
    "start_time": "2021-12-17T10:10:02.369Z"
   },
   {
    "duration": 63,
    "start_time": "2021-12-17T10:10:02.378Z"
   },
   {
    "duration": 47,
    "start_time": "2021-12-17T10:10:02.443Z"
   },
   {
    "duration": 18,
    "start_time": "2021-12-17T10:10:02.492Z"
   },
   {
    "duration": 11,
    "start_time": "2021-12-17T10:10:02.513Z"
   },
   {
    "duration": 415,
    "start_time": "2021-12-17T10:10:02.527Z"
   },
   {
    "duration": 9,
    "start_time": "2021-12-17T10:10:02.945Z"
   },
   {
    "duration": 62,
    "start_time": "2021-12-17T10:10:02.957Z"
   },
   {
    "duration": 14,
    "start_time": "2021-12-17T10:10:03.022Z"
   },
   {
    "duration": 52,
    "start_time": "2021-12-17T10:10:03.038Z"
   },
   {
    "duration": 76,
    "start_time": "2021-12-17T10:10:03.093Z"
   },
   {
    "duration": 35,
    "start_time": "2021-12-17T10:10:03.174Z"
   },
   {
    "duration": 59,
    "start_time": "2021-12-17T10:10:03.212Z"
   },
   {
    "duration": 31,
    "start_time": "2021-12-17T10:10:03.273Z"
   },
   {
    "duration": 47,
    "start_time": "2021-12-17T10:10:03.306Z"
   },
   {
    "duration": 693,
    "start_time": "2021-12-17T10:10:03.355Z"
   },
   {
    "duration": 33,
    "start_time": "2021-12-17T10:10:04.050Z"
   },
   {
    "duration": 48,
    "start_time": "2021-12-17T10:10:04.086Z"
   },
   {
    "duration": 155,
    "start_time": "2021-12-17T10:10:04.137Z"
   },
   {
    "duration": 1134,
    "start_time": "2021-12-17T10:10:04.295Z"
   },
   {
    "duration": 1197,
    "start_time": "2021-12-17T10:10:05.431Z"
   },
   {
    "duration": 1100,
    "start_time": "2021-12-17T10:10:06.630Z"
   },
   {
    "duration": 7,
    "start_time": "2021-12-17T10:10:07.732Z"
   },
   {
    "duration": 38,
    "start_time": "2021-12-17T10:10:07.742Z"
   },
   {
    "duration": 9,
    "start_time": "2021-12-17T10:12:09.242Z"
   },
   {
    "duration": 419,
    "start_time": "2021-12-17T10:14:21.008Z"
   },
   {
    "duration": 7389,
    "start_time": "2021-12-17T10:14:49.360Z"
   },
   {
    "duration": 16,
    "start_time": "2021-12-17T10:15:12.073Z"
   },
   {
    "duration": 17,
    "start_time": "2021-12-17T10:19:12.420Z"
   },
   {
    "duration": 88,
    "start_time": "2021-12-17T10:25:15.032Z"
   },
   {
    "duration": 48,
    "start_time": "2021-12-17T10:33:08.601Z"
   },
   {
    "duration": 9,
    "start_time": "2021-12-17T10:33:18.282Z"
   },
   {
    "duration": 1922,
    "start_time": "2021-12-17T10:36:13.077Z"
   },
   {
    "duration": 387,
    "start_time": "2021-12-17T10:36:15.003Z"
   },
   {
    "duration": 8,
    "start_time": "2021-12-17T10:36:15.393Z"
   },
   {
    "duration": 123,
    "start_time": "2021-12-17T10:36:15.405Z"
   },
   {
    "duration": 14,
    "start_time": "2021-12-17T10:36:15.530Z"
   },
   {
    "duration": 21,
    "start_time": "2021-12-17T10:36:15.546Z"
   },
   {
    "duration": 133,
    "start_time": "2021-12-17T10:36:15.570Z"
   },
   {
    "duration": 85,
    "start_time": "2021-12-17T10:36:15.706Z"
   },
   {
    "duration": 80,
    "start_time": "2021-12-17T10:36:15.797Z"
   },
   {
    "duration": 35,
    "start_time": "2021-12-17T10:36:15.881Z"
   },
   {
    "duration": 67,
    "start_time": "2021-12-17T10:36:15.919Z"
   },
   {
    "duration": 5,
    "start_time": "2021-12-17T10:36:15.988Z"
   },
   {
    "duration": 44,
    "start_time": "2021-12-17T10:36:15.996Z"
   },
   {
    "duration": 60,
    "start_time": "2021-12-17T10:36:16.042Z"
   },
   {
    "duration": 13,
    "start_time": "2021-12-17T10:36:16.104Z"
   },
   {
    "duration": 5,
    "start_time": "2021-12-17T10:36:16.119Z"
   },
   {
    "duration": 389,
    "start_time": "2021-12-17T10:36:16.127Z"
   },
   {
    "duration": 6551,
    "start_time": "2021-12-17T10:36:16.518Z"
   },
   {
    "duration": 578,
    "start_time": "2021-12-17T10:36:22.494Z"
   },
   {
    "duration": 574,
    "start_time": "2021-12-17T10:36:22.499Z"
   },
   {
    "duration": 571,
    "start_time": "2021-12-17T10:36:22.503Z"
   },
   {
    "duration": 570,
    "start_time": "2021-12-17T10:36:22.506Z"
   },
   {
    "duration": 568,
    "start_time": "2021-12-17T10:36:22.509Z"
   },
   {
    "duration": 565,
    "start_time": "2021-12-17T10:36:22.513Z"
   },
   {
    "duration": 564,
    "start_time": "2021-12-17T10:36:22.516Z"
   },
   {
    "duration": 563,
    "start_time": "2021-12-17T10:36:22.518Z"
   },
   {
    "duration": 563,
    "start_time": "2021-12-17T10:36:22.521Z"
   },
   {
    "duration": 561,
    "start_time": "2021-12-17T10:36:22.524Z"
   },
   {
    "duration": 559,
    "start_time": "2021-12-17T10:36:22.528Z"
   },
   {
    "duration": 557,
    "start_time": "2021-12-17T10:36:22.531Z"
   },
   {
    "duration": 549,
    "start_time": "2021-12-17T10:36:22.541Z"
   },
   {
    "duration": 545,
    "start_time": "2021-12-17T10:36:22.546Z"
   },
   {
    "duration": 544,
    "start_time": "2021-12-17T10:36:22.549Z"
   },
   {
    "duration": 542,
    "start_time": "2021-12-17T10:36:22.552Z"
   },
   {
    "duration": 50,
    "start_time": "2021-12-17T10:36:46.374Z"
   },
   {
    "duration": 41,
    "start_time": "2021-12-17T10:36:48.349Z"
   },
   {
    "duration": 1972,
    "start_time": "2021-12-17T10:36:59.720Z"
   },
   {
    "duration": 397,
    "start_time": "2021-12-17T10:37:01.695Z"
   },
   {
    "duration": 9,
    "start_time": "2021-12-17T10:37:02.099Z"
   },
   {
    "duration": 136,
    "start_time": "2021-12-17T10:37:02.110Z"
   },
   {
    "duration": 20,
    "start_time": "2021-12-17T10:37:02.249Z"
   },
   {
    "duration": 61,
    "start_time": "2021-12-17T10:37:02.272Z"
   },
   {
    "duration": 149,
    "start_time": "2021-12-17T10:37:02.337Z"
   },
   {
    "duration": 79,
    "start_time": "2021-12-17T10:37:02.489Z"
   },
   {
    "duration": 64,
    "start_time": "2021-12-17T10:37:02.571Z"
   },
   {
    "duration": 53,
    "start_time": "2021-12-17T10:37:02.637Z"
   },
   {
    "duration": 36,
    "start_time": "2021-12-17T10:37:02.693Z"
   },
   {
    "duration": 9,
    "start_time": "2021-12-17T10:37:02.731Z"
   },
   {
    "duration": 71,
    "start_time": "2021-12-17T10:37:02.742Z"
   },
   {
    "duration": 38,
    "start_time": "2021-12-17T10:37:02.815Z"
   },
   {
    "duration": 12,
    "start_time": "2021-12-17T10:37:02.867Z"
   },
   {
    "duration": 34,
    "start_time": "2021-12-17T10:37:02.882Z"
   },
   {
    "duration": 380,
    "start_time": "2021-12-17T10:37:02.919Z"
   },
   {
    "duration": 10,
    "start_time": "2021-12-17T10:37:03.302Z"
   },
   {
    "duration": 62,
    "start_time": "2021-12-17T10:37:03.314Z"
   },
   {
    "duration": 9,
    "start_time": "2021-12-17T10:37:03.379Z"
   },
   {
    "duration": 65,
    "start_time": "2021-12-17T10:37:03.390Z"
   },
   {
    "duration": 44,
    "start_time": "2021-12-17T10:37:03.460Z"
   },
   {
    "duration": 40,
    "start_time": "2021-12-17T10:37:03.506Z"
   },
   {
    "duration": 45,
    "start_time": "2021-12-17T10:37:03.549Z"
   },
   {
    "duration": 43,
    "start_time": "2021-12-17T10:37:03.596Z"
   },
   {
    "duration": 41,
    "start_time": "2021-12-17T10:37:03.642Z"
   },
   {
    "duration": 628,
    "start_time": "2021-12-17T10:37:03.686Z"
   },
   {
    "duration": 19,
    "start_time": "2021-12-17T10:37:04.317Z"
   },
   {
    "duration": 47,
    "start_time": "2021-12-17T10:37:04.338Z"
   },
   {
    "duration": 1227,
    "start_time": "2021-12-17T10:37:04.389Z"
   },
   {
    "duration": 1199,
    "start_time": "2021-12-17T10:37:05.618Z"
   },
   {
    "duration": 1090,
    "start_time": "2021-12-17T10:37:06.819Z"
   },
   {
    "duration": 16,
    "start_time": "2021-12-17T10:37:07.911Z"
   },
   {
    "duration": 44,
    "start_time": "2021-12-17T10:37:07.931Z"
   },
   {
    "duration": 1948,
    "start_time": "2021-12-17T10:54:47.888Z"
   },
   {
    "duration": 471,
    "start_time": "2021-12-17T10:54:49.843Z"
   },
   {
    "duration": 8,
    "start_time": "2021-12-17T10:54:50.316Z"
   },
   {
    "duration": 130,
    "start_time": "2021-12-17T10:54:50.327Z"
   },
   {
    "duration": 17,
    "start_time": "2021-12-17T10:54:50.459Z"
   },
   {
    "duration": 14,
    "start_time": "2021-12-17T10:54:50.478Z"
   },
   {
    "duration": 170,
    "start_time": "2021-12-17T10:54:50.497Z"
   },
   {
    "duration": 110,
    "start_time": "2021-12-17T10:54:50.671Z"
   },
   {
    "duration": 104,
    "start_time": "2021-12-17T10:54:50.784Z"
   },
   {
    "duration": 52,
    "start_time": "2021-12-17T10:54:50.891Z"
   },
   {
    "duration": 58,
    "start_time": "2021-12-17T10:54:50.946Z"
   },
   {
    "duration": 5,
    "start_time": "2021-12-17T10:54:51.006Z"
   },
   {
    "duration": 79,
    "start_time": "2021-12-17T10:54:51.014Z"
   },
   {
    "duration": 41,
    "start_time": "2021-12-17T10:54:51.096Z"
   },
   {
    "duration": 33,
    "start_time": "2021-12-17T10:54:51.140Z"
   },
   {
    "duration": 8,
    "start_time": "2021-12-17T10:54:51.176Z"
   },
   {
    "duration": 382,
    "start_time": "2021-12-17T10:54:51.187Z"
   },
   {
    "duration": 10,
    "start_time": "2021-12-17T10:54:51.572Z"
   },
   {
    "duration": 44,
    "start_time": "2021-12-17T10:54:51.585Z"
   },
   {
    "duration": 37,
    "start_time": "2021-12-17T10:54:51.633Z"
   },
   {
    "duration": 30,
    "start_time": "2021-12-17T10:54:51.673Z"
   },
   {
    "duration": 25,
    "start_time": "2021-12-17T10:54:51.708Z"
   },
   {
    "duration": 10,
    "start_time": "2021-12-17T10:54:51.773Z"
   },
   {
    "duration": 17,
    "start_time": "2021-12-17T10:54:51.785Z"
   },
   {
    "duration": 16,
    "start_time": "2021-12-17T10:54:51.805Z"
   },
   {
    "duration": 16,
    "start_time": "2021-12-17T10:54:51.823Z"
   },
   {
    "duration": 737,
    "start_time": "2021-12-17T10:54:51.841Z"
   },
   {
    "duration": 26,
    "start_time": "2021-12-17T10:54:52.581Z"
   },
   {
    "duration": 20,
    "start_time": "2021-12-17T10:54:52.610Z"
   },
   {
    "duration": 1182,
    "start_time": "2021-12-17T10:54:52.632Z"
   },
   {
    "duration": 1268,
    "start_time": "2021-12-17T10:54:53.817Z"
   },
   {
    "duration": 1174,
    "start_time": "2021-12-17T10:54:55.088Z"
   },
   {
    "duration": 15,
    "start_time": "2021-12-17T10:54:56.267Z"
   },
   {
    "duration": 15,
    "start_time": "2021-12-17T10:54:56.285Z"
   },
   {
    "duration": 2065,
    "start_time": "2021-12-17T10:56:54.183Z"
   },
   {
    "duration": 431,
    "start_time": "2021-12-17T10:56:56.251Z"
   },
   {
    "duration": 8,
    "start_time": "2021-12-17T10:56:56.685Z"
   },
   {
    "duration": 158,
    "start_time": "2021-12-17T10:56:56.695Z"
   },
   {
    "duration": 17,
    "start_time": "2021-12-17T10:56:56.855Z"
   },
   {
    "duration": 35,
    "start_time": "2021-12-17T10:56:56.874Z"
   },
   {
    "duration": 144,
    "start_time": "2021-12-17T10:56:56.912Z"
   },
   {
    "duration": 83,
    "start_time": "2021-12-17T10:56:57.059Z"
   },
   {
    "duration": 79,
    "start_time": "2021-12-17T10:56:57.145Z"
   },
   {
    "duration": 46,
    "start_time": "2021-12-17T10:56:57.226Z"
   },
   {
    "duration": 37,
    "start_time": "2021-12-17T10:56:57.274Z"
   },
   {
    "duration": 6,
    "start_time": "2021-12-17T10:56:57.313Z"
   },
   {
    "duration": 73,
    "start_time": "2021-12-17T10:56:57.321Z"
   },
   {
    "duration": 39,
    "start_time": "2021-12-17T10:56:57.397Z"
   },
   {
    "duration": 34,
    "start_time": "2021-12-17T10:56:57.438Z"
   },
   {
    "duration": 5,
    "start_time": "2021-12-17T10:56:57.475Z"
   },
   {
    "duration": 376,
    "start_time": "2021-12-17T10:56:57.483Z"
   },
   {
    "duration": 12,
    "start_time": "2021-12-17T10:56:57.861Z"
   },
   {
    "duration": 57,
    "start_time": "2021-12-17T10:56:57.875Z"
   },
   {
    "duration": 10,
    "start_time": "2021-12-17T10:56:57.935Z"
   },
   {
    "duration": 61,
    "start_time": "2021-12-17T10:56:57.948Z"
   },
   {
    "duration": 31,
    "start_time": "2021-12-17T10:56:58.012Z"
   },
   {
    "duration": 17,
    "start_time": "2021-12-17T10:56:58.050Z"
   },
   {
    "duration": 32,
    "start_time": "2021-12-17T10:56:58.070Z"
   },
   {
    "duration": 29,
    "start_time": "2021-12-17T10:56:58.106Z"
   },
   {
    "duration": 23,
    "start_time": "2021-12-17T10:56:58.138Z"
   },
   {
    "duration": 601,
    "start_time": "2021-12-17T10:56:58.164Z"
   },
   {
    "duration": 20,
    "start_time": "2021-12-17T10:56:58.768Z"
   },
   {
    "duration": 18,
    "start_time": "2021-12-17T10:56:58.790Z"
   },
   {
    "duration": 1112,
    "start_time": "2021-12-17T10:56:58.810Z"
   },
   {
    "duration": 1232,
    "start_time": "2021-12-17T10:56:59.925Z"
   },
   {
    "duration": 1154,
    "start_time": "2021-12-17T10:57:01.168Z"
   },
   {
    "duration": 18,
    "start_time": "2021-12-17T10:57:02.325Z"
   },
   {
    "duration": 67,
    "start_time": "2021-12-17T10:57:02.345Z"
   },
   {
    "duration": 1870,
    "start_time": "2021-12-17T10:58:12.713Z"
   },
   {
    "duration": 389,
    "start_time": "2021-12-17T10:58:14.587Z"
   },
   {
    "duration": 8,
    "start_time": "2021-12-17T10:58:14.979Z"
   },
   {
    "duration": 119,
    "start_time": "2021-12-17T10:58:14.990Z"
   },
   {
    "duration": 12,
    "start_time": "2021-12-17T10:58:15.112Z"
   },
   {
    "duration": 15,
    "start_time": "2021-12-17T10:58:15.127Z"
   },
   {
    "duration": 131,
    "start_time": "2021-12-17T10:58:15.145Z"
   },
   {
    "duration": 65,
    "start_time": "2021-12-17T10:58:15.280Z"
   },
   {
    "duration": 76,
    "start_time": "2021-12-17T10:58:15.348Z"
   },
   {
    "duration": 54,
    "start_time": "2021-12-17T10:58:15.427Z"
   },
   {
    "duration": 36,
    "start_time": "2021-12-17T10:58:15.483Z"
   },
   {
    "duration": 5,
    "start_time": "2021-12-17T10:58:15.521Z"
   },
   {
    "duration": 76,
    "start_time": "2021-12-17T10:58:15.528Z"
   },
   {
    "duration": 7,
    "start_time": "2021-12-17T10:58:15.606Z"
   },
   {
    "duration": 18,
    "start_time": "2021-12-17T10:58:15.616Z"
   },
   {
    "duration": 5,
    "start_time": "2021-12-17T10:58:15.637Z"
   },
   {
    "duration": 364,
    "start_time": "2021-12-17T10:58:15.668Z"
   },
   {
    "duration": 9,
    "start_time": "2021-12-17T10:58:16.035Z"
   },
   {
    "duration": 52,
    "start_time": "2021-12-17T10:58:16.047Z"
   },
   {
    "duration": 9,
    "start_time": "2021-12-17T10:58:16.101Z"
   },
   {
    "duration": 34,
    "start_time": "2021-12-17T10:58:16.112Z"
   },
   {
    "duration": 39,
    "start_time": "2021-12-17T10:58:16.148Z"
   },
   {
    "duration": 7,
    "start_time": "2021-12-17T10:58:16.192Z"
   },
   {
    "duration": 11,
    "start_time": "2021-12-17T10:58:16.202Z"
   },
   {
    "duration": 13,
    "start_time": "2021-12-17T10:58:16.216Z"
   },
   {
    "duration": 40,
    "start_time": "2021-12-17T10:58:16.231Z"
   },
   {
    "duration": 555,
    "start_time": "2021-12-17T10:58:16.273Z"
   },
   {
    "duration": 37,
    "start_time": "2021-12-17T10:58:16.831Z"
   },
   {
    "duration": 17,
    "start_time": "2021-12-17T10:58:16.871Z"
   },
   {
    "duration": 1112,
    "start_time": "2021-12-17T10:58:16.890Z"
   },
   {
    "duration": 1203,
    "start_time": "2021-12-17T10:58:18.005Z"
   },
   {
    "duration": 1126,
    "start_time": "2021-12-17T10:58:19.211Z"
   },
   {
    "duration": 29,
    "start_time": "2021-12-17T10:58:20.339Z"
   },
   {
    "duration": 26,
    "start_time": "2021-12-17T10:58:20.370Z"
   },
   {
    "duration": 2620,
    "start_time": "2021-12-17T10:59:49.860Z"
   },
   {
    "duration": 410,
    "start_time": "2021-12-17T10:59:52.484Z"
   },
   {
    "duration": 8,
    "start_time": "2021-12-17T10:59:52.896Z"
   },
   {
    "duration": 130,
    "start_time": "2021-12-17T10:59:52.907Z"
   },
   {
    "duration": 12,
    "start_time": "2021-12-17T10:59:53.039Z"
   },
   {
    "duration": 42,
    "start_time": "2021-12-17T10:59:53.054Z"
   },
   {
    "duration": 143,
    "start_time": "2021-12-17T10:59:53.099Z"
   },
   {
    "duration": 76,
    "start_time": "2021-12-17T10:59:53.245Z"
   },
   {
    "duration": 78,
    "start_time": "2021-12-17T10:59:53.324Z"
   },
   {
    "duration": 33,
    "start_time": "2021-12-17T10:59:53.405Z"
   },
   {
    "duration": 60,
    "start_time": "2021-12-17T10:59:53.440Z"
   },
   {
    "duration": 5,
    "start_time": "2021-12-17T10:59:53.502Z"
   },
   {
    "duration": 76,
    "start_time": "2021-12-17T10:59:53.509Z"
   },
   {
    "duration": 14,
    "start_time": "2021-12-17T10:59:53.587Z"
   },
   {
    "duration": 53,
    "start_time": "2021-12-17T10:59:53.603Z"
   },
   {
    "duration": 24,
    "start_time": "2021-12-17T10:59:53.658Z"
   },
   {
    "duration": 408,
    "start_time": "2021-12-17T10:59:53.684Z"
   },
   {
    "duration": 10,
    "start_time": "2021-12-17T10:59:54.095Z"
   },
   {
    "duration": 61,
    "start_time": "2021-12-17T10:59:54.107Z"
   },
   {
    "duration": 11,
    "start_time": "2021-12-17T10:59:54.170Z"
   },
   {
    "duration": 43,
    "start_time": "2021-12-17T10:59:54.183Z"
   },
   {
    "duration": 31,
    "start_time": "2021-12-17T10:59:54.228Z"
   },
   {
    "duration": 7,
    "start_time": "2021-12-17T10:59:54.269Z"
   },
   {
    "duration": 12,
    "start_time": "2021-12-17T10:59:54.279Z"
   },
   {
    "duration": 19,
    "start_time": "2021-12-17T10:59:54.294Z"
   },
   {
    "duration": 20,
    "start_time": "2021-12-17T10:59:54.316Z"
   },
   {
    "duration": 570,
    "start_time": "2021-12-17T10:59:54.338Z"
   },
   {
    "duration": 19,
    "start_time": "2021-12-17T10:59:54.910Z"
   },
   {
    "duration": 36,
    "start_time": "2021-12-17T10:59:54.932Z"
   },
   {
    "duration": 1096,
    "start_time": "2021-12-17T10:59:54.971Z"
   },
   {
    "duration": 1301,
    "start_time": "2021-12-17T10:59:56.069Z"
   },
   {
    "duration": 1320,
    "start_time": "2021-12-17T10:59:57.373Z"
   },
   {
    "duration": 15,
    "start_time": "2021-12-17T10:59:58.695Z"
   },
   {
    "duration": 59,
    "start_time": "2021-12-17T10:59:58.713Z"
   },
   {
    "duration": 60,
    "start_time": "2021-12-18T06:17:04.931Z"
   },
   {
    "duration": 307,
    "start_time": "2021-12-18T10:28:00.027Z"
   },
   {
    "duration": 1947,
    "start_time": "2021-12-18T10:28:14.727Z"
   },
   {
    "duration": 364,
    "start_time": "2021-12-18T10:28:16.676Z"
   },
   {
    "duration": 8,
    "start_time": "2021-12-18T10:28:17.043Z"
   },
   {
    "duration": 127,
    "start_time": "2021-12-18T10:28:17.054Z"
   },
   {
    "duration": 16,
    "start_time": "2021-12-18T10:28:17.184Z"
   },
   {
    "duration": 419,
    "start_time": "2021-12-18T10:28:17.202Z"
   },
   {
    "duration": 2156,
    "start_time": "2021-12-18T10:28:15.470Z"
   },
   {
    "duration": 2141,
    "start_time": "2021-12-18T10:28:15.487Z"
   },
   {
    "duration": 2139,
    "start_time": "2021-12-18T10:28:15.491Z"
   },
   {
    "duration": 2135,
    "start_time": "2021-12-18T10:28:15.497Z"
   },
   {
    "duration": 2128,
    "start_time": "2021-12-18T10:28:15.506Z"
   },
   {
    "duration": 2127,
    "start_time": "2021-12-18T10:28:15.509Z"
   },
   {
    "duration": 2127,
    "start_time": "2021-12-18T10:28:15.511Z"
   },
   {
    "duration": 2125,
    "start_time": "2021-12-18T10:28:15.515Z"
   },
   {
    "duration": 2117,
    "start_time": "2021-12-18T10:28:15.525Z"
   },
   {
    "duration": 2115,
    "start_time": "2021-12-18T10:28:15.529Z"
   },
   {
    "duration": 2113,
    "start_time": "2021-12-18T10:28:15.533Z"
   },
   {
    "duration": 2107,
    "start_time": "2021-12-18T10:28:15.541Z"
   },
   {
    "duration": 2106,
    "start_time": "2021-12-18T10:28:15.545Z"
   },
   {
    "duration": 2105,
    "start_time": "2021-12-18T10:28:15.548Z"
   },
   {
    "duration": 2100,
    "start_time": "2021-12-18T10:28:15.556Z"
   },
   {
    "duration": 2099,
    "start_time": "2021-12-18T10:28:15.559Z"
   },
   {
    "duration": 2097,
    "start_time": "2021-12-18T10:28:15.563Z"
   },
   {
    "duration": 2082,
    "start_time": "2021-12-18T10:28:15.580Z"
   },
   {
    "duration": 2132,
    "start_time": "2021-12-18T10:28:15.584Z"
   },
   {
    "duration": 2126,
    "start_time": "2021-12-18T10:28:15.592Z"
   },
   {
    "duration": 2125,
    "start_time": "2021-12-18T10:28:15.595Z"
   },
   {
    "duration": 2123,
    "start_time": "2021-12-18T10:28:15.599Z"
   },
   {
    "duration": 2117,
    "start_time": "2021-12-18T10:28:15.607Z"
   },
   {
    "duration": 2116,
    "start_time": "2021-12-18T10:28:15.610Z"
   },
   {
    "duration": 2116,
    "start_time": "2021-12-18T10:28:15.612Z"
   },
   {
    "duration": 2114,
    "start_time": "2021-12-18T10:28:15.616Z"
   },
   {
    "duration": 2108,
    "start_time": "2021-12-18T10:28:15.624Z"
   },
   {
    "duration": 2107,
    "start_time": "2021-12-18T10:28:15.627Z"
   },
   {
    "duration": 2104,
    "start_time": "2021-12-18T10:28:15.632Z"
   },
   {
    "duration": 114,
    "start_time": "2021-12-18T10:28:41.829Z"
   },
   {
    "duration": 3,
    "start_time": "2021-12-18T10:30:09.116Z"
   },
   {
    "duration": 268,
    "start_time": "2021-12-18T10:30:31.627Z"
   },
   {
    "duration": 265,
    "start_time": "2021-12-18T10:30:37.770Z"
   },
   {
    "duration": 3,
    "start_time": "2021-12-18T10:30:39.778Z"
   },
   {
    "duration": 10,
    "start_time": "2021-12-18T10:30:40.099Z"
   },
   {
    "duration": 9,
    "start_time": "2021-12-18T10:31:22.193Z"
   },
   {
    "duration": 51,
    "start_time": "2021-12-18T10:31:32.170Z"
   },
   {
    "duration": 116,
    "start_time": "2021-12-18T10:31:35.642Z"
   },
   {
    "duration": 57,
    "start_time": "2021-12-18T10:31:39.362Z"
   },
   {
    "duration": 95,
    "start_time": "2021-12-18T10:33:49.456Z"
   },
   {
    "duration": 218,
    "start_time": "2021-12-18T10:35:52.120Z"
   },
   {
    "duration": 78,
    "start_time": "2021-12-18T10:37:06.965Z"
   },
   {
    "duration": 220,
    "start_time": "2021-12-18T10:37:13.014Z"
   },
   {
    "duration": 211,
    "start_time": "2021-12-18T10:37:59.255Z"
   },
   {
    "duration": 503,
    "start_time": "2021-12-18T10:39:58.715Z"
   },
   {
    "duration": 235,
    "start_time": "2021-12-18T10:40:03.603Z"
   },
   {
    "duration": 81,
    "start_time": "2021-12-18T10:41:12.994Z"
   },
   {
    "duration": 79,
    "start_time": "2021-12-18T10:41:19.794Z"
   },
   {
    "duration": 85,
    "start_time": "2021-12-18T10:41:23.329Z"
   },
   {
    "duration": 98,
    "start_time": "2021-12-18T10:42:03.738Z"
   },
   {
    "duration": 225,
    "start_time": "2021-12-18T10:42:14.451Z"
   },
   {
    "duration": 89,
    "start_time": "2021-12-18T10:43:47.136Z"
   },
   {
    "duration": 101,
    "start_time": "2021-12-18T10:44:01.057Z"
   },
   {
    "duration": 91,
    "start_time": "2021-12-18T10:44:05.840Z"
   },
   {
    "duration": 228,
    "start_time": "2021-12-18T10:44:20.095Z"
   },
   {
    "duration": 239,
    "start_time": "2021-12-18T10:46:52.693Z"
   },
   {
    "duration": 218,
    "start_time": "2021-12-18T10:48:29.020Z"
   },
   {
    "duration": 242,
    "start_time": "2021-12-18T10:48:45.804Z"
   },
   {
    "duration": 1917,
    "start_time": "2021-12-18T10:50:01.512Z"
   },
   {
    "duration": 358,
    "start_time": "2021-12-18T10:50:03.432Z"
   },
   {
    "duration": 7,
    "start_time": "2021-12-18T10:50:03.818Z"
   },
   {
    "duration": 123,
    "start_time": "2021-12-18T10:50:03.828Z"
   },
   {
    "duration": 15,
    "start_time": "2021-12-18T10:50:03.954Z"
   },
   {
    "duration": 5,
    "start_time": "2021-12-18T10:50:03.972Z"
   },
   {
    "duration": 258,
    "start_time": "2021-12-18T10:50:03.980Z"
   },
   {
    "duration": 7,
    "start_time": "2021-12-18T10:50:04.242Z"
   },
   {
    "duration": 125,
    "start_time": "2021-12-18T10:50:04.253Z"
   },
   {
    "duration": 71,
    "start_time": "2021-12-18T10:50:04.380Z"
   },
   {
    "duration": 74,
    "start_time": "2021-12-18T10:50:04.453Z"
   },
   {
    "duration": 28,
    "start_time": "2021-12-18T10:50:04.529Z"
   },
   {
    "duration": 26,
    "start_time": "2021-12-18T10:50:04.559Z"
   },
   {
    "duration": 30,
    "start_time": "2021-12-18T10:50:04.587Z"
   },
   {
    "duration": 31,
    "start_time": "2021-12-18T10:50:04.619Z"
   },
   {
    "duration": 6,
    "start_time": "2021-12-18T10:50:04.653Z"
   },
   {
    "duration": 14,
    "start_time": "2021-12-18T10:50:04.662Z"
   },
   {
    "duration": 5,
    "start_time": "2021-12-18T10:50:04.679Z"
   },
   {
    "duration": 354,
    "start_time": "2021-12-18T10:50:04.717Z"
   },
   {
    "duration": 8,
    "start_time": "2021-12-18T10:50:05.074Z"
   },
   {
    "duration": 38,
    "start_time": "2021-12-18T10:50:05.084Z"
   },
   {
    "duration": 8,
    "start_time": "2021-12-18T10:50:05.125Z"
   },
   {
    "duration": 24,
    "start_time": "2021-12-18T10:50:05.138Z"
   },
   {
    "duration": 53,
    "start_time": "2021-12-18T10:50:05.164Z"
   },
   {
    "duration": 11,
    "start_time": "2021-12-18T10:50:05.219Z"
   },
   {
    "duration": 21,
    "start_time": "2021-12-18T10:50:05.233Z"
   },
   {
    "duration": 15,
    "start_time": "2021-12-18T10:50:05.256Z"
   },
   {
    "duration": 20,
    "start_time": "2021-12-18T10:50:05.273Z"
   },
   {
    "duration": 540,
    "start_time": "2021-12-18T10:50:05.295Z"
   },
   {
    "duration": 19,
    "start_time": "2021-12-18T10:50:05.837Z"
   },
   {
    "duration": 16,
    "start_time": "2021-12-18T10:50:05.858Z"
   },
   {
    "duration": 1077,
    "start_time": "2021-12-18T10:50:05.876Z"
   },
   {
    "duration": 1205,
    "start_time": "2021-12-18T10:50:06.955Z"
   },
   {
    "duration": 1064,
    "start_time": "2021-12-18T10:50:08.162Z"
   },
   {
    "duration": 14,
    "start_time": "2021-12-18T10:50:09.229Z"
   },
   {
    "duration": 14,
    "start_time": "2021-12-18T10:50:09.245Z"
   },
   {
    "duration": 302,
    "start_time": "2021-12-18T14:25:27.150Z"
   },
   {
    "duration": 1367,
    "start_time": "2021-12-18T14:25:33.742Z"
   },
   {
    "duration": 207,
    "start_time": "2021-12-18T14:25:35.111Z"
   },
   {
    "duration": 5,
    "start_time": "2021-12-18T14:25:35.321Z"
   },
   {
    "duration": 77,
    "start_time": "2021-12-18T14:25:35.327Z"
   },
   {
    "duration": 8,
    "start_time": "2021-12-18T14:25:35.405Z"
   },
   {
    "duration": 6390,
    "start_time": "2021-12-18T14:25:35.414Z"
   },
   {
    "duration": 182,
    "start_time": "2021-12-18T14:25:41.625Z"
   },
   {
    "duration": 172,
    "start_time": "2021-12-18T14:25:41.636Z"
   },
   {
    "duration": 168,
    "start_time": "2021-12-18T14:25:41.640Z"
   },
   {
    "duration": 158,
    "start_time": "2021-12-18T14:25:41.651Z"
   },
   {
    "duration": 155,
    "start_time": "2021-12-18T14:25:41.655Z"
   },
   {
    "duration": 153,
    "start_time": "2021-12-18T14:25:41.658Z"
   },
   {
    "duration": 143,
    "start_time": "2021-12-18T14:25:41.668Z"
   },
   {
    "duration": 139,
    "start_time": "2021-12-18T14:25:41.673Z"
   },
   {
    "duration": 130,
    "start_time": "2021-12-18T14:25:41.683Z"
   },
   {
    "duration": 125,
    "start_time": "2021-12-18T14:25:41.688Z"
   },
   {
    "duration": 122,
    "start_time": "2021-12-18T14:25:41.692Z"
   },
   {
    "duration": 113,
    "start_time": "2021-12-18T14:25:41.702Z"
   },
   {
    "duration": 108,
    "start_time": "2021-12-18T14:25:41.708Z"
   },
   {
    "duration": 99,
    "start_time": "2021-12-18T14:25:41.717Z"
   },
   {
    "duration": 95,
    "start_time": "2021-12-18T14:25:41.722Z"
   },
   {
    "duration": 91,
    "start_time": "2021-12-18T14:25:41.727Z"
   },
   {
    "duration": 89,
    "start_time": "2021-12-18T14:25:41.729Z"
   },
   {
    "duration": 86,
    "start_time": "2021-12-18T14:25:41.733Z"
   },
   {
    "duration": 84,
    "start_time": "2021-12-18T14:25:41.736Z"
   },
   {
    "duration": 80,
    "start_time": "2021-12-18T14:25:41.740Z"
   },
   {
    "duration": 78,
    "start_time": "2021-12-18T14:25:41.743Z"
   },
   {
    "duration": 76,
    "start_time": "2021-12-18T14:25:41.746Z"
   },
   {
    "duration": 73,
    "start_time": "2021-12-18T14:25:41.749Z"
   },
   {
    "duration": 71,
    "start_time": "2021-12-18T14:25:41.752Z"
   },
   {
    "duration": 69,
    "start_time": "2021-12-18T14:25:41.755Z"
   },
   {
    "duration": 67,
    "start_time": "2021-12-18T14:25:41.758Z"
   },
   {
    "duration": 65,
    "start_time": "2021-12-18T14:25:41.761Z"
   },
   {
    "duration": 62,
    "start_time": "2021-12-18T14:25:41.764Z"
   },
   {
    "duration": 60,
    "start_time": "2021-12-18T14:25:41.767Z"
   },
   {
    "duration": 58,
    "start_time": "2021-12-18T14:25:41.770Z"
   },
   {
    "duration": 56,
    "start_time": "2021-12-18T14:25:41.773Z"
   },
   {
    "duration": 7,
    "start_time": "2021-12-18T14:26:23.461Z"
   },
   {
    "duration": 6,
    "start_time": "2021-12-18T14:26:42.067Z"
   },
   {
    "duration": 6,
    "start_time": "2021-12-18T14:28:45.906Z"
   },
   {
    "duration": 6,
    "start_time": "2021-12-18T14:30:19.688Z"
   },
   {
    "duration": 6,
    "start_time": "2021-12-18T14:30:28.952Z"
   },
   {
    "duration": 5,
    "start_time": "2021-12-18T14:32:23.784Z"
   },
   {
    "duration": 3,
    "start_time": "2021-12-18T14:32:25.846Z"
   },
   {
    "duration": 134,
    "start_time": "2021-12-18T14:32:26.118Z"
   },
   {
    "duration": 1307,
    "start_time": "2021-12-18T14:32:47.896Z"
   },
   {
    "duration": 216,
    "start_time": "2021-12-18T14:32:49.205Z"
   },
   {
    "duration": 5,
    "start_time": "2021-12-18T14:32:49.423Z"
   },
   {
    "duration": 80,
    "start_time": "2021-12-18T14:32:49.430Z"
   },
   {
    "duration": 7,
    "start_time": "2021-12-18T14:32:49.513Z"
   },
   {
    "duration": 9,
    "start_time": "2021-12-18T14:32:49.522Z"
   },
   {
    "duration": 7,
    "start_time": "2021-12-18T14:32:49.532Z"
   },
   {
    "duration": 153,
    "start_time": "2021-12-18T14:32:49.541Z"
   },
   {
    "duration": 5,
    "start_time": "2021-12-18T14:32:49.697Z"
   },
   {
    "duration": 65,
    "start_time": "2021-12-18T14:32:49.704Z"
   },
   {
    "duration": 40,
    "start_time": "2021-12-18T14:32:49.788Z"
   },
   {
    "duration": 38,
    "start_time": "2021-12-18T14:32:49.830Z"
   },
   {
    "duration": 34,
    "start_time": "2021-12-18T14:32:49.870Z"
   },
   {
    "duration": 15,
    "start_time": "2021-12-18T14:32:49.905Z"
   },
   {
    "duration": 3,
    "start_time": "2021-12-18T14:32:49.921Z"
   },
   {
    "duration": 27,
    "start_time": "2021-12-18T14:32:49.925Z"
   },
   {
    "duration": 5,
    "start_time": "2021-12-18T14:32:49.953Z"
   },
   {
    "duration": 19,
    "start_time": "2021-12-18T14:32:49.959Z"
   },
   {
    "duration": 9,
    "start_time": "2021-12-18T14:32:49.979Z"
   },
   {
    "duration": 201,
    "start_time": "2021-12-18T14:32:49.990Z"
   },
   {
    "duration": 7,
    "start_time": "2021-12-18T14:32:50.193Z"
   },
   {
    "duration": 29,
    "start_time": "2021-12-18T14:32:50.202Z"
   },
   {
    "duration": 17,
    "start_time": "2021-12-18T14:32:50.235Z"
   },
   {
    "duration": 28,
    "start_time": "2021-12-18T14:32:50.254Z"
   },
   {
    "duration": 33,
    "start_time": "2021-12-18T14:32:50.283Z"
   },
   {
    "duration": 6,
    "start_time": "2021-12-18T14:32:50.317Z"
   },
   {
    "duration": 20,
    "start_time": "2021-12-18T14:32:50.325Z"
   },
   {
    "duration": 22,
    "start_time": "2021-12-18T14:32:50.346Z"
   },
   {
    "duration": 43,
    "start_time": "2021-12-18T14:32:50.369Z"
   },
   {
    "duration": 462,
    "start_time": "2021-12-18T14:32:50.414Z"
   },
   {
    "duration": 11,
    "start_time": "2021-12-18T14:32:50.878Z"
   },
   {
    "duration": 18,
    "start_time": "2021-12-18T14:32:50.891Z"
   },
   {
    "duration": 570,
    "start_time": "2021-12-18T14:32:50.910Z"
   },
   {
    "duration": 648,
    "start_time": "2021-12-18T14:32:51.481Z"
   },
   {
    "duration": 699,
    "start_time": "2021-12-18T14:32:52.130Z"
   },
   {
    "duration": 9,
    "start_time": "2021-12-18T14:32:52.831Z"
   },
   {
    "duration": 10,
    "start_time": "2021-12-18T14:32:52.841Z"
   },
   {
    "duration": 11,
    "start_time": "2021-12-18T14:33:53.704Z"
   },
   {
    "duration": 17,
    "start_time": "2021-12-18T14:34:00.561Z"
   },
   {
    "duration": 1322,
    "start_time": "2021-12-18T14:34:08.076Z"
   },
   {
    "duration": 225,
    "start_time": "2021-12-18T14:34:09.400Z"
   },
   {
    "duration": 6,
    "start_time": "2021-12-18T14:34:09.630Z"
   },
   {
    "duration": 92,
    "start_time": "2021-12-18T14:34:09.638Z"
   },
   {
    "duration": 8,
    "start_time": "2021-12-18T14:34:09.732Z"
   },
   {
    "duration": 15,
    "start_time": "2021-12-18T14:34:09.741Z"
   },
   {
    "duration": 3,
    "start_time": "2021-12-18T14:34:09.759Z"
   },
   {
    "duration": 156,
    "start_time": "2021-12-18T14:34:09.764Z"
   },
   {
    "duration": 4,
    "start_time": "2021-12-18T14:34:09.922Z"
   },
   {
    "duration": 82,
    "start_time": "2021-12-18T14:34:09.927Z"
   },
   {
    "duration": 41,
    "start_time": "2021-12-18T14:34:10.011Z"
   },
   {
    "duration": 51,
    "start_time": "2021-12-18T14:34:10.054Z"
   },
   {
    "duration": 16,
    "start_time": "2021-12-18T14:34:10.107Z"
   },
   {
    "duration": 16,
    "start_time": "2021-12-18T14:34:10.124Z"
   },
   {
    "duration": 3,
    "start_time": "2021-12-18T14:34:10.141Z"
   },
   {
    "duration": 46,
    "start_time": "2021-12-18T14:34:10.146Z"
   },
   {
    "duration": 4,
    "start_time": "2021-12-18T14:34:10.194Z"
   },
   {
    "duration": 7,
    "start_time": "2021-12-18T14:34:10.200Z"
   },
   {
    "duration": 9,
    "start_time": "2021-12-18T14:34:10.208Z"
   },
   {
    "duration": 212,
    "start_time": "2021-12-18T14:34:10.218Z"
   },
   {
    "duration": 8,
    "start_time": "2021-12-18T14:34:10.431Z"
   },
   {
    "duration": 13,
    "start_time": "2021-12-18T14:34:10.442Z"
   },
   {
    "duration": 5,
    "start_time": "2021-12-18T14:34:10.457Z"
   },
   {
    "duration": 28,
    "start_time": "2021-12-18T14:34:10.464Z"
   },
   {
    "duration": 15,
    "start_time": "2021-12-18T14:34:10.493Z"
   },
   {
    "duration": 6,
    "start_time": "2021-12-18T14:34:10.509Z"
   },
   {
    "duration": 22,
    "start_time": "2021-12-18T14:34:10.517Z"
   },
   {
    "duration": 14,
    "start_time": "2021-12-18T14:34:10.541Z"
   },
   {
    "duration": 9,
    "start_time": "2021-12-18T14:34:10.556Z"
   },
   {
    "duration": 451,
    "start_time": "2021-12-18T14:34:10.566Z"
   },
   {
    "duration": 13,
    "start_time": "2021-12-18T14:34:11.019Z"
   },
   {
    "duration": 10,
    "start_time": "2021-12-18T14:34:11.033Z"
   },
   {
    "duration": 581,
    "start_time": "2021-12-18T14:34:11.045Z"
   },
   {
    "duration": 635,
    "start_time": "2021-12-18T14:34:11.628Z"
   },
   {
    "duration": 568,
    "start_time": "2021-12-18T14:34:12.264Z"
   },
   {
    "duration": 9,
    "start_time": "2021-12-18T14:34:12.834Z"
   },
   {
    "duration": 9,
    "start_time": "2021-12-18T14:34:12.844Z"
   },
   {
    "duration": 276,
    "start_time": "2021-12-22T08:04:44.561Z"
   }
  ],
  "kernelspec": {
   "display_name": "Python 3 (ipykernel)",
   "language": "python",
   "name": "python3"
  },
  "language_info": {
   "codemirror_mode": {
    "name": "ipython",
    "version": 3
   },
   "file_extension": ".py",
   "mimetype": "text/x-python",
   "name": "python",
   "nbconvert_exporter": "python",
   "pygments_lexer": "ipython3",
   "version": "3.9.7"
  },
  "toc": {
   "base_numbering": 1,
   "nav_menu": {},
   "number_sections": true,
   "sideBar": true,
   "skip_h1_title": true,
   "title_cell": "Содержание",
   "title_sidebar": "Содержание",
   "toc_cell": true,
   "toc_position": {
    "height": "calc(100% - 180px)",
    "left": "10px",
    "top": "150px",
    "width": "366.391px"
   },
   "toc_section_display": true,
   "toc_window_display": false
  }
 },
 "nbformat": 4,
 "nbformat_minor": 2
}
